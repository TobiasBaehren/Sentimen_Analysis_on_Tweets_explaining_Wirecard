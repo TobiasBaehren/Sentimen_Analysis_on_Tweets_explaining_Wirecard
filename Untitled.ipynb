{
 "cells": [
  {
   "cell_type": "markdown",
   "id": "9925edf2-2f8f-43db-9471-61bbe4a83321",
   "metadata": {},
   "source": [
    "<h1>This is a test</h1>"
   ]
  },
  {
   "cell_type": "code",
   "execution_count": 1,
   "id": "8e8c568a-f3fc-4f10-805d-db422e1c6db7",
   "metadata": {},
   "outputs": [],
   "source": [
    "import numpy as np\n",
    "import csv\n",
    "import pandas as pd"
   ]
  },
  {
   "cell_type": "code",
   "execution_count": 3,
   "id": "9682aeee-71a4-4720-aa70-990dfb41dfc3",
   "metadata": {},
   "outputs": [],
   "source": [
    "df = pd.read_csv(\"data/Manager_DE/data.csv\", sep=\";\")"
   ]
  },
  {
   "cell_type": "code",
   "execution_count": 9,
   "id": "e68231f5-3f90-4411-9d90-228ecb33afea",
   "metadata": {},
   "outputs": [
    {
     "data": {
      "text/html": [
       "<div>\n",
       "<style scoped>\n",
       "    .dataframe tbody tr th:only-of-type {\n",
       "        vertical-align: middle;\n",
       "    }\n",
       "\n",
       "    .dataframe tbody tr th {\n",
       "        vertical-align: top;\n",
       "    }\n",
       "\n",
       "    .dataframe thead th {\n",
       "        text-align: right;\n",
       "    }\n",
       "</style>\n",
       "<table border=\"1\" class=\"dataframe\">\n",
       "  <thead>\n",
       "    <tr style=\"text-align: right;\">\n",
       "      <th></th>\n",
       "      <th>conversation_id</th>\n",
       "      <th>author_id</th>\n",
       "      <th>created_at</th>\n",
       "      <th>tweet_id</th>\n",
       "      <th>lang</th>\n",
       "      <th>retweet_count</th>\n",
       "      <th>reply_count</th>\n",
       "      <th>like_count</th>\n",
       "      <th>quote_count</th>\n",
       "      <th>source</th>\n",
       "      <th>tweet_type</th>\n",
       "      <th>referenced_tweet_id</th>\n",
       "      <th>text</th>\n",
       "    </tr>\n",
       "  </thead>\n",
       "  <tbody>\n",
       "    <tr>\n",
       "      <th>0</th>\n",
       "      <td>703311366262800384</td>\n",
       "      <td>1392131804</td>\n",
       "      <td>2016-02-26 20:11:11+00:00</td>\n",
       "      <td>703311366262800384</td>\n",
       "      <td>de</td>\n",
       "      <td>0</td>\n",
       "      <td>0</td>\n",
       "      <td>2</td>\n",
       "      <td>0</td>\n",
       "      <td>Twitter Web Client</td>\n",
       "      <td>[None]</td>\n",
       "      <td>[None]</td>\n",
       "      <td>#Wirecard-Chef Markus Braun pumpt irrwitzige S...</td>\n",
       "    </tr>\n",
       "    <tr>\n",
       "      <th>1</th>\n",
       "      <td>702405572012974080</td>\n",
       "      <td>1053723204</td>\n",
       "      <td>2016-02-24 08:11:53+00:00</td>\n",
       "      <td>702405572012974080</td>\n",
       "      <td>de</td>\n",
       "      <td>0</td>\n",
       "      <td>0</td>\n",
       "      <td>0</td>\n",
       "      <td>0</td>\n",
       "      <td>Twitter Web Client</td>\n",
       "      <td>[None]</td>\n",
       "      <td>[None]</td>\n",
       "      <td>Jetzt günstig einsammeln und später absahnen? ...</td>\n",
       "    </tr>\n",
       "    <tr>\n",
       "      <th>2</th>\n",
       "      <td>701784983829143553</td>\n",
       "      <td>554491983</td>\n",
       "      <td>2016-02-22 15:05:53+00:00</td>\n",
       "      <td>701784983829143553</td>\n",
       "      <td>de</td>\n",
       "      <td>0</td>\n",
       "      <td>0</td>\n",
       "      <td>0</td>\n",
       "      <td>0</td>\n",
       "      <td>Facebook</td>\n",
       "      <td>[None]</td>\n",
       "      <td>[None]</td>\n",
       "      <td>Morgen startet die neue Reihe R²-JazzCube! Vol...</td>\n",
       "    </tr>\n",
       "    <tr>\n",
       "      <th>3</th>\n",
       "      <td>701446667170615296</td>\n",
       "      <td>3365669884</td>\n",
       "      <td>2016-02-21 16:41:32+00:00</td>\n",
       "      <td>701446667170615296</td>\n",
       "      <td>de</td>\n",
       "      <td>0</td>\n",
       "      <td>0</td>\n",
       "      <td>1</td>\n",
       "      <td>0</td>\n",
       "      <td>Twitter Web Client</td>\n",
       "      <td>[None]</td>\n",
       "      <td>[None]</td>\n",
       "      <td>die Y-Achse des  #prusai3 nimmt Formen an :-) ...</td>\n",
       "    </tr>\n",
       "    <tr>\n",
       "      <th>4</th>\n",
       "      <td>700597812556386304</td>\n",
       "      <td>4858383167</td>\n",
       "      <td>2016-02-19 08:28:29+00:00</td>\n",
       "      <td>700597812556386304</td>\n",
       "      <td>de</td>\n",
       "      <td>2</td>\n",
       "      <td>0</td>\n",
       "      <td>0</td>\n",
       "      <td>0</td>\n",
       "      <td>Twitter for iPhone</td>\n",
       "      <td>['retweeted']</td>\n",
       "      <td>['700578193334411264']</td>\n",
       "      <td>RT @aktionaer: #Wirecard: Was führt der Vorsta...</td>\n",
       "    </tr>\n",
       "  </tbody>\n",
       "</table>\n",
       "</div>"
      ],
      "text/plain": [
       "      conversation_id   author_id                 created_at  \\\n",
       "0  703311366262800384  1392131804  2016-02-26 20:11:11+00:00   \n",
       "1  702405572012974080  1053723204  2016-02-24 08:11:53+00:00   \n",
       "2  701784983829143553   554491983  2016-02-22 15:05:53+00:00   \n",
       "3  701446667170615296  3365669884  2016-02-21 16:41:32+00:00   \n",
       "4  700597812556386304  4858383167  2016-02-19 08:28:29+00:00   \n",
       "\n",
       "             tweet_id lang  retweet_count  reply_count  like_count  \\\n",
       "0  703311366262800384   de              0            0           2   \n",
       "1  702405572012974080   de              0            0           0   \n",
       "2  701784983829143553   de              0            0           0   \n",
       "3  701446667170615296   de              0            0           1   \n",
       "4  700597812556386304   de              2            0           0   \n",
       "\n",
       "   quote_count              source     tweet_type     referenced_tweet_id  \\\n",
       "0            0  Twitter Web Client         [None]                  [None]   \n",
       "1            0  Twitter Web Client         [None]                  [None]   \n",
       "2            0            Facebook         [None]                  [None]   \n",
       "3            0  Twitter Web Client         [None]                  [None]   \n",
       "4            0  Twitter for iPhone  ['retweeted']  ['700578193334411264']   \n",
       "\n",
       "                                                text  \n",
       "0  #Wirecard-Chef Markus Braun pumpt irrwitzige S...  \n",
       "1  Jetzt günstig einsammeln und später absahnen? ...  \n",
       "2  Morgen startet die neue Reihe R²-JazzCube! Vol...  \n",
       "3  die Y-Achse des  #prusai3 nimmt Formen an :-) ...  \n",
       "4  RT @aktionaer: #Wirecard: Was führt der Vorsta...  "
      ]
     },
     "execution_count": 9,
     "metadata": {},
     "output_type": "execute_result"
    }
   ],
   "source": [
    "df.head()"
   ]
  },
  {
   "cell_type": "code",
   "execution_count": 11,
   "id": "42d13014-1d0e-4458-bd87-21f16ff33006",
   "metadata": {},
   "outputs": [
    {
     "data": {
      "text/plain": [
       "14308"
      ]
     },
     "execution_count": 11,
     "metadata": {},
     "output_type": "execute_result"
    }
   ],
   "source": [
    "len(df)"
   ]
  },
  {
   "cell_type": "markdown",
   "id": "95973edb-52ca-4a15-ae8e-f5d8a05b1c49",
   "metadata": {},
   "source": [
    "<h2>Test</h2>\n"
   ]
  },
  {
   "cell_type": "code",
   "execution_count": 14,
   "id": "fa56448b-0ddd-40a7-bd9a-19ee6872bd9d",
   "metadata": {},
   "outputs": [
    {
     "data": {
      "text/html": [
       "<div>\n",
       "<style scoped>\n",
       "    .dataframe tbody tr th:only-of-type {\n",
       "        vertical-align: middle;\n",
       "    }\n",
       "\n",
       "    .dataframe tbody tr th {\n",
       "        vertical-align: top;\n",
       "    }\n",
       "\n",
       "    .dataframe thead th {\n",
       "        text-align: right;\n",
       "    }\n",
       "</style>\n",
       "<table border=\"1\" class=\"dataframe\">\n",
       "  <thead>\n",
       "    <tr style=\"text-align: right;\">\n",
       "      <th></th>\n",
       "      <th>conversation_id</th>\n",
       "      <th>author_id</th>\n",
       "      <th>created_at</th>\n",
       "      <th>tweet_id</th>\n",
       "      <th>lang</th>\n",
       "      <th>retweet_count</th>\n",
       "      <th>reply_count</th>\n",
       "      <th>like_count</th>\n",
       "      <th>quote_count</th>\n",
       "      <th>source</th>\n",
       "      <th>tweet_type</th>\n",
       "      <th>referenced_tweet_id</th>\n",
       "      <th>text</th>\n",
       "    </tr>\n",
       "  </thead>\n",
       "  <tbody>\n",
       "    <tr>\n",
       "      <th>14303</th>\n",
       "      <td>1278189179327954944</td>\n",
       "      <td>212758794</td>\n",
       "      <td>2020-07-01 04:50:22+00:00</td>\n",
       "      <td>1278189179327954944</td>\n",
       "      <td>de</td>\n",
       "      <td>0</td>\n",
       "      <td>0</td>\n",
       "      <td>0</td>\n",
       "      <td>0</td>\n",
       "      <td>Twitter Web App</td>\n",
       "      <td>[None]</td>\n",
       "      <td>[None]</td>\n",
       "      <td>#Wirecard wird womöglich gestückelt an Investo...</td>\n",
       "    </tr>\n",
       "    <tr>\n",
       "      <th>14304</th>\n",
       "      <td>1278182059572432896</td>\n",
       "      <td>58417079</td>\n",
       "      <td>2020-07-01 04:22:05+00:00</td>\n",
       "      <td>1278182059572432896</td>\n",
       "      <td>de</td>\n",
       "      <td>0</td>\n",
       "      <td>0</td>\n",
       "      <td>1</td>\n",
       "      <td>0</td>\n",
       "      <td>LinkedIn</td>\n",
       "      <td>[None]</td>\n",
       "      <td>[None]</td>\n",
       "      <td>Das Ende eines großen Traums zeichnet sich ab....</td>\n",
       "    </tr>\n",
       "    <tr>\n",
       "      <th>14305</th>\n",
       "      <td>1278164531613782017</td>\n",
       "      <td>386165847</td>\n",
       "      <td>2020-07-01 03:12:26+00:00</td>\n",
       "      <td>1278164531613782017</td>\n",
       "      <td>de</td>\n",
       "      <td>0</td>\n",
       "      <td>0</td>\n",
       "      <td>0</td>\n",
       "      <td>0</td>\n",
       "      <td>IFTTT</td>\n",
       "      <td>[None]</td>\n",
       "      <td>[None]</td>\n",
       "      <td>Wirecard kündigt Markus Braun, Insolvenzverwal...</td>\n",
       "    </tr>\n",
       "    <tr>\n",
       "      <th>14306</th>\n",
       "      <td>1278158825661566979</td>\n",
       "      <td>1245423304304926727</td>\n",
       "      <td>2020-07-01 02:49:45+00:00</td>\n",
       "      <td>1278158825661566979</td>\n",
       "      <td>de</td>\n",
       "      <td>0</td>\n",
       "      <td>0</td>\n",
       "      <td>0</td>\n",
       "      <td>0</td>\n",
       "      <td>Blog2Social APP</td>\n",
       "      <td>[None]</td>\n",
       "      <td>[None]</td>\n",
       "      <td>Kündigung für Markus Braun: Der Aufsichtsrat v...</td>\n",
       "    </tr>\n",
       "    <tr>\n",
       "      <th>14307</th>\n",
       "      <td>1278150802956324864</td>\n",
       "      <td>163466981</td>\n",
       "      <td>2020-07-01 02:17:52+00:00</td>\n",
       "      <td>1278150802956324864</td>\n",
       "      <td>de</td>\n",
       "      <td>0</td>\n",
       "      <td>0</td>\n",
       "      <td>0</td>\n",
       "      <td>0</td>\n",
       "      <td>Aktien</td>\n",
       "      <td>[None]</td>\n",
       "      <td>[None]</td>\n",
       "      <td>DGAP-Adhoc: Wirecard AG: Kündigung Anstellungs...</td>\n",
       "    </tr>\n",
       "  </tbody>\n",
       "</table>\n",
       "</div>"
      ],
      "text/plain": [
       "           conversation_id            author_id                 created_at  \\\n",
       "14303  1278189179327954944            212758794  2020-07-01 04:50:22+00:00   \n",
       "14304  1278182059572432896             58417079  2020-07-01 04:22:05+00:00   \n",
       "14305  1278164531613782017            386165847  2020-07-01 03:12:26+00:00   \n",
       "14306  1278158825661566979  1245423304304926727  2020-07-01 02:49:45+00:00   \n",
       "14307  1278150802956324864            163466981  2020-07-01 02:17:52+00:00   \n",
       "\n",
       "                  tweet_id lang  retweet_count  reply_count  like_count  \\\n",
       "14303  1278189179327954944   de              0            0           0   \n",
       "14304  1278182059572432896   de              0            0           1   \n",
       "14305  1278164531613782017   de              0            0           0   \n",
       "14306  1278158825661566979   de              0            0           0   \n",
       "14307  1278150802956324864   de              0            0           0   \n",
       "\n",
       "       quote_count           source tweet_type referenced_tweet_id  \\\n",
       "14303            0  Twitter Web App     [None]              [None]   \n",
       "14304            0         LinkedIn     [None]              [None]   \n",
       "14305            0            IFTTT     [None]              [None]   \n",
       "14306            0  Blog2Social APP     [None]              [None]   \n",
       "14307            0           Aktien     [None]              [None]   \n",
       "\n",
       "                                                    text  \n",
       "14303  #Wirecard wird womöglich gestückelt an Investo...  \n",
       "14304  Das Ende eines großen Traums zeichnet sich ab....  \n",
       "14305  Wirecard kündigt Markus Braun, Insolvenzverwal...  \n",
       "14306  Kündigung für Markus Braun: Der Aufsichtsrat v...  \n",
       "14307  DGAP-Adhoc: Wirecard AG: Kündigung Anstellungs...  "
      ]
     },
     "execution_count": 14,
     "metadata": {},
     "output_type": "execute_result"
    }
   ],
   "source": [
    "df.tail()"
   ]
  },
  {
   "cell_type": "code",
   "execution_count": 26,
   "id": "80914d52-89a1-4ac2-b6b2-7da9cbdb3b87",
   "metadata": {},
   "outputs": [
    {
     "data": {
      "text/plain": [
       "'Jetzt günstig einsammeln und später absahnen? Das Motto von Markus Braun, CEO von #Wirecard? #TecDAX #Insider #WasMachtDerDA #WerHatDerKann'"
      ]
     },
     "execution_count": 26,
     "metadata": {},
     "output_type": "execute_result"
    }
   ],
   "source": [
    "df.iloc[1,-1]"
   ]
  },
  {
   "cell_type": "code",
   "execution_count": 31,
   "id": "aa7ef1e1-5518-458f-8495-8a43c11afc1b",
   "metadata": {},
   "outputs": [
    {
     "data": {
      "text/plain": [
       "14308"
      ]
     },
     "execution_count": 31,
     "metadata": {},
     "output_type": "execute_result"
    }
   ],
   "source": [
    "len(df[\"author_id\"])"
   ]
  },
  {
   "cell_type": "code",
   "execution_count": null,
   "id": "cad6e3df-b2e1-420d-ae1c-834417ef0231",
   "metadata": {},
   "outputs": [],
   "source": []
  },
  {
   "cell_type": "markdown",
   "id": "056584f9-2acf-4fb6-9258-75dff387ca36",
   "metadata": {},
   "source": [
    "<h3>Test3</h3>"
   ]
  }
 ],
 "metadata": {
  "kernelspec": {
   "display_name": "master_thesis_3.9.10",
   "language": "python",
   "name": "master_thesis_3.9.10"
  },
  "language_info": {
   "codemirror_mode": {
    "name": "ipython",
    "version": 3
   },
   "file_extension": ".py",
   "mimetype": "text/x-python",
   "name": "python",
   "nbconvert_exporter": "python",
   "pygments_lexer": "ipython3",
   "version": "3.9.10"
  }
 },
 "nbformat": 4,
 "nbformat_minor": 5
}
