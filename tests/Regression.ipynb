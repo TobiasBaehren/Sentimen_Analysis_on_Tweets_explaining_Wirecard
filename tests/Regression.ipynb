{
 "cells": [
  {
   "cell_type": "markdown",
   "id": "47093d6d-889a-47ee-93a9-3a6e15befb75",
   "metadata": {},
   "source": [
    "<h1>Regression</h1>"
   ]
  },
  {
   "cell_type": "code",
   "execution_count": 11,
   "id": "2e0ad4c4-ce1f-435b-bf35-6348dead72aa",
   "metadata": {},
   "outputs": [],
   "source": [
    "import csv\n",
    "import numpy as np\n",
    "import pandas as pd\n",
    "import re\n",
    "import datetime\n",
    "import matplotlib.pyplot as plt\n",
    "from sklearn.linear_model import LinearRegression\n",
    "from sklearn.model_selection import train_test_split\n",
    "import statsmodels.api as sm"
   ]
  },
  {
   "cell_type": "markdown",
   "id": "dd99c6db-569c-443e-b171-d9011c7b31fb",
   "metadata": {},
   "source": [
    "<h2>Laden der Daten</h2>"
   ]
  },
  {
   "cell_type": "code",
   "execution_count": null,
   "id": "12ed4d25-7844-41a3-b88b-855e6bf83631",
   "metadata": {},
   "outputs": [],
   "source": [
    "df = pd.read_csv(\"/Users/tobias/Dev/FOM/Master_Thesis/data/Sentiment_Analysis/Dataset_Bert_Vader.csv\", sep=\";\",\n",
    "                parse_dates=[\"created_at\"])"
   ]
  },
  {
   "cell_type": "code",
   "execution_count": 2,
   "id": "1ed25982-02da-4af4-ae2f-cbdca60134ac",
   "metadata": {},
   "outputs": [],
   "source": [
    "df_wdi = pd.read_csv(\"/Users/tobias/Dev/FOM/Master_Thesis/data/WDI.HM-2.csv\", parse_dates=[\"Date\"])"
   ]
  },
  {
   "cell_type": "markdown",
   "id": "520624b6-a108-4ef6-a29a-2403662705ba",
   "metadata": {},
   "source": [
    "<h2>Vorverarbeitung der Daten</h2>"
   ]
  },
  {
   "cell_type": "code",
   "execution_count": 3,
   "id": "5cdec816-dd18-40d8-8519-3e8566c1e051",
   "metadata": {},
   "outputs": [],
   "source": [
    "#Berechnung der Returns für Log\n",
    "df_wdi[\"returns\"] = np.log(df_wdi.Close.pct_change() + 1)"
   ]
  },
  {
   "cell_type": "code",
   "execution_count": 4,
   "id": "5fa5d9c1-0b64-44b4-9b46-c6a79c4455d7",
   "metadata": {},
   "outputs": [],
   "source": [
    "#Berechnung der Lags\n",
    "def lagit(df, lags):\n",
    "    names = []\n",
    "    for i in range(1, lags+1):\n",
    "        df[\"Lag_\"+str(i)] = df[\"returns\"].shift(i)\n",
    "        names.append(\"Lag_\"+str(i))\n",
    "    df.dropna(inplace=True)    \n",
    "    return names, df"
   ]
  },
  {
   "cell_type": "markdown",
   "id": "04c7ea15-2636-4c1e-9da8-0065d650ec84",
   "metadata": {},
   "source": [
    "<h2>Lineare Regression mit Statsmodels</h2>"
   ]
  },
  {
   "cell_type": "code",
   "execution_count": 13,
   "id": "d94cf84b-24ce-46fc-8f15-1a080b8a7927",
   "metadata": {},
   "outputs": [],
   "source": [
    "def regression(df, regressor, output):\n",
    "    train, test = train_test_split(df, shuffle=False, test_size=0.3, random_state=0)\n",
    "    \n",
    "    train_x = train[regressor]\n",
    "    train_y = train[output]\n",
    "    \n",
    "    test_x = test[regressor]\n",
    "    test_y = test[output]\n",
    "    \n",
    "    train_x, train_y = np.array(train_x), np.array(train_y)\n",
    "    test_x, test_y = np.array(test_x), np.array(test_y)\n",
    "    \n",
    "    train_x = sm.add_constant(train_x)\n",
    "    test_x = sm.add_constant(test_x)\n",
    "    \n",
    "    model = sm.OLS(train_y, train_x).fit()\n",
    "    \n",
    "    predictions = model.predict(test_x)\n",
    "    \n",
    "    print_model = model.summary()\n",
    "    \n",
    "    #print(predictions)\n",
    "    print(print_model)\n",
    "    return model, predictions, test"
   ]
  },
  {
   "cell_type": "markdown",
   "id": "8ba07535-f384-4f64-945e-46565fc6c842",
   "metadata": {},
   "source": [
    "<h2>Ausführung</h2>"
   ]
  },
  {
   "cell_type": "code",
   "execution_count": 14,
   "id": "1c059a7b-4061-4637-9b3f-7428f9d04672",
   "metadata": {
    "tags": []
   },
   "outputs": [
    {
     "name": "stdout",
     "output_type": "stream",
     "text": [
      "                            OLS Regression Results                            \n",
      "==============================================================================\n",
      "Dep. Variable:                      y   R-squared:                       0.039\n",
      "Model:                            OLS   Adj. R-squared:                  0.033\n",
      "Method:                 Least Squares   F-statistic:                     6.301\n",
      "Date:                Mon, 15 Aug 2022   Prob (F-statistic):           9.62e-06\n",
      "Time:                        20:55:32   Log-Likelihood:                 1669.0\n",
      "No. Observations:                 783   AIC:                            -3326.\n",
      "Df Residuals:                     777   BIC:                            -3298.\n",
      "Df Model:                           5                                         \n",
      "Covariance Type:            nonrobust                                         \n",
      "==============================================================================\n",
      "                 coef    std err          t      P>|t|      [0.025      0.975]\n",
      "------------------------------------------------------------------------------\n",
      "const          1.1700      0.093     12.521      0.000       0.987       1.353\n",
      "x1            -0.1146      0.036     -3.203      0.001      -0.185      -0.044\n",
      "x2            -0.0308      0.036     -0.857      0.392      -0.101       0.040\n",
      "x3            -0.0767      0.036     -2.138      0.033      -0.147      -0.006\n",
      "x4            -0.0686      0.038     -1.819      0.069      -0.143       0.005\n",
      "x5             0.1229      0.037      3.341      0.001       0.051       0.195\n",
      "==============================================================================\n",
      "Omnibus:                      175.708   Durbin-Watson:                   1.970\n",
      "Prob(Omnibus):                  0.000   Jarque-Bera (JB):             5432.621\n",
      "Skew:                          -0.203   Prob(JB):                         0.00\n",
      "Kurtosis:                      15.898   Cond. No.                         244.\n",
      "==============================================================================\n",
      "\n",
      "Notes:\n",
      "[1] Standard Errors assume that the covariance matrix of the errors is correctly specified.\n"
     ]
    }
   ],
   "source": [
    "lagnames, df_wdi = lagit(df_wdi, 5)\n",
    "reg_model, reg_predictions, test = regression(df_wdi, lagnames, \"returns\")"
   ]
  },
  {
   "cell_type": "code",
   "execution_count": 17,
   "id": "b7598a09-65c4-4bcd-abaa-dbeee138584b",
   "metadata": {},
   "outputs": [
    {
     "data": {
      "image/png": "[encoded data removed]",
      "text/plain": [
       "<Figure size 432x288 with 1 Axes>"
      ]
     },
     "metadata": {
      "needs_background": "light"
     },
     "output_type": "display_data"
    }
   ],
   "source": [
    "plt.scatter(test[\"Lag_1\"], test[\"returns\"], color=\"green\")\n",
    "plt.plot(test[\"Lag_1\"], reg_predictions, color=\"blue\")\n",
    "plt.show()"
   ]
  },
  {
   "cell_type": "code",
   "execution_count": 20,
   "id": "2fa82d25-03cf-4498-8a91-a65506ed8b74",
   "metadata": {},
   "outputs": [
    {
     "name": "stdout",
     "output_type": "stream",
     "text": [
      "                            OLS Regression Results                            \n",
      "==============================================================================\n",
      "Dep. Variable:                      y   R-squared:                       0.019\n",
      "Model:                            OLS   Adj. R-squared:                  0.017\n",
      "Method:                 Least Squares   F-statistic:                     14.82\n",
      "Date:                Mon, 15 Aug 2022   Prob (F-statistic):           0.000128\n",
      "Time:                        21:02:29   Log-Likelihood:                 1660.8\n",
      "No. Observations:                 783   AIC:                            -3318.\n",
      "Df Residuals:                     781   BIC:                            -3308.\n",
      "Df Model:                           1                                         \n",
      "Covariance Type:            nonrobust                                         \n",
      "==============================================================================\n",
      "                 coef    std err          t      P>|t|      [0.025      0.975]\n",
      "------------------------------------------------------------------------------\n",
      "const          0.8605      0.037     23.419      0.000       0.788       0.933\n",
      "x1             0.1412      0.037      3.850      0.000       0.069       0.213\n",
      "==============================================================================\n",
      "Omnibus:                      169.231   Durbin-Watson:                   2.181\n",
      "Prob(Omnibus):                  0.000   Jarque-Bera (JB):             5251.132\n",
      "Skew:                           0.049   Prob(JB):                         0.00\n",
      "Kurtosis:                      15.686   Cond. No.                         70.8\n",
      "==============================================================================\n",
      "\n",
      "Notes:\n",
      "[1] Standard Errors assume that the covariance matrix of the errors is correctly specified.\n"
     ]
    }
   ],
   "source": [
    "reg_model, reg_predictions, test = regression(df_wdi, [\"Lag_5\"], \"returns\")"
   ]
  },
  {
   "cell_type": "code",
   "execution_count": 21,
   "id": "3d617e9e-d883-4d4b-a5c9-1f746ffc5a6c",
   "metadata": {},
   "outputs": [
    {
     "data": {
      "image/png": "[encoded data removed]",
      "text/plain": [
       "<Figure size 432x288 with 1 Axes>"
      ]
     },
     "metadata": {
      "needs_background": "light"
     },
     "output_type": "display_data"
    }
   ],
   "source": [
    "plt.scatter(test[\"Lag_5\"], test[\"returns\"], color=\"green\")\n",
    "plt.plot(test[\"Lag_5\"], reg_predictions, color=\"blue\")\n",
    "plt.show()"
   ]
  },
  {
   "cell_type": "code",
   "execution_count": null,
   "id": "0abb7a4e-e5fa-4f52-88cd-98c072c8825a",
   "metadata": {},
   "outputs": [],
   "source": []
  },
  {
   "cell_type": "markdown",
   "id": "5aec9db4-6e0a-4fe3-bdd3-7526ef370e3c",
   "metadata": {},
   "source": [
    "<h2>Test</h2>"
   ]
  },
  {
   "cell_type": "code",
   "execution_count": null,
   "id": "0fb65883-eee8-4ec3-9aaf-8a83b8b86d0a",
   "metadata": {},
   "outputs": [],
   "source": []
  }
 ],
 "metadata": {
  "kernelspec": {
   "display_name": "master_thesis_3.9.10",
   "language": "python",
   "name": "master_thesis_3.9.10"
  },
  "language_info": {
   "codemirror_mode": {
    "name": "ipython",
    "version": 3
   },
   "file_extension": ".py",
   "mimetype": "text/x-python",
   "name": "python",
   "nbconvert_exporter": "python",
   "pygments_lexer": "ipython3",
   "version": "3.9.10"
  }
 },
 "nbformat": 4,
 "nbformat_minor": 5
}
