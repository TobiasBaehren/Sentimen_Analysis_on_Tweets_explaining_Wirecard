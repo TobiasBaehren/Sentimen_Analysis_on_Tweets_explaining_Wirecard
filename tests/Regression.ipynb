{
 "cells": [
  {
   "cell_type": "markdown",
   "id": "47093d6d-889a-47ee-93a9-3a6e15befb75",
   "metadata": {},
   "source": [
    "<h1>Regression</h1>"
   ]
  },
  {
   "cell_type": "code",
   "execution_count": 1,
   "id": "2e0ad4c4-ce1f-435b-bf35-6348dead72aa",
   "metadata": {},
   "outputs": [],
   "source": [
    "import csv\n",
    "import numpy as np\n",
    "import pandas as pd\n",
    "import re\n",
    "import datetime\n",
    "import matplotlib.pyplot as plt\n",
    "from sklearn.linear_model import LinearRegression\n",
    "from sklearn.model_selection import train_test_split\n",
    "import statsmodels.api as sm\n",
    "from statsmodels.stats.outliers_influence import variance_inflation_factor\n",
    "\n",
    "from sklearn.metrics import mean_squared_error\n",
    "from sklearn.metrics import r2_score"
   ]
  },
  {
   "cell_type": "markdown",
   "id": "dd99c6db-569c-443e-b171-d9011c7b31fb",
   "metadata": {
    "tags": []
   },
   "source": [
    "<h2>Laden der Daten</h2>"
   ]
  },
  {
   "cell_type": "code",
   "execution_count": 2,
   "id": "12ed4d25-7844-41a3-b88b-855e6bf83631",
   "metadata": {},
   "outputs": [],
   "source": [
    "df_de = pd.read_csv(\"/Users/tobias/Dev/FOM/Master_Thesis/data/Sentiment_Analysis/Dataset_DE_Bert_Vader.csv\", sep=\";\",\n",
    "                parse_dates=[\"created_at\"])\n",
    "\n",
    "#Change the date field\n",
    "df_de[\"Date\"] = pd.to_datetime(df_de.created_at).apply(lambda x: x.date())\n",
    "\n",
    "#Change the values of sentiment bert field and add a new field for a numeric value sentiment value \n",
    "df_de[\"sentiment_bert\"] = df_de[\"sentiment_bert\"].replace([\"neutral\", \"negative\", \"positive\"], [\"NEU\", \"NEG\", \"POS\"])\n",
    "df_de[\"sentiment_bert_value\"] = df_de[\"sentiment_bert\"].replace({\"NEU\": 0, \"NEG\": -1, \"POS\": 1})\n",
    "\n",
    "#Create a new field for a numeric sentiment value\n",
    "df_de[\"sentiment_vader_value\"] = [1 if i >= 0.05 else -1 if i <= -0.05 else 0 for i in df_de[\"sentiment_vader\"]]\n",
    "\n",
    "#Create a df for adding the year and week to the df\n",
    "df_de_week_year = pd.DataFrame([(i.isocalendar().week, i.isocalendar().year) for i in df_de[\"Date\"]],\n",
    "                               columns=[\"Week\", \"Year\"])\n",
    "#Adding the week and year information to the df\n",
    "df_de[[\"Week\", \"Year\"]] = df_de_week_year[[\"Week\", \"Year\"]]"
   ]
  },
  {
   "cell_type": "code",
   "execution_count": 3,
   "id": "b26d23cf-6028-49a4-9737-4b783c210305",
   "metadata": {},
   "outputs": [],
   "source": [
    "df_en = pd.read_csv(\"/Users/tobias/Dev/FOM/Master_Thesis/data/Sentiment_Analysis/Dataset_Bert_Vader.csv\", sep=\";\",\n",
    "                parse_dates=[\"created_at\"])\n",
    "\n",
    "#Change the date field\n",
    "df_en[\"Date\"] = pd.to_datetime(df_en.created_at).apply(lambda x: x.date())\n",
    "\n",
    "#Add a new column for a numeric sentiment bert value\n",
    "df_en[\"sentiment_bert_value\"] = df_en[\"sentiment_bert\"].replace({\"NEU\": 0, \"NEG\": -1, \"POS\": 1})\n",
    "\n",
    "#Add a new column for a numeric sentiment vader value\n",
    "df_en[\"sentiment_vader_value\"] = [1 if i >= 0.05 else -1 if i <= -0.05 else 0 for i in df_en[\"sentiment_vader\"]]\n",
    "\n",
    "#Create a df for adding the year and week to the df\n",
    "df_en_week_year = pd.DataFrame([(i.isocalendar().week, i.isocalendar().year) for i in df_en[\"Date\"]],\n",
    "                               columns=[\"Week\", \"Year\"])\n",
    "#Adding the week and year information to the df\n",
    "df_en[[\"Week\", \"Year\"]] = df_en_week_year[[\"Week\", \"Year\"]]"
   ]
  },
  {
   "cell_type": "code",
   "execution_count": 4,
   "id": "1b0845c1-8373-46e3-af29-2d24417f27e4",
   "metadata": {},
   "outputs": [],
   "source": [
    "#Combine the different DFs\n",
    "df = pd.concat([df_en, df_de]).reset_index(drop=True)"
   ]
  },
  {
   "cell_type": "code",
   "execution_count": 5,
   "id": "18b75b2f-354b-4386-841c-559bfd581e13",
   "metadata": {},
   "outputs": [],
   "source": [
    "#Change the values from sentiment_bert_value from text to a num value\n",
    "df[\"sentiment_bert_value\"] = df[\"sentiment_bert\"].replace({\"NEU\": 0, \"NEG\": -1, \"POS\": 1})\n",
    "\n",
    "#Create a df for adding the year and week to the df\n",
    "df_week_year = pd.DataFrame([(i.isocalendar().week, i.isocalendar().year) for i in df[\"Date\"]], columns=[\"Week\", \"Year\"])\n",
    "#Adding the week and year information to the df\n",
    "df[[\"Week\", \"Year\"]] = df_week_year[[\"Week\", \"Year\"]]"
   ]
  },
  {
   "cell_type": "code",
   "execution_count": 6,
   "id": "1ed25982-02da-4af4-ae2f-cbdca60134ac",
   "metadata": {},
   "outputs": [],
   "source": [
    "df_wdi = pd.read_csv(\"/Users/tobias/Dev/FOM/Master_Thesis/data/WDI.HM-2.csv\", parse_dates=[\"Date\"])\n",
    "df_wdi = df_wdi.rename(columns={\"Adj Close\": \"Adj_Close\"})"
   ]
  },
  {
   "cell_type": "code",
   "execution_count": 7,
   "id": "198afd67-da1a-420b-a770-5cf80b939f1a",
   "metadata": {},
   "outputs": [],
   "source": [
    "df_stoxx = pd.read_csv(\"/Users/tobias/Dev/FOM/Master_Thesis/data/^STOXX50E.csv\", parse_dates=[\"Date\"])\n",
    "df_stoxx = df_stoxx.rename(columns={\"Adj Close\": \"Adj_Close\"})"
   ]
  },
  {
   "cell_type": "code",
   "execution_count": 8,
   "id": "df559ce6-9e9b-4892-9b74-fa6eccf5d202",
   "metadata": {},
   "outputs": [],
   "source": [
    "df_visa = pd.read_csv(\"/Users/tobias/Dev/FOM/Master_Thesis/data/V.csv\", parse_dates=[\"Date\"])\n",
    "df_visa = df_visa.rename(columns={\"Adj Close\": \"Adj_Close\"})"
   ]
  },
  {
   "cell_type": "code",
   "execution_count": 9,
   "id": "e5388991-4abf-4edc-a79a-9dbca33d9fa2",
   "metadata": {},
   "outputs": [],
   "source": [
    "df_ma = pd.read_csv(\"/Users/tobias/Dev/FOM/Master_Thesis/data/MA.csv\", parse_dates=[\"Date\"])\n",
    "df_ma = df_ma.rename(columns={\"Adj Close\": \"Adj_Close\"})"
   ]
  },
  {
   "cell_type": "markdown",
   "id": "520624b6-a108-4ef6-a29a-2403662705ba",
   "metadata": {
    "tags": []
   },
   "source": [
    "<h2>Vorverarbeitung der Daten</h2>"
   ]
  },
  {
   "cell_type": "code",
   "execution_count": 10,
   "id": "5cdec816-dd18-40d8-8519-3e8566c1e051",
   "metadata": {},
   "outputs": [],
   "source": [
    "#Berechnung der Returns für Log\n",
    "df_wdi[\"returns\"] = np.log(df_wdi.Close.pct_change() + 1)\n",
    "df_wdi[\"returns_2\"] = df_wdi.Close.pct_change() + 1\n",
    "df_wdi[\"returns_3\"] = df_wdi.Close.pct_change()\n",
    "df_wdi[\"returns_5\"] = df_wdi.Close.pct_change(periods=5) + 1\n",
    "\n",
    "#Change Date für df_wdi & df\n",
    "df_wdi[\"Date\"] = pd.to_datetime(df_wdi.Date).apply(lambda x: x.date())\n",
    "df_stoxx[\"Date\"] = pd.to_datetime(df_stoxx.Date).apply(lambda x: x.date())\n",
    "df_visa[\"Date\"] = pd.to_datetime(df_visa.Date).apply(lambda x: x.date())\n",
    "df_ma[\"Date\"] = pd.to_datetime(df_ma.Date).apply(lambda x: x.date())\n"
   ]
  },
  {
   "cell_type": "code",
   "execution_count": 11,
   "id": "5fa5d9c1-0b64-44b4-9b46-c6a79c4455d7",
   "metadata": {},
   "outputs": [],
   "source": [
    "#Berechnung der Lags\n",
    "def lagit(df, lags, shifter, drop=False):\n",
    "    names = []\n",
    "    for each in shifter:\n",
    "        for i in range(1, lags+1):\n",
    "            df[\"Lag_\"+each+\"_\"+str(i)] = df[each].shift(i)\n",
    "            names.append(\"Lag_\"+each+\"_\"+str(i))\n",
    "    if drop:\n",
    "        df.dropna(inplace=True)\n",
    "        df = df.reset_index(drop=True)\n",
    "    return names, df"
   ]
  },
  {
   "cell_type": "code",
   "execution_count": 12,
   "id": "1244b04d-f085-4693-97af-29d361cdf7b4",
   "metadata": {},
   "outputs": [],
   "source": [
    "def log_fkt(df, column):\n",
    "    df[column] = np.log(df[column]).replace([np.inf, -np.inf], 0)\n",
    "    \n",
    "    return df"
   ]
  },
  {
   "cell_type": "code",
   "execution_count": 13,
   "id": "d2fb13ad-cfbf-43c8-8e0c-3475074da0b5",
   "metadata": {},
   "outputs": [],
   "source": [
    "def create_finance_df(df):\n",
    "    #Create df for returning\n",
    "    df_week = pd.DataFrame(columns=[\"Date\", \"Week\", \"Year\", \"Adj_Close\"])\n",
    "    \n",
    "    #Start Week\n",
    "    week = 5\n",
    "    volume = 0\n",
    "    \n",
    "    #To loop through all lines in df\n",
    "    for each in range(len(df)):\n",
    "        #Get the date\n",
    "        each_date = df[\"Date\"][each]\n",
    "        adj_close = df[\"Adj_Close\"][each]\n",
    "        \n",
    "        #Get the Volume of all transactions in a week\n",
    "        volume = volume + df[\"Volume\"][each]\n",
    "\n",
    "        #Check if the date is the last date\n",
    "        if df[\"Date\"][each] == datetime.date(2020,7,31):\n",
    "            #Get Week Number, start and end day\n",
    "            week = each_date.isocalendar().week\n",
    "            year = each_date.isocalendar().year\n",
    "            end_day = df[\"Date\"].iloc[-1]\n",
    "            \n",
    "            #Add data to df\n",
    "            new_row = pd.DataFrame([[each_date, week, year, adj_close, volume]],\n",
    "                                   columns=[\"Date\", \"Week\", \"Year\", \"Adj_Close\", \"Volume\"])\n",
    "            df_week = pd.concat([df_week, new_row], ignore_index=True)\n",
    "        else:\n",
    "            #Get the next week number for checking\n",
    "            next_week = df[\"Date\"][each+1].isocalendar().week\n",
    "\n",
    "            #Check if the next day is in another week \n",
    "            if each_date.isocalendar().week != next_week:\n",
    "                #Get week number, year and last date\n",
    "                week = each_date.isocalendar().week\n",
    "                year = each_date.isocalendar().year\n",
    "                end_day = each_date\n",
    "                \n",
    "                #Add data to df\n",
    "                new_row = pd.DataFrame([[each_date, week, year, adj_close, volume]],\n",
    "                                       columns=[\"Date\", \"Week\", \"Year\", \"Adj_Close\", \"Volume\"])\n",
    "                df_week = pd.concat([df_week, new_row], ignore_index=True)\n",
    "                \n",
    "                #Set Volume back to 0\n",
    "                volume = 0\n",
    "    \n",
    "    #Add the yield from one week to another\n",
    "    df_week[\"returns_week\"] = df_week.Adj_Close.pct_change()+1\n",
    "    #df_week[\"returns_week_log\"] = pd.Series(np.log(np.float64(df_week.Adj_Close))).pct_change()\n",
    "    \n",
    "\n",
    "    \n",
    "    #Return the new DF\n",
    "    return df_week"
   ]
  },
  {
   "cell_type": "code",
   "execution_count": 14,
   "id": "f1d4fe93-ebd5-4c69-ba96-20565bce109f",
   "metadata": {},
   "outputs": [],
   "source": [
    "def concat_finance_df(df_wdi = df_wdi, df_stoxx = df_stoxx, df_ma = df_ma, df_v = df_visa):\n",
    "    \n",
    "    #Create week dfs for all financial dfs\n",
    "    df_wdi_week = create_finance_df(df_wdi)\n",
    "    df_stoxx_week = create_finance_df(df_stoxx)\n",
    "    df_ma_week = create_finance_df(df_ma)\n",
    "    df_v_week = create_finance_df(df_v)\n",
    "    \n",
    "    #combine all dfs\n",
    "    df_week = pd.concat([df_wdi_week, df_stoxx_week.rename(columns={\"returns_week\": \"returns_stoxx\"})[\"returns_stoxx\"]],\n",
    "                        axis=1)\n",
    "    df_week = pd.concat([df_week, df_ma_week.rename(columns={\"returns_week\": \"returns_ma\"})[\"returns_ma\"]], axis=1)\n",
    "    df_week = pd.concat([df_week, df_v_week.rename(columns={\"returns_week\": \"returns_visa\"})[\"returns_visa\"]], axis=1)\n",
    "    return df_week"
   ]
  },
  {
   "cell_type": "code",
   "execution_count": 15,
   "id": "d89f3825-16af-4a59-bfaf-654e71d8c5c1",
   "metadata": {},
   "outputs": [],
   "source": [
    "def create_final_df(df_week, df, meta_data = False):\n",
    "    \n",
    "    #If meta data like Retweets should be used, this will calculate it.\n",
    "    if meta_data:\n",
    "        df[\"sentiment_bert_value\"] = df[\"sentiment_bert_value\"] * ((df[\"retweet_count\"] + 1))\n",
    "        df[\"sentiment_vader_value\"] = df[\"sentiment_vader_value\"] * ((df[\"retweet_count\"] + 1))\n",
    "    \n",
    "    df_sum_year_week_bert = pd.DataFrame(df[[\"Week\", \"Year\", \"sentiment_bert_value\"]].\n",
    "                                    groupby(by=[\"Year\", \"Week\"]).sum()).reset_index()\n",
    "\n",
    "    df_sum_year_week_vader = pd.DataFrame(df[[\"Week\", \"Year\", \"sentiment_vader_value\"]].\n",
    "                                    groupby(by=[\"Year\", \"Week\"]).sum()).reset_index()\n",
    "    \n",
    "    df_count_tweets_year_week = pd.DataFrame(df[[\"Week\", \"Year\", \"conversation_id\"]].\n",
    "                                    groupby(by=[\"Year\", \"Week\"]).\n",
    "             count()).reset_index().rename(columns={\"conversation_id\": \"count_all_tweets\"})\n",
    "    \n",
    "    df_week = df_week.merge(df_sum_year_week_bert)\n",
    "    df_week = df_week.merge(df_sum_year_week_vader)\n",
    "    df_week = df_week.merge(df_count_tweets_year_week)\n",
    "\n",
    "    \n",
    "    return df_week"
   ]
  },
  {
   "cell_type": "markdown",
   "id": "04c7ea15-2636-4c1e-9da8-0065d650ec84",
   "metadata": {
    "tags": []
   },
   "source": [
    "<h2>Lineare Regression mit Statsmodels</h2>"
   ]
  },
  {
   "cell_type": "code",
   "execution_count": 16,
   "id": "d94cf84b-24ce-46fc-8f15-1a080b8a7927",
   "metadata": {},
   "outputs": [],
   "source": [
    "def regression_train_test(df, regressor, output):\n",
    "\n",
    "    train, test = train_test_split(df, shuffle=False, test_size=0.05, random_state=0)\n",
    "    \n",
    "    train_x = train[regressor]\n",
    "    train_y = train[output]\n",
    "    \n",
    "    test_x = test[regressor]\n",
    "    test_y = test[output]\n",
    "    \n",
    "    train_x = sm.add_constant(train_x)\n",
    "    test_x = sm.add_constant(test_x)\n",
    "    \n",
    "    model = sm.OLS(train_y, train_x).fit()\n",
    "    \n",
    "    predictions = model.predict(test_x)\n",
    "    \n",
    "    #predict values from training\n",
    "    train_pred = model.predict(train_x)\n",
    "    \n",
    "    print_model = model.summary()\n",
    "    \n",
    "    #print(predictions)\n",
    "    print(print_model)\n",
    "    \n",
    "    #Calculate the scuared mean squared error on the predicted values based on the real values. \n",
    "    print(\"Mean Squared Error: \", np.sqrt(mean_squared_error(test_y, predictions)))\n",
    "    \n",
    "    #Calulate the r2 values based on the prediccted and the real values, \n",
    "    print(\"R2: \", r2_score(test_y, predictions))\n",
    "    \n",
    "    return model, predictions, test, test_y, train, train_pred"
   ]
  },
  {
   "cell_type": "code",
   "execution_count": 17,
   "id": "98b6982c-f7b3-48f8-8944-c93e170f1e6a",
   "metadata": {},
   "outputs": [],
   "source": [
    "def regression(df, regressor, output):\n",
    "    \n",
    "    x = df[regressor]\n",
    "    y = df[output]\n",
    "    \n",
    "    x = sm.add_constant(x)\n",
    "\n",
    "    model = sm.OLS(y,x).fit()\n",
    "    \n",
    "    predictions = model.predict(x)\n",
    "    \n",
    "    pritn_model = model.summary()\n",
    "    \n",
    "    print(pritn_model)\n",
    "    \n",
    "    return predictions, model"
   ]
  },
  {
   "cell_type": "code",
   "execution_count": 18,
   "id": "fedbc0bb-56b4-4681-afcd-59fe4d777156",
   "metadata": {
    "tags": []
   },
   "outputs": [],
   "source": [
    "def create_df(df, df_wdi = df_wdi):\n",
    "    df_sentiment = sup_df_for_calculations(df)\n",
    "    df_wdi_sentiment = df_wdi.merge(df_sentiment.rename(columns={\"created_at\": \"Date\"}), how=\"left\", on=\"Date\").fillna(0)\n",
    "    return df_wdi_sentiment"
   ]
  },
  {
   "cell_type": "markdown",
   "id": "4a3304f4-6cdb-4520-83b9-434dff9c03a3",
   "metadata": {
    "jp-MarkdownHeadingCollapsed": true,
    "tags": []
   },
   "source": [
    "<h2>Plot</h2>"
   ]
  },
  {
   "cell_type": "code",
   "execution_count": 19,
   "id": "7b768b69-9aa3-4da6-ae8b-07d16a6859f0",
   "metadata": {},
   "outputs": [],
   "source": [
    "def plot_regression(df, regressor, regressant, prediction):\n",
    "    plt.figure(figsize=(50,10))\n",
    "    \n",
    "    plt.scatter(df[regressor], df[regressant], color=\"blue\")\n",
    "    plt.plot(df[regressor], prediction, color=\"red\")\n",
    "    \n",
    "    plt.show()"
   ]
  },
  {
   "cell_type": "markdown",
   "id": "8ba07535-f384-4f64-945e-46565fc6c842",
   "metadata": {
    "tags": []
   },
   "source": [
    "<h2>Ausführung</h2>"
   ]
  },
  {
   "cell_type": "markdown",
   "id": "d874d68a-5038-483b-9892-d53904b63da7",
   "metadata": {
    "tags": []
   },
   "source": [
    "<h3>Regression auf Wochenbasis</h3>"
   ]
  },
  {
   "cell_type": "code",
   "execution_count": 634,
   "id": "7d66c719-8b1b-496e-ac48-81e1ec245a70",
   "metadata": {
    "tags": []
   },
   "outputs": [
    {
     "name": "stdout",
     "output_type": "stream",
     "text": [
      "                            OLS Regression Results                            \n",
      "==============================================================================\n",
      "Dep. Variable:           returns_week   R-squared:                       0.035\n",
      "Model:                            OLS   Adj. R-squared:                  0.031\n",
      "Method:                 Least Squares   F-statistic:                     8.374\n",
      "Date:                Tue, 11 Oct 2022   Prob (F-statistic):            0.00417\n",
      "Time:                        20:55:15   Log-Likelihood:                 142.25\n",
      "No. Observations:                 233   AIC:                            -280.5\n",
      "Df Residuals:                     231   BIC:                            -273.6\n",
      "Df Model:                           1                                         \n",
      "Covariance Type:            nonrobust                                         \n",
      "=================================================================================\n",
      "                    coef    std err          t      P>|t|      [0.025      0.975]\n",
      "---------------------------------------------------------------------------------\n",
      "const             0.1062      0.310      0.343      0.732      -0.504       0.716\n",
      "returns_stoxx     0.8951      0.309      2.894      0.004       0.286       1.505\n",
      "==============================================================================\n",
      "Omnibus:                      142.310   Durbin-Watson:                   2.431\n",
      "Prob(Omnibus):                  0.000   Jarque-Bera (JB):            24137.817\n",
      "Skew:                           1.220   Prob(JB):                         0.00\n",
      "Kurtosis:                      52.803   Cond. No.                         71.6\n",
      "==============================================================================\n",
      "\n",
      "Notes:\n",
      "[1] Standard Errors assume that the covariance matrix of the errors is correctly specified.\n"
     ]
    }
   ],
   "source": [
    "regressor = [\"dif_sentiment_bert_value\"]\n",
    "#regressor = [\"dif_sentiment_vader_value\"]\n",
    "#regressor = [\"sentiment_bert_value\"]\n",
    "\n",
    "further_regressor = [\"returns_week\", \"returns_stoxx\", \"returns_ma\", \"returns_visa\", \"Volume\", \"count_all_tweets\"]\n",
    "\n",
    "regressand = [\"returns_week\"]\n",
    "\n",
    "lag_num = 5\n",
    "lagnames = []\n",
    "lag = False\n",
    "\n",
    "df_twitter = df.copy()\n",
    "\n",
    "df_week = concat_finance_df()\n",
    "df_week_reg = create_final_df(df_week, df_twitter)\n",
    "\n",
    "df_week_reg[\"dif_sentiment_bert_value\"] = df_week_reg[\"sentiment_bert_value\"].diff()\n",
    "df_week_reg[\"dif_sentiment_vader_value\"] = df_week_reg[\"sentiment_vader_value\"].diff()\n",
    "df_week_reg[\"Lag_returns_week\"] = df_week_reg[\"returns_week\"].shift(1)\n",
    "\n",
    "df_week_reg[\"returns_week_log\"] = np.log(df_week_reg[\"returns_week\"])\n",
    "\n",
    "\n",
    "if lag:\n",
    "    lags, df_week_reg = lagit(df_week_reg, lag_num, regressor)\n",
    "    lagnames.extend(lags)\n",
    "\n",
    "    lags, df_week_reg = lagit(df_week_reg, 1, further_regressor, True)\n",
    "    lagnames.extend(lags)\n",
    "else:\n",
    "    lagnames = [\"dif_sentiment_bert_value\", \"returns_stoxx\", \"returns_ma\", \"returns_visa\", \"Volume\", \"count_all_tweets\"]\n",
    "\n",
    "    lagnames = [\"returns_stoxx\"]\n",
    "    #lagnames = [\"sentiment_bert_value\", \"returns_stoxx\", \"returns_ma\", \"returns_visa\", \"Volume\", \"count_all_tweets\"]\n",
    "    #lagnames = [\"dif_sentiment_vader_value\", \"returns_stoxx\", \"returns_ma\", \"returns_visa\", \"Volume\", \"count_all_tweets\"]\n",
    "    df_week_reg.dropna(inplace=True)\n",
    "    df_week_reg = df_week_reg.reset_index(drop=True)\n",
    "        \n",
    "reg_predictions, reg_model = regression(df_week_reg, lagnames, regressand)"
   ]
  },
  {
   "cell_type": "code",
   "execution_count": 490,
   "id": "a99f6ab4-94bc-40db-bf39-ecc7b113039e",
   "metadata": {},
   "outputs": [
    {
     "name": "stdout",
     "output_type": "stream",
     "text": [
      "0.017893142170442015\n",
      "0.05017049975137857\n",
      "0.1337652502350368\n",
      "0.2239877223228509\n"
     ]
    }
   ],
   "source": [
    "print(np.var(df_week_reg[\"returns_week\"]))\n",
    "print(np.var(df_week_reg[\"returns_week_log\"]))\n",
    "\n",
    "print(np.std(df_week_reg[\"returns_week\"]))\n",
    "print(np.std(df_week_reg[\"returns_week_log\"]))"
   ]
  },
  {
   "cell_type": "code",
   "execution_count": 492,
   "id": "82e37177-073f-43ea-be87-7769dfe8b66a",
   "metadata": {},
   "outputs": [
    {
     "data": {
      "text/plain": [
       "9"
      ]
     },
     "execution_count": 492,
     "metadata": {},
     "output_type": "execute_result"
    }
   ],
   "source": [
    "np.square(3)"
   ]
  },
  {
   "cell_type": "code",
   "execution_count": 506,
   "id": "caafb91a-7cfa-4ecc-b6d0-a5727153661c",
   "metadata": {},
   "outputs": [
    {
     "data": {
      "text/plain": [
       "10.45392640491249"
      ]
     },
     "execution_count": 506,
     "metadata": {},
     "output_type": "execute_result"
    }
   ],
   "source": [
    "test = [42, 44, 43]\n",
    "test = df_week_reg[\"returns_week\"]\n",
    "test = reg_predictions\n",
    "rech = []\n",
    "for each in test:\n",
    "    calc = np.square(each - np.mean(test))\n",
    "    rech.append(calc)\n",
    "sum(rech)\n",
    "#print(rech)"
   ]
  },
  {
   "cell_type": "code",
   "execution_count": 588,
   "id": "7da36eec-9f20-4183-84ed-593995b4388a",
   "metadata": {},
   "outputs": [
    {
     "data": {
      "text/plain": [
       "0.0125"
      ]
     },
     "execution_count": 588,
     "metadata": {},
     "output_type": "execute_result"
    }
   ],
   "source": [
    "test = [42.5, 43.5, 43, 43,43,43,43,43,43,43,43,43,43,43,43,43,43,43,43,43,43,43,43,43,43,43,43,43,43,43,43,43,43,43,43,43,43,43,43,43]\n",
    "np.var(test)"
   ]
  },
  {
   "cell_type": "code",
   "execution_count": 513,
   "id": "1131757d-cbde-4296-8ebb-c52f6e4c55cc",
   "metadata": {},
   "outputs": [
    {
     "data": {
      "text/plain": [
       "9"
      ]
     },
     "execution_count": 513,
     "metadata": {},
     "output_type": "execute_result"
    }
   ],
   "source": [
    "3**2"
   ]
  },
  {
   "cell_type": "code",
   "execution_count": 474,
   "id": "f05a270c-3226-475a-821a-94ede7a9838f",
   "metadata": {},
   "outputs": [
    {
     "data": {
      "text/plain": [
       "0      0.081163\n",
       "1     -0.127689\n",
       "2      0.050134\n",
       "3     -0.140669\n",
       "4     -0.044415\n",
       "         ...   \n",
       "228    1.288732\n",
       "229   -0.283846\n",
       "230   -0.152653\n",
       "231   -0.011662\n",
       "232   -0.030371\n",
       "Name: returns_week, Length: 233, dtype: float64"
      ]
     },
     "execution_count": 474,
     "metadata": {},
     "output_type": "execute_result"
    }
   ],
   "source": [
    "df_week_reg[\"returns_week\"]-1"
   ]
  },
  {
   "cell_type": "code",
   "execution_count": 399,
   "id": "4dc5fbfb-bb5a-4266-8ea2-c1816edba876",
   "metadata": {},
   "outputs": [
    {
     "data": {
      "image/png": "[encoded data removed]",
      "text/plain": [
       "<Figure size 3600x720 with 1 Axes>"
      ]
     },
     "metadata": {
      "needs_background": "light"
     },
     "output_type": "display_data"
    }
   ],
   "source": [
    "#### This Graph plots the predicted values agains the real values in the time perspektive. \n",
    "plt.figure(figsize=(50,10))\n",
    "\n",
    "\n",
    "plt.plot(df_week_reg[\"Date\"], df_week_reg[\"returns_week\"], color=\"green\")\n",
    "plt.plot(df_week_reg[\"Date\"], reg_predictions, color=\"red\")\n",
    "\n",
    "plt.show()"
   ]
  },
  {
   "cell_type": "code",
   "execution_count": 403,
   "id": "bf14da2e-5d20-4bbf-b3d1-a1ce0c387e1d",
   "metadata": {},
   "outputs": [
    {
     "data": {
      "image/png": "[encoded data removed]",
      "text/plain": [
       "<Figure size 3600x720 with 1 Axes>"
      ]
     },
     "metadata": {
      "needs_background": "light"
     },
     "output_type": "display_data"
    }
   ],
   "source": [
    "#### This Graph plots the predicted values agains the real values in the time perspektive. \n",
    "plt.figure(figsize=(50,10))\n",
    "\n",
    "\n",
    "plt.plot(df_week_reg[\"Date\"], np.exp(df_week_reg[\"returns_week_log\"]), color=\"green\")\n",
    "plt.plot(df_week_reg[\"Date\"], np.exp(reg_predictions), color=\"red\")\n",
    "\n",
    "plt.show()"
   ]
  },
  {
   "cell_type": "code",
   "execution_count": 603,
   "id": "1d92de82-c2f0-4af5-8fdc-441b3fa09262",
   "metadata": {},
   "outputs": [
    {
     "data": {
      "image/png": "[encoded data removed]",
      "text/plain": [
       "<Figure size 3600x720 with 1 Axes>"
      ]
     },
     "metadata": {
      "needs_background": "light"
     },
     "output_type": "display_data"
    }
   ],
   "source": [
    "#### This Graph plots the predicted values agains the real values in the time perspektive. \n",
    "plt.figure(figsize=(50,10))\n",
    "\n",
    "\n",
    "plt.scatter(df_week_reg[\"count_all_tweets\"], df_week_reg[\"returns_week_log\"], color=\"green\")\n",
    "\n",
    "plt.plot(df_week_reg[\"count_all_tweets\"], reg_predictions, color=\"red\")\n",
    "\n",
    "\n",
    "plt.show()"
   ]
  },
  {
   "cell_type": "code",
   "execution_count": 469,
   "id": "b473cb85-0070-4007-ba0f-32c816ee9eb6",
   "metadata": {},
   "outputs": [
    {
     "data": {
      "image/png": "[encoded data removed]",
      "text/plain": [
       "<Figure size 3600x1800 with 1 Axes>"
      ]
     },
     "metadata": {
      "needs_background": "light"
     },
     "output_type": "display_data"
    }
   ],
   "source": [
    "plt.figure(figsize=(50,25))\n",
    "plt.hist(df_week_reg[\"returns_week\"], bins=200)\n",
    "#plt.plot(df_week_reg[\"returns_week\"])\n",
    "plt.show()"
   ]
  },
  {
   "cell_type": "code",
   "execution_count": 218,
   "id": "e173e23a-f224-44fc-86ba-487814753a97",
   "metadata": {},
   "outputs": [
    {
     "data": {
      "image/png": "[encoded data removed]",
      "text/plain": [
       "<Figure size 3600x720 with 1 Axes>"
      ]
     },
     "metadata": {
      "needs_background": "light"
     },
     "output_type": "display_data"
    }
   ],
   "source": [
    "#### This Graph plots the predicted values agains the real values in the time perspektive. \n",
    "plt.figure(figsize=(50,10))\n",
    "\n",
    "\n",
    "plt.plot(df_week_reg[\"Date\"], np.exp(df_week_reg[\"returns_week_log\"]), color=\"green\")\n",
    "plt.plot(df_week_reg[\"Date\"], np.exp(reg_predictions), color=\"red\")\n",
    "\n",
    "plt.show()"
   ]
  },
  {
   "cell_type": "code",
   "execution_count": 523,
   "id": "3a621ea5-2c91-45fc-b499-7145a9a9d721",
   "metadata": {},
   "outputs": [
    {
     "name": "stdout",
     "output_type": "stream",
     "text": [
      "                            OLS Regression Results                            \n",
      "==============================================================================\n",
      "Dep. Variable:       returns_week_log   R-squared:                       0.141\n",
      "Model:                            OLS   Adj. R-squared:                  0.137\n",
      "Method:                 Least Squares   F-statistic:                     36.02\n",
      "Date:                Tue, 11 Oct 2022   Prob (F-statistic):           8.02e-09\n",
      "Time:                        15:30:50   Log-Likelihood:                 297.11\n",
      "No. Observations:                 221   AIC:                            -590.2\n",
      "Df Residuals:                     219   BIC:                            -583.4\n",
      "Df Model:                           1                                         \n",
      "Covariance Type:            nonrobust                                         \n",
      "============================================================================================\n",
      "                               coef    std err          t      P>|t|      [0.025      0.975]\n",
      "--------------------------------------------------------------------------------------------\n",
      "const                        0.0043      0.004      1.010      0.314      -0.004       0.013\n",
      "dif_sentiment_bert_value     0.0002   3.06e-05      6.002      0.000       0.000       0.000\n",
      "==============================================================================\n",
      "Omnibus:                       34.720   Durbin-Watson:                   2.069\n",
      "Prob(Omnibus):                  0.000   Jarque-Bera (JB):              105.901\n",
      "Skew:                          -0.621   Prob(JB):                     1.01e-23\n",
      "Kurtosis:                       6.156   Cond. No.                         139.\n",
      "==============================================================================\n",
      "\n",
      "Notes:\n",
      "[1] Standard Errors assume that the covariance matrix of the errors is correctly specified.\n",
      "Mean Squared Error:  0.5970916985444044\n",
      "R2:  0.5470659731654324\n"
     ]
    }
   ],
   "source": [
    "reg_model, reg_predictions, test, reg_test_y, train, reg_train = regression_train_test(df_week_reg, lagnames, regressand)"
   ]
  },
  {
   "cell_type": "code",
   "execution_count": 524,
   "id": "1aea52b2-b257-4cc7-82c8-834048c1a3ef",
   "metadata": {
    "tags": []
   },
   "outputs": [
    {
     "data": {
      "image/png": "[encoded data removed]",
      "text/plain": [
       "<Figure size 3600x720 with 1 Axes>"
      ]
     },
     "metadata": {
      "needs_background": "light"
     },
     "output_type": "display_data"
    }
   ],
   "source": [
    "#This Graph plots the predicted values agains the real values in the time perspektive. \n",
    "plt.figure(figsize=(50,10))\n",
    "\n",
    "\n",
    "plt.plot(test[\"Date\"], test[\"returns_week\"], color=\"green\")\n",
    "plt.plot(test[\"Date\"], reg_predictions, color=\"red\")\n",
    "\n",
    "plt.show()"
   ]
  },
  {
   "cell_type": "code",
   "execution_count": null,
   "id": "e0d8b57e-bbb7-43af-8fcb-a98ef24b3b43",
   "metadata": {},
   "outputs": [],
   "source": [
    "plt.scatter(reg_predictions, test[\"returns_week\"], color=\"green\")\n",
    "#plt.plot(reg_predictions, test[\"returns_week\"], color=\"green\")"
   ]
  },
  {
   "cell_type": "code",
   "execution_count": null,
   "id": "bf447ba8-e341-489d-8438-43a646f990fb",
   "metadata": {},
   "outputs": [],
   "source": [
    "#This Graph plots the predicted values agains the real values in the time perspektive. \n",
    "plt.figure(figsize=(50,10))\n",
    "\n",
    "\n",
    "plt.plot(train[\"Date\"], train[\"returns_week\"], color=\"green\")\n",
    "plt.plot(train[\"Date\"], reg_train, color=\"red\")\n",
    "\n",
    "plt.show()"
   ]
  },
  {
   "cell_type": "markdown",
   "id": "20aaa31d-32df-403c-a263-0b8c7e9cfd20",
   "metadata": {
    "jp-MarkdownHeadingCollapsed": true,
    "tags": []
   },
   "source": [
    "<h3>Regression Versuch mit mehreren Regressoren</h3>"
   ]
  },
  {
   "cell_type": "code",
   "execution_count": null,
   "id": "0661f21f-a762-4198-950a-e7482acc56cd",
   "metadata": {
    "tags": []
   },
   "outputs": [],
   "source": [
    "#Do a more complex regression\n",
    "#df_wdi_sentiment[\"sum_retweet_pos\"]\n",
    "#regressor = [\"count_tweets_neg\", \"count_tweets_pos\"]\n",
    "#regressor = [\"pct_pos_sum_all\"]\n",
    "\n",
    "\n",
    "regressor = [\"pct_pos\", \n",
    "            \"pct_neg_all\", \"pct_pos_sum\", \n",
    "            \"pct_pos_sum\", \"pct_neg_sum_all\", \"pct_pos_prod\"]\n",
    "\n",
    "#regressor = [\"returns_2\"]\n",
    "#regressor = [\"count_tweets_pos\", \"count_tweets_neg\"]\n",
    "#regressor = [\"sum_pos_like_retweet\", \"sum_neg_like_retweet\"]\n",
    "#regressor = [\"pct_pos_all\", \"pct_neg_all\"]\n",
    "#regressor = [\"pct_pos_sum\", \"pct_neg_sum\"]\n",
    "#regressor = [\"pct_pos_sum\"]\n",
    "#regressor = [\"pct_pos_sum_all\", \"pct_neg_sum_all\"]\n",
    "#regressor = [\"pct_pos_sum_all\"]\n",
    "regressor = [\"count_tweets_pos\", \"count_tweets_neg\", \"sum_pos_like_retweet\", \"sum_neg_like_retweet\",\n",
    "             \"pct_pos_all\", \"pct_neg_all\", \"pct_pos_sum_all\", \"pct_neg_sum_all\"]\n",
    "\n",
    "regressor = [\"dif_pos\", \"sum_like_pos\", \"sum_retweet_pos\"]\n",
    "regressor = [\"dif_day\"]\n",
    "#regressor = [\"dif_day\", \"sum_like_all\", \"sum_retweet_all\"]\n",
    "\n",
    "#regressor = [\"count_tweets_pos\", \"count_tweets_neg\"]\n",
    "\n",
    "#regressor = [\"return_close\"]\n",
    "#regressor = [\"Adj_Close\"]\n",
    "#df_wdi_sentiment[\"sum_all_like_retweet\"]\n",
    "\n",
    "further_regressors = [\"Volume\", \"count_tweets_all\", \"returns_5\", \"stoxx\", \"visa\", \"ma\"]\n",
    "#further_regressors = []\n",
    "\n",
    "output = \"returns_5\"\n",
    "\n",
    "lagnames = []\n",
    "\n",
    "lag_num = 5\n",
    "train_test = True\n",
    "log_regressor = False\n",
    "log_regressand = False\n",
    "\n",
    "df_wdi_sentiment = create_df(df)\n",
    "df_wdi_sentiment = add_further_regressors(df_wdi_sentiment)\n",
    "\n",
    "\n",
    "#####    Further fields    #####\n",
    "df_wdi_sentiment[\"stoxx\"] = df_stoxx.Adj_Close.pct_change(periods=5) + 1\n",
    "df_wdi_sentiment[\"visa\"] = df_visa.Adj_Close.pct_change(periods=5) + 1\n",
    "df_wdi_sentiment[\"ma\"] = df_ma.Adj_Close.pct_change(periods=5) + 1\n",
    "\n",
    "df_wdi_sentiment[\"return_close\"] = df_wdi_sentiment[\"returns_2\"] * df_wdi_sentiment[\"pct_pos_sum_all\"]\n",
    "\n",
    "df_wdi_sentiment[\"dif_day\"] = df_wdi_sentiment[\"sentiment_day\"].diff()\n",
    "\n",
    "df_wdi_sentiment[\"dif_pos\"] = df_wdi_sentiment[\"count_tweets_pos\"].diff()\n",
    "df_wdi_sentiment[\"dif_per_pos\"] = pct_change_pos_tweets\n",
    "df_wdi_sentiment[\"dif_neg\"] = df_wdi_sentiment[\"count_tweets_neg\"].diff()\n",
    "\n",
    "df_wdi_sentiment[\"dif_pos_sum\"] = df_wdi_sentiment[\"sum_pos_like_retweet\"].diff()\n",
    "df_wdi_sentiment[\"dif_neg_sum\"] = df_wdi_sentiment[\"sum_neg_like_retweet\"].diff()\n",
    "\n",
    "#####    Add Log    #####\n",
    "if log_regressand:\n",
    "    df_wdi_sentiment[output] = np.log(df_wdi_sentiment[output])\n",
    "if log_regressor:\n",
    "    for each in regressor:\n",
    "        df_wdi_sentiment[each] = np.log(df_wdi_sentiment[each]).replace([np.inf, -np.inf], 0)\n",
    "    for each in further_regressors:\n",
    "        df_wdi_sentiment[each] = np.log(df_wdi_sentiment[each]).replace([np.inf, -np.inf], 0)\n",
    "\n",
    "\n",
    "#####    Add Lags to the dataset    ######\n",
    "lags, df_wdi_sentiment = lagit(df_wdi_sentiment, lag_num, regressor)\n",
    "#lags, df_wdi_sentiment = lagit(df_wdi_sentiment, lag_num, regressor, True)\n",
    "lagnames.extend(lags)\n",
    "\n",
    "lags, df_wdi_sentiment = lagit(df_wdi_sentiment, 1, further_regressors, True)\n",
    "lagnames.extend(lags)\n",
    "\n",
    "\n",
    "#####    Execute Regression    #####\n",
    "if train_test:\n",
    "    reg_model, reg_predictions, test, reg_test_y, train, reg_train = regression(df_wdi_sentiment, lagnames, output)\n",
    "else:\n",
    "    reg_predictions, reg_model = regression_all(df_wdi_sentiment, lagnames, output)"
   ]
  },
  {
   "cell_type": "markdown",
   "id": "7f724924-1a23-4e3a-a769-9e127655ae5b",
   "metadata": {
    "jp-MarkdownHeadingCollapsed": true,
    "tags": []
   },
   "source": [
    "<h2>Outperform</h2>"
   ]
  },
  {
   "cell_type": "code",
   "execution_count": null,
   "id": "d9ae28bf-67a3-46c3-b79b-ae75d519072e",
   "metadata": {},
   "outputs": [],
   "source": [
    "test[\"direction_LR\"] = [1 if i > 0 else -1 for i in reg_predictions]"
   ]
  },
  {
   "cell_type": "code",
   "execution_count": null,
   "id": "3378a6a8-d6e6-4ed6-8dfe-5e53a014ff9f",
   "metadata": {},
   "outputs": [],
   "source": [
    "test[\"strat_LR\"] = test[\"direction_LR\"] * test[\"returns\"]"
   ]
  },
  {
   "cell_type": "code",
   "execution_count": null,
   "id": "58f53aa8-99e9-4864-8528-63c79fcbd2e6",
   "metadata": {},
   "outputs": [],
   "source": [
    "np.exp(test[[\"returns\", \"strat_LR\"]].sum())"
   ]
  },
  {
   "cell_type": "code",
   "execution_count": null,
   "id": "3b7ff6d1-665e-448e-a1a4-aea42cf5b552",
   "metadata": {},
   "outputs": [],
   "source": [
    "np.exp(test[[\"returns\", \"strat_LR\"]].cumsum()).plot()"
   ]
  },
  {
   "cell_type": "code",
   "execution_count": null,
   "id": "a781b58e-c9cd-461b-a087-4402e01bdeb9",
   "metadata": {},
   "outputs": [],
   "source": []
  },
  {
   "cell_type": "code",
   "execution_count": null,
   "id": "41cb26c1-97e3-4db0-9107-8443d16a349d",
   "metadata": {},
   "outputs": [],
   "source": []
  },
  {
   "cell_type": "markdown",
   "id": "5aec9db4-6e0a-4fe3-bdd3-7526ef370e3c",
   "metadata": {},
   "source": [
    "<h2>Test</h2>"
   ]
  },
  {
   "cell_type": "markdown",
   "id": "1977f102-26b2-45ac-a6b7-eac3d6980752",
   "metadata": {
    "tags": []
   },
   "source": [
    "<h3>Alte Funktionen</h3>"
   ]
  },
  {
   "cell_type": "markdown",
   "id": "7b848ee0-4270-4e3b-895d-db8e45eab4c6",
   "metadata": {
    "jp-MarkdownHeadingCollapsed": true,
    "tags": []
   },
   "source": [
    "<h4>Test Funktionen</h4>"
   ]
  },
  {
   "cell_type": "code",
   "execution_count": null,
   "id": "754e0b58-251e-4bf6-a01d-1ec18d8bca73",
   "metadata": {
    "tags": []
   },
   "outputs": [],
   "source": [
    "def test(df):\n",
    "    output = [\"returns\", \"intraday_change\", \"Adj Close\"]\n",
    "    regressor = [\"count_bert_pos\", \"count_bert_neg\", \"bert_pos_percent_all\", \"bert_neg_percent_all\", \n",
    "       \"bert_pos_percent\", \"bert_neg_percent\"]\n",
    "    \n",
    "    for each_out in output:\n",
    "        for each_in in regressor:\n",
    "            df_wdi_sentiment = create_df(df)\n",
    "            print(\"===================================\",each_out,\": \",each_in,\"===============================================\\n\")\n",
    "            lagnames, df_wdi_sentiment = lagit(df_wdi_sentiment, 5, each_in)\n",
    "            reg_model, reg_predictions, test = regression(df_wdi_sentiment, lagnames, each_out)\n",
    "            print(\"\\n\\n\\n\")\n",
    "    return df_wdi_sentiment\n",
    "df_wdi_sentiment = test(df)"
   ]
  },
  {
   "cell_type": "markdown",
   "id": "23b2eb8b-3093-4035-bb60-99a1dd25b398",
   "metadata": {
    "jp-MarkdownHeadingCollapsed": true,
    "tags": []
   },
   "source": [
    "<h4>Funktion um unterschiedliche Felder zu berechnen</h4>"
   ]
  },
  {
   "cell_type": "code",
   "execution_count": null,
   "id": "ecb3a637-2b9e-4d27-b593-b290486d7465",
   "metadata": {
    "tags": []
   },
   "outputs": [],
   "source": [
    "#Create a Support DF to calculate all different values, that might be useful.\n",
    "def sup_df_for_calculations(df_test, sentiment = \"sentiment_bert\"):\n",
    "    \n",
    "    \n",
    "    #Create the support df with the conversation id and the date from the df\n",
    "    df_sup = df_test[[\"conversation_id\", \"Date\"]].groupby(by=[\"Date\"]).count().reset_index().rename(columns={\"conversation_id\": \"count_tweets_all\"})\n",
    "\n",
    "    #Add Number of POS Tweets to DF\n",
    "    df_sup = df_sup.merge(df_test.loc[df_test[sentiment] == \"POS\"][[\"tweet_id\", \"Date\"]].groupby(by=[\"Date\"]).count().reset_index(), \n",
    "                                    how=\"left\",\n",
    "                                    on=\"Date\").rename(columns={\"tweet_id\": \"count_tweets_pos\"}).fillna(0)\n",
    "\n",
    "    #Add Number of NEG Tweets to DF\n",
    "    df_sup = df_sup.merge(df_test.loc[df_test[sentiment] == \"NEG\"][[\"tweet_id\", \"Date\"]].groupby(by=[\"Date\"]).count().reset_index(), \n",
    "                                    how=\"left\",\n",
    "                                    on=\"Date\").rename(columns={\"tweet_id\": \"count_tweets_neg\"}).fillna(0)\n",
    "\n",
    "    #Add sum of retweet count to DF\n",
    "    df_sup = df_sup.merge(df_test[[\"retweet_count\", \"Date\"]].groupby(by=[\"Date\"]).sum().reset_index(), \n",
    "                                    how=\"left\",\n",
    "                                    on=\"Date\").rename(columns={\"retweet_count\": \"sum_retweet_all\"}).fillna(0)\n",
    "\n",
    "    #Add sum of POS retweet count to DF\n",
    "    df_sup = df_sup.merge(df_test.loc[df_test[sentiment] == \"POS\"][[\"retweet_count\", \"Date\"]].groupby(by=[\"Date\"]).sum().reset_index(), \n",
    "                                    how=\"left\",\n",
    "                                    on=\"Date\").rename(columns={\"retweet_count\": \"sum_retweet_pos\"}).fillna(0)\n",
    "\n",
    "    #Add sum of NEG retweet count to DF\n",
    "    df_sup = df_sup.merge(df_test.loc[df_test[sentiment] == \"NEG\"][[\"retweet_count\", \"Date\"]].groupby(by=[\"Date\"]).sum().reset_index(), \n",
    "                                    how=\"left\",\n",
    "                                    on=\"Date\").rename(columns={\"retweet_count\": \"sum_retweet_neg\"}).fillna(0)\n",
    "\n",
    "    #Add sum of liked tweets to DF\n",
    "    df_sup = df_sup.merge(df_test[[\"like_count\", \"Date\"]].groupby(by=[\"Date\"]).sum().reset_index(), \n",
    "                                    how=\"left\",\n",
    "                                    on=\"Date\").rename(columns={\"like_count\": \"sum_like_all\"}).fillna(0)\n",
    "\n",
    "    #Add sum of POS liked tweets to DF\n",
    "    df_sup = df_sup.merge(df_test.loc[df_test[sentiment] == \"POS\"][[\"like_count\", \"Date\"]].groupby(by=[\"Date\"]).sum().reset_index(), \n",
    "                                    how=\"left\",\n",
    "                                    on=\"Date\").rename(columns={\"like_count\": \"sum_like_pos\"}).fillna(0)\n",
    "\n",
    "    #Add sum of NEG liked tweets to DF\n",
    "    df_sup = df_sup.merge(df_test.loc[df_test[sentiment] == \"NEG\"][[\"like_count\", \"Date\"]].groupby(by=[\"Date\"]).sum().reset_index(), \n",
    "                                    how=\"left\",\n",
    "                                    on=\"Date\").rename(columns={\"like_count\": \"sum_like_neg\"}).fillna(0)\n",
    "\n",
    "    #Add POS in relation to POS+NEG in percentage\n",
    "    df_sup[\"pct_pos\"] = df_sup.count_tweets_pos / (df_sup.count_tweets_pos + df_sup.count_tweets_neg)\n",
    "\n",
    "    #Add NEG in relation to POS+NEG in percentage\n",
    "    df_sup[\"pct_neg\"] = df_sup.count_tweets_neg / (df_sup.count_tweets_pos + df_sup.count_tweets_neg)\n",
    "\n",
    "    #Add POS in relation to all tweets in percentage\n",
    "    df_sup[\"pct_pos_all\"] = df_sup.count_tweets_pos / df_sup.count_tweets_all\n",
    "\n",
    "    #Add NEG in relation to all tweets in percentage\n",
    "    df_sup[\"pct_neg_all\"] = df_sup.count_tweets_neg / df_sup.count_tweets_all\n",
    "\n",
    "    #Add sum of POS tweets, liked and retweets\n",
    "    df_sup[\"sum_pos_like_retweet\"] = df_sup.count_tweets_pos + df_sup.sum_like_pos + df_sup.sum_retweet_pos\n",
    "\n",
    "    #Add sum of NEG tweets, liked and retweets\n",
    "    df_sup[\"sum_neg_like_retweet\"] = df_sup.count_tweets_neg + df_sup.sum_like_neg + df_sup.sum_retweet_neg\n",
    "\n",
    "    #Add sum of all tweets, liked and retweets\n",
    "    df_sup[\"sum_all_like_retweet\"] = df_sup.count_tweets_all + df_sup.sum_like_all + df_sup.sum_retweet_all\n",
    "\n",
    "    #Add pct of POS_sum to NEG_sum and POS_sum\n",
    "    df_sup[\"pct_pos_sum\"] = df_sup.sum_pos_like_retweet / (df_sup.sum_pos_like_retweet + df_sup.sum_neg_like_retweet)\n",
    "\n",
    "    #Add pct of NEG_sum to NEG_sum and POS_sum\n",
    "    df_sup[\"pct_neg_sum\"] = df_sup.sum_neg_like_retweet / (df_sup.sum_pos_like_retweet + df_sup.sum_neg_like_retweet)\n",
    "\n",
    "    #Add pct of POS_sum to ALL_sum\n",
    "    df_sup[\"pct_pos_sum_all\"] = df_sup.sum_pos_like_retweet / df_sup.sum_all_like_retweet\n",
    "\n",
    "    #Add pct of NEG_sum to ALL_sum\n",
    "    df_sup[\"pct_neg_sum_all\"] = df_sup.sum_neg_like_retweet / df_sup.sum_all_like_retweet\n",
    "\n",
    "    #Add prod between POS tweets and liked, retweets\n",
    "    df_sup[\"prod_pos_like_retweet\"] = df_sup.count_tweets_pos * [1 if i == 0 else i for i in (df_sup.sum_like_pos + df_sup.sum_retweet_pos)]\n",
    "\n",
    "    #Add prod between NEG tweets and liked, retweets\n",
    "    df_sup[\"prod_neg_like_retweet\"] = df_sup.count_tweets_neg * [1 if i == 0 else i for i in (df_sup.sum_like_neg + df_sup.sum_retweet_neg)]\n",
    "\n",
    "    #Add prod between all tweets and liked, retweets\n",
    "    df_sup[\"prod_all_like_retweet\"] = df_sup.count_tweets_all * [1 if i == 0 else i for i in (df_sup.sum_like_all + df_sup.sum_retweet_all)]\n",
    "\n",
    "    #Add pct of POS_prod to NEG_prod and POS_prod\n",
    "    df_sup[\"pct_pos_prod\"] = df_sup.prod_pos_like_retweet / (df_sup.prod_pos_like_retweet + df_sup.prod_neg_like_retweet)\n",
    "\n",
    "    #Add pct of NEG_prod to NEG_prod and POS_prod\n",
    "    df_sup[\"pct_neg_prod\"] = df_sup.prod_neg_like_retweet / (df_sup.prod_pos_like_retweet + df_sup.prod_neg_like_retweet)\n",
    "\n",
    "    #Add pct of POS_prod to all_prod\n",
    "    df_sup[\"pct_pos_prod_all\"] = df_sup.prod_pos_like_retweet / df_sup.prod_all_like_retweet\n",
    "\n",
    "    #Add pct of NEG_prod to all_prod\n",
    "    df_sup[\"pct_neg_prod_all\"] = df_sup.prod_neg_like_retweet / df_sup.prod_all_like_retweet\n",
    "    \n",
    "    #Add relation of POS and NEG\n",
    "    df_sup[\"relation_pos_neg\"] = (df_sup[\"count_tweets_pos\"] / df_sup[\"count_tweets_neg\"]).replace(np.inf, np.nan).fillna(0)\n",
    "    \n",
    "    #Add relation of NEG and POS\n",
    "    df_sup[\"relation_neg_pos\"] = (df_sup[\"count_tweets_neg\"] / df_sup[\"count_tweets_pos\"]).replace(np.inf, np.nan).fillna(0)\n",
    "    \n",
    "    #Add relation of sum POS and NEG\n",
    "    df_sup[\"relation_sum_pos_neg\"] = (df_sup[\"sum_pos_like_retweet\"] / df_sup[\"sum_neg_like_retweet\"]).replace(np.inf, np.nan).fillna(0)\n",
    "    \n",
    "    #Add relation of sum NEG and POS\n",
    "    df_sup[\"relation_sum_neg_pos\"] = (df_sup[\"sum_neg_like_retweet\"] / df_sup[\"sum_pos_like_retweet\"]).replace(np.inf, np.nan).fillna(0)\n",
    "    \n",
    "    #Add relation of prod POS and NEG\n",
    "    df_sup[\"relation_prod_pos_neg\"] = (df_sup[\"prod_pos_like_retweet\"] / df_sup[\"prod_neg_like_retweet\"]).replace(np.inf, np.nan).fillna(0)\n",
    "    \n",
    "    #Add relation of prod NEG and POS\n",
    "    df_sup[\"relation_prod_neg_pos\"] = (df_sup[\"prod_neg_like_retweet\"] / df_sup[\"prod_pos_like_retweet\"]).replace(np.inf, np.nan).fillna(0)\n",
    "    \n",
    "    #Return the support df\n",
    "    return df_sup\n",
    "\n"
   ]
  },
  {
   "cell_type": "code",
   "execution_count": null,
   "id": "c8d3b9ac-a0a7-4fb0-a12f-042a841efcb7",
   "metadata": {
    "tags": []
   },
   "outputs": [],
   "source": [
    "def add_further_regressors(df):\n",
    "    df[\"sentiment_day\"] = df[\"count_tweets_pos\"] - df[\"count_tweets_neg\"]\n",
    "    df[\"sentiment_day_sum\"] = df[\"sum_pos_like_retweet\"] - df[\"sum_neg_like_retweet\"]\n",
    "    df[\"sentiment_day_prod\"] = df[\"prod_pos_like_retweet\"] - df[\"prod_neg_like_retweet\"]\n",
    "    \n",
    "    df[\"sentiment_dummy\"] = [1 if i > 0 else -1 if i < 0 else 0 for i in df.sentiment_day]\n",
    "    df[\"sentiment_dummy_sum\"] = [1 if i > 0 else -1 if i < 0 else 0 for i in df.sentiment_day_sum]\n",
    "    df[\"sentiment_dummy_prod\"] = [1 if i > 0 else -1 if i < 0 else 0 for i in df.sentiment_day_prod]\n",
    "    \n",
    "    df[\"sum_pos_tweets_retweets\"] = df[\"count_tweets_pos\"] + df[\"sum_retweet_pos\"]\n",
    "    df[\"sum_neg_tweets_retweets\"] = df[\"count_tweets_neg\"] + df[\"sum_retweet_pos\"]\n",
    "    \n",
    "    df[\"pos_close\"] = df[\"Adj_Close\"] * df[\"pct_pos_sum\"]\n",
    "    df[\"pos_returns\"] = df[\"returns\"] * df[\"pct_pos_sum_all\"]\n",
    "    \n",
    "    df[\"indicator\"] =  [1 if i > 1 else -1 if i < 1 else 0 for i in df[\"returns_2\"]]\n",
    "    \n",
    "    return df"
   ]
  },
  {
   "cell_type": "markdown",
   "id": "0461e26c-dd42-439e-961c-1c1ae0a7e135",
   "metadata": {
    "jp-MarkdownHeadingCollapsed": true,
    "tags": []
   },
   "source": [
    "<h4>Alte Funktionen für die Regression</h4>"
   ]
  },
  {
   "cell_type": "code",
   "execution_count": null,
   "id": "ae514336-9023-476c-a8e8-658f350e0670",
   "metadata": {},
   "outputs": [],
   "source": [
    "def test_regression(df, regressor, output, lag_num, train_test = True, log = False, log_2 = False):\n",
    "    \n",
    "    print(\"=========================\", regressor, \"=========================\\n\")\n",
    "    \n",
    "    df_wdi_sentiment = create_df(df)\n",
    "    regressor = [regressor]\n",
    "    \n",
    "    if log:\n",
    "        df_wdi_sentiment = log_fkt(df_wdi_sentiment, regressor)\n",
    "    \n",
    "    if log_2:\n",
    "        df_wdi_sentiment = log_fkt(df_wdi_sentiment, output)\n",
    "    \n",
    "    df_wdi_sentiment = add_further_regressors(df_wdi_sentiment)\n",
    "    \n",
    "    lagnames, df_wdi_sentiment = lagit(df_wdi_sentiment, lag_num, regressor, True)\n",
    "    \n",
    "    for each in range(len(lagnames)):\n",
    "        print(\"x{each_str}: {lagnames_each}\".format(each_str=each+1, lagnames_each=lagnames[each]))\n",
    "    if train_test:\n",
    "        reg_model, reg_predictions, test, reg_test_y = regression(df_wdi_sentiment, lagnames, output)\n",
    "    else:\n",
    "        reg_predictions, reg_model = regression_all(df_wdi_sentiment, lagnames, output)\n",
    "        \n",
    "    return df_wdi_sentiment, lagnames, reg_predictions"
   ]
  },
  {
   "cell_type": "markdown",
   "id": "7b5b1dce-22e1-4322-bd4a-f8ea80c5856d",
   "metadata": {
    "tags": []
   },
   "source": [
    "<h3>Tests zum löschen</h3>"
   ]
  },
  {
   "cell_type": "markdown",
   "id": "af73a0e5-8ec2-4bab-88cb-7e008bc443a2",
   "metadata": {
    "jp-MarkdownHeadingCollapsed": true,
    "tags": []
   },
   "source": [
    "<h2>Alte Funktionen und alter Code</h2>"
   ]
  },
  {
   "cell_type": "code",
   "execution_count": null,
   "id": "8fd9d2a8-eb95-4c6d-a732-ba32c7b7534b",
   "metadata": {},
   "outputs": [],
   "source": [
    "#add data to df\n",
    "def calculate_sentiment(df):\n",
    "    #create a DF with the dates (as dates) and the sum of all tweets grouped by the date\n",
    "    df_date_count = pd.DataFrame({\"count_tweets\": df[\"tweet_id\"].groupby(pd.to_datetime(df[\"created_at\"]).apply(lambda x: x.date())).count()}).reset_index()\n",
    "    \n",
    "    #create a DF with the dates, tweet_id and the sentiment values cahnges to 1, 0 and -1 for calculating the sum grouped by\n",
    "    #by the date. \n",
    "    df_sentiment = pd.DataFrame({\"created_at\": pd.to_datetime(df[\"created_at\"]).apply(lambda x: x.date()), \n",
    "                                 \"tweet_id\": df[\"tweet_id\"], \n",
    "                                 \"sentiment_bert\": [1 if i == \"POS\" else 0 if i == \"NEU\" else -1 for i in df.sentiment_bert]}).reset_index(drop=True)\n",
    "    \n",
    "    #Creates a DF for all negativ Values (BERT)\n",
    "    df_sentiment_neg = df_sentiment.loc[df_sentiment[\"sentiment_bert\"] == -1][[\"created_at\", \"tweet_id\"]].reset_index(drop=True)\n",
    "\n",
    "    #Add the information about neg values from bert.\n",
    "    df_date_count = df_date_count.merge(df_sentiment_neg.groupby([\"created_at\"]).count().reset_index().rename(columns={\"tweet_id\": \"count_bert_neg\"}),\n",
    "                                        how=\"outer\", on=\"created_at\").fillna(0)\n",
    "    #Creates a DF for all positiv Values (BERT)\n",
    "    df_sentiment_pos = df_sentiment.loc[df_sentiment[\"sentiment_bert\"] == 1][[\"created_at\", \"tweet_id\"]].reset_index(drop=True)\n",
    "\n",
    "    #Add the information about pos values from bert.\n",
    "    df_date_count = df_date_count.merge(df_sentiment_pos.groupby([\"created_at\"]).count().reset_index().rename(columns={\"tweet_id\": \"count_bert_pos\"}),\n",
    "                                        how=\"outer\", on=\"created_at\").fillna(0)\n",
    "    \n",
    "    #Calculate pos percent\n",
    "    df_date_count[\"bert_pos_percent_all\"] = df_date_count[\"count_bert_pos\"] / df_date_count[\"count_tweets\"]\n",
    "    \n",
    "    #Calculate neg percent\n",
    "    df_date_count[\"bert_neg_percent_all\"] = df_date_count[\"count_bert_neg\"] / df_date_count[\"count_tweets\"]\n",
    "    \n",
    "    #Calculate pos percent\n",
    "    df_date_count[\"bert_pos_percent\"] = df_date_count[\"count_bert_pos\"] / (df_date_count[\"count_bert_pos\"] + df_date_count[\"count_bert_neg\"])\n",
    "    \n",
    "    #Calculate neg percent\n",
    "    df_date_count[\"bert_neg_percent\"] = df_date_count[\"count_bert_neg\"] / (df_date_count[\"count_bert_pos\"] + df_date_count[\"count_bert_neg\"])\n",
    "    \n",
    "    #Change Date\n",
    "    df_date_count = df_date_count.rename(columns={\"created_at\": \"Date\"})\n",
    "    \n",
    "    return df_date_count"
   ]
  },
  {
   "cell_type": "code",
   "execution_count": null,
   "id": "4d4e6f79-0978-4baa-806b-030be7c8898d",
   "metadata": {},
   "outputs": [],
   "source": [
    "#add data to df \n",
    "#In this DF the tweets are not only counted, also the retweet count is used.\n",
    "def calculate_sentiment(df):    \n",
    "    #create a DF with the dates, tweet_id and the sentiment values cahnges to 1, 0 and -1 for calculating the sum grouped by\n",
    "    #by the date. \n",
    "    df_sentiment = pd.DataFrame({\"created_at\": pd.to_datetime(df[\"created_at\"]).apply(lambda x: x.date()), \n",
    "                                 \"tweet_id\": df[\"tweet_id\"], \n",
    "                                 \"sentiment_bert\": [1 if i == \"POS\" else 0 if i == \"NEU\" else -1 for i in df.sentiment_bert],\n",
    "                                 \"retweet_count\": [1 if i == 0 else i+1 for i in df.retweet_count]}).reset_index(drop=True)\n",
    "    \n",
    "    #create a DF with the dates (as dates) and the sum of all tweets grouped by the date\n",
    "    df_date_count = pd.DataFrame({\"count_tweets\": df_sentiment[\"retweet_count\"].groupby(pd.to_datetime(df_sentiment[\"created_at\"]).apply(lambda x: x.date())).sum()}).reset_index()\n",
    "    \n",
    "    #Creates a DF for all negativ Values (BERT)\n",
    "    df_sentiment_neg = df_sentiment.loc[df_sentiment[\"sentiment_bert\"] == -1][[\"created_at\", \"retweet_count\"]].reset_index(drop=True)\n",
    "                        \n",
    "    #Add the information about neg values from bert.\n",
    "    df_date_count = df_date_count.merge(df_sentiment_neg.groupby([\"created_at\"]).sum().reset_index().rename(columns={\"retweet_count\": \"count_bert_neg\"}),\n",
    "                                        how=\"outer\", on=\"created_at\").fillna(0)\n",
    "    #Creates a DF for all positiv Values (BERT)\n",
    "    df_sentiment_pos = df_sentiment.loc[df_sentiment[\"sentiment_bert\"] == 1][[\"created_at\", \"retweet_count\"]].reset_index(drop=True)\n",
    "\n",
    "    #Add the information about pos values from bert.\n",
    "    df_date_count = df_date_count.merge(df_sentiment_pos.groupby([\"created_at\"]).sum().reset_index().rename(columns={\"retweet_count\": \"count_bert_pos\"}),\n",
    "                                        how=\"outer\", on=\"created_at\").fillna(0)\n",
    "    \n",
    "    #Calculate pos percent\n",
    "    df_date_count[\"bert_pos_percent_all\"] = df_date_count[\"count_bert_pos\"] / df_date_count[\"count_tweets\"]\n",
    "    \n",
    "    #Calculate neg percent\n",
    "    df_date_count[\"bert_neg_percent_all\"] = df_date_count[\"count_bert_neg\"] / df_date_count[\"count_tweets\"]\n",
    "    \n",
    "    #Calculate pos percent\n",
    "    df_date_count[\"bert_pos_percent\"] = df_date_count[\"count_bert_pos\"] / (df_date_count[\"count_bert_pos\"] + df_date_count[\"count_bert_neg\"])\n",
    "    \n",
    "    #Calculate neg percent\n",
    "    df_date_count[\"bert_neg_percent\"] = df_date_count[\"count_bert_neg\"] / (df_date_count[\"count_bert_pos\"] + df_date_count[\"count_bert_neg\"])\n",
    "    \n",
    "    #Change Date\n",
    "    df_date_count = df_date_count.rename(columns={\"created_at\": \"Date\"})\n",
    "    \n",
    "    return df_date_count"
   ]
  },
  {
   "cell_type": "code",
   "execution_count": null,
   "id": "6a1eff76-85e4-4f43-bebd-a98de5e4a635",
   "metadata": {},
   "outputs": [],
   "source": [
    "(df_wdi_sentiment[\"count_tweets_pos\"] / df_wdi_sentiment[\"count_tweets_neg\"]).replace(np.inf, np.nan).fillna(0)"
   ]
  },
  {
   "cell_type": "code",
   "execution_count": null,
   "id": "600ffb44-80f7-4891-9d68-c05c1f0ecc9c",
   "metadata": {},
   "outputs": [],
   "source": [
    "(df_wdi_sentiment[\"sum_pos_like_retweet\"] / df_wdi_sentiment[\"sum_neg_like_retweet\"]).replace(np.inf, np.nan).fillna(0)"
   ]
  },
  {
   "cell_type": "code",
   "execution_count": null,
   "id": "8c6ef06a-c018-43e9-9a6b-c7f412a3b6d2",
   "metadata": {},
   "outputs": [],
   "source": [
    "(df_wdi_sentiment[\"prod_pos_like_retweet\"] / df_wdi_sentiment[\"prod_neg_like_retweet\"]).replace(np.inf, np.nan).fillna(0)"
   ]
  },
  {
   "cell_type": "code",
   "execution_count": null,
   "id": "1f70a20d-bc87-46ef-bc2b-aabbbfd4a898",
   "metadata": {},
   "outputs": [],
   "source": [
    "test_list = []\n",
    "print(type(test_list))"
   ]
  },
  {
   "cell_type": "code",
   "execution_count": null,
   "id": "f3680659-94bb-4c76-af70-bad8d1fa465a",
   "metadata": {},
   "outputs": [],
   "source": [
    "if type(test_list) == list:\n",
    "    print(True)\n",
    "else:\n",
    "    print(False)"
   ]
  },
  {
   "cell_type": "code",
   "execution_count": null,
   "id": "2e9cdf9d-82e1-48c4-a212-898518f9a645",
   "metadata": {},
   "outputs": [],
   "source": [
    "df = pd.concat([df_en, df_de]).reset_index(drop=True)"
   ]
  },
  {
   "cell_type": "code",
   "execution_count": null,
   "id": "bcd0ef9a-a0b8-48b9-9971-66549aa3661d",
   "metadata": {},
   "outputs": [],
   "source": [
    "df_wdi_sentiment[\"Volume\"] = np.log([1 if i == 0 else i for i in df_wdi_sentiment[\"Volume\"]])"
   ]
  },
  {
   "cell_type": "code",
   "execution_count": null,
   "id": "30c67b6c-dd56-4df6-abbe-c30c0b577a58",
   "metadata": {},
   "outputs": [],
   "source": [
    "print(len(df_de))\n",
    "print(len(df_en))\n",
    "print(len(df_de) + len(df_en))\n",
    "print(len(df))"
   ]
  },
  {
   "cell_type": "code",
   "execution_count": null,
   "id": "0a4fb22b-2624-4a74-b8d9-cc5f34c693d4",
   "metadata": {},
   "outputs": [],
   "source": [
    "df_wdi_sentiment"
   ]
  },
  {
   "cell_type": "code",
   "execution_count": null,
   "id": "4efe0faa-6574-43c9-b6e9-72784edf5b59",
   "metadata": {},
   "outputs": [],
   "source": [
    "np.log([1 if i == 0 else i for i in df_wdi_sentiment[\"Volume\"]])"
   ]
  },
  {
   "cell_type": "code",
   "execution_count": null,
   "id": "5717b3cd-a4dc-462f-957b-5532363ff723",
   "metadata": {},
   "outputs": [],
   "source": [
    "np.log(211)"
   ]
  },
  {
   "cell_type": "code",
   "execution_count": null,
   "id": "564da044-ab43-45ac-9dc7-c6ea89985b7d",
   "metadata": {},
   "outputs": [],
   "source": [
    "np.log([1 if i == 0 else i for i in df_wdi_sentiment[\"Volume\"]])"
   ]
  },
  {
   "cell_type": "code",
   "execution_count": null,
   "id": "2132c1b4-33ef-4806-9ca7-3114affe0d9e",
   "metadata": {},
   "outputs": [],
   "source": [
    "df_wdi_sentiment = create_df(df)"
   ]
  },
  {
   "cell_type": "code",
   "execution_count": null,
   "id": "bcfa2fba-56b1-45cc-a01f-fec732fe34bf",
   "metadata": {},
   "outputs": [],
   "source": [
    "df_wdi_sentiment[df_wdi_sentiment[\"relation_pos_neg\"] < 0]"
   ]
  },
  {
   "cell_type": "code",
   "execution_count": null,
   "id": "d0bff7f7-fc42-4eb9-9ec9-c83d0751b777",
   "metadata": {},
   "outputs": [],
   "source": [
    "[1 if i > 0 else -1 if i < 0 else 0 for i in (df_wdi_sentiment.count_tweets_pos-df_wdi_sentiment.count_tweets_neg)]"
   ]
  },
  {
   "cell_type": "code",
   "execution_count": null,
   "id": "5426d4f4-4f11-4cfd-8b91-0a1389b721b4",
   "metadata": {},
   "outputs": [],
   "source": [
    "df_wdi_sentiment.tail()"
   ]
  },
  {
   "cell_type": "code",
   "execution_count": null,
   "id": "473d0e9d-0855-42a9-a25f-ec469106e1ad",
   "metadata": {},
   "outputs": [],
   "source": [
    "df_wdi_sentiment.iloc[1139]"
   ]
  },
  {
   "cell_type": "code",
   "execution_count": null,
   "id": "c580cda5-2f5c-498c-949b-42f48b9cc975",
   "metadata": {},
   "outputs": [],
   "source": [
    "df_wdi_sentiment"
   ]
  },
  {
   "cell_type": "code",
   "execution_count": null,
   "id": "c3e38880-dd48-4c74-9165-2a261d59f85b",
   "metadata": {},
   "outputs": [],
   "source": [
    "len(create_df(df))"
   ]
  },
  {
   "cell_type": "code",
   "execution_count": null,
   "id": "8b0ab8af-9a1b-4cb3-91ea-eebdc5387f1b",
   "metadata": {},
   "outputs": [],
   "source": [
    "df[\"Lag_\"+each+\"_\"+str(i)] = df[each].shift(i)"
   ]
  },
  {
   "cell_type": "code",
   "execution_count": null,
   "id": "a7924936-92f2-4090-94da-f631fc8a795b",
   "metadata": {},
   "outputs": [],
   "source": [
    "df_wdi_sentiment = create_df(df)\n",
    "df_wdi_sentiment[\"Adj_Close_prev_day\"] = df_wdi_sentiment[\"Adj_Close\"].shift(1)\n",
    "df_wdi_sentiment.dropna(subset=[\"Adj_Close_prev_day\"], inplace=True)"
   ]
  },
  {
   "cell_type": "code",
   "execution_count": null,
   "id": "481526c7-500a-45ef-8b85-f7408b038a61",
   "metadata": {},
   "outputs": [],
   "source": [
    "df_wdi_sentiment[\"Adj_Close_prev_day\"]"
   ]
  },
  {
   "cell_type": "code",
   "execution_count": null,
   "id": "e82d68ca-ae8d-4dfa-803e-c7d6a0043578",
   "metadata": {},
   "outputs": [],
   "source": [
    "df_wdi_sentiment"
   ]
  },
  {
   "cell_type": "code",
   "execution_count": null,
   "id": "47ca2710-6ebc-4e39-8195-9e8bd1e3826d",
   "metadata": {},
   "outputs": [],
   "source": [
    "df_wdi_sentiment[\"Adj_Close\"] + np.sign(df_wdi_sentiment[\"pct_pos_sum\"]) * (df_wdi_sentiment[\"Adj_Close\"] - df_wdi_sentiment[\"Adj_Close_prev_day\"])."
   ]
  },
  {
   "cell_type": "code",
   "execution_count": null,
   "id": "e6621202-9e41-4e55-b017-5d9fe82acb67",
   "metadata": {},
   "outputs": [],
   "source": [
    "df_wdi_sentiment[\"Adj_Close\"] + np.sign(df_wdi_sentiment[\"pct_pos_sum\"]) * (df_wdi_sentiment[\"Adj_Close\"] - df_wdi_sentiment[\"Adj_Close_prev_day\"])"
   ]
  },
  {
   "cell_type": "markdown",
   "id": "2c79b121-6da5-4584-90ff-2e9cb15b14f1",
   "metadata": {
    "tags": []
   },
   "source": [
    "<h2>Testy</h2>"
   ]
  },
  {
   "cell_type": "code",
   "execution_count": null,
   "id": "5048391b-5c04-45bf-90b9-6e1bd3d52e8c",
   "metadata": {},
   "outputs": [],
   "source": [
    "df_X = df_wdi_sentiment[lagnames]"
   ]
  },
  {
   "cell_type": "code",
   "execution_count": null,
   "id": "d048a6ad-5b43-4adc-903c-c5781f6a227d",
   "metadata": {},
   "outputs": [],
   "source": [
    "df_X[\"returns_2\"] = df_wdi_sentiment[\"returns_2\"]"
   ]
  },
  {
   "cell_type": "code",
   "execution_count": null,
   "id": "57200ccd-8e03-4ff1-8a57-c14ec20ff426",
   "metadata": {},
   "outputs": [],
   "source": [
    "df_X"
   ]
  },
  {
   "cell_type": "code",
   "execution_count": null,
   "id": "0037b372-c116-44ad-a246-bf434c62de39",
   "metadata": {},
   "outputs": [],
   "source": [
    "vif = pd.DataFrame()\n",
    "vif[\"Features\"] = df_X.columns\n",
    "vif[\"VIF_Factor\"] = [variance_inflation_factor(df_X.values, i) for i in range(df_X.shape[1])]"
   ]
  },
  {
   "cell_type": "code",
   "execution_count": null,
   "id": "4cb520e3-ee2a-4616-8f3c-9d7c5fb39eae",
   "metadata": {},
   "outputs": [],
   "source": [
    "vif"
   ]
  },
  {
   "cell_type": "code",
   "execution_count": null,
   "id": "551bbcb6-4974-44c4-ae0a-61b7f5e68ac7",
   "metadata": {},
   "outputs": [],
   "source": [
    "df_stoxx[\"Adj_Close\"]"
   ]
  },
  {
   "cell_type": "code",
   "execution_count": null,
   "id": "7f5e76a5-ac99-4357-9d7b-e47185fe24a6",
   "metadata": {},
   "outputs": [],
   "source": [
    "df_wdi_sentiment[\"stoxx\"] = df_stoxx.Adj_Close.pct_change() + 1"
   ]
  },
  {
   "cell_type": "code",
   "execution_count": null,
   "id": "5f23823d-2e85-49f4-8847-cc1b773cbda5",
   "metadata": {},
   "outputs": [],
   "source": [
    "#Eingefügt\n",
    "df[\"sentiment_bert_value\"] = df[\"sentiment_bert\"].replace({\"NEU\": 0, \"NEG\": -1, \"POS\": 1})"
   ]
  },
  {
   "cell_type": "code",
   "execution_count": null,
   "id": "b6afc87c-f1a4-4e4f-bdc0-4b4aa79bb830",
   "metadata": {
    "tags": []
   },
   "outputs": [],
   "source": [
    "#Added as new function\n",
    "df_wdi_week = pd.DataFrame(columns=[\"Date\", \"Week\", \"Year\", \"Adj_Close\"])\n",
    "week = 5\n",
    "for each in range(len(df_wdi)):\n",
    "    #Get the date\n",
    "    each_date = df_wdi[\"Date\"][each]\n",
    "    adj_close = df_wdi[\"Adj_Close\"][each]\n",
    "    \n",
    "    #Check if the date is the last date\n",
    "    if df_wdi[\"Date\"][each] == datetime.date(2020,7,31):\n",
    "        #Get Week Number, start and end day\n",
    "        week = each_date.isocalendar().week\n",
    "        year = each_date.isocalendar().year\n",
    "        end_day = df_wdi[\"Date\"].iloc[-1]\n",
    "        df_wdi_week = df_wdi_week.append({\"Date\": each_date, \"Week\": week, \"Year\": year, \"Adj_Close\": adj_close}, ignore_index=True)\n",
    "        print(\"Week: \", week, \"; Ende: \", end_day)\n",
    "    else:\n",
    "        #Get the next week number\n",
    "        next_week = df_wdi[\"Date\"][each+1].isocalendar().week\n",
    "        \n",
    "        #Check if the next day is in another week if not get week number and start and end day. \n",
    "        if each_date.isocalendar().week != next_week:\n",
    "            week = each_date.isocalendar().week\n",
    "            year = each_date.isocalendar().year\n",
    "            end_day = each_date\n",
    "            df_wdi_week = df_wdi_week.append({\"Date\": each_date, \"Week\": week, \"Year\": year, \"Adj_Close\": adj_close}, ignore_index=True)\n",
    "            print(\"Week: \", week, \"; End: \", end_day)"
   ]
  },
  {
   "cell_type": "code",
   "execution_count": null,
   "id": "79232b7e-0a51-42e8-b28f-99fe6f16ea57",
   "metadata": {},
   "outputs": [],
   "source": [
    "#Added to the function\n",
    "df_wdi_week[\"returns_week\"] = df_wdi_week.Adj_Close.pct_change()+1"
   ]
  },
  {
   "cell_type": "code",
   "execution_count": null,
   "id": "6589934e-96ff-4ac2-aada-95e66a2bf551",
   "metadata": {},
   "outputs": [],
   "source": [
    "#Added to the pre processing\n",
    "df_week_year = pd.DataFrame([(i.isocalendar().week, i.isocalendar().year) for i in df[\"Date\"]], columns=[\"Week\", \"Year\"])\n",
    "df[[\"Week\", \"Year\"]] = df_week_year[[\"Week\", \"Year\"]]"
   ]
  },
  {
   "cell_type": "code",
   "execution_count": null,
   "id": "fcfd9233-393a-47ee-a8aa-e47ae4625157",
   "metadata": {},
   "outputs": [],
   "source": [
    "#Included in funciton\n",
    "new_row = pd.DataFrame([[datetime.date(2016,2,6), 5, 2016, 40.091812]], columns=[\"Date\", \"Week\", \"Year\", \"Adj_Close\"])\n",
    "df_wdi_week = pd.concat([df_wdi_week, new_row], ignore_index=True)"
   ]
  },
  {
   "cell_type": "code",
   "execution_count": null,
   "id": "fe822171-bda5-4bb6-881a-dcf226f1b41f",
   "metadata": {},
   "outputs": [],
   "source": [
    "df_test = df_de.copy()"
   ]
  },
  {
   "cell_type": "code",
   "execution_count": null,
   "id": "a3018c30-98f8-43fd-b14e-70d2af717f10",
   "metadata": {},
   "outputs": [],
   "source": [
    "df_test[\"sentiment_vader_value\"] = [1 if i >= 0.05 else -1 if i <= -0.05 else 0 for i in df_test[\"sentiment_vader\"]]"
   ]
  },
  {
   "cell_type": "code",
   "execution_count": null,
   "id": "1c17153e-bd4e-4a9f-9154-36c5675af248",
   "metadata": {},
   "outputs": [],
   "source": [
    "df_test[\"sentiment_vader\"].head(10)"
   ]
  },
  {
   "cell_type": "code",
   "execution_count": null,
   "id": "a3a29b6b-a968-4063-840a-f1c57368cb40",
   "metadata": {},
   "outputs": [],
   "source": [
    "df_test[\"sentiment_vader_value\"].head(10)"
   ]
  },
  {
   "cell_type": "code",
   "execution_count": null,
   "id": "06aac221-cdc8-427c-b12e-82de7733a9c0",
   "metadata": {},
   "outputs": [],
   "source": [
    "df_en[\"sentiment_vader\"]"
   ]
  },
  {
   "cell_type": "code",
   "execution_count": null,
   "id": "2dfc5739-227e-49f4-bff3-9eec09e66608",
   "metadata": {},
   "outputs": [],
   "source": [
    "df_de[[\"Date\", \"sentiment_bert\", \"sentiment_bert_value\", \"sentiment_vader\", \"sentiment_vader_value\", \"Week\", \"Year\"]].head(10)"
   ]
  },
  {
   "cell_type": "code",
   "execution_count": null,
   "id": "2a95fee2-519d-4e98-9c15-05cec893f50f",
   "metadata": {},
   "outputs": [],
   "source": [
    "df_en[[\"Date\", \"sentiment_bert\", \"sentiment_bert_value\", \"sentiment_vader\", \"sentiment_vader_value\", \"Week\", \"Year\"]].head(10)"
   ]
  },
  {
   "cell_type": "code",
   "execution_count": null,
   "id": "53326f90-ed3f-4497-851d-e06fa10e8b4b",
   "metadata": {},
   "outputs": [],
   "source": [
    "df"
   ]
  },
  {
   "cell_type": "code",
   "execution_count": null,
   "id": "71c798ed-833c-43eb-bda2-f1e9d4e13ccf",
   "metadata": {},
   "outputs": [],
   "source": [
    "print(len(df_de))\n",
    "print(len(df_en))\n",
    "print(len(df))\n",
    "\n",
    "print(len(df_de) + len(df_en))"
   ]
  },
  {
   "cell_type": "code",
   "execution_count": 75,
   "id": "dfd6393a-6faa-418c-8288-8a47ad795407",
   "metadata": {},
   "outputs": [],
   "source": [
    "df_test = pd.DataFrame()"
   ]
  },
  {
   "cell_type": "code",
   "execution_count": 76,
   "id": "64affb49-211f-4e27-9eba-90ee2cfc1662",
   "metadata": {},
   "outputs": [],
   "source": [
    "df_test = concat_finance_df(df_wdi)"
   ]
  },
  {
   "cell_type": "code",
   "execution_count": 77,
   "id": "708851a0-f749-4be2-8b93-6f3d982ed9bf",
   "metadata": {},
   "outputs": [
    {
     "data": {
      "text/html": [
       "<div>\n",
       "<style scoped>\n",
       "    .dataframe tbody tr th:only-of-type {\n",
       "        vertical-align: middle;\n",
       "    }\n",
       "\n",
       "    .dataframe tbody tr th {\n",
       "        vertical-align: top;\n",
       "    }\n",
       "\n",
       "    .dataframe thead th {\n",
       "        text-align: right;\n",
       "    }\n",
       "</style>\n",
       "<table border=\"1\" class=\"dataframe\">\n",
       "  <thead>\n",
       "    <tr style=\"text-align: right;\">\n",
       "      <th></th>\n",
       "      <th>Date</th>\n",
       "      <th>Week</th>\n",
       "      <th>Year</th>\n",
       "      <th>Adj_Close</th>\n",
       "      <th>Volume</th>\n",
       "      <th>returns_week</th>\n",
       "      <th>returns_stoxx</th>\n",
       "      <th>returns_ma</th>\n",
       "      <th>returns_visa</th>\n",
       "    </tr>\n",
       "  </thead>\n",
       "  <tbody>\n",
       "    <tr>\n",
       "      <th>0</th>\n",
       "      <td>2016-02-05</td>\n",
       "      <td>5</td>\n",
       "      <td>2016</td>\n",
       "      <td>42.091812</td>\n",
       "      <td>269.0</td>\n",
       "      <td>NaN</td>\n",
       "      <td>NaN</td>\n",
       "      <td>NaN</td>\n",
       "      <td>NaN</td>\n",
       "    </tr>\n",
       "    <tr>\n",
       "      <th>1</th>\n",
       "      <td>2016-02-12</td>\n",
       "      <td>6</td>\n",
       "      <td>2016</td>\n",
       "      <td>39.202427</td>\n",
       "      <td>1286.0</td>\n",
       "      <td>0.931355</td>\n",
       "      <td>0.957203</td>\n",
       "      <td>1.025737</td>\n",
       "      <td>0.984344</td>\n",
       "    </tr>\n",
       "    <tr>\n",
       "      <th>2</th>\n",
       "      <td>2016-02-19</td>\n",
       "      <td>7</td>\n",
       "      <td>2016</td>\n",
       "      <td>42.38422</td>\n",
       "      <td>1469.0</td>\n",
       "      <td>1.081163</td>\n",
       "      <td>1.041685</td>\n",
       "      <td>1.022382</td>\n",
       "      <td>1.017767</td>\n",
       "    </tr>\n",
       "    <tr>\n",
       "      <th>3</th>\n",
       "      <td>2016-02-26</td>\n",
       "      <td>8</td>\n",
       "      <td>2016</td>\n",
       "      <td>36.972202</td>\n",
       "      <td>5069.0</td>\n",
       "      <td>0.872311</td>\n",
       "      <td>1.020240</td>\n",
       "      <td>1.008987</td>\n",
       "      <td>1.016776</td>\n",
       "    </tr>\n",
       "    <tr>\n",
       "      <th>4</th>\n",
       "      <td>2016-03-04</td>\n",
       "      <td>9</td>\n",
       "      <td>2016</td>\n",
       "      <td>38.825764</td>\n",
       "      <td>1623.0</td>\n",
       "      <td>1.050134</td>\n",
       "      <td>1.036936</td>\n",
       "      <td>1.028320</td>\n",
       "      <td>1.016087</td>\n",
       "    </tr>\n",
       "    <tr>\n",
       "      <th>...</th>\n",
       "      <td>...</td>\n",
       "      <td>...</td>\n",
       "      <td>...</td>\n",
       "      <td>...</td>\n",
       "      <td>...</td>\n",
       "      <td>...</td>\n",
       "      <td>...</td>\n",
       "      <td>...</td>\n",
       "      <td>...</td>\n",
       "    </tr>\n",
       "    <tr>\n",
       "      <th>230</th>\n",
       "      <td>2020-07-03</td>\n",
       "      <td>27</td>\n",
       "      <td>2020</td>\n",
       "      <td>3.25</td>\n",
       "      <td>453745.0</td>\n",
       "      <td>2.288732</td>\n",
       "      <td>1.028154</td>\n",
       "      <td>1.045206</td>\n",
       "      <td>1.033814</td>\n",
       "    </tr>\n",
       "    <tr>\n",
       "      <th>231</th>\n",
       "      <td>2020-07-10</td>\n",
       "      <td>28</td>\n",
       "      <td>2020</td>\n",
       "      <td>2.3275</td>\n",
       "      <td>84432.0</td>\n",
       "      <td>0.716154</td>\n",
       "      <td>1.000559</td>\n",
       "      <td>0.979019</td>\n",
       "      <td>0.984055</td>\n",
       "    </tr>\n",
       "    <tr>\n",
       "      <th>232</th>\n",
       "      <td>2020-07-17</td>\n",
       "      <td>29</td>\n",
       "      <td>2020</td>\n",
       "      <td>1.9722</td>\n",
       "      <td>61475.0</td>\n",
       "      <td>0.847347</td>\n",
       "      <td>1.021048</td>\n",
       "      <td>1.028341</td>\n",
       "      <td>1.013191</td>\n",
       "    </tr>\n",
       "    <tr>\n",
       "      <th>233</th>\n",
       "      <td>2020-07-24</td>\n",
       "      <td>30</td>\n",
       "      <td>2020</td>\n",
       "      <td>1.9492</td>\n",
       "      <td>59495.0</td>\n",
       "      <td>0.988338</td>\n",
       "      <td>0.983744</td>\n",
       "      <td>1.009406</td>\n",
       "      <td>1.000308</td>\n",
       "    </tr>\n",
       "    <tr>\n",
       "      <th>234</th>\n",
       "      <td>2020-07-31</td>\n",
       "      <td>31</td>\n",
       "      <td>2020</td>\n",
       "      <td>1.89</td>\n",
       "      <td>76533.0</td>\n",
       "      <td>0.969629</td>\n",
       "      <td>0.958751</td>\n",
       "      <td>1.005246</td>\n",
       "      <td>0.975660</td>\n",
       "    </tr>\n",
       "  </tbody>\n",
       "</table>\n",
       "<p>235 rows × 9 columns</p>\n",
       "</div>"
      ],
      "text/plain": [
       "           Date Week  Year  Adj_Close    Volume  returns_week  returns_stoxx  \\\n",
       "0    2016-02-05    5  2016  42.091812     269.0           NaN            NaN   \n",
       "1    2016-02-12    6  2016  39.202427    1286.0      0.931355       0.957203   \n",
       "2    2016-02-19    7  2016   42.38422    1469.0      1.081163       1.041685   \n",
       "3    2016-02-26    8  2016  36.972202    5069.0      0.872311       1.020240   \n",
       "4    2016-03-04    9  2016  38.825764    1623.0      1.050134       1.036936   \n",
       "..          ...  ...   ...        ...       ...           ...            ...   \n",
       "230  2020-07-03   27  2020       3.25  453745.0      2.288732       1.028154   \n",
       "231  2020-07-10   28  2020     2.3275   84432.0      0.716154       1.000559   \n",
       "232  2020-07-17   29  2020     1.9722   61475.0      0.847347       1.021048   \n",
       "233  2020-07-24   30  2020     1.9492   59495.0      0.988338       0.983744   \n",
       "234  2020-07-31   31  2020       1.89   76533.0      0.969629       0.958751   \n",
       "\n",
       "     returns_ma  returns_visa  \n",
       "0           NaN           NaN  \n",
       "1      1.025737      0.984344  \n",
       "2      1.022382      1.017767  \n",
       "3      1.008987      1.016776  \n",
       "4      1.028320      1.016087  \n",
       "..          ...           ...  \n",
       "230    1.045206      1.033814  \n",
       "231    0.979019      0.984055  \n",
       "232    1.028341      1.013191  \n",
       "233    1.009406      1.000308  \n",
       "234    1.005246      0.975660  \n",
       "\n",
       "[235 rows x 9 columns]"
      ]
     },
     "execution_count": 77,
     "metadata": {},
     "output_type": "execute_result"
    }
   ],
   "source": [
    "df_test"
   ]
  },
  {
   "cell_type": "code",
   "execution_count": null,
   "id": "33d187e4-c35c-47aa-86e8-a4a67108e60f",
   "metadata": {},
   "outputs": [],
   "source": [
    "np.log(df_test.Adj_Close).pct_change()"
   ]
  },
  {
   "cell_type": "code",
   "execution_count": 79,
   "id": "d8079b66-7d5c-4b00-bfbc-c695966a0fd2",
   "metadata": {},
   "outputs": [
    {
     "data": {
      "text/html": [
       "<div>\n",
       "<style scoped>\n",
       "    .dataframe tbody tr th:only-of-type {\n",
       "        vertical-align: middle;\n",
       "    }\n",
       "\n",
       "    .dataframe tbody tr th {\n",
       "        vertical-align: top;\n",
       "    }\n",
       "\n",
       "    .dataframe thead th {\n",
       "        text-align: right;\n",
       "    }\n",
       "</style>\n",
       "<table border=\"1\" class=\"dataframe\">\n",
       "  <thead>\n",
       "    <tr style=\"text-align: right;\">\n",
       "      <th></th>\n",
       "      <th>Date</th>\n",
       "      <th>Week</th>\n",
       "      <th>Year</th>\n",
       "      <th>Adj_Close</th>\n",
       "      <th>Volume</th>\n",
       "      <th>returns_week</th>\n",
       "      <th>returns_stoxx</th>\n",
       "      <th>returns_ma</th>\n",
       "      <th>returns_visa</th>\n",
       "    </tr>\n",
       "  </thead>\n",
       "  <tbody>\n",
       "    <tr>\n",
       "      <th>0</th>\n",
       "      <td>2016-02-05</td>\n",
       "      <td>5</td>\n",
       "      <td>2016</td>\n",
       "      <td>42.091812</td>\n",
       "      <td>269.0</td>\n",
       "      <td>NaN</td>\n",
       "      <td>NaN</td>\n",
       "      <td>NaN</td>\n",
       "      <td>NaN</td>\n",
       "    </tr>\n",
       "    <tr>\n",
       "      <th>1</th>\n",
       "      <td>2016-02-12</td>\n",
       "      <td>6</td>\n",
       "      <td>2016</td>\n",
       "      <td>39.202427</td>\n",
       "      <td>1286.0</td>\n",
       "      <td>0.931355</td>\n",
       "      <td>0.957203</td>\n",
       "      <td>1.025737</td>\n",
       "      <td>0.984344</td>\n",
       "    </tr>\n",
       "    <tr>\n",
       "      <th>2</th>\n",
       "      <td>2016-02-19</td>\n",
       "      <td>7</td>\n",
       "      <td>2016</td>\n",
       "      <td>42.38422</td>\n",
       "      <td>1469.0</td>\n",
       "      <td>1.081163</td>\n",
       "      <td>1.041685</td>\n",
       "      <td>1.022382</td>\n",
       "      <td>1.017767</td>\n",
       "    </tr>\n",
       "    <tr>\n",
       "      <th>3</th>\n",
       "      <td>2016-02-26</td>\n",
       "      <td>8</td>\n",
       "      <td>2016</td>\n",
       "      <td>36.972202</td>\n",
       "      <td>5069.0</td>\n",
       "      <td>0.872311</td>\n",
       "      <td>1.020240</td>\n",
       "      <td>1.008987</td>\n",
       "      <td>1.016776</td>\n",
       "    </tr>\n",
       "    <tr>\n",
       "      <th>4</th>\n",
       "      <td>2016-03-04</td>\n",
       "      <td>9</td>\n",
       "      <td>2016</td>\n",
       "      <td>38.825764</td>\n",
       "      <td>1623.0</td>\n",
       "      <td>1.050134</td>\n",
       "      <td>1.036936</td>\n",
       "      <td>1.028320</td>\n",
       "      <td>1.016087</td>\n",
       "    </tr>\n",
       "    <tr>\n",
       "      <th>...</th>\n",
       "      <td>...</td>\n",
       "      <td>...</td>\n",
       "      <td>...</td>\n",
       "      <td>...</td>\n",
       "      <td>...</td>\n",
       "      <td>...</td>\n",
       "      <td>...</td>\n",
       "      <td>...</td>\n",
       "      <td>...</td>\n",
       "    </tr>\n",
       "    <tr>\n",
       "      <th>230</th>\n",
       "      <td>2020-07-03</td>\n",
       "      <td>27</td>\n",
       "      <td>2020</td>\n",
       "      <td>3.25</td>\n",
       "      <td>453745.0</td>\n",
       "      <td>2.288732</td>\n",
       "      <td>1.028154</td>\n",
       "      <td>1.045206</td>\n",
       "      <td>1.033814</td>\n",
       "    </tr>\n",
       "    <tr>\n",
       "      <th>231</th>\n",
       "      <td>2020-07-10</td>\n",
       "      <td>28</td>\n",
       "      <td>2020</td>\n",
       "      <td>2.3275</td>\n",
       "      <td>84432.0</td>\n",
       "      <td>0.716154</td>\n",
       "      <td>1.000559</td>\n",
       "      <td>0.979019</td>\n",
       "      <td>0.984055</td>\n",
       "    </tr>\n",
       "    <tr>\n",
       "      <th>232</th>\n",
       "      <td>2020-07-17</td>\n",
       "      <td>29</td>\n",
       "      <td>2020</td>\n",
       "      <td>1.9722</td>\n",
       "      <td>61475.0</td>\n",
       "      <td>0.847347</td>\n",
       "      <td>1.021048</td>\n",
       "      <td>1.028341</td>\n",
       "      <td>1.013191</td>\n",
       "    </tr>\n",
       "    <tr>\n",
       "      <th>233</th>\n",
       "      <td>2020-07-24</td>\n",
       "      <td>30</td>\n",
       "      <td>2020</td>\n",
       "      <td>1.9492</td>\n",
       "      <td>59495.0</td>\n",
       "      <td>0.988338</td>\n",
       "      <td>0.983744</td>\n",
       "      <td>1.009406</td>\n",
       "      <td>1.000308</td>\n",
       "    </tr>\n",
       "    <tr>\n",
       "      <th>234</th>\n",
       "      <td>2020-07-31</td>\n",
       "      <td>31</td>\n",
       "      <td>2020</td>\n",
       "      <td>1.89</td>\n",
       "      <td>76533.0</td>\n",
       "      <td>0.969629</td>\n",
       "      <td>0.958751</td>\n",
       "      <td>1.005246</td>\n",
       "      <td>0.975660</td>\n",
       "    </tr>\n",
       "  </tbody>\n",
       "</table>\n",
       "<p>235 rows × 9 columns</p>\n",
       "</div>"
      ],
      "text/plain": [
       "           Date Week  Year  Adj_Close    Volume  returns_week  returns_stoxx  \\\n",
       "0    2016-02-05    5  2016  42.091812     269.0           NaN            NaN   \n",
       "1    2016-02-12    6  2016  39.202427    1286.0      0.931355       0.957203   \n",
       "2    2016-02-19    7  2016   42.38422    1469.0      1.081163       1.041685   \n",
       "3    2016-02-26    8  2016  36.972202    5069.0      0.872311       1.020240   \n",
       "4    2016-03-04    9  2016  38.825764    1623.0      1.050134       1.036936   \n",
       "..          ...  ...   ...        ...       ...           ...            ...   \n",
       "230  2020-07-03   27  2020       3.25  453745.0      2.288732       1.028154   \n",
       "231  2020-07-10   28  2020     2.3275   84432.0      0.716154       1.000559   \n",
       "232  2020-07-17   29  2020     1.9722   61475.0      0.847347       1.021048   \n",
       "233  2020-07-24   30  2020     1.9492   59495.0      0.988338       0.983744   \n",
       "234  2020-07-31   31  2020       1.89   76533.0      0.969629       0.958751   \n",
       "\n",
       "     returns_ma  returns_visa  \n",
       "0           NaN           NaN  \n",
       "1      1.025737      0.984344  \n",
       "2      1.022382      1.017767  \n",
       "3      1.008987      1.016776  \n",
       "4      1.028320      1.016087  \n",
       "..          ...           ...  \n",
       "230    1.045206      1.033814  \n",
       "231    0.979019      0.984055  \n",
       "232    1.028341      1.013191  \n",
       "233    1.009406      1.000308  \n",
       "234    1.005246      0.975660  \n",
       "\n",
       "[235 rows x 9 columns]"
      ]
     },
     "execution_count": 79,
     "metadata": {},
     "output_type": "execute_result"
    }
   ],
   "source": [
    "df_test"
   ]
  },
  {
   "cell_type": "code",
   "execution_count": 86,
   "id": "b8ae2523-669b-4537-ac93-2e16df96c070",
   "metadata": {},
   "outputs": [
    {
     "data": {
      "text/plain": [
       "array([3.73985323, 3.66873866, 3.74677612, 3.61016633, 3.65908405,\n",
       "       3.50748314, 3.462052  , 3.46065191, 3.51118997, 3.514588  ,\n",
       "       3.54723515, 3.54580649, 3.60209093, 3.60290149, 3.70010014,\n",
       "       3.70535476, 3.68603461, 3.66150664, 3.68267394, 3.64548086,\n",
       "       3.65838424, 3.68019604, 3.64470139, 3.66566543, 3.69105005,\n",
       "       3.7357014 , 3.67049013, 3.69488933, 3.71083075, 3.7451499 ,\n",
       "       3.81932511, 3.80691475, 3.8008182 , 3.84113305, 3.82194104,\n",
       "       3.79970568, 3.77068218, 3.77855762, 3.75695253, 3.72951157,\n",
       "       3.71289681, 3.79848067, 3.75834558, 3.71265389, 3.70619718,\n",
       "       3.67289381, 3.68320197, 3.70607486, 3.73046638, 3.71713692,\n",
       "       3.78309492, 3.79535527, 3.80768812, 3.81659269, 3.81954337,\n",
       "       3.76987971, 3.78569443, 3.8497461 , 3.88939417, 3.88460009,\n",
       "       3.92762823, 3.95582624, 3.97450424, 3.96228036, 3.98176757,\n",
       "       3.99375705, 4.01874472, 4.03383059, 4.06162467, 4.09332519,\n",
       "       4.08247818, 4.07506823, 4.08981862, 4.02407697, 4.10424319,\n",
       "       4.17232474, 4.14961773, 4.16770086, 4.18470363, 4.20544684,\n",
       "       4.23143763, 4.24711359, 4.27316946, 4.26940888, 4.28078681,\n",
       "       4.31336279, 4.34659202, 4.36616415, 4.39623689, 4.389453  ,\n",
       "       4.43670973, 4.43150203, 4.41160675, 4.47696967, 4.4720819 ,\n",
       "       4.48813279, 4.48059169, 4.5156712 , 4.54448726, 4.53050561,\n",
       "       4.60264625, 4.65143642, 4.69294381, 4.5758915 , 4.5492455 ,\n",
       "       4.46338417, 4.59057374, 4.58875018, 4.51926471, 4.60414518,\n",
       "       4.61160603, 4.5549255 , 4.53179447, 4.58387105, 4.65381451,\n",
       "       4.69841094, 4.71642131, 4.76858434, 4.80190691, 4.86424088,\n",
       "       4.85184732, 4.88820107, 4.94694494, 5.010442  , 4.99219669,\n",
       "       4.92777125, 4.97371574, 5.02225906, 5.04470997, 5.08877001,\n",
       "       5.09857399, 5.12534658, 5.18357631, 5.23514957, 5.25620294,\n",
       "       5.25854394, 5.24151221, 5.18693101, 5.22981617, 5.23461744,\n",
       "       5.11939235, 5.15919867, 5.07169152, 5.02881868, 5.06035286,\n",
       "       4.98197166, 4.87352317, 4.89542737, 4.91613042, 4.92160394,\n",
       "       4.86045614, 4.88075156, 4.89280908, 4.94355916, 5.01134092,\n",
       "       5.12088423, 4.74711196, 4.55741492, 4.60287729, 4.74970818,\n",
       "       4.78869627, 4.81332805, 4.66356079, 4.60387777, 4.72077155,\n",
       "       4.70372315, 4.70417552, 4.78619932, 4.89168493, 4.85696846,\n",
       "       4.89654744, 4.94746747, 5.0421327 , 4.94427089, 4.97888366,\n",
       "       5.00900952, 5.02322237, 4.99721227, 5.02519543, 4.97258718,\n",
       "       4.99213182, 5.01860344, 5.01329837, 4.98154969, 4.93303407,\n",
       "       4.97085438, 4.97983236, 5.05528997, 5.01163475, 5.00058496,\n",
       "       5.01130178, 4.9348336 , 4.9568828 , 4.72871439, 4.74536684,\n",
       "       4.74623564, 4.75703255, 4.80524981, 4.76302825, 4.78415282,\n",
       "       4.74797097, 4.64870846, 4.65491226, 4.66155055, 4.72738782,\n",
       "       4.70907962, 4.84890036, 4.93878123, 4.86290834, 4.930148  ,\n",
       "       4.93411413, 4.89709321, 4.73707524, 4.74449723, 4.51677605,\n",
       "       4.46751601, 4.60116214, 4.62634441, 4.73180284, 4.79247927,\n",
       "       4.89440101, 4.51732205, 4.51928541, 4.3457516 , 4.42747791,\n",
       "       4.53796144, 4.48728711, 4.52591047, 3.18221184, 0.35065687,\n",
       "       1.178655  , 0.84479473, 0.67914967, 0.66741903, 0.63657683])"
      ]
     },
     "execution_count": 86,
     "metadata": {},
     "output_type": "execute_result"
    }
   ],
   "source": [
    "np.log(np.float64(df_test.Adj_Close))"
   ]
  },
  {
   "cell_type": "code",
   "execution_count": 85,
   "id": "a02d57fc-2cf8-4c52-bf1a-05d60d68f498",
   "metadata": {},
   "outputs": [
    {
     "data": {
      "text/plain": [
       "numpy.ndarray"
      ]
     },
     "execution_count": 85,
     "metadata": {},
     "output_type": "execute_result"
    }
   ],
   "source": [
    "type(np.float64(df_test[\"Adj_Close\"]))"
   ]
  },
  {
   "cell_type": "code",
   "execution_count": 83,
   "id": "fa53235a-d4fd-4105-85c7-d8e13923b1ea",
   "metadata": {},
   "outputs": [
    {
     "data": {
      "text/plain": [
       "numpy.float64"
      ]
     },
     "execution_count": 83,
     "metadata": {},
     "output_type": "execute_result"
    }
   ],
   "source": [
    "type(df_wdi[\"Adj_Close\"][0])"
   ]
  },
  {
   "cell_type": "code",
   "execution_count": 27,
   "id": "376ad37f-2fbe-4325-a74c-88410c0f4fe4",
   "metadata": {},
   "outputs": [
    {
     "data": {
      "text/plain": [
       "0            NaN\n",
       "1      -0.000593\n",
       "2      -0.007727\n",
       "3       0.003705\n",
       "4      -0.018039\n",
       "          ...   \n",
       "1136   -0.078262\n",
       "1137    0.002283\n",
       "1138    0.164209\n",
       "1139   -0.085474\n",
       "1140   -0.030323\n",
       "Name: Adj_Close, Length: 1141, dtype: float64"
      ]
     },
     "execution_count": 27,
     "metadata": {},
     "output_type": "execute_result"
    }
   ],
   "source": [
    "np.log(df_wdi.Adj_Close).pct_change()"
   ]
  },
  {
   "cell_type": "code",
   "execution_count": 28,
   "id": "1f009812-17bb-4a39-9887-edf53f39b0b4",
   "metadata": {},
   "outputs": [
    {
     "data": {
      "text/plain": [
       "0            NaN\n",
       "1      -0.002890\n",
       "2      -0.002363\n",
       "3       0.000375\n",
       "4      -0.001123\n",
       "          ...   \n",
       "1124   -0.000300\n",
       "1125    0.000027\n",
       "1126   -0.000127\n",
       "1127   -0.003488\n",
       "1128   -0.001315\n",
       "Name: Adj_Close, Length: 1129, dtype: float64"
      ]
     },
     "execution_count": 28,
     "metadata": {},
     "output_type": "execute_result"
    }
   ],
   "source": [
    "np.log(df_stoxx.Adj_Close).pct_change()"
   ]
  },
  {
   "cell_type": "code",
   "execution_count": 29,
   "id": "610b32bb-27bb-43eb-a786-ec8e911fb252",
   "metadata": {},
   "outputs": [
    {
     "data": {
      "text/plain": [
       "0            NaN\n",
       "1      -0.006959\n",
       "2       0.001419\n",
       "3      -0.000367\n",
       "4      -0.009556\n",
       "          ...   \n",
       "1129    0.001102\n",
       "1130   -0.001437\n",
       "1131    0.001689\n",
       "1132   -0.000170\n",
       "1133   -0.000266\n",
       "Name: Adj_Close, Length: 1134, dtype: float64"
      ]
     },
     "execution_count": 29,
     "metadata": {},
     "output_type": "execute_result"
    }
   ],
   "source": [
    "np.log(df_ma.Adj_Close).pct_change()"
   ]
  },
  {
   "cell_type": "code",
   "execution_count": 30,
   "id": "53e11dc3-6ea7-4d22-bbe5-e8fdae4875e0",
   "metadata": {},
   "outputs": [
    {
     "data": {
      "text/plain": [
       "0            NaN\n",
       "1      -0.003110\n",
       "2       0.003120\n",
       "3      -0.002218\n",
       "4      -0.006928\n",
       "          ...   \n",
       "1129    0.001707\n",
       "1130   -0.000164\n",
       "1131    0.001767\n",
       "1132   -0.004363\n",
       "1133   -0.003624\n",
       "Name: Adj_Close, Length: 1134, dtype: float64"
      ]
     },
     "execution_count": 30,
     "metadata": {},
     "output_type": "execute_result"
    }
   ],
   "source": [
    "np.log(df_visa.Adj_Close).pct_change()"
   ]
  },
  {
   "cell_type": "code",
   "execution_count": 90,
   "id": "e1796d4b-68ba-42e3-a35a-87ac6d870c8e",
   "metadata": {},
   "outputs": [
    {
     "ename": "AttributeError",
     "evalue": "'numpy.ndarray' object has no attribute 'pct_change'",
     "output_type": "error",
     "traceback": [
      "\u001b[0;31m---------------------------------------------------------------------------\u001b[0m",
      "\u001b[0;31mAttributeError\u001b[0m                            Traceback (most recent call last)",
      "Input \u001b[0;32mIn [90]\u001b[0m, in \u001b[0;36m<cell line: 1>\u001b[0;34m()\u001b[0m\n\u001b[0;32m----> 1\u001b[0m df_test \u001b[38;5;241m=\u001b[39m \u001b[43mcreate_finance_df\u001b[49m\u001b[43m(\u001b[49m\u001b[43mdf_wdi\u001b[49m\u001b[43m)\u001b[49m\n",
      "Input \u001b[0;32mIn [88]\u001b[0m, in \u001b[0;36mcreate_finance_df\u001b[0;34m(df)\u001b[0m\n\u001b[1;32m     48\u001b[0m \u001b[38;5;66;03m#Add the yield from one week to another\u001b[39;00m\n\u001b[1;32m     49\u001b[0m df_week[\u001b[38;5;124m\"\u001b[39m\u001b[38;5;124mreturns_week\u001b[39m\u001b[38;5;124m\"\u001b[39m] \u001b[38;5;241m=\u001b[39m df_week\u001b[38;5;241m.\u001b[39mAdj_Close\u001b[38;5;241m.\u001b[39mpct_change()\u001b[38;5;241m+\u001b[39m\u001b[38;5;241m1\u001b[39m\n\u001b[0;32m---> 50\u001b[0m df_week[\u001b[38;5;124m\"\u001b[39m\u001b[38;5;124mreturns_week\u001b[39m\u001b[38;5;124m\"\u001b[39m] \u001b[38;5;241m=\u001b[39m \u001b[43mnp\u001b[49m\u001b[38;5;241;43m.\u001b[39;49m\u001b[43mlog\u001b[49m\u001b[43m(\u001b[49m\u001b[43mnp\u001b[49m\u001b[38;5;241;43m.\u001b[39;49m\u001b[43mfloat64\u001b[49m\u001b[43m(\u001b[49m\u001b[43mdf_week\u001b[49m\u001b[38;5;241;43m.\u001b[39;49m\u001b[43mAdj_Close\u001b[49m\u001b[43m)\u001b[49m\u001b[43m)\u001b[49m\u001b[38;5;241;43m.\u001b[39;49m\u001b[43mpct_change\u001b[49m()\n\u001b[1;32m     52\u001b[0m \u001b[38;5;66;03m#Return the new DF\u001b[39;00m\n\u001b[1;32m     53\u001b[0m \u001b[38;5;28;01mreturn\u001b[39;00m df_week\n",
      "\u001b[0;31mAttributeError\u001b[0m: 'numpy.ndarray' object has no attribute 'pct_change'"
     ]
    }
   ],
   "source": [
    "df_test = create_finance_df(df_wdi)"
   ]
  },
  {
   "cell_type": "code",
   "execution_count": 48,
   "id": "2d21a273-a91a-480c-87fa-0dc6d1f538c3",
   "metadata": {},
   "outputs": [
    {
     "data": {
      "text/html": [
       "<div>\n",
       "<style scoped>\n",
       "    .dataframe tbody tr th:only-of-type {\n",
       "        vertical-align: middle;\n",
       "    }\n",
       "\n",
       "    .dataframe tbody tr th {\n",
       "        vertical-align: top;\n",
       "    }\n",
       "\n",
       "    .dataframe thead th {\n",
       "        text-align: right;\n",
       "    }\n",
       "</style>\n",
       "<table border=\"1\" class=\"dataframe\">\n",
       "  <thead>\n",
       "    <tr style=\"text-align: right;\">\n",
       "      <th></th>\n",
       "      <th>Date</th>\n",
       "      <th>Week</th>\n",
       "      <th>Year</th>\n",
       "      <th>Adj_Close</th>\n",
       "      <th>Volume</th>\n",
       "      <th>returns_week</th>\n",
       "    </tr>\n",
       "  </thead>\n",
       "  <tbody>\n",
       "    <tr>\n",
       "      <th>0</th>\n",
       "      <td>2016-02-05</td>\n",
       "      <td>5</td>\n",
       "      <td>2016</td>\n",
       "      <td>42.091812</td>\n",
       "      <td>269.0</td>\n",
       "      <td>NaN</td>\n",
       "    </tr>\n",
       "    <tr>\n",
       "      <th>1</th>\n",
       "      <td>2016-02-12</td>\n",
       "      <td>6</td>\n",
       "      <td>2016</td>\n",
       "      <td>39.202427</td>\n",
       "      <td>1286.0</td>\n",
       "      <td>-0.068645</td>\n",
       "    </tr>\n",
       "    <tr>\n",
       "      <th>2</th>\n",
       "      <td>2016-02-19</td>\n",
       "      <td>7</td>\n",
       "      <td>2016</td>\n",
       "      <td>42.38422</td>\n",
       "      <td>1469.0</td>\n",
       "      <td>0.081163</td>\n",
       "    </tr>\n",
       "    <tr>\n",
       "      <th>3</th>\n",
       "      <td>2016-02-26</td>\n",
       "      <td>8</td>\n",
       "      <td>2016</td>\n",
       "      <td>36.972202</td>\n",
       "      <td>5069.0</td>\n",
       "      <td>-0.127689</td>\n",
       "    </tr>\n",
       "    <tr>\n",
       "      <th>4</th>\n",
       "      <td>2016-03-04</td>\n",
       "      <td>9</td>\n",
       "      <td>2016</td>\n",
       "      <td>38.825764</td>\n",
       "      <td>1623.0</td>\n",
       "      <td>0.050134</td>\n",
       "    </tr>\n",
       "    <tr>\n",
       "      <th>...</th>\n",
       "      <td>...</td>\n",
       "      <td>...</td>\n",
       "      <td>...</td>\n",
       "      <td>...</td>\n",
       "      <td>...</td>\n",
       "      <td>...</td>\n",
       "    </tr>\n",
       "    <tr>\n",
       "      <th>230</th>\n",
       "      <td>2020-07-03</td>\n",
       "      <td>27</td>\n",
       "      <td>2020</td>\n",
       "      <td>3.25</td>\n",
       "      <td>453745.0</td>\n",
       "      <td>1.288732</td>\n",
       "    </tr>\n",
       "    <tr>\n",
       "      <th>231</th>\n",
       "      <td>2020-07-10</td>\n",
       "      <td>28</td>\n",
       "      <td>2020</td>\n",
       "      <td>2.3275</td>\n",
       "      <td>84432.0</td>\n",
       "      <td>-0.283846</td>\n",
       "    </tr>\n",
       "    <tr>\n",
       "      <th>232</th>\n",
       "      <td>2020-07-17</td>\n",
       "      <td>29</td>\n",
       "      <td>2020</td>\n",
       "      <td>1.9722</td>\n",
       "      <td>61475.0</td>\n",
       "      <td>-0.152653</td>\n",
       "    </tr>\n",
       "    <tr>\n",
       "      <th>233</th>\n",
       "      <td>2020-07-24</td>\n",
       "      <td>30</td>\n",
       "      <td>2020</td>\n",
       "      <td>1.9492</td>\n",
       "      <td>59495.0</td>\n",
       "      <td>-0.011662</td>\n",
       "    </tr>\n",
       "    <tr>\n",
       "      <th>234</th>\n",
       "      <td>2020-07-31</td>\n",
       "      <td>31</td>\n",
       "      <td>2020</td>\n",
       "      <td>1.89</td>\n",
       "      <td>76533.0</td>\n",
       "      <td>-0.030371</td>\n",
       "    </tr>\n",
       "  </tbody>\n",
       "</table>\n",
       "<p>235 rows × 6 columns</p>\n",
       "</div>"
      ],
      "text/plain": [
       "           Date Week  Year  Adj_Close    Volume  returns_week\n",
       "0    2016-02-05    5  2016  42.091812     269.0           NaN\n",
       "1    2016-02-12    6  2016  39.202427    1286.0     -0.068645\n",
       "2    2016-02-19    7  2016   42.38422    1469.0      0.081163\n",
       "3    2016-02-26    8  2016  36.972202    5069.0     -0.127689\n",
       "4    2016-03-04    9  2016  38.825764    1623.0      0.050134\n",
       "..          ...  ...   ...        ...       ...           ...\n",
       "230  2020-07-03   27  2020       3.25  453745.0      1.288732\n",
       "231  2020-07-10   28  2020     2.3275   84432.0     -0.283846\n",
       "232  2020-07-17   29  2020     1.9722   61475.0     -0.152653\n",
       "233  2020-07-24   30  2020     1.9492   59495.0     -0.011662\n",
       "234  2020-07-31   31  2020       1.89   76533.0     -0.030371\n",
       "\n",
       "[235 rows x 6 columns]"
      ]
     },
     "execution_count": 48,
     "metadata": {},
     "output_type": "execute_result"
    }
   ],
   "source": [
    "df_test"
   ]
  },
  {
   "cell_type": "code",
   "execution_count": 55,
   "id": "925229a0-277c-4f44-9296-206fa94f7f93",
   "metadata": {},
   "outputs": [
    {
     "data": {
      "text/plain": [
       "0            NaN\n",
       "1      -0.002271\n",
       "2      -0.029548\n",
       "3       0.014059\n",
       "4      -0.068702\n",
       "          ...   \n",
       "1136   -0.052233\n",
       "1137    0.001404\n",
       "1138    0.101250\n",
       "1139   -0.061357\n",
       "1140   -0.019906\n",
       "Name: Adj_Close, Length: 1141, dtype: float64"
      ]
     },
     "execution_count": 55,
     "metadata": {},
     "output_type": "execute_result"
    }
   ],
   "source": [
    "np.log(df_wdi.Adj_Close.pct_change()+1)"
   ]
  },
  {
   "cell_type": "code",
   "execution_count": 59,
   "id": "c4ddc342-fec4-4c12-8a6b-8036543277bf",
   "metadata": {},
   "outputs": [
    {
     "data": {
      "text/plain": [
       "0            NaN\n",
       "1      -0.000593\n",
       "2      -0.007727\n",
       "3       0.003705\n",
       "4      -0.018039\n",
       "          ...   \n",
       "1136   -0.078262\n",
       "1137    0.002283\n",
       "1138    0.164209\n",
       "1139   -0.085474\n",
       "1140   -0.030323\n",
       "Name: Adj_Close, Length: 1141, dtype: float64"
      ]
     },
     "execution_count": 59,
     "metadata": {},
     "output_type": "execute_result"
    }
   ],
   "source": [
    "np.log(df_wdi.Adj_Close).pct_change()"
   ]
  },
  {
   "cell_type": "code",
   "execution_count": 102,
   "id": "65c8680a-0851-4779-8e54-733199150b18",
   "metadata": {},
   "outputs": [
    {
     "data": {
      "text/plain": [
       "0           NaN\n",
       "1     -0.019015\n",
       "2      0.021271\n",
       "3     -0.036461\n",
       "4      0.013550\n",
       "         ...   \n",
       "230    2.361277\n",
       "231   -0.283255\n",
       "232   -0.196077\n",
       "233   -0.017273\n",
       "234   -0.046211\n",
       "Length: 235, dtype: float64"
      ]
     },
     "execution_count": 102,
     "metadata": {},
     "output_type": "execute_result"
    }
   ],
   "source": [
    "pd.Series(np.log(np.float64(df_test.Adj_Close))).pct_change()"
   ]
  },
  {
   "cell_type": "code",
   "execution_count": 104,
   "id": "6087675d-0327-4649-beba-80251ad6e4af",
   "metadata": {},
   "outputs": [
    {
     "data": {
      "text/html": [
       "<div>\n",
       "<style scoped>\n",
       "    .dataframe tbody tr th:only-of-type {\n",
       "        vertical-align: middle;\n",
       "    }\n",
       "\n",
       "    .dataframe tbody tr th {\n",
       "        vertical-align: top;\n",
       "    }\n",
       "\n",
       "    .dataframe thead th {\n",
       "        text-align: right;\n",
       "    }\n",
       "</style>\n",
       "<table border=\"1\" class=\"dataframe\">\n",
       "  <thead>\n",
       "    <tr style=\"text-align: right;\">\n",
       "      <th></th>\n",
       "      <th>Date</th>\n",
       "      <th>Open</th>\n",
       "      <th>High</th>\n",
       "      <th>Low</th>\n",
       "      <th>Close</th>\n",
       "      <th>Adj_Close</th>\n",
       "      <th>Volume</th>\n",
       "      <th>returns</th>\n",
       "      <th>returns_2</th>\n",
       "      <th>returns_3</th>\n",
       "      <th>returns_5</th>\n",
       "    </tr>\n",
       "  </thead>\n",
       "  <tbody>\n",
       "    <tr>\n",
       "      <th>0</th>\n",
       "      <td>2016-02-01</td>\n",
       "      <td>47.090000</td>\n",
       "      <td>47.090000</td>\n",
       "      <td>46.299999</td>\n",
       "      <td>46.299999</td>\n",
       "      <td>45.893112</td>\n",
       "      <td>69</td>\n",
       "      <td>NaN</td>\n",
       "      <td>NaN</td>\n",
       "      <td>NaN</td>\n",
       "      <td>NaN</td>\n",
       "    </tr>\n",
       "    <tr>\n",
       "      <th>1</th>\n",
       "      <td>2016-02-02</td>\n",
       "      <td>46.195000</td>\n",
       "      <td>46.195000</td>\n",
       "      <td>46.195000</td>\n",
       "      <td>46.195000</td>\n",
       "      <td>45.789028</td>\n",
       "      <td>0</td>\n",
       "      <td>-0.002270</td>\n",
       "      <td>0.997732</td>\n",
       "      <td>-0.002268</td>\n",
       "      <td>NaN</td>\n",
       "    </tr>\n",
       "    <tr>\n",
       "      <th>2</th>\n",
       "      <td>2016-02-03</td>\n",
       "      <td>45.000000</td>\n",
       "      <td>45.000000</td>\n",
       "      <td>44.849998</td>\n",
       "      <td>44.849998</td>\n",
       "      <td>44.455849</td>\n",
       "      <td>90</td>\n",
       "      <td>-0.029548</td>\n",
       "      <td>0.970884</td>\n",
       "      <td>-0.029116</td>\n",
       "      <td>NaN</td>\n",
       "    </tr>\n",
       "    <tr>\n",
       "      <th>3</th>\n",
       "      <td>2016-02-04</td>\n",
       "      <td>45.485001</td>\n",
       "      <td>45.485001</td>\n",
       "      <td>45.485001</td>\n",
       "      <td>45.485001</td>\n",
       "      <td>45.085274</td>\n",
       "      <td>0</td>\n",
       "      <td>0.014059</td>\n",
       "      <td>1.014158</td>\n",
       "      <td>0.014158</td>\n",
       "      <td>NaN</td>\n",
       "    </tr>\n",
       "    <tr>\n",
       "      <th>4</th>\n",
       "      <td>2016-02-05</td>\n",
       "      <td>43.500000</td>\n",
       "      <td>44.000000</td>\n",
       "      <td>42.465000</td>\n",
       "      <td>42.465000</td>\n",
       "      <td>42.091812</td>\n",
       "      <td>110</td>\n",
       "      <td>-0.068702</td>\n",
       "      <td>0.933604</td>\n",
       "      <td>-0.066396</td>\n",
       "      <td>NaN</td>\n",
       "    </tr>\n",
       "    <tr>\n",
       "      <th>...</th>\n",
       "      <td>...</td>\n",
       "      <td>...</td>\n",
       "      <td>...</td>\n",
       "      <td>...</td>\n",
       "      <td>...</td>\n",
       "      <td>...</td>\n",
       "      <td>...</td>\n",
       "      <td>...</td>\n",
       "      <td>...</td>\n",
       "      <td>...</td>\n",
       "      <td>...</td>\n",
       "    </tr>\n",
       "    <tr>\n",
       "      <th>1136</th>\n",
       "      <td>2020-07-27</td>\n",
       "      <td>2.228000</td>\n",
       "      <td>2.516000</td>\n",
       "      <td>1.850000</td>\n",
       "      <td>1.850000</td>\n",
       "      <td>1.850000</td>\n",
       "      <td>25093</td>\n",
       "      <td>-0.052233</td>\n",
       "      <td>0.949107</td>\n",
       "      <td>-0.050893</td>\n",
       "      <td>1.178344</td>\n",
       "    </tr>\n",
       "    <tr>\n",
       "      <th>1137</th>\n",
       "      <td>2020-07-28</td>\n",
       "      <td>1.847000</td>\n",
       "      <td>1.869200</td>\n",
       "      <td>1.828000</td>\n",
       "      <td>1.852600</td>\n",
       "      <td>1.852600</td>\n",
       "      <td>2035</td>\n",
       "      <td>0.001404</td>\n",
       "      <td>1.001405</td>\n",
       "      <td>0.001405</td>\n",
       "      <td>1.009922</td>\n",
       "    </tr>\n",
       "    <tr>\n",
       "      <th>1138</th>\n",
       "      <td>2020-07-29</td>\n",
       "      <td>1.850000</td>\n",
       "      <td>2.092500</td>\n",
       "      <td>1.830000</td>\n",
       "      <td>2.050000</td>\n",
       "      <td>2.050000</td>\n",
       "      <td>19941</td>\n",
       "      <td>0.101250</td>\n",
       "      <td>1.106553</td>\n",
       "      <td>0.106553</td>\n",
       "      <td>1.132597</td>\n",
       "    </tr>\n",
       "    <tr>\n",
       "      <th>1139</th>\n",
       "      <td>2020-07-30</td>\n",
       "      <td>2.055000</td>\n",
       "      <td>2.100000</td>\n",
       "      <td>1.928000</td>\n",
       "      <td>1.928000</td>\n",
       "      <td>1.928000</td>\n",
       "      <td>3200</td>\n",
       "      <td>-0.061357</td>\n",
       "      <td>0.940488</td>\n",
       "      <td>-0.059512</td>\n",
       "      <td>1.147346</td>\n",
       "    </tr>\n",
       "    <tr>\n",
       "      <th>1140</th>\n",
       "      <td>2020-07-31</td>\n",
       "      <td>1.889000</td>\n",
       "      <td>1.950000</td>\n",
       "      <td>1.889000</td>\n",
       "      <td>1.890000</td>\n",
       "      <td>1.890000</td>\n",
       "      <td>26264</td>\n",
       "      <td>-0.019906</td>\n",
       "      <td>0.980290</td>\n",
       "      <td>-0.019710</td>\n",
       "      <td>0.969629</td>\n",
       "    </tr>\n",
       "  </tbody>\n",
       "</table>\n",
       "<p>1141 rows × 11 columns</p>\n",
       "</div>"
      ],
      "text/plain": [
       "            Date       Open       High        Low      Close  Adj_Close  \\\n",
       "0     2016-02-01  47.090000  47.090000  46.299999  46.299999  45.893112   \n",
       "1     2016-02-02  46.195000  46.195000  46.195000  46.195000  45.789028   \n",
       "2     2016-02-03  45.000000  45.000000  44.849998  44.849998  44.455849   \n",
       "3     2016-02-04  45.485001  45.485001  45.485001  45.485001  45.085274   \n",
       "4     2016-02-05  43.500000  44.000000  42.465000  42.465000  42.091812   \n",
       "...          ...        ...        ...        ...        ...        ...   \n",
       "1136  2020-07-27   2.228000   2.516000   1.850000   1.850000   1.850000   \n",
       "1137  2020-07-28   1.847000   1.869200   1.828000   1.852600   1.852600   \n",
       "1138  2020-07-29   1.850000   2.092500   1.830000   2.050000   2.050000   \n",
       "1139  2020-07-30   2.055000   2.100000   1.928000   1.928000   1.928000   \n",
       "1140  2020-07-31   1.889000   1.950000   1.889000   1.890000   1.890000   \n",
       "\n",
       "      Volume   returns  returns_2  returns_3  returns_5  \n",
       "0         69       NaN        NaN        NaN        NaN  \n",
       "1          0 -0.002270   0.997732  -0.002268        NaN  \n",
       "2         90 -0.029548   0.970884  -0.029116        NaN  \n",
       "3          0  0.014059   1.014158   0.014158        NaN  \n",
       "4        110 -0.068702   0.933604  -0.066396        NaN  \n",
       "...      ...       ...        ...        ...        ...  \n",
       "1136   25093 -0.052233   0.949107  -0.050893   1.178344  \n",
       "1137    2035  0.001404   1.001405   0.001405   1.009922  \n",
       "1138   19941  0.101250   1.106553   0.106553   1.132597  \n",
       "1139    3200 -0.061357   0.940488  -0.059512   1.147346  \n",
       "1140   26264 -0.019906   0.980290  -0.019710   0.969629  \n",
       "\n",
       "[1141 rows x 11 columns]"
      ]
     },
     "execution_count": 104,
     "metadata": {},
     "output_type": "execute_result"
    }
   ],
   "source": [
    "df_wdi"
   ]
  },
  {
   "cell_type": "code",
   "execution_count": 105,
   "id": "b67958b0-705a-4a0d-8959-dbb79816fb95",
   "metadata": {},
   "outputs": [
    {
     "data": {
      "text/html": [
       "<div>\n",
       "<style scoped>\n",
       "    .dataframe tbody tr th:only-of-type {\n",
       "        vertical-align: middle;\n",
       "    }\n",
       "\n",
       "    .dataframe tbody tr th {\n",
       "        vertical-align: top;\n",
       "    }\n",
       "\n",
       "    .dataframe thead th {\n",
       "        text-align: right;\n",
       "    }\n",
       "</style>\n",
       "<table border=\"1\" class=\"dataframe\">\n",
       "  <thead>\n",
       "    <tr style=\"text-align: right;\">\n",
       "      <th></th>\n",
       "      <th>Date</th>\n",
       "      <th>Week</th>\n",
       "      <th>Year</th>\n",
       "      <th>Adj_Close</th>\n",
       "      <th>Volume</th>\n",
       "      <th>returns_week</th>\n",
       "      <th>returns_stoxx</th>\n",
       "      <th>returns_ma</th>\n",
       "      <th>returns_visa</th>\n",
       "    </tr>\n",
       "  </thead>\n",
       "  <tbody>\n",
       "    <tr>\n",
       "      <th>0</th>\n",
       "      <td>2016-02-05</td>\n",
       "      <td>5</td>\n",
       "      <td>2016</td>\n",
       "      <td>42.091812</td>\n",
       "      <td>269.0</td>\n",
       "      <td>NaN</td>\n",
       "      <td>NaN</td>\n",
       "      <td>NaN</td>\n",
       "      <td>NaN</td>\n",
       "    </tr>\n",
       "    <tr>\n",
       "      <th>1</th>\n",
       "      <td>2016-02-12</td>\n",
       "      <td>6</td>\n",
       "      <td>2016</td>\n",
       "      <td>39.202427</td>\n",
       "      <td>1286.0</td>\n",
       "      <td>0.931355</td>\n",
       "      <td>0.957203</td>\n",
       "      <td>1.025737</td>\n",
       "      <td>0.984344</td>\n",
       "    </tr>\n",
       "    <tr>\n",
       "      <th>2</th>\n",
       "      <td>2016-02-19</td>\n",
       "      <td>7</td>\n",
       "      <td>2016</td>\n",
       "      <td>42.38422</td>\n",
       "      <td>1469.0</td>\n",
       "      <td>1.081163</td>\n",
       "      <td>1.041685</td>\n",
       "      <td>1.022382</td>\n",
       "      <td>1.017767</td>\n",
       "    </tr>\n",
       "    <tr>\n",
       "      <th>3</th>\n",
       "      <td>2016-02-26</td>\n",
       "      <td>8</td>\n",
       "      <td>2016</td>\n",
       "      <td>36.972202</td>\n",
       "      <td>5069.0</td>\n",
       "      <td>0.872311</td>\n",
       "      <td>1.020240</td>\n",
       "      <td>1.008987</td>\n",
       "      <td>1.016776</td>\n",
       "    </tr>\n",
       "    <tr>\n",
       "      <th>4</th>\n",
       "      <td>2016-03-04</td>\n",
       "      <td>9</td>\n",
       "      <td>2016</td>\n",
       "      <td>38.825764</td>\n",
       "      <td>1623.0</td>\n",
       "      <td>1.050134</td>\n",
       "      <td>1.036936</td>\n",
       "      <td>1.028320</td>\n",
       "      <td>1.016087</td>\n",
       "    </tr>\n",
       "    <tr>\n",
       "      <th>...</th>\n",
       "      <td>...</td>\n",
       "      <td>...</td>\n",
       "      <td>...</td>\n",
       "      <td>...</td>\n",
       "      <td>...</td>\n",
       "      <td>...</td>\n",
       "      <td>...</td>\n",
       "      <td>...</td>\n",
       "      <td>...</td>\n",
       "    </tr>\n",
       "    <tr>\n",
       "      <th>230</th>\n",
       "      <td>2020-07-03</td>\n",
       "      <td>27</td>\n",
       "      <td>2020</td>\n",
       "      <td>3.25</td>\n",
       "      <td>453745.0</td>\n",
       "      <td>2.288732</td>\n",
       "      <td>1.028154</td>\n",
       "      <td>1.045206</td>\n",
       "      <td>1.033814</td>\n",
       "    </tr>\n",
       "    <tr>\n",
       "      <th>231</th>\n",
       "      <td>2020-07-10</td>\n",
       "      <td>28</td>\n",
       "      <td>2020</td>\n",
       "      <td>2.3275</td>\n",
       "      <td>84432.0</td>\n",
       "      <td>0.716154</td>\n",
       "      <td>1.000559</td>\n",
       "      <td>0.979019</td>\n",
       "      <td>0.984055</td>\n",
       "    </tr>\n",
       "    <tr>\n",
       "      <th>232</th>\n",
       "      <td>2020-07-17</td>\n",
       "      <td>29</td>\n",
       "      <td>2020</td>\n",
       "      <td>1.9722</td>\n",
       "      <td>61475.0</td>\n",
       "      <td>0.847347</td>\n",
       "      <td>1.021048</td>\n",
       "      <td>1.028341</td>\n",
       "      <td>1.013191</td>\n",
       "    </tr>\n",
       "    <tr>\n",
       "      <th>233</th>\n",
       "      <td>2020-07-24</td>\n",
       "      <td>30</td>\n",
       "      <td>2020</td>\n",
       "      <td>1.9492</td>\n",
       "      <td>59495.0</td>\n",
       "      <td>0.988338</td>\n",
       "      <td>0.983744</td>\n",
       "      <td>1.009406</td>\n",
       "      <td>1.000308</td>\n",
       "    </tr>\n",
       "    <tr>\n",
       "      <th>234</th>\n",
       "      <td>2020-07-31</td>\n",
       "      <td>31</td>\n",
       "      <td>2020</td>\n",
       "      <td>1.89</td>\n",
       "      <td>76533.0</td>\n",
       "      <td>0.969629</td>\n",
       "      <td>0.958751</td>\n",
       "      <td>1.005246</td>\n",
       "      <td>0.975660</td>\n",
       "    </tr>\n",
       "  </tbody>\n",
       "</table>\n",
       "<p>235 rows × 9 columns</p>\n",
       "</div>"
      ],
      "text/plain": [
       "           Date Week  Year  Adj_Close    Volume  returns_week  returns_stoxx  \\\n",
       "0    2016-02-05    5  2016  42.091812     269.0           NaN            NaN   \n",
       "1    2016-02-12    6  2016  39.202427    1286.0      0.931355       0.957203   \n",
       "2    2016-02-19    7  2016   42.38422    1469.0      1.081163       1.041685   \n",
       "3    2016-02-26    8  2016  36.972202    5069.0      0.872311       1.020240   \n",
       "4    2016-03-04    9  2016  38.825764    1623.0      1.050134       1.036936   \n",
       "..          ...  ...   ...        ...       ...           ...            ...   \n",
       "230  2020-07-03   27  2020       3.25  453745.0      2.288732       1.028154   \n",
       "231  2020-07-10   28  2020     2.3275   84432.0      0.716154       1.000559   \n",
       "232  2020-07-17   29  2020     1.9722   61475.0      0.847347       1.021048   \n",
       "233  2020-07-24   30  2020     1.9492   59495.0      0.988338       0.983744   \n",
       "234  2020-07-31   31  2020       1.89   76533.0      0.969629       0.958751   \n",
       "\n",
       "     returns_ma  returns_visa  \n",
       "0           NaN           NaN  \n",
       "1      1.025737      0.984344  \n",
       "2      1.022382      1.017767  \n",
       "3      1.008987      1.016776  \n",
       "4      1.028320      1.016087  \n",
       "..          ...           ...  \n",
       "230    1.045206      1.033814  \n",
       "231    0.979019      0.984055  \n",
       "232    1.028341      1.013191  \n",
       "233    1.009406      1.000308  \n",
       "234    1.005246      0.975660  \n",
       "\n",
       "[235 rows x 9 columns]"
      ]
     },
     "execution_count": 105,
     "metadata": {},
     "output_type": "execute_result"
    }
   ],
   "source": [
    "df_test"
   ]
  },
  {
   "cell_type": "code",
   "execution_count": null,
   "id": "4fac0267-efec-4192-8dcf-37511020d6b2",
   "metadata": {},
   "outputs": [],
   "source": []
  },
  {
   "cell_type": "code",
   "execution_count": null,
   "id": "d7205aa8-9492-4cf3-b449-01334e811c01",
   "metadata": {},
   "outputs": [],
   "source": []
  },
  {
   "cell_type": "code",
   "execution_count": null,
   "id": "259b09aa-acbe-4fe2-abb4-67b0038a0fd6",
   "metadata": {},
   "outputs": [],
   "source": []
  },
  {
   "cell_type": "code",
   "execution_count": 343,
   "id": "076fa7fb-135d-471c-a64a-b77ed63727c1",
   "metadata": {},
   "outputs": [
    {
     "data": {
      "text/html": [
       "<div>\n",
       "<style scoped>\n",
       "    .dataframe tbody tr th:only-of-type {\n",
       "        vertical-align: middle;\n",
       "    }\n",
       "\n",
       "    .dataframe tbody tr th {\n",
       "        vertical-align: top;\n",
       "    }\n",
       "\n",
       "    .dataframe thead th {\n",
       "        text-align: right;\n",
       "    }\n",
       "</style>\n",
       "<table border=\"1\" class=\"dataframe\">\n",
       "  <thead>\n",
       "    <tr style=\"text-align: right;\">\n",
       "      <th></th>\n",
       "      <th>Date</th>\n",
       "      <th>Week</th>\n",
       "      <th>Year</th>\n",
       "      <th>Adj_Close</th>\n",
       "      <th>Volume</th>\n",
       "      <th>returns_week</th>\n",
       "      <th>returns_stoxx</th>\n",
       "      <th>returns_ma</th>\n",
       "      <th>returns_visa</th>\n",
       "      <th>sentiment_bert_value</th>\n",
       "      <th>sentiment_vader_value</th>\n",
       "      <th>count_all_tweets</th>\n",
       "      <th>dif_sentiment_bert_value</th>\n",
       "      <th>dif_sentiment_vader_value</th>\n",
       "      <th>Lag_returns_week</th>\n",
       "      <th>returns_week_log</th>\n",
       "    </tr>\n",
       "  </thead>\n",
       "  <tbody>\n",
       "    <tr>\n",
       "      <th>228</th>\n",
       "      <td>2020-07-03</td>\n",
       "      <td>27</td>\n",
       "      <td>2020</td>\n",
       "      <td>3.25</td>\n",
       "      <td>453745.0</td>\n",
       "      <td>2.288732</td>\n",
       "      <td>1.028154</td>\n",
       "      <td>1.045206</td>\n",
       "      <td>1.033814</td>\n",
       "      <td>-4144</td>\n",
       "      <td>-1351</td>\n",
       "      <td>14374</td>\n",
       "      <td>10833.0</td>\n",
       "      <td>5465.0</td>\n",
       "      <td>0.058921</td>\n",
       "      <td>0.827998</td>\n",
       "    </tr>\n",
       "  </tbody>\n",
       "</table>\n",
       "</div>"
      ],
      "text/plain": [
       "           Date Week  Year Adj_Close    Volume  returns_week  returns_stoxx  \\\n",
       "228  2020-07-03   27  2020      3.25  453745.0      2.288732       1.028154   \n",
       "\n",
       "     returns_ma  returns_visa  sentiment_bert_value  sentiment_vader_value  \\\n",
       "228    1.045206      1.033814                 -4144                  -1351   \n",
       "\n",
       "     count_all_tweets  dif_sentiment_bert_value  dif_sentiment_vader_value  \\\n",
       "228             14374                   10833.0                     5465.0   \n",
       "\n",
       "     Lag_returns_week  returns_week_log  \n",
       "228          0.058921          0.827998  "
      ]
     },
     "execution_count": 343,
     "metadata": {},
     "output_type": "execute_result"
    }
   ],
   "source": [
    "df_week_reg.loc[df_week_reg[\"dif_sentiment_bert_value\"] == df_week_reg[\"dif_sentiment_bert_value\"].max()]"
   ]
  },
  {
   "cell_type": "code",
   "execution_count": 350,
   "id": "68334e6b-da78-42b9-a6f8-44c5355e2f5e",
   "metadata": {},
   "outputs": [],
   "source": [
    "df_week_reg = df_week_reg.drop([228])"
   ]
  },
  {
   "cell_type": "code",
   "execution_count": 351,
   "id": "4f9de3b2-295a-4a3e-a54f-c87dd3317b4c",
   "metadata": {},
   "outputs": [
    {
     "data": {
      "text/plain": [
       "-7246.0"
      ]
     },
     "execution_count": 351,
     "metadata": {},
     "output_type": "execute_result"
    }
   ],
   "source": [
    "df_week_reg[\"dif_sentiment_bert_value\"].min()"
   ]
  },
  {
   "cell_type": "code",
   "execution_count": 352,
   "id": "080cfd00-69d2-49c2-be27-dcc0dfbe837f",
   "metadata": {},
   "outputs": [
    {
     "data": {
      "text/html": [
       "<div>\n",
       "<style scoped>\n",
       "    .dataframe tbody tr th:only-of-type {\n",
       "        vertical-align: middle;\n",
       "    }\n",
       "\n",
       "    .dataframe tbody tr th {\n",
       "        vertical-align: top;\n",
       "    }\n",
       "\n",
       "    .dataframe thead th {\n",
       "        text-align: right;\n",
       "    }\n",
       "</style>\n",
       "<table border=\"1\" class=\"dataframe\">\n",
       "  <thead>\n",
       "    <tr style=\"text-align: right;\">\n",
       "      <th></th>\n",
       "      <th>Date</th>\n",
       "      <th>Week</th>\n",
       "      <th>Year</th>\n",
       "      <th>Adj_Close</th>\n",
       "      <th>Volume</th>\n",
       "      <th>returns_week</th>\n",
       "      <th>returns_stoxx</th>\n",
       "      <th>returns_ma</th>\n",
       "      <th>returns_visa</th>\n",
       "      <th>sentiment_bert_value</th>\n",
       "      <th>sentiment_vader_value</th>\n",
       "      <th>count_all_tweets</th>\n",
       "      <th>dif_sentiment_bert_value</th>\n",
       "      <th>dif_sentiment_vader_value</th>\n",
       "      <th>Lag_returns_week</th>\n",
       "      <th>returns_week_log</th>\n",
       "    </tr>\n",
       "  </thead>\n",
       "  <tbody>\n",
       "    <tr>\n",
       "      <th>227</th>\n",
       "      <td>2020-06-26</td>\n",
       "      <td>26</td>\n",
       "      <td>2020</td>\n",
       "      <td>1.42</td>\n",
       "      <td>352175.0</td>\n",
       "      <td>0.058921</td>\n",
       "      <td>0.980138</td>\n",
       "      <td>0.975852</td>\n",
       "      <td>0.984756</td>\n",
       "      <td>-14977</td>\n",
       "      <td>-6816</td>\n",
       "      <td>39201</td>\n",
       "      <td>-7246.0</td>\n",
       "      <td>-5370.0</td>\n",
       "      <td>0.260879</td>\n",
       "      <td>-2.831555</td>\n",
       "    </tr>\n",
       "  </tbody>\n",
       "</table>\n",
       "</div>"
      ],
      "text/plain": [
       "           Date Week  Year Adj_Close    Volume  returns_week  returns_stoxx  \\\n",
       "227  2020-06-26   26  2020      1.42  352175.0      0.058921       0.980138   \n",
       "\n",
       "     returns_ma  returns_visa  sentiment_bert_value  sentiment_vader_value  \\\n",
       "227    0.975852      0.984756                -14977                  -6816   \n",
       "\n",
       "     count_all_tweets  dif_sentiment_bert_value  dif_sentiment_vader_value  \\\n",
       "227             39201                   -7246.0                    -5370.0   \n",
       "\n",
       "     Lag_returns_week  returns_week_log  \n",
       "227          0.260879         -2.831555  "
      ]
     },
     "execution_count": 352,
     "metadata": {},
     "output_type": "execute_result"
    }
   ],
   "source": [
    "df_week_reg.loc[df_week_reg[\"dif_sentiment_bert_value\"] == df_week_reg[\"dif_sentiment_bert_value\"].min()]"
   ]
  },
  {
   "cell_type": "code",
   "execution_count": 353,
   "id": "764d352a-09f0-463c-91df-adf7262cbe89",
   "metadata": {},
   "outputs": [],
   "source": [
    "df_week_reg = df_week_reg.drop([227])"
   ]
  },
  {
   "cell_type": "code",
   "execution_count": 356,
   "id": "e8b80f93-ff13-4708-b5a6-eda5addac693",
   "metadata": {},
   "outputs": [
    {
     "data": {
      "text/plain": [
       "-6953.0"
      ]
     },
     "execution_count": 356,
     "metadata": {},
     "output_type": "execute_result"
    }
   ],
   "source": [
    "df_week_reg[\"dif_sentiment_bert_value\"].min()"
   ]
  },
  {
   "cell_type": "code",
   "execution_count": 357,
   "id": "8224c657-7c7a-4e81-b0dc-060972af1f13",
   "metadata": {},
   "outputs": [
    {
     "data": {
      "text/html": [
       "<div>\n",
       "<style scoped>\n",
       "    .dataframe tbody tr th:only-of-type {\n",
       "        vertical-align: middle;\n",
       "    }\n",
       "\n",
       "    .dataframe tbody tr th {\n",
       "        vertical-align: top;\n",
       "    }\n",
       "\n",
       "    .dataframe thead th {\n",
       "        text-align: right;\n",
       "    }\n",
       "</style>\n",
       "<table border=\"1\" class=\"dataframe\">\n",
       "  <thead>\n",
       "    <tr style=\"text-align: right;\">\n",
       "      <th></th>\n",
       "      <th>Date</th>\n",
       "      <th>Week</th>\n",
       "      <th>Year</th>\n",
       "      <th>Adj_Close</th>\n",
       "      <th>Volume</th>\n",
       "      <th>returns_week</th>\n",
       "      <th>returns_stoxx</th>\n",
       "      <th>returns_ma</th>\n",
       "      <th>returns_visa</th>\n",
       "      <th>sentiment_bert_value</th>\n",
       "      <th>sentiment_vader_value</th>\n",
       "      <th>count_all_tweets</th>\n",
       "      <th>dif_sentiment_bert_value</th>\n",
       "      <th>dif_sentiment_vader_value</th>\n",
       "      <th>Lag_returns_week</th>\n",
       "      <th>returns_week_log</th>\n",
       "    </tr>\n",
       "  </thead>\n",
       "  <tbody>\n",
       "    <tr>\n",
       "      <th>226</th>\n",
       "      <td>2020-06-19</td>\n",
       "      <td>25</td>\n",
       "      <td>2020</td>\n",
       "      <td>24.1</td>\n",
       "      <td>185717.0</td>\n",
       "      <td>0.260879</td>\n",
       "      <td>1.036579</td>\n",
       "      <td>0.995668</td>\n",
       "      <td>0.999688</td>\n",
       "      <td>-7731</td>\n",
       "      <td>-1446</td>\n",
       "      <td>18720</td>\n",
       "      <td>-6953.0</td>\n",
       "      <td>-1829.0</td>\n",
       "      <td>1.039379</td>\n",
       "      <td>-1.343699</td>\n",
       "    </tr>\n",
       "  </tbody>\n",
       "</table>\n",
       "</div>"
      ],
      "text/plain": [
       "           Date Week  Year Adj_Close    Volume  returns_week  returns_stoxx  \\\n",
       "226  2020-06-19   25  2020      24.1  185717.0      0.260879       1.036579   \n",
       "\n",
       "     returns_ma  returns_visa  sentiment_bert_value  sentiment_vader_value  \\\n",
       "226    0.995668      0.999688                 -7731                  -1446   \n",
       "\n",
       "     count_all_tweets  dif_sentiment_bert_value  dif_sentiment_vader_value  \\\n",
       "226             18720                   -6953.0                    -1829.0   \n",
       "\n",
       "     Lag_returns_week  returns_week_log  \n",
       "226          1.039379         -1.343699  "
      ]
     },
     "execution_count": 357,
     "metadata": {},
     "output_type": "execute_result"
    }
   ],
   "source": [
    "df_week_reg.loc[df_week_reg[\"dif_sentiment_bert_value\"] == df_week_reg[\"dif_sentiment_bert_value\"].min()]"
   ]
  },
  {
   "cell_type": "code",
   "execution_count": 358,
   "id": "03786573-fb65-463f-ab06-fd3662d5d101",
   "metadata": {},
   "outputs": [],
   "source": [
    "df_week_reg = df_week_reg.drop([226])"
   ]
  },
  {
   "cell_type": "code",
   "execution_count": 361,
   "id": "ffff6d11-77d4-4b96-a81a-8fe79b4e2097",
   "metadata": {},
   "outputs": [
    {
     "data": {
      "text/plain": [
       "-1002.0"
      ]
     },
     "execution_count": 361,
     "metadata": {},
     "output_type": "execute_result"
    }
   ],
   "source": [
    "df_week_reg[\"dif_sentiment_bert_value\"].min()"
   ]
  },
  {
   "cell_type": "code",
   "execution_count": 363,
   "id": "ae9d4808-9628-4d64-b82f-8a4fd7f36547",
   "metadata": {},
   "outputs": [
    {
     "data": {
      "text/html": [
       "<div>\n",
       "<style scoped>\n",
       "    .dataframe tbody tr th:only-of-type {\n",
       "        vertical-align: middle;\n",
       "    }\n",
       "\n",
       "    .dataframe tbody tr th {\n",
       "        vertical-align: top;\n",
       "    }\n",
       "\n",
       "    .dataframe thead th {\n",
       "        text-align: right;\n",
       "    }\n",
       "</style>\n",
       "<table border=\"1\" class=\"dataframe\">\n",
       "  <thead>\n",
       "    <tr style=\"text-align: right;\">\n",
       "      <th></th>\n",
       "      <th>Date</th>\n",
       "      <th>Week</th>\n",
       "      <th>Year</th>\n",
       "      <th>Adj_Close</th>\n",
       "      <th>Volume</th>\n",
       "      <th>returns_week</th>\n",
       "      <th>returns_stoxx</th>\n",
       "      <th>returns_ma</th>\n",
       "      <th>returns_visa</th>\n",
       "      <th>sentiment_bert_value</th>\n",
       "      <th>sentiment_vader_value</th>\n",
       "      <th>count_all_tweets</th>\n",
       "      <th>dif_sentiment_bert_value</th>\n",
       "      <th>dif_sentiment_vader_value</th>\n",
       "      <th>Lag_returns_week</th>\n",
       "      <th>returns_week_log</th>\n",
       "    </tr>\n",
       "  </thead>\n",
       "  <tbody>\n",
       "    <tr>\n",
       "      <th>0</th>\n",
       "      <td>2016-02-19</td>\n",
       "      <td>7</td>\n",
       "      <td>2016</td>\n",
       "      <td>42.38422</td>\n",
       "      <td>1469.0</td>\n",
       "      <td>1.081163</td>\n",
       "      <td>1.041685</td>\n",
       "      <td>1.022382</td>\n",
       "      <td>1.017767</td>\n",
       "      <td>7</td>\n",
       "      <td>35</td>\n",
       "      <td>147</td>\n",
       "      <td>54.0</td>\n",
       "      <td>33.0</td>\n",
       "      <td>0.931355</td>\n",
       "      <td>0.078037</td>\n",
       "    </tr>\n",
       "    <tr>\n",
       "      <th>1</th>\n",
       "      <td>2016-02-26</td>\n",
       "      <td>8</td>\n",
       "      <td>2016</td>\n",
       "      <td>36.972202</td>\n",
       "      <td>5069.0</td>\n",
       "      <td>0.872311</td>\n",
       "      <td>1.020240</td>\n",
       "      <td>1.008987</td>\n",
       "      <td>1.016776</td>\n",
       "      <td>-169</td>\n",
       "      <td>66</td>\n",
       "      <td>938</td>\n",
       "      <td>-176.0</td>\n",
       "      <td>31.0</td>\n",
       "      <td>1.081163</td>\n",
       "      <td>-0.136610</td>\n",
       "    </tr>\n",
       "    <tr>\n",
       "      <th>2</th>\n",
       "      <td>2016-03-04</td>\n",
       "      <td>9</td>\n",
       "      <td>2016</td>\n",
       "      <td>38.825764</td>\n",
       "      <td>1623.0</td>\n",
       "      <td>1.050134</td>\n",
       "      <td>1.036936</td>\n",
       "      <td>1.028320</td>\n",
       "      <td>1.016087</td>\n",
       "      <td>-32</td>\n",
       "      <td>22</td>\n",
       "      <td>394</td>\n",
       "      <td>137.0</td>\n",
       "      <td>-44.0</td>\n",
       "      <td>0.872311</td>\n",
       "      <td>0.048918</td>\n",
       "    </tr>\n",
       "    <tr>\n",
       "      <th>3</th>\n",
       "      <td>2016-03-11</td>\n",
       "      <td>10</td>\n",
       "      <td>2016</td>\n",
       "      <td>33.364189</td>\n",
       "      <td>1535.0</td>\n",
       "      <td>0.859331</td>\n",
       "      <td>1.012001</td>\n",
       "      <td>0.983676</td>\n",
       "      <td>0.969282</td>\n",
       "      <td>-61</td>\n",
       "      <td>79</td>\n",
       "      <td>412</td>\n",
       "      <td>-29.0</td>\n",
       "      <td>57.0</td>\n",
       "      <td>1.050134</td>\n",
       "      <td>-0.151601</td>\n",
       "    </tr>\n",
       "    <tr>\n",
       "      <th>4</th>\n",
       "      <td>2016-03-18</td>\n",
       "      <td>11</td>\n",
       "      <td>2016</td>\n",
       "      <td>31.882332</td>\n",
       "      <td>3759.0</td>\n",
       "      <td>0.955585</td>\n",
       "      <td>0.995436</td>\n",
       "      <td>1.042109</td>\n",
       "      <td>1.030015</td>\n",
       "      <td>-79</td>\n",
       "      <td>-20</td>\n",
       "      <td>311</td>\n",
       "      <td>-18.0</td>\n",
       "      <td>-99.0</td>\n",
       "      <td>0.859331</td>\n",
       "      <td>-0.045431</td>\n",
       "    </tr>\n",
       "    <tr>\n",
       "      <th>...</th>\n",
       "      <td>...</td>\n",
       "      <td>...</td>\n",
       "      <td>...</td>\n",
       "      <td>...</td>\n",
       "      <td>...</td>\n",
       "      <td>...</td>\n",
       "      <td>...</td>\n",
       "      <td>...</td>\n",
       "      <td>...</td>\n",
       "      <td>...</td>\n",
       "      <td>...</td>\n",
       "      <td>...</td>\n",
       "      <td>...</td>\n",
       "      <td>...</td>\n",
       "      <td>...</td>\n",
       "      <td>...</td>\n",
       "    </tr>\n",
       "    <tr>\n",
       "      <th>225</th>\n",
       "      <td>2020-06-12</td>\n",
       "      <td>24</td>\n",
       "      <td>2020</td>\n",
       "      <td>92.379997</td>\n",
       "      <td>15769.0</td>\n",
       "      <td>1.039379</td>\n",
       "      <td>0.931876</td>\n",
       "      <td>0.954823</td>\n",
       "      <td>0.963178</td>\n",
       "      <td>-778</td>\n",
       "      <td>383</td>\n",
       "      <td>2273</td>\n",
       "      <td>-27.0</td>\n",
       "      <td>192.0</td>\n",
       "      <td>0.950588</td>\n",
       "      <td>0.038623</td>\n",
       "    </tr>\n",
       "    <tr>\n",
       "      <th>229</th>\n",
       "      <td>2020-07-10</td>\n",
       "      <td>28</td>\n",
       "      <td>2020</td>\n",
       "      <td>2.3275</td>\n",
       "      <td>84432.0</td>\n",
       "      <td>0.716154</td>\n",
       "      <td>1.000559</td>\n",
       "      <td>0.979019</td>\n",
       "      <td>0.984055</td>\n",
       "      <td>-1989</td>\n",
       "      <td>-744</td>\n",
       "      <td>8200</td>\n",
       "      <td>2155.0</td>\n",
       "      <td>607.0</td>\n",
       "      <td>2.288732</td>\n",
       "      <td>-0.333860</td>\n",
       "    </tr>\n",
       "    <tr>\n",
       "      <th>230</th>\n",
       "      <td>2020-07-17</td>\n",
       "      <td>29</td>\n",
       "      <td>2020</td>\n",
       "      <td>1.9722</td>\n",
       "      <td>61475.0</td>\n",
       "      <td>0.847347</td>\n",
       "      <td>1.021048</td>\n",
       "      <td>1.028341</td>\n",
       "      <td>1.013191</td>\n",
       "      <td>-2305</td>\n",
       "      <td>-1138</td>\n",
       "      <td>9170</td>\n",
       "      <td>-316.0</td>\n",
       "      <td>-394.0</td>\n",
       "      <td>0.716154</td>\n",
       "      <td>-0.165645</td>\n",
       "    </tr>\n",
       "    <tr>\n",
       "      <th>231</th>\n",
       "      <td>2020-07-24</td>\n",
       "      <td>30</td>\n",
       "      <td>2020</td>\n",
       "      <td>1.9492</td>\n",
       "      <td>59495.0</td>\n",
       "      <td>0.988338</td>\n",
       "      <td>0.983744</td>\n",
       "      <td>1.009406</td>\n",
       "      <td>1.000308</td>\n",
       "      <td>-2357</td>\n",
       "      <td>-1558</td>\n",
       "      <td>10250</td>\n",
       "      <td>-52.0</td>\n",
       "      <td>-420.0</td>\n",
       "      <td>0.847347</td>\n",
       "      <td>-0.011731</td>\n",
       "    </tr>\n",
       "    <tr>\n",
       "      <th>232</th>\n",
       "      <td>2020-07-31</td>\n",
       "      <td>31</td>\n",
       "      <td>2020</td>\n",
       "      <td>1.89</td>\n",
       "      <td>76533.0</td>\n",
       "      <td>0.969629</td>\n",
       "      <td>0.958751</td>\n",
       "      <td>1.005246</td>\n",
       "      <td>0.975660</td>\n",
       "      <td>-1172</td>\n",
       "      <td>-586</td>\n",
       "      <td>4833</td>\n",
       "      <td>1185.0</td>\n",
       "      <td>972.0</td>\n",
       "      <td>0.988338</td>\n",
       "      <td>-0.030842</td>\n",
       "    </tr>\n",
       "  </tbody>\n",
       "</table>\n",
       "<p>230 rows × 16 columns</p>\n",
       "</div>"
      ],
      "text/plain": [
       "           Date Week  Year  Adj_Close   Volume  returns_week  returns_stoxx  \\\n",
       "0    2016-02-19    7  2016   42.38422   1469.0      1.081163       1.041685   \n",
       "1    2016-02-26    8  2016  36.972202   5069.0      0.872311       1.020240   \n",
       "2    2016-03-04    9  2016  38.825764   1623.0      1.050134       1.036936   \n",
       "3    2016-03-11   10  2016  33.364189   1535.0      0.859331       1.012001   \n",
       "4    2016-03-18   11  2016  31.882332   3759.0      0.955585       0.995436   \n",
       "..          ...  ...   ...        ...      ...           ...            ...   \n",
       "225  2020-06-12   24  2020  92.379997  15769.0      1.039379       0.931876   \n",
       "229  2020-07-10   28  2020     2.3275  84432.0      0.716154       1.000559   \n",
       "230  2020-07-17   29  2020     1.9722  61475.0      0.847347       1.021048   \n",
       "231  2020-07-24   30  2020     1.9492  59495.0      0.988338       0.983744   \n",
       "232  2020-07-31   31  2020       1.89  76533.0      0.969629       0.958751   \n",
       "\n",
       "     returns_ma  returns_visa  sentiment_bert_value  sentiment_vader_value  \\\n",
       "0      1.022382      1.017767                     7                     35   \n",
       "1      1.008987      1.016776                  -169                     66   \n",
       "2      1.028320      1.016087                   -32                     22   \n",
       "3      0.983676      0.969282                   -61                     79   \n",
       "4      1.042109      1.030015                   -79                    -20   \n",
       "..          ...           ...                   ...                    ...   \n",
       "225    0.954823      0.963178                  -778                    383   \n",
       "229    0.979019      0.984055                 -1989                   -744   \n",
       "230    1.028341      1.013191                 -2305                  -1138   \n",
       "231    1.009406      1.000308                 -2357                  -1558   \n",
       "232    1.005246      0.975660                 -1172                   -586   \n",
       "\n",
       "     count_all_tweets  dif_sentiment_bert_value  dif_sentiment_vader_value  \\\n",
       "0                 147                      54.0                       33.0   \n",
       "1                 938                    -176.0                       31.0   \n",
       "2                 394                     137.0                      -44.0   \n",
       "3                 412                     -29.0                       57.0   \n",
       "4                 311                     -18.0                      -99.0   \n",
       "..                ...                       ...                        ...   \n",
       "225              2273                     -27.0                      192.0   \n",
       "229              8200                    2155.0                      607.0   \n",
       "230              9170                    -316.0                     -394.0   \n",
       "231             10250                     -52.0                     -420.0   \n",
       "232              4833                    1185.0                      972.0   \n",
       "\n",
       "     Lag_returns_week  returns_week_log  \n",
       "0            0.931355          0.078037  \n",
       "1            1.081163         -0.136610  \n",
       "2            0.872311          0.048918  \n",
       "3            1.050134         -0.151601  \n",
       "4            0.859331         -0.045431  \n",
       "..                ...               ...  \n",
       "225          0.950588          0.038623  \n",
       "229          2.288732         -0.333860  \n",
       "230          0.716154         -0.165645  \n",
       "231          0.847347         -0.011731  \n",
       "232          0.988338         -0.030842  \n",
       "\n",
       "[230 rows x 16 columns]"
      ]
     },
     "execution_count": 363,
     "metadata": {},
     "output_type": "execute_result"
    }
   ],
   "source": [
    "df_week_reg.drop([226, 227, 228])"
   ]
  },
  {
   "cell_type": "code",
   "execution_count": 504,
   "id": "714fae82-0575-4bf6-bdfb-da1b85e5e275",
   "metadata": {},
   "outputs": [],
   "source": [
    "from scipy.stats import levene\n",
    "\n",
    "stat, p = levene(df_week_reg[\"returns_week\"], df_week_reg[\"returns_week_log\"])"
   ]
  },
  {
   "cell_type": "code",
   "execution_count": 505,
   "id": "bc8a3e58-105c-4450-8681-b650c95f8699",
   "metadata": {},
   "outputs": [
    {
     "data": {
      "text/plain": [
       "0.5542832286479171"
      ]
     },
     "execution_count": 505,
     "metadata": {},
     "output_type": "execute_result"
    }
   ],
   "source": [
    "p"
   ]
  },
  {
   "cell_type": "code",
   "execution_count": 613,
   "id": "a1626acc-784f-4374-b3ff-73028c362fcd",
   "metadata": {},
   "outputs": [
    {
     "name": "stdout",
     "output_type": "stream",
     "text": [
      "6.431008846569018e-30\n"
     ]
    }
   ],
   "source": [
    "from scipy import stats\n",
    "shapiro_test = stats.shapiro(df_week_reg[\"sentiment_vader_value\"])\n",
    "print(shapiro_test.pvalue)"
   ]
  },
  {
   "cell_type": "code",
   "execution_count": 536,
   "id": "bf7e5773-f80d-4456-b7be-b9d390acab64",
   "metadata": {},
   "outputs": [
    {
     "data": {
      "image/png": "[encoded data removed]",
      "text/plain": [
       "<Figure size 432x288 with 1 Axes>"
      ]
     },
     "metadata": {
      "needs_background": "light"
     },
     "output_type": "display_data"
    }
   ],
   "source": [
    "plt.hist(df_week_reg[\"returns_week\"], bins=75)\n",
    "plt.show()"
   ]
  },
  {
   "cell_type": "code",
   "execution_count": 609,
   "id": "72838c06-3429-4b83-85b3-1ecab95feba4",
   "metadata": {},
   "outputs": [
    {
     "data": {
      "image/png": "[encoded data removed]",
      "text/plain": [
       "<Figure size 432x288 with 1 Axes>"
      ]
     },
     "metadata": {
      "needs_background": "light"
     },
     "output_type": "display_data"
    }
   ],
   "source": [
    "plt.hist(df_week_reg[\"dif_sentiment_vader_value\"], bins=75)\n",
    "plt.show()"
   ]
  },
  {
   "cell_type": "code",
   "execution_count": 605,
   "id": "2eea0432-7c7b-42d8-b9e8-3dd35fe28919",
   "metadata": {},
   "outputs": [
    {
     "data": {
      "text/html": [
       "<div>\n",
       "<style scoped>\n",
       "    .dataframe tbody tr th:only-of-type {\n",
       "        vertical-align: middle;\n",
       "    }\n",
       "\n",
       "    .dataframe tbody tr th {\n",
       "        vertical-align: top;\n",
       "    }\n",
       "\n",
       "    .dataframe thead th {\n",
       "        text-align: right;\n",
       "    }\n",
       "</style>\n",
       "<table border=\"1\" class=\"dataframe\">\n",
       "  <thead>\n",
       "    <tr style=\"text-align: right;\">\n",
       "      <th></th>\n",
       "      <th>Date</th>\n",
       "      <th>Week</th>\n",
       "      <th>Year</th>\n",
       "      <th>Adj_Close</th>\n",
       "      <th>Volume</th>\n",
       "      <th>returns_week</th>\n",
       "      <th>returns_stoxx</th>\n",
       "      <th>returns_ma</th>\n",
       "      <th>returns_visa</th>\n",
       "      <th>sentiment_bert_value</th>\n",
       "      <th>sentiment_vader_value</th>\n",
       "      <th>count_all_tweets</th>\n",
       "      <th>dif_sentiment_bert_value</th>\n",
       "      <th>dif_sentiment_vader_value</th>\n",
       "      <th>Lag_returns_week</th>\n",
       "      <th>returns_week_log</th>\n",
       "    </tr>\n",
       "  </thead>\n",
       "  <tbody>\n",
       "    <tr>\n",
       "      <th>0</th>\n",
       "      <td>2016-02-19</td>\n",
       "      <td>7</td>\n",
       "      <td>2016</td>\n",
       "      <td>42.38422</td>\n",
       "      <td>1469.0</td>\n",
       "      <td>1.081163</td>\n",
       "      <td>1.041685</td>\n",
       "      <td>1.022382</td>\n",
       "      <td>1.017767</td>\n",
       "      <td>7</td>\n",
       "      <td>35</td>\n",
       "      <td>4.990433</td>\n",
       "      <td>54.0</td>\n",
       "      <td>33.0</td>\n",
       "      <td>0.931355</td>\n",
       "      <td>0.078037</td>\n",
       "    </tr>\n",
       "    <tr>\n",
       "      <th>1</th>\n",
       "      <td>2016-02-26</td>\n",
       "      <td>8</td>\n",
       "      <td>2016</td>\n",
       "      <td>36.972202</td>\n",
       "      <td>5069.0</td>\n",
       "      <td>0.872311</td>\n",
       "      <td>1.020240</td>\n",
       "      <td>1.008987</td>\n",
       "      <td>1.016776</td>\n",
       "      <td>-169</td>\n",
       "      <td>66</td>\n",
       "      <td>6.843750</td>\n",
       "      <td>-176.0</td>\n",
       "      <td>31.0</td>\n",
       "      <td>1.081163</td>\n",
       "      <td>-0.136610</td>\n",
       "    </tr>\n",
       "    <tr>\n",
       "      <th>2</th>\n",
       "      <td>2016-03-04</td>\n",
       "      <td>9</td>\n",
       "      <td>2016</td>\n",
       "      <td>38.825764</td>\n",
       "      <td>1623.0</td>\n",
       "      <td>1.050134</td>\n",
       "      <td>1.036936</td>\n",
       "      <td>1.028320</td>\n",
       "      <td>1.016087</td>\n",
       "      <td>-32</td>\n",
       "      <td>22</td>\n",
       "      <td>5.976351</td>\n",
       "      <td>137.0</td>\n",
       "      <td>-44.0</td>\n",
       "      <td>0.872311</td>\n",
       "      <td>0.048918</td>\n",
       "    </tr>\n",
       "    <tr>\n",
       "      <th>3</th>\n",
       "      <td>2016-03-11</td>\n",
       "      <td>10</td>\n",
       "      <td>2016</td>\n",
       "      <td>33.364189</td>\n",
       "      <td>1535.0</td>\n",
       "      <td>0.859331</td>\n",
       "      <td>1.012001</td>\n",
       "      <td>0.983676</td>\n",
       "      <td>0.969282</td>\n",
       "      <td>-61</td>\n",
       "      <td>79</td>\n",
       "      <td>6.021023</td>\n",
       "      <td>-29.0</td>\n",
       "      <td>57.0</td>\n",
       "      <td>1.050134</td>\n",
       "      <td>-0.151601</td>\n",
       "    </tr>\n",
       "    <tr>\n",
       "      <th>4</th>\n",
       "      <td>2016-03-18</td>\n",
       "      <td>11</td>\n",
       "      <td>2016</td>\n",
       "      <td>31.882332</td>\n",
       "      <td>3759.0</td>\n",
       "      <td>0.955585</td>\n",
       "      <td>0.995436</td>\n",
       "      <td>1.042109</td>\n",
       "      <td>1.030015</td>\n",
       "      <td>-79</td>\n",
       "      <td>-20</td>\n",
       "      <td>5.739793</td>\n",
       "      <td>-18.0</td>\n",
       "      <td>-99.0</td>\n",
       "      <td>0.859331</td>\n",
       "      <td>-0.045431</td>\n",
       "    </tr>\n",
       "    <tr>\n",
       "      <th>...</th>\n",
       "      <td>...</td>\n",
       "      <td>...</td>\n",
       "      <td>...</td>\n",
       "      <td>...</td>\n",
       "      <td>...</td>\n",
       "      <td>...</td>\n",
       "      <td>...</td>\n",
       "      <td>...</td>\n",
       "      <td>...</td>\n",
       "      <td>...</td>\n",
       "      <td>...</td>\n",
       "      <td>...</td>\n",
       "      <td>...</td>\n",
       "      <td>...</td>\n",
       "      <td>...</td>\n",
       "      <td>...</td>\n",
       "    </tr>\n",
       "    <tr>\n",
       "      <th>228</th>\n",
       "      <td>2020-07-03</td>\n",
       "      <td>27</td>\n",
       "      <td>2020</td>\n",
       "      <td>3.25</td>\n",
       "      <td>453745.0</td>\n",
       "      <td>2.288732</td>\n",
       "      <td>1.028154</td>\n",
       "      <td>1.045206</td>\n",
       "      <td>1.033814</td>\n",
       "      <td>-4144</td>\n",
       "      <td>-1351</td>\n",
       "      <td>9.573176</td>\n",
       "      <td>10833.0</td>\n",
       "      <td>5465.0</td>\n",
       "      <td>0.058921</td>\n",
       "      <td>0.827998</td>\n",
       "    </tr>\n",
       "    <tr>\n",
       "      <th>229</th>\n",
       "      <td>2020-07-10</td>\n",
       "      <td>28</td>\n",
       "      <td>2020</td>\n",
       "      <td>2.3275</td>\n",
       "      <td>84432.0</td>\n",
       "      <td>0.716154</td>\n",
       "      <td>1.000559</td>\n",
       "      <td>0.979019</td>\n",
       "      <td>0.984055</td>\n",
       "      <td>-1989</td>\n",
       "      <td>-744</td>\n",
       "      <td>9.011889</td>\n",
       "      <td>2155.0</td>\n",
       "      <td>607.0</td>\n",
       "      <td>2.288732</td>\n",
       "      <td>-0.333860</td>\n",
       "    </tr>\n",
       "    <tr>\n",
       "      <th>230</th>\n",
       "      <td>2020-07-17</td>\n",
       "      <td>29</td>\n",
       "      <td>2020</td>\n",
       "      <td>1.9722</td>\n",
       "      <td>61475.0</td>\n",
       "      <td>0.847347</td>\n",
       "      <td>1.021048</td>\n",
       "      <td>1.028341</td>\n",
       "      <td>1.013191</td>\n",
       "      <td>-2305</td>\n",
       "      <td>-1138</td>\n",
       "      <td>9.123693</td>\n",
       "      <td>-316.0</td>\n",
       "      <td>-394.0</td>\n",
       "      <td>0.716154</td>\n",
       "      <td>-0.165645</td>\n",
       "    </tr>\n",
       "    <tr>\n",
       "      <th>231</th>\n",
       "      <td>2020-07-24</td>\n",
       "      <td>30</td>\n",
       "      <td>2020</td>\n",
       "      <td>1.9492</td>\n",
       "      <td>59495.0</td>\n",
       "      <td>0.988338</td>\n",
       "      <td>0.983744</td>\n",
       "      <td>1.009406</td>\n",
       "      <td>1.000308</td>\n",
       "      <td>-2357</td>\n",
       "      <td>-1558</td>\n",
       "      <td>9.235033</td>\n",
       "      <td>-52.0</td>\n",
       "      <td>-420.0</td>\n",
       "      <td>0.847347</td>\n",
       "      <td>-0.011731</td>\n",
       "    </tr>\n",
       "    <tr>\n",
       "      <th>232</th>\n",
       "      <td>2020-07-31</td>\n",
       "      <td>31</td>\n",
       "      <td>2020</td>\n",
       "      <td>1.89</td>\n",
       "      <td>76533.0</td>\n",
       "      <td>0.969629</td>\n",
       "      <td>0.958751</td>\n",
       "      <td>1.005246</td>\n",
       "      <td>0.975660</td>\n",
       "      <td>-1172</td>\n",
       "      <td>-586</td>\n",
       "      <td>8.483223</td>\n",
       "      <td>1185.0</td>\n",
       "      <td>972.0</td>\n",
       "      <td>0.988338</td>\n",
       "      <td>-0.030842</td>\n",
       "    </tr>\n",
       "  </tbody>\n",
       "</table>\n",
       "<p>233 rows × 16 columns</p>\n",
       "</div>"
      ],
      "text/plain": [
       "           Date Week  Year  Adj_Close    Volume  returns_week  returns_stoxx  \\\n",
       "0    2016-02-19    7  2016   42.38422    1469.0      1.081163       1.041685   \n",
       "1    2016-02-26    8  2016  36.972202    5069.0      0.872311       1.020240   \n",
       "2    2016-03-04    9  2016  38.825764    1623.0      1.050134       1.036936   \n",
       "3    2016-03-11   10  2016  33.364189    1535.0      0.859331       1.012001   \n",
       "4    2016-03-18   11  2016  31.882332    3759.0      0.955585       0.995436   \n",
       "..          ...  ...   ...        ...       ...           ...            ...   \n",
       "228  2020-07-03   27  2020       3.25  453745.0      2.288732       1.028154   \n",
       "229  2020-07-10   28  2020     2.3275   84432.0      0.716154       1.000559   \n",
       "230  2020-07-17   29  2020     1.9722   61475.0      0.847347       1.021048   \n",
       "231  2020-07-24   30  2020     1.9492   59495.0      0.988338       0.983744   \n",
       "232  2020-07-31   31  2020       1.89   76533.0      0.969629       0.958751   \n",
       "\n",
       "     returns_ma  returns_visa  sentiment_bert_value  sentiment_vader_value  \\\n",
       "0      1.022382      1.017767                     7                     35   \n",
       "1      1.008987      1.016776                  -169                     66   \n",
       "2      1.028320      1.016087                   -32                     22   \n",
       "3      0.983676      0.969282                   -61                     79   \n",
       "4      1.042109      1.030015                   -79                    -20   \n",
       "..          ...           ...                   ...                    ...   \n",
       "228    1.045206      1.033814                 -4144                  -1351   \n",
       "229    0.979019      0.984055                 -1989                   -744   \n",
       "230    1.028341      1.013191                 -2305                  -1138   \n",
       "231    1.009406      1.000308                 -2357                  -1558   \n",
       "232    1.005246      0.975660                 -1172                   -586   \n",
       "\n",
       "     count_all_tweets  dif_sentiment_bert_value  dif_sentiment_vader_value  \\\n",
       "0            4.990433                      54.0                       33.0   \n",
       "1            6.843750                    -176.0                       31.0   \n",
       "2            5.976351                     137.0                      -44.0   \n",
       "3            6.021023                     -29.0                       57.0   \n",
       "4            5.739793                     -18.0                      -99.0   \n",
       "..                ...                       ...                        ...   \n",
       "228          9.573176                   10833.0                     5465.0   \n",
       "229          9.011889                    2155.0                      607.0   \n",
       "230          9.123693                    -316.0                     -394.0   \n",
       "231          9.235033                     -52.0                     -420.0   \n",
       "232          8.483223                    1185.0                      972.0   \n",
       "\n",
       "     Lag_returns_week  returns_week_log  \n",
       "0            0.931355          0.078037  \n",
       "1            1.081163         -0.136610  \n",
       "2            0.872311          0.048918  \n",
       "3            1.050134         -0.151601  \n",
       "4            0.859331         -0.045431  \n",
       "..                ...               ...  \n",
       "228          0.058921          0.827998  \n",
       "229          2.288732         -0.333860  \n",
       "230          0.716154         -0.165645  \n",
       "231          0.847347         -0.011731  \n",
       "232          0.988338         -0.030842  \n",
       "\n",
       "[233 rows x 16 columns]"
      ]
     },
     "execution_count": 605,
     "metadata": {},
     "output_type": "execute_result"
    }
   ],
   "source": [
    "df_week_reg"
   ]
  },
  {
   "cell_type": "code",
   "execution_count": 552,
   "id": "795e430d-d9fd-495a-900a-c2c5a57fe637",
   "metadata": {},
   "outputs": [],
   "source": [
    "test = [-5, -3, -2, -1, -1, 0, 0, 0, 0, 1, 1, 1, 4]"
   ]
  },
  {
   "cell_type": "code",
   "execution_count": 553,
   "id": "3046b3ac-7107-4f30-83d8-fd1d2bda658e",
   "metadata": {},
   "outputs": [
    {
     "data": {
      "image/png": "[encoded data removed]",
      "text/plain": [
       "<Figure size 432x288 with 1 Axes>"
      ]
     },
     "metadata": {
      "needs_background": "light"
     },
     "output_type": "display_data"
    }
   ],
   "source": [
    "plt.hist(test)\n",
    "plt.show()"
   ]
  },
  {
   "cell_type": "code",
   "execution_count": 554,
   "id": "2a280f0f-7f8b-4642-8144-50ade84e42b1",
   "metadata": {},
   "outputs": [
    {
     "name": "stdout",
     "output_type": "stream",
     "text": [
      "0.4652952253818512\n"
     ]
    }
   ],
   "source": [
    "from scipy import stats\n",
    "shapiro_test = stats.shapiro(test)\n",
    "print(shapiro_test.pvalue)"
   ]
  },
  {
   "cell_type": "code",
   "execution_count": 614,
   "id": "5f527bad-2186-4eb3-9a14-b7555dfcbfcf",
   "metadata": {},
   "outputs": [],
   "source": [
    "df_wdi_2 = pd.read_csv(\"/Users/tobias/Dev/FOM/Master_Thesis/data/WRCDF_2.csv\", parse_dates=[\"Date\"])\n",
    "df_wdi_2 = df_wdi.rename(columns={\"Adj Close\": \"Adj_Close\"})\n",
    "\n",
    "df_wdi_2[\"returns\"] = np.log(df_wdi_2.Close.pct_change() + 1)\n",
    "df_wdi_2[\"returns_2\"] = df_wdi_2.Close.pct_change() + 1\n",
    "df_wdi_2[\"returns_3\"] = df_wdi_2.Close.pct_change()\n",
    "df_wdi_2[\"returns_5\"] = df_wdi_2.Close.pct_change(periods=5) + 1\n",
    "\n",
    "df_wdi_2[\"Date\"] = pd.to_datetime(df_wdi_2.Date).apply(lambda x: x.date())\n",
    "\n",
    "df_test = create_finance_df(df_wdi_2)"
   ]
  },
  {
   "cell_type": "code",
   "execution_count": 617,
   "id": "9aff101f-f8a2-45bc-9088-a8b91f3a2b42",
   "metadata": {},
   "outputs": [],
   "source": [
    "df_test = df_test.dropna()"
   ]
  },
  {
   "cell_type": "code",
   "execution_count": 618,
   "id": "cc82937c-6972-4a9d-8014-0a9de95a2fd3",
   "metadata": {},
   "outputs": [
    {
     "data": {
      "text/html": [
       "<div>\n",
       "<style scoped>\n",
       "    .dataframe tbody tr th:only-of-type {\n",
       "        vertical-align: middle;\n",
       "    }\n",
       "\n",
       "    .dataframe tbody tr th {\n",
       "        vertical-align: top;\n",
       "    }\n",
       "\n",
       "    .dataframe thead th {\n",
       "        text-align: right;\n",
       "    }\n",
       "</style>\n",
       "<table border=\"1\" class=\"dataframe\">\n",
       "  <thead>\n",
       "    <tr style=\"text-align: right;\">\n",
       "      <th></th>\n",
       "      <th>Date</th>\n",
       "      <th>Week</th>\n",
       "      <th>Year</th>\n",
       "      <th>Adj_Close</th>\n",
       "      <th>Volume</th>\n",
       "      <th>returns_week</th>\n",
       "    </tr>\n",
       "  </thead>\n",
       "  <tbody>\n",
       "    <tr>\n",
       "      <th>1</th>\n",
       "      <td>2016-02-12</td>\n",
       "      <td>6</td>\n",
       "      <td>2016</td>\n",
       "      <td>39.202427</td>\n",
       "      <td>1286.0</td>\n",
       "      <td>0.931355</td>\n",
       "    </tr>\n",
       "    <tr>\n",
       "      <th>2</th>\n",
       "      <td>2016-02-19</td>\n",
       "      <td>7</td>\n",
       "      <td>2016</td>\n",
       "      <td>42.38422</td>\n",
       "      <td>1469.0</td>\n",
       "      <td>1.081163</td>\n",
       "    </tr>\n",
       "    <tr>\n",
       "      <th>3</th>\n",
       "      <td>2016-02-26</td>\n",
       "      <td>8</td>\n",
       "      <td>2016</td>\n",
       "      <td>36.972202</td>\n",
       "      <td>5069.0</td>\n",
       "      <td>0.872311</td>\n",
       "    </tr>\n",
       "    <tr>\n",
       "      <th>4</th>\n",
       "      <td>2016-03-04</td>\n",
       "      <td>9</td>\n",
       "      <td>2016</td>\n",
       "      <td>38.825764</td>\n",
       "      <td>1623.0</td>\n",
       "      <td>1.050134</td>\n",
       "    </tr>\n",
       "    <tr>\n",
       "      <th>5</th>\n",
       "      <td>2016-03-11</td>\n",
       "      <td>10</td>\n",
       "      <td>2016</td>\n",
       "      <td>33.364189</td>\n",
       "      <td>1535.0</td>\n",
       "      <td>0.859331</td>\n",
       "    </tr>\n",
       "    <tr>\n",
       "      <th>...</th>\n",
       "      <td>...</td>\n",
       "      <td>...</td>\n",
       "      <td>...</td>\n",
       "      <td>...</td>\n",
       "      <td>...</td>\n",
       "      <td>...</td>\n",
       "    </tr>\n",
       "    <tr>\n",
       "      <th>230</th>\n",
       "      <td>2020-07-03</td>\n",
       "      <td>27</td>\n",
       "      <td>2020</td>\n",
       "      <td>3.25</td>\n",
       "      <td>453745.0</td>\n",
       "      <td>2.288732</td>\n",
       "    </tr>\n",
       "    <tr>\n",
       "      <th>231</th>\n",
       "      <td>2020-07-10</td>\n",
       "      <td>28</td>\n",
       "      <td>2020</td>\n",
       "      <td>2.3275</td>\n",
       "      <td>84432.0</td>\n",
       "      <td>0.716154</td>\n",
       "    </tr>\n",
       "    <tr>\n",
       "      <th>232</th>\n",
       "      <td>2020-07-17</td>\n",
       "      <td>29</td>\n",
       "      <td>2020</td>\n",
       "      <td>1.9722</td>\n",
       "      <td>61475.0</td>\n",
       "      <td>0.847347</td>\n",
       "    </tr>\n",
       "    <tr>\n",
       "      <th>233</th>\n",
       "      <td>2020-07-24</td>\n",
       "      <td>30</td>\n",
       "      <td>2020</td>\n",
       "      <td>1.9492</td>\n",
       "      <td>59495.0</td>\n",
       "      <td>0.988338</td>\n",
       "    </tr>\n",
       "    <tr>\n",
       "      <th>234</th>\n",
       "      <td>2020-07-31</td>\n",
       "      <td>31</td>\n",
       "      <td>2020</td>\n",
       "      <td>1.89</td>\n",
       "      <td>76533.0</td>\n",
       "      <td>0.969629</td>\n",
       "    </tr>\n",
       "  </tbody>\n",
       "</table>\n",
       "<p>234 rows × 6 columns</p>\n",
       "</div>"
      ],
      "text/plain": [
       "           Date Week  Year  Adj_Close    Volume  returns_week\n",
       "1    2016-02-12    6  2016  39.202427    1286.0      0.931355\n",
       "2    2016-02-19    7  2016   42.38422    1469.0      1.081163\n",
       "3    2016-02-26    8  2016  36.972202    5069.0      0.872311\n",
       "4    2016-03-04    9  2016  38.825764    1623.0      1.050134\n",
       "5    2016-03-11   10  2016  33.364189    1535.0      0.859331\n",
       "..          ...  ...   ...        ...       ...           ...\n",
       "230  2020-07-03   27  2020       3.25  453745.0      2.288732\n",
       "231  2020-07-10   28  2020     2.3275   84432.0      0.716154\n",
       "232  2020-07-17   29  2020     1.9722   61475.0      0.847347\n",
       "233  2020-07-24   30  2020     1.9492   59495.0      0.988338\n",
       "234  2020-07-31   31  2020       1.89   76533.0      0.969629\n",
       "\n",
       "[234 rows x 6 columns]"
      ]
     },
     "execution_count": 618,
     "metadata": {},
     "output_type": "execute_result"
    }
   ],
   "source": [
    "df_test"
   ]
  },
  {
   "cell_type": "code",
   "execution_count": 622,
   "id": "fe087613-790d-40cc-820a-b342afe6f8db",
   "metadata": {},
   "outputs": [
    {
     "data": {
      "image/png": "[encoded data removed]",
      "text/plain": [
       "<Figure size 432x288 with 1 Axes>"
      ]
     },
     "metadata": {
      "needs_background": "light"
     },
     "output_type": "display_data"
    }
   ],
   "source": [
    "plt.hist(df_test[\"returns_week\"], bins=100)\n",
    "plt.show()"
   ]
  },
  {
   "cell_type": "code",
   "execution_count": 624,
   "id": "c94d65f4-101c-4fb3-9067-f57e97a9b9fd",
   "metadata": {},
   "outputs": [
    {
     "name": "stdout",
     "output_type": "stream",
     "text": [
      "7.677887038463634e-29\n"
     ]
    }
   ],
   "source": [
    "shapiro_test = stats.shapiro(np.log(df_test[\"returns_week\"]))\n",
    "print(shapiro_test.pvalue)"
   ]
  },
  {
   "cell_type": "code",
   "execution_count": null,
   "id": "23b976ea-cbd8-45fb-888d-12f5fad4fbb8",
   "metadata": {},
   "outputs": [],
   "source": []
  }
 ],
 "metadata": {
  "kernelspec": {
   "display_name": "master_thesis_3.9.10",
   "language": "python",
   "name": "master_thesis_3.9.10"
  },
  "language_info": {
   "codemirror_mode": {
    "name": "ipython",
    "version": 3
   },
   "file_extension": ".py",
   "mimetype": "text/x-python",
   "name": "python",
   "nbconvert_exporter": "python",
   "pygments_lexer": "ipython3",
   "version": "3.9.10"
  }
 },
 "nbformat": 4,
 "nbformat_minor": 5
}
