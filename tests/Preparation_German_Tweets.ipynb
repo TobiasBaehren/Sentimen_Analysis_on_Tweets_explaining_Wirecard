{
 "cells": [
  {
   "cell_type": "markdown",
   "id": "f6ae1ac2-0b2c-4578-9694-7040882deec9",
   "metadata": {},
   "source": [
    "<h1>Preparation of the German Twitter Data</h1>"
   ]
  },
  {
   "cell_type": "markdown",
   "id": "a323e70f-92a0-45e4-845f-b9d5aaa92fbb",
   "metadata": {},
   "source": [
    "<p>This file is for preparing the german tweets. The preparation is mainly for training my own model for sentiment detection with Flair. </p>"
   ]
  },
  {
   "cell_type": "code",
   "execution_count": 1,
   "id": "5d435d73-8df6-4ae8-8694-a8e75747958f",
   "metadata": {},
   "outputs": [],
   "source": [
    "import csv\n",
    "import numpy as np\n",
    "import pandas as pd\n",
    "import re\n",
    "import nltk"
   ]
  },
  {
   "cell_type": "markdown",
   "id": "75921e4f-1906-4f14-b6b4-0ee534677d54",
   "metadata": {},
   "source": [
    "<h1>Einlesen und bestimmung der Felder</h1>\n",
    "<p>Durch die weitern Operatoren, kann ich die einzelnen Felder in DF bestimmen. Durch die Lambda Funktion werden die Str zu Listen, was die spätere verarbeitung erleichtert. \n",
    "    Durch die Parse_dates Funktion wird das Datumsfeld zu einem Timestamp, was die weiter Verarbeitung wesentlich leichter macht.</p>"
   ]
  },
  {
   "cell_type": "code",
   "execution_count": 226,
   "id": "2e546077-cd87-49e0-b3a3-4cb63f9f353c",
   "metadata": {},
   "outputs": [],
   "source": [
    "df_manager_de = pd.read_csv(\"/Users/tobias/Dev/FOM/Master_Thesis/data/Manager_DE/data.csv\", sep=\";\", \n",
    "                            converters={\"tweet_type\": lambda x: x.strip(\"[]\").replace(\"'\", \"\").split(\", \"),\n",
    "                                        \"referenced_tweet_id\": lambda x: x.strip(\"[]\").replace(\"'\", \"\").split(\", \")},\n",
    "                           parse_dates=[\"created_at\"])\n",
    "df_manager_de = df_manager_de.explode([\"referenced_tweet_id\", \"tweet_type\"], ignore_index=True)"
   ]
  },
  {
   "cell_type": "code",
   "execution_count": 227,
   "id": "22b21fc9-fc5e-4403-8390-093caa12eb23",
   "metadata": {},
   "outputs": [
    {
     "data": {
      "text/html": [
       "<div>\n",
       "<style scoped>\n",
       "    .dataframe tbody tr th:only-of-type {\n",
       "        vertical-align: middle;\n",
       "    }\n",
       "\n",
       "    .dataframe tbody tr th {\n",
       "        vertical-align: top;\n",
       "    }\n",
       "\n",
       "    .dataframe thead th {\n",
       "        text-align: right;\n",
       "    }\n",
       "</style>\n",
       "<table border=\"1\" class=\"dataframe\">\n",
       "  <thead>\n",
       "    <tr style=\"text-align: right;\">\n",
       "      <th></th>\n",
       "      <th>conversation_id</th>\n",
       "      <th>author_id</th>\n",
       "      <th>created_at</th>\n",
       "      <th>tweet_id</th>\n",
       "      <th>lang</th>\n",
       "      <th>retweet_count</th>\n",
       "      <th>reply_count</th>\n",
       "      <th>like_count</th>\n",
       "      <th>quote_count</th>\n",
       "      <th>source</th>\n",
       "      <th>tweet_type</th>\n",
       "      <th>referenced_tweet_id</th>\n",
       "      <th>text</th>\n",
       "    </tr>\n",
       "  </thead>\n",
       "  <tbody>\n",
       "    <tr>\n",
       "      <th>0</th>\n",
       "      <td>703311366262800384</td>\n",
       "      <td>1392131804</td>\n",
       "      <td>2016-02-26 20:11:11+00:00</td>\n",
       "      <td>703311366262800384</td>\n",
       "      <td>de</td>\n",
       "      <td>0</td>\n",
       "      <td>0</td>\n",
       "      <td>2</td>\n",
       "      <td>0</td>\n",
       "      <td>Twitter Web Client</td>\n",
       "      <td>None</td>\n",
       "      <td>None</td>\n",
       "      <td>#Wirecard-Chef Markus Braun pumpt irrwitzige S...</td>\n",
       "    </tr>\n",
       "    <tr>\n",
       "      <th>1</th>\n",
       "      <td>702405572012974080</td>\n",
       "      <td>1053723204</td>\n",
       "      <td>2016-02-24 08:11:53+00:00</td>\n",
       "      <td>702405572012974080</td>\n",
       "      <td>de</td>\n",
       "      <td>0</td>\n",
       "      <td>0</td>\n",
       "      <td>0</td>\n",
       "      <td>0</td>\n",
       "      <td>Twitter Web Client</td>\n",
       "      <td>None</td>\n",
       "      <td>None</td>\n",
       "      <td>Jetzt günstig einsammeln und später absahnen? ...</td>\n",
       "    </tr>\n",
       "    <tr>\n",
       "      <th>2</th>\n",
       "      <td>701784983829143553</td>\n",
       "      <td>554491983</td>\n",
       "      <td>2016-02-22 15:05:53+00:00</td>\n",
       "      <td>701784983829143553</td>\n",
       "      <td>de</td>\n",
       "      <td>0</td>\n",
       "      <td>0</td>\n",
       "      <td>0</td>\n",
       "      <td>0</td>\n",
       "      <td>Facebook</td>\n",
       "      <td>None</td>\n",
       "      <td>None</td>\n",
       "      <td>Morgen startet die neue Reihe R²-JazzCube! Vol...</td>\n",
       "    </tr>\n",
       "    <tr>\n",
       "      <th>3</th>\n",
       "      <td>701446667170615296</td>\n",
       "      <td>3365669884</td>\n",
       "      <td>2016-02-21 16:41:32+00:00</td>\n",
       "      <td>701446667170615296</td>\n",
       "      <td>de</td>\n",
       "      <td>0</td>\n",
       "      <td>0</td>\n",
       "      <td>1</td>\n",
       "      <td>0</td>\n",
       "      <td>Twitter Web Client</td>\n",
       "      <td>None</td>\n",
       "      <td>None</td>\n",
       "      <td>die Y-Achse des  #prusai3 nimmt Formen an :-) ...</td>\n",
       "    </tr>\n",
       "    <tr>\n",
       "      <th>4</th>\n",
       "      <td>700597812556386304</td>\n",
       "      <td>4858383167</td>\n",
       "      <td>2016-02-19 08:28:29+00:00</td>\n",
       "      <td>700597812556386304</td>\n",
       "      <td>de</td>\n",
       "      <td>2</td>\n",
       "      <td>0</td>\n",
       "      <td>0</td>\n",
       "      <td>0</td>\n",
       "      <td>Twitter for iPhone</td>\n",
       "      <td>retweeted</td>\n",
       "      <td>700578193334411264</td>\n",
       "      <td>RT @aktionaer: #Wirecard: Was führt der Vorsta...</td>\n",
       "    </tr>\n",
       "  </tbody>\n",
       "</table>\n",
       "</div>"
      ],
      "text/plain": [
       "      conversation_id   author_id                created_at  \\\n",
       "0  703311366262800384  1392131804 2016-02-26 20:11:11+00:00   \n",
       "1  702405572012974080  1053723204 2016-02-24 08:11:53+00:00   \n",
       "2  701784983829143553   554491983 2016-02-22 15:05:53+00:00   \n",
       "3  701446667170615296  3365669884 2016-02-21 16:41:32+00:00   \n",
       "4  700597812556386304  4858383167 2016-02-19 08:28:29+00:00   \n",
       "\n",
       "             tweet_id lang  retweet_count  reply_count  like_count  \\\n",
       "0  703311366262800384   de              0            0           2   \n",
       "1  702405572012974080   de              0            0           0   \n",
       "2  701784983829143553   de              0            0           0   \n",
       "3  701446667170615296   de              0            0           1   \n",
       "4  700597812556386304   de              2            0           0   \n",
       "\n",
       "   quote_count              source tweet_type referenced_tweet_id  \\\n",
       "0            0  Twitter Web Client       None                None   \n",
       "1            0  Twitter Web Client       None                None   \n",
       "2            0            Facebook       None                None   \n",
       "3            0  Twitter Web Client       None                None   \n",
       "4            0  Twitter for iPhone  retweeted  700578193334411264   \n",
       "\n",
       "                                                text  \n",
       "0  #Wirecard-Chef Markus Braun pumpt irrwitzige S...  \n",
       "1  Jetzt günstig einsammeln und später absahnen? ...  \n",
       "2  Morgen startet die neue Reihe R²-JazzCube! Vol...  \n",
       "3  die Y-Achse des  #prusai3 nimmt Formen an :-) ...  \n",
       "4  RT @aktionaer: #Wirecard: Was führt der Vorsta...  "
      ]
     },
     "execution_count": 227,
     "metadata": {},
     "output_type": "execute_result"
    }
   ],
   "source": [
    "df_manager_de.head()"
   ]
  },
  {
   "cell_type": "markdown",
   "id": "37ffbe1a-795b-4f33-966f-1ab366681f46",
   "metadata": {},
   "source": [
    "<br>\n",
    "<p>Prüfen welche Datenfelder in den einzelnen Zeilen enthalten sind. War wichtig um diese anpassen zu können.</p>"
   ]
  },
  {
   "cell_type": "code",
   "execution_count": 4,
   "id": "052a6f1c-58c3-45d1-8591-3553b3eb1662",
   "metadata": {
    "collapsed": true,
    "jupyter": {
     "outputs_hidden": true
    },
    "tags": []
   },
   "outputs": [
    {
     "name": "stdout",
     "output_type": "stream",
     "text": [
      "conversation_id:  703311366262800384 type:  <class 'numpy.int64'>\n",
      "author_id:  1392131804 type:  <class 'numpy.int64'>\n",
      "created_at:  2016-02-26 20:11:11+00:00 type:  <class 'pandas._libs.tslibs.timestamps.Timestamp'>\n",
      "tweet_id:  703311366262800384 type:  <class 'numpy.int64'>\n",
      "lang:  de type:  <class 'str'>\n",
      "retweet_count:  0 type:  <class 'numpy.int64'>\n",
      "reply_count:  0 type:  <class 'numpy.int64'>\n",
      "like_count:  2 type:  <class 'numpy.int64'>\n",
      "quote_count:  0 type:  <class 'numpy.int64'>\n",
      "source:  Twitter Web Client type:  <class 'str'>\n",
      "tweet_type:  ['None'] type:  <class 'list'>\n",
      "referenced_tweet_id:  ['None'] type:  <class 'list'>\n",
      "text:  #Wirecard-Chef Markus Braun pumpt irrwitzige Summen in sein Unternehmen. Woher stammt das Geld? @SchreiberDohms  https://t.co/VdsV4nvBe4 type:  <class 'str'>\n"
     ]
    }
   ],
   "source": [
    "print(\"conversation_id: \", df_manager_de.iloc[0][\"conversation_id\"], \"type: \", type(df_manager_de.iloc[0][\"conversation_id\"]))\n",
    "print(\"author_id: \", df_manager_de.iloc[0][\"author_id\"], \"type: \", type(df_manager_de.iloc[0][\"author_id\"]))\n",
    "print(\"created_at: \", df_manager_de.iloc[0][\"created_at\"], \"type: \", type(df_manager_de.iloc[0][\"created_at\"]))\n",
    "print(\"tweet_id: \", df_manager_de.iloc[0][\"tweet_id\"], \"type: \", type(df_manager_de.iloc[0][\"tweet_id\"]))\n",
    "print(\"lang: \", df_manager_de.iloc[0][\"lang\"], \"type: \", type(df_manager_de.iloc[0][\"lang\"]))\n",
    "print(\"retweet_count: \", df_manager_de.iloc[0][\"retweet_count\"], \"type: \", type(df_manager_de.iloc[0][\"retweet_count\"]))\n",
    "print(\"reply_count: \", df_manager_de.iloc[0][\"reply_count\"], \"type: \", type(df_manager_de.iloc[0][\"reply_count\"]))\n",
    "print(\"like_count: \", df_manager_de.iloc[0][\"like_count\"], \"type: \", type(df_manager_de.iloc[0][\"like_count\"]))\n",
    "print(\"quote_count: \", df_manager_de.iloc[0][\"quote_count\"], \"type: \", type(df_manager_de.iloc[0][\"quote_count\"]))\n",
    "print(\"source: \", df_manager_de.iloc[0][\"source\"], \"type: \", type(df_manager_de.iloc[0][\"source\"]))\n",
    "print(\"tweet_type: \", df_manager_de.iloc[0][\"tweet_type\"], \"type: \", type(df_manager_de.iloc[0][\"tweet_type\"]))\n",
    "print(\"referenced_tweet_id: \", df_manager_de.iloc[0][\"referenced_tweet_id\"], \"type: \", type(df_manager_de.iloc[0][\"referenced_tweet_id\"]))\n",
    "print(\"text: \", df_manager_de.iloc[0][\"text\"], \"type: \", type(df_manager_de.iloc[0][\"text\"]))"
   ]
  },
  {
   "cell_type": "markdown",
   "id": "5d5f94c7-ad5a-4fe2-98f0-ce3ab26e5dc7",
   "metadata": {},
   "source": [
    "<br>\n",
    "<h3>Nicht Kontextbezogene Tweets löschen</h3>\n",
    "<p>So kann ich prüfen ob bestimmte Begriffe in den Texten enthalten sind und mir die conversation_id ausgeben lassen. Diese lasse ich dann löschen und auch zugehörige Tweets, da diese nicht in den Kontext passen.</p>\n",
    "<p>Zu löschende Begriffe</p>\n",
    "<ul>\n",
    "    <li>BVB</li>\n",
    "    <li>Fußball</li>\n",
    "    <li>Fussball</li>\n",
    "    <li>Dortmund</li>\n",
    "</ul>"
   ]
  },
  {
   "cell_type": "code",
   "execution_count": 228,
   "id": "d627b796-c527-487d-ac75-ee8a063d7afa",
   "metadata": {},
   "outputs": [],
   "source": [
    "tweet_id_without_context_list = []\n",
    "for each in range(len(df_manager_de)):\n",
    "    if (\"BVB\" or \"Fußball\" or \"Fussball\" or \"Dortmund\") in df_manager_de.iloc[each][\"text\"]:\n",
    "        if df_manager_de.iloc[each][\"tweet_id\"] not in tweet_id_without_context_list:\n",
    "            tweet_id_without_context_list.append(df_manager_de.iloc[each][\"tweet_id\"])"
   ]
  },
  {
   "cell_type": "code",
   "execution_count": 229,
   "id": "6957ed56-d9ae-4101-955d-ace28cc44e86",
   "metadata": {
    "tags": []
   },
   "outputs": [],
   "source": [
    "def check_for_further_tweets():\n",
    "    start_len = len(tweet_id_without_context_list)\n",
    "    for each in range(len(tweet_id_without_context_list)):\n",
    "        df_tweets = df_manager_de.loc[(df_manager_de[\"conversation_id\"] == tweet_id_without_context_list[each]) | \n",
    "               (df_manager_de[\"referenced_tweet_id\"] == str(tweet_id_without_context_list[each]))]\n",
    "\n",
    "        for each in range(len(df_tweets)):\n",
    "            if df_tweets.iloc[each][\"tweet_id\"] not in tweet_id_without_context_list:\n",
    "                tweet_id_without_context_list.append(df_tweets.iloc[each][\"tweet_id\"])\n",
    "                \n",
    "    if start_len != len(tweet_id_without_context_list):\n",
    "        check_for_further_tweets()\n",
    "check_for_further_tweets()"
   ]
  },
  {
   "cell_type": "code",
   "execution_count": 230,
   "id": "4603d8a6-a11e-4514-ae60-6553fa2944e6",
   "metadata": {},
   "outputs": [
    {
     "name": "stdout",
     "output_type": "stream",
     "text": [
      "[722861750723284993, 722858374807822336, 739490907251220480, 798533984854544384, 798522085756678144, 798516440277995520, 926889966369689600, 984792434533191680, 984791666069590016, 1088115106519633920, 1260905841433198592, 1260900850077179905, 1260881271372288000, 1260880569224900610, 1278590734430547969, 1278581125951225858, 1278578905042034688, 1278569106493640704, 1278564053112295425, 1278443988769542151, 1278436721462513666, 1278435775441494016, 1278435182056542212, 1278434921594454019, 1278434819685441537, 1278434701418651650]\n"
     ]
    }
   ],
   "source": [
    "#print(tweet_id_without_context_list[13])\n",
    "#1260880569224900610\n",
    "print(tweet_id_without_context_list)"
   ]
  },
  {
   "cell_type": "code",
   "execution_count": 157,
   "id": "20a003f3-bb05-42c4-9d64-a168a0988812",
   "metadata": {},
   "outputs": [
    {
     "data": {
      "text/html": [
       "<div>\n",
       "<style scoped>\n",
       "    .dataframe tbody tr th:only-of-type {\n",
       "        vertical-align: middle;\n",
       "    }\n",
       "\n",
       "    .dataframe tbody tr th {\n",
       "        vertical-align: top;\n",
       "    }\n",
       "\n",
       "    .dataframe thead th {\n",
       "        text-align: right;\n",
       "    }\n",
       "</style>\n",
       "<table border=\"1\" class=\"dataframe\">\n",
       "  <thead>\n",
       "    <tr style=\"text-align: right;\">\n",
       "      <th></th>\n",
       "      <th>conversation_id</th>\n",
       "      <th>author_id</th>\n",
       "      <th>created_at</th>\n",
       "      <th>tweet_id</th>\n",
       "      <th>lang</th>\n",
       "      <th>retweet_count</th>\n",
       "      <th>reply_count</th>\n",
       "      <th>like_count</th>\n",
       "      <th>quote_count</th>\n",
       "      <th>source</th>\n",
       "      <th>tweet_type</th>\n",
       "      <th>referenced_tweet_id</th>\n",
       "      <th>text</th>\n",
       "    </tr>\n",
       "  </thead>\n",
       "  <tbody>\n",
       "    <tr>\n",
       "      <th>3678</th>\n",
       "      <td>1260880569224900610</td>\n",
       "      <td>2381887483</td>\n",
       "      <td>2020-05-14 10:32:08+00:00</td>\n",
       "      <td>1260880569224900610</td>\n",
       "      <td>de</td>\n",
       "      <td>3</td>\n",
       "      <td>0</td>\n",
       "      <td>46</td>\n",
       "      <td>0</td>\n",
       "      <td>TweetDeck</td>\n",
       "      <td>[None]</td>\n",
       "      <td>[None]</td>\n",
       "      <td>🗯 #Zorc: \"Wir sind seit Wochen in enger Abstim...</td>\n",
       "    </tr>\n",
       "  </tbody>\n",
       "</table>\n",
       "</div>"
      ],
      "text/plain": [
       "          conversation_id   author_id                created_at  \\\n",
       "3678  1260880569224900610  2381887483 2020-05-14 10:32:08+00:00   \n",
       "\n",
       "                 tweet_id lang  retweet_count  reply_count  like_count  \\\n",
       "3678  1260880569224900610   de              3            0          46   \n",
       "\n",
       "      quote_count     source tweet_type referenced_tweet_id  \\\n",
       "3678            0  TweetDeck     [None]              [None]   \n",
       "\n",
       "                                                   text  \n",
       "3678  🗯 #Zorc: \"Wir sind seit Wochen in enger Abstim...  "
      ]
     },
     "execution_count": 157,
     "metadata": {},
     "output_type": "execute_result"
    }
   ],
   "source": [
    "df_manager_de.loc[(df_manager_de[\"conversation_id\"] == tweet_id_without_context_list[13]) |\n",
    "                  (df_manager_de[\"referenced_tweet_id\"] == str(tweet_id_without_context_list[13]))]"
   ]
  },
  {
   "cell_type": "code",
   "execution_count": 164,
   "id": "8323e1c6-b44d-4130-a976-7971a11e2d30",
   "metadata": {},
   "outputs": [
    {
     "name": "stdout",
     "output_type": "stream",
     "text": [
      "<class 'pandas.core.series.Series'>\n"
     ]
    }
   ],
   "source": [
    "print(type(df_manager_de.loc[df_manager_de[\"tweet_id\"] == 1260881271372288000][\"referenced_tweet_id\"]))"
   ]
  },
  {
   "cell_type": "code",
   "execution_count": 173,
   "id": "48335866-7de3-4359-897f-cd18e77b3c2d",
   "metadata": {},
   "outputs": [
    {
     "data": {
      "text/plain": [
       "pandas.core.series.Series"
      ]
     },
     "execution_count": 173,
     "metadata": {},
     "output_type": "execute_result"
    }
   ],
   "source": [
    "df.loc[df[\"tweet_id\"] == 1260881271372288000][\"referenced_tweet_id\"]"
   ]
  },
  {
   "cell_type": "code",
   "execution_count": null,
   "id": "f1e61d3a-2568-4975-be68-7e0b1c5820d7",
   "metadata": {},
   "outputs": [],
   "source": []
  },
  {
   "cell_type": "code",
   "execution_count": 214,
   "id": "28c7a165-baa5-4788-986f-3ad53ae0b13b",
   "metadata": {},
   "outputs": [
    {
     "name": "stdout",
     "output_type": "stream",
     "text": [
      "26\n"
     ]
    }
   ],
   "source": [
    "print(len(tweet_id_without_context_list))"
   ]
  },
  {
   "cell_type": "code",
   "execution_count": 211,
   "id": "4aec05a8-e117-4677-87cc-f34df50b6143",
   "metadata": {},
   "outputs": [
    {
     "data": {
      "text/plain": [
       "14342    1278581125951225858\n",
       "Name: tweet_id, dtype: int64"
      ]
     },
     "execution_count": 211,
     "metadata": {},
     "output_type": "execute_result"
    }
   ],
   "source": [
    "df.loc[(df[\"conversation_id\"] == tweet_id_without_context_list[13]) | \n",
    "       (df[\"referenced_tweet_id\"] == str(tweet_id_without_context_list[13]))][\"tweet_id\"]"
   ]
  },
  {
   "cell_type": "code",
   "execution_count": 212,
   "id": "47aa39e5-7bf6-4d3b-8d22-9d63de9b80d8",
   "metadata": {},
   "outputs": [
    {
     "name": "stdout",
     "output_type": "stream",
     "text": [
      "1260905841433198592\n"
     ]
    }
   ],
   "source": [
    "if 1260905841433198592 in tweet_id_without_context_list:\n",
    "    print(\"1260905841433198592\")"
   ]
  },
  {
   "cell_type": "code",
   "execution_count": 216,
   "id": "c18084ac-38de-491b-9744-486a6cce6a48",
   "metadata": {},
   "outputs": [],
   "source": [
    "tweet_id_without_context_list.remove(1260881271372288000)"
   ]
  },
  {
   "cell_type": "code",
   "execution_count": 224,
   "id": "4e3c505d-4f7c-4dfd-8b22-3b20e4587874",
   "metadata": {},
   "outputs": [
    {
     "name": "stdout",
     "output_type": "stream",
     "text": [
      "722861750723284993\n",
      "722858374807822336\n",
      "739490907251220480\n",
      "798533984854544384\n",
      "798522085756678144\n",
      "798516440277995520\n",
      "926889966369689600\n",
      "984792434533191680\n",
      "984791666069590016\n",
      "1088115106519633920\n",
      "1260900850077179905\n",
      "1260880569224900610\n",
      "1278590734430547969\n",
      "1278581125951225858\n",
      "1278578905042034688\n",
      "1278569106493640704\n",
      "1278564053112295425\n",
      "1278443988769542151\n",
      "1278436721462513666\n",
      "1278435775441494016\n",
      "1278435182056542212\n",
      "1278434921594454019\n",
      "1278434819685441537\n",
      "1278434701418651650\n",
      "1260905841433198592\n",
      "1260881271372288000\n"
     ]
    }
   ],
   "source": [
    "for each in tweet_id_without_context_list:\n",
    "    print(each) "
   ]
  },
  {
   "cell_type": "code",
   "execution_count": 223,
   "id": "5db225e6-9fef-4f17-9bbf-0ca421cffc9b",
   "metadata": {},
   "outputs": [
    {
     "name": "stdout",
     "output_type": "stream",
     "text": [
      "26\n"
     ]
    }
   ],
   "source": [
    "print(len(tweet_id_without_context_list))"
   ]
  },
  {
   "cell_type": "code",
   "execution_count": null,
   "id": "6498822b-fec1-43d2-9775-19df05eabefa",
   "metadata": {},
   "outputs": [],
   "source": []
  },
  {
   "cell_type": "code",
   "execution_count": null,
   "id": "83bbd3d3-1f04-474c-9253-1a9a7f26fc5d",
   "metadata": {},
   "outputs": [],
   "source": []
  },
  {
   "cell_type": "code",
   "execution_count": null,
   "id": "1a07ea5b-bacb-4c47-8cc6-e29d1b4ce178",
   "metadata": {},
   "outputs": [],
   "source": []
  },
  {
   "cell_type": "code",
   "execution_count": null,
   "id": "9ecbdaba-8794-4135-9d5b-f38097367c0e",
   "metadata": {},
   "outputs": [],
   "source": []
  },
  {
   "cell_type": "code",
   "execution_count": 59,
   "id": "17a1b23c-3959-48e6-81c8-37a902cebd0c",
   "metadata": {},
   "outputs": [
    {
     "data": {
      "text/plain": [
       "15                     [None]\n",
       "21       [739490204180992000]\n",
       "26                     [None]\n",
       "27                     [None]\n",
       "52       [926889717286752256]\n",
       "84                     [None]\n",
       "85       [984779935964377091]\n",
       "362                    [None]\n",
       "3678                   [None]\n",
       "14213                  [None]\n",
       "Name: referenced_tweet_id, dtype: object"
      ]
     },
     "execution_count": 59,
     "metadata": {},
     "output_type": "execute_result"
    }
   ],
   "source": [
    "df_manager_de.iloc[ids_without_context_list][\"referenced_tweet_id\"]"
   ]
  },
  {
   "cell_type": "code",
   "execution_count": 67,
   "id": "b79c4ae5-f8a8-4f93-9fa2-8ee00b109c68",
   "metadata": {},
   "outputs": [
    {
     "name": "stdout",
     "output_type": "stream",
     "text": [
      "8441\n"
     ]
    }
   ],
   "source": [
    "print(len(df_manager_de[\"tweet_id\"].unique()))"
   ]
  },
  {
   "cell_type": "code",
   "execution_count": 63,
   "id": "518aabb3-4468-4517-92a4-4fd3a378fdc3",
   "metadata": {},
   "outputs": [
    {
     "name": "stdout",
     "output_type": "stream",
     "text": [
      "8441\n"
     ]
    }
   ],
   "source": [
    "print(len(df_manager_de))"
   ]
  },
  {
   "cell_type": "markdown",
   "id": "ad363973-9aa2-4fbd-971f-e64be6d42827",
   "metadata": {},
   "source": [
    "<br>\n",
    "<h4>Check</h4>\n",
    "<p>Aufrufen einer Line um zu prüfen, welche Informationen enthalten sind.<br>\n",
    "    Den Index abrufen um mir nur den Text in voller Länge anzeigen zu lassen, da dieser sonst gekürzt ist.</p>\n",
    "   "
   ]
  },
  {
   "cell_type": "code",
   "execution_count": 69,
   "id": "dc1821ec-dca9-4bb5-aff1-5e8cf8c939ae",
   "metadata": {},
   "outputs": [
    {
     "data": {
      "text/html": [
       "<div>\n",
       "<style scoped>\n",
       "    .dataframe tbody tr th:only-of-type {\n",
       "        vertical-align: middle;\n",
       "    }\n",
       "\n",
       "    .dataframe tbody tr th {\n",
       "        vertical-align: top;\n",
       "    }\n",
       "\n",
       "    .dataframe thead th {\n",
       "        text-align: right;\n",
       "    }\n",
       "</style>\n",
       "<table border=\"1\" class=\"dataframe\">\n",
       "  <thead>\n",
       "    <tr style=\"text-align: right;\">\n",
       "      <th></th>\n",
       "      <th>conversation_id</th>\n",
       "      <th>author_id</th>\n",
       "      <th>created_at</th>\n",
       "      <th>tweet_id</th>\n",
       "      <th>lang</th>\n",
       "      <th>retweet_count</th>\n",
       "      <th>reply_count</th>\n",
       "      <th>like_count</th>\n",
       "      <th>quote_count</th>\n",
       "      <th>source</th>\n",
       "      <th>tweet_type</th>\n",
       "      <th>referenced_tweet_id</th>\n",
       "      <th>text</th>\n",
       "    </tr>\n",
       "  </thead>\n",
       "  <tbody>\n",
       "  </tbody>\n",
       "</table>\n",
       "</div>"
      ],
      "text/plain": [
       "Empty DataFrame\n",
       "Columns: [conversation_id, author_id, created_at, tweet_id, lang, retweet_count, reply_count, like_count, quote_count, source, tweet_type, referenced_tweet_id, text]\n",
       "Index: []"
      ]
     },
     "execution_count": 69,
     "metadata": {},
     "output_type": "execute_result"
    }
   ],
   "source": [
    "df_manager_de.loc[df_manager_de[\"conversation_id\"] == 1098841597582737409]"
   ]
  },
  {
   "cell_type": "code",
   "execution_count": 49,
   "id": "25dbaf89-63a2-4055-960d-52e9bf2abd01",
   "metadata": {},
   "outputs": [
    {
     "data": {
      "text/plain": [
       "'RT @RNBVB: 👨🏻\\u200d⚕️ Dr. Markus #Braun ist vom Nachrichtenmagazin #Focus als \"Top-Mediziner\" in Deutschland ausgezeichnet worden. Zuletzt arbei…'"
      ]
     },
     "execution_count": 49,
     "metadata": {},
     "output_type": "execute_result"
    }
   ],
   "source": [
    "df_manager_de.loc[df_manager_de.index[df_manager_de[\"conversation_id\"] == 1278435775441494016].tolist()[0]][\"text\"]"
   ]
  },
  {
   "cell_type": "code",
   "execution_count": 48,
   "id": "e5ce61ee-8465-4f31-b132-ab852e0003ee",
   "metadata": {},
   "outputs": [
    {
     "name": "stdout",
     "output_type": "stream",
     "text": [
      "14209\n"
     ]
    }
   ],
   "source": [
    "print(df_manager_de.index[df_manager_de[\"conversation_id\"] == 1278435775441494016].tolist()[0])"
   ]
  },
  {
   "cell_type": "code",
   "execution_count": 36,
   "id": "4d339341-d3b1-4b3f-96fc-fc079d5a349e",
   "metadata": {},
   "outputs": [
    {
     "data": {
      "text/plain": [
       "'RT @RNBVB: 👨🏻\\u200d⚕️ Dr. Markus #Braun ist vom Nachrichtenmagazin #Focus als \"Top-Mediziner\" in Deutschland ausgezeichnet worden. Zuletzt arbei…'"
      ]
     },
     "execution_count": 36,
     "metadata": {},
     "output_type": "execute_result"
    }
   ],
   "source": [
    "df_manager_de.loc[14209][\"text\"]"
   ]
  },
  {
   "cell_type": "markdown",
   "id": "d33fa8c2-c3a8-4377-bec3-336dfb42db39",
   "metadata": {},
   "source": [
    "<br>\n",
    "<h3>Löschen von Retweets</h3>\n",
    "<p>Alle Retweets löschen, da diese in diesem Schritt nicht benötigt werden.</p>"
   ]
  },
  {
   "cell_type": "code",
   "execution_count": 53,
   "id": "836f0973-fbfb-4f5b-8fe6-0304b82d66ac",
   "metadata": {},
   "outputs": [
    {
     "data": {
      "text/plain": [
       "conversation_id                                       700597812556386304\n",
       "author_id                                                     4858383167\n",
       "created_at                                     2016-02-19 08:28:29+00:00\n",
       "tweet_id                                              700597812556386304\n",
       "lang                                                                  de\n",
       "retweet_count                                                          2\n",
       "reply_count                                                            0\n",
       "like_count                                                             0\n",
       "quote_count                                                            0\n",
       "source                                                Twitter for iPhone\n",
       "tweet_type                                                   [retweeted]\n",
       "referenced_tweet_id                                 [700578193334411264]\n",
       "text                   RT @aktionaer: #Wirecard: Was führt der Vorsta...\n",
       "Name: 4, dtype: object"
      ]
     },
     "execution_count": 53,
     "metadata": {},
     "output_type": "execute_result"
    }
   ],
   "source": [
    "df_manager_de.iloc[4]"
   ]
  },
  {
   "cell_type": "code",
   "execution_count": 42,
   "id": "80f62e59-e2bb-485a-a2c1-6a4df6a68f66",
   "metadata": {},
   "outputs": [
    {
     "name": "stdout",
     "output_type": "stream",
     "text": [
      "5455\n"
     ]
    }
   ],
   "source": [
    "counter = 0\n",
    "retweet_list = []\n",
    "for each in range(len(df_manager_de)):\n",
    "    if \"retweeted\" in df_manager_de.iloc[each][\"tweet_type\"]:\n",
    "        retweet_list.append(each)\n",
    "        counter += 1\n",
    "print(counter)"
   ]
  },
  {
   "cell_type": "code",
   "execution_count": 43,
   "id": "d5b331e1-be63-4506-a5c0-ef67f8f3dffb",
   "metadata": {},
   "outputs": [],
   "source": [
    "df_manager_de = df_manager_de.drop(retweet_list)"
   ]
  },
  {
   "cell_type": "markdown",
   "id": "afc009d8-9b2e-491f-8e13-b4e8b7658a44",
   "metadata": {},
   "source": [
    "<h3>Löschen von unnötigen Informationen</h3>\n",
    "<p>Hier werden Informationen aus den Tweets Texten, die nicht weiter benötigt werden. Bspw. Links</p>"
   ]
  },
  {
   "cell_type": "code",
   "execution_count": 12,
   "id": "c056941f-0dc4-4be5-adcd-066a3be61d24",
   "metadata": {},
   "outputs": [
    {
     "name": "stdout",
     "output_type": "stream",
     "text": [
      "@boersenradio Wo kann man alte BRN-Beiträge hören? Wirecard ohne Markus Braun:  Dann kamen Braun, KPMG - und die Inso\n"
     ]
    }
   ],
   "source": [
    "print(re.sub(r'http\\S+', '', df_manager_de.iloc[23][\"text\"])) "
   ]
  },
  {
   "cell_type": "code",
   "execution_count": 44,
   "id": "702fa710-bcb1-4168-85e9-b489f914bf8f",
   "metadata": {},
   "outputs": [
    {
     "data": {
      "text/plain": [
       "'Hightech aus Aschheim @wirecard über die Zukunft des Geldausgebens. Interview (rar) mit CEO Markus Braun  via @faznet'"
      ]
     },
     "execution_count": 44,
     "metadata": {},
     "output_type": "execute_result"
    }
   ],
   "source": [
    "df_manager_de.iloc[23][\"text\"]"
   ]
  },
  {
   "cell_type": "code",
   "execution_count": 30,
   "id": "86e7ed3f-d0f4-46bc-a651-d575074bfbd6",
   "metadata": {},
   "outputs": [],
   "source": [
    "for each in range(len(df_manager_de)):\n",
    "    df_manager_de.loc[df_manager_de[\"text\"] == df_manager_de.loc[each][\"text\"], \"text\"] = re.sub(r'http\\S+', '', df_manager_de.loc[each][\"text\"])"
   ]
  },
  {
   "cell_type": "code",
   "execution_count": 38,
   "id": "d10b6dc0-2daa-4f66-9cd0-21af661b234f",
   "metadata": {},
   "outputs": [
    {
     "name": "stdout",
     "output_type": "stream",
     "text": [
      "@_MarkusBraun @wirecard @ElisabethTNT @ebmuc ... kaufen !! \n"
     ]
    }
   ],
   "source": [
    "print(df_manager_de.iloc[2960][\"text\"])"
   ]
  },
  {
   "cell_type": "markdown",
   "id": "6b52d25c-5bd4-4729-8137-ed4a20402cca",
   "metadata": {},
   "source": [
    "<h4>Dupplikate löschen</h4>\n",
    "<p>Löschen von Tweets, die doppelt sind</p>"
   ]
  },
  {
   "cell_type": "code",
   "execution_count": 47,
   "id": "018c9df3-95dd-4acf-a297-eb34bedf1991",
   "metadata": {},
   "outputs": [],
   "source": [
    "df_manager_de = df_manager_de.drop_duplicates(subset=[\"text\"])"
   ]
  },
  {
   "cell_type": "code",
   "execution_count": null,
   "id": "9b7df425-c5b7-46b6-acee-47fcfce8fef1",
   "metadata": {},
   "outputs": [],
   "source": []
  },
  {
   "cell_type": "code",
   "execution_count": null,
   "id": "08b8299d-8200-474c-b09e-9813ca5a0879",
   "metadata": {},
   "outputs": [],
   "source": []
  },
  {
   "cell_type": "code",
   "execution_count": 24,
   "id": "bab9a491-ced7-4af4-93b9-942e16326702",
   "metadata": {},
   "outputs": [
    {
     "name": "stdout",
     "output_type": "stream",
     "text": [
      "<class 'list'>\n"
     ]
    }
   ],
   "source": [
    "print(type(df_manager_de.iloc[0][\"referenced_tweet_id\"]))"
   ]
  },
  {
   "cell_type": "code",
   "execution_count": 106,
   "id": "45ce0f2d-b7c8-45a6-aa19-603e34298036",
   "metadata": {},
   "outputs": [
    {
     "data": {
      "text/plain": [
       "1273974132531658754    640\n",
       "1262113400005496833    291\n",
       "1272939263919902720    167\n",
       "1259019014203940864    118\n",
       "1252152320697212928    116\n",
       "1203006162578427904     92\n",
       "1103965745619308544     91\n",
       "1273936438195871746     68\n",
       "1268803145062367232     58\n",
       "1108985591214075904     54\n",
       "1228257269567119361     53\n",
       "1266024154492481536     50\n",
       "1208773153532653568     40\n",
       "1268071138451697669     33\n",
       "1275162539882680320     33\n",
       "1106251712732508160     32\n",
       "1124324194521624576     30\n",
       "1270346455799205896     29\n",
       "1111623047121915907     29\n",
       "1095237446739075072     27\n",
       "Name: conversation_id, dtype: int64"
      ]
     },
     "execution_count": 106,
     "metadata": {},
     "output_type": "execute_result"
    }
   ],
   "source": [
    "df[\"conversation_id\"].value_counts().head(20)"
   ]
  },
  {
   "cell_type": "code",
   "execution_count": 114,
   "id": "f911cd17-f491-4f44-bb8f-e17bf5033ec3",
   "metadata": {},
   "outputs": [
    {
     "data": {
      "text/html": [
       "<div>\n",
       "<style scoped>\n",
       "    .dataframe tbody tr th:only-of-type {\n",
       "        vertical-align: middle;\n",
       "    }\n",
       "\n",
       "    .dataframe tbody tr th {\n",
       "        vertical-align: top;\n",
       "    }\n",
       "\n",
       "    .dataframe thead th {\n",
       "        text-align: right;\n",
       "    }\n",
       "</style>\n",
       "<table border=\"1\" class=\"dataframe\">\n",
       "  <thead>\n",
       "    <tr style=\"text-align: right;\">\n",
       "      <th></th>\n",
       "      <th>conversation_id</th>\n",
       "      <th>author_id</th>\n",
       "      <th>created_at</th>\n",
       "      <th>tweet_id</th>\n",
       "      <th>lang</th>\n",
       "      <th>retweet_count</th>\n",
       "      <th>reply_count</th>\n",
       "      <th>like_count</th>\n",
       "      <th>quote_count</th>\n",
       "      <th>source</th>\n",
       "      <th>tweet_type</th>\n",
       "      <th>referenced_tweet_id</th>\n",
       "      <th>text</th>\n",
       "    </tr>\n",
       "  </thead>\n",
       "  <tbody>\n",
       "    <tr>\n",
       "      <th>8865</th>\n",
       "      <td>1270346455799205896</td>\n",
       "      <td>1262472528783708160</td>\n",
       "      <td>2020-06-09 13:26:11+00:00</td>\n",
       "      <td>1270346455799205896</td>\n",
       "      <td>de</td>\n",
       "      <td>2</td>\n",
       "      <td>1</td>\n",
       "      <td>1</td>\n",
       "      <td>0</td>\n",
       "      <td>Twitter Web App</td>\n",
       "      <td>None</td>\n",
       "      <td>None</td>\n",
       "      <td>Das bringt das Fass zum Überlaufen! Insiderwis...</td>\n",
       "    </tr>\n",
       "  </tbody>\n",
       "</table>\n",
       "</div>"
      ],
      "text/plain": [
       "          conversation_id            author_id                created_at  \\\n",
       "8865  1270346455799205896  1262472528783708160 2020-06-09 13:26:11+00:00   \n",
       "\n",
       "                 tweet_id lang  retweet_count  reply_count  like_count  \\\n",
       "8865  1270346455799205896   de              2            1           1   \n",
       "\n",
       "      quote_count           source tweet_type referenced_tweet_id  \\\n",
       "8865            0  Twitter Web App       None                None   \n",
       "\n",
       "                                                   text  \n",
       "8865  Das bringt das Fass zum Überlaufen! Insiderwis...  "
      ]
     },
     "execution_count": 114,
     "metadata": {},
     "output_type": "execute_result"
    }
   ],
   "source": [
    "df.loc[df[\"tweet_id\"] == 1270346455799205896]"
   ]
  },
  {
   "cell_type": "code",
   "execution_count": 115,
   "id": "5cabcb91-899f-4171-97db-72c667fd0fe5",
   "metadata": {
    "collapsed": true,
    "jupyter": {
     "outputs_hidden": true
    },
    "tags": []
   },
   "outputs": [
    {
     "data": {
      "text/html": [
       "<div>\n",
       "<style scoped>\n",
       "    .dataframe tbody tr th:only-of-type {\n",
       "        vertical-align: middle;\n",
       "    }\n",
       "\n",
       "    .dataframe tbody tr th {\n",
       "        vertical-align: top;\n",
       "    }\n",
       "\n",
       "    .dataframe thead th {\n",
       "        text-align: right;\n",
       "    }\n",
       "</style>\n",
       "<table border=\"1\" class=\"dataframe\">\n",
       "  <thead>\n",
       "    <tr style=\"text-align: right;\">\n",
       "      <th></th>\n",
       "      <th>conversation_id</th>\n",
       "      <th>author_id</th>\n",
       "      <th>created_at</th>\n",
       "      <th>tweet_id</th>\n",
       "      <th>lang</th>\n",
       "      <th>retweet_count</th>\n",
       "      <th>reply_count</th>\n",
       "      <th>like_count</th>\n",
       "      <th>quote_count</th>\n",
       "      <th>source</th>\n",
       "      <th>tweet_type</th>\n",
       "      <th>referenced_tweet_id</th>\n",
       "      <th>text</th>\n",
       "    </tr>\n",
       "  </thead>\n",
       "  <tbody>\n",
       "    <tr>\n",
       "      <th>8811</th>\n",
       "      <td>1270346455799205896</td>\n",
       "      <td>66712532</td>\n",
       "      <td>2020-06-10 09:19:29+00:00</td>\n",
       "      <td>1270646760227078150</td>\n",
       "      <td>de</td>\n",
       "      <td>0</td>\n",
       "      <td>0</td>\n",
       "      <td>1</td>\n",
       "      <td>0</td>\n",
       "      <td>Twitter for Android</td>\n",
       "      <td>replied_to</td>\n",
       "      <td>1270640016499318785</td>\n",
       "      <td>@Rumpel @fnordshow @csFraudAnalysis @Steinfire...</td>\n",
       "    </tr>\n",
       "    <tr>\n",
       "      <th>8813</th>\n",
       "      <td>1270346455799205896</td>\n",
       "      <td>23917047</td>\n",
       "      <td>2020-06-10 08:52:41+00:00</td>\n",
       "      <td>1270640016499318785</td>\n",
       "      <td>de</td>\n",
       "      <td>0</td>\n",
       "      <td>1</td>\n",
       "      <td>2</td>\n",
       "      <td>0</td>\n",
       "      <td>Twitter Web App</td>\n",
       "      <td>replied_to</td>\n",
       "      <td>1270434977218547712</td>\n",
       "      <td>@fnordshow @csFraudAnalysis @Steinfireflint @m...</td>\n",
       "    </tr>\n",
       "    <tr>\n",
       "      <th>8823</th>\n",
       "      <td>1270346455799205896</td>\n",
       "      <td>1262472528783708160</td>\n",
       "      <td>2020-06-09 19:35:33+00:00</td>\n",
       "      <td>1270439407934455810</td>\n",
       "      <td>de</td>\n",
       "      <td>0</td>\n",
       "      <td>1</td>\n",
       "      <td>0</td>\n",
       "      <td>0</td>\n",
       "      <td>Twitter Web App</td>\n",
       "      <td>replied_to</td>\n",
       "      <td>1270438925446926338</td>\n",
       "      <td>@fnordshow @csFraudAnalysis @Steinfireflint @R...</td>\n",
       "    </tr>\n",
       "    <tr>\n",
       "      <th>8824</th>\n",
       "      <td>1270346455799205896</td>\n",
       "      <td>2834393266</td>\n",
       "      <td>2020-06-09 19:33:38+00:00</td>\n",
       "      <td>1270438925446926338</td>\n",
       "      <td>de</td>\n",
       "      <td>0</td>\n",
       "      <td>1</td>\n",
       "      <td>0</td>\n",
       "      <td>0</td>\n",
       "      <td>Twitter for Android</td>\n",
       "      <td>replied_to</td>\n",
       "      <td>1270435924921507840</td>\n",
       "      <td>@csFraudAnalysis @Steinfireflint @Rumpel @mcam...</td>\n",
       "    </tr>\n",
       "    <tr>\n",
       "      <th>8825</th>\n",
       "      <td>1270346455799205896</td>\n",
       "      <td>704753138146877440</td>\n",
       "      <td>2020-06-09 19:33:26+00:00</td>\n",
       "      <td>1270438876700643329</td>\n",
       "      <td>de</td>\n",
       "      <td>0</td>\n",
       "      <td>0</td>\n",
       "      <td>0</td>\n",
       "      <td>0</td>\n",
       "      <td>Twitter Web App</td>\n",
       "      <td>replied_to</td>\n",
       "      <td>1270434068862246918</td>\n",
       "      <td>@checkitoutFRG @fnordshow @Steinfireflint @Rum...</td>\n",
       "    </tr>\n",
       "    <tr>\n",
       "      <th>8826</th>\n",
       "      <td>1270346455799205896</td>\n",
       "      <td>704753138146877440</td>\n",
       "      <td>2020-06-09 19:21:42+00:00</td>\n",
       "      <td>1270435924921507840</td>\n",
       "      <td>de</td>\n",
       "      <td>0</td>\n",
       "      <td>1</td>\n",
       "      <td>0</td>\n",
       "      <td>0</td>\n",
       "      <td>Twitter Web App</td>\n",
       "      <td>replied_to</td>\n",
       "      <td>1270434398249385984</td>\n",
       "      <td>@fnordshow @Steinfireflint @Rumpel @mcamathema...</td>\n",
       "    </tr>\n",
       "    <tr>\n",
       "      <th>8827</th>\n",
       "      <td>1270346455799205896</td>\n",
       "      <td>2834393266</td>\n",
       "      <td>2020-06-09 19:17:56+00:00</td>\n",
       "      <td>1270434977218547712</td>\n",
       "      <td>de</td>\n",
       "      <td>0</td>\n",
       "      <td>1</td>\n",
       "      <td>1</td>\n",
       "      <td>0</td>\n",
       "      <td>Twitter Web App</td>\n",
       "      <td>replied_to</td>\n",
       "      <td>1270434398249385984</td>\n",
       "      <td>@csFraudAnalysis @Steinfireflint @Rumpel @mcam...</td>\n",
       "    </tr>\n",
       "    <tr>\n",
       "      <th>8828</th>\n",
       "      <td>1270346455799205896</td>\n",
       "      <td>2834393266</td>\n",
       "      <td>2020-06-09 19:15:38+00:00</td>\n",
       "      <td>1270434398249385984</td>\n",
       "      <td>de</td>\n",
       "      <td>0</td>\n",
       "      <td>2</td>\n",
       "      <td>0</td>\n",
       "      <td>0</td>\n",
       "      <td>Twitter Web App</td>\n",
       "      <td>replied_to</td>\n",
       "      <td>1270433468531515396</td>\n",
       "      <td>@csFraudAnalysis @Steinfireflint @Rumpel @mcam...</td>\n",
       "    </tr>\n",
       "    <tr>\n",
       "      <th>8829</th>\n",
       "      <td>1270346455799205896</td>\n",
       "      <td>704753138146877440</td>\n",
       "      <td>2020-06-09 19:11:57+00:00</td>\n",
       "      <td>1270433468531515396</td>\n",
       "      <td>de</td>\n",
       "      <td>0</td>\n",
       "      <td>1</td>\n",
       "      <td>0</td>\n",
       "      <td>0</td>\n",
       "      <td>Twitter Web App</td>\n",
       "      <td>replied_to</td>\n",
       "      <td>1270430177600864256</td>\n",
       "      <td>@fnordshow @Steinfireflint @Rumpel @mcamathema...</td>\n",
       "    </tr>\n",
       "    <tr>\n",
       "      <th>8830</th>\n",
       "      <td>1270346455799205896</td>\n",
       "      <td>704753138146877440</td>\n",
       "      <td>2020-06-09 19:07:22+00:00</td>\n",
       "      <td>1270432318080126979</td>\n",
       "      <td>de</td>\n",
       "      <td>0</td>\n",
       "      <td>0</td>\n",
       "      <td>1</td>\n",
       "      <td>0</td>\n",
       "      <td>Twitter Web App</td>\n",
       "      <td>replied_to</td>\n",
       "      <td>1270431027140407302</td>\n",
       "      <td>@fnordshow @Steinfireflint @Rumpel @mcamathema...</td>\n",
       "    </tr>\n",
       "    <tr>\n",
       "      <th>8831</th>\n",
       "      <td>1270346455799205896</td>\n",
       "      <td>2834393266</td>\n",
       "      <td>2020-06-09 19:05:58+00:00</td>\n",
       "      <td>1270431963875246081</td>\n",
       "      <td>de</td>\n",
       "      <td>0</td>\n",
       "      <td>0</td>\n",
       "      <td>1</td>\n",
       "      <td>0</td>\n",
       "      <td>Twitter Web App</td>\n",
       "      <td>replied_to</td>\n",
       "      <td>1270431272989532160</td>\n",
       "      <td>@checkitoutFRG @csFraudAnalysis @Steinfireflin...</td>\n",
       "    </tr>\n",
       "    <tr>\n",
       "      <th>8832</th>\n",
       "      <td>1270346455799205896</td>\n",
       "      <td>2834393266</td>\n",
       "      <td>2020-06-09 19:02:14+00:00</td>\n",
       "      <td>1270431027140407302</td>\n",
       "      <td>de</td>\n",
       "      <td>0</td>\n",
       "      <td>1</td>\n",
       "      <td>1</td>\n",
       "      <td>0</td>\n",
       "      <td>Twitter Web App</td>\n",
       "      <td>replied_to</td>\n",
       "      <td>1270430213663535106</td>\n",
       "      <td>@csFraudAnalysis @Steinfireflint @Rumpel @mcam...</td>\n",
       "    </tr>\n",
       "    <tr>\n",
       "      <th>8833</th>\n",
       "      <td>1270346455799205896</td>\n",
       "      <td>704753138146877440</td>\n",
       "      <td>2020-06-09 19:01:23+00:00</td>\n",
       "      <td>1270430811725139973</td>\n",
       "      <td>de</td>\n",
       "      <td>0</td>\n",
       "      <td>0</td>\n",
       "      <td>1</td>\n",
       "      <td>0</td>\n",
       "      <td>Twitter Web App</td>\n",
       "      <td>replied_to</td>\n",
       "      <td>1270429790470881282</td>\n",
       "      <td>@fnordshow @Steinfireflint @Rumpel @mcamathema...</td>\n",
       "    </tr>\n",
       "    <tr>\n",
       "      <th>8834</th>\n",
       "      <td>1270346455799205896</td>\n",
       "      <td>2834393266</td>\n",
       "      <td>2020-06-09 19:00:15+00:00</td>\n",
       "      <td>1270430523878498310</td>\n",
       "      <td>de</td>\n",
       "      <td>0</td>\n",
       "      <td>0</td>\n",
       "      <td>1</td>\n",
       "      <td>0</td>\n",
       "      <td>Twitter Web App</td>\n",
       "      <td>replied_to</td>\n",
       "      <td>1270425913524719618</td>\n",
       "      <td>@checkitoutFRG @Steinfireflint @Rumpel @mcamat...</td>\n",
       "    </tr>\n",
       "    <tr>\n",
       "      <th>8835</th>\n",
       "      <td>1270346455799205896</td>\n",
       "      <td>704753138146877440</td>\n",
       "      <td>2020-06-09 18:59:01+00:00</td>\n",
       "      <td>1270430213663535106</td>\n",
       "      <td>de</td>\n",
       "      <td>0</td>\n",
       "      <td>1</td>\n",
       "      <td>0</td>\n",
       "      <td>0</td>\n",
       "      <td>Twitter Web App</td>\n",
       "      <td>replied_to</td>\n",
       "      <td>1270429790470881282</td>\n",
       "      <td>@fnordshow @Steinfireflint @Rumpel @mcamathema...</td>\n",
       "    </tr>\n",
       "    <tr>\n",
       "      <th>8836</th>\n",
       "      <td>1270346455799205896</td>\n",
       "      <td>2834393266</td>\n",
       "      <td>2020-06-09 18:58:52+00:00</td>\n",
       "      <td>1270430177600864256</td>\n",
       "      <td>de</td>\n",
       "      <td>0</td>\n",
       "      <td>1</td>\n",
       "      <td>2</td>\n",
       "      <td>0</td>\n",
       "      <td>Twitter Web App</td>\n",
       "      <td>replied_to</td>\n",
       "      <td>1270425495377756161</td>\n",
       "      <td>@csFraudAnalysis @Steinfireflint @Rumpel @mcam...</td>\n",
       "    </tr>\n",
       "    <tr>\n",
       "      <th>8837</th>\n",
       "      <td>1270346455799205896</td>\n",
       "      <td>2834393266</td>\n",
       "      <td>2020-06-09 18:57:20+00:00</td>\n",
       "      <td>1270429790470881282</td>\n",
       "      <td>de</td>\n",
       "      <td>0</td>\n",
       "      <td>2</td>\n",
       "      <td>0</td>\n",
       "      <td>0</td>\n",
       "      <td>Twitter Web App</td>\n",
       "      <td>replied_to</td>\n",
       "      <td>1270428361064677379</td>\n",
       "      <td>@csFraudAnalysis @Steinfireflint @Rumpel @mcam...</td>\n",
       "    </tr>\n",
       "    <tr>\n",
       "      <th>8838</th>\n",
       "      <td>1270346455799205896</td>\n",
       "      <td>704753138146877440</td>\n",
       "      <td>2020-06-09 18:51:39+00:00</td>\n",
       "      <td>1270428361064677379</td>\n",
       "      <td>de</td>\n",
       "      <td>0</td>\n",
       "      <td>1</td>\n",
       "      <td>0</td>\n",
       "      <td>0</td>\n",
       "      <td>Twitter Web App</td>\n",
       "      <td>replied_to</td>\n",
       "      <td>1270422537730699265</td>\n",
       "      <td>@fnordshow @Steinfireflint @Rumpel @mcamathema...</td>\n",
       "    </tr>\n",
       "    <tr>\n",
       "      <th>8839</th>\n",
       "      <td>1270346455799205896</td>\n",
       "      <td>704753138146877440</td>\n",
       "      <td>2020-06-09 18:40:16+00:00</td>\n",
       "      <td>1270425495377756161</td>\n",
       "      <td>de</td>\n",
       "      <td>0</td>\n",
       "      <td>1</td>\n",
       "      <td>0</td>\n",
       "      <td>0</td>\n",
       "      <td>Twitter Web App</td>\n",
       "      <td>replied_to</td>\n",
       "      <td>1270422537730699265</td>\n",
       "      <td>@fnordshow @Steinfireflint @Rumpel @mcamathema...</td>\n",
       "    </tr>\n",
       "    <tr>\n",
       "      <th>8840</th>\n",
       "      <td>1270346455799205896</td>\n",
       "      <td>3029833842</td>\n",
       "      <td>2020-06-09 18:37:55+00:00</td>\n",
       "      <td>1270424907646734336</td>\n",
       "      <td>de</td>\n",
       "      <td>0</td>\n",
       "      <td>0</td>\n",
       "      <td>0</td>\n",
       "      <td>0</td>\n",
       "      <td>Twitter Web App</td>\n",
       "      <td>replied_to</td>\n",
       "      <td>1270422537730699265</td>\n",
       "      <td>@fnordshow @Rumpel @mcamathematlk @FT @wirecar...</td>\n",
       "    </tr>\n",
       "    <tr>\n",
       "      <th>8841</th>\n",
       "      <td>1270346455799205896</td>\n",
       "      <td>2834393266</td>\n",
       "      <td>2020-06-09 18:28:30+00:00</td>\n",
       "      <td>1270422537730699265</td>\n",
       "      <td>de</td>\n",
       "      <td>0</td>\n",
       "      <td>3</td>\n",
       "      <td>1</td>\n",
       "      <td>0</td>\n",
       "      <td>Twitter for Android</td>\n",
       "      <td>replied_to</td>\n",
       "      <td>1270358295530950665</td>\n",
       "      <td>@Steinfireflint @Rumpel @mcamathematlk @FT @wi...</td>\n",
       "    </tr>\n",
       "    <tr>\n",
       "      <th>8842</th>\n",
       "      <td>1270346455799205896</td>\n",
       "      <td>1235665306498019330</td>\n",
       "      <td>2020-06-09 18:25:41+00:00</td>\n",
       "      <td>1270421828075499521</td>\n",
       "      <td>de</td>\n",
       "      <td>0</td>\n",
       "      <td>0</td>\n",
       "      <td>0</td>\n",
       "      <td>0</td>\n",
       "      <td>Twitter Web App</td>\n",
       "      <td>replied_to</td>\n",
       "      <td>1270350707338743818</td>\n",
       "      <td>@fnordshow @Rumpel @mcamathematlk @FT @wirecar...</td>\n",
       "    </tr>\n",
       "    <tr>\n",
       "      <th>8857</th>\n",
       "      <td>1270346455799205896</td>\n",
       "      <td>3029833842</td>\n",
       "      <td>2020-06-09 14:13:14+00:00</td>\n",
       "      <td>1270358295530950665</td>\n",
       "      <td>de</td>\n",
       "      <td>0</td>\n",
       "      <td>2</td>\n",
       "      <td>1</td>\n",
       "      <td>0</td>\n",
       "      <td>Twitter Web App</td>\n",
       "      <td>replied_to</td>\n",
       "      <td>1270350707338743818</td>\n",
       "      <td>@fnordshow @Rumpel @mcamathematlk @FT @wirecar...</td>\n",
       "    </tr>\n",
       "    <tr>\n",
       "      <th>8858</th>\n",
       "      <td>1270346455799205896</td>\n",
       "      <td>3029833842</td>\n",
       "      <td>2020-06-09 14:08:49+00:00</td>\n",
       "      <td>1270357185810366464</td>\n",
       "      <td>de</td>\n",
       "      <td>0</td>\n",
       "      <td>0</td>\n",
       "      <td>0</td>\n",
       "      <td>0</td>\n",
       "      <td>Twitter Web App</td>\n",
       "      <td>replied_to</td>\n",
       "      <td>1270350707338743818</td>\n",
       "      <td>@fnordshow @Rumpel @mcamathematlk @FT @wirecar...</td>\n",
       "    </tr>\n",
       "    <tr>\n",
       "      <th>8859</th>\n",
       "      <td>1270346455799205896</td>\n",
       "      <td>704753138146877440</td>\n",
       "      <td>2020-06-09 14:00:40+00:00</td>\n",
       "      <td>1270355134904745985</td>\n",
       "      <td>de</td>\n",
       "      <td>0</td>\n",
       "      <td>0</td>\n",
       "      <td>0</td>\n",
       "      <td>0</td>\n",
       "      <td>Twitter Web App</td>\n",
       "      <td>replied_to</td>\n",
       "      <td>1270350707338743818</td>\n",
       "      <td>@fnordshow @Rumpel @mcamathematlk @FT @wirecar...</td>\n",
       "    </tr>\n",
       "    <tr>\n",
       "      <th>8860</th>\n",
       "      <td>1270346455799205896</td>\n",
       "      <td>704753138146877440</td>\n",
       "      <td>2020-06-09 13:59:53+00:00</td>\n",
       "      <td>1270354936619044872</td>\n",
       "      <td>de</td>\n",
       "      <td>0</td>\n",
       "      <td>0</td>\n",
       "      <td>1</td>\n",
       "      <td>0</td>\n",
       "      <td>Twitter Web App</td>\n",
       "      <td>replied_to</td>\n",
       "      <td>1270350707338743818</td>\n",
       "      <td>@fnordshow @Rumpel @mcamathematlk @FT @wirecar...</td>\n",
       "    </tr>\n",
       "    <tr>\n",
       "      <th>8861</th>\n",
       "      <td>1270346455799205896</td>\n",
       "      <td>2834393266</td>\n",
       "      <td>2020-06-09 13:43:05+00:00</td>\n",
       "      <td>1270350707338743818</td>\n",
       "      <td>de</td>\n",
       "      <td>0</td>\n",
       "      <td>6</td>\n",
       "      <td>0</td>\n",
       "      <td>0</td>\n",
       "      <td>Twitter Web App</td>\n",
       "      <td>replied_to</td>\n",
       "      <td>1270349820109164545</td>\n",
       "      <td>@Rumpel @mcamathematlk @FT @wirecard @_MarkusB...</td>\n",
       "    </tr>\n",
       "    <tr>\n",
       "      <th>8862</th>\n",
       "      <td>1270346455799205896</td>\n",
       "      <td>23917047</td>\n",
       "      <td>2020-06-09 13:39:33+00:00</td>\n",
       "      <td>1270349820109164545</td>\n",
       "      <td>de</td>\n",
       "      <td>0</td>\n",
       "      <td>2</td>\n",
       "      <td>3</td>\n",
       "      <td>0</td>\n",
       "      <td>Twitter Web App</td>\n",
       "      <td>replied_to</td>\n",
       "      <td>1270346455799205896</td>\n",
       "      <td>@mcamathematlk @FT @wirecard @_MarkusBraun @Pr...</td>\n",
       "    </tr>\n",
       "    <tr>\n",
       "      <th>8865</th>\n",
       "      <td>1270346455799205896</td>\n",
       "      <td>1262472528783708160</td>\n",
       "      <td>2020-06-09 13:26:11+00:00</td>\n",
       "      <td>1270346455799205896</td>\n",
       "      <td>de</td>\n",
       "      <td>2</td>\n",
       "      <td>1</td>\n",
       "      <td>1</td>\n",
       "      <td>0</td>\n",
       "      <td>Twitter Web App</td>\n",
       "      <td>None</td>\n",
       "      <td>None</td>\n",
       "      <td>Das bringt das Fass zum Überlaufen! Insiderwis...</td>\n",
       "    </tr>\n",
       "  </tbody>\n",
       "</table>\n",
       "</div>"
      ],
      "text/plain": [
       "          conversation_id            author_id                created_at  \\\n",
       "8811  1270346455799205896             66712532 2020-06-10 09:19:29+00:00   \n",
       "8813  1270346455799205896             23917047 2020-06-10 08:52:41+00:00   \n",
       "8823  1270346455799205896  1262472528783708160 2020-06-09 19:35:33+00:00   \n",
       "8824  1270346455799205896           2834393266 2020-06-09 19:33:38+00:00   \n",
       "8825  1270346455799205896   704753138146877440 2020-06-09 19:33:26+00:00   \n",
       "8826  1270346455799205896   704753138146877440 2020-06-09 19:21:42+00:00   \n",
       "8827  1270346455799205896           2834393266 2020-06-09 19:17:56+00:00   \n",
       "8828  1270346455799205896           2834393266 2020-06-09 19:15:38+00:00   \n",
       "8829  1270346455799205896   704753138146877440 2020-06-09 19:11:57+00:00   \n",
       "8830  1270346455799205896   704753138146877440 2020-06-09 19:07:22+00:00   \n",
       "8831  1270346455799205896           2834393266 2020-06-09 19:05:58+00:00   \n",
       "8832  1270346455799205896           2834393266 2020-06-09 19:02:14+00:00   \n",
       "8833  1270346455799205896   704753138146877440 2020-06-09 19:01:23+00:00   \n",
       "8834  1270346455799205896           2834393266 2020-06-09 19:00:15+00:00   \n",
       "8835  1270346455799205896   704753138146877440 2020-06-09 18:59:01+00:00   \n",
       "8836  1270346455799205896           2834393266 2020-06-09 18:58:52+00:00   \n",
       "8837  1270346455799205896           2834393266 2020-06-09 18:57:20+00:00   \n",
       "8838  1270346455799205896   704753138146877440 2020-06-09 18:51:39+00:00   \n",
       "8839  1270346455799205896   704753138146877440 2020-06-09 18:40:16+00:00   \n",
       "8840  1270346455799205896           3029833842 2020-06-09 18:37:55+00:00   \n",
       "8841  1270346455799205896           2834393266 2020-06-09 18:28:30+00:00   \n",
       "8842  1270346455799205896  1235665306498019330 2020-06-09 18:25:41+00:00   \n",
       "8857  1270346455799205896           3029833842 2020-06-09 14:13:14+00:00   \n",
       "8858  1270346455799205896           3029833842 2020-06-09 14:08:49+00:00   \n",
       "8859  1270346455799205896   704753138146877440 2020-06-09 14:00:40+00:00   \n",
       "8860  1270346455799205896   704753138146877440 2020-06-09 13:59:53+00:00   \n",
       "8861  1270346455799205896           2834393266 2020-06-09 13:43:05+00:00   \n",
       "8862  1270346455799205896             23917047 2020-06-09 13:39:33+00:00   \n",
       "8865  1270346455799205896  1262472528783708160 2020-06-09 13:26:11+00:00   \n",
       "\n",
       "                 tweet_id lang  retweet_count  reply_count  like_count  \\\n",
       "8811  1270646760227078150   de              0            0           1   \n",
       "8813  1270640016499318785   de              0            1           2   \n",
       "8823  1270439407934455810   de              0            1           0   \n",
       "8824  1270438925446926338   de              0            1           0   \n",
       "8825  1270438876700643329   de              0            0           0   \n",
       "8826  1270435924921507840   de              0            1           0   \n",
       "8827  1270434977218547712   de              0            1           1   \n",
       "8828  1270434398249385984   de              0            2           0   \n",
       "8829  1270433468531515396   de              0            1           0   \n",
       "8830  1270432318080126979   de              0            0           1   \n",
       "8831  1270431963875246081   de              0            0           1   \n",
       "8832  1270431027140407302   de              0            1           1   \n",
       "8833  1270430811725139973   de              0            0           1   \n",
       "8834  1270430523878498310   de              0            0           1   \n",
       "8835  1270430213663535106   de              0            1           0   \n",
       "8836  1270430177600864256   de              0            1           2   \n",
       "8837  1270429790470881282   de              0            2           0   \n",
       "8838  1270428361064677379   de              0            1           0   \n",
       "8839  1270425495377756161   de              0            1           0   \n",
       "8840  1270424907646734336   de              0            0           0   \n",
       "8841  1270422537730699265   de              0            3           1   \n",
       "8842  1270421828075499521   de              0            0           0   \n",
       "8857  1270358295530950665   de              0            2           1   \n",
       "8858  1270357185810366464   de              0            0           0   \n",
       "8859  1270355134904745985   de              0            0           0   \n",
       "8860  1270354936619044872   de              0            0           1   \n",
       "8861  1270350707338743818   de              0            6           0   \n",
       "8862  1270349820109164545   de              0            2           3   \n",
       "8865  1270346455799205896   de              2            1           1   \n",
       "\n",
       "      quote_count               source  tweet_type  referenced_tweet_id  \\\n",
       "8811            0  Twitter for Android  replied_to  1270640016499318785   \n",
       "8813            0      Twitter Web App  replied_to  1270434977218547712   \n",
       "8823            0      Twitter Web App  replied_to  1270438925446926338   \n",
       "8824            0  Twitter for Android  replied_to  1270435924921507840   \n",
       "8825            0      Twitter Web App  replied_to  1270434068862246918   \n",
       "8826            0      Twitter Web App  replied_to  1270434398249385984   \n",
       "8827            0      Twitter Web App  replied_to  1270434398249385984   \n",
       "8828            0      Twitter Web App  replied_to  1270433468531515396   \n",
       "8829            0      Twitter Web App  replied_to  1270430177600864256   \n",
       "8830            0      Twitter Web App  replied_to  1270431027140407302   \n",
       "8831            0      Twitter Web App  replied_to  1270431272989532160   \n",
       "8832            0      Twitter Web App  replied_to  1270430213663535106   \n",
       "8833            0      Twitter Web App  replied_to  1270429790470881282   \n",
       "8834            0      Twitter Web App  replied_to  1270425913524719618   \n",
       "8835            0      Twitter Web App  replied_to  1270429790470881282   \n",
       "8836            0      Twitter Web App  replied_to  1270425495377756161   \n",
       "8837            0      Twitter Web App  replied_to  1270428361064677379   \n",
       "8838            0      Twitter Web App  replied_to  1270422537730699265   \n",
       "8839            0      Twitter Web App  replied_to  1270422537730699265   \n",
       "8840            0      Twitter Web App  replied_to  1270422537730699265   \n",
       "8841            0  Twitter for Android  replied_to  1270358295530950665   \n",
       "8842            0      Twitter Web App  replied_to  1270350707338743818   \n",
       "8857            0      Twitter Web App  replied_to  1270350707338743818   \n",
       "8858            0      Twitter Web App  replied_to  1270350707338743818   \n",
       "8859            0      Twitter Web App  replied_to  1270350707338743818   \n",
       "8860            0      Twitter Web App  replied_to  1270350707338743818   \n",
       "8861            0      Twitter Web App  replied_to  1270349820109164545   \n",
       "8862            0      Twitter Web App  replied_to  1270346455799205896   \n",
       "8865            0      Twitter Web App        None                 None   \n",
       "\n",
       "                                                   text  \n",
       "8811  @Rumpel @fnordshow @csFraudAnalysis @Steinfire...  \n",
       "8813  @fnordshow @csFraudAnalysis @Steinfireflint @m...  \n",
       "8823  @fnordshow @csFraudAnalysis @Steinfireflint @R...  \n",
       "8824  @csFraudAnalysis @Steinfireflint @Rumpel @mcam...  \n",
       "8825  @checkitoutFRG @fnordshow @Steinfireflint @Rum...  \n",
       "8826  @fnordshow @Steinfireflint @Rumpel @mcamathema...  \n",
       "8827  @csFraudAnalysis @Steinfireflint @Rumpel @mcam...  \n",
       "8828  @csFraudAnalysis @Steinfireflint @Rumpel @mcam...  \n",
       "8829  @fnordshow @Steinfireflint @Rumpel @mcamathema...  \n",
       "8830  @fnordshow @Steinfireflint @Rumpel @mcamathema...  \n",
       "8831  @checkitoutFRG @csFraudAnalysis @Steinfireflin...  \n",
       "8832  @csFraudAnalysis @Steinfireflint @Rumpel @mcam...  \n",
       "8833  @fnordshow @Steinfireflint @Rumpel @mcamathema...  \n",
       "8834  @checkitoutFRG @Steinfireflint @Rumpel @mcamat...  \n",
       "8835  @fnordshow @Steinfireflint @Rumpel @mcamathema...  \n",
       "8836  @csFraudAnalysis @Steinfireflint @Rumpel @mcam...  \n",
       "8837  @csFraudAnalysis @Steinfireflint @Rumpel @mcam...  \n",
       "8838  @fnordshow @Steinfireflint @Rumpel @mcamathema...  \n",
       "8839  @fnordshow @Steinfireflint @Rumpel @mcamathema...  \n",
       "8840  @fnordshow @Rumpel @mcamathematlk @FT @wirecar...  \n",
       "8841  @Steinfireflint @Rumpel @mcamathematlk @FT @wi...  \n",
       "8842  @fnordshow @Rumpel @mcamathematlk @FT @wirecar...  \n",
       "8857  @fnordshow @Rumpel @mcamathematlk @FT @wirecar...  \n",
       "8858  @fnordshow @Rumpel @mcamathematlk @FT @wirecar...  \n",
       "8859  @fnordshow @Rumpel @mcamathematlk @FT @wirecar...  \n",
       "8860  @fnordshow @Rumpel @mcamathematlk @FT @wirecar...  \n",
       "8861  @Rumpel @mcamathematlk @FT @wirecard @_MarkusB...  \n",
       "8862  @mcamathematlk @FT @wirecard @_MarkusBraun @Pr...  \n",
       "8865  Das bringt das Fass zum Überlaufen! Insiderwis...  "
      ]
     },
     "execution_count": 115,
     "metadata": {},
     "output_type": "execute_result"
    }
   ],
   "source": [
    "df.loc[df[\"conversation_id\"] == 1270346455799205896]"
   ]
  },
  {
   "cell_type": "code",
   "execution_count": 116,
   "id": "c7f527ef-6be5-48c9-800b-04332655615c",
   "metadata": {},
   "outputs": [
    {
     "data": {
      "text/plain": [
       "1270350707338743818    5\n",
       "1270422537730699265    3\n",
       "1270429790470881282    2\n",
       "1270434398249385984    2\n",
       "1270640016499318785    1\n",
       "1270346455799205896    1\n",
       "1270349820109164545    1\n",
       "1270358295530950665    1\n",
       "1270428361064677379    1\n",
       "1270425495377756161    1\n",
       "1270425913524719618    1\n",
       "1270430213663535106    1\n",
       "1270434977218547712    1\n",
       "1270431272989532160    1\n",
       "1270431027140407302    1\n",
       "1270430177600864256    1\n",
       "1270433468531515396    1\n",
       "1270434068862246918    1\n",
       "1270435924921507840    1\n",
       "1270438925446926338    1\n",
       "None                   1\n",
       "Name: referenced_tweet_id, dtype: int64"
      ]
     },
     "execution_count": 116,
     "metadata": {},
     "output_type": "execute_result"
    }
   ],
   "source": [
    "df.loc[df[\"conversation_id\"] == 1270346455799205896][\"referenced_tweet_id\"].value_counts()\n",
    "#df_manager_de.loc[df_manager_de[\"conversation_id\"] == 1273974132531658754][\"referenced_tweet_id\"].value_counts()"
   ]
  },
  {
   "cell_type": "code",
   "execution_count": null,
   "id": "a9e1e36c-b1e5-4019-87cf-67aa8ef7dffe",
   "metadata": {},
   "outputs": [],
   "source": []
  },
  {
   "cell_type": "code",
   "execution_count": 117,
   "id": "03b0ddde-0a84-4884-8c89-2717fd856d5e",
   "metadata": {},
   "outputs": [
    {
     "data": {
      "text/plain": [
       "None                   3591\n",
       "1284221309275209729     595\n",
       "1273974132531658754     270\n",
       "1276262103100329987     179\n",
       "1101373999244812289     128\n",
       "1262113400005496833     106\n",
       "1281266933753679881      92\n",
       "1275038435078782977      84\n",
       "1166295829868687360      80\n",
       "1284797571634995201      79\n",
       "1274632791045611520      79\n",
       "1272939263919902720      69\n",
       "1252152320697212928      61\n",
       "1284512897624952835      58\n",
       "1286023837331709953      55\n",
       "1283504870067253253      54\n",
       "1284045339725565953      53\n",
       "1275364810285289472      52\n",
       "1286334806767423489      50\n",
       "1275380878496202752      50\n",
       "Name: referenced_tweet_id, dtype: int64"
      ]
     },
     "execution_count": 117,
     "metadata": {},
     "output_type": "execute_result"
    }
   ],
   "source": [
    "df[\"referenced_tweet_id\"].value_counts().head(20)"
   ]
  },
  {
   "cell_type": "code",
   "execution_count": 120,
   "id": "556ab25b-4d97-473c-8542-af9784875f7c",
   "metadata": {},
   "outputs": [
    {
     "data": {
      "text/html": [
       "<div>\n",
       "<style scoped>\n",
       "    .dataframe tbody tr th:only-of-type {\n",
       "        vertical-align: middle;\n",
       "    }\n",
       "\n",
       "    .dataframe tbody tr th {\n",
       "        vertical-align: top;\n",
       "    }\n",
       "\n",
       "    .dataframe thead th {\n",
       "        text-align: right;\n",
       "    }\n",
       "</style>\n",
       "<table border=\"1\" class=\"dataframe\">\n",
       "  <thead>\n",
       "    <tr style=\"text-align: right;\">\n",
       "      <th></th>\n",
       "      <th>conversation_id</th>\n",
       "      <th>author_id</th>\n",
       "      <th>created_at</th>\n",
       "      <th>tweet_id</th>\n",
       "      <th>lang</th>\n",
       "      <th>retweet_count</th>\n",
       "      <th>reply_count</th>\n",
       "      <th>like_count</th>\n",
       "      <th>quote_count</th>\n",
       "      <th>source</th>\n",
       "      <th>tweet_type</th>\n",
       "      <th>referenced_tweet_id</th>\n",
       "      <th>text</th>\n",
       "    </tr>\n",
       "  </thead>\n",
       "  <tbody>\n",
       "    <tr>\n",
       "      <th>9138</th>\n",
       "      <td>1288820544708714496</td>\n",
       "      <td>3835096054</td>\n",
       "      <td>2020-07-30 12:55:37+00:00</td>\n",
       "      <td>1288820544708714496</td>\n",
       "      <td>de</td>\n",
       "      <td>641</td>\n",
       "      <td>0</td>\n",
       "      <td>0</td>\n",
       "      <td>0</td>\n",
       "      <td>Twitter Web App</td>\n",
       "      <td>retweeted</td>\n",
       "      <td>1284221309275209729</td>\n",
       "      <td>RT @KernChri: Sebastian Kurz hat beträchtliche...</td>\n",
       "    </tr>\n",
       "    <tr>\n",
       "      <th>9499</th>\n",
       "      <td>1287721028827873281</td>\n",
       "      <td>53720970</td>\n",
       "      <td>2020-07-27 12:06:32+00:00</td>\n",
       "      <td>1287721028827873281</td>\n",
       "      <td>de</td>\n",
       "      <td>641</td>\n",
       "      <td>0</td>\n",
       "      <td>0</td>\n",
       "      <td>0</td>\n",
       "      <td>Twitter Web App</td>\n",
       "      <td>retweeted</td>\n",
       "      <td>1284221309275209729</td>\n",
       "      <td>RT @KernChri: Sebastian Kurz hat beträchtliche...</td>\n",
       "    </tr>\n",
       "    <tr>\n",
       "      <th>9649</th>\n",
       "      <td>1286938724329299972</td>\n",
       "      <td>1131998753534226433</td>\n",
       "      <td>2020-07-25 08:17:56+00:00</td>\n",
       "      <td>1286938724329299972</td>\n",
       "      <td>de</td>\n",
       "      <td>641</td>\n",
       "      <td>0</td>\n",
       "      <td>0</td>\n",
       "      <td>0</td>\n",
       "      <td>Twitter for Android</td>\n",
       "      <td>retweeted</td>\n",
       "      <td>1284221309275209729</td>\n",
       "      <td>RT @KernChri: Sebastian Kurz hat beträchtliche...</td>\n",
       "    </tr>\n",
       "    <tr>\n",
       "      <th>9671</th>\n",
       "      <td>1286791779052855298</td>\n",
       "      <td>1169954147153645568</td>\n",
       "      <td>2020-07-24 22:34:02+00:00</td>\n",
       "      <td>1286791779052855298</td>\n",
       "      <td>de</td>\n",
       "      <td>641</td>\n",
       "      <td>0</td>\n",
       "      <td>0</td>\n",
       "      <td>0</td>\n",
       "      <td>Twitter for Android</td>\n",
       "      <td>retweeted</td>\n",
       "      <td>1284221309275209729</td>\n",
       "      <td>RT @KernChri: Sebastian Kurz hat beträchtliche...</td>\n",
       "    </tr>\n",
       "    <tr>\n",
       "      <th>9994</th>\n",
       "      <td>1284221309275209729</td>\n",
       "      <td>379342348</td>\n",
       "      <td>2020-07-23 16:52:22+00:00</td>\n",
       "      <td>1286343409138114567</td>\n",
       "      <td>de</td>\n",
       "      <td>0</td>\n",
       "      <td>0</td>\n",
       "      <td>0</td>\n",
       "      <td>0</td>\n",
       "      <td>Twitter Web App</td>\n",
       "      <td>replied_to</td>\n",
       "      <td>1284221309275209729</td>\n",
       "      <td>@KernChri Verteidigt RA Wolfgang Kubicki Wirec...</td>\n",
       "    </tr>\n",
       "    <tr>\n",
       "      <th>...</th>\n",
       "      <td>...</td>\n",
       "      <td>...</td>\n",
       "      <td>...</td>\n",
       "      <td>...</td>\n",
       "      <td>...</td>\n",
       "      <td>...</td>\n",
       "      <td>...</td>\n",
       "      <td>...</td>\n",
       "      <td>...</td>\n",
       "      <td>...</td>\n",
       "      <td>...</td>\n",
       "      <td>...</td>\n",
       "      <td>...</td>\n",
       "    </tr>\n",
       "    <tr>\n",
       "      <th>12256</th>\n",
       "      <td>1284221467748642816</td>\n",
       "      <td>25514035</td>\n",
       "      <td>2020-07-17 20:20:32+00:00</td>\n",
       "      <td>1284221467748642816</td>\n",
       "      <td>de</td>\n",
       "      <td>641</td>\n",
       "      <td>0</td>\n",
       "      <td>0</td>\n",
       "      <td>0</td>\n",
       "      <td>Twitter for Android</td>\n",
       "      <td>retweeted</td>\n",
       "      <td>1284221309275209729</td>\n",
       "      <td>RT @KernChri: Sebastian Kurz hat beträchtliche...</td>\n",
       "    </tr>\n",
       "    <tr>\n",
       "      <th>12257</th>\n",
       "      <td>1284221466834280450</td>\n",
       "      <td>918881528196845569</td>\n",
       "      <td>2020-07-17 20:20:32+00:00</td>\n",
       "      <td>1284221466834280450</td>\n",
       "      <td>de</td>\n",
       "      <td>641</td>\n",
       "      <td>0</td>\n",
       "      <td>0</td>\n",
       "      <td>0</td>\n",
       "      <td>Twitter Web App</td>\n",
       "      <td>retweeted</td>\n",
       "      <td>1284221309275209729</td>\n",
       "      <td>RT @KernChri: Sebastian Kurz hat beträchtliche...</td>\n",
       "    </tr>\n",
       "    <tr>\n",
       "      <th>12258</th>\n",
       "      <td>1284221444134703109</td>\n",
       "      <td>43386254</td>\n",
       "      <td>2020-07-17 20:20:26+00:00</td>\n",
       "      <td>1284221444134703109</td>\n",
       "      <td>de</td>\n",
       "      <td>641</td>\n",
       "      <td>0</td>\n",
       "      <td>0</td>\n",
       "      <td>0</td>\n",
       "      <td>Twitter Web App</td>\n",
       "      <td>retweeted</td>\n",
       "      <td>1284221309275209729</td>\n",
       "      <td>RT @KernChri: Sebastian Kurz hat beträchtliche...</td>\n",
       "    </tr>\n",
       "    <tr>\n",
       "      <th>12259</th>\n",
       "      <td>1284221361804763142</td>\n",
       "      <td>533388799</td>\n",
       "      <td>2020-07-17 20:20:06+00:00</td>\n",
       "      <td>1284221361804763142</td>\n",
       "      <td>de</td>\n",
       "      <td>641</td>\n",
       "      <td>0</td>\n",
       "      <td>0</td>\n",
       "      <td>0</td>\n",
       "      <td>Twitter Web App</td>\n",
       "      <td>retweeted</td>\n",
       "      <td>1284221309275209729</td>\n",
       "      <td>RT @KernChri: Sebastian Kurz hat beträchtliche...</td>\n",
       "    </tr>\n",
       "    <tr>\n",
       "      <th>12260</th>\n",
       "      <td>1284221355228004362</td>\n",
       "      <td>62755912</td>\n",
       "      <td>2020-07-17 20:20:05+00:00</td>\n",
       "      <td>1284221355228004362</td>\n",
       "      <td>de</td>\n",
       "      <td>641</td>\n",
       "      <td>0</td>\n",
       "      <td>0</td>\n",
       "      <td>0</td>\n",
       "      <td>Twitter Web App</td>\n",
       "      <td>retweeted</td>\n",
       "      <td>1284221309275209729</td>\n",
       "      <td>RT @KernChri: Sebastian Kurz hat beträchtliche...</td>\n",
       "    </tr>\n",
       "  </tbody>\n",
       "</table>\n",
       "<p>595 rows × 13 columns</p>\n",
       "</div>"
      ],
      "text/plain": [
       "           conversation_id            author_id                created_at  \\\n",
       "9138   1288820544708714496           3835096054 2020-07-30 12:55:37+00:00   \n",
       "9499   1287721028827873281             53720970 2020-07-27 12:06:32+00:00   \n",
       "9649   1286938724329299972  1131998753534226433 2020-07-25 08:17:56+00:00   \n",
       "9671   1286791779052855298  1169954147153645568 2020-07-24 22:34:02+00:00   \n",
       "9994   1284221309275209729            379342348 2020-07-23 16:52:22+00:00   \n",
       "...                    ...                  ...                       ...   \n",
       "12256  1284221467748642816             25514035 2020-07-17 20:20:32+00:00   \n",
       "12257  1284221466834280450   918881528196845569 2020-07-17 20:20:32+00:00   \n",
       "12258  1284221444134703109             43386254 2020-07-17 20:20:26+00:00   \n",
       "12259  1284221361804763142            533388799 2020-07-17 20:20:06+00:00   \n",
       "12260  1284221355228004362             62755912 2020-07-17 20:20:05+00:00   \n",
       "\n",
       "                  tweet_id lang  retweet_count  reply_count  like_count  \\\n",
       "9138   1288820544708714496   de            641            0           0   \n",
       "9499   1287721028827873281   de            641            0           0   \n",
       "9649   1286938724329299972   de            641            0           0   \n",
       "9671   1286791779052855298   de            641            0           0   \n",
       "9994   1286343409138114567   de              0            0           0   \n",
       "...                    ...  ...            ...          ...         ...   \n",
       "12256  1284221467748642816   de            641            0           0   \n",
       "12257  1284221466834280450   de            641            0           0   \n",
       "12258  1284221444134703109   de            641            0           0   \n",
       "12259  1284221361804763142   de            641            0           0   \n",
       "12260  1284221355228004362   de            641            0           0   \n",
       "\n",
       "       quote_count               source  tweet_type  referenced_tweet_id  \\\n",
       "9138             0      Twitter Web App   retweeted  1284221309275209729   \n",
       "9499             0      Twitter Web App   retweeted  1284221309275209729   \n",
       "9649             0  Twitter for Android   retweeted  1284221309275209729   \n",
       "9671             0  Twitter for Android   retweeted  1284221309275209729   \n",
       "9994             0      Twitter Web App  replied_to  1284221309275209729   \n",
       "...            ...                  ...         ...                  ...   \n",
       "12256            0  Twitter for Android   retweeted  1284221309275209729   \n",
       "12257            0      Twitter Web App   retweeted  1284221309275209729   \n",
       "12258            0      Twitter Web App   retweeted  1284221309275209729   \n",
       "12259            0      Twitter Web App   retweeted  1284221309275209729   \n",
       "12260            0      Twitter Web App   retweeted  1284221309275209729   \n",
       "\n",
       "                                                    text  \n",
       "9138   RT @KernChri: Sebastian Kurz hat beträchtliche...  \n",
       "9499   RT @KernChri: Sebastian Kurz hat beträchtliche...  \n",
       "9649   RT @KernChri: Sebastian Kurz hat beträchtliche...  \n",
       "9671   RT @KernChri: Sebastian Kurz hat beträchtliche...  \n",
       "9994   @KernChri Verteidigt RA Wolfgang Kubicki Wirec...  \n",
       "...                                                  ...  \n",
       "12256  RT @KernChri: Sebastian Kurz hat beträchtliche...  \n",
       "12257  RT @KernChri: Sebastian Kurz hat beträchtliche...  \n",
       "12258  RT @KernChri: Sebastian Kurz hat beträchtliche...  \n",
       "12259  RT @KernChri: Sebastian Kurz hat beträchtliche...  \n",
       "12260  RT @KernChri: Sebastian Kurz hat beträchtliche...  \n",
       "\n",
       "[595 rows x 13 columns]"
      ]
     },
     "execution_count": 120,
     "metadata": {},
     "output_type": "execute_result"
    }
   ],
   "source": [
    "df.loc[(df[\"referenced_tweet_id\"] == \"1284221309275209729\"]) "
   ]
  },
  {
   "cell_type": "code",
   "execution_count": 121,
   "id": "2801a518-541e-4e67-8770-f69f52a98143",
   "metadata": {},
   "outputs": [
    {
     "data": {
      "text/html": [
       "<div>\n",
       "<style scoped>\n",
       "    .dataframe tbody tr th:only-of-type {\n",
       "        vertical-align: middle;\n",
       "    }\n",
       "\n",
       "    .dataframe tbody tr th {\n",
       "        vertical-align: top;\n",
       "    }\n",
       "\n",
       "    .dataframe thead th {\n",
       "        text-align: right;\n",
       "    }\n",
       "</style>\n",
       "<table border=\"1\" class=\"dataframe\">\n",
       "  <thead>\n",
       "    <tr style=\"text-align: right;\">\n",
       "      <th></th>\n",
       "      <th>conversation_id</th>\n",
       "      <th>author_id</th>\n",
       "      <th>created_at</th>\n",
       "      <th>tweet_id</th>\n",
       "      <th>lang</th>\n",
       "      <th>retweet_count</th>\n",
       "      <th>reply_count</th>\n",
       "      <th>like_count</th>\n",
       "      <th>quote_count</th>\n",
       "      <th>source</th>\n",
       "      <th>tweet_type</th>\n",
       "      <th>referenced_tweet_id</th>\n",
       "      <th>text</th>\n",
       "    </tr>\n",
       "  </thead>\n",
       "  <tbody>\n",
       "    <tr>\n",
       "      <th>12261</th>\n",
       "      <td>1284221309275209729</td>\n",
       "      <td>270564264</td>\n",
       "      <td>2020-07-17 20:19:54+00:00</td>\n",
       "      <td>1284221309275209729</td>\n",
       "      <td>de</td>\n",
       "      <td>641</td>\n",
       "      <td>159</td>\n",
       "      <td>3721</td>\n",
       "      <td>84</td>\n",
       "      <td>Twitter for iPhone</td>\n",
       "      <td>None</td>\n",
       "      <td>None</td>\n",
       "      <td>Sebastian Kurz hat beträchtliche Geldsummen vo...</td>\n",
       "    </tr>\n",
       "  </tbody>\n",
       "</table>\n",
       "</div>"
      ],
      "text/plain": [
       "           conversation_id  author_id                created_at  \\\n",
       "12261  1284221309275209729  270564264 2020-07-17 20:19:54+00:00   \n",
       "\n",
       "                  tweet_id lang  retweet_count  reply_count  like_count  \\\n",
       "12261  1284221309275209729   de            641          159        3721   \n",
       "\n",
       "       quote_count              source tweet_type referenced_tweet_id  \\\n",
       "12261           84  Twitter for iPhone       None                None   \n",
       "\n",
       "                                                    text  \n",
       "12261  Sebastian Kurz hat beträchtliche Geldsummen vo...  "
      ]
     },
     "execution_count": 121,
     "metadata": {},
     "output_type": "execute_result"
    }
   ],
   "source": [
    "df.loc[df[\"tweet_id\"] == 1284221309275209729]"
   ]
  },
  {
   "cell_type": "code",
   "execution_count": 127,
   "id": "251beaa4-bace-405f-a620-f380878e8dfe",
   "metadata": {},
   "outputs": [
    {
     "data": {
      "text/plain": [
       "9994     1286343409138114567\n",
       "10841    1284939683223535617\n",
       "12167    1284225253053472770\n",
       "12261    1284221309275209729\n",
       "Name: tweet_id, dtype: int64"
      ]
     },
     "execution_count": 127,
     "metadata": {},
     "output_type": "execute_result"
    }
   ],
   "source": [
    "df.loc[df[\"conversation_id\"] == 1284221309275209729][\"tweet_id\"]"
   ]
  },
  {
   "cell_type": "code",
   "execution_count": 93,
   "id": "9878b46b-2169-4087-a55f-abc08d5cde20",
   "metadata": {},
   "outputs": [
    {
     "data": {
      "text/html": [
       "<div>\n",
       "<style scoped>\n",
       "    .dataframe tbody tr th:only-of-type {\n",
       "        vertical-align: middle;\n",
       "    }\n",
       "\n",
       "    .dataframe tbody tr th {\n",
       "        vertical-align: top;\n",
       "    }\n",
       "\n",
       "    .dataframe thead th {\n",
       "        text-align: right;\n",
       "    }\n",
       "</style>\n",
       "<table border=\"1\" class=\"dataframe\">\n",
       "  <thead>\n",
       "    <tr style=\"text-align: right;\">\n",
       "      <th></th>\n",
       "      <th>conversation_id</th>\n",
       "      <th>author_id</th>\n",
       "      <th>created_at</th>\n",
       "      <th>tweet_id</th>\n",
       "      <th>lang</th>\n",
       "      <th>retweet_count</th>\n",
       "      <th>reply_count</th>\n",
       "      <th>like_count</th>\n",
       "      <th>quote_count</th>\n",
       "      <th>source</th>\n",
       "      <th>tweet_type</th>\n",
       "      <th>referenced_tweet_id</th>\n",
       "      <th>text</th>\n",
       "    </tr>\n",
       "  </thead>\n",
       "  <tbody>\n",
       "  </tbody>\n",
       "</table>\n",
       "</div>"
      ],
      "text/plain": [
       "Empty DataFrame\n",
       "Columns: [conversation_id, author_id, created_at, tweet_id, lang, retweet_count, reply_count, like_count, quote_count, source, tweet_type, referenced_tweet_id, text]\n",
       "Index: []"
      ]
     },
     "execution_count": 93,
     "metadata": {},
     "output_type": "execute_result"
    }
   ],
   "source": [
    "df.loc[(df[\"referenced_tweet_id\"] == \"1273974132531658754\") & (df[\"tweet_type\"] != \"replied_to\")] "
   ]
  },
  {
   "cell_type": "code",
   "execution_count": 29,
   "id": "e7fb50b9-b53d-4574-8f54-09798dcb20e3",
   "metadata": {},
   "outputs": [
    {
     "name": "stdout",
     "output_type": "stream",
     "text": [
      "<class 'str'>\n",
      "700578193334411264\n"
     ]
    }
   ],
   "source": [
    "print(type(df_manager_de.iloc[4][\"referenced_tweet_id\"][0]))\n",
    "print(df_manager_de.iloc[4][\"referenced_tweet_id\"][0])"
   ]
  },
  {
   "cell_type": "code",
   "execution_count": 40,
   "id": "a63271cf-4a38-4aed-8baf-f9517311eab6",
   "metadata": {},
   "outputs": [
    {
     "name": "stdout",
     "output_type": "stream",
     "text": [
      "<class 'list'>\n",
      "<class 'str'>\n",
      "<class 'list'>\n",
      "<class 'str'>\n"
     ]
    }
   ],
   "source": [
    "test_liste = [\"700578193334411264\"]\n",
    "print(type(test_liste))\n",
    "print(type(test_liste[0]))\n",
    "print(type(df_manager_de.iloc[0][\"referenced_tweet_id\"]))\n",
    "print(type(df_manager_de.iloc[4][\"referenced_tweet_id\"][0]))\n",
    "#df_manager_de.loc[df_manager_de[\"referenced_tweet_id\"] == test_liste]"
   ]
  },
  {
   "cell_type": "code",
   "execution_count": 49,
   "id": "4f4bc5e3-cd6f-48b0-8e38-33762c8517a5",
   "metadata": {},
   "outputs": [
    {
     "name": "stdout",
     "output_type": "stream",
     "text": [
      "1274375538736541699\n"
     ]
    }
   ],
   "source": [
    "print(df_manager_de.iloc[5672][\"referenced_tweet_id\"][0])"
   ]
  },
  {
   "cell_type": "code",
   "execution_count": 63,
   "id": "4458772a-883e-443b-bde1-f1e6ae2ded2b",
   "metadata": {},
   "outputs": [
    {
     "name": "stdout",
     "output_type": "stream",
     "text": [
      "['1274375538736541699', '1275463296141983744']\n"
     ]
    }
   ],
   "source": [
    "print(df_manager_de.iloc[5672][\"referenced_tweet_id\"])"
   ]
  },
  {
   "cell_type": "code",
   "execution_count": 64,
   "id": "75c387e3-6571-4283-9d5c-7020162d1357",
   "metadata": {},
   "outputs": [
    {
     "name": "stdout",
     "output_type": "stream",
     "text": [
      "1275463618084118528\n"
     ]
    }
   ],
   "source": [
    "print(df_manager_de.iloc[5672][\"tweet_id\"])"
   ]
  },
  {
   "cell_type": "code",
   "execution_count": 53,
   "id": "22f20bee-d411-4f37-9484-bee0b0467631",
   "metadata": {
    "collapsed": true,
    "jupyter": {
     "outputs_hidden": true
    },
    "tags": []
   },
   "outputs": [
    {
     "name": "stdout",
     "output_type": "stream",
     "text": [
      "1109008324480110593\n",
      "1124634476896825344\n",
      "1186725670589779968\n",
      "1197207197593350145\n",
      "1266264075492708353\n",
      "1265346400126152704\n",
      "1263828992928382976\n",
      "1262317560357404672\n",
      "1262144774490017795\n",
      "1256241452700643328\n",
      "1275463618084118528\n",
      "1274957919713406976\n",
      "1274038047173226497\n",
      "1273701417673465857\n",
      "1272569593060560900\n",
      "1269751749256122378\n",
      "1288343766705803267\n",
      "1288122617979785227\n",
      "1288122568742862850\n",
      "1288121119199776774\n",
      "1288086573624578048\n",
      "1288086479110053889\n",
      "1288084916585009158\n",
      "1288084842236780545\n",
      "1288084771273416705\n",
      "1287793713389895682\n",
      "1287767823595569152\n",
      "1287767754137796609\n",
      "1287764861708111874\n",
      "1287764730560512002\n",
      "1287471174725894144\n",
      "1287469014197981185\n",
      "1287468377158688768\n",
      "1287467831286812672\n",
      "1287467665263669248\n",
      "1287467125276381184\n",
      "1287466498739638272\n",
      "1287466397954646017\n",
      "1287398749623508994\n",
      "1287394834223964160\n",
      "1287323555974336517\n",
      "1287322924211474434\n",
      "1287322760172183552\n",
      "1287322462292713473\n",
      "1287321338009595904\n",
      "1287321118173536257\n",
      "1287319982561529856\n",
      "1287319868090589184\n",
      "1287286662578548737\n",
      "1287286563307687936\n",
      "1287112033167712258\n",
      "1287111749263593474\n",
      "1287111414549745665\n",
      "1287057905615876096\n",
      "1287057810186997760\n",
      "1287052784551047170\n",
      "1287052638362701824\n",
      "1287052228231155719\n",
      "1287052124539498498\n",
      "1287051995917045760\n",
      "1287051899942862849\n",
      "1287051827926753283\n",
      "1287051496803139589\n",
      "1287051144636882944\n",
      "1287051054413160448\n",
      "1287050865342320640\n",
      "1286937201213870080\n",
      "1286937140320972801\n",
      "1286936210179534848\n",
      "1286918614222802945\n",
      "1286918096691789824\n",
      "1286906803012476928\n",
      "1286906008854564864\n",
      "1286904060281606144\n",
      "1286903957361758208\n",
      "1286768448417259520\n",
      "1286767815484112898\n",
      "1286765342744883206\n",
      "1286765117275807744\n",
      "1286764672222470144\n",
      "1286762600978579458\n",
      "1286762503075237888\n",
      "1286762412834725888\n",
      "1286762321554165763\n",
      "1286762254587899908\n",
      "1286762006364782592\n",
      "1286759277235929093\n",
      "1286759078295986178\n",
      "1286758999732477952\n",
      "1286758928672526336\n",
      "1286757688056086528\n",
      "1286757595756343297\n",
      "1286756389612814336\n",
      "1286726573446529026\n",
      "1286726354361360385\n",
      "1286725388736094212\n",
      "1286724741886337025\n",
      "1286714066363461633\n",
      "1286713803489632256\n",
      "1286710083645247490\n",
      "1286709948710256658\n",
      "1286708519325106176\n",
      "1286708304329297921\n",
      "1286678947728625669\n",
      "1286674002258333704\n",
      "1286672713885655041\n",
      "1286672453633290240\n",
      "1286671981404880899\n",
      "1286670212042043392\n",
      "1286669290285027328\n",
      "1286669181165936640\n",
      "1286668613844455428\n",
      "1286612295339081728\n",
      "1286611587667812352\n",
      "1286610493591912449\n",
      "1286608078255919107\n",
      "1286607938988183554\n",
      "1286606583493992449\n",
      "1286606464388399105\n",
      "1286605940972834816\n",
      "1286604594970271744\n",
      "1286594135500218368\n",
      "1286593320140132352\n",
      "1286589503516418048\n",
      "1286586318097731585\n",
      "1286585756287479809\n",
      "1286584926264078337\n",
      "1286582988545970178\n",
      "1286582263354994688\n",
      "1286581513157586945\n",
      "1286581208013582336\n",
      "1286580915154673665\n",
      "1286577564060917760\n",
      "1286576994004742144\n",
      "1286576817193865216\n",
      "1286576707705671681\n",
      "1286575534940598272\n",
      "1286575357915795456\n",
      "1286575036246249473\n",
      "1286563128679989249\n",
      "1286315431872036865\n",
      "1281872889273253888\n",
      "1281675541393874944\n"
     ]
    }
   ],
   "source": [
    "for each in range(len(df_manager_de)):\n",
    "    if len(df_manager_de.iloc[each][\"referenced_tweet_id\"]) >= 2:\n",
    "        print(df_manager_de.iloc[each][\"tweet_id\"])"
   ]
  },
  {
   "cell_type": "code",
   "execution_count": 58,
   "id": "7ed3985d-a62a-4ead-989e-0b35ac2521a4",
   "metadata": {},
   "outputs": [
    {
     "data": {
      "text/plain": [
       "14308"
      ]
     },
     "execution_count": 58,
     "metadata": {},
     "output_type": "execute_result"
    }
   ],
   "source": [
    "len(df_manager_de)"
   ]
  },
  {
   "cell_type": "code",
   "execution_count": 77,
   "id": "f997d7df-7b79-4056-a149-15aa487fc4ce",
   "metadata": {},
   "outputs": [],
   "source": [
    "df = df_manager_de.explode([\"referenced_tweet_id\", \"tweet_type\"], ignore_index=True)"
   ]
  },
  {
   "cell_type": "code",
   "execution_count": 57,
   "id": "5745b766-a5e4-4dbb-8f7d-ef1359aad1cf",
   "metadata": {},
   "outputs": [
    {
     "name": "stdout",
     "output_type": "stream",
     "text": [
      "['1274375538736541699', '1275463296141983744']\n"
     ]
    }
   ],
   "source": [
    "print(df_manager_de.iloc[5672][\"referenced_tweet_id\"])"
   ]
  },
  {
   "cell_type": "code",
   "execution_count": 62,
   "id": "2caf636f-f846-46d3-bd82-66e6b08b427d",
   "metadata": {},
   "outputs": [
    {
     "name": "stdout",
     "output_type": "stream",
     "text": [
      "1275461806279057411\n",
      "1275461806404796416\n"
     ]
    }
   ],
   "source": [
    "print(df.iloc[5672][\"referenced_tweet_id\"])\n",
    "print(df.iloc[5673][\"referenced_tweet_id\"])"
   ]
  },
  {
   "cell_type": "code",
   "execution_count": 78,
   "id": "c7b90be4-b14c-4131-a292-050cf320cd91",
   "metadata": {},
   "outputs": [
    {
     "data": {
      "text/html": [
       "<div>\n",
       "<style scoped>\n",
       "    .dataframe tbody tr th:only-of-type {\n",
       "        vertical-align: middle;\n",
       "    }\n",
       "\n",
       "    .dataframe tbody tr th {\n",
       "        vertical-align: top;\n",
       "    }\n",
       "\n",
       "    .dataframe thead th {\n",
       "        text-align: right;\n",
       "    }\n",
       "</style>\n",
       "<table border=\"1\" class=\"dataframe\">\n",
       "  <thead>\n",
       "    <tr style=\"text-align: right;\">\n",
       "      <th></th>\n",
       "      <th>conversation_id</th>\n",
       "      <th>author_id</th>\n",
       "      <th>created_at</th>\n",
       "      <th>tweet_id</th>\n",
       "      <th>lang</th>\n",
       "      <th>retweet_count</th>\n",
       "      <th>reply_count</th>\n",
       "      <th>like_count</th>\n",
       "      <th>quote_count</th>\n",
       "      <th>source</th>\n",
       "      <th>tweet_type</th>\n",
       "      <th>referenced_tweet_id</th>\n",
       "      <th>text</th>\n",
       "    </tr>\n",
       "  </thead>\n",
       "  <tbody>\n",
       "    <tr>\n",
       "      <th>5682</th>\n",
       "      <td>1274272333025468417</td>\n",
       "      <td>1241309757060849664</td>\n",
       "      <td>2020-06-23 16:19:58+00:00</td>\n",
       "      <td>1275463618084118528</td>\n",
       "      <td>de</td>\n",
       "      <td>0</td>\n",
       "      <td>0</td>\n",
       "      <td>1</td>\n",
       "      <td>0</td>\n",
       "      <td>Twitter Web App</td>\n",
       "      <td>quoted</td>\n",
       "      <td>1274375538736541699</td>\n",
       "      <td>@DanielBauer @stefanschaaf @alimasarwah @_Mark...</td>\n",
       "    </tr>\n",
       "    <tr>\n",
       "      <th>5683</th>\n",
       "      <td>1274272333025468417</td>\n",
       "      <td>1241309757060849664</td>\n",
       "      <td>2020-06-23 16:19:58+00:00</td>\n",
       "      <td>1275463618084118528</td>\n",
       "      <td>de</td>\n",
       "      <td>0</td>\n",
       "      <td>0</td>\n",
       "      <td>1</td>\n",
       "      <td>0</td>\n",
       "      <td>Twitter Web App</td>\n",
       "      <td>replied_to</td>\n",
       "      <td>1275463296141983744</td>\n",
       "      <td>@DanielBauer @stefanschaaf @alimasarwah @_Mark...</td>\n",
       "    </tr>\n",
       "  </tbody>\n",
       "</table>\n",
       "</div>"
      ],
      "text/plain": [
       "          conversation_id            author_id                created_at  \\\n",
       "5682  1274272333025468417  1241309757060849664 2020-06-23 16:19:58+00:00   \n",
       "5683  1274272333025468417  1241309757060849664 2020-06-23 16:19:58+00:00   \n",
       "\n",
       "                 tweet_id lang  retweet_count  reply_count  like_count  \\\n",
       "5682  1275463618084118528   de              0            0           1   \n",
       "5683  1275463618084118528   de              0            0           1   \n",
       "\n",
       "      quote_count           source  tweet_type  referenced_tweet_id  \\\n",
       "5682            0  Twitter Web App      quoted  1274375538736541699   \n",
       "5683            0  Twitter Web App  replied_to  1275463296141983744   \n",
       "\n",
       "                                                   text  \n",
       "5682  @DanielBauer @stefanschaaf @alimasarwah @_Mark...  \n",
       "5683  @DanielBauer @stefanschaaf @alimasarwah @_Mark...  "
      ]
     },
     "execution_count": 78,
     "metadata": {},
     "output_type": "execute_result"
    }
   ],
   "source": [
    "df.loc[df[\"tweet_id\"] == 1275463618084118528]"
   ]
  },
  {
   "cell_type": "code",
   "execution_count": 67,
   "id": "af13fd29-7d4b-4d97-8e9f-d37a96b8f83c",
   "metadata": {},
   "outputs": [
    {
     "data": {
      "text/plain": [
       "14451"
      ]
     },
     "execution_count": 67,
     "metadata": {},
     "output_type": "execute_result"
    }
   ],
   "source": [
    "len(df)"
   ]
  },
  {
   "cell_type": "code",
   "execution_count": 72,
   "id": "25f5beb0-1151-4f2b-ab8c-7b6e8ce228f0",
   "metadata": {},
   "outputs": [
    {
     "name": "stdout",
     "output_type": "stream",
     "text": [
      "<class 'str'>\n"
     ]
    }
   ],
   "source": [
    "print(type(df.iloc[4][\"referenced_tweet_id\"]))"
   ]
  },
  {
   "cell_type": "code",
   "execution_count": 73,
   "id": "a8b574d6-239e-4157-bb4b-8bf35f29edb5",
   "metadata": {},
   "outputs": [
    {
     "data": {
      "text/plain": [
       "'700578193334411264'"
      ]
     },
     "execution_count": 73,
     "metadata": {},
     "output_type": "execute_result"
    }
   ],
   "source": [
    "df.iloc[4][\"referenced_tweet_id\"]"
   ]
  },
  {
   "cell_type": "code",
   "execution_count": null,
   "id": "30e01b6d-9136-4a6f-ba4b-cdef99239a2a",
   "metadata": {},
   "outputs": [],
   "source": []
  }
 ],
 "metadata": {
  "kernelspec": {
   "display_name": "master_thesis_3.9.10",
   "language": "python",
   "name": "master_thesis_3.9.10"
  },
  "language_info": {
   "codemirror_mode": {
    "name": "ipython",
    "version": 3
   },
   "file_extension": ".py",
   "mimetype": "text/x-python",
   "name": "python",
   "nbconvert_exporter": "python",
   "pygments_lexer": "ipython3",
   "version": "3.9.10"
  }
 },
 "nbformat": 4,
 "nbformat_minor": 5
}
