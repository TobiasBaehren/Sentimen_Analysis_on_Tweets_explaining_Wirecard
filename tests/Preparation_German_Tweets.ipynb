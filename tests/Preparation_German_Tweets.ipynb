{
 "cells": [
  {
   "cell_type": "markdown",
   "id": "f6ae1ac2-0b2c-4578-9694-7040882deec9",
   "metadata": {},
   "source": [
    "<h1>Preparation of the German Twitter Data</h1>"
   ]
  },
  {
   "cell_type": "markdown",
   "id": "a323e70f-92a0-45e4-845f-b9d5aaa92fbb",
   "metadata": {},
   "source": [
    "<p>This file is for preparing the german tweets. The preparation is mainly for training my own model for sentiment detection with Flair. </p>"
   ]
  },
  {
   "cell_type": "code",
   "execution_count": 1,
   "id": "5d435d73-8df6-4ae8-8694-a8e75747958f",
   "metadata": {},
   "outputs": [],
   "source": [
    "import csv\n",
    "import numpy as np\n",
    "import pandas as pd\n",
    "import re\n",
    "import nltk"
   ]
  },
  {
   "cell_type": "markdown",
   "id": "75921e4f-1906-4f14-b6b4-0ee534677d54",
   "metadata": {},
   "source": [
    "<h1>Einlesen und bestimmung der Felder</h1>\n",
    "<p>Durch die weitern Operatoren, kann ich die einzelnen Felder in DF bestimmen. Durch die Lambda Funktion werden die Str zu Listen, was die spätere verarbeitung erleichtert. \n",
    "    Durch die Parse_dates Funktion wird das Datumsfeld zu einem Timestamp, was die weiter Verarbeitung wesentlich leichter macht.</p>"
   ]
  },
  {
   "cell_type": "code",
   "execution_count": 30,
   "id": "2e546077-cd87-49e0-b3a3-4cb63f9f353c",
   "metadata": {},
   "outputs": [],
   "source": [
    "df_manager_de = pd.read_csv(\"/Users/tobias/Dev/FOM/Master_Thesis/data/Manager_DE/data.csv\", sep=\";\", \n",
    "                            converters={\"tweet_type\": lambda x: x.strip(\"[]\").replace(\"'\", \"\").split(\", \"),\n",
    "                                        \"referenced_tweet_id\": lambda x: x.strip(\"[]\").replace(\"'\", \"\").split(\", \")},\n",
    "                           parse_dates=[\"created_at\"])"
   ]
  },
  {
   "cell_type": "code",
   "execution_count": 31,
   "id": "22b21fc9-fc5e-4403-8390-093caa12eb23",
   "metadata": {},
   "outputs": [
    {
     "data": {
      "text/html": [
       "<div>\n",
       "<style scoped>\n",
       "    .dataframe tbody tr th:only-of-type {\n",
       "        vertical-align: middle;\n",
       "    }\n",
       "\n",
       "    .dataframe tbody tr th {\n",
       "        vertical-align: top;\n",
       "    }\n",
       "\n",
       "    .dataframe thead th {\n",
       "        text-align: right;\n",
       "    }\n",
       "</style>\n",
       "<table border=\"1\" class=\"dataframe\">\n",
       "  <thead>\n",
       "    <tr style=\"text-align: right;\">\n",
       "      <th></th>\n",
       "      <th>conversation_id</th>\n",
       "      <th>author_id</th>\n",
       "      <th>created_at</th>\n",
       "      <th>tweet_id</th>\n",
       "      <th>lang</th>\n",
       "      <th>retweet_count</th>\n",
       "      <th>reply_count</th>\n",
       "      <th>like_count</th>\n",
       "      <th>quote_count</th>\n",
       "      <th>source</th>\n",
       "      <th>tweet_type</th>\n",
       "      <th>referenced_tweet_id</th>\n",
       "      <th>text</th>\n",
       "    </tr>\n",
       "  </thead>\n",
       "  <tbody>\n",
       "    <tr>\n",
       "      <th>0</th>\n",
       "      <td>703311366262800384</td>\n",
       "      <td>1392131804</td>\n",
       "      <td>2016-02-26 20:11:11+00:00</td>\n",
       "      <td>703311366262800384</td>\n",
       "      <td>de</td>\n",
       "      <td>0</td>\n",
       "      <td>0</td>\n",
       "      <td>2</td>\n",
       "      <td>0</td>\n",
       "      <td>Twitter Web Client</td>\n",
       "      <td>[None]</td>\n",
       "      <td>[None]</td>\n",
       "      <td>#Wirecard-Chef Markus Braun pumpt irrwitzige S...</td>\n",
       "    </tr>\n",
       "    <tr>\n",
       "      <th>1</th>\n",
       "      <td>702405572012974080</td>\n",
       "      <td>1053723204</td>\n",
       "      <td>2016-02-24 08:11:53+00:00</td>\n",
       "      <td>702405572012974080</td>\n",
       "      <td>de</td>\n",
       "      <td>0</td>\n",
       "      <td>0</td>\n",
       "      <td>0</td>\n",
       "      <td>0</td>\n",
       "      <td>Twitter Web Client</td>\n",
       "      <td>[None]</td>\n",
       "      <td>[None]</td>\n",
       "      <td>Jetzt günstig einsammeln und später absahnen? ...</td>\n",
       "    </tr>\n",
       "    <tr>\n",
       "      <th>2</th>\n",
       "      <td>701784983829143553</td>\n",
       "      <td>554491983</td>\n",
       "      <td>2016-02-22 15:05:53+00:00</td>\n",
       "      <td>701784983829143553</td>\n",
       "      <td>de</td>\n",
       "      <td>0</td>\n",
       "      <td>0</td>\n",
       "      <td>0</td>\n",
       "      <td>0</td>\n",
       "      <td>Facebook</td>\n",
       "      <td>[None]</td>\n",
       "      <td>[None]</td>\n",
       "      <td>Morgen startet die neue Reihe R²-JazzCube! Vol...</td>\n",
       "    </tr>\n",
       "    <tr>\n",
       "      <th>3</th>\n",
       "      <td>701446667170615296</td>\n",
       "      <td>3365669884</td>\n",
       "      <td>2016-02-21 16:41:32+00:00</td>\n",
       "      <td>701446667170615296</td>\n",
       "      <td>de</td>\n",
       "      <td>0</td>\n",
       "      <td>0</td>\n",
       "      <td>1</td>\n",
       "      <td>0</td>\n",
       "      <td>Twitter Web Client</td>\n",
       "      <td>[None]</td>\n",
       "      <td>[None]</td>\n",
       "      <td>die Y-Achse des  #prusai3 nimmt Formen an :-) ...</td>\n",
       "    </tr>\n",
       "    <tr>\n",
       "      <th>4</th>\n",
       "      <td>700597812556386304</td>\n",
       "      <td>4858383167</td>\n",
       "      <td>2016-02-19 08:28:29+00:00</td>\n",
       "      <td>700597812556386304</td>\n",
       "      <td>de</td>\n",
       "      <td>2</td>\n",
       "      <td>0</td>\n",
       "      <td>0</td>\n",
       "      <td>0</td>\n",
       "      <td>Twitter for iPhone</td>\n",
       "      <td>[retweeted]</td>\n",
       "      <td>[700578193334411264]</td>\n",
       "      <td>RT @aktionaer: #Wirecard: Was führt der Vorsta...</td>\n",
       "    </tr>\n",
       "  </tbody>\n",
       "</table>\n",
       "</div>"
      ],
      "text/plain": [
       "      conversation_id   author_id                created_at  \\\n",
       "0  703311366262800384  1392131804 2016-02-26 20:11:11+00:00   \n",
       "1  702405572012974080  1053723204 2016-02-24 08:11:53+00:00   \n",
       "2  701784983829143553   554491983 2016-02-22 15:05:53+00:00   \n",
       "3  701446667170615296  3365669884 2016-02-21 16:41:32+00:00   \n",
       "4  700597812556386304  4858383167 2016-02-19 08:28:29+00:00   \n",
       "\n",
       "             tweet_id lang  retweet_count  reply_count  like_count  \\\n",
       "0  703311366262800384   de              0            0           2   \n",
       "1  702405572012974080   de              0            0           0   \n",
       "2  701784983829143553   de              0            0           0   \n",
       "3  701446667170615296   de              0            0           1   \n",
       "4  700597812556386304   de              2            0           0   \n",
       "\n",
       "   quote_count              source   tweet_type   referenced_tweet_id  \\\n",
       "0            0  Twitter Web Client       [None]                [None]   \n",
       "1            0  Twitter Web Client       [None]                [None]   \n",
       "2            0            Facebook       [None]                [None]   \n",
       "3            0  Twitter Web Client       [None]                [None]   \n",
       "4            0  Twitter for iPhone  [retweeted]  [700578193334411264]   \n",
       "\n",
       "                                                text  \n",
       "0  #Wirecard-Chef Markus Braun pumpt irrwitzige S...  \n",
       "1  Jetzt günstig einsammeln und später absahnen? ...  \n",
       "2  Morgen startet die neue Reihe R²-JazzCube! Vol...  \n",
       "3  die Y-Achse des  #prusai3 nimmt Formen an :-) ...  \n",
       "4  RT @aktionaer: #Wirecard: Was führt der Vorsta...  "
      ]
     },
     "execution_count": 31,
     "metadata": {},
     "output_type": "execute_result"
    }
   ],
   "source": [
    "df_manager_de.head()"
   ]
  },
  {
   "cell_type": "markdown",
   "id": "37ffbe1a-795b-4f33-966f-1ab366681f46",
   "metadata": {},
   "source": [
    "<p>Prüfen welche Datenfelder in den einzelnen Zeilen enthalten sind. War wichtig um diese anpassen zu können.</p>"
   ]
  },
  {
   "cell_type": "code",
   "execution_count": 32,
   "id": "052a6f1c-58c3-45d1-8591-3553b3eb1662",
   "metadata": {},
   "outputs": [
    {
     "name": "stdout",
     "output_type": "stream",
     "text": [
      "conversation_id:  703311366262800384 type:  <class 'numpy.int64'>\n",
      "author_id:  1392131804 type:  <class 'numpy.int64'>\n",
      "created_at:  2016-02-26 20:11:11+00:00 type:  <class 'pandas._libs.tslibs.timestamps.Timestamp'>\n",
      "tweet_id:  703311366262800384 type:  <class 'numpy.int64'>\n",
      "lang:  de type:  <class 'str'>\n",
      "retweet_count:  0 type:  <class 'numpy.int64'>\n",
      "reply_count:  0 type:  <class 'numpy.int64'>\n",
      "like_count:  2 type:  <class 'numpy.int64'>\n",
      "quote_count:  0 type:  <class 'numpy.int64'>\n",
      "source:  Twitter Web Client type:  <class 'str'>\n",
      "tweet_type:  ['None'] type:  <class 'list'>\n",
      "referenced_tweet_id:  ['None'] type:  <class 'list'>\n",
      "text:  #Wirecard-Chef Markus Braun pumpt irrwitzige Summen in sein Unternehmen. Woher stammt das Geld? @SchreiberDohms  https://t.co/VdsV4nvBe4 type:  <class 'str'>\n"
     ]
    }
   ],
   "source": [
    "print(\"conversation_id: \", df_manager_de.iloc[0][\"conversation_id\"], \"type: \", type(df_manager_de.iloc[0][\"conversation_id\"]))\n",
    "print(\"author_id: \", df_manager_de.iloc[0][\"author_id\"], \"type: \", type(df_manager_de.iloc[0][\"author_id\"]))\n",
    "print(\"created_at: \", df_manager_de.iloc[0][\"created_at\"], \"type: \", type(df_manager_de.iloc[0][\"created_at\"]))\n",
    "print(\"tweet_id: \", df_manager_de.iloc[0][\"tweet_id\"], \"type: \", type(df_manager_de.iloc[0][\"tweet_id\"]))\n",
    "print(\"lang: \", df_manager_de.iloc[0][\"lang\"], \"type: \", type(df_manager_de.iloc[0][\"lang\"]))\n",
    "print(\"retweet_count: \", df_manager_de.iloc[0][\"retweet_count\"], \"type: \", type(df_manager_de.iloc[0][\"retweet_count\"]))\n",
    "print(\"reply_count: \", df_manager_de.iloc[0][\"reply_count\"], \"type: \", type(df_manager_de.iloc[0][\"reply_count\"]))\n",
    "print(\"like_count: \", df_manager_de.iloc[0][\"like_count\"], \"type: \", type(df_manager_de.iloc[0][\"like_count\"]))\n",
    "print(\"quote_count: \", df_manager_de.iloc[0][\"quote_count\"], \"type: \", type(df_manager_de.iloc[0][\"quote_count\"]))\n",
    "print(\"source: \", df_manager_de.iloc[0][\"source\"], \"type: \", type(df_manager_de.iloc[0][\"source\"]))\n",
    "print(\"tweet_type: \", df_manager_de.iloc[0][\"tweet_type\"], \"type: \", type(df_manager_de.iloc[0][\"tweet_type\"]))\n",
    "print(\"referenced_tweet_id: \", df_manager_de.iloc[0][\"referenced_tweet_id\"], \"type: \", type(df_manager_de.iloc[0][\"referenced_tweet_id\"]))\n",
    "print(\"text: \", df_manager_de.iloc[0][\"text\"], \"type: \", type(df_manager_de.iloc[0][\"text\"]))"
   ]
  },
  {
   "cell_type": "code",
   "execution_count": 17,
   "id": "0558e089-3d94-4f67-bc58-097d1a1f434c",
   "metadata": {},
   "outputs": [
    {
     "name": "stdout",
     "output_type": "stream",
     "text": [
      "tweet_type:  retweeted type:  <class 'str'>\n"
     ]
    }
   ],
   "source": [
    "print(\"tweet_type: \", df_manager_de.iloc[4][\"tweet_type\"][0], \"type: \", type(df_manager_de.iloc[4][\"tweet_type\"][0]))"
   ]
  },
  {
   "cell_type": "code",
   "execution_count": 18,
   "id": "36b34ac3-4fb6-4992-8e53-a07d746361f4",
   "metadata": {},
   "outputs": [
    {
     "name": "stdout",
     "output_type": "stream",
     "text": [
      "tweet_type:  ['retweeted'] type:  <class 'list'>\n"
     ]
    }
   ],
   "source": [
    "print(\"tweet_type: \", df_manager_de.iloc[4][\"tweet_type\"], \"type: \", type(df_manager_de.iloc[4][\"tweet_type\"]))"
   ]
  },
  {
   "cell_type": "code",
   "execution_count": 40,
   "id": "aed970df-e4ea-4fec-b7b0-0d4452e16e32",
   "metadata": {},
   "outputs": [
    {
     "data": {
      "text/plain": [
       "Timestamp('2016-02-26 20:11:11+0000', tz='UTC')"
      ]
     },
     "execution_count": 40,
     "metadata": {},
     "output_type": "execute_result"
    }
   ],
   "source": [
    "df_manager_de.iloc[0][\"created_at\"]"
   ]
  },
  {
   "cell_type": "code",
   "execution_count": 43,
   "id": "587a9b92-5b18-4a6e-87de-9ac75244d82c",
   "metadata": {},
   "outputs": [
    {
     "data": {
      "text/plain": [
       "4"
      ]
     },
     "execution_count": 43,
     "metadata": {},
     "output_type": "execute_result"
    }
   ],
   "source": [
    "df_manager_de.iloc[0][\"created_at\"].dayofweek"
   ]
  },
  {
   "cell_type": "code",
   "execution_count": 11,
   "id": "ff441108-5472-44a9-8816-4ea15b0dcd5b",
   "metadata": {},
   "outputs": [],
   "source": [
    "source_list = list(df_manager_de[\"source\"])"
   ]
  },
  {
   "cell_type": "code",
   "execution_count": 44,
   "id": "d054e494-ec13-4653-b6f0-33e01142073a",
   "metadata": {},
   "outputs": [
    {
     "name": "stdout",
     "output_type": "stream",
     "text": [
      "text:  #Wirecard-Chef Markus Braun pumpt irrwitzige Summen in sein Unternehmen. Woher stammt das Geld? @SchreiberDohms  https://t.co/VdsV4nvBe4 type:  <class 'str'>\n"
     ]
    }
   ],
   "source": [
    "print(\"text: \", df_manager_de.iloc[0][\"text\"], \"type: \", type(df_manager_de.iloc[0][\"text\"]))"
   ]
  },
  {
   "cell_type": "code",
   "execution_count": 45,
   "id": "fb3fa9a7-6807-4273-99e3-723de30e882d",
   "metadata": {},
   "outputs": [
    {
     "name": "stdout",
     "output_type": "stream",
     "text": [
      "Jap ist da\n"
     ]
    }
   ],
   "source": [
    "if \"Braun\" in df_manager_de.iloc[0][\"text\"]:\n",
    "    print(\"Jap ist da\")"
   ]
  },
  {
   "cell_type": "markdown",
   "id": "5d5f94c7-ad5a-4fe2-98f0-ce3ab26e5dc7",
   "metadata": {},
   "source": [
    "<p>So kann ich prüfen ob bestimmte Begriffe in den Texten enthalten sind und mir die conversation_id ausgeben lassen.</p>"
   ]
  },
  {
   "cell_type": "code",
   "execution_count": 50,
   "id": "7f105470-6d49-461e-8bfb-171f7748120e",
   "metadata": {},
   "outputs": [
    {
     "name": "stdout",
     "output_type": "stream",
     "text": [
      "722861750723284993\n",
      "722858374807822336\n",
      "739490204180992000\n",
      "798533984854544384\n",
      "798522085756678144\n",
      "798516440277995520\n",
      "926889966369689600\n",
      "984792434533191680\n",
      "984778759629885440\n",
      "1088115106519633920\n",
      "1260905841433198592\n",
      "1260900850077179905\n",
      "1260881271372288000\n",
      "1260880569224900610\n",
      "1278590734430547969\n",
      "1278581125951225858\n",
      "1278578905042034688\n",
      "1278569106493640704\n",
      "1278564053112295425\n",
      "1278443988769542151\n",
      "1278436721462513666\n",
      "1278435775441494016\n",
      "1278435182056542212\n",
      "1278434921594454019\n",
      "1278434819685441537\n",
      "1278434701418651650\n"
     ]
    }
   ],
   "source": [
    "for each in range(len(df_manager_de)):\n",
    "    if \"BVB\" in df_manager_de.iloc[each][\"text\"]:\n",
    "        print(df_manager_de.iloc[each][\"conversation_id\"])"
   ]
  },
  {
   "cell_type": "code",
   "execution_count": null,
   "id": "dc1821ec-dca9-4bb5-aff1-5e8cf8c939ae",
   "metadata": {},
   "outputs": [],
   "source": []
  },
  {
   "cell_type": "code",
   "execution_count": null,
   "id": "4d339341-d3b1-4b3f-96fc-fc079d5a349e",
   "metadata": {},
   "outputs": [],
   "source": []
  },
  {
   "cell_type": "code",
   "execution_count": 23,
   "id": "60bcbdf2-9500-402f-b578-2cbed955a5b4",
   "metadata": {},
   "outputs": [],
   "source": [
    "source_unique_list = list(np.unique(source_list))"
   ]
  },
  {
   "cell_type": "code",
   "execution_count": 27,
   "id": "afa8a692-dfe5-4573-9928-1a5b7d3a7627",
   "metadata": {},
   "outputs": [],
   "source": [
    "df_user_manager_de = pd.read_csv(\"/Users/tobias/Dev/FOM/Master_Thesis/data/Manager_DE/user.csv\", sep=\";\")"
   ]
  },
  {
   "cell_type": "code",
   "execution_count": 28,
   "id": "37e804f5-85d8-4ea9-ba7a-928e08fd6617",
   "metadata": {},
   "outputs": [
    {
     "data": {
      "text/html": [
       "<div>\n",
       "<style scoped>\n",
       "    .dataframe tbody tr th:only-of-type {\n",
       "        vertical-align: middle;\n",
       "    }\n",
       "\n",
       "    .dataframe tbody tr th {\n",
       "        vertical-align: top;\n",
       "    }\n",
       "\n",
       "    .dataframe thead th {\n",
       "        text-align: right;\n",
       "    }\n",
       "</style>\n",
       "<table border=\"1\" class=\"dataframe\">\n",
       "  <thead>\n",
       "    <tr style=\"text-align: right;\">\n",
       "      <th></th>\n",
       "      <th>user_id</th>\n",
       "      <th>username</th>\n",
       "      <th>name</th>\n",
       "      <th>follower</th>\n",
       "      <th>following</th>\n",
       "      <th>tweet_cound</th>\n",
       "      <th>list_count</th>\n",
       "      <th>verified</th>\n",
       "      <th>created_at</th>\n",
       "    </tr>\n",
       "  </thead>\n",
       "  <tbody>\n",
       "    <tr>\n",
       "      <th>0</th>\n",
       "      <td>1392131804</td>\n",
       "      <td>capitalMagazin</td>\n",
       "      <td>Capital</td>\n",
       "      <td>7669</td>\n",
       "      <td>436</td>\n",
       "      <td>6287</td>\n",
       "      <td>212</td>\n",
       "      <td>False</td>\n",
       "      <td>2013-04-30 13:55:36+00:00</td>\n",
       "    </tr>\n",
       "    <tr>\n",
       "      <th>1</th>\n",
       "      <td>1053723204</td>\n",
       "      <td>l_m_s15</td>\n",
       "      <td>Lukas Spang</td>\n",
       "      <td>2292</td>\n",
       "      <td>237</td>\n",
       "      <td>39499</td>\n",
       "      <td>92</td>\n",
       "      <td>False</td>\n",
       "      <td>2013-01-01 23:31:19+00:00</td>\n",
       "    </tr>\n",
       "    <tr>\n",
       "      <th>2</th>\n",
       "      <td>554491983</td>\n",
       "      <td>bvb_remmel</td>\n",
       "      <td>bvb.remmel</td>\n",
       "      <td>70</td>\n",
       "      <td>66</td>\n",
       "      <td>1831</td>\n",
       "      <td>0</td>\n",
       "      <td>False</td>\n",
       "      <td>2012-04-15 15:05:15+00:00</td>\n",
       "    </tr>\n",
       "    <tr>\n",
       "      <th>3</th>\n",
       "      <td>3365669884</td>\n",
       "      <td>MarkusB1980</td>\n",
       "      <td>Markus Braun</td>\n",
       "      <td>82</td>\n",
       "      <td>181</td>\n",
       "      <td>620</td>\n",
       "      <td>13</td>\n",
       "      <td>False</td>\n",
       "      <td>2015-07-08 08:43:24+00:00</td>\n",
       "    </tr>\n",
       "    <tr>\n",
       "      <th>4</th>\n",
       "      <td>4858383167</td>\n",
       "      <td>QuasselDax</td>\n",
       "      <td>PrivateTraderContact</td>\n",
       "      <td>8</td>\n",
       "      <td>17</td>\n",
       "      <td>61</td>\n",
       "      <td>4</td>\n",
       "      <td>False</td>\n",
       "      <td>2016-01-28 20:15:04+00:00</td>\n",
       "    </tr>\n",
       "  </tbody>\n",
       "</table>\n",
       "</div>"
      ],
      "text/plain": [
       "      user_id        username                  name  follower  following  \\\n",
       "0  1392131804  capitalMagazin               Capital      7669        436   \n",
       "1  1053723204         l_m_s15           Lukas Spang      2292        237   \n",
       "2   554491983      bvb_remmel            bvb.remmel        70         66   \n",
       "3  3365669884     MarkusB1980          Markus Braun        82        181   \n",
       "4  4858383167      QuasselDax  PrivateTraderContact         8         17   \n",
       "\n",
       "   tweet_cound  list_count  verified                 created_at  \n",
       "0         6287         212     False  2013-04-30 13:55:36+00:00  \n",
       "1        39499          92     False  2013-01-01 23:31:19+00:00  \n",
       "2         1831           0     False  2012-04-15 15:05:15+00:00  \n",
       "3          620          13     False  2015-07-08 08:43:24+00:00  \n",
       "4           61           4     False  2016-01-28 20:15:04+00:00  "
      ]
     },
     "execution_count": 28,
     "metadata": {},
     "output_type": "execute_result"
    }
   ],
   "source": [
    "df_user_manager_de.head()"
   ]
  },
  {
   "cell_type": "code",
   "execution_count": 35,
   "id": "3e8c1553-6e13-4f4b-83bd-6ac990ab2cfb",
   "metadata": {},
   "outputs": [
    {
     "data": {
      "text/plain": [
       "0                 NaN\n",
       "1                 NaN\n",
       "2                 NaN\n",
       "3        Markus Braun\n",
       "4                 NaN\n",
       "             ...     \n",
       "10407             NaN\n",
       "10408             NaN\n",
       "10409             NaN\n",
       "10410             NaN\n",
       "10411             NaN\n",
       "Name: name, Length: 10412, dtype: object"
      ]
     },
     "execution_count": 35,
     "metadata": {},
     "output_type": "execute_result"
    }
   ],
   "source": [
    "df_user_manager_de[\"name\"].where(df_user_manager_de[\"name\"] == \"Markus Braun\")"
   ]
  },
  {
   "cell_type": "code",
   "execution_count": 54,
   "id": "2a488175-e1f3-4e60-9fa1-012f227e37d7",
   "metadata": {},
   "outputs": [
    {
     "data": {
      "text/html": [
       "<div>\n",
       "<style scoped>\n",
       "    .dataframe tbody tr th:only-of-type {\n",
       "        vertical-align: middle;\n",
       "    }\n",
       "\n",
       "    .dataframe tbody tr th {\n",
       "        vertical-align: top;\n",
       "    }\n",
       "\n",
       "    .dataframe thead th {\n",
       "        text-align: right;\n",
       "    }\n",
       "</style>\n",
       "<table border=\"1\" class=\"dataframe\">\n",
       "  <thead>\n",
       "    <tr style=\"text-align: right;\">\n",
       "      <th></th>\n",
       "      <th>user_id</th>\n",
       "      <th>username</th>\n",
       "      <th>name</th>\n",
       "      <th>follower</th>\n",
       "      <th>following</th>\n",
       "      <th>tweet_cound</th>\n",
       "      <th>list_count</th>\n",
       "      <th>verified</th>\n",
       "      <th>created_at</th>\n",
       "    </tr>\n",
       "  </thead>\n",
       "  <tbody>\n",
       "    <tr>\n",
       "      <th>5980</th>\n",
       "      <td>348086065</td>\n",
       "      <td>Leineems</td>\n",
       "      <td>Markus</td>\n",
       "      <td>19</td>\n",
       "      <td>156</td>\n",
       "      <td>248</td>\n",
       "      <td>1</td>\n",
       "      <td>False</td>\n",
       "      <td>2011-08-03 21:16:41+00:00</td>\n",
       "    </tr>\n",
       "  </tbody>\n",
       "</table>\n",
       "</div>"
      ],
      "text/plain": [
       "        user_id  username    name  follower  following  tweet_cound  \\\n",
       "5980  348086065  Leineems  Markus        19        156          248   \n",
       "\n",
       "      list_count  verified                 created_at  \n",
       "5980           1     False  2011-08-03 21:16:41+00:00  "
      ]
     },
     "execution_count": 54,
     "metadata": {},
     "output_type": "execute_result"
    }
   ],
   "source": [
    "df_user_manager_de[df_user_manager_de[\"name\"].values == \"Markus\"]"
   ]
  },
  {
   "cell_type": "code",
   "execution_count": 48,
   "id": "3cfacad6-4fd5-4e44-806c-b70d36bc46d2",
   "metadata": {},
   "outputs": [
    {
     "data": {
      "text/plain": [
       "user_id                       3365669884\n",
       "username                     MarkusB1980\n",
       "name                        Markus Braun\n",
       "follower                              82\n",
       "following                            181\n",
       "tweet_cound                          620\n",
       "list_count                            13\n",
       "verified                           False\n",
       "created_at     2015-07-08 08:43:24+00:00\n",
       "Name: 18, dtype: object"
      ]
     },
     "execution_count": 48,
     "metadata": {},
     "output_type": "execute_result"
    }
   ],
   "source": [
    "df_user_manager_de.iloc[18]"
   ]
  },
  {
   "cell_type": "code",
   "execution_count": null,
   "id": "bab9a491-ced7-4af4-93b9-942e16326702",
   "metadata": {},
   "outputs": [],
   "source": []
  }
 ],
 "metadata": {
  "kernelspec": {
   "display_name": "master_thesis_3.9.10",
   "language": "python",
   "name": "master_thesis_3.9.10"
  },
  "language_info": {
   "codemirror_mode": {
    "name": "ipython",
    "version": 3
   },
   "file_extension": ".py",
   "mimetype": "text/x-python",
   "name": "python",
   "nbconvert_exporter": "python",
   "pygments_lexer": "ipython3",
   "version": "3.9.10"
  }
 },
 "nbformat": 4,
 "nbformat_minor": 5
}
