{
 "cells": [
  {
   "cell_type": "markdown",
   "id": "f6ae1ac2-0b2c-4578-9694-7040882deec9",
   "metadata": {},
   "source": [
    "<h1>Preparation of the German Twitter Data</h1>"
   ]
  },
  {
   "cell_type": "markdown",
   "id": "a323e70f-92a0-45e4-845f-b9d5aaa92fbb",
   "metadata": {},
   "source": [
    "<p>This file is for preparing the german tweets. The preparation is mainly for training my own model for sentiment detection with Flair. </p>"
   ]
  },
  {
   "cell_type": "code",
   "execution_count": 1,
   "id": "5d435d73-8df6-4ae8-8694-a8e75747958f",
   "metadata": {},
   "outputs": [],
   "source": [
    "import csv\n",
    "import numpy as np\n",
    "import pandas as pd\n",
    "import re\n",
    "import nltk"
   ]
  },
  {
   "cell_type": "markdown",
   "id": "75921e4f-1906-4f14-b6b4-0ee534677d54",
   "metadata": {},
   "source": [
    "<h1>Einlesen und bestimmung der Felder</h1>\n",
    "<p>Durch die weitern Operatoren, kann ich die einzelnen Felder in DF bestimmen. Durch die Lambda Funktion werden die Str zu Listen, was die spätere verarbeitung erleichtert. \n",
    "    Durch die Parse_dates Funktion wird das Datumsfeld zu einem Timestamp, was die weiter Verarbeitung wesentlich leichter macht.</p>"
   ]
  },
  {
   "cell_type": "code",
   "execution_count": 226,
   "id": "2e546077-cd87-49e0-b3a3-4cb63f9f353c",
   "metadata": {},
   "outputs": [],
   "source": [
    "df_manager_de = pd.read_csv(\"/Users/tobias/Dev/FOM/Master_Thesis/data/Manager_DE/data.csv\", sep=\";\", \n",
    "                            converters={\"tweet_type\": lambda x: x.strip(\"[]\").replace(\"'\", \"\").split(\", \"),\n",
    "                                        \"referenced_tweet_id\": lambda x: x.strip(\"[]\").replace(\"'\", \"\").split(\", \")},\n",
    "                           parse_dates=[\"created_at\"])\n",
    "df_manager_de = df_manager_de.explode([\"referenced_tweet_id\", \"tweet_type\"], ignore_index=True)"
   ]
  },
  {
   "cell_type": "code",
   "execution_count": 227,
   "id": "22b21fc9-fc5e-4403-8390-093caa12eb23",
   "metadata": {
    "collapsed": true,
    "jupyter": {
     "outputs_hidden": true
    },
    "tags": []
   },
   "outputs": [
    {
     "data": {
      "text/html": [
       "<div>\n",
       "<style scoped>\n",
       "    .dataframe tbody tr th:only-of-type {\n",
       "        vertical-align: middle;\n",
       "    }\n",
       "\n",
       "    .dataframe tbody tr th {\n",
       "        vertical-align: top;\n",
       "    }\n",
       "\n",
       "    .dataframe thead th {\n",
       "        text-align: right;\n",
       "    }\n",
       "</style>\n",
       "<table border=\"1\" class=\"dataframe\">\n",
       "  <thead>\n",
       "    <tr style=\"text-align: right;\">\n",
       "      <th></th>\n",
       "      <th>conversation_id</th>\n",
       "      <th>author_id</th>\n",
       "      <th>created_at</th>\n",
       "      <th>tweet_id</th>\n",
       "      <th>lang</th>\n",
       "      <th>retweet_count</th>\n",
       "      <th>reply_count</th>\n",
       "      <th>like_count</th>\n",
       "      <th>quote_count</th>\n",
       "      <th>source</th>\n",
       "      <th>tweet_type</th>\n",
       "      <th>referenced_tweet_id</th>\n",
       "      <th>text</th>\n",
       "    </tr>\n",
       "  </thead>\n",
       "  <tbody>\n",
       "    <tr>\n",
       "      <th>0</th>\n",
       "      <td>703311366262800384</td>\n",
       "      <td>1392131804</td>\n",
       "      <td>2016-02-26 20:11:11+00:00</td>\n",
       "      <td>703311366262800384</td>\n",
       "      <td>de</td>\n",
       "      <td>0</td>\n",
       "      <td>0</td>\n",
       "      <td>2</td>\n",
       "      <td>0</td>\n",
       "      <td>Twitter Web Client</td>\n",
       "      <td>None</td>\n",
       "      <td>None</td>\n",
       "      <td>#Wirecard-Chef Markus Braun pumpt irrwitzige S...</td>\n",
       "    </tr>\n",
       "    <tr>\n",
       "      <th>1</th>\n",
       "      <td>702405572012974080</td>\n",
       "      <td>1053723204</td>\n",
       "      <td>2016-02-24 08:11:53+00:00</td>\n",
       "      <td>702405572012974080</td>\n",
       "      <td>de</td>\n",
       "      <td>0</td>\n",
       "      <td>0</td>\n",
       "      <td>0</td>\n",
       "      <td>0</td>\n",
       "      <td>Twitter Web Client</td>\n",
       "      <td>None</td>\n",
       "      <td>None</td>\n",
       "      <td>Jetzt günstig einsammeln und später absahnen? ...</td>\n",
       "    </tr>\n",
       "    <tr>\n",
       "      <th>2</th>\n",
       "      <td>701784983829143553</td>\n",
       "      <td>554491983</td>\n",
       "      <td>2016-02-22 15:05:53+00:00</td>\n",
       "      <td>701784983829143553</td>\n",
       "      <td>de</td>\n",
       "      <td>0</td>\n",
       "      <td>0</td>\n",
       "      <td>0</td>\n",
       "      <td>0</td>\n",
       "      <td>Facebook</td>\n",
       "      <td>None</td>\n",
       "      <td>None</td>\n",
       "      <td>Morgen startet die neue Reihe R²-JazzCube! Vol...</td>\n",
       "    </tr>\n",
       "    <tr>\n",
       "      <th>3</th>\n",
       "      <td>701446667170615296</td>\n",
       "      <td>3365669884</td>\n",
       "      <td>2016-02-21 16:41:32+00:00</td>\n",
       "      <td>701446667170615296</td>\n",
       "      <td>de</td>\n",
       "      <td>0</td>\n",
       "      <td>0</td>\n",
       "      <td>1</td>\n",
       "      <td>0</td>\n",
       "      <td>Twitter Web Client</td>\n",
       "      <td>None</td>\n",
       "      <td>None</td>\n",
       "      <td>die Y-Achse des  #prusai3 nimmt Formen an :-) ...</td>\n",
       "    </tr>\n",
       "    <tr>\n",
       "      <th>4</th>\n",
       "      <td>700597812556386304</td>\n",
       "      <td>4858383167</td>\n",
       "      <td>2016-02-19 08:28:29+00:00</td>\n",
       "      <td>700597812556386304</td>\n",
       "      <td>de</td>\n",
       "      <td>2</td>\n",
       "      <td>0</td>\n",
       "      <td>0</td>\n",
       "      <td>0</td>\n",
       "      <td>Twitter for iPhone</td>\n",
       "      <td>retweeted</td>\n",
       "      <td>700578193334411264</td>\n",
       "      <td>RT @aktionaer: #Wirecard: Was führt der Vorsta...</td>\n",
       "    </tr>\n",
       "  </tbody>\n",
       "</table>\n",
       "</div>"
      ],
      "text/plain": [
       "      conversation_id   author_id                created_at  \\\n",
       "0  703311366262800384  1392131804 2016-02-26 20:11:11+00:00   \n",
       "1  702405572012974080  1053723204 2016-02-24 08:11:53+00:00   \n",
       "2  701784983829143553   554491983 2016-02-22 15:05:53+00:00   \n",
       "3  701446667170615296  3365669884 2016-02-21 16:41:32+00:00   \n",
       "4  700597812556386304  4858383167 2016-02-19 08:28:29+00:00   \n",
       "\n",
       "             tweet_id lang  retweet_count  reply_count  like_count  \\\n",
       "0  703311366262800384   de              0            0           2   \n",
       "1  702405572012974080   de              0            0           0   \n",
       "2  701784983829143553   de              0            0           0   \n",
       "3  701446667170615296   de              0            0           1   \n",
       "4  700597812556386304   de              2            0           0   \n",
       "\n",
       "   quote_count              source tweet_type referenced_tweet_id  \\\n",
       "0            0  Twitter Web Client       None                None   \n",
       "1            0  Twitter Web Client       None                None   \n",
       "2            0            Facebook       None                None   \n",
       "3            0  Twitter Web Client       None                None   \n",
       "4            0  Twitter for iPhone  retweeted  700578193334411264   \n",
       "\n",
       "                                                text  \n",
       "0  #Wirecard-Chef Markus Braun pumpt irrwitzige S...  \n",
       "1  Jetzt günstig einsammeln und später absahnen? ...  \n",
       "2  Morgen startet die neue Reihe R²-JazzCube! Vol...  \n",
       "3  die Y-Achse des  #prusai3 nimmt Formen an :-) ...  \n",
       "4  RT @aktionaer: #Wirecard: Was führt der Vorsta...  "
      ]
     },
     "execution_count": 227,
     "metadata": {},
     "output_type": "execute_result"
    }
   ],
   "source": [
    "df_manager_de.head()"
   ]
  },
  {
   "cell_type": "markdown",
   "id": "37ffbe1a-795b-4f33-966f-1ab366681f46",
   "metadata": {},
   "source": [
    "<br>\n",
    "<p>Prüfen welche Datenfelder in den einzelnen Zeilen enthalten sind. War wichtig um diese anpassen zu können.</p>"
   ]
  },
  {
   "cell_type": "code",
   "execution_count": 4,
   "id": "052a6f1c-58c3-45d1-8591-3553b3eb1662",
   "metadata": {
    "collapsed": true,
    "jupyter": {
     "outputs_hidden": true,
     "source_hidden": true
    },
    "tags": []
   },
   "outputs": [
    {
     "name": "stdout",
     "output_type": "stream",
     "text": [
      "conversation_id:  703311366262800384 type:  <class 'numpy.int64'>\n",
      "author_id:  1392131804 type:  <class 'numpy.int64'>\n",
      "created_at:  2016-02-26 20:11:11+00:00 type:  <class 'pandas._libs.tslibs.timestamps.Timestamp'>\n",
      "tweet_id:  703311366262800384 type:  <class 'numpy.int64'>\n",
      "lang:  de type:  <class 'str'>\n",
      "retweet_count:  0 type:  <class 'numpy.int64'>\n",
      "reply_count:  0 type:  <class 'numpy.int64'>\n",
      "like_count:  2 type:  <class 'numpy.int64'>\n",
      "quote_count:  0 type:  <class 'numpy.int64'>\n",
      "source:  Twitter Web Client type:  <class 'str'>\n",
      "tweet_type:  ['None'] type:  <class 'list'>\n",
      "referenced_tweet_id:  ['None'] type:  <class 'list'>\n",
      "text:  #Wirecard-Chef Markus Braun pumpt irrwitzige Summen in sein Unternehmen. Woher stammt das Geld? @SchreiberDohms  https://t.co/VdsV4nvBe4 type:  <class 'str'>\n"
     ]
    }
   ],
   "source": [
    "print(\"conversation_id: \", df_manager_de.iloc[0][\"conversation_id\"], \"type: \", type(df_manager_de.iloc[0][\"conversation_id\"]))\n",
    "print(\"author_id: \", df_manager_de.iloc[0][\"author_id\"], \"type: \", type(df_manager_de.iloc[0][\"author_id\"]))\n",
    "print(\"created_at: \", df_manager_de.iloc[0][\"created_at\"], \"type: \", type(df_manager_de.iloc[0][\"created_at\"]))\n",
    "print(\"tweet_id: \", df_manager_de.iloc[0][\"tweet_id\"], \"type: \", type(df_manager_de.iloc[0][\"tweet_id\"]))\n",
    "print(\"lang: \", df_manager_de.iloc[0][\"lang\"], \"type: \", type(df_manager_de.iloc[0][\"lang\"]))\n",
    "print(\"retweet_count: \", df_manager_de.iloc[0][\"retweet_count\"], \"type: \", type(df_manager_de.iloc[0][\"retweet_count\"]))\n",
    "print(\"reply_count: \", df_manager_de.iloc[0][\"reply_count\"], \"type: \", type(df_manager_de.iloc[0][\"reply_count\"]))\n",
    "print(\"like_count: \", df_manager_de.iloc[0][\"like_count\"], \"type: \", type(df_manager_de.iloc[0][\"like_count\"]))\n",
    "print(\"quote_count: \", df_manager_de.iloc[0][\"quote_count\"], \"type: \", type(df_manager_de.iloc[0][\"quote_count\"]))\n",
    "print(\"source: \", df_manager_de.iloc[0][\"source\"], \"type: \", type(df_manager_de.iloc[0][\"source\"]))\n",
    "print(\"tweet_type: \", df_manager_de.iloc[0][\"tweet_type\"], \"type: \", type(df_manager_de.iloc[0][\"tweet_type\"]))\n",
    "print(\"referenced_tweet_id: \", df_manager_de.iloc[0][\"referenced_tweet_id\"], \"type: \", type(df_manager_de.iloc[0][\"referenced_tweet_id\"]))\n",
    "print(\"text: \", df_manager_de.iloc[0][\"text\"], \"type: \", type(df_manager_de.iloc[0][\"text\"]))"
   ]
  },
  {
   "cell_type": "markdown",
   "id": "afc009d8-9b2e-491f-8e13-b4e8b7658a44",
   "metadata": {},
   "source": [
    "<h3>Löschen von unnötigen Informationen</h3>\n",
    "<p>Hier werden Informationen aus den Tweets Texten, die nicht weiter benötigt werden. Bspw. Links</p>"
   ]
  },
  {
   "cell_type": "code",
   "execution_count": 30,
   "id": "86e7ed3f-d0f4-46bc-a651-d575074bfbd6",
   "metadata": {
    "tags": []
   },
   "outputs": [],
   "source": [
    "for each in range(len(df_manager_de)):\n",
    "    df_manager_de.loc[df_manager_de[\"text\"] == df_manager_de.loc[each][\"text\"], \"text\"] = re.sub(r'http\\S+', '', df_manager_de.loc[each][\"text\"])"
   ]
  },
  {
   "cell_type": "markdown",
   "id": "5d5f94c7-ad5a-4fe2-98f0-ce3ab26e5dc7",
   "metadata": {},
   "source": [
    "<br>\n",
    "<h3>Nicht Kontextbezogene Tweets löschen</h3>\n",
    "<p>So kann ich prüfen ob bestimmte Begriffe in den Texten enthalten sind und mir die conversation_id ausgeben lassen. Diese lasse ich dann löschen und auch zugehörige Tweets, da diese nicht in den Kontext passen.</p>\n",
    "<p>Zu löschende Begriffe</p>\n",
    "<ul>\n",
    "    <li>BVB</li>\n",
    "    <li>Fußball</li>\n",
    "    <li>Fussball</li>\n",
    "    <li>Dortmund</li>\n",
    "</ul>"
   ]
  },
  {
   "cell_type": "code",
   "execution_count": 228,
   "id": "d627b796-c527-487d-ac75-ee8a063d7afa",
   "metadata": {},
   "outputs": [],
   "source": [
    "tweet_id_without_context_list = []\n",
    "for each in range(len(df_manager_de)):\n",
    "    if (\"BVB\" or \"Fußball\" or \"Fussball\" or \"Dortmund\") in df_manager_de.iloc[each][\"text\"]:\n",
    "        if df_manager_de.iloc[each][\"tweet_id\"] not in tweet_id_without_context_list:\n",
    "            tweet_id_without_context_list.append(df_manager_de.iloc[each][\"tweet_id\"])"
   ]
  },
  {
   "cell_type": "markdown",
   "id": "1c0baab9-792f-45bc-8a26-d4e16390d3fc",
   "metadata": {},
   "source": [
    "<p>Iteration durch die Liste mit zu löschenden Tweets, bis der Wert zu Beginn und zum Ende gleich ist und es keine\n",
    "weiteren Tweets mehr gibt, die gefiltert werden müssen. </p>"
   ]
  },
  {
   "cell_type": "code",
   "execution_count": 229,
   "id": "6957ed56-d9ae-4101-955d-ace28cc44e86",
   "metadata": {
    "tags": []
   },
   "outputs": [],
   "source": [
    "def check_for_further_tweets():\n",
    "    start_len = len(tweet_id_without_context_list)\n",
    "    for each in range(len(tweet_id_without_context_list)):\n",
    "        df_tweets = df_manager_de.loc[(df_manager_de[\"conversation_id\"] == tweet_id_without_context_list[each]) | \n",
    "               (df_manager_de[\"referenced_tweet_id\"] == str(tweet_id_without_context_list[each]))]\n",
    "\n",
    "        for each in range(len(df_tweets)):\n",
    "            if df_tweets.iloc[each][\"tweet_id\"] not in tweet_id_without_context_list:\n",
    "                tweet_id_without_context_list.append(df_tweets.iloc[each][\"tweet_id\"])\n",
    "                \n",
    "    if start_len != len(tweet_id_without_context_list):\n",
    "        check_for_further_tweets()\n",
    "check_for_further_tweets()"
   ]
  },
  {
   "cell_type": "markdown",
   "id": "ad363973-9aa2-4fbd-971f-e64be6d42827",
   "metadata": {
    "jp-MarkdownHeadingCollapsed": true,
    "tags": []
   },
   "source": [
    "<br>\n",
    "<h4>Check</h4>\n",
    "<p>Aufrufen einer Line um zu prüfen, welche Informationen enthalten sind.<br>\n",
    "    Den Index abrufen um mir nur den Text in voller Länge anzeigen zu lassen, da dieser sonst gekürzt ist.</p>\n",
    "   "
   ]
  },
  {
   "cell_type": "code",
   "execution_count": 69,
   "id": "dc1821ec-dca9-4bb5-aff1-5e8cf8c939ae",
   "metadata": {},
   "outputs": [
    {
     "data": {
      "text/html": [
       "<div>\n",
       "<style scoped>\n",
       "    .dataframe tbody tr th:only-of-type {\n",
       "        vertical-align: middle;\n",
       "    }\n",
       "\n",
       "    .dataframe tbody tr th {\n",
       "        vertical-align: top;\n",
       "    }\n",
       "\n",
       "    .dataframe thead th {\n",
       "        text-align: right;\n",
       "    }\n",
       "</style>\n",
       "<table border=\"1\" class=\"dataframe\">\n",
       "  <thead>\n",
       "    <tr style=\"text-align: right;\">\n",
       "      <th></th>\n",
       "      <th>conversation_id</th>\n",
       "      <th>author_id</th>\n",
       "      <th>created_at</th>\n",
       "      <th>tweet_id</th>\n",
       "      <th>lang</th>\n",
       "      <th>retweet_count</th>\n",
       "      <th>reply_count</th>\n",
       "      <th>like_count</th>\n",
       "      <th>quote_count</th>\n",
       "      <th>source</th>\n",
       "      <th>tweet_type</th>\n",
       "      <th>referenced_tweet_id</th>\n",
       "      <th>text</th>\n",
       "    </tr>\n",
       "  </thead>\n",
       "  <tbody>\n",
       "  </tbody>\n",
       "</table>\n",
       "</div>"
      ],
      "text/plain": [
       "Empty DataFrame\n",
       "Columns: [conversation_id, author_id, created_at, tweet_id, lang, retweet_count, reply_count, like_count, quote_count, source, tweet_type, referenced_tweet_id, text]\n",
       "Index: []"
      ]
     },
     "execution_count": 69,
     "metadata": {},
     "output_type": "execute_result"
    }
   ],
   "source": [
    "df_manager_de.loc[df_manager_de[\"conversation_id\"] == 1098841597582737409]"
   ]
  },
  {
   "cell_type": "code",
   "execution_count": 49,
   "id": "25dbaf89-63a2-4055-960d-52e9bf2abd01",
   "metadata": {},
   "outputs": [
    {
     "data": {
      "text/plain": [
       "'RT @RNBVB: 👨🏻\\u200d⚕️ Dr. Markus #Braun ist vom Nachrichtenmagazin #Focus als \"Top-Mediziner\" in Deutschland ausgezeichnet worden. Zuletzt arbei…'"
      ]
     },
     "execution_count": 49,
     "metadata": {},
     "output_type": "execute_result"
    }
   ],
   "source": [
    "df_manager_de.loc[df_manager_de.index[df_manager_de[\"conversation_id\"] == 1278435775441494016].tolist()[0]][\"text\"]"
   ]
  },
  {
   "cell_type": "code",
   "execution_count": 48,
   "id": "e5ce61ee-8465-4f31-b132-ab852e0003ee",
   "metadata": {},
   "outputs": [
    {
     "name": "stdout",
     "output_type": "stream",
     "text": [
      "14209\n"
     ]
    }
   ],
   "source": [
    "print(df_manager_de.index[df_manager_de[\"conversation_id\"] == 1278435775441494016].tolist()[0])"
   ]
  },
  {
   "cell_type": "code",
   "execution_count": 36,
   "id": "4d339341-d3b1-4b3f-96fc-fc079d5a349e",
   "metadata": {},
   "outputs": [
    {
     "data": {
      "text/plain": [
       "'RT @RNBVB: 👨🏻\\u200d⚕️ Dr. Markus #Braun ist vom Nachrichtenmagazin #Focus als \"Top-Mediziner\" in Deutschland ausgezeichnet worden. Zuletzt arbei…'"
      ]
     },
     "execution_count": 36,
     "metadata": {},
     "output_type": "execute_result"
    }
   ],
   "source": [
    "df_manager_de.loc[14209][\"text\"]"
   ]
  },
  {
   "cell_type": "markdown",
   "id": "d33fa8c2-c3a8-4377-bec3-336dfb42db39",
   "metadata": {},
   "source": [
    "<br>\n",
    "<h3>Löschen von Retweets</h3>\n",
    "<p>Alle Retweets löschen, da diese in diesem Schritt nicht benötigt werden.</p>"
   ]
  },
  {
   "cell_type": "code",
   "execution_count": 42,
   "id": "80f62e59-e2bb-485a-a2c1-6a4df6a68f66",
   "metadata": {},
   "outputs": [
    {
     "name": "stdout",
     "output_type": "stream",
     "text": [
      "5455\n"
     ]
    }
   ],
   "source": [
    "counter = 0\n",
    "retweet_list = []\n",
    "for each in range(len(df_manager_de)):\n",
    "    if \"retweeted\" in df_manager_de.iloc[each][\"tweet_type\"]:\n",
    "        retweet_list.append(each)\n",
    "        counter += 1\n",
    "print(counter)"
   ]
  },
  {
   "cell_type": "code",
   "execution_count": 43,
   "id": "d5b331e1-be63-4506-a5c0-ef67f8f3dffb",
   "metadata": {},
   "outputs": [],
   "source": [
    "df_manager_de = df_manager_de.drop(retweet_list)"
   ]
  },
  {
   "cell_type": "markdown",
   "id": "6b52d25c-5bd4-4729-8137-ed4a20402cca",
   "metadata": {},
   "source": [
    "<h4>Dupplikate löschen</h4>\n",
    "<p>Löschen von Tweets, die doppelt sind</p>"
   ]
  },
  {
   "cell_type": "code",
   "execution_count": 47,
   "id": "018c9df3-95dd-4acf-a297-eb34bedf1991",
   "metadata": {},
   "outputs": [],
   "source": [
    "df_manager_de = df_manager_de.drop_duplicates(subset=[\"text\"])"
   ]
  },
  {
   "cell_type": "code",
   "execution_count": null,
   "id": "9b7df425-c5b7-46b6-acee-47fcfce8fef1",
   "metadata": {},
   "outputs": [],
   "source": []
  },
  {
   "cell_type": "code",
   "execution_count": null,
   "id": "08b8299d-8200-474c-b09e-9813ca5a0879",
   "metadata": {},
   "outputs": [],
   "source": []
  },
  {
   "cell_type": "code",
   "execution_count": null,
   "id": "30e01b6d-9136-4a6f-ba4b-cdef99239a2a",
   "metadata": {},
   "outputs": [],
   "source": []
  }
 ],
 "metadata": {
  "kernelspec": {
   "display_name": "master_thesis_3.9.10",
   "language": "python",
   "name": "master_thesis_3.9.10"
  },
  "language_info": {
   "codemirror_mode": {
    "name": "ipython",
    "version": 3
   },
   "file_extension": ".py",
   "mimetype": "text/x-python",
   "name": "python",
   "nbconvert_exporter": "python",
   "pygments_lexer": "ipython3",
   "version": "3.9.10"
  }
 },
 "nbformat": 4,
 "nbformat_minor": 5
}
