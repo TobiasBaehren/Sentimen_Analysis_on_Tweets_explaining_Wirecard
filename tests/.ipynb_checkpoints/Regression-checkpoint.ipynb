{
 "cells": [
  {
   "cell_type": "markdown",
   "id": "47093d6d-889a-47ee-93a9-3a6e15befb75",
   "metadata": {},
   "source": [
    "<h1>Regression</h1>"
   ]
  },
  {
   "cell_type": "code",
   "execution_count": 1,
   "id": "2e0ad4c4-ce1f-435b-bf35-6348dead72aa",
   "metadata": {},
   "outputs": [],
   "source": [
    "import csv\n",
    "import numpy as np\n",
    "import pandas as pd\n",
    "import re\n",
    "import datetime\n",
    "import matplotlib.pyplot as plt\n",
    "from sklearn.linear_model import LinearRegression\n",
    "from sklearn.model_selection import train_test_split\n",
    "import statsmodels.api as sm\n",
    "\n",
    "from sklearn.metrics import mean_squared_error\n",
    "from sklearn.metrics import r2_score"
   ]
  },
  {
   "cell_type": "markdown",
   "id": "dd99c6db-569c-443e-b171-d9011c7b31fb",
   "metadata": {
    "jp-MarkdownHeadingCollapsed": true,
    "tags": []
   },
   "source": [
    "<h2>Laden der Daten</h2>"
   ]
  },
  {
   "cell_type": "code",
   "execution_count": 2,
   "id": "12ed4d25-7844-41a3-b88b-855e6bf83631",
   "metadata": {},
   "outputs": [],
   "source": [
    "df_de = pd.read_csv(\"/Users/tobias/Dev/FOM/Master_Thesis/data/Sentiment_Analysis/Dataset_DE_Bert_Vader.csv\", sep=\";\",\n",
    "                parse_dates=[\"created_at\"])\n",
    "\n",
    "df_de[\"Date\"] = pd.to_datetime(df_de.created_at).apply(lambda x: x.date())\n",
    "df_de[\"sentiment_bert\"] = df_de[\"sentiment_bert\"].replace([\"neutral\", \"negative\", \"positive\"], [\"NEU\", \"NEG\", \"POS\"])\n",
    "#df[\"sentiment_vader\"] = df[\"sentiment_vader\"].replace([\"0\", \"-1\", \"1\"], [\"NEU\", \"NEG\", \"POS\"])"
   ]
  },
  {
   "cell_type": "code",
   "execution_count": 3,
   "id": "b26d23cf-6028-49a4-9737-4b783c210305",
   "metadata": {},
   "outputs": [],
   "source": [
    "df_en = pd.read_csv(\"/Users/tobias/Dev/FOM/Master_Thesis/data/Sentiment_Analysis/Dataset_Bert_Vader.csv\", sep=\";\",\n",
    "                parse_dates=[\"created_at\"])\n",
    "\n",
    "df_en[\"Date\"] = pd.to_datetime(df_en.created_at).apply(lambda x: x.date())"
   ]
  },
  {
   "cell_type": "code",
   "execution_count": 4,
   "id": "1b0845c1-8373-46e3-af29-2d24417f27e4",
   "metadata": {},
   "outputs": [],
   "source": [
    "df = pd.concat([df_en, df_de]).reset_index(drop=True)"
   ]
  },
  {
   "cell_type": "code",
   "execution_count": 5,
   "id": "1ed25982-02da-4af4-ae2f-cbdca60134ac",
   "metadata": {},
   "outputs": [],
   "source": [
    "df_wdi = pd.read_csv(\"/Users/tobias/Dev/FOM/Master_Thesis/data/WDI.HM-2.csv\", parse_dates=[\"Date\"])\n",
    "df_wdi = df_wdi.rename(columns={\"Adj Close\": \"Adj_Close\"})"
   ]
  },
  {
   "cell_type": "markdown",
   "id": "520624b6-a108-4ef6-a29a-2403662705ba",
   "metadata": {
    "jp-MarkdownHeadingCollapsed": true,
    "tags": []
   },
   "source": [
    "<h2>Vorverarbeitung der Daten</h2>"
   ]
  },
  {
   "cell_type": "code",
   "execution_count": 6,
   "id": "5cdec816-dd18-40d8-8519-3e8566c1e051",
   "metadata": {},
   "outputs": [],
   "source": [
    "#Berechnung der Returns für Log\n",
    "df_wdi[\"returns\"] = np.log(df_wdi.Close.pct_change() + 1)\n",
    "df_wdi[\"returns_2\"] = df_wdi.Close.pct_change() + 1\n",
    "#df_wdi[\"returns_5\"] = df_wdi.Close.pct_change(periods=5) + 1\n",
    "\n",
    "#Change Date für df_wdi & df\n",
    "df_wdi[\"Date\"] = pd.to_datetime(df_wdi.Date).apply(lambda x: x.date())\n"
   ]
  },
  {
   "cell_type": "code",
   "execution_count": 7,
   "id": "5fa5d9c1-0b64-44b4-9b46-c6a79c4455d7",
   "metadata": {},
   "outputs": [],
   "source": [
    "#Berechnung der Lags\n",
    "def lagit(df, lags, shifter, drop=False):\n",
    "    names = []\n",
    "    for each in shifter:\n",
    "        for i in range(1, lags+1):\n",
    "            df[\"Lag_\"+each+\"_\"+str(i)] = df[each].shift(i)\n",
    "            names.append(\"Lag_\"+each+\"_\"+str(i))\n",
    "    if drop:\n",
    "        df.dropna(inplace=True)\n",
    "        df = df.reset_index(drop=True)\n",
    "    return names, df"
   ]
  },
  {
   "cell_type": "code",
   "execution_count": 8,
   "id": "ecb3a637-2b9e-4d27-b593-b290486d7465",
   "metadata": {},
   "outputs": [],
   "source": [
    "#Create a Support DF to calculate all different values, that might be useful.\n",
    "def sup_df_for_calculations(df_test, sentiment = \"sentiment_bert\"):\n",
    "    \n",
    "    \n",
    "    #Create the support df with the conversation id and the date from the df\n",
    "    df_sup = df_test[[\"conversation_id\", \"Date\"]].groupby(by=[\"Date\"]).count().reset_index().rename(columns={\"conversation_id\": \"count_tweets_all\"})\n",
    "\n",
    "    #Add Number of POS Tweets to DF\n",
    "    df_sup = df_sup.merge(df_test.loc[df_test[sentiment] == \"POS\"][[\"tweet_id\", \"Date\"]].groupby(by=[\"Date\"]).count().reset_index(), \n",
    "                                    how=\"left\",\n",
    "                                    on=\"Date\").rename(columns={\"tweet_id\": \"count_tweets_pos\"}).fillna(0)\n",
    "\n",
    "    #Add Number of NEG Tweets to DF\n",
    "    df_sup = df_sup.merge(df_test.loc[df_test[sentiment] == \"NEG\"][[\"tweet_id\", \"Date\"]].groupby(by=[\"Date\"]).count().reset_index(), \n",
    "                                    how=\"left\",\n",
    "                                    on=\"Date\").rename(columns={\"tweet_id\": \"count_tweets_neg\"}).fillna(0)\n",
    "\n",
    "    #Add sum of retweet count to DF\n",
    "    df_sup = df_sup.merge(df_test[[\"retweet_count\", \"Date\"]].groupby(by=[\"Date\"]).sum().reset_index(), \n",
    "                                    how=\"left\",\n",
    "                                    on=\"Date\").rename(columns={\"retweet_count\": \"sum_retweet_all\"}).fillna(0)\n",
    "\n",
    "    #Add sum of POS retweet count to DF\n",
    "    df_sup = df_sup.merge(df_test.loc[df_test[sentiment] == \"POS\"][[\"retweet_count\", \"Date\"]].groupby(by=[\"Date\"]).sum().reset_index(), \n",
    "                                    how=\"left\",\n",
    "                                    on=\"Date\").rename(columns={\"retweet_count\": \"sum_retweet_pos\"}).fillna(0)\n",
    "\n",
    "    #Add sum of NEG retweet count to DF\n",
    "    df_sup = df_sup.merge(df_test.loc[df_test[sentiment] == \"NEG\"][[\"retweet_count\", \"Date\"]].groupby(by=[\"Date\"]).sum().reset_index(), \n",
    "                                    how=\"left\",\n",
    "                                    on=\"Date\").rename(columns={\"retweet_count\": \"sum_retweet_neg\"}).fillna(0)\n",
    "\n",
    "    #Add sum of liked tweets to DF\n",
    "    df_sup = df_sup.merge(df_test[[\"like_count\", \"Date\"]].groupby(by=[\"Date\"]).sum().reset_index(), \n",
    "                                    how=\"left\",\n",
    "                                    on=\"Date\").rename(columns={\"like_count\": \"sum_like_all\"}).fillna(0)\n",
    "\n",
    "    #Add sum of POS liked tweets to DF\n",
    "    df_sup = df_sup.merge(df_test.loc[df_test[sentiment] == \"POS\"][[\"like_count\", \"Date\"]].groupby(by=[\"Date\"]).sum().reset_index(), \n",
    "                                    how=\"left\",\n",
    "                                    on=\"Date\").rename(columns={\"like_count\": \"sum_like_pos\"}).fillna(0)\n",
    "\n",
    "    #Add sum of NEG liked tweets to DF\n",
    "    df_sup = df_sup.merge(df_test.loc[df_test[sentiment] == \"NEG\"][[\"like_count\", \"Date\"]].groupby(by=[\"Date\"]).sum().reset_index(), \n",
    "                                    how=\"left\",\n",
    "                                    on=\"Date\").rename(columns={\"like_count\": \"sum_like_neg\"}).fillna(0)\n",
    "\n",
    "    #Add POS in relation to POS+NEG in percentage\n",
    "    df_sup[\"pct_pos\"] = df_sup.count_tweets_pos / (df_sup.count_tweets_pos + df_sup.count_tweets_neg)\n",
    "\n",
    "    #Add NEG in relation to POS+NEG in percentage\n",
    "    df_sup[\"pct_neg\"] = df_sup.count_tweets_neg / (df_sup.count_tweets_pos + df_sup.count_tweets_neg)\n",
    "\n",
    "    #Add POS in relation to all tweets in percentage\n",
    "    df_sup[\"pct_pos_all\"] = df_sup.count_tweets_pos / df_sup.count_tweets_all\n",
    "\n",
    "    #Add NEG in relation to all tweets in percentage\n",
    "    df_sup[\"pct_neg_all\"] = df_sup.count_tweets_neg / df_sup.count_tweets_all\n",
    "\n",
    "    #Add sum of POS tweets, liked and retweets\n",
    "    df_sup[\"sum_pos_like_retweet\"] = df_sup.count_tweets_pos + df_sup.sum_like_pos + df_sup.sum_retweet_pos\n",
    "\n",
    "    #Add sum of NEG tweets, liked and retweets\n",
    "    df_sup[\"sum_neg_like_retweet\"] = df_sup.count_tweets_neg + df_sup.sum_like_neg + df_sup.sum_retweet_neg\n",
    "\n",
    "    #Add sum of all tweets, liked and retweets\n",
    "    df_sup[\"sum_all_like_retweet\"] = df_sup.count_tweets_all + df_sup.sum_like_all + df_sup.sum_retweet_all\n",
    "\n",
    "    #Add pct of POS_sum to NEG_sum and POS_sum\n",
    "    df_sup[\"pct_pos_sum\"] = df_sup.sum_pos_like_retweet / (df_sup.sum_pos_like_retweet + df_sup.sum_neg_like_retweet)\n",
    "\n",
    "    #Add pct of NEG_sum to NEG_sum and POS_sum\n",
    "    df_sup[\"pct_neg_sum\"] = df_sup.sum_neg_like_retweet / (df_sup.sum_pos_like_retweet + df_sup.sum_neg_like_retweet)\n",
    "\n",
    "    #Add pct of POS_sum to ALL_sum\n",
    "    df_sup[\"pct_pos_sum_all\"] = df_sup.sum_pos_like_retweet / df_sup.sum_all_like_retweet\n",
    "\n",
    "    #Add pct of NEG_sum to ALL_sum\n",
    "    df_sup[\"pct_neg_sum_all\"] = df_sup.sum_neg_like_retweet / df_sup.sum_all_like_retweet\n",
    "\n",
    "    #Add prod between POS tweets and liked, retweets\n",
    "    df_sup[\"prod_pos_like_retweet\"] = df_sup.count_tweets_pos * [1 if i == 0 else i for i in (df_sup.sum_like_pos + df_sup.sum_retweet_pos)]\n",
    "\n",
    "    #Add prod between NEG tweets and liked, retweets\n",
    "    df_sup[\"prod_neg_like_retweet\"] = df_sup.count_tweets_neg * [1 if i == 0 else i for i in (df_sup.sum_like_neg + df_sup.sum_retweet_neg)]\n",
    "\n",
    "    #Add prod between all tweets and liked, retweets\n",
    "    df_sup[\"prod_all_like_retweet\"] = df_sup.count_tweets_all * [1 if i == 0 else i for i in (df_sup.sum_like_all + df_sup.sum_retweet_all)]\n",
    "\n",
    "    #Add pct of POS_prod to NEG_prod and POS_prod\n",
    "    df_sup[\"pct_pos_prod\"] = df_sup.prod_pos_like_retweet / (df_sup.prod_pos_like_retweet + df_sup.prod_neg_like_retweet)\n",
    "\n",
    "    #Add pct of NEG_prod to NEG_prod and POS_prod\n",
    "    df_sup[\"pct_neg_prod\"] = df_sup.prod_neg_like_retweet / (df_sup.prod_pos_like_retweet + df_sup.prod_neg_like_retweet)\n",
    "\n",
    "    #Add pct of POS_prod to all_prod\n",
    "    df_sup[\"pct_pos_prod_all\"] = df_sup.prod_pos_like_retweet / df_sup.prod_all_like_retweet\n",
    "\n",
    "    #Add pct of NEG_prod to all_prod\n",
    "    df_sup[\"pct_neg_prod_all\"] = df_sup.prod_neg_like_retweet / df_sup.prod_all_like_retweet\n",
    "    \n",
    "    #Add relation of POS and NEG\n",
    "    df_sup[\"relation_pos_neg\"] = (df_sup[\"count_tweets_pos\"] / df_sup[\"count_tweets_neg\"]).replace(np.inf, np.nan).fillna(0)\n",
    "    \n",
    "    #Add relation of NEG and POS\n",
    "    df_sup[\"relation_neg_pos\"] = (df_sup[\"count_tweets_neg\"] / df_sup[\"count_tweets_pos\"]).replace(np.inf, np.nan).fillna(0)\n",
    "    \n",
    "    #Add relation of sum POS and NEG\n",
    "    df_sup[\"relation_sum_pos_neg\"] = (df_sup[\"sum_pos_like_retweet\"] / df_sup[\"sum_neg_like_retweet\"]).replace(np.inf, np.nan).fillna(0)\n",
    "    \n",
    "    #Add relation of sum NEG and POS\n",
    "    df_sup[\"relation_sum_neg_pos\"] = (df_sup[\"sum_neg_like_retweet\"] / df_sup[\"sum_pos_like_retweet\"]).replace(np.inf, np.nan).fillna(0)\n",
    "    \n",
    "    #Add relation of prod POS and NEG\n",
    "    df_sup[\"relation_prod_pos_neg\"] = (df_sup[\"prod_pos_like_retweet\"] / df_sup[\"prod_neg_like_retweet\"]).replace(np.inf, np.nan).fillna(0)\n",
    "    \n",
    "    #Add relation of prod NEG and POS\n",
    "    df_sup[\"relation_prod_neg_pos\"] = (df_sup[\"prod_neg_like_retweet\"] / df_sup[\"prod_pos_like_retweet\"]).replace(np.inf, np.nan).fillna(0)\n",
    "    \n",
    "    #Return the support df\n",
    "    return df_sup\n",
    "\n"
   ]
  },
  {
   "cell_type": "code",
   "execution_count": 103,
   "id": "c8d3b9ac-a0a7-4fb0-a12f-042a841efcb7",
   "metadata": {},
   "outputs": [],
   "source": [
    "def add_further_regressors(df):\n",
    "    df[\"sentiment_day\"] = df[\"count_tweets_pos\"] - df[\"count_tweets_neg\"]\n",
    "    df[\"sentiment_day_sum\"] = df[\"sum_pos_like_retweet\"] - df[\"sum_neg_like_retweet\"]\n",
    "    df[\"sentiment_day_prod\"] = df[\"prod_pos_like_retweet\"] - df[\"prod_neg_like_retweet\"]\n",
    "    \n",
    "    df[\"sentiment_dummy\"] = [1 if i > 0 else -1 if i < 0 else 0 for i in df.sentiment_day]\n",
    "    df[\"sentiment_dummy_sum\"] = [1 if i > 0 else -1 if i < 0 else 0 for i in df.sentiment_day_sum]\n",
    "    df[\"sentiment_dummy_prod\"] = [1 if i > 0 else -1 if i < 0 else 0 for i in df.sentiment_day_prod]\n",
    "    \n",
    "    df[\"sum_pos_tweets_retweets\"] = df[\"count_tweets_pos\"] + df[\"sum_retweet_pos\"]\n",
    "    df[\"sum_neg_tweets_retweets\"] = df[\"count_tweets_neg\"] + df[\"sum_retweet_pos\"]\n",
    "    \n",
    "    df[\"pos_close\"] = df[\"Adj_Close\"] * df[\"pct_pos_sum\"]\n",
    "    df[\"pos_returns\"] = df[\"returns\"] * df[\"pct_pos_sum_all\"]\n",
    "    \n",
    "    df[\"indicator\"] =  [1 if i > 1 else -1 if i < 1 else 0 for i in df[\"returns_2\"]]\n",
    "    \n",
    "    return df"
   ]
  },
  {
   "cell_type": "code",
   "execution_count": 10,
   "id": "1244b04d-f085-4693-97af-29d361cdf7b4",
   "metadata": {},
   "outputs": [],
   "source": [
    "def log_fkt(df, column):\n",
    "    df[column] = np.log(df[column]).replace([np.inf, -np.inf], 0)\n",
    "    \n",
    "    return df"
   ]
  },
  {
   "cell_type": "markdown",
   "id": "04c7ea15-2636-4c1e-9da8-0065d650ec84",
   "metadata": {
    "jp-MarkdownHeadingCollapsed": true,
    "tags": []
   },
   "source": [
    "<h2>Lineare Regression mit Statsmodels</h2>"
   ]
  },
  {
   "cell_type": "code",
   "execution_count": 157,
   "id": "d94cf84b-24ce-46fc-8f15-1a080b8a7927",
   "metadata": {},
   "outputs": [],
   "source": [
    "def regression(df, regressor, output):\n",
    "\n",
    "    train, test = train_test_split(df, shuffle=False, test_size=0.05, random_state=0)\n",
    "    \n",
    "    train_x = train[regressor]\n",
    "    train_y = train[output]\n",
    "    \n",
    "    test_x = test[regressor]\n",
    "    test_y = test[output]\n",
    "    \n",
    "    #train_x, train_y = np.array(train_x), np.array(train_y)\n",
    "    #test_x, test_y = np.array(test_x), np.array(test_y)\n",
    "    \n",
    "    train_x = sm.add_constant(train_x)\n",
    "    test_x = sm.add_constant(test_x)\n",
    "    \n",
    "    model = sm.OLS(train_y, train_x).fit()\n",
    "    \n",
    "    predictions = model.predict(test_x)\n",
    "    \n",
    "    print_model = model.summary()\n",
    "    \n",
    "    #print(predictions)\n",
    "    print(print_model)\n",
    "    \n",
    "    #Calculate the scuared mean squared error on the predicted values based on the real values. \n",
    "    print(\"Mean Squared Error: \", np.sqrt(mean_squared_error(test_y, predictions)))\n",
    "    \n",
    "    #Calulate the r2 values based on the prediccted and the real values, \n",
    "    print(\"R2: \", r2_score(test_y, predictions))\n",
    "    \n",
    "    return model, predictions, test, test_y"
   ]
  },
  {
   "cell_type": "code",
   "execution_count": 12,
   "id": "98b6982c-f7b3-48f8-8944-c93e170f1e6a",
   "metadata": {},
   "outputs": [],
   "source": [
    "def regression_all(df, regressor, output):\n",
    "    \n",
    "    #regressor = np.array(df[regressor])\n",
    "\n",
    "    #regressor = sm.add_constant(regressor)\n",
    "    \n",
    "    x = df[regressor]\n",
    "    y = df[output]\n",
    "    \n",
    "    x = sm.add_constant(x)\n",
    "\n",
    "    #model = sm.OLS(df[output], regressor).fit()\n",
    "    model = sm.OLS(y,x).fit()\n",
    "    \n",
    "    #predictions = model.predict(regressor)\n",
    "    predictions = model.predict(x)\n",
    "    \n",
    "    pritn_model = model.summary()\n",
    "    \n",
    "    print(pritn_model)\n",
    "    \n",
    "    return predictions, model"
   ]
  },
  {
   "cell_type": "code",
   "execution_count": 13,
   "id": "ae514336-9023-476c-a8e8-658f350e0670",
   "metadata": {},
   "outputs": [],
   "source": [
    "def test_regression(df, regressor, output, lag_num, train_test = True, log = False, log_2 = False):\n",
    "    \n",
    "    print(\"=========================\", regressor, \"=========================\\n\")\n",
    "    \n",
    "    df_wdi_sentiment = create_df(df)\n",
    "    regressor = [regressor]\n",
    "    \n",
    "    if log:\n",
    "        df_wdi_sentiment = log_fkt(df_wdi_sentiment, regressor)\n",
    "    \n",
    "    if log_2:\n",
    "        df_wdi_sentiment = log_fkt(df_wdi_sentiment, output)\n",
    "    \n",
    "    df_wdi_sentiment = add_further_regressors(df_wdi_sentiment)\n",
    "    \n",
    "    lagnames, df_wdi_sentiment = lagit(df_wdi_sentiment, lag_num, regressor, True)\n",
    "    \n",
    "    for each in range(len(lagnames)):\n",
    "        print(\"x{each_str}: {lagnames_each}\".format(each_str=each+1, lagnames_each=lagnames[each]))\n",
    "    if train_test:\n",
    "        reg_model, reg_predictions, test, reg_test_y = regression(df_wdi_sentiment, lagnames, output)\n",
    "    else:\n",
    "        reg_predictions, reg_model = regression_all(df_wdi_sentiment, lagnames, output)\n",
    "        \n",
    "    return df_wdi_sentiment, lagnames, reg_predictions"
   ]
  },
  {
   "cell_type": "code",
   "execution_count": 14,
   "id": "fedbc0bb-56b4-4681-afcd-59fe4d777156",
   "metadata": {
    "tags": []
   },
   "outputs": [],
   "source": [
    "def create_df(df, df_wdi = df_wdi):\n",
    "    df_sentiment = sup_df_for_calculations(df)\n",
    "    df_wdi_sentiment = df_wdi.merge(df_sentiment.rename(columns={\"created_at\": \"Date\"}), how=\"left\", on=\"Date\").fillna(0)\n",
    "    return df_wdi_sentiment"
   ]
  },
  {
   "cell_type": "markdown",
   "id": "4a3304f4-6cdb-4520-83b9-434dff9c03a3",
   "metadata": {
    "jp-MarkdownHeadingCollapsed": true,
    "tags": []
   },
   "source": [
    "<h2>Plot</h2>"
   ]
  },
  {
   "cell_type": "code",
   "execution_count": 15,
   "id": "7b768b69-9aa3-4da6-ae8b-07d16a6859f0",
   "metadata": {},
   "outputs": [],
   "source": [
    "def plot_regression(df, regressor, regressant, prediction):\n",
    "    plt.figure(figsize=(50,10))\n",
    "    \n",
    "    plt.scatter(df[regressor], df[regressant], color=\"blue\")\n",
    "    plt.plot(df[regressor], prediction, color=\"red\")\n",
    "    \n",
    "    plt.show()"
   ]
  },
  {
   "cell_type": "markdown",
   "id": "8ba07535-f384-4f64-945e-46565fc6c842",
   "metadata": {},
   "source": [
    "<h2>Ausführung</h2>"
   ]
  },
  {
   "cell_type": "markdown",
   "id": "646a512c-d00a-40b7-b7a1-b955a55cc238",
   "metadata": {
    "jp-MarkdownHeadingCollapsed": true,
    "tags": []
   },
   "source": [
    "<h3>Testen von mehreren Regressionen nacheinander</h3>"
   ]
  },
  {
   "cell_type": "code",
   "execution_count": null,
   "id": "d1be0eab-39fa-40e7-9259-1ca4b2122eff",
   "metadata": {
    "tags": []
   },
   "outputs": [],
   "source": [
    "#For testing a lot of regressions at a time\n",
    "regressor = ['Adj Close', 'Volume',\n",
    "       'returns', 'returns_2', 'count_tweets_all', 'count_tweets_pos',\n",
    "       'count_tweets_neg', 'sum_retweet_all', 'sum_retweet_pos',\n",
    "       'sum_retweet_neg', 'sum_like_all', 'sum_like_pos', 'sum_like_neg',\n",
    "       'pct_pos', 'pct_neg', 'pct_pos_all', 'pct_neg_all',\n",
    "       'sum_pos_like_retweet', 'sum_neg_like_retweet', 'sum_all_like_retweet',\n",
    "       'pct_pos_sum', 'pct_neg_sum', 'pct_pos_sum_all', 'pct_neg_sum_all',\n",
    "       'prod_pos_like_retweet', 'prod_neg_like_retweet',\n",
    "       'prod_all_like_retweet', 'pct_pos_prod', 'pct_neg_prod',\n",
    "       'pct_pos_prod_all', 'pct_neg_prod_all', 'relation_pos_neg',\n",
    "       'relation_neg_pos', 'relation_sum_pos_neg', 'relation_sum_neg_pos',\n",
    "       'relation_prod_pos_neg', 'relation_prod_neg_pos',\n",
    "            \"sentiment_day\", \"sentiment_day_sum\", \"sentiment_day_prod\", \"sentiment_dummy\", \"sentiment_dummy_sum\", \"sentiment_dummy_prod\"]\n",
    "#pos_close\n",
    "#pos_returns\n",
    "regressor = [\"Adj Close\"]\n",
    "output = \"Adj Close\"\n",
    "lag_num = 1\n",
    "train_test = False\n",
    "log_regressor = False\n",
    "log_output = False\n",
    "\n",
    "for each in regressor:\n",
    "    df_wdi_sentiment,  reg_regressor, reg_predictions = test_regression(df, each, output, lag_num, train_test, \n",
    "                                                                        log_regressor, log_output)\n",
    "    #plot_regression(df_wdi_sentiment, reg_regressor[0], output, reg_predictions)\n",
    "    print(\"==================================================\\n\\n\\n\")"
   ]
  },
  {
   "cell_type": "code",
   "execution_count": null,
   "id": "43af3dab-da3f-4f4a-8fbc-1d889844e9e5",
   "metadata": {},
   "outputs": [],
   "source": [
    "plt.figure(figsize=(100,50))\n",
    "\n",
    "plt.plot(df_wdi_sentiment[\"Date\"], df_wdi_sentiment[\"returns\"], color=\"blue\")\n",
    "plt.plot(df_wdi_sentiment[\"Date\"],  reg_predictions, color=\"red\")\n",
    "\n",
    "\n",
    "plt.show()"
   ]
  },
  {
   "cell_type": "code",
   "execution_count": null,
   "id": "a69182b0-75ac-46f1-a7e5-957bc03bb94a",
   "metadata": {},
   "outputs": [],
   "source": [
    "fig, ax1 = plt.subplots(figsize=(50,25))\n",
    "ax2 = ax1.twinx()\n",
    "    \n",
    "ax1.plot(df_wdi_sentiment[\"Date\"], df_wdi_sentiment[\"returns_2\"], color=\"blue\")\n",
    "ax2.plot(df_wdi_sentiment[\"Date\"], df_wdi_sentiment[\"pct_pos_all\"], color=\"green\")\n",
    "ax2.plot(df_wdi_sentiment[\"Date\"], df_wdi_sentiment[\"pct_neg_all\"], color=\"red\")\n",
    "\n",
    "plt.show()"
   ]
  },
  {
   "cell_type": "code",
   "execution_count": null,
   "id": "c6b5a918-dd97-49c1-a569-e1e101bb170f",
   "metadata": {},
   "outputs": [],
   "source": []
  },
  {
   "cell_type": "markdown",
   "id": "20aaa31d-32df-403c-a263-0b8c7e9cfd20",
   "metadata": {
    "tags": []
   },
   "source": [
    "<h3>Regression mit mehreren Regressoren</h3>"
   ]
  },
  {
   "cell_type": "code",
   "execution_count": 310,
   "id": "0661f21f-a762-4198-950a-e7482acc56cd",
   "metadata": {
    "tags": []
   },
   "outputs": [
    {
     "name": "stdout",
     "output_type": "stream",
     "text": [
      "                            OLS Regression Results                            \n",
      "==============================================================================\n",
      "Dep. Variable:              Adj_Close   R-squared:                       0.725\n",
      "Model:                            OLS   Adj. R-squared:                  0.724\n",
      "Method:                 Least Squares   F-statistic:                     403.7\n",
      "Date:                Tue, 13 Sep 2022   Prob (F-statistic):          5.02e-295\n",
      "Time:                        22:49:56   Log-Likelihood:                -146.80\n",
      "No. Observations:                1078   AIC:                             309.6\n",
      "Df Residuals:                    1070   BIC:                             349.5\n",
      "Df Model:                           7                                         \n",
      "Covariance Type:            nonrobust                                         \n",
      "==========================================================================================\n",
      "                             coef    std err          t      P>|t|      [0.025      0.975]\n",
      "------------------------------------------------------------------------------------------\n",
      "const                      2.1766      0.051     42.793      0.000       2.077       2.276\n",
      "Lag_pos_close_1            0.1081      0.010     10.307      0.000       0.088       0.129\n",
      "Lag_pos_close_2            0.1071      0.009     11.588      0.000       0.089       0.125\n",
      "Lag_pos_close_3            0.0919      0.009      9.827      0.000       0.074       0.110\n",
      "Lag_pos_close_4            0.0953      0.009     10.261      0.000       0.077       0.113\n",
      "Lag_pos_close_5            0.1007      0.009     10.953      0.000       0.083       0.119\n",
      "Lag_Volume_1               0.0605      0.004     15.405      0.000       0.053       0.068\n",
      "Lag_count_tweets_all_1     0.0150      0.009      1.590      0.112      -0.004       0.033\n",
      "==============================================================================\n",
      "Omnibus:                       11.149   Durbin-Watson:                   0.552\n",
      "Prob(Omnibus):                  0.004   Jarque-Bera (JB):               11.404\n",
      "Skew:                           0.247   Prob(JB):                      0.00334\n",
      "Kurtosis:                       2.903   Cond. No.                         66.0\n",
      "==============================================================================\n",
      "\n",
      "Notes:\n",
      "[1] Standard Errors assume that the covariance matrix of the errors is correctly specified.\n",
      "Mean Squared Error:  1.0681786640303652\n",
      "R2:  0.632336702876958\n"
     ]
    },
    {
     "name": "stderr",
     "output_type": "stream",
     "text": [
      "/Users/tobias/Dev/FOM/Master_Thesis/master_thesis_3.9.10/.venv/lib/python3.9/site-packages/pandas/core/arraylike.py:397: RuntimeWarning: divide by zero encountered in log\n",
      "  result = getattr(ufunc, method)(*inputs, **kwargs)\n"
     ]
    }
   ],
   "source": [
    "#Do a more complex regression\n",
    "#df_wdi_sentiment[\"sum_retweet_pos\"]\n",
    "#regressor = [\"count_tweets_neg\", \"count_tweets_pos\"]\n",
    "#regressor = [\"pct_pos_sum_all\"]\n",
    "\n",
    "\n",
    "regressor = [\"pct_pos\", \n",
    "            \"pct_neg_all\", \"pct_pos_sum\", \n",
    "            \"pct_pos_sum\", \"pct_neg_sum_all\", \"pct_pos_prod\"]\n",
    "\n",
    "#regressor = [\"returns_2\"]\n",
    "#regressor = [\"count_tweets_pos\", \"count_tweets_neg\"]\n",
    "#regressor = [\"sum_pos_like_retweet\", \"sum_neg_like_retweet\"]\n",
    "#regressor = [\"pct_pos_all\", \"pct_neg_all\"]\n",
    "#regressor = [\"pct_pos_sum\", \"pct_neg_sum\"]\n",
    "#regressor = [\"pct_pos_sum\"]\n",
    "#regressor = [\"pct_pos_sum_all\", \"pct_neg_sum_all\"]\n",
    "#regressor = [\"pct_pos_sum_all\"]\n",
    "regressor = [\"count_tweets_pos\", \"count_tweets_neg\", \"sum_pos_like_retweet\", \"sum_neg_like_retweet\",\n",
    "             \"pct_pos_all\", \"pct_neg_all\", \"pct_pos_sum_all\", \"pct_neg_sum_all\", \"pos_close\"]\n",
    "regressor = [\"pos_close\"]\n",
    "\n",
    "#regressor = [\"return_close\"]\n",
    "#regressor = [\"Adj_Close\"]\n",
    "#df_wdi_sentiment[\"sum_all_like_retweet\"]\n",
    "\n",
    "further_regressors = [\"Volume\", \"count_tweets_all\"]\n",
    "\n",
    "\n",
    "output = \"Adj_Close\"\n",
    "\n",
    "lagnames = []\n",
    "\n",
    "lag_num = 5\n",
    "train_test = True\n",
    "\n",
    "df_wdi_sentiment = create_df(df)\n",
    "df_wdi_sentiment = add_further_regressors(df_wdi_sentiment)\n",
    "\n",
    "\n",
    "#####    Further fields    #####\n",
    "df_wdi_sentiment[\"return_close\"] = df_wdi_sentiment[\"returns_2\"] * df_wdi_sentiment[\"pct_pos_sum_all\"]\n",
    "\n",
    "df_wdi_sentiment[\"Adj_Close_prev_day\"] = df_wdi_sentiment[\"Adj_Close\"].shift(1)\n",
    "df_wdi_sentiment.dropna(subset=[\"Adj_Close_prev_day\"], inplace=True)\n",
    "df_wdi_sentiment[\"hybrid_feature\"] = df_wdi_sentiment[\"Adj_Close\"] + np.sign(df_wdi_sentiment[\"pct_pos_sum\"]) * (df_wdi_sentiment[\"Adj_Close\"] - df_wdi_sentiment[\"Adj_Close_prev_day\"])\n",
    "\n",
    "\n",
    "#####    Add Log    #####\n",
    "df_wdi_sentiment[output] = np.log(df_wdi_sentiment[output])\n",
    "if True:\n",
    "    for each in regressor:\n",
    "        df_wdi_sentiment[each] = np.log(df_wdi_sentiment[each]).replace([np.inf, -np.inf], 0)\n",
    "    for each in further_regressors:\n",
    "        df_wdi_sentiment[each] = np.log(df_wdi_sentiment[each]).replace([np.inf, -np.inf], 0)\n",
    "\n",
    "\n",
    "#####    Add Lags to the dataset    ######\n",
    "lags, df_wdi_sentiment = lagit(df_wdi_sentiment, lag_num, regressor)\n",
    "#lags, df_wdi_sentiment = lagit(df_wdi_sentiment, lag_num, regressor, True)\n",
    "lagnames.extend(lags)\n",
    "\n",
    "lags, df_wdi_sentiment = lagit(df_wdi_sentiment, 1, further_regressors, True)\n",
    "lagnames.extend(lags)\n",
    "\n",
    "\n",
    "#####    Execute Regression    #####\n",
    "\n",
    "reg_model, reg_predictions, test, reg_test_y = regression(df_wdi_sentiment, lagnames, output)\n",
    "#reg_predictions = regression_all(df_wdi_sentiment, lagnames, output)"
   ]
  },
  {
   "cell_type": "code",
   "execution_count": 311,
   "id": "8ccf87cf-eedf-411f-8610-201a13bf6749",
   "metadata": {},
   "outputs": [
    {
     "data": {
      "text/plain": [
       "0.8024714915269759"
      ]
     },
     "execution_count": 311,
     "metadata": {},
     "output_type": "execute_result"
    }
   ],
   "source": [
    "r2_score(np.exp(reg_test_y), np.exp(reg_predictions))"
   ]
  },
  {
   "cell_type": "code",
   "execution_count": 313,
   "id": "1aea52b2-b257-4cc7-82c8-834048c1a3ef",
   "metadata": {
    "tags": []
   },
   "outputs": [
    {
     "data": {
      "image/png": "[encoded data removed]",
      "text/plain": [
       "<Figure size 3600x720 with 1 Axes>"
      ]
     },
     "metadata": {
      "needs_background": "light"
     },
     "output_type": "display_data"
    }
   ],
   "source": [
    "#This Graph plots the predicted values agains the real values in the time perspektive. \n",
    "plt.figure(figsize=(50,10))\n",
    "\n",
    "\n",
    "plt.plot(test[\"Date\"], np.exp(test[output]), color=\"green\")\n",
    "plt.plot(test[\"Date\"], np.exp(reg_predictions), color=\"red\")\n",
    "\n",
    "plt.show()"
   ]
  },
  {
   "cell_type": "code",
   "execution_count": 312,
   "id": "f9d08dad-0dc2-48b7-b769-e2e051a91adb",
   "metadata": {
    "collapsed": true,
    "jupyter": {
     "outputs_hidden": true
    },
    "tags": []
   },
   "outputs": [
    {
     "ename": "KeyError",
     "evalue": "0",
     "output_type": "error",
     "traceback": [
      "\u001b[0;31m---------------------------------------------------------------------------\u001b[0m",
      "\u001b[0;31mKeyError\u001b[0m                                  Traceback (most recent call last)",
      "File \u001b[0;32m~/Dev/FOM/Master_Thesis/master_thesis_3.9.10/.venv/lib/python3.9/site-packages/pandas/core/indexes/base.py:3621\u001b[0m, in \u001b[0;36mIndex.get_loc\u001b[0;34m(self, key, method, tolerance)\u001b[0m\n\u001b[1;32m   3620\u001b[0m \u001b[38;5;28;01mtry\u001b[39;00m:\n\u001b[0;32m-> 3621\u001b[0m     \u001b[38;5;28;01mreturn\u001b[39;00m \u001b[38;5;28;43mself\u001b[39;49m\u001b[38;5;241;43m.\u001b[39;49m\u001b[43m_engine\u001b[49m\u001b[38;5;241;43m.\u001b[39;49m\u001b[43mget_loc\u001b[49m\u001b[43m(\u001b[49m\u001b[43mcasted_key\u001b[49m\u001b[43m)\u001b[49m\n\u001b[1;32m   3622\u001b[0m \u001b[38;5;28;01mexcept\u001b[39;00m \u001b[38;5;167;01mKeyError\u001b[39;00m \u001b[38;5;28;01mas\u001b[39;00m err:\n",
      "File \u001b[0;32m~/Dev/FOM/Master_Thesis/master_thesis_3.9.10/.venv/lib/python3.9/site-packages/pandas/_libs/index.pyx:136\u001b[0m, in \u001b[0;36mpandas._libs.index.IndexEngine.get_loc\u001b[0;34m()\u001b[0m\n",
      "File \u001b[0;32m~/Dev/FOM/Master_Thesis/master_thesis_3.9.10/.venv/lib/python3.9/site-packages/pandas/_libs/index.pyx:163\u001b[0m, in \u001b[0;36mpandas._libs.index.IndexEngine.get_loc\u001b[0;34m()\u001b[0m\n",
      "File \u001b[0;32mpandas/_libs/hashtable_class_helper.pxi:2131\u001b[0m, in \u001b[0;36mpandas._libs.hashtable.Int64HashTable.get_item\u001b[0;34m()\u001b[0m\n",
      "File \u001b[0;32mpandas/_libs/hashtable_class_helper.pxi:2140\u001b[0m, in \u001b[0;36mpandas._libs.hashtable.Int64HashTable.get_item\u001b[0;34m()\u001b[0m\n",
      "\u001b[0;31mKeyError\u001b[0m: 0",
      "\nThe above exception was the direct cause of the following exception:\n",
      "\u001b[0;31mKeyError\u001b[0m                                  Traceback (most recent call last)",
      "Input \u001b[0;32mIn [312]\u001b[0m, in \u001b[0;36m<cell line: 6>\u001b[0;34m()\u001b[0m\n\u001b[1;32m      2\u001b[0m plt\u001b[38;5;241m.\u001b[39mfigure(figsize\u001b[38;5;241m=\u001b[39m(\u001b[38;5;241m50\u001b[39m,\u001b[38;5;241m10\u001b[39m))\n\u001b[1;32m      5\u001b[0m plt\u001b[38;5;241m.\u001b[39mplot(df_wdi_sentiment[\u001b[38;5;124m\"\u001b[39m\u001b[38;5;124mDate\u001b[39m\u001b[38;5;124m\"\u001b[39m], np\u001b[38;5;241m.\u001b[39mexp(df_wdi_sentiment[output]), color\u001b[38;5;241m=\u001b[39m\u001b[38;5;124m\"\u001b[39m\u001b[38;5;124mgreen\u001b[39m\u001b[38;5;124m\"\u001b[39m)\n\u001b[0;32m----> 6\u001b[0m plt\u001b[38;5;241m.\u001b[39mplot(df_wdi_sentiment[\u001b[38;5;124m\"\u001b[39m\u001b[38;5;124mDate\u001b[39m\u001b[38;5;124m\"\u001b[39m], np\u001b[38;5;241m.\u001b[39mexp(\u001b[43mreg_predictions\u001b[49m\u001b[43m[\u001b[49m\u001b[38;5;241;43m0\u001b[39;49m\u001b[43m]\u001b[49m), color\u001b[38;5;241m=\u001b[39m\u001b[38;5;124m\"\u001b[39m\u001b[38;5;124mred\u001b[39m\u001b[38;5;124m\"\u001b[39m)\n\u001b[1;32m      8\u001b[0m plt\u001b[38;5;241m.\u001b[39mshow()\n",
      "File \u001b[0;32m~/Dev/FOM/Master_Thesis/master_thesis_3.9.10/.venv/lib/python3.9/site-packages/pandas/core/series.py:958\u001b[0m, in \u001b[0;36mSeries.__getitem__\u001b[0;34m(self, key)\u001b[0m\n\u001b[1;32m    955\u001b[0m     \u001b[38;5;28;01mreturn\u001b[39;00m \u001b[38;5;28mself\u001b[39m\u001b[38;5;241m.\u001b[39m_values[key]\n\u001b[1;32m    957\u001b[0m \u001b[38;5;28;01melif\u001b[39;00m key_is_scalar:\n\u001b[0;32m--> 958\u001b[0m     \u001b[38;5;28;01mreturn\u001b[39;00m \u001b[38;5;28;43mself\u001b[39;49m\u001b[38;5;241;43m.\u001b[39;49m\u001b[43m_get_value\u001b[49m\u001b[43m(\u001b[49m\u001b[43mkey\u001b[49m\u001b[43m)\u001b[49m\n\u001b[1;32m    960\u001b[0m \u001b[38;5;28;01mif\u001b[39;00m is_hashable(key):\n\u001b[1;32m    961\u001b[0m     \u001b[38;5;66;03m# Otherwise index.get_value will raise InvalidIndexError\u001b[39;00m\n\u001b[1;32m    962\u001b[0m     \u001b[38;5;28;01mtry\u001b[39;00m:\n\u001b[1;32m    963\u001b[0m         \u001b[38;5;66;03m# For labels that don't resolve as scalars like tuples and frozensets\u001b[39;00m\n",
      "File \u001b[0;32m~/Dev/FOM/Master_Thesis/master_thesis_3.9.10/.venv/lib/python3.9/site-packages/pandas/core/series.py:1069\u001b[0m, in \u001b[0;36mSeries._get_value\u001b[0;34m(self, label, takeable)\u001b[0m\n\u001b[1;32m   1066\u001b[0m     \u001b[38;5;28;01mreturn\u001b[39;00m \u001b[38;5;28mself\u001b[39m\u001b[38;5;241m.\u001b[39m_values[label]\n\u001b[1;32m   1068\u001b[0m \u001b[38;5;66;03m# Similar to Index.get_value, but we do not fall back to positional\u001b[39;00m\n\u001b[0;32m-> 1069\u001b[0m loc \u001b[38;5;241m=\u001b[39m \u001b[38;5;28;43mself\u001b[39;49m\u001b[38;5;241;43m.\u001b[39;49m\u001b[43mindex\u001b[49m\u001b[38;5;241;43m.\u001b[39;49m\u001b[43mget_loc\u001b[49m\u001b[43m(\u001b[49m\u001b[43mlabel\u001b[49m\u001b[43m)\u001b[49m\n\u001b[1;32m   1070\u001b[0m \u001b[38;5;28;01mreturn\u001b[39;00m \u001b[38;5;28mself\u001b[39m\u001b[38;5;241m.\u001b[39mindex\u001b[38;5;241m.\u001b[39m_get_values_for_loc(\u001b[38;5;28mself\u001b[39m, loc, label)\n",
      "File \u001b[0;32m~/Dev/FOM/Master_Thesis/master_thesis_3.9.10/.venv/lib/python3.9/site-packages/pandas/core/indexes/base.py:3623\u001b[0m, in \u001b[0;36mIndex.get_loc\u001b[0;34m(self, key, method, tolerance)\u001b[0m\n\u001b[1;32m   3621\u001b[0m     \u001b[38;5;28;01mreturn\u001b[39;00m \u001b[38;5;28mself\u001b[39m\u001b[38;5;241m.\u001b[39m_engine\u001b[38;5;241m.\u001b[39mget_loc(casted_key)\n\u001b[1;32m   3622\u001b[0m \u001b[38;5;28;01mexcept\u001b[39;00m \u001b[38;5;167;01mKeyError\u001b[39;00m \u001b[38;5;28;01mas\u001b[39;00m err:\n\u001b[0;32m-> 3623\u001b[0m     \u001b[38;5;28;01mraise\u001b[39;00m \u001b[38;5;167;01mKeyError\u001b[39;00m(key) \u001b[38;5;28;01mfrom\u001b[39;00m \u001b[38;5;21;01merr\u001b[39;00m\n\u001b[1;32m   3624\u001b[0m \u001b[38;5;28;01mexcept\u001b[39;00m \u001b[38;5;167;01mTypeError\u001b[39;00m:\n\u001b[1;32m   3625\u001b[0m     \u001b[38;5;66;03m# If we have a listlike key, _check_indexing_error will raise\u001b[39;00m\n\u001b[1;32m   3626\u001b[0m     \u001b[38;5;66;03m#  InvalidIndexError. Otherwise we fall through and re-raise\u001b[39;00m\n\u001b[1;32m   3627\u001b[0m     \u001b[38;5;66;03m#  the TypeError.\u001b[39;00m\n\u001b[1;32m   3628\u001b[0m     \u001b[38;5;28mself\u001b[39m\u001b[38;5;241m.\u001b[39m_check_indexing_error(key)\n",
      "\u001b[0;31mKeyError\u001b[0m: 0"
     ]
    },
    {
     "data": {
      "image/png": "[encoded data removed]",
      "text/plain": [
       "<Figure size 3600x720 with 1 Axes>"
      ]
     },
     "metadata": {
      "needs_background": "light"
     },
     "output_type": "display_data"
    }
   ],
   "source": [
    "#This Graph plots the predicted values agains the real values in the time perspektive. \n",
    "plt.figure(figsize=(50,10))\n",
    "\n",
    "\n",
    "plt.plot(df_wdi_sentiment[\"Date\"], np.exp(df_wdi_sentiment[output]), color=\"green\")\n",
    "plt.plot(df_wdi_sentiment[\"Date\"], np.exp(reg_predictions[0]), color=\"red\")\n",
    "\n",
    "plt.show()"
   ]
  },
  {
   "cell_type": "markdown",
   "id": "35803444-542f-488d-ad29-59851707f478",
   "metadata": {
    "tags": []
   },
   "source": [
    "<h3>Regressionen mit verschiedenen zusätzlichen Feldern</h3>"
   ]
  },
  {
   "cell_type": "code",
   "execution_count": 222,
   "id": "3d8b86fa-7aee-425a-a5c9-4973800e94eb",
   "metadata": {},
   "outputs": [
    {
     "data": {
      "text/plain": [
       "Index(['Date', 'Open', 'High', 'Low', 'Close', 'Adj_Close', 'Volume',\n",
       "       'returns', 'returns_2', 'count_tweets_all', 'count_tweets_pos',\n",
       "       'count_tweets_neg', 'sum_retweet_all', 'sum_retweet_pos',\n",
       "       'sum_retweet_neg', 'sum_like_all', 'sum_like_pos', 'sum_like_neg',\n",
       "       'pct_pos', 'pct_neg', 'pct_pos_all', 'pct_neg_all',\n",
       "       'sum_pos_like_retweet', 'sum_neg_like_retweet', 'sum_all_like_retweet',\n",
       "       'pct_pos_sum', 'pct_neg_sum', 'pct_pos_sum_all', 'pct_neg_sum_all',\n",
       "       'prod_pos_like_retweet', 'prod_neg_like_retweet',\n",
       "       'prod_all_like_retweet', 'pct_pos_prod', 'pct_neg_prod',\n",
       "       'pct_pos_prod_all', 'pct_neg_prod_all', 'relation_pos_neg',\n",
       "       'relation_neg_pos', 'relation_sum_pos_neg', 'relation_sum_neg_pos',\n",
       "       'relation_prod_pos_neg', 'relation_prod_neg_pos'],\n",
       "      dtype='object')"
      ]
     },
     "execution_count": 222,
     "metadata": {},
     "output_type": "execute_result"
    }
   ],
   "source": [
    "df_wdi_sentiment = create_df(df)\n",
    "df_wdi_sentiment.columns"
   ]
  },
  {
   "cell_type": "code",
   "execution_count": null,
   "id": "9477cf83-5538-4e29-a271-d8cdc53aee13",
   "metadata": {},
   "outputs": [],
   "source": [
    "#Do a more complex regression\n",
    "#df_wdi_sentiment[\"sum_retweet_pos\"]\n",
    "#regressor = [\"count_tweets_neg\", \"count_tweets_pos\"]\n",
    "#regressor = [\"pct_pos_sum_all\"]\n",
    "\n",
    "\n",
    "regressor = [\"sentiment_dummy\"]\n",
    "\n",
    "\n",
    "\n",
    "output = \"returns_2\"\n",
    "\n",
    "lagnames = []\n",
    "\n",
    "lag_num = 5\n",
    "train_test = True\n",
    "\n",
    "df_wdi_sentiment = create_df(df)\n",
    "#df_wdi_sentiment = df_wdi_sentiment.drop(df_wdi_sentiment.index[1113:])\n",
    "#df_wdi_sentiment = df_wdi_sentiment.drop(df_wdi_sentiment.index[1101:])\n",
    "df_wdi_sentiment[\"sentiment_dummy\"] = [1 if i > 0 else -1 if i < 0 else 0 for i in (df_wdi_sentiment.sum_pos_like_retweet-df_wdi_sentiment.sum_neg_like_retweet)]\n",
    "\n",
    "#df_wdi_sentiment[\"Volume\"] = np.log([1 if i == 0 else i for i in df_wdi_sentiment[\"Volume\"]])\n",
    "#df_wdi_sentiment[\"Adj Close\"] = np.log([1 if i == 0 else i for i in df_wdi_sentiment[\"Adj Close\"]])\n",
    "\n",
    "lags, df_wdi_sentiment = lagit(df_wdi_sentiment, lag_num, regressor)\n",
    "#lags, df_wdi_sentiment = lagit(df_wdi_sentiment, lag_num, regressor, True)\n",
    "lagnames.extend(lags)\n",
    "lags, df_wdi_sentiment = lagit(df_wdi_sentiment, 1, [\"Volume\"], True)\n",
    "lagnames.extend(lags)\n",
    "#unwanted_lagnames = [\"Lag_Adj Close_1\", \"Lag_Adj Close_2\"]\n",
    "\n",
    "#for each in unwanted_lagnames:\n",
    "#    lagnames.remove(each)\n",
    "    \n",
    "#lagnames.append(\"Volume\")\n",
    "\n",
    "for each in range(len(lagnames)):\n",
    "    print(\"x{each_str}: {lagnames_each}\".format(each_str=each+1, lagnames_each=lagnames[each]))\n",
    "\n",
    "reg_model, reg_predictions, test, reg_test_y = regression(df_wdi_sentiment, lagnames, output)\n",
    "#reg_predictions, reg_model = regression_all(df_wdi_sentiment, lagnames, output)"
   ]
  },
  {
   "cell_type": "code",
   "execution_count": null,
   "id": "e8db0fba-90a3-48c1-a5a0-4fcb2bee5a0a",
   "metadata": {},
   "outputs": [],
   "source": [
    "print(reg_model.summary2())"
   ]
  },
  {
   "cell_type": "code",
   "execution_count": null,
   "id": "d120d84f-4e13-48b8-a1a9-226af0996464",
   "metadata": {},
   "outputs": [],
   "source": [
    "#This Graph plots the predicted values agains the real values in the time perspektive. \n",
    "plt.figure(figsize=(50,10))\n",
    "\n",
    "\n",
    "plt.plot(test[\"Date\"], test[output], color=\"green\")\n",
    "plt.plot(test[\"Date\"], reg_predictions, color=\"red\")\n",
    "\n",
    "plt.show()"
   ]
  },
  {
   "cell_type": "code",
   "execution_count": null,
   "id": "990c3ffb-c804-432a-bc18-47f2da64cab3",
   "metadata": {},
   "outputs": [],
   "source": [
    "#Plot a Graph with multiple y axis\n",
    "fig, ax1 = plt.subplots(figsize=(50,25))\n",
    "ax2 = ax1.twinx()\n",
    "    \n",
    "ax1.plot(df_wdi_sentiment[\"Date\"], df_wdi_sentiment[\"returns_2\"], color=\"green\")\n",
    "ax2.plot(df_wdi_sentiment[\"Date\"], df_wdi_sentiment[\"pct_pos_all\"], color=\"red\")\n",
    "\n",
    "plt.show()"
   ]
  },
  {
   "cell_type": "code",
   "execution_count": null,
   "id": "c48f0ad5-4d0b-4265-89ee-4c1dde14dd7f",
   "metadata": {
    "tags": []
   },
   "outputs": [],
   "source": [
    "# This Graph plots the predicted values agains the real values in the time perspektive. \n",
    "plt.figure(figsize=(100,50))\n",
    "\n",
    "\n",
    "plt.plot(df_wdi_sentiment[\"Date\"], df_wdi_sentiment[\"Volume\"], color=\"green\")\n",
    "plt.plot(df_wdi_sentiment[\"Date\"], df_wdi_sentiment[\"count_tweets_all\"], color=\"red\")\n",
    "\n",
    "plt.show()"
   ]
  },
  {
   "cell_type": "code",
   "execution_count": null,
   "id": "06e32908-4269-4a08-b28f-25cdc6d607bd",
   "metadata": {},
   "outputs": [],
   "source": [
    "#Calculate the scuared mean squared error on the predicted values based on the real values. \n",
    "np.sqrt(mean_squared_error(reg_test_y, reg_predictions))"
   ]
  },
  {
   "cell_type": "code",
   "execution_count": null,
   "id": "141cf7b8-0805-403a-9850-e03cd4d61530",
   "metadata": {},
   "outputs": [],
   "source": [
    "#Calulate the r2 values based on the prediccted and the real values, \n",
    "r2_score(reg_test_y, reg_predictions)"
   ]
  },
  {
   "cell_type": "code",
   "execution_count": null,
   "id": "fed4703e-f4d4-4cc0-aae3-2307dfbeecff",
   "metadata": {},
   "outputs": [],
   "source": [
    "#Print a plot over all values in the regression.\n",
    "plt.figure(figsize=(50,10))\n",
    "\n",
    "\n",
    "plt.scatter(df_wdi_sentiment[\"Date\"], df_wdi_sentiment[output], color=\"green\")\n",
    "plt.plot(df_wdi_sentiment[\"Date\"], all_predictions, color=\"red\")\n",
    "\n",
    "plt.show()"
   ]
  },
  {
   "cell_type": "markdown",
   "id": "7f724924-1a23-4e3a-a769-9e127655ae5b",
   "metadata": {},
   "source": [
    "<h2>Outperform</h2>"
   ]
  },
  {
   "cell_type": "code",
   "execution_count": null,
   "id": "d9ae28bf-67a3-46c3-b79b-ae75d519072e",
   "metadata": {},
   "outputs": [],
   "source": [
    "test[\"direction_LR\"] = [1 if i > 0 else -1 for i in reg_predictions]"
   ]
  },
  {
   "cell_type": "code",
   "execution_count": null,
   "id": "3378a6a8-d6e6-4ed6-8dfe-5e53a014ff9f",
   "metadata": {},
   "outputs": [],
   "source": [
    "test[\"strat_LR\"] = test[\"direction_LR\"] * test[\"returns\"]"
   ]
  },
  {
   "cell_type": "code",
   "execution_count": null,
   "id": "58f53aa8-99e9-4864-8528-63c79fcbd2e6",
   "metadata": {},
   "outputs": [],
   "source": [
    "np.exp(test[[\"returns\", \"strat_LR\"]].sum())"
   ]
  },
  {
   "cell_type": "code",
   "execution_count": null,
   "id": "3b7ff6d1-665e-448e-a1a4-aea42cf5b552",
   "metadata": {},
   "outputs": [],
   "source": [
    "np.exp(test[[\"returns\", \"strat_LR\"]].cumsum()).plot()"
   ]
  },
  {
   "cell_type": "code",
   "execution_count": null,
   "id": "a781b58e-c9cd-461b-a087-4402e01bdeb9",
   "metadata": {},
   "outputs": [],
   "source": []
  },
  {
   "cell_type": "code",
   "execution_count": null,
   "id": "41cb26c1-97e3-4db0-9107-8443d16a349d",
   "metadata": {},
   "outputs": [],
   "source": []
  },
  {
   "cell_type": "markdown",
   "id": "9d53f9d0-fa6b-4b19-b6ce-cace0cd4350d",
   "metadata": {},
   "source": [
    "<h2>Plots for Visualisation</h2>"
   ]
  },
  {
   "cell_type": "code",
   "execution_count": null,
   "id": "9757bcee-2b0a-432b-9b41-90dddb2985b0",
   "metadata": {},
   "outputs": [],
   "source": []
  },
  {
   "cell_type": "code",
   "execution_count": null,
   "id": "f577b8d1-4aed-4d5b-a1f6-ae532097178c",
   "metadata": {
    "tags": []
   },
   "outputs": [],
   "source": [
    "def print_graphs(input_value, log = False):\n",
    "    print(\"===============\", input_value, \", \", log, \"===============\")\n",
    "    fig, ax1 = plt.subplots(figsize=(50,25))\n",
    "    ax2 = ax1.twinx()\n",
    "    \n",
    "    ax1.plot(df_wdi_sentiment[\"Date\"], df_wdi_sentiment[\"returns_2\"], color=\"green\")\n",
    "    if log:\n",
    "        ax2.plot(df_wdi_sentiment[\"Date\"], np.log(df_wdi_sentiment[input_value]), color=\"red\")\n",
    "    else:\n",
    "        ax2.plot(df_wdi_sentiment[\"Date\"], df_wdi_sentiment[input_value], color=\"red\")\n",
    "\n",
    "    plt.show()\n",
    "\n",
    "input_values =  ['returns_2', 'count_tweets_all', 'count_tweets_pos',\n",
    "       'count_tweets_neg', 'sum_retweet_all', 'sum_retweet_pos',\n",
    "       'sum_retweet_neg', 'sum_like_all', 'sum_like_pos', 'sum_like_neg',\n",
    "       'pct_pos', 'pct_neg', 'pct_pos_all', 'pct_neg_all',\n",
    "       'sum_pos_like_retweet', 'sum_neg_like_retweet', 'sum_all_like_retweet',\n",
    "       'pct_pos_sum', 'pct_neg_sum', 'pct_pos_sum_all', 'pct_neg_sum_all',\n",
    "       'prod_pos_like_retweet', 'prod_neg_like_retweet',\n",
    "       'prod_all_like_retweet', 'pct_pos_prod', 'pct_neg_prod',\n",
    "       'pct_pos_prod_all', 'pct_neg_prod_all', 'relation_pos_neg',\n",
    "       'relation_neg_pos', 'relation_sum_pos_neg', 'relation_sum_neg_pos',\n",
    "       'relation_prod_pos_neg', 'relation_prod_neg_pos']\n",
    "\n",
    "for each in input_values:\n",
    "    print_graphs(each)\n",
    "    print_graphs(each, True)"
   ]
  },
  {
   "cell_type": "code",
   "execution_count": null,
   "id": "fbcae4b1-6d0b-4768-9f1c-5e1da2cd7ffc",
   "metadata": {},
   "outputs": [],
   "source": [
    "\n",
    "plt.scatter(df_wdi_sentiment.Date, np.log(df_wdi_sentiment[\"Adj Close\"]), color=\"blue\")\n",
    "plt.scatter(df_wdi_sentiment.Date, df_wdi_sentiment.bert_neg_percent_all, color=\"red\")\n",
    "plt.scatter(df_wdi_sentiment.Date, df_wdi_sentiment.bert_neg_percent, color=\"orange\")\n",
    "\n",
    "\n",
    "plt.scatter(df_wdi_sentiment.Date, df_wdi_sentiment.bert_pos_percent_all, color=\"green\")\n",
    "\n",
    "\n",
    "plt.scatter(df_wdi_sentiment.Date, df_wdi_sentiment.bert_pos_percent, color=\"yellow\")\n",
    "\n",
    "\n",
    "plt.show"
   ]
  },
  {
   "cell_type": "code",
   "execution_count": null,
   "id": "7861e448-b3ba-470a-a3de-1f6a719e3357",
   "metadata": {},
   "outputs": [],
   "source": [
    "x = np.log(df_wdi_sentiment[\"bert_pos_percent_all\"])\n",
    "y = np.log(df_wdi_sentiment[\"Adj Close\"])\n",
    "\n",
    "plt.scatter(x, y)\n",
    "plt.show()"
   ]
  },
  {
   "cell_type": "code",
   "execution_count": null,
   "id": "ac75d0a4-74a9-4632-ac31-0cd50fd0ddc7",
   "metadata": {},
   "outputs": [],
   "source": []
  },
  {
   "cell_type": "markdown",
   "id": "5aec9db4-6e0a-4fe3-bdd3-7526ef370e3c",
   "metadata": {},
   "source": [
    "<h2>Test</h2>"
   ]
  },
  {
   "cell_type": "markdown",
   "id": "1977f102-26b2-45ac-a6b7-eac3d6980752",
   "metadata": {},
   "source": [
    "<h3>Testfunktionen und anderes nützliches </h3>"
   ]
  },
  {
   "cell_type": "code",
   "execution_count": null,
   "id": "754e0b58-251e-4bf6-a01d-1ec18d8bca73",
   "metadata": {
    "tags": []
   },
   "outputs": [],
   "source": [
    "def test(df):\n",
    "    output = [\"returns\", \"intraday_change\", \"Adj Close\"]\n",
    "    regressor = [\"count_bert_pos\", \"count_bert_neg\", \"bert_pos_percent_all\", \"bert_neg_percent_all\", \n",
    "       \"bert_pos_percent\", \"bert_neg_percent\"]\n",
    "    \n",
    "    for each_out in output:\n",
    "        for each_in in regressor:\n",
    "            df_wdi_sentiment = create_df(df)\n",
    "            print(\"===================================\",each_out,\": \",each_in,\"===============================================\\n\")\n",
    "            lagnames, df_wdi_sentiment = lagit(df_wdi_sentiment, 5, each_in)\n",
    "            reg_model, reg_predictions, test = regression(df_wdi_sentiment, lagnames, each_out)\n",
    "            print(\"\\n\\n\\n\")\n",
    "    return df_wdi_sentiment\n",
    "df_wdi_sentiment = test(df)"
   ]
  },
  {
   "cell_type": "markdown",
   "id": "7b5b1dce-22e1-4322-bd4a-f8ea80c5856d",
   "metadata": {},
   "source": [
    "<h3>Tests zum löschen</h3>"
   ]
  },
  {
   "cell_type": "code",
   "execution_count": null,
   "id": "ddc88b78-9943-4ea6-af70-adebd9cb2a7b",
   "metadata": {},
   "outputs": [],
   "source": [
    "df_wdi_sentiment[\"sentiment\"] = df_wdi_sentiment[\"count_bert_pos\"] - df_wdi_sentiment[\"count_bert_neg\"]\n",
    "df_wdi_sentiment[\"sentiment_dummy\"] = [1 if i > 1 else -1 if i < 0 else 0 for i in df_wdi_sentiment[\"sentiment\"]]"
   ]
  },
  {
   "cell_type": "code",
   "execution_count": null,
   "id": "6d92d405-0eaf-4c38-ba29-ed119cb8fd91",
   "metadata": {},
   "outputs": [],
   "source": []
  },
  {
   "cell_type": "markdown",
   "id": "af73a0e5-8ec2-4bab-88cb-7e008bc443a2",
   "metadata": {},
   "source": [
    "<h2>Alte Funktionen und alter Code</h2>"
   ]
  },
  {
   "cell_type": "code",
   "execution_count": null,
   "id": "8fd9d2a8-eb95-4c6d-a732-ba32c7b7534b",
   "metadata": {},
   "outputs": [],
   "source": [
    "#add data to df\n",
    "def calculate_sentiment(df):\n",
    "    #create a DF with the dates (as dates) and the sum of all tweets grouped by the date\n",
    "    df_date_count = pd.DataFrame({\"count_tweets\": df[\"tweet_id\"].groupby(pd.to_datetime(df[\"created_at\"]).apply(lambda x: x.date())).count()}).reset_index()\n",
    "    \n",
    "    #create a DF with the dates, tweet_id and the sentiment values cahnges to 1, 0 and -1 for calculating the sum grouped by\n",
    "    #by the date. \n",
    "    df_sentiment = pd.DataFrame({\"created_at\": pd.to_datetime(df[\"created_at\"]).apply(lambda x: x.date()), \n",
    "                                 \"tweet_id\": df[\"tweet_id\"], \n",
    "                                 \"sentiment_bert\": [1 if i == \"POS\" else 0 if i == \"NEU\" else -1 for i in df.sentiment_bert]}).reset_index(drop=True)\n",
    "    \n",
    "    #Creates a DF for all negativ Values (BERT)\n",
    "    df_sentiment_neg = df_sentiment.loc[df_sentiment[\"sentiment_bert\"] == -1][[\"created_at\", \"tweet_id\"]].reset_index(drop=True)\n",
    "\n",
    "    #Add the information about neg values from bert.\n",
    "    df_date_count = df_date_count.merge(df_sentiment_neg.groupby([\"created_at\"]).count().reset_index().rename(columns={\"tweet_id\": \"count_bert_neg\"}),\n",
    "                                        how=\"outer\", on=\"created_at\").fillna(0)\n",
    "    #Creates a DF for all positiv Values (BERT)\n",
    "    df_sentiment_pos = df_sentiment.loc[df_sentiment[\"sentiment_bert\"] == 1][[\"created_at\", \"tweet_id\"]].reset_index(drop=True)\n",
    "\n",
    "    #Add the information about pos values from bert.\n",
    "    df_date_count = df_date_count.merge(df_sentiment_pos.groupby([\"created_at\"]).count().reset_index().rename(columns={\"tweet_id\": \"count_bert_pos\"}),\n",
    "                                        how=\"outer\", on=\"created_at\").fillna(0)\n",
    "    \n",
    "    #Calculate pos percent\n",
    "    df_date_count[\"bert_pos_percent_all\"] = df_date_count[\"count_bert_pos\"] / df_date_count[\"count_tweets\"]\n",
    "    \n",
    "    #Calculate neg percent\n",
    "    df_date_count[\"bert_neg_percent_all\"] = df_date_count[\"count_bert_neg\"] / df_date_count[\"count_tweets\"]\n",
    "    \n",
    "    #Calculate pos percent\n",
    "    df_date_count[\"bert_pos_percent\"] = df_date_count[\"count_bert_pos\"] / (df_date_count[\"count_bert_pos\"] + df_date_count[\"count_bert_neg\"])\n",
    "    \n",
    "    #Calculate neg percent\n",
    "    df_date_count[\"bert_neg_percent\"] = df_date_count[\"count_bert_neg\"] / (df_date_count[\"count_bert_pos\"] + df_date_count[\"count_bert_neg\"])\n",
    "    \n",
    "    #Change Date\n",
    "    df_date_count = df_date_count.rename(columns={\"created_at\": \"Date\"})\n",
    "    \n",
    "    return df_date_count"
   ]
  },
  {
   "cell_type": "code",
   "execution_count": null,
   "id": "4d4e6f79-0978-4baa-806b-030be7c8898d",
   "metadata": {},
   "outputs": [],
   "source": [
    "#add data to df \n",
    "#In this DF the tweets are not only counted, also the retweet count is used.\n",
    "def calculate_sentiment(df):    \n",
    "    #create a DF with the dates, tweet_id and the sentiment values cahnges to 1, 0 and -1 for calculating the sum grouped by\n",
    "    #by the date. \n",
    "    df_sentiment = pd.DataFrame({\"created_at\": pd.to_datetime(df[\"created_at\"]).apply(lambda x: x.date()), \n",
    "                                 \"tweet_id\": df[\"tweet_id\"], \n",
    "                                 \"sentiment_bert\": [1 if i == \"POS\" else 0 if i == \"NEU\" else -1 for i in df.sentiment_bert],\n",
    "                                 \"retweet_count\": [1 if i == 0 else i+1 for i in df.retweet_count]}).reset_index(drop=True)\n",
    "    \n",
    "    #create a DF with the dates (as dates) and the sum of all tweets grouped by the date\n",
    "    df_date_count = pd.DataFrame({\"count_tweets\": df_sentiment[\"retweet_count\"].groupby(pd.to_datetime(df_sentiment[\"created_at\"]).apply(lambda x: x.date())).sum()}).reset_index()\n",
    "    \n",
    "    #Creates a DF for all negativ Values (BERT)\n",
    "    df_sentiment_neg = df_sentiment.loc[df_sentiment[\"sentiment_bert\"] == -1][[\"created_at\", \"retweet_count\"]].reset_index(drop=True)\n",
    "                        \n",
    "    #Add the information about neg values from bert.\n",
    "    df_date_count = df_date_count.merge(df_sentiment_neg.groupby([\"created_at\"]).sum().reset_index().rename(columns={\"retweet_count\": \"count_bert_neg\"}),\n",
    "                                        how=\"outer\", on=\"created_at\").fillna(0)\n",
    "    #Creates a DF for all positiv Values (BERT)\n",
    "    df_sentiment_pos = df_sentiment.loc[df_sentiment[\"sentiment_bert\"] == 1][[\"created_at\", \"retweet_count\"]].reset_index(drop=True)\n",
    "\n",
    "    #Add the information about pos values from bert.\n",
    "    df_date_count = df_date_count.merge(df_sentiment_pos.groupby([\"created_at\"]).sum().reset_index().rename(columns={\"retweet_count\": \"count_bert_pos\"}),\n",
    "                                        how=\"outer\", on=\"created_at\").fillna(0)\n",
    "    \n",
    "    #Calculate pos percent\n",
    "    df_date_count[\"bert_pos_percent_all\"] = df_date_count[\"count_bert_pos\"] / df_date_count[\"count_tweets\"]\n",
    "    \n",
    "    #Calculate neg percent\n",
    "    df_date_count[\"bert_neg_percent_all\"] = df_date_count[\"count_bert_neg\"] / df_date_count[\"count_tweets\"]\n",
    "    \n",
    "    #Calculate pos percent\n",
    "    df_date_count[\"bert_pos_percent\"] = df_date_count[\"count_bert_pos\"] / (df_date_count[\"count_bert_pos\"] + df_date_count[\"count_bert_neg\"])\n",
    "    \n",
    "    #Calculate neg percent\n",
    "    df_date_count[\"bert_neg_percent\"] = df_date_count[\"count_bert_neg\"] / (df_date_count[\"count_bert_pos\"] + df_date_count[\"count_bert_neg\"])\n",
    "    \n",
    "    #Change Date\n",
    "    df_date_count = df_date_count.rename(columns={\"created_at\": \"Date\"})\n",
    "    \n",
    "    return df_date_count"
   ]
  },
  {
   "cell_type": "code",
   "execution_count": null,
   "id": "6a1eff76-85e4-4f43-bebd-a98de5e4a635",
   "metadata": {},
   "outputs": [],
   "source": [
    "(df_wdi_sentiment[\"count_tweets_pos\"] / df_wdi_sentiment[\"count_tweets_neg\"]).replace(np.inf, np.nan).fillna(0)"
   ]
  },
  {
   "cell_type": "code",
   "execution_count": null,
   "id": "600ffb44-80f7-4891-9d68-c05c1f0ecc9c",
   "metadata": {},
   "outputs": [],
   "source": [
    "(df_wdi_sentiment[\"sum_pos_like_retweet\"] / df_wdi_sentiment[\"sum_neg_like_retweet\"]).replace(np.inf, np.nan).fillna(0)"
   ]
  },
  {
   "cell_type": "code",
   "execution_count": null,
   "id": "8c6ef06a-c018-43e9-9a6b-c7f412a3b6d2",
   "metadata": {},
   "outputs": [],
   "source": [
    "(df_wdi_sentiment[\"prod_pos_like_retweet\"] / df_wdi_sentiment[\"prod_neg_like_retweet\"]).replace(np.inf, np.nan).fillna(0)"
   ]
  },
  {
   "cell_type": "code",
   "execution_count": null,
   "id": "1f70a20d-bc87-46ef-bc2b-aabbbfd4a898",
   "metadata": {},
   "outputs": [],
   "source": [
    "test_list = []\n",
    "print(type(test_list))"
   ]
  },
  {
   "cell_type": "code",
   "execution_count": null,
   "id": "f3680659-94bb-4c76-af70-bad8d1fa465a",
   "metadata": {},
   "outputs": [],
   "source": [
    "if type(test_list) == list:\n",
    "    print(True)\n",
    "else:\n",
    "    print(False)"
   ]
  },
  {
   "cell_type": "code",
   "execution_count": null,
   "id": "2e9cdf9d-82e1-48c4-a212-898518f9a645",
   "metadata": {},
   "outputs": [],
   "source": [
    "df = pd.concat([df_en, df_de]).reset_index(drop=True)"
   ]
  },
  {
   "cell_type": "code",
   "execution_count": null,
   "id": "bcd0ef9a-a0b8-48b9-9971-66549aa3661d",
   "metadata": {},
   "outputs": [],
   "source": [
    "df_wdi_sentiment[\"Volume\"] = np.log([1 if i == 0 else i for i in df_wdi_sentiment[\"Volume\"]])"
   ]
  },
  {
   "cell_type": "code",
   "execution_count": null,
   "id": "30c67b6c-dd56-4df6-abbe-c30c0b577a58",
   "metadata": {},
   "outputs": [],
   "source": [
    "print(len(df_de))\n",
    "print(len(df_en))\n",
    "print(len(df_de) + len(df_en))\n",
    "print(len(df))"
   ]
  },
  {
   "cell_type": "code",
   "execution_count": null,
   "id": "0a4fb22b-2624-4a74-b8d9-cc5f34c693d4",
   "metadata": {},
   "outputs": [],
   "source": [
    "df_wdi_sentiment"
   ]
  },
  {
   "cell_type": "code",
   "execution_count": null,
   "id": "4efe0faa-6574-43c9-b6e9-72784edf5b59",
   "metadata": {},
   "outputs": [],
   "source": [
    "np.log([1 if i == 0 else i for i in df_wdi_sentiment[\"Volume\"]])"
   ]
  },
  {
   "cell_type": "code",
   "execution_count": null,
   "id": "5717b3cd-a4dc-462f-957b-5532363ff723",
   "metadata": {},
   "outputs": [],
   "source": [
    "np.log(211)"
   ]
  },
  {
   "cell_type": "code",
   "execution_count": null,
   "id": "564da044-ab43-45ac-9dc7-c6ea89985b7d",
   "metadata": {},
   "outputs": [],
   "source": [
    "np.log([1 if i == 0 else i for i in df_wdi_sentiment[\"Volume\"]])"
   ]
  },
  {
   "cell_type": "code",
   "execution_count": null,
   "id": "2132c1b4-33ef-4806-9ca7-3114affe0d9e",
   "metadata": {},
   "outputs": [],
   "source": [
    "df_wdi_sentiment = create_df(df)"
   ]
  },
  {
   "cell_type": "code",
   "execution_count": null,
   "id": "bcfa2fba-56b1-45cc-a01f-fec732fe34bf",
   "metadata": {},
   "outputs": [],
   "source": [
    "df_wdi_sentiment[df_wdi_sentiment[\"relation_pos_neg\"] < 0]"
   ]
  },
  {
   "cell_type": "code",
   "execution_count": null,
   "id": "d0bff7f7-fc42-4eb9-9ec9-c83d0751b777",
   "metadata": {},
   "outputs": [],
   "source": [
    "[1 if i > 0 else -1 if i < 0 else 0 for i in (df_wdi_sentiment.count_tweets_pos-df_wdi_sentiment.count_tweets_neg)]"
   ]
  },
  {
   "cell_type": "code",
   "execution_count": null,
   "id": "5426d4f4-4f11-4cfd-8b91-0a1389b721b4",
   "metadata": {},
   "outputs": [],
   "source": [
    "df_wdi_sentiment.tail()"
   ]
  },
  {
   "cell_type": "code",
   "execution_count": null,
   "id": "473d0e9d-0855-42a9-a25f-ec469106e1ad",
   "metadata": {},
   "outputs": [],
   "source": [
    "df_wdi_sentiment.iloc[1139]"
   ]
  },
  {
   "cell_type": "code",
   "execution_count": null,
   "id": "84b283cb-7893-4aea-a583-b06d085075bf",
   "metadata": {},
   "outputs": [],
   "source": []
  },
  {
   "cell_type": "code",
   "execution_count": null,
   "id": "66f8ab53-6b74-4135-9864-7ac9d033a450",
   "metadata": {},
   "outputs": [],
   "source": []
  },
  {
   "cell_type": "code",
   "execution_count": null,
   "id": "b6ddccfc-4f6f-439b-bf6a-9069b4e879e5",
   "metadata": {},
   "outputs": [],
   "source": []
  },
  {
   "cell_type": "code",
   "execution_count": null,
   "id": "c580cda5-2f5c-498c-949b-42f48b9cc975",
   "metadata": {},
   "outputs": [],
   "source": [
    "df_wdi_sentiment"
   ]
  },
  {
   "cell_type": "code",
   "execution_count": null,
   "id": "c3e38880-dd48-4c74-9165-2a261d59f85b",
   "metadata": {},
   "outputs": [],
   "source": [
    "len(create_df(df))"
   ]
  },
  {
   "cell_type": "code",
   "execution_count": null,
   "id": "25a946d0-8c79-48e0-83bb-033fdac4e292",
   "metadata": {},
   "outputs": [],
   "source": []
  },
  {
   "cell_type": "code",
   "execution_count": null,
   "id": "fbc86581-7331-4116-b5e0-cbfe48ed5cbf",
   "metadata": {},
   "outputs": [],
   "source": []
  },
  {
   "cell_type": "code",
   "execution_count": null,
   "id": "8b0ab8af-9a1b-4cb3-91ea-eebdc5387f1b",
   "metadata": {},
   "outputs": [],
   "source": [
    "df[\"Lag_\"+each+\"_\"+str(i)] = df[each].shift(i)"
   ]
  },
  {
   "cell_type": "code",
   "execution_count": 95,
   "id": "a7924936-92f2-4090-94da-f631fc8a795b",
   "metadata": {},
   "outputs": [],
   "source": [
    "df_wdi_sentiment = create_df(df)\n",
    "df_wdi_sentiment[\"Adj_Close_prev_day\"] = df_wdi_sentiment[\"Adj_Close\"].shift(1)\n",
    "df_wdi_sentiment.dropna(subset=[\"Adj_Close_prev_day\"], inplace=True)"
   ]
  },
  {
   "cell_type": "code",
   "execution_count": 96,
   "id": "481526c7-500a-45ef-8b85-f7408b038a61",
   "metadata": {},
   "outputs": [
    {
     "data": {
      "text/plain": [
       "1       45.893112\n",
       "2       45.789028\n",
       "3       44.455849\n",
       "4       45.085274\n",
       "5       42.091812\n",
       "          ...    \n",
       "1136     1.949200\n",
       "1137     1.850000\n",
       "1138     1.852600\n",
       "1139     2.050000\n",
       "1140     1.928000\n",
       "Name: Adj_Close_prev_day, Length: 1140, dtype: float64"
      ]
     },
     "execution_count": 96,
     "metadata": {},
     "output_type": "execute_result"
    }
   ],
   "source": [
    "df_wdi_sentiment[\"Adj_Close_prev_day\"]"
   ]
  },
  {
   "cell_type": "code",
   "execution_count": 91,
   "id": "e82d68ca-ae8d-4dfa-803e-c7d6a0043578",
   "metadata": {},
   "outputs": [
    {
     "data": {
      "text/html": [
       "<div>\n",
       "<style scoped>\n",
       "    .dataframe tbody tr th:only-of-type {\n",
       "        vertical-align: middle;\n",
       "    }\n",
       "\n",
       "    .dataframe tbody tr th {\n",
       "        vertical-align: top;\n",
       "    }\n",
       "\n",
       "    .dataframe thead th {\n",
       "        text-align: right;\n",
       "    }\n",
       "</style>\n",
       "<table border=\"1\" class=\"dataframe\">\n",
       "  <thead>\n",
       "    <tr style=\"text-align: right;\">\n",
       "      <th></th>\n",
       "      <th>Date</th>\n",
       "      <th>Open</th>\n",
       "      <th>High</th>\n",
       "      <th>Low</th>\n",
       "      <th>Close</th>\n",
       "      <th>Adj_Close</th>\n",
       "      <th>Volume</th>\n",
       "      <th>returns</th>\n",
       "      <th>returns_2</th>\n",
       "      <th>count_tweets_all</th>\n",
       "      <th>...</th>\n",
       "      <th>pct_neg_prod</th>\n",
       "      <th>pct_pos_prod_all</th>\n",
       "      <th>pct_neg_prod_all</th>\n",
       "      <th>relation_pos_neg</th>\n",
       "      <th>relation_neg_pos</th>\n",
       "      <th>relation_sum_pos_neg</th>\n",
       "      <th>relation_sum_neg_pos</th>\n",
       "      <th>relation_prod_pos_neg</th>\n",
       "      <th>relation_prod_neg_pos</th>\n",
       "      <th>Adj_Close_prev_day</th>\n",
       "    </tr>\n",
       "  </thead>\n",
       "  <tbody>\n",
       "    <tr>\n",
       "      <th>0</th>\n",
       "      <td>2016-02-01</td>\n",
       "      <td>47.090000</td>\n",
       "      <td>47.090000</td>\n",
       "      <td>46.299999</td>\n",
       "      <td>46.299999</td>\n",
       "      <td>45.893112</td>\n",
       "      <td>69</td>\n",
       "      <td>0.000000</td>\n",
       "      <td>0.000000</td>\n",
       "      <td>22.0</td>\n",
       "      <td>...</td>\n",
       "      <td>0.021739</td>\n",
       "      <td>0.146104</td>\n",
       "      <td>0.003247</td>\n",
       "      <td>3.000000</td>\n",
       "      <td>0.333333</td>\n",
       "      <td>10.500000</td>\n",
       "      <td>0.095238</td>\n",
       "      <td>45.000000</td>\n",
       "      <td>0.022222</td>\n",
       "      <td>None</td>\n",
       "    </tr>\n",
       "    <tr>\n",
       "      <th>1</th>\n",
       "      <td>2016-02-02</td>\n",
       "      <td>46.195000</td>\n",
       "      <td>46.195000</td>\n",
       "      <td>46.195000</td>\n",
       "      <td>46.195000</td>\n",
       "      <td>45.789028</td>\n",
       "      <td>0</td>\n",
       "      <td>-0.002270</td>\n",
       "      <td>0.997732</td>\n",
       "      <td>37.0</td>\n",
       "      <td>...</td>\n",
       "      <td>0.052632</td>\n",
       "      <td>0.037422</td>\n",
       "      <td>0.002079</td>\n",
       "      <td>3.000000</td>\n",
       "      <td>0.333333</td>\n",
       "      <td>4.000000</td>\n",
       "      <td>0.250000</td>\n",
       "      <td>18.000000</td>\n",
       "      <td>0.055556</td>\n",
       "      <td>None</td>\n",
       "    </tr>\n",
       "    <tr>\n",
       "      <th>2</th>\n",
       "      <td>2016-02-03</td>\n",
       "      <td>45.000000</td>\n",
       "      <td>45.000000</td>\n",
       "      <td>44.849998</td>\n",
       "      <td>44.849998</td>\n",
       "      <td>44.455849</td>\n",
       "      <td>90</td>\n",
       "      <td>-0.029548</td>\n",
       "      <td>0.970884</td>\n",
       "      <td>16.0</td>\n",
       "      <td>...</td>\n",
       "      <td>0.000000</td>\n",
       "      <td>0.463235</td>\n",
       "      <td>0.000000</td>\n",
       "      <td>0.000000</td>\n",
       "      <td>0.000000</td>\n",
       "      <td>0.000000</td>\n",
       "      <td>0.000000</td>\n",
       "      <td>0.000000</td>\n",
       "      <td>0.000000</td>\n",
       "      <td>None</td>\n",
       "    </tr>\n",
       "    <tr>\n",
       "      <th>3</th>\n",
       "      <td>2016-02-04</td>\n",
       "      <td>45.485001</td>\n",
       "      <td>45.485001</td>\n",
       "      <td>45.485001</td>\n",
       "      <td>45.485001</td>\n",
       "      <td>45.085274</td>\n",
       "      <td>0</td>\n",
       "      <td>0.014059</td>\n",
       "      <td>1.014158</td>\n",
       "      <td>30.0</td>\n",
       "      <td>...</td>\n",
       "      <td>0.023256</td>\n",
       "      <td>0.103704</td>\n",
       "      <td>0.002469</td>\n",
       "      <td>7.000000</td>\n",
       "      <td>0.142857</td>\n",
       "      <td>6.333333</td>\n",
       "      <td>0.157895</td>\n",
       "      <td>42.000000</td>\n",
       "      <td>0.023810</td>\n",
       "      <td>None</td>\n",
       "    </tr>\n",
       "    <tr>\n",
       "      <th>4</th>\n",
       "      <td>2016-02-05</td>\n",
       "      <td>43.500000</td>\n",
       "      <td>44.000000</td>\n",
       "      <td>42.465000</td>\n",
       "      <td>42.465000</td>\n",
       "      <td>42.091812</td>\n",
       "      <td>110</td>\n",
       "      <td>-0.068702</td>\n",
       "      <td>0.933604</td>\n",
       "      <td>20.0</td>\n",
       "      <td>...</td>\n",
       "      <td>0.285714</td>\n",
       "      <td>0.022727</td>\n",
       "      <td>0.009091</td>\n",
       "      <td>2.500000</td>\n",
       "      <td>0.400000</td>\n",
       "      <td>3.000000</td>\n",
       "      <td>0.333333</td>\n",
       "      <td>2.500000</td>\n",
       "      <td>0.400000</td>\n",
       "      <td>None</td>\n",
       "    </tr>\n",
       "    <tr>\n",
       "      <th>...</th>\n",
       "      <td>...</td>\n",
       "      <td>...</td>\n",
       "      <td>...</td>\n",
       "      <td>...</td>\n",
       "      <td>...</td>\n",
       "      <td>...</td>\n",
       "      <td>...</td>\n",
       "      <td>...</td>\n",
       "      <td>...</td>\n",
       "      <td>...</td>\n",
       "      <td>...</td>\n",
       "      <td>...</td>\n",
       "      <td>...</td>\n",
       "      <td>...</td>\n",
       "      <td>...</td>\n",
       "      <td>...</td>\n",
       "      <td>...</td>\n",
       "      <td>...</td>\n",
       "      <td>...</td>\n",
       "      <td>...</td>\n",
       "      <td>...</td>\n",
       "    </tr>\n",
       "    <tr>\n",
       "      <th>1136</th>\n",
       "      <td>2020-07-27</td>\n",
       "      <td>2.228000</td>\n",
       "      <td>2.516000</td>\n",
       "      <td>1.850000</td>\n",
       "      <td>1.850000</td>\n",
       "      <td>1.850000</td>\n",
       "      <td>25093</td>\n",
       "      <td>-0.052233</td>\n",
       "      <td>0.949107</td>\n",
       "      <td>736.0</td>\n",
       "      <td>...</td>\n",
       "      <td>0.983516</td>\n",
       "      <td>0.001364</td>\n",
       "      <td>0.081359</td>\n",
       "      <td>0.185792</td>\n",
       "      <td>5.382353</td>\n",
       "      <td>0.106227</td>\n",
       "      <td>9.413793</td>\n",
       "      <td>0.016760</td>\n",
       "      <td>59.665352</td>\n",
       "      <td>None</td>\n",
       "    </tr>\n",
       "    <tr>\n",
       "      <th>1137</th>\n",
       "      <td>2020-07-28</td>\n",
       "      <td>1.847000</td>\n",
       "      <td>1.869200</td>\n",
       "      <td>1.828000</td>\n",
       "      <td>1.852600</td>\n",
       "      <td>1.852600</td>\n",
       "      <td>2035</td>\n",
       "      <td>0.001404</td>\n",
       "      <td>1.001405</td>\n",
       "      <td>917.0</td>\n",
       "      <td>...</td>\n",
       "      <td>0.996102</td>\n",
       "      <td>0.000459</td>\n",
       "      <td>0.117247</td>\n",
       "      <td>0.108761</td>\n",
       "      <td>9.194444</td>\n",
       "      <td>0.049127</td>\n",
       "      <td>20.355556</td>\n",
       "      <td>0.003913</td>\n",
       "      <td>255.571502</td>\n",
       "      <td>None</td>\n",
       "    </tr>\n",
       "    <tr>\n",
       "      <th>1138</th>\n",
       "      <td>2020-07-29</td>\n",
       "      <td>1.850000</td>\n",
       "      <td>2.092500</td>\n",
       "      <td>1.830000</td>\n",
       "      <td>2.050000</td>\n",
       "      <td>2.050000</td>\n",
       "      <td>19941</td>\n",
       "      <td>0.101250</td>\n",
       "      <td>1.106553</td>\n",
       "      <td>1913.0</td>\n",
       "      <td>...</td>\n",
       "      <td>0.995327</td>\n",
       "      <td>0.000273</td>\n",
       "      <td>0.058186</td>\n",
       "      <td>0.152475</td>\n",
       "      <td>6.558442</td>\n",
       "      <td>0.046753</td>\n",
       "      <td>21.388889</td>\n",
       "      <td>0.004695</td>\n",
       "      <td>212.990165</td>\n",
       "      <td>None</td>\n",
       "    </tr>\n",
       "    <tr>\n",
       "      <th>1139</th>\n",
       "      <td>2020-07-30</td>\n",
       "      <td>2.055000</td>\n",
       "      <td>2.100000</td>\n",
       "      <td>1.928000</td>\n",
       "      <td>1.928000</td>\n",
       "      <td>1.928000</td>\n",
       "      <td>3200</td>\n",
       "      <td>-0.061357</td>\n",
       "      <td>0.940488</td>\n",
       "      <td>1267.0</td>\n",
       "      <td>...</td>\n",
       "      <td>0.984520</td>\n",
       "      <td>0.001224</td>\n",
       "      <td>0.077845</td>\n",
       "      <td>0.101796</td>\n",
       "      <td>9.823529</td>\n",
       "      <td>0.146528</td>\n",
       "      <td>6.824615</td>\n",
       "      <td>0.015723</td>\n",
       "      <td>63.599757</td>\n",
       "      <td>None</td>\n",
       "    </tr>\n",
       "    <tr>\n",
       "      <th>1140</th>\n",
       "      <td>2020-07-31</td>\n",
       "      <td>1.889000</td>\n",
       "      <td>1.950000</td>\n",
       "      <td>1.889000</td>\n",
       "      <td>1.890000</td>\n",
       "      <td>1.890000</td>\n",
       "      <td>26264</td>\n",
       "      <td>-0.019906</td>\n",
       "      <td>0.980290</td>\n",
       "      <td>0.0</td>\n",
       "      <td>...</td>\n",
       "      <td>0.000000</td>\n",
       "      <td>0.000000</td>\n",
       "      <td>0.000000</td>\n",
       "      <td>0.000000</td>\n",
       "      <td>0.000000</td>\n",
       "      <td>0.000000</td>\n",
       "      <td>0.000000</td>\n",
       "      <td>0.000000</td>\n",
       "      <td>0.000000</td>\n",
       "      <td>None</td>\n",
       "    </tr>\n",
       "  </tbody>\n",
       "</table>\n",
       "<p>1141 rows × 43 columns</p>\n",
       "</div>"
      ],
      "text/plain": [
       "            Date       Open       High        Low      Close  Adj_Close  \\\n",
       "0     2016-02-01  47.090000  47.090000  46.299999  46.299999  45.893112   \n",
       "1     2016-02-02  46.195000  46.195000  46.195000  46.195000  45.789028   \n",
       "2     2016-02-03  45.000000  45.000000  44.849998  44.849998  44.455849   \n",
       "3     2016-02-04  45.485001  45.485001  45.485001  45.485001  45.085274   \n",
       "4     2016-02-05  43.500000  44.000000  42.465000  42.465000  42.091812   \n",
       "...          ...        ...        ...        ...        ...        ...   \n",
       "1136  2020-07-27   2.228000   2.516000   1.850000   1.850000   1.850000   \n",
       "1137  2020-07-28   1.847000   1.869200   1.828000   1.852600   1.852600   \n",
       "1138  2020-07-29   1.850000   2.092500   1.830000   2.050000   2.050000   \n",
       "1139  2020-07-30   2.055000   2.100000   1.928000   1.928000   1.928000   \n",
       "1140  2020-07-31   1.889000   1.950000   1.889000   1.890000   1.890000   \n",
       "\n",
       "      Volume   returns  returns_2  count_tweets_all  ...  pct_neg_prod  \\\n",
       "0         69  0.000000   0.000000              22.0  ...      0.021739   \n",
       "1          0 -0.002270   0.997732              37.0  ...      0.052632   \n",
       "2         90 -0.029548   0.970884              16.0  ...      0.000000   \n",
       "3          0  0.014059   1.014158              30.0  ...      0.023256   \n",
       "4        110 -0.068702   0.933604              20.0  ...      0.285714   \n",
       "...      ...       ...        ...               ...  ...           ...   \n",
       "1136   25093 -0.052233   0.949107             736.0  ...      0.983516   \n",
       "1137    2035  0.001404   1.001405             917.0  ...      0.996102   \n",
       "1138   19941  0.101250   1.106553            1913.0  ...      0.995327   \n",
       "1139    3200 -0.061357   0.940488            1267.0  ...      0.984520   \n",
       "1140   26264 -0.019906   0.980290               0.0  ...      0.000000   \n",
       "\n",
       "      pct_pos_prod_all  pct_neg_prod_all  relation_pos_neg  relation_neg_pos  \\\n",
       "0             0.146104          0.003247          3.000000          0.333333   \n",
       "1             0.037422          0.002079          3.000000          0.333333   \n",
       "2             0.463235          0.000000          0.000000          0.000000   \n",
       "3             0.103704          0.002469          7.000000          0.142857   \n",
       "4             0.022727          0.009091          2.500000          0.400000   \n",
       "...                ...               ...               ...               ...   \n",
       "1136          0.001364          0.081359          0.185792          5.382353   \n",
       "1137          0.000459          0.117247          0.108761          9.194444   \n",
       "1138          0.000273          0.058186          0.152475          6.558442   \n",
       "1139          0.001224          0.077845          0.101796          9.823529   \n",
       "1140          0.000000          0.000000          0.000000          0.000000   \n",
       "\n",
       "      relation_sum_pos_neg  relation_sum_neg_pos  relation_prod_pos_neg  \\\n",
       "0                10.500000              0.095238              45.000000   \n",
       "1                 4.000000              0.250000              18.000000   \n",
       "2                 0.000000              0.000000               0.000000   \n",
       "3                 6.333333              0.157895              42.000000   \n",
       "4                 3.000000              0.333333               2.500000   \n",
       "...                    ...                   ...                    ...   \n",
       "1136              0.106227              9.413793               0.016760   \n",
       "1137              0.049127             20.355556               0.003913   \n",
       "1138              0.046753             21.388889               0.004695   \n",
       "1139              0.146528              6.824615               0.015723   \n",
       "1140              0.000000              0.000000               0.000000   \n",
       "\n",
       "      relation_prod_neg_pos  Adj_Close_prev_day  \n",
       "0                  0.022222                None  \n",
       "1                  0.055556                None  \n",
       "2                  0.000000                None  \n",
       "3                  0.023810                None  \n",
       "4                  0.400000                None  \n",
       "...                     ...                 ...  \n",
       "1136              59.665352                None  \n",
       "1137             255.571502                None  \n",
       "1138             212.990165                None  \n",
       "1139              63.599757                None  \n",
       "1140               0.000000                None  \n",
       "\n",
       "[1141 rows x 43 columns]"
      ]
     },
     "execution_count": 91,
     "metadata": {},
     "output_type": "execute_result"
    }
   ],
   "source": [
    "df_wdi_sentiment"
   ]
  },
  {
   "cell_type": "code",
   "execution_count": 63,
   "id": "47ca2710-6ebc-4e39-8195-9e8bd1e3826d",
   "metadata": {},
   "outputs": [
    {
     "data": {
      "text/plain": [
       "0             NaN\n",
       "1       35.723277\n",
       "2       43.821476\n",
       "3       39.296592\n",
       "4       39.202427\n",
       "          ...    \n",
       "1131     1.750800\n",
       "1132     1.855200\n",
       "1133     2.247400\n",
       "1134     1.806000\n",
       "1135     1.890000\n",
       "Length: 1136, dtype: float64"
      ]
     },
     "execution_count": 63,
     "metadata": {},
     "output_type": "execute_result"
    }
   ],
   "source": [
    "df_wdi_sentiment[\"Adj_Close\"] + np.sign(df_wdi_sentiment[\"pct_pos_sum\"]) * (df_wdi_sentiment[\"Adj_Close\"] - df_wdi_sentiment[\"Adj_Close_prev_day\"])."
   ]
  },
  {
   "cell_type": "code",
   "execution_count": 65,
   "id": "e6621202-9e41-4e55-b017-5d9fe82acb67",
   "metadata": {},
   "outputs": [
    {
     "data": {
      "text/plain": [
       "Series([], dtype: object)"
      ]
     },
     "execution_count": 65,
     "metadata": {},
     "output_type": "execute_result"
    }
   ],
   "source": [
    "df_wdi_sentiment[\"Adj_Close\"] + np.sign(df_wdi_sentiment[\"pct_pos_sum\"]) * (df_wdi_sentiment[\"Adj_Close\"] - df_wdi_sentiment[\"Adj_Close_prev_day\"])"
   ]
  },
  {
   "cell_type": "code",
   "execution_count": null,
   "id": "be42d8cb-daec-4392-af0e-90d1c3b3405e",
   "metadata": {},
   "outputs": [],
   "source": []
  }
 ],
 "metadata": {
  "kernelspec": {
   "display_name": "master_thesis_3.9.10",
   "language": "python",
   "name": "master_thesis_3.9.10"
  },
  "language_info": {
   "codemirror_mode": {
    "name": "ipython",
    "version": 3
   },
   "file_extension": ".py",
   "mimetype": "text/x-python",
   "name": "python",
   "nbconvert_exporter": "python",
   "pygments_lexer": "ipython3",
   "version": "3.9.10"
  }
 },
 "nbformat": 4,
 "nbformat_minor": 5
}
