{
 "cells": [
  {
   "cell_type": "markdown",
   "id": "793b32d5-d676-4e7a-94c1-0fc413ecd124",
   "metadata": {},
   "source": [
    "<h1>Sentimentanalyse der Twitter Daten</h1>"
   ]
  },
  {
   "cell_type": "markdown",
   "id": "0fdc0f4c-369b-4327-9a31-d93e94a4d7d5",
   "metadata": {
    "tags": []
   },
   "source": [
    "<h2>Aufgaben</h2>\n",
    "<p>Laden der Daten</p>\n",
    "<p>Zusammenführen der Daten</p>\n",
    "<p>Aussortieren nicht benötigter Tweets und Daten</p>"
   ]
  },
  {
   "cell_type": "code",
   "execution_count": 1,
   "id": "ee30e583-f0f5-481a-b934-6009505578e4",
   "metadata": {},
   "outputs": [
    {
     "ename": "ModuleNotFoundError",
     "evalue": "No module named 'numpy'",
     "output_type": "error",
     "traceback": [
      "\u001b[0;31m---------------------------------------------------------------------------\u001b[0m",
      "\u001b[0;31mModuleNotFoundError\u001b[0m                       Traceback (most recent call last)",
      "\u001b[0;32m<ipython-input-1-04467cc03e3f>\u001b[0m in \u001b[0;36m<module>\u001b[0;34m\u001b[0m\n\u001b[1;32m      1\u001b[0m \u001b[0;32mimport\u001b[0m \u001b[0mcsv\u001b[0m\u001b[0;34m\u001b[0m\u001b[0;34m\u001b[0m\u001b[0m\n\u001b[0;32m----> 2\u001b[0;31m \u001b[0;32mimport\u001b[0m \u001b[0mnumpy\u001b[0m \u001b[0;32mas\u001b[0m \u001b[0mnp\u001b[0m\u001b[0;34m\u001b[0m\u001b[0;34m\u001b[0m\u001b[0m\n\u001b[0m\u001b[1;32m      3\u001b[0m \u001b[0;32mimport\u001b[0m \u001b[0mpandas\u001b[0m \u001b[0;32mas\u001b[0m \u001b[0mpd\u001b[0m\u001b[0;34m\u001b[0m\u001b[0;34m\u001b[0m\u001b[0m\n",
      "\u001b[0;31mModuleNotFoundError\u001b[0m: No module named 'numpy'"
     ]
    }
   ],
   "source": [
    "import csv\n",
    "import numpy as np\n",
    "import pandas as pd"
   ]
  },
  {
   "cell_type": "code",
   "execution_count": 2,
   "id": "b8d7c164-ebdf-4a66-b962-c21feeb8736c",
   "metadata": {},
   "outputs": [
    {
     "name": "stdout",
     "output_type": "stream",
     "text": [
      "[Errno 2] No such file or directory: 'data/Manager_DE'\n",
      "/Users/tobias/Dev/FOM/Master_Thesis/tests\n"
     ]
    }
   ],
   "source": [
    "cd data/Manager_DE"
   ]
  },
  {
   "cell_type": "code",
   "execution_count": 3,
   "id": "1dfa9445-84dc-46c5-875f-e117688ed495",
   "metadata": {},
   "outputs": [
    {
     "name": "stdout",
     "output_type": "stream",
     "text": [
      "2016_data.json                         test.csv\n",
      "Sentiment_Analysis_Twitter_Data.ipynb  test.py\n",
      "Untitled.ipynb                         testlog.log\n",
      "data.json                              your_file.json\n",
      "tempCodeRunnerFile.py\n"
     ]
    }
   ],
   "source": [
    "ls"
   ]
  },
  {
   "cell_type": "code",
   "execution_count": 4,
   "id": "f47238a6-2cf8-43ec-82e4-892089f6fbcc",
   "metadata": {},
   "outputs": [
    {
     "ename": "NameError",
     "evalue": "name 'pd' is not defined",
     "output_type": "error",
     "traceback": [
      "\u001b[0;31m---------------------------------------------------------------------------\u001b[0m",
      "\u001b[0;31mNameError\u001b[0m                                 Traceback (most recent call last)",
      "\u001b[0;32m<ipython-input-4-697e77f6e8b7>\u001b[0m in \u001b[0;36m<module>\u001b[0;34m\u001b[0m\n\u001b[0;32m----> 1\u001b[0;31m \u001b[0mdata\u001b[0m \u001b[0;34m=\u001b[0m \u001b[0mpd\u001b[0m\u001b[0;34m.\u001b[0m\u001b[0mread_csv\u001b[0m\u001b[0;34m(\u001b[0m\u001b[0;34m\"data.csv\"\u001b[0m\u001b[0;34m,\u001b[0m \u001b[0mencoding\u001b[0m\u001b[0;34m=\u001b[0m\u001b[0;34m'utf8'\u001b[0m\u001b[0;34m,\u001b[0m \u001b[0mskiprows\u001b[0m\u001b[0;34m=\u001b[0m\u001b[0;36m2\u001b[0m\u001b[0;34m)\u001b[0m\u001b[0;34m\u001b[0m\u001b[0;34m\u001b[0m\u001b[0m\n\u001b[0m",
      "\u001b[0;31mNameError\u001b[0m: name 'pd' is not defined"
     ]
    }
   ],
   "source": [
    "data = pd.read_csv(\"data.csv\", encoding='utf8', skiprows=2)"
   ]
  },
  {
   "cell_type": "code",
   "execution_count": 5,
   "id": "d2174918-ab8b-4099-b93b-690cf52d9041",
   "metadata": {},
   "outputs": [
    {
     "ename": "NameError",
     "evalue": "name 'Users' is not defined",
     "output_type": "error",
     "traceback": [
      "\u001b[0;31m---------------------------------------------------------------------------\u001b[0m",
      "\u001b[0;31mNameError\u001b[0m                                 Traceback (most recent call last)",
      "\u001b[0;32m<ipython-input-5-10f66e7eb989>\u001b[0m in \u001b[0;36m<module>\u001b[0;34m\u001b[0m\n\u001b[0;32m----> 1\u001b[0;31m \u001b[0mUsers\u001b[0m\u001b[0;34m/\u001b[0m\u001b[0mtobias\u001b[0m\u001b[0;34m/\u001b[0m\u001b[0mDev\u001b[0m\u001b[0;34m/\u001b[0m\u001b[0mFOM\u001b[0m\u001b[0;34m/\u001b[0m\u001b[0mMaster_Thesis\u001b[0m\u001b[0;34m/\u001b[0m\u001b[0mdata\u001b[0m\u001b[0;34m/\u001b[0m\u001b[0mManager_DE\u001b[0m\u001b[0;34m(\u001b[0m\u001b[0;34m)\u001b[0m\u001b[0;34m\u001b[0m\u001b[0;34m\u001b[0m\u001b[0m\n\u001b[0m",
      "\u001b[0;31mNameError\u001b[0m: name 'Users' is not defined"
     ]
    }
   ],
   "source": [
    "/Users/tobias/Dev/FOM/Master_Thesis/data/Manager_DE"
   ]
  },
  {
   "cell_type": "code",
   "execution_count": 6,
   "id": "6cc83e5f-48b2-499f-b20f-943cb953a5d3",
   "metadata": {
    "tags": []
   },
   "outputs": [
    {
     "name": "stdout",
     "output_type": "stream",
     "text": [
      "[Errno 2] No such file or directory: 'tests'\n",
      "/Users/tobias/Dev/FOM/Master_Thesis/tests\n"
     ]
    }
   ],
   "source": [
    "cd tests"
   ]
  },
  {
   "cell_type": "code",
   "execution_count": null,
   "id": "a0f4896a-bb52-44b9-96a6-35224af94f28",
   "metadata": {},
   "outputs": [],
   "source": []
  },
  {
   "cell_type": "code",
   "execution_count": null,
   "id": "b2383f68-c6c6-4bdb-b8dd-b8bb6739cf1e",
   "metadata": {},
   "outputs": [],
   "source": []
  },
  {
   "cell_type": "code",
   "execution_count": null,
   "id": "6f5caad5-e3fe-41ae-bd47-85521c26037e",
   "metadata": {},
   "outputs": [],
   "source": []
  }
 ],
 "metadata": {
  "kernelspec": {
   "display_name": "Python 3.7.3 64-bit",
   "language": "python",
   "name": "python37364bit8ed070dc9b3e4ea7b0daa69fadde4993"
  },
  "language_info": {
   "codemirror_mode": {
    "name": "ipython",
    "version": 3
   },
   "file_extension": ".py",
   "mimetype": "text/x-python",
   "name": "python",
   "nbconvert_exporter": "python",
   "pygments_lexer": "ipython3",
   "version": "3.7.3"
  }
 },
 "nbformat": 4,
 "nbformat_minor": 5
}
