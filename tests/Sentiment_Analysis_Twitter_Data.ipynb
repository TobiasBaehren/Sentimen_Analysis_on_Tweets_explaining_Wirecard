{
 "cells": [
  {
   "cell_type": "markdown",
   "id": "793b32d5-d676-4e7a-94c1-0fc413ecd124",
   "metadata": {},
   "source": [
    "<h1>Sentimentanalyse der Twitter Daten</h1>"
   ]
  },
  {
   "cell_type": "markdown",
   "id": "0fdc0f4c-369b-4327-9a31-d93e94a4d7d5",
   "metadata": {
    "tags": []
   },
   "source": [
    "<h2>Aufgaben</h2>\n",
    "<p>Laden der Daten - DONE -</p>\n",
    "<p>Wie kann ich VADER nutzen um eine Sentimentanalyse durchzuführen</p>\n",
    "<p>Zusammenführen der Daten</p>\n",
    "<p>Aussortieren nicht benötigter Tweets und Daten</p>\n"
   ]
  },
  {
   "cell_type": "code",
   "execution_count": 1,
   "id": "ee30e583-f0f5-481a-b934-6009505578e4",
   "metadata": {},
   "outputs": [],
   "source": [
    "import csv\n",
    "import numpy as np\n",
    "import pandas as pd\n",
    "import re\n",
    "import nltk\n",
    "#If not downloaded:\n",
    "#nltk.download('vader_lexicon')\n",
    "from nltk.sentiment.vader import SentimentIntensityAnalyzer\n",
    "import flair\n",
    "import datetime\n",
    "import stanza\n",
    "from germansentiment import SentimentModel"
   ]
  },
  {
   "cell_type": "markdown",
   "id": "2c6a425c-a7fd-4360-9078-4ead8ee4f00f",
   "metadata": {
    "tags": []
   },
   "source": [
    "<h2>Sentiment Test</h2>"
   ]
  },
  {
   "cell_type": "markdown",
   "id": "0273f0b3-217e-459d-aaf9-359edcaf0c01",
   "metadata": {
    "jp-MarkdownHeadingCollapsed": true,
    "tags": []
   },
   "source": [
    "<h3>VADER</h3>"
   ]
  },
  {
   "cell_type": "markdown",
   "id": "c6bc01c1-84de-4943-b04b-3c560d7adf74",
   "metadata": {
    "tags": []
   },
   "source": [
    "<p>Der versuche eine einfache Sentimentanalyse mit VADER anhand von Beispieldaten durchzuführen</p>"
   ]
  },
  {
   "cell_type": "code",
   "execution_count": 2,
   "id": "1527e99c-990f-4ffb-951f-9589c001f6fe",
   "metadata": {},
   "outputs": [],
   "source": [
    "sid = SentimentIntensityAnalyzer()"
   ]
  },
  {
   "cell_type": "code",
   "execution_count": 3,
   "id": "969fc78e-695d-463b-be33-86e4ee9989f4",
   "metadata": {},
   "outputs": [],
   "source": [
    "# Define a list of product reviews\n",
    "\n",
    "product_reviews = [\n",
    "    'I love this product. It helps me get so much work done. I tell everyone about what a great thing it is.',\n",
    "    'This product is defective. I feel like it is broken because it does not do what it promises. Do not buy this.',\n",
    "    'Do yourself a favor and buy this product as soon as possible. I recommend it to everyone I know. It has saved me so much time!',\n",
    "    'This product is overpriced and useless. It was a waste of money and it made all my hair fall out.',\n",
    "    'Works like a dream and it is a bargain! It solves my problems with ease. I bought two!',\n",
    "    'Do not buy! This product is a ripoff. I wish it was better, but it fails constantly. What a mistake!',\n",
    "    'This thing is garbage. Do yourself a favor and save the money. Mine is a dumpster fire and fell apart.',\n",
    "    'I adore this product. =) It makes my life so much easier. And it is a deal!'\n",
    "]"
   ]
  },
  {
   "cell_type": "code",
   "execution_count": 4,
   "id": "055c152b-4fff-40ac-87c3-fba05b2c81fb",
   "metadata": {},
   "outputs": [
    {
     "name": "stdout",
     "output_type": "stream",
     "text": [
      "0.8979 I love this product. It helps me get so much work done. I tell everyone about what a great thing it is.\n",
      "-0.2263 This product is defective. I feel like it is broken because it does not do what it promises. Do not buy this.\n",
      "0.807 Do yourself a favor and buy this product as soon as possible. I recommend it to everyone I know. It has saved me so much time!\n",
      "-0.6808 This product is overpriced and useless. It was a waste of money and it made all my hair fall out.\n",
      "0.7772 Works like a dream and it is a bargain! It solves my problems with ease. I bought two!\n",
      "-0.6792 Do not buy! This product is a ripoff. I wish it was better, but it fails constantly. What a mistake!\n",
      "0.4404 This thing is garbage. Do yourself a favor and save the money. Mine is a dumpster fire and fell apart.\n",
      "0.8799 I adore this product. =) It makes my life so much easier. And it is a deal!\n"
     ]
    }
   ],
   "source": [
    "# For each review in our `product_reviews` list\n",
    "# Store a polarity score in `scores`\n",
    "# Then print the score followed by the review\n",
    "for review in product_reviews:\n",
    "    scores = sid.polarity_scores(review)\n",
    "    print(scores['compound'], review)"
   ]
  },
  {
   "cell_type": "code",
   "execution_count": 5,
   "id": "7986b319-a36b-44a5-8aaf-ba39c6ed2aba",
   "metadata": {},
   "outputs": [
    {
     "name": "stdout",
     "output_type": "stream",
     "text": [
      "favor 1.7\n",
      "save 2.2\n",
      "dumpster -0.6\n",
      "fire -1.4\n"
     ]
    },
    {
     "data": {
      "text/plain": [
       "{'neg': 0.167, 'neu': 0.586, 'pos': 0.247, 'compound': 0.4404}"
      ]
     },
     "execution_count": 5,
     "metadata": {},
     "output_type": "execute_result"
    }
   ],
   "source": [
    "text = \"This thing is garbage Do yourself a favor and save the money Mine is a dumpster fire and fell apart\"\n",
    "for each in text.split():\n",
    "    if each in sid.lexicon:\n",
    "        print(each, sid.lexicon[each])\n",
    "sid.polarity_scores(text)"
   ]
  },
  {
   "cell_type": "code",
   "execution_count": 6,
   "id": "61c1313d-d34b-4e5a-93a2-68ac3b82dd4d",
   "metadata": {},
   "outputs": [
    {
     "name": "stdout",
     "output_type": "stream",
     "text": [
      "{'neg': 0.0, 'neu': 0.408, 'pos': 0.592, 'compound': 0.4404}\n",
      "{'neg': 0.0, 'neu': 0.408, 'pos': 0.592, 'compound': 0.4404}\n",
      "{'neg': 0.0, 'neu': 0.355, 'pos': 0.645, 'compound': 0.5622}\n"
     ]
    }
   ],
   "source": [
    "print(sid.polarity_scores(\"This is good\"))\n",
    "print(sid.polarity_scores(\"This is Good\"))\n",
    "print(sid.polarity_scores(\"This is GOOD\"))"
   ]
  },
  {
   "cell_type": "code",
   "execution_count": 7,
   "id": "95e3cb34-244b-42f5-a7fa-6c8b17f1f583",
   "metadata": {},
   "outputs": [
    {
     "name": "stdout",
     "output_type": "stream",
     "text": [
      "{'neg': 0.0, 'neu': 0.286, 'pos': 0.714, 'compound': 0.3612}\n",
      "{'neg': 0.413, 'neu': 0.587, 'pos': 0.0, 'compound': -0.2755}\n"
     ]
    }
   ],
   "source": [
    "like = \"I like this\"\n",
    "dont_like = \"I do not like this\"\n",
    "print(sid.polarity_scores(like))\n",
    "print(sid.polarity_scores(dont_like))"
   ]
  },
  {
   "cell_type": "code",
   "execution_count": null,
   "id": "69ad1ce6-b565-47d1-8d91-e49f36f0503e",
   "metadata": {},
   "outputs": [],
   "source": [
    "like = \"I like this!\"\n",
    "dont_like = \"I do not like this!\"\n",
    "print(sid.polarity_scores(like))\n",
    "print(sid.polarity_scores(dont_like))"
   ]
  },
  {
   "cell_type": "code",
   "execution_count": null,
   "id": "67c34070-a3c4-4b62-a43e-d78d34d904c4",
   "metadata": {},
   "outputs": [],
   "source": [
    "like = \"I LIKE this\"\n",
    "dont_like = \"I do not LIKE this\"\n",
    "print(sid.polarity_scores(like))\n",
    "print(sid.polarity_scores(dont_like))"
   ]
  },
  {
   "cell_type": "code",
   "execution_count": null,
   "id": "f2d4010e-3732-465d-8ba9-789d947c6687",
   "metadata": {},
   "outputs": [],
   "source": [
    "like = \"I LIKE this\"\n",
    "dont_like = \"I do NOT like this\"\n",
    "print(sid.polarity_scores(like))\n",
    "print(sid.polarity_scores(dont_like))"
   ]
  },
  {
   "cell_type": "code",
   "execution_count": null,
   "id": "009d1d0a-cb99-422f-ac61-dd12ce6694e3",
   "metadata": {},
   "outputs": [],
   "source": [
    "like = \"I like this\"\n",
    "dont_like = \"I do NOT LIKE this\"\n",
    "print(sid.polarity_scores(like))\n",
    "print(sid.polarity_scores(dont_like))"
   ]
  },
  {
   "cell_type": "code",
   "execution_count": 8,
   "id": "cf9b63ce-a523-4997-bb3c-ba6a2f409aac",
   "metadata": {},
   "outputs": [
    {
     "data": {
      "text/plain": [
       "{'neg': 0.0, 'neu': 0.26, 'pos': 0.74, 'compound': 0.431}"
      ]
     },
     "execution_count": 8,
     "metadata": {},
     "output_type": "execute_result"
    }
   ],
   "source": [
    "notbad = \"not bad\"\n",
    "sid.polarity_scores(notbad)"
   ]
  },
  {
   "cell_type": "code",
   "execution_count": null,
   "id": "3bc77ce7-fbca-46b6-8f71-ac7ecb662d26",
   "metadata": {},
   "outputs": [],
   "source": []
  },
  {
   "cell_type": "code",
   "execution_count": 11,
   "id": "00dc2e62-ac5a-402f-a98f-0884ae748063",
   "metadata": {},
   "outputs": [
    {
     "name": "stdout",
     "output_type": "stream",
     "text": [
      "{'neg': 0.0, 'neu': 0.511, 'pos': 0.489, 'compound': 0.7717}\n",
      "{'neg': 0.0, 'neu': 0.511, 'pos': 0.489, 'compound': 0.7717}\n",
      "{'neg': 0.0, 'neu': 1.0, 'pos': 0.0, 'compound': 0.0}\n",
      "{'neg': 0.0, 'neu': 1.0, 'pos': 0.0, 'compound': 0.0}\n"
     ]
    }
   ],
   "source": [
    "text = \"I like you Tobias. I would also say, that I love you\"\n",
    "text_2 = \"I like you @Tobias. I would also say, that I love you\"\n",
    "text_3 = \"I #like you Tobias. I would also say, that I #love you\"\n",
    "text_4 = \"I #like you @Tobias. I would also say, that I #love you\"\n",
    "print(sid.polarity_scores(text))\n",
    "print(sid.polarity_scores(text_2))\n",
    "print(sid.polarity_scores(text_3))\n",
    "print(sid.polarity_scores(text_4))"
   ]
  },
  {
   "cell_type": "markdown",
   "id": "f2874449-5b34-4b23-98b3-b1b759049cc3",
   "metadata": {
    "jp-MarkdownHeadingCollapsed": true,
    "tags": []
   },
   "source": [
    "<h3>Flair</h3>"
   ]
  },
  {
   "cell_type": "markdown",
   "id": "fcbdac25-6306-40f6-b67c-b53d01e5f2c5",
   "metadata": {},
   "source": [
    "<p>I try to use the flair framework to do a sentiment analysis.</p>"
   ]
  },
  {
   "cell_type": "code",
   "execution_count": 2,
   "id": "2b7e6c02-ba46-4807-bb08-c14c6f0bc379",
   "metadata": {},
   "outputs": [
    {
     "name": "stdout",
     "output_type": "stream",
     "text": [
      "2022-04-17 14:32:04,045 loading file /Users/tobias/.flair/models/sentiment-en-mix-distillbert_4.pt\n"
     ]
    }
   ],
   "source": [
    "flair_sentiment = flair.models.TextClassifier.load(\"en-sentiment\")"
   ]
  },
  {
   "cell_type": "code",
   "execution_count": 23,
   "id": "29c9f90f-6594-4736-8fc2-4732f5568061",
   "metadata": {},
   "outputs": [],
   "source": [
    "def senti_score(n):\n",
    "    s = flair.data.Sentence(n)\n",
    "    print(s)\n",
    "    flair_sentiment.predict(s)\n",
    "    print(flair_sentiment.predict(s))\n",
    "    total_sentiment = s.labels[0]\n",
    "    print(total_sentiment)\n",
    "    print(s.labels)\n",
    "    assert total_sentiment.value in ['POSITIVE', 'NEGATIVE']\n",
    "    sign = 1 if total_sentiment.value == 'POSITIVE' else -1\n",
    "    score = total_sentiment.score\n",
    "    return sign * score"
   ]
  },
  {
   "cell_type": "code",
   "execution_count": 45,
   "id": "28a5e9e4-6ae0-4264-ac69-79f0cb3189bf",
   "metadata": {},
   "outputs": [
    {
     "name": "stdout",
     "output_type": "stream",
     "text": [
      "Sentence: \"Tesla is a great company . It has some weak ponints and sometimes they make big mistakes . Many People think it is the worst company . But I think it is ok .\"   [− Tokens: 34]\n",
      "None\n",
      "POSITIVE (0.5541)\n",
      "[POSITIVE (0.5541)]\n",
      "Tesla is a great company. It has some weak ponints and sometimes they make big mistakes. Many People think it is the worst company. But I think it is ok. 0.5540907979011536\n"
     ]
    }
   ],
   "source": [
    "print(s1, senti_score(s1))"
   ]
  },
  {
   "cell_type": "code",
   "execution_count": 42,
   "id": "315ea483-f0c3-42d6-8c2f-aebe758748ab",
   "metadata": {},
   "outputs": [
    {
     "name": "stdout",
     "output_type": "stream",
     "text": [
      "None\n"
     ]
    }
   ],
   "source": [
    "print(flair_sentiment.predict(flair.data.Sentence(s1)))"
   ]
  },
  {
   "cell_type": "code",
   "execution_count": 43,
   "id": "be4658c6-8750-4eb5-88c8-22bef3f59a24",
   "metadata": {},
   "outputs": [
    {
     "name": "stdout",
     "output_type": "stream",
     "text": [
      "[NEGATIVE (0.9356)]\n"
     ]
    }
   ],
   "source": [
    "s = flair.data.Sentence(s1)\n",
    "flair_sentiment.predict(s)\n",
    "print(s.labels)"
   ]
  },
  {
   "cell_type": "code",
   "execution_count": 44,
   "id": "47a960b4-08e6-484e-b4d5-16d191bcecbc",
   "metadata": {},
   "outputs": [],
   "source": [
    "s1 = \"Tesla is a great company. It has some weak ponints and sometimes they make big mistakes. Many People think it is the worst company. But I think it is ok.\"\n",
    "s2 = \"Tesla is a good company\"\n",
    "s3 = \"Tesla is a company\"\n",
    "s4 = \"Tesla is a bad company\""
   ]
  },
  {
   "cell_type": "code",
   "execution_count": 21,
   "id": "638264d4-9bdc-41e7-9b4f-67873553b3ef",
   "metadata": {},
   "outputs": [
    {
     "name": "stdout",
     "output_type": "stream",
     "text": [
      "Tesla is a great company 0.9977720379829407\n",
      "Tesla is a good company 0.9961444139480591\n",
      "Tesla is a company 0.9995311498641968\n",
      "Tesla is a bad company -0.9998192191123962\n"
     ]
    }
   ],
   "source": [
    "print(s1, senti_score(s1))\n",
    "print(s2, senti_score(s2))\n",
    "print(s3, senti_score(s3))\n",
    "print(s4, senti_score(s4))"
   ]
  },
  {
   "cell_type": "code",
   "execution_count": 6,
   "id": "649d9344-77da-488d-b6d2-7eedaf7b8ebd",
   "metadata": {},
   "outputs": [
    {
     "ename": "NameError",
     "evalue": "name 'sid' is not defined",
     "output_type": "error",
     "traceback": [
      "\u001b[0;31m---------------------------------------------------------------------------\u001b[0m",
      "\u001b[0;31mNameError\u001b[0m                                 Traceback (most recent call last)",
      "Input \u001b[0;32mIn [6]\u001b[0m, in \u001b[0;36m<cell line: 1>\u001b[0;34m()\u001b[0m\n\u001b[0;32m----> 1\u001b[0m \u001b[38;5;28mprint\u001b[39m(\u001b[43msid\u001b[49m\u001b[38;5;241m.\u001b[39mpolarity_scores(s1))\n\u001b[1;32m      2\u001b[0m \u001b[38;5;28mprint\u001b[39m(sid\u001b[38;5;241m.\u001b[39mpolarity_scores(s2))\n\u001b[1;32m      3\u001b[0m \u001b[38;5;28mprint\u001b[39m(sid\u001b[38;5;241m.\u001b[39mpolarity_scores(s3))\n",
      "\u001b[0;31mNameError\u001b[0m: name 'sid' is not defined"
     ]
    }
   ],
   "source": [
    "print(sid.polarity_scores(s1))\n",
    "print(sid.polarity_scores(s2))\n",
    "print(sid.polarity_scores(s3))\n",
    "print(sid.polarity_scores(s4))"
   ]
  },
  {
   "cell_type": "code",
   "execution_count": 68,
   "id": "6473401f-c101-4e0a-82f9-92a48b984f7c",
   "metadata": {},
   "outputs": [
    {
     "name": "stdout",
     "output_type": "stream",
     "text": [
      "2022-03-24 15:04:39,506 https://nlp.informatik.hu-berlin.de/resources/models/de-offensive-language/germ-eval-2018-task-1-v0.8.pt not found in cache, downloading to /var/folders/3r/0dwb2f6j0f39f4r2j9yyjf180000gn/T/tmpge1ck4wu\n"
     ]
    },
    {
     "name": "stderr",
     "output_type": "stream",
     "text": [
      "100%|█████████████████████████| 439837065/439837065 [03:57<00:00, 1848690.56B/s]"
     ]
    },
    {
     "name": "stdout",
     "output_type": "stream",
     "text": [
      "2022-03-24 15:08:37,638 copying /var/folders/3r/0dwb2f6j0f39f4r2j9yyjf180000gn/T/tmpge1ck4wu to cache at /Users/tobias/.flair/models/germ-eval-2018-task-1-v0.8.pt\n"
     ]
    },
    {
     "name": "stderr",
     "output_type": "stream",
     "text": [
      "\n"
     ]
    },
    {
     "name": "stdout",
     "output_type": "stream",
     "text": [
      "2022-03-24 15:08:38,076 removing temp file /var/folders/3r/0dwb2f6j0f39f4r2j9yyjf180000gn/T/tmpge1ck4wu\n",
      "2022-03-24 15:08:38,096 loading file /Users/tobias/.flair/models/germ-eval-2018-task-1-v0.8.pt\n"
     ]
    },
    {
     "data": {
      "application/vnd.jupyter.widget-view+json": {
       "model_id": "7a75e8c756cc4aba90c105e672aa536c",
       "version_major": 2,
       "version_minor": 0
      },
      "text/plain": [
       "Downloading:   0%|          | 0.00/83.0 [00:00<?, ?B/s]"
      ]
     },
     "metadata": {},
     "output_type": "display_data"
    },
    {
     "data": {
      "application/vnd.jupyter.widget-view+json": {
       "model_id": "8e9be2bcc22742d188304e1336a9efe1",
       "version_major": 2,
       "version_minor": 0
      },
      "text/plain": [
       "Downloading:   0%|          | 0.00/234k [00:00<?, ?B/s]"
      ]
     },
     "metadata": {},
     "output_type": "display_data"
    },
    {
     "data": {
      "application/vnd.jupyter.widget-view+json": {
       "model_id": "c1e8e299e65f4fc9b460810839e6c792",
       "version_major": 2,
       "version_minor": 0
      },
      "text/plain": [
       "Downloading:   0%|          | 0.00/362 [00:00<?, ?B/s]"
      ]
     },
     "metadata": {},
     "output_type": "display_data"
    }
   ],
   "source": [
    "flair_sentiment_all = flair.models.TextClassifier.load(\"de-offensive-language\")"
   ]
  },
  {
   "cell_type": "code",
   "execution_count": 72,
   "id": "3d70acde-34b1-4b39-9c8f-c0fbd4ef3cd5",
   "metadata": {},
   "outputs": [],
   "source": [
    "ds1 = \"Tesla ist eine großartige Firma\"\n",
    "ds2 = \"Tesla ist eine tolle Firma\"\n",
    "ds3 = \"Tesla ist eine Firma\"\n",
    "ds4 = \"Tesla ist eine böse Firma\""
   ]
  },
  {
   "cell_type": "code",
   "execution_count": 73,
   "id": "917456c0-c061-47a1-aa1f-f18c6e232afc",
   "metadata": {},
   "outputs": [
    {
     "ename": "AttributeError",
     "evalue": "'str' object has no attribute '_embeddings'",
     "output_type": "error",
     "traceback": [
      "\u001b[0;31m---------------------------------------------------------------------------\u001b[0m",
      "\u001b[0;31mAttributeError\u001b[0m                            Traceback (most recent call last)",
      "Input \u001b[0;32mIn [73]\u001b[0m, in \u001b[0;36m<cell line: 1>\u001b[0;34m()\u001b[0m\n\u001b[0;32m----> 1\u001b[0m \u001b[43mflair_sentiment_all\u001b[49m\u001b[38;5;241;43m.\u001b[39;49m\u001b[43mpredict\u001b[49m\u001b[43m(\u001b[49m\u001b[43mds1\u001b[49m\u001b[43m)\u001b[49m\n",
      "File \u001b[0;32m~/Dev/FOM/Master_Thesis/master_thesis_3.9.10/.venv/lib/python3.9/site-packages/flair/nn/model.py:569\u001b[0m, in \u001b[0;36mDefaultClassifier.predict\u001b[0;34m(self, sentences, mini_batch_size, return_probabilities_for_all_classes, verbose, label_name, return_loss, embedding_storage_mode)\u001b[0m\n\u001b[1;32m    566\u001b[0m \u001b[38;5;28;01mif\u001b[39;00m \u001b[38;5;129;01mnot\u001b[39;00m batch:\n\u001b[1;32m    567\u001b[0m     \u001b[38;5;28;01mcontinue\u001b[39;00m\n\u001b[0;32m--> 569\u001b[0m scores, gold_labels, data_points, label_candidates \u001b[38;5;241m=\u001b[39m \u001b[38;5;28;43mself\u001b[39;49m\u001b[38;5;241;43m.\u001b[39;49m\u001b[43mforward_pass\u001b[49m\u001b[43m(\u001b[49m\u001b[43mbatch\u001b[49m\u001b[43m,\u001b[49m\n\u001b[1;32m    570\u001b[0m \u001b[43m                                                                       \u001b[49m\u001b[43mreturn_label_candidates\u001b[49m\u001b[38;5;241;43m=\u001b[39;49m\u001b[38;5;28;43;01mTrue\u001b[39;49;00m\u001b[43m)\u001b[49m\n\u001b[1;32m    571\u001b[0m \u001b[38;5;66;03m# remove previously predicted labels of this type\u001b[39;00m\n\u001b[1;32m    572\u001b[0m \u001b[38;5;28;01mfor\u001b[39;00m sentence \u001b[38;5;129;01min\u001b[39;00m data_points:\n",
      "File \u001b[0;32m~/Dev/FOM/Master_Thesis/master_thesis_3.9.10/.venv/lib/python3.9/site-packages/flair/models/text_classification_model.py:60\u001b[0m, in \u001b[0;36mTextClassifier.forward_pass\u001b[0;34m(self, sentences, return_label_candidates)\u001b[0m\n\u001b[1;32m     54\u001b[0m \u001b[38;5;28;01mdef\u001b[39;00m \u001b[38;5;21mforward_pass\u001b[39m(\u001b[38;5;28mself\u001b[39m,\n\u001b[1;32m     55\u001b[0m                  sentences: Union[List[DataPoint], DataPoint],\n\u001b[1;32m     56\u001b[0m                  return_label_candidates: \u001b[38;5;28mbool\u001b[39m \u001b[38;5;241m=\u001b[39m \u001b[38;5;28;01mFalse\u001b[39;00m,\n\u001b[1;32m     57\u001b[0m                  ):\n\u001b[1;32m     58\u001b[0m \n\u001b[1;32m     59\u001b[0m     \u001b[38;5;66;03m# embed sentences\u001b[39;00m\n\u001b[0;32m---> 60\u001b[0m     \u001b[38;5;28;43mself\u001b[39;49m\u001b[38;5;241;43m.\u001b[39;49m\u001b[43mdocument_embeddings\u001b[49m\u001b[38;5;241;43m.\u001b[39;49m\u001b[43membed\u001b[49m\u001b[43m(\u001b[49m\u001b[43msentences\u001b[49m\u001b[43m)\u001b[49m\n\u001b[1;32m     62\u001b[0m     \u001b[38;5;66;03m# make tensor for all embedded sentences in batch\u001b[39;00m\n\u001b[1;32m     63\u001b[0m     embedding_names \u001b[38;5;241m=\u001b[39m \u001b[38;5;28mself\u001b[39m\u001b[38;5;241m.\u001b[39mdocument_embeddings\u001b[38;5;241m.\u001b[39mget_names()\n",
      "File \u001b[0;32m~/Dev/FOM/Master_Thesis/master_thesis_3.9.10/.venv/lib/python3.9/site-packages/flair/embeddings/base.py:55\u001b[0m, in \u001b[0;36mEmbeddings.embed\u001b[0;34m(self, sentences)\u001b[0m\n\u001b[1;32m     53\u001b[0m \u001b[38;5;28;01melse\u001b[39;00m:\n\u001b[1;32m     54\u001b[0m     \u001b[38;5;28;01mfor\u001b[39;00m sentence \u001b[38;5;129;01min\u001b[39;00m sentences:\n\u001b[0;32m---> 55\u001b[0m         \u001b[38;5;28;01mif\u001b[39;00m \u001b[38;5;28mself\u001b[39m\u001b[38;5;241m.\u001b[39mname \u001b[38;5;129;01mnot\u001b[39;00m \u001b[38;5;129;01min\u001b[39;00m \u001b[43msentence\u001b[49m\u001b[38;5;241;43m.\u001b[39;49m\u001b[43m_embeddings\u001b[49m\u001b[38;5;241m.\u001b[39mkeys():\n\u001b[1;32m     56\u001b[0m             everything_embedded \u001b[38;5;241m=\u001b[39m \u001b[38;5;28;01mFalse\u001b[39;00m\n\u001b[1;32m     57\u001b[0m             \u001b[38;5;28;01mbreak\u001b[39;00m\n",
      "\u001b[0;31mAttributeError\u001b[0m: 'str' object has no attribute '_embeddings'"
     ]
    }
   ],
   "source": [
    "flair_sentiment_all.predict(ds1)"
   ]
  },
  {
   "cell_type": "code",
   "execution_count": 65,
   "id": "0300681c-0645-4ed1-9909-6be98d021af2",
   "metadata": {},
   "outputs": [
    {
     "name": "stdout",
     "output_type": "stream",
     "text": [
      "0.9990963935852051\n",
      "0.9960978031158447\n",
      "0.9998791217803955\n",
      "0.999220609664917\n"
     ]
    }
   ],
   "source": [
    "print(senti_score(ds1))\n",
    "print(senti_score(ds2))\n",
    "print(senti_score(ds3))\n",
    "print(senti_score(ds4))"
   ]
  },
  {
   "cell_type": "code",
   "execution_count": null,
   "id": "7be7ec0d-2f61-4e07-9216-5e3878a5a16a",
   "metadata": {},
   "outputs": [],
   "source": [
    "for each in range(15):\n",
    "    print(sid.polarity_scores(df.iloc[each][\"text\"]))\n",
    "    print(senti_score(df.iloc[each][\"text\"]))\n",
    "    print(df.iloc[each][\"text\"])\n",
    "    print(str(each)+\"\\n\")\n",
    "    "
   ]
  },
  {
   "cell_type": "markdown",
   "id": "4d3583ee-7654-4250-94c5-775008733174",
   "metadata": {
    "jp-MarkdownHeadingCollapsed": true,
    "tags": []
   },
   "source": [
    "<h3>Stanza</h3>"
   ]
  },
  {
   "cell_type": "code",
   "execution_count": 5,
   "id": "c663407b-7ab2-411f-b339-dc9b2feb5976",
   "metadata": {},
   "outputs": [
    {
     "data": {
      "application/vnd.jupyter.widget-view+json": {
       "model_id": "8141615ad46041e3ad77652a20afd8b9",
       "version_major": 2,
       "version_minor": 0
      },
      "text/plain": [
       "Downloading https://raw.githubusercontent.com/stanfordnlp/stanza-resources/main/resources_1.3.0.json:   0%|   …"
      ]
     },
     "metadata": {},
     "output_type": "display_data"
    },
    {
     "name": "stderr",
     "output_type": "stream",
     "text": [
      "2022-04-02 15:18:13 INFO: Downloading default packages for language: en (English)...\n"
     ]
    },
    {
     "data": {
      "application/vnd.jupyter.widget-view+json": {
       "model_id": "317036775aee41c99ae271090f2d9a31",
       "version_major": 2,
       "version_minor": 0
      },
      "text/plain": [
       "Downloading https://huggingface.co/stanfordnlp/stanza-en/resolve/v1.3.0/models/default.zip:   0%|          | 0…"
      ]
     },
     "metadata": {},
     "output_type": "display_data"
    },
    {
     "name": "stderr",
     "output_type": "stream",
     "text": [
      "2022-04-02 15:19:20 INFO: Finished downloading models and saved to /Users/tobias/stanza_resources.\n"
     ]
    }
   ],
   "source": [
    "#stanza.download(\"en\")"
   ]
  },
  {
   "cell_type": "code",
   "execution_count": 2,
   "id": "2695e192-da7b-4855-8e9c-41f8859fa9ef",
   "metadata": {},
   "outputs": [
    {
     "name": "stderr",
     "output_type": "stream",
     "text": [
      "2022-04-03 21:55:00 INFO: Loading these models for language: en (English):\n",
      "========================\n",
      "| Processor | Package  |\n",
      "------------------------\n",
      "| tokenize  | combined |\n",
      "| sentiment | sstplus  |\n",
      "========================\n",
      "\n",
      "2022-04-03 21:55:00 INFO: Use device: cpu\n",
      "2022-04-03 21:55:00 INFO: Loading: tokenize\n",
      "2022-04-03 21:55:00 INFO: Loading: sentiment\n",
      "2022-04-03 21:55:01 INFO: Done loading processors!\n"
     ]
    }
   ],
   "source": [
    "nlp = stanza.Pipeline(lang=\"en\", processors=\"tokenize,sentiment\")"
   ]
  },
  {
   "cell_type": "code",
   "execution_count": 3,
   "id": "23544db9-9564-4c1b-b6fa-6d05a565981e",
   "metadata": {},
   "outputs": [],
   "source": [
    "s1 = \"Tesla is a great company.\"\n",
    "s2 = \"Tesla is a good company.\"\n",
    "s3 = \"Tesla is just a company.\"\n",
    "s4 = \"Tesla is a bad company.\"\n",
    "s5 = \"Tesla might be a good company. It has some weak points and they are doing some bad studd. Overall I realy like the company. I think they are doing a great job and this is awesome.\""
   ]
  },
  {
   "cell_type": "code",
   "execution_count": 4,
   "id": "5cbbca98-37a9-4649-8b61-b7829f74f349",
   "metadata": {},
   "outputs": [],
   "source": [
    "doc = nlp(\"I hat that they banned Mox Opal. Tesla is a great company.\")"
   ]
  },
  {
   "cell_type": "code",
   "execution_count": 5,
   "id": "2c2332b9-f7e3-4c2f-a7e1-1c972908e982",
   "metadata": {},
   "outputs": [],
   "source": [
    "text_list = [s1, s2, s3, s4, s5]"
   ]
  },
  {
   "cell_type": "code",
   "execution_count": 22,
   "id": "a6b6c452-669b-4909-8aab-f136bc2a7197",
   "metadata": {},
   "outputs": [
    {
     "name": "stdout",
     "output_type": "stream",
     "text": [
      "0 2\n"
     ]
    }
   ],
   "source": [
    "for i, sentence in enumerate(doc.sentences):\n",
    "    print(i, sentence.sentiment)"
   ]
  },
  {
   "cell_type": "code",
   "execution_count": 23,
   "id": "66ee30ae-cb4f-4118-894e-a7819d7d6d81",
   "metadata": {},
   "outputs": [],
   "source": [
    "doc = nlp(s1)"
   ]
  },
  {
   "cell_type": "code",
   "execution_count": 6,
   "id": "f564bf4e-af38-4758-b2fe-c285096cc0ca",
   "metadata": {},
   "outputs": [
    {
     "name": "stdout",
     "output_type": "stream",
     "text": [
      "0 [2] 2.0\n",
      "1 [2] 2.0\n",
      "2 [1] 1.0\n",
      "3 [0] 0.0\n",
      "4 [2, 0, 1, 2] 1.25\n"
     ]
    }
   ],
   "source": [
    "for each in range(len(text_list)):\n",
    "    sentiment_value = []\n",
    "    doc = nlp(text_list[each])\n",
    "    for i, sentence in enumerate(doc.sentences):\n",
    "        sentiment_value.append(sentence.sentiment)\n",
    "    \n",
    "    print(each, sentiment_value,(sum(sentiment_value)/len(sentiment_value)))"
   ]
  },
  {
   "cell_type": "code",
   "execution_count": 30,
   "id": "fd01b506-4987-4133-bac5-14d76a2a0c2f",
   "metadata": {},
   "outputs": [
    {
     "data": {
      "application/vnd.jupyter.widget-view+json": {
       "model_id": "6e916207e0fc40468ca86d1540cc8f8e",
       "version_major": 2,
       "version_minor": 0
      },
      "text/plain": [
       "Downloading https://raw.githubusercontent.com/stanfordnlp/stanza-resources/main/resources_1.3.0.json:   0%|   …"
      ]
     },
     "metadata": {},
     "output_type": "display_data"
    },
    {
     "name": "stderr",
     "output_type": "stream",
     "text": [
      "2022-04-03 18:21:19 INFO: Downloading default packages for language: de (German)...\n"
     ]
    },
    {
     "data": {
      "application/vnd.jupyter.widget-view+json": {
       "model_id": "792da77fcb4e4ac198f99a1414084c95",
       "version_major": 2,
       "version_minor": 0
      },
      "text/plain": [
       "Downloading https://huggingface.co/stanfordnlp/stanza-de/resolve/v1.3.0/models/default.zip:   0%|          | 0…"
      ]
     },
     "metadata": {},
     "output_type": "display_data"
    },
    {
     "name": "stderr",
     "output_type": "stream",
     "text": [
      "2022-04-03 18:22:13 INFO: Finished downloading models and saved to /Users/tobias/stanza_resources.\n"
     ]
    }
   ],
   "source": [
    "#stanza.download(\"de\")"
   ]
  },
  {
   "cell_type": "code",
   "execution_count": 7,
   "id": "31e460bb-da16-4690-a99a-8f915d152f0c",
   "metadata": {},
   "outputs": [
    {
     "name": "stderr",
     "output_type": "stream",
     "text": [
      "2022-04-03 21:56:27 WARNING: Language de package default expects mwt, which has been added\n",
      "2022-04-03 21:56:27 INFO: Loading these models for language: de (German):\n",
      "=======================\n",
      "| Processor | Package |\n",
      "-----------------------\n",
      "| tokenize  | gsd     |\n",
      "| mwt       | gsd     |\n",
      "| sentiment | sb10k   |\n",
      "=======================\n",
      "\n",
      "2022-04-03 21:56:27 INFO: Use device: cpu\n",
      "2022-04-03 21:56:27 INFO: Loading: tokenize\n",
      "2022-04-03 21:56:27 INFO: Loading: mwt\n",
      "2022-04-03 21:56:27 INFO: Loading: sentiment\n",
      "2022-04-03 21:56:27 INFO: Done loading processors!\n"
     ]
    }
   ],
   "source": [
    "nlp_de = stanza.Pipeline(lang=\"de\", processors=\"tokenize,sentiment\")"
   ]
  },
  {
   "cell_type": "code",
   "execution_count": 9,
   "id": "728532ff-4dae-451c-9367-de0f111d5c07",
   "metadata": {},
   "outputs": [],
   "source": [
    "de1 = \"Tesla ist eine tolle Firma\"\n",
    "de2 = \"Tesla ist die beste Firma\" \n",
    "de3 = \"Tesla ist eine scheiß Firma\"\n",
    "de4 = \"Tesla ist keine besonders tolle Firma\"\n",
    "de5 = \"Tesla ist eine ganz gute Firma. Sie hat ein paar schwächen und einige Aktionen sind scheiße. Dennoch ist es gut was sie erreicht hat. Sie hat etwas großartiges geschafft, was vorher noch keine andere Firma geschafft hat.\"\n",
    "de6 = \"Tesla ist die beste Firma auf der Welt. Sie ist so toll und absolut großartig!!!!\"\n",
    "de7 = \"Ich bin am tollsten\"\n",
    "de8 = \"Tesla ist die tollste Firma auf der Welt\"\n",
    "text_de_list = [de1, de2, de3, de4, de5, de6, de7, de8]"
   ]
  },
  {
   "cell_type": "code",
   "execution_count": 11,
   "id": "ff0e2595-ba76-4162-ac94-1cfbc5dc2ddf",
   "metadata": {},
   "outputs": [
    {
     "name": "stdout",
     "output_type": "stream",
     "text": [
      "0 [1] 1.0\n",
      "1 [1] 1.0\n",
      "2 [1] 1.0\n",
      "3 [1] 1.0\n",
      "4 [1, 0, 1, 1] 0.75\n",
      "5 [1, 2, 2] 1.6666666666666667\n",
      "6 [2] 2.0\n",
      "7 [1] 1.0\n"
     ]
    }
   ],
   "source": [
    "for each in range(len(text_de_list)):\n",
    "    sentiment_value = []\n",
    "    doc = nlp_de(text_de_list[each])\n",
    "    for i, sentence in enumerate(doc.sentences):\n",
    "        sentiment_value.append(sentence.sentiment)\n",
    "    \n",
    "    print(each, sentiment_value,(sum(sentiment_value)/len(sentiment_value)))"
   ]
  },
  {
   "cell_type": "markdown",
   "id": "c9d7144c-d453-464f-b24f-149ce1bdd3f7",
   "metadata": {
    "jp-MarkdownHeadingCollapsed": true,
    "tags": []
   },
   "source": [
    "<h1>German-Sentiment</h1>"
   ]
  },
  {
   "cell_type": "code",
   "execution_count": 4,
   "id": "bad32179-365a-47e3-93f2-70078f9e5902",
   "metadata": {},
   "outputs": [
    {
     "name": "stdout",
     "output_type": "stream",
     "text": [
      "['negative', 'negative', 'positive', 'positive', 'neutral', 'neutral', 'neutral', 'positive', 'negative']\n"
     ]
    }
   ],
   "source": [
    "model = SentimentModel()\n",
    "\n",
    "texts = [\n",
    "    \"Mit keinem guten Ergebniss\",\"Das ist gar nicht mal so gut\",\n",
    "    \"Total awesome!\",\"nicht so schlecht wie erwartet\",\n",
    "    \"Der Test verlief positiv.\",\"Sie fährt ein grünes Auto.\", \"Tesla ist eine Firma\", \"Tesla ist die beste Firma auf der Welt!\",\n",
    "    \"Tesla ist nicht besonders gut als Firma\"]\n",
    "       \n",
    "result = model.predict_sentiment(texts)\n",
    "print(result)"
   ]
  },
  {
   "cell_type": "code",
   "execution_count": null,
   "id": "1f77947f-f460-4105-a9e5-1ac14f1bda12",
   "metadata": {},
   "outputs": [],
   "source": []
  },
  {
   "cell_type": "markdown",
   "id": "89dfafc0-94ca-4433-a25c-e6094a267d09",
   "metadata": {
    "tags": []
   },
   "source": [
    "<h1>Load data from CSV file </h1>"
   ]
  },
  {
   "cell_type": "code",
   "execution_count": 2,
   "id": "6f5caad5-e3fe-41ae-bd47-85521c26037e",
   "metadata": {},
   "outputs": [],
   "source": [
    "df_manager_de = pd.read_csv(\"/Users/tobias/Dev/FOM/Master_Thesis/data/Manager_DE/data.csv\", sep=\";\")\n",
    "df_wirecard_de = pd.read_csv(\"/Users/tobias/Dev/FOM/Master_Thesis/data/Wirecard_DE/data.csv\", sep=\";\")\n",
    "df_manager_en = pd.read_csv(\"/Users/tobias/Dev/FOM/Master_Thesis/data/Manager_EN/data.csv\", sep=\";\")\n",
    "df_wirecard_en = pd.read_csv(\"/Users/tobias/Dev/FOM/Master_Thesis/data/Wirecard_EN/data.csv\", sep=\";\")"
   ]
  },
  {
   "cell_type": "code",
   "execution_count": 3,
   "id": "8938619a-d597-457c-989d-72d454c4d884",
   "metadata": {},
   "outputs": [
    {
     "name": "stdout",
     "output_type": "stream",
     "text": [
      "Manager_DE: 14308\n",
      "Wirecard_DE: 165657\n",
      "Manager_EN: 17801\n",
      "Wirecard_EN: 203935\n"
     ]
    }
   ],
   "source": [
    "print(\"Manager_DE: \" + str(len(df_manager_de)))\n",
    "print(\"Wirecard_DE: \" + str(len(df_wirecard_de)))\n",
    "print(\"Manager_EN: \" + str(len(df_manager_en)))\n",
    "print(\"Wirecard_EN: \" + str(len(df_wirecard_en)))"
   ]
  },
  {
   "cell_type": "code",
   "execution_count": 4,
   "id": "290de2a2-73d2-4a6f-92d4-6efe151e8c67",
   "metadata": {},
   "outputs": [],
   "source": [
    "tweets_de = len(df_manager_de) + len(df_wirecard_de)\n",
    "tweets_en = len(df_manager_en) + len(df_wirecard_en)"
   ]
  },
  {
   "cell_type": "code",
   "execution_count": 5,
   "id": "f0193ad6-5971-4ff5-94ef-b279473ec51b",
   "metadata": {
    "tags": []
   },
   "outputs": [
    {
     "name": "stdout",
     "output_type": "stream",
     "text": [
      "DE: 179965\n",
      "EN: 221736\n"
     ]
    }
   ],
   "source": [
    "print(\"DE: \" + str(tweets_de) + \"\\nEN: \" + str(tweets_en))"
   ]
  },
  {
   "cell_type": "code",
   "execution_count": 6,
   "id": "5c1fe0bb-5c17-4037-a18e-3e56867e1702",
   "metadata": {},
   "outputs": [],
   "source": [
    "df_de = pd.concat([df_manager_de, df_wirecard_de], ignore_index=True)"
   ]
  },
  {
   "cell_type": "code",
   "execution_count": 7,
   "id": "b98e57ee-b675-4c7f-8fbd-dc84273cbaad",
   "metadata": {},
   "outputs": [
    {
     "data": {
      "text/plain": [
       "179965"
      ]
     },
     "execution_count": 7,
     "metadata": {},
     "output_type": "execute_result"
    }
   ],
   "source": [
    "len(df_de)"
   ]
  },
  {
   "cell_type": "code",
   "execution_count": 8,
   "id": "60ed385b-a0c7-4618-a1af-7ac7ba2934a0",
   "metadata": {
    "tags": []
   },
   "outputs": [],
   "source": [
    "df_de = df_de.drop_duplicates(subset=[\"conversation_id\"])"
   ]
  },
  {
   "cell_type": "code",
   "execution_count": 10,
   "id": "d70d4b0c-8c87-45f0-8f96-f4cb92581e89",
   "metadata": {},
   "outputs": [
    {
     "data": {
      "text/plain": [
       "150686"
      ]
     },
     "execution_count": 10,
     "metadata": {},
     "output_type": "execute_result"
    }
   ],
   "source": [
    "len(df_de)"
   ]
  },
  {
   "cell_type": "code",
   "execution_count": 12,
   "id": "07eb3777-78da-403f-982c-241afdf50c00",
   "metadata": {},
   "outputs": [],
   "source": [
    "df_de = df_de.reset_index(drop=True)"
   ]
  },
  {
   "cell_type": "code",
   "execution_count": 13,
   "id": "39240307-dc80-4872-92e2-809e250fbe97",
   "metadata": {},
   "outputs": [
    {
     "data": {
      "text/plain": [
       "conversation_id                                  944209488080527360\n",
       "author_id                                                2942451119\n",
       "created_at                                2018-03-12 18:02:14+00:00\n",
       "tweet_id                                         973257873844310016\n",
       "lang                                                             de\n",
       "retweet_count                                                     0\n",
       "reply_count                                                       0\n",
       "like_count                                                        0\n",
       "quote_count                                                       0\n",
       "source                                          Twitter for Android\n",
       "tweet_type                                           ['replied_to']\n",
       "referenced_tweet_id                          ['944209488080527360']\n",
       "text                   @_MarkusBraun Jetzt einen schönen Wurstsalat\n",
       "Name: 71, dtype: object"
      ]
     },
     "execution_count": 13,
     "metadata": {},
     "output_type": "execute_result"
    }
   ],
   "source": [
    "df_de.iloc[71]"
   ]
  },
  {
   "cell_type": "code",
   "execution_count": 14,
   "id": "cb8428d8-6ca5-4293-9bc0-51158277f96b",
   "metadata": {
    "tags": []
   },
   "outputs": [
    {
     "name": "stdout",
     "output_type": "stream",
     "text": [
      "2022-03-26 10:16:36.062423\n",
      "2022-03-26 10:16:37.889832\n"
     ]
    }
   ],
   "source": [
    "print(datetime.datetime.now())\n",
    "\n",
    "for each in range(len(df_de)):\n",
    "    #print(each) 17\n",
    "    df_de.at[each,\"tweet_type\"] = re.findall(r\"\\w+\", df_de.at[each,\"tweet_type\"])\n",
    "    \n",
    "print(datetime.datetime.now())"
   ]
  },
  {
   "cell_type": "code",
   "execution_count": 15,
   "id": "c1c6358c-6c8c-4be5-8ffb-7c6a62552089",
   "metadata": {
    "tags": []
   },
   "outputs": [
    {
     "data": {
      "text/plain": [
       "conversation_id                                  944209488080527360\n",
       "author_id                                                2942451119\n",
       "created_at                                2018-03-12 18:02:14+00:00\n",
       "tweet_id                                         973257873844310016\n",
       "lang                                                             de\n",
       "retweet_count                                                     0\n",
       "reply_count                                                       0\n",
       "like_count                                                        0\n",
       "quote_count                                                       0\n",
       "source                                          Twitter for Android\n",
       "tweet_type                                             [replied_to]\n",
       "referenced_tweet_id                          ['944209488080527360']\n",
       "text                   @_MarkusBraun Jetzt einen schönen Wurstsalat\n",
       "Name: 71, dtype: object"
      ]
     },
     "execution_count": 15,
     "metadata": {},
     "output_type": "execute_result"
    }
   ],
   "source": [
    "df_de.iloc[71]"
   ]
  },
  {
   "cell_type": "code",
   "execution_count": null,
   "id": "24a4c1eb-e5ef-48fe-a89e-a55aeef07cc5",
   "metadata": {},
   "outputs": [],
   "source": []
  },
  {
   "cell_type": "code",
   "execution_count": 39,
   "id": "745f7f7d-466b-437c-9a0f-d6207ea0156c",
   "metadata": {},
   "outputs": [
    {
     "data": {
      "text/html": [
       "<div>\n",
       "<style scoped>\n",
       "    .dataframe tbody tr th:only-of-type {\n",
       "        vertical-align: middle;\n",
       "    }\n",
       "\n",
       "    .dataframe tbody tr th {\n",
       "        vertical-align: top;\n",
       "    }\n",
       "\n",
       "    .dataframe thead th {\n",
       "        text-align: right;\n",
       "    }\n",
       "</style>\n",
       "<table border=\"1\" class=\"dataframe\">\n",
       "  <thead>\n",
       "    <tr style=\"text-align: right;\">\n",
       "      <th></th>\n",
       "      <th>conversation_id</th>\n",
       "      <th>author_id</th>\n",
       "      <th>created_at</th>\n",
       "      <th>tweet_id</th>\n",
       "      <th>lang</th>\n",
       "      <th>retweet_count</th>\n",
       "      <th>reply_count</th>\n",
       "      <th>like_count</th>\n",
       "      <th>quote_count</th>\n",
       "      <th>source</th>\n",
       "      <th>tweet_type</th>\n",
       "      <th>referenced_tweet_id</th>\n",
       "      <th>text</th>\n",
       "    </tr>\n",
       "  </thead>\n",
       "  <tbody>\n",
       "    <tr>\n",
       "      <th>0</th>\n",
       "      <td>703311366262800384</td>\n",
       "      <td>1392131804</td>\n",
       "      <td>2016-02-26 20:11:11+00:00</td>\n",
       "      <td>703311366262800384</td>\n",
       "      <td>de</td>\n",
       "      <td>0</td>\n",
       "      <td>0</td>\n",
       "      <td>2</td>\n",
       "      <td>0</td>\n",
       "      <td>Twitter Web Client</td>\n",
       "      <td>[None]</td>\n",
       "      <td>[None]</td>\n",
       "      <td>#Wirecard-Chef Markus Braun pumpt irrwitzige S...</td>\n",
       "    </tr>\n",
       "    <tr>\n",
       "      <th>1</th>\n",
       "      <td>702405572012974080</td>\n",
       "      <td>1053723204</td>\n",
       "      <td>2016-02-24 08:11:53+00:00</td>\n",
       "      <td>702405572012974080</td>\n",
       "      <td>de</td>\n",
       "      <td>0</td>\n",
       "      <td>0</td>\n",
       "      <td>0</td>\n",
       "      <td>0</td>\n",
       "      <td>Twitter Web Client</td>\n",
       "      <td>[None]</td>\n",
       "      <td>[None]</td>\n",
       "      <td>Jetzt günstig einsammeln und später absahnen? ...</td>\n",
       "    </tr>\n",
       "    <tr>\n",
       "      <th>2</th>\n",
       "      <td>701784983829143553</td>\n",
       "      <td>554491983</td>\n",
       "      <td>2016-02-22 15:05:53+00:00</td>\n",
       "      <td>701784983829143553</td>\n",
       "      <td>de</td>\n",
       "      <td>0</td>\n",
       "      <td>0</td>\n",
       "      <td>0</td>\n",
       "      <td>0</td>\n",
       "      <td>Facebook</td>\n",
       "      <td>[None]</td>\n",
       "      <td>[None]</td>\n",
       "      <td>Morgen startet die neue Reihe R²-JazzCube! Vol...</td>\n",
       "    </tr>\n",
       "    <tr>\n",
       "      <th>3</th>\n",
       "      <td>701446667170615296</td>\n",
       "      <td>3365669884</td>\n",
       "      <td>2016-02-21 16:41:32+00:00</td>\n",
       "      <td>701446667170615296</td>\n",
       "      <td>de</td>\n",
       "      <td>0</td>\n",
       "      <td>0</td>\n",
       "      <td>1</td>\n",
       "      <td>0</td>\n",
       "      <td>Twitter Web Client</td>\n",
       "      <td>[None]</td>\n",
       "      <td>[None]</td>\n",
       "      <td>die Y-Achse des  #prusai3 nimmt Formen an :-) ...</td>\n",
       "    </tr>\n",
       "    <tr>\n",
       "      <th>4</th>\n",
       "      <td>700597812556386304</td>\n",
       "      <td>4858383167</td>\n",
       "      <td>2016-02-19 08:28:29+00:00</td>\n",
       "      <td>700597812556386304</td>\n",
       "      <td>de</td>\n",
       "      <td>2</td>\n",
       "      <td>0</td>\n",
       "      <td>0</td>\n",
       "      <td>0</td>\n",
       "      <td>Twitter for iPhone</td>\n",
       "      <td>[retweeted]</td>\n",
       "      <td>['700578193334411264']</td>\n",
       "      <td>RT @aktionaer: #Wirecard: Was führt der Vorsta...</td>\n",
       "    </tr>\n",
       "    <tr>\n",
       "      <th>...</th>\n",
       "      <td>...</td>\n",
       "      <td>...</td>\n",
       "      <td>...</td>\n",
       "      <td>...</td>\n",
       "      <td>...</td>\n",
       "      <td>...</td>\n",
       "      <td>...</td>\n",
       "      <td>...</td>\n",
       "      <td>...</td>\n",
       "      <td>...</td>\n",
       "      <td>...</td>\n",
       "      <td>...</td>\n",
       "      <td>...</td>\n",
       "    </tr>\n",
       "    <tr>\n",
       "      <th>70</th>\n",
       "      <td>945973335258787840</td>\n",
       "      <td>917052505430863873</td>\n",
       "      <td>2018-03-14 08:36:34+00:00</td>\n",
       "      <td>973840298274164738</td>\n",
       "      <td>de</td>\n",
       "      <td>0</td>\n",
       "      <td>0</td>\n",
       "      <td>0</td>\n",
       "      <td>0</td>\n",
       "      <td>Twitter for Android</td>\n",
       "      <td>[replied_to]</td>\n",
       "      <td>['945973335258787840']</td>\n",
       "      <td>@_MarkusBraun Man sollte sich überlegen, einen...</td>\n",
       "    </tr>\n",
       "    <tr>\n",
       "      <th>71</th>\n",
       "      <td>944209488080527360</td>\n",
       "      <td>2942451119</td>\n",
       "      <td>2018-03-12 18:02:14+00:00</td>\n",
       "      <td>973257873844310016</td>\n",
       "      <td>de</td>\n",
       "      <td>0</td>\n",
       "      <td>0</td>\n",
       "      <td>0</td>\n",
       "      <td>0</td>\n",
       "      <td>Twitter for Android</td>\n",
       "      <td>[replied_to]</td>\n",
       "      <td>['944209488080527360']</td>\n",
       "      <td>@_MarkusBraun Jetzt einen schönen Wurstsalat</td>\n",
       "    </tr>\n",
       "    <tr>\n",
       "      <th>72</th>\n",
       "      <td>973195874888290304</td>\n",
       "      <td>751899999752036354</td>\n",
       "      <td>2018-03-12 14:16:41+00:00</td>\n",
       "      <td>973201112219217921</td>\n",
       "      <td>de</td>\n",
       "      <td>0</td>\n",
       "      <td>1</td>\n",
       "      <td>0</td>\n",
       "      <td>0</td>\n",
       "      <td>Twitter Web Client</td>\n",
       "      <td>[replied_to]</td>\n",
       "      <td>['973195874888290304']</td>\n",
       "      <td>@Ademm66Mr @wirecard @bankenverband @_MarkusBr...</td>\n",
       "    </tr>\n",
       "    <tr>\n",
       "      <th>73</th>\n",
       "      <td>984792434533191680</td>\n",
       "      <td>17771831</td>\n",
       "      <td>2018-04-13 13:56:27+00:00</td>\n",
       "      <td>984792434533191680</td>\n",
       "      <td>de</td>\n",
       "      <td>0</td>\n",
       "      <td>0</td>\n",
       "      <td>0</td>\n",
       "      <td>0</td>\n",
       "      <td>IFTTT</td>\n",
       "      <td>[None]</td>\n",
       "      <td>[None]</td>\n",
       "      <td>RT @BlarryOfficial: @bvbflo09 @threalNox @seba...</td>\n",
       "    </tr>\n",
       "    <tr>\n",
       "      <th>74</th>\n",
       "      <td>984778759629885440</td>\n",
       "      <td>2482271094</td>\n",
       "      <td>2018-04-13 13:53:24+00:00</td>\n",
       "      <td>984791666069590016</td>\n",
       "      <td>de</td>\n",
       "      <td>0</td>\n",
       "      <td>1</td>\n",
       "      <td>1</td>\n",
       "      <td>0</td>\n",
       "      <td>Twitter Web Client</td>\n",
       "      <td>[replied_to]</td>\n",
       "      <td>['984779935964377091']</td>\n",
       "      <td>@bvbflo09 @threalNox @sebastiankehl @FCBayern ...</td>\n",
       "    </tr>\n",
       "  </tbody>\n",
       "</table>\n",
       "<p>75 rows × 13 columns</p>\n",
       "</div>"
      ],
      "text/plain": [
       "       conversation_id           author_id                 created_at  \\\n",
       "0   703311366262800384          1392131804  2016-02-26 20:11:11+00:00   \n",
       "1   702405572012974080          1053723204  2016-02-24 08:11:53+00:00   \n",
       "2   701784983829143553           554491983  2016-02-22 15:05:53+00:00   \n",
       "3   701446667170615296          3365669884  2016-02-21 16:41:32+00:00   \n",
       "4   700597812556386304          4858383167  2016-02-19 08:28:29+00:00   \n",
       "..                 ...                 ...                        ...   \n",
       "70  945973335258787840  917052505430863873  2018-03-14 08:36:34+00:00   \n",
       "71  944209488080527360          2942451119  2018-03-12 18:02:14+00:00   \n",
       "72  973195874888290304  751899999752036354  2018-03-12 14:16:41+00:00   \n",
       "73  984792434533191680            17771831  2018-04-13 13:56:27+00:00   \n",
       "74  984778759629885440          2482271094  2018-04-13 13:53:24+00:00   \n",
       "\n",
       "              tweet_id lang  retweet_count  reply_count  like_count  \\\n",
       "0   703311366262800384   de              0            0           2   \n",
       "1   702405572012974080   de              0            0           0   \n",
       "2   701784983829143553   de              0            0           0   \n",
       "3   701446667170615296   de              0            0           1   \n",
       "4   700597812556386304   de              2            0           0   \n",
       "..                 ...  ...            ...          ...         ...   \n",
       "70  973840298274164738   de              0            0           0   \n",
       "71  973257873844310016   de              0            0           0   \n",
       "72  973201112219217921   de              0            1           0   \n",
       "73  984792434533191680   de              0            0           0   \n",
       "74  984791666069590016   de              0            1           1   \n",
       "\n",
       "    quote_count               source    tweet_type     referenced_tweet_id  \\\n",
       "0             0   Twitter Web Client        [None]                  [None]   \n",
       "1             0   Twitter Web Client        [None]                  [None]   \n",
       "2             0             Facebook        [None]                  [None]   \n",
       "3             0   Twitter Web Client        [None]                  [None]   \n",
       "4             0   Twitter for iPhone   [retweeted]  ['700578193334411264']   \n",
       "..          ...                  ...           ...                     ...   \n",
       "70            0  Twitter for Android  [replied_to]  ['945973335258787840']   \n",
       "71            0  Twitter for Android  [replied_to]  ['944209488080527360']   \n",
       "72            0   Twitter Web Client  [replied_to]  ['973195874888290304']   \n",
       "73            0                IFTTT        [None]                  [None]   \n",
       "74            0   Twitter Web Client  [replied_to]  ['984779935964377091']   \n",
       "\n",
       "                                                 text  \n",
       "0   #Wirecard-Chef Markus Braun pumpt irrwitzige S...  \n",
       "1   Jetzt günstig einsammeln und später absahnen? ...  \n",
       "2   Morgen startet die neue Reihe R²-JazzCube! Vol...  \n",
       "3   die Y-Achse des  #prusai3 nimmt Formen an :-) ...  \n",
       "4   RT @aktionaer: #Wirecard: Was führt der Vorsta...  \n",
       "..                                                ...  \n",
       "70  @_MarkusBraun Man sollte sich überlegen, einen...  \n",
       "71       @_MarkusBraun Jetzt einen schönen Wurstsalat  \n",
       "72  @Ademm66Mr @wirecard @bankenverband @_MarkusBr...  \n",
       "73  RT @BlarryOfficial: @bvbflo09 @threalNox @seba...  \n",
       "74  @bvbflo09 @threalNox @sebastiankehl @FCBayern ...  \n",
       "\n",
       "[75 rows x 13 columns]"
      ]
     },
     "execution_count": 39,
     "metadata": {},
     "output_type": "execute_result"
    }
   ],
   "source": [
    "df_de.head(75)"
   ]
  },
  {
   "cell_type": "code",
   "execution_count": null,
   "id": "218e113b-a6fa-4932-915e-a29085c40e92",
   "metadata": {},
   "outputs": [],
   "source": []
  },
  {
   "cell_type": "code",
   "execution_count": null,
   "id": "4534ac86-2b5e-4f5e-8759-191b305158ea",
   "metadata": {},
   "outputs": [],
   "source": []
  },
  {
   "cell_type": "code",
   "execution_count": null,
   "id": "22ed1dcf-db57-4559-9b69-a29564bc191e",
   "metadata": {},
   "outputs": [],
   "source": []
  },
  {
   "cell_type": "code",
   "execution_count": null,
   "id": "c4e2a719-ef3b-4b2e-af41-daf1637e5c32",
   "metadata": {},
   "outputs": [],
   "source": []
  },
  {
   "cell_type": "markdown",
   "id": "eaf77bce-0158-4e3f-b43c-8b4c6dffef3b",
   "metadata": {},
   "source": [
    "<h2>Preprocessing Data</h2>"
   ]
  },
  {
   "cell_type": "code",
   "execution_count": 37,
   "id": "a34c0727-a471-455f-9e26-138bca91e2cd",
   "metadata": {
    "tags": []
   },
   "outputs": [],
   "source": [
    "for each in range(len(df_manager_de)):\n",
    "    df_manager_de.at[each,\"tweet_type\"] = re.findall(r\"\\w+\", df_manager_de.at[each, \"tweet_type\"])\n",
    "    #print(each)"
   ]
  },
  {
   "cell_type": "code",
   "execution_count": 22,
   "id": "61753e90-0d36-4c27-9cdd-057bbf4d40eb",
   "metadata": {},
   "outputs": [
    {
     "name": "stdout",
     "output_type": "stream",
     "text": [
      "189\n",
      "[1854, 3491, 4568, 5346, 5481, 5866, 5910, 5911, 5912, 5934, 5935, 5936, 5937, 5938, 5969, 5972, 5973, 5975, 5976, 5998, 5999, 6001, 6002, 6003, 6004, 6005, 6006, 6018, 6020, 6029, 6030, 6031, 6032, 6033, 6034, 6035, 6041, 6051, 6052, 6053, 6054, 6055, 6056, 6057, 6058, 6059, 6060, 6061, 6062, 6063, 6064, 6065, 6066, 6079, 6080, 6081, 6082, 6083, 6084, 6085, 6086, 6087, 6091, 6095, 6096, 6097, 6099, 6100, 6101, 6102, 6103, 6104, 6105, 6106, 6107, 6108, 6109, 6116, 6118, 6119, 6124, 6125, 6127, 6128, 6130, 6131, 6147, 6150, 6153, 6155, 6156, 6158, 6160, 6162, 6172, 6173, 6174, 6175, 6176, 6178, 6179, 6181, 6182, 6184, 6186, 6189, 6190, 6191, 6194, 6196, 6197, 6198, 6199, 6200, 6204, 6206, 6207, 6208, 6210, 6212, 6213, 6340, 9629, 9675, 16145, 18216, 18939, 29871, 38798, 39281, 44789, 46703, 59083, 62656, 63405, 65430, 67090, 70141, 70196, 70201, 70574, 71364, 76438, 76439, 78110, 78456, 79410, 80123, 80476, 80711, 81357, 81958, 87878, 91141, 91548, 92952, 95761, 96130, 97522, 97894, 98311, 98672, 99450, 99848, 101149, 105535, 106182, 106393, 106824, 107940, 108462, 108494, 108543, 108548, 108549, 108585, 116667, 119751, 121150, 128459, 128785, 133335, 133740, 133975, 135447, 135652, 137983, 145595, 147156]\n"
     ]
    }
   ],
   "source": [
    "counter = 0\n",
    "multiple_tweet_types = []\n",
    "for each in range(len(df_de)):\n",
    "    if len(df_de[\"tweet_type\"][each]) > 1:\n",
    "        multiple_tweet_types.append(each)\n",
    "        counter += 1\n",
    "print(counter)\n",
    "print(multiple_tweet_types)\n"
   ]
  },
  {
   "cell_type": "code",
   "execution_count": 46,
   "id": "1d5830e4-6959-411e-8cd1-a5548d520ea5",
   "metadata": {},
   "outputs": [],
   "source": [
    "tweet_list = df_de.iloc[71][\"tweet_type\"]"
   ]
  },
  {
   "cell_type": "code",
   "execution_count": 47,
   "id": "141f97c4-108e-4f40-b0cf-02f09f046fc1",
   "metadata": {},
   "outputs": [
    {
     "ename": "ValueError",
     "evalue": "('Lengths must match to compare', (150686,), (1,))",
     "output_type": "error",
     "traceback": [
      "\u001b[0;31m---------------------------------------------------------------------------\u001b[0m",
      "\u001b[0;31mValueError\u001b[0m                                Traceback (most recent call last)",
      "Input \u001b[0;32mIn [47]\u001b[0m, in \u001b[0;36m<cell line: 1>\u001b[0;34m()\u001b[0m\n\u001b[0;32m----> 1\u001b[0m df_de[\u001b[43mdf_de\u001b[49m\u001b[43m[\u001b[49m\u001b[38;5;124;43m\"\u001b[39;49m\u001b[38;5;124;43mtweet_type\u001b[39;49m\u001b[38;5;124;43m\"\u001b[39;49m\u001b[43m]\u001b[49m\u001b[43m \u001b[49m\u001b[38;5;241;43m==\u001b[39;49m\u001b[43m \u001b[49m\u001b[43mtweet_list\u001b[49m]\n",
      "File \u001b[0;32m~/Dev/FOM/Master_Thesis/master_thesis_3.9.10/.venv/lib/python3.9/site-packages/pandas/core/ops/common.py:70\u001b[0m, in \u001b[0;36m_unpack_zerodim_and_defer.<locals>.new_method\u001b[0;34m(self, other)\u001b[0m\n\u001b[1;32m     66\u001b[0m             \u001b[38;5;28;01mreturn\u001b[39;00m \u001b[38;5;28mNotImplemented\u001b[39m\n\u001b[1;32m     68\u001b[0m other \u001b[38;5;241m=\u001b[39m item_from_zerodim(other)\n\u001b[0;32m---> 70\u001b[0m \u001b[38;5;28;01mreturn\u001b[39;00m \u001b[43mmethod\u001b[49m\u001b[43m(\u001b[49m\u001b[38;5;28;43mself\u001b[39;49m\u001b[43m,\u001b[49m\u001b[43m \u001b[49m\u001b[43mother\u001b[49m\u001b[43m)\u001b[49m\n",
      "File \u001b[0;32m~/Dev/FOM/Master_Thesis/master_thesis_3.9.10/.venv/lib/python3.9/site-packages/pandas/core/arraylike.py:40\u001b[0m, in \u001b[0;36mOpsMixin.__eq__\u001b[0;34m(self, other)\u001b[0m\n\u001b[1;32m     38\u001b[0m \u001b[38;5;129m@unpack_zerodim_and_defer\u001b[39m(\u001b[38;5;124m\"\u001b[39m\u001b[38;5;124m__eq__\u001b[39m\u001b[38;5;124m\"\u001b[39m)\n\u001b[1;32m     39\u001b[0m \u001b[38;5;28;01mdef\u001b[39;00m \u001b[38;5;21m__eq__\u001b[39m(\u001b[38;5;28mself\u001b[39m, other):\n\u001b[0;32m---> 40\u001b[0m     \u001b[38;5;28;01mreturn\u001b[39;00m \u001b[38;5;28;43mself\u001b[39;49m\u001b[38;5;241;43m.\u001b[39;49m\u001b[43m_cmp_method\u001b[49m\u001b[43m(\u001b[49m\u001b[43mother\u001b[49m\u001b[43m,\u001b[49m\u001b[43m \u001b[49m\u001b[43moperator\u001b[49m\u001b[38;5;241;43m.\u001b[39;49m\u001b[43meq\u001b[49m\u001b[43m)\u001b[49m\n",
      "File \u001b[0;32m~/Dev/FOM/Master_Thesis/master_thesis_3.9.10/.venv/lib/python3.9/site-packages/pandas/core/series.py:5623\u001b[0m, in \u001b[0;36mSeries._cmp_method\u001b[0;34m(self, other, op)\u001b[0m\n\u001b[1;32m   5620\u001b[0m rvalues \u001b[38;5;241m=\u001b[39m extract_array(other, extract_numpy\u001b[38;5;241m=\u001b[39m\u001b[38;5;28;01mTrue\u001b[39;00m, extract_range\u001b[38;5;241m=\u001b[39m\u001b[38;5;28;01mTrue\u001b[39;00m)\n\u001b[1;32m   5622\u001b[0m \u001b[38;5;28;01mwith\u001b[39;00m np\u001b[38;5;241m.\u001b[39merrstate(\u001b[38;5;28mall\u001b[39m\u001b[38;5;241m=\u001b[39m\u001b[38;5;124m\"\u001b[39m\u001b[38;5;124mignore\u001b[39m\u001b[38;5;124m\"\u001b[39m):\n\u001b[0;32m-> 5623\u001b[0m     res_values \u001b[38;5;241m=\u001b[39m \u001b[43mops\u001b[49m\u001b[38;5;241;43m.\u001b[39;49m\u001b[43mcomparison_op\u001b[49m\u001b[43m(\u001b[49m\u001b[43mlvalues\u001b[49m\u001b[43m,\u001b[49m\u001b[43m \u001b[49m\u001b[43mrvalues\u001b[49m\u001b[43m,\u001b[49m\u001b[43m \u001b[49m\u001b[43mop\u001b[49m\u001b[43m)\u001b[49m\n\u001b[1;32m   5625\u001b[0m \u001b[38;5;28;01mreturn\u001b[39;00m \u001b[38;5;28mself\u001b[39m\u001b[38;5;241m.\u001b[39m_construct_result(res_values, name\u001b[38;5;241m=\u001b[39mres_name)\n",
      "File \u001b[0;32m~/Dev/FOM/Master_Thesis/master_thesis_3.9.10/.venv/lib/python3.9/site-packages/pandas/core/ops/array_ops.py:260\u001b[0m, in \u001b[0;36mcomparison_op\u001b[0;34m(left, right, op)\u001b[0m\n\u001b[1;32m    255\u001b[0m \u001b[38;5;28;01mif\u001b[39;00m \u001b[38;5;28misinstance\u001b[39m(rvalues, (np\u001b[38;5;241m.\u001b[39mndarray, ABCExtensionArray)):\n\u001b[1;32m    256\u001b[0m     \u001b[38;5;66;03m# TODO: make this treatment consistent across ops and classes.\u001b[39;00m\n\u001b[1;32m    257\u001b[0m     \u001b[38;5;66;03m#  We are not catching all listlikes here (e.g. frozenset, tuple)\u001b[39;00m\n\u001b[1;32m    258\u001b[0m     \u001b[38;5;66;03m#  The ambiguous case is object-dtype.  See GH#27803\u001b[39;00m\n\u001b[1;32m    259\u001b[0m     \u001b[38;5;28;01mif\u001b[39;00m \u001b[38;5;28mlen\u001b[39m(lvalues) \u001b[38;5;241m!=\u001b[39m \u001b[38;5;28mlen\u001b[39m(rvalues):\n\u001b[0;32m--> 260\u001b[0m         \u001b[38;5;28;01mraise\u001b[39;00m \u001b[38;5;167;01mValueError\u001b[39;00m(\n\u001b[1;32m    261\u001b[0m             \u001b[38;5;124m\"\u001b[39m\u001b[38;5;124mLengths must match to compare\u001b[39m\u001b[38;5;124m\"\u001b[39m, lvalues\u001b[38;5;241m.\u001b[39mshape, rvalues\u001b[38;5;241m.\u001b[39mshape\n\u001b[1;32m    262\u001b[0m         )\n\u001b[1;32m    264\u001b[0m \u001b[38;5;28;01mif\u001b[39;00m should_extension_dispatch(lvalues, rvalues) \u001b[38;5;129;01mor\u001b[39;00m (\n\u001b[1;32m    265\u001b[0m     (\u001b[38;5;28misinstance\u001b[39m(rvalues, (Timedelta, BaseOffset, Timestamp)) \u001b[38;5;129;01mor\u001b[39;00m right \u001b[38;5;129;01mis\u001b[39;00m NaT)\n\u001b[1;32m    266\u001b[0m     \u001b[38;5;129;01mand\u001b[39;00m \u001b[38;5;129;01mnot\u001b[39;00m is_object_dtype(lvalues\u001b[38;5;241m.\u001b[39mdtype)\n\u001b[1;32m    267\u001b[0m ):\n\u001b[1;32m    268\u001b[0m     \u001b[38;5;66;03m# Call the method on lvalues\u001b[39;00m\n\u001b[1;32m    269\u001b[0m     res_values \u001b[38;5;241m=\u001b[39m op(lvalues, rvalues)\n",
      "\u001b[0;31mValueError\u001b[0m: ('Lengths must match to compare', (150686,), (1,))"
     ]
    }
   ],
   "source": [
    "df_de[df_de[\"tweet_type\"] == tweet_list]"
   ]
  },
  {
   "cell_type": "code",
   "execution_count": 1,
   "id": "db549348-b466-4fb9-914e-76ca495d6c2d",
   "metadata": {},
   "outputs": [
    {
     "name": "stdout",
     "output_type": "stream",
     "text": [
      "2022-04-05 22:00:29,776 https://flair.informatik.hu-berlin.de/resources/embeddings/token/glove.gensim.vectors.npy not found in cache, downloading to /var/folders/3r/0dwb2f6j0f39f4r2j9yyjf180000gn/T/tmp0s7vdsjv\n"
     ]
    },
    {
     "name": "stderr",
     "output_type": "stream",
     "text": [
      "100%|████████████████████████| 160000128/160000128 [00:15<00:00, 10463324.56B/s]"
     ]
    },
    {
     "name": "stdout",
     "output_type": "stream",
     "text": [
      "2022-04-05 22:00:45,184 copying /var/folders/3r/0dwb2f6j0f39f4r2j9yyjf180000gn/T/tmp0s7vdsjv to cache at /Users/tobias/.flair/embeddings/glove.gensim.vectors.npy\n"
     ]
    },
    {
     "name": "stderr",
     "output_type": "stream",
     "text": [
      "\n"
     ]
    },
    {
     "name": "stdout",
     "output_type": "stream",
     "text": [
      "2022-04-05 22:00:45,241 removing temp file /var/folders/3r/0dwb2f6j0f39f4r2j9yyjf180000gn/T/tmp0s7vdsjv\n",
      "2022-04-05 22:00:45,344 https://flair.informatik.hu-berlin.de/resources/embeddings/token/glove.gensim not found in cache, downloading to /var/folders/3r/0dwb2f6j0f39f4r2j9yyjf180000gn/T/tmpr99exaoa\n"
     ]
    },
    {
     "name": "stderr",
     "output_type": "stream",
     "text": [
      "100%|██████████████████████████| 21494764/21494764 [00:01<00:00, 11938174.10B/s]"
     ]
    },
    {
     "name": "stdout",
     "output_type": "stream",
     "text": [
      "2022-04-05 22:00:47,237 copying /var/folders/3r/0dwb2f6j0f39f4r2j9yyjf180000gn/T/tmpr99exaoa to cache at /Users/tobias/.flair/embeddings/glove.gensim\n"
     ]
    },
    {
     "name": "stderr",
     "output_type": "stream",
     "text": [
      "\n"
     ]
    },
    {
     "name": "stdout",
     "output_type": "stream",
     "text": [
      "2022-04-05 22:00:47,245 removing temp file /var/folders/3r/0dwb2f6j0f39f4r2j9yyjf180000gn/T/tmpr99exaoa\n"
     ]
    }
   ],
   "source": [
    "from flair.embeddings import WordEmbeddings\n",
    "from flair.data import Sentence\n",
    "\n",
    "# init embedding\n",
    "glove_embedding = WordEmbeddings('glove')"
   ]
  },
  {
   "cell_type": "code",
   "execution_count": 2,
   "id": "c491866b-f95a-4beb-a0b9-09f8d2a03a60",
   "metadata": {},
   "outputs": [
    {
     "name": "stdout",
     "output_type": "stream",
     "text": [
      "Token: 1 The\n",
      "tensor([-0.0382, -0.2449,  0.7281, -0.3996,  0.0832,  0.0440, -0.3914,  0.3344,\n",
      "        -0.5755,  0.0875,  0.2879, -0.0673,  0.3091, -0.2638, -0.1323, -0.2076,\n",
      "         0.3340, -0.3385, -0.3174, -0.4834,  0.1464, -0.3730,  0.3458,  0.0520,\n",
      "         0.4495, -0.4697,  0.0263, -0.5415, -0.1552, -0.1411, -0.0397,  0.2828,\n",
      "         0.1439,  0.2346, -0.3102,  0.0862,  0.2040,  0.5262,  0.1716, -0.0824,\n",
      "        -0.7179, -0.4153,  0.2033, -0.1276,  0.4137,  0.5519,  0.5791, -0.3348,\n",
      "        -0.3656, -0.5486, -0.0629,  0.2658,  0.3020,  0.9977, -0.8048, -3.0243,\n",
      "         0.0125, -0.3694,  2.2167,  0.7220, -0.2498,  0.9214,  0.0345,  0.4674,\n",
      "         1.1079, -0.1936, -0.0746,  0.2335, -0.0521, -0.2204,  0.0572, -0.1581,\n",
      "        -0.3080, -0.4162,  0.3797,  0.1501, -0.5321, -0.2055, -1.2526,  0.0716,\n",
      "         0.7056,  0.4974, -0.4206,  0.2615, -1.5380, -0.3022, -0.0734, -0.2831,\n",
      "         0.3710, -0.2522,  0.0162, -0.0171, -0.3898,  0.8742, -0.7257, -0.5106,\n",
      "        -0.5203, -0.1459,  0.8278,  0.2706])\n",
      "Token: 2 grass\n",
      "tensor([-0.8135,  0.9404, -0.2405, -0.1350,  0.0557,  0.3363,  0.0802, -0.1015,\n",
      "        -0.5478, -0.3537,  0.0734,  0.2587,  0.1987, -0.1433,  0.2507,  0.4281,\n",
      "         0.1950,  0.5346,  0.7424,  0.0578, -0.3178,  0.9436,  0.8145, -0.0824,\n",
      "         0.6166,  0.7284, -0.3262, -1.3641,  0.1232,  0.5373, -0.5123,  0.0246,\n",
      "         1.0822, -0.2296,  0.6039,  0.5541, -0.9610,  0.4803,  0.0022,  0.5591,\n",
      "        -0.1637, -0.8468,  0.0741, -0.6216,  0.0260, -0.5162, -0.0525, -0.1418,\n",
      "        -0.0161, -0.4972, -0.5534, -0.4037,  0.5096,  1.0276, -0.0840, -1.1179,\n",
      "         0.3226,  0.4928,  0.9488,  0.2040,  0.5388,  0.8397, -0.0689,  0.3136,\n",
      "         1.0450, -0.2267, -0.0896, -0.6427,  0.6443, -1.1001, -0.0096,  0.2668,\n",
      "        -0.3230, -0.6065,  0.0479, -0.1664,  0.8571,  0.2335,  0.2539,  1.2546,\n",
      "         0.5472, -0.1980, -0.7186,  0.2076, -0.2587, -0.3650,  0.0834,  0.6932,\n",
      "         0.1574,  1.0931,  0.0913, -1.3773, -0.2717,  0.7071,  0.1872, -0.3307,\n",
      "        -0.2836,  0.1030,  1.2228,  0.8374])\n",
      "Token: 3 is\n",
      "tensor([-0.5426,  0.4148,  1.0322, -0.4024,  0.4669,  0.2182, -0.0749,  0.4733,\n",
      "         0.0810, -0.2208, -0.1281, -0.1144,  0.5089,  0.1157,  0.0282, -0.3628,\n",
      "         0.4382,  0.0475,  0.2028,  0.4986, -0.1007,  0.1327,  0.1697,  0.1165,\n",
      "         0.3135,  0.2571,  0.0928, -0.5683, -0.5297, -0.0515, -0.6733,  0.9253,\n",
      "         0.2693,  0.2273,  0.6636,  0.2622,  0.1972,  0.2609,  0.1877, -0.3454,\n",
      "        -0.4263,  0.1398,  0.5634, -0.5691,  0.1240, -0.1289,  0.7248, -0.2610,\n",
      "        -0.2631, -0.4360,  0.0789, -0.8415,  0.5160,  1.3997, -0.7646, -3.1453,\n",
      "        -0.2920, -0.3125,  1.5129,  0.5243,  0.2146,  0.4245, -0.0884, -0.1780,\n",
      "         1.1876,  0.1058,  0.7657,  0.2191,  0.3582, -0.1164,  0.0933, -0.6248,\n",
      "        -0.2190,  0.2180,  0.7406, -0.4374,  0.1434,  0.1472, -1.1605, -0.0505,\n",
      "         0.1268, -0.0144, -0.9868, -0.0913, -1.2054, -0.1197,  0.0478, -0.5400,\n",
      "         0.5246, -0.7096, -0.3253, -0.1346, -0.4131,  0.3343, -0.0072,  0.3225,\n",
      "        -0.0442, -1.2969,  0.7622,  0.4635])\n",
      "Token: 4 green\n",
      "tensor([-6.7907e-01,  3.4908e-01, -2.3984e-01, -9.9652e-01,  7.3782e-01,\n",
      "        -6.5911e-04,  2.8010e-01,  1.7287e-02, -3.6063e-01,  3.6955e-02,\n",
      "        -4.0395e-01,  2.4092e-02,  2.8958e-01,  4.0497e-01,  6.9992e-01,\n",
      "         2.5269e-01,  8.0350e-01,  4.9370e-02,  1.5562e-01, -6.3286e-03,\n",
      "        -2.9414e-01,  1.4728e-01,  1.8977e-01, -5.1791e-01,  3.6986e-01,\n",
      "         7.4582e-01,  8.2689e-02, -7.2601e-01, -4.0939e-01, -9.7822e-02,\n",
      "        -1.4096e-01,  7.1121e-01,  6.1933e-01, -2.5014e-01,  4.2250e-01,\n",
      "         4.8458e-01, -5.1915e-01,  7.7125e-01,  3.6685e-01,  4.9652e-01,\n",
      "        -4.1298e-02, -1.4683e+00,  2.0038e-01,  1.8591e-01,  4.9860e-02,\n",
      "        -1.7523e-01, -3.5528e-01,  9.4153e-01, -1.1898e-01, -5.1903e-01,\n",
      "        -1.1887e-02, -3.9186e-01, -1.7479e-01,  9.3451e-01, -5.8931e-01,\n",
      "        -2.7701e+00,  3.4522e-01,  8.6533e-01,  1.0808e+00, -1.0291e-01,\n",
      "        -9.1220e-02,  5.5092e-01, -3.9473e-01,  5.3676e-01,  1.0383e+00,\n",
      "        -4.0658e-01,  2.4590e-01, -2.6797e-01, -2.6036e-01, -1.4151e-01,\n",
      "        -1.2022e-01,  1.6234e-01, -7.4320e-01, -6.4728e-01,  4.7133e-02,\n",
      "         5.1642e-01,  1.9898e-01,  2.3919e-01,  1.2550e-01,  2.2471e-01,\n",
      "         8.2613e-01,  7.8328e-02, -5.7020e-01,  2.3934e-02, -1.5410e-01,\n",
      "        -2.5739e-01,  4.1262e-01, -4.6967e-01,  8.7914e-01,  7.2629e-01,\n",
      "         5.3862e-02, -1.1575e+00, -4.7835e-01,  2.0139e-01, -1.0051e+00,\n",
      "         1.1515e-01, -9.6609e-01,  1.2960e-01,  1.8388e-01, -3.0383e-02])\n",
      "Token: 5 .\n",
      "tensor([-0.3398,  0.2094,  0.4635, -0.6479, -0.3838,  0.0380,  0.1713,  0.1598,\n",
      "         0.4662, -0.0192,  0.4148, -0.3435,  0.2687,  0.0446,  0.4213, -0.4103,\n",
      "         0.1546,  0.0222, -0.6465,  0.2526,  0.0431, -0.1945,  0.4652,  0.4565,\n",
      "         0.6859,  0.0913,  0.2188, -0.7035,  0.1679, -0.3508, -0.1263,  0.6638,\n",
      "        -0.2582,  0.0365, -0.1361,  0.4025,  0.1429,  0.3813, -0.1228, -0.4589,\n",
      "        -0.2528, -0.3043, -0.1121, -0.2618, -0.2248, -0.4455,  0.2991, -0.8561,\n",
      "        -0.1450, -0.4909,  0.0083, -0.1749,  0.2752,  1.4401, -0.2124, -2.8435,\n",
      "        -0.2796, -0.4572,  1.6386,  0.7881, -0.5526,  0.6500,  0.0864,  0.3901,\n",
      "         1.0632, -0.3538,  0.4833,  0.3460,  0.8417,  0.0987, -0.2421, -0.2705,\n",
      "         0.0453, -0.4015,  0.1139,  0.0062,  0.0367,  0.0185, -1.0213, -0.2081,\n",
      "         0.6407, -0.0688, -0.5864,  0.3348, -1.1432, -0.1148, -0.2509, -0.4591,\n",
      "        -0.0968, -0.1795, -0.0634, -0.6741, -0.0689,  0.5360, -0.8777,  0.3180,\n",
      "        -0.3924, -0.2339,  0.4730, -0.0288])\n"
     ]
    }
   ],
   "source": [
    "# create sentence.\n",
    "sentence = Sentence('The grass is green .')\n",
    "\n",
    "# embed a sentence using glove.\n",
    "glove_embedding.embed(sentence)\n",
    "\n",
    "# now check out the embedded tokens.\n",
    "for token in sentence:\n",
    "    print(token)\n",
    "    print(token.embedding)"
   ]
  },
  {
   "cell_type": "code",
   "execution_count": 3,
   "id": "058089da-435d-4ce4-8644-3715222ee6fe",
   "metadata": {},
   "outputs": [
    {
     "name": "stdout",
     "output_type": "stream",
     "text": [
      "2022-04-05 22:09:50,450 https://flair.informatik.hu-berlin.de/resources/embeddings/flair/news-forward-0.4.1.pt not found in cache, downloading to /var/folders/3r/0dwb2f6j0f39f4r2j9yyjf180000gn/T/tmpubqr77v9\n"
     ]
    },
    {
     "name": "stderr",
     "output_type": "stream",
     "text": [
      "100%|██████████████████████████| 73034624/73034624 [00:06<00:00, 11105076.91B/s]"
     ]
    },
    {
     "name": "stdout",
     "output_type": "stream",
     "text": [
      "2022-04-05 22:09:57,122 copying /var/folders/3r/0dwb2f6j0f39f4r2j9yyjf180000gn/T/tmpubqr77v9 to cache at /Users/tobias/.flair/embeddings/news-forward-0.4.1.pt\n"
     ]
    },
    {
     "name": "stderr",
     "output_type": "stream",
     "text": [
      "\n"
     ]
    },
    {
     "name": "stdout",
     "output_type": "stream",
     "text": [
      "2022-04-05 22:09:57,148 removing temp file /var/folders/3r/0dwb2f6j0f39f4r2j9yyjf180000gn/T/tmpubqr77v9\n",
      "2022-04-05 22:09:57,495 https://flair.informatik.hu-berlin.de/resources/embeddings/flair/news-backward-0.4.1.pt not found in cache, downloading to /var/folders/3r/0dwb2f6j0f39f4r2j9yyjf180000gn/T/tmpa2m43ay0\n"
     ]
    },
    {
     "name": "stderr",
     "output_type": "stream",
     "text": [
      "100%|██████████████████████████| 73034575/73034575 [00:05<00:00, 12236186.04B/s]"
     ]
    },
    {
     "name": "stdout",
     "output_type": "stream",
     "text": [
      "2022-04-05 22:10:03,580 copying /var/folders/3r/0dwb2f6j0f39f4r2j9yyjf180000gn/T/tmpa2m43ay0 to cache at /Users/tobias/.flair/embeddings/news-backward-0.4.1.pt\n",
      "2022-04-05 22:10:03,610 removing temp file /var/folders/3r/0dwb2f6j0f39f4r2j9yyjf180000gn/T/tmpa2m43ay0\n"
     ]
    },
    {
     "name": "stderr",
     "output_type": "stream",
     "text": [
      "\n"
     ]
    }
   ],
   "source": [
    "from flair.embeddings import WordEmbeddings, FlairEmbeddings\n",
    "\n",
    "# init standard GloVe embedding\n",
    "glove_embedding = WordEmbeddings('glove')\n",
    "\n",
    "# init Flair forward and backwards embeddings\n",
    "flair_embedding_forward = FlairEmbeddings('news-forward')\n",
    "flair_embedding_backward = FlairEmbeddings('news-backward')"
   ]
  },
  {
   "cell_type": "code",
   "execution_count": 4,
   "id": "5156786e-4dac-4c36-9cd6-82ebcc34002f",
   "metadata": {},
   "outputs": [],
   "source": [
    "from flair.embeddings import StackedEmbeddings\n",
    "\n",
    "# create a StackedEmbedding object that combines glove and forward/backward flair embeddings\n",
    "stacked_embeddings = StackedEmbeddings([\n",
    "                                        glove_embedding,\n",
    "                                        flair_embedding_forward,\n",
    "                                        flair_embedding_backward,\n",
    "                                       ])"
   ]
  },
  {
   "cell_type": "code",
   "execution_count": 5,
   "id": "7d56ec3e-7e0f-49b0-9507-d3a6a446c626",
   "metadata": {},
   "outputs": [
    {
     "name": "stdout",
     "output_type": "stream",
     "text": [
      "Token: 1 The\n",
      "tensor([-0.0382, -0.2449,  0.7281,  ..., -0.0065, -0.0053,  0.0090])\n",
      "Token: 2 grass\n",
      "tensor([-0.8135,  0.9404, -0.2405,  ...,  0.0354, -0.0255, -0.0143])\n",
      "Token: 3 is\n",
      "tensor([-5.4264e-01,  4.1476e-01,  1.0322e+00,  ..., -5.3691e-04,\n",
      "        -9.6750e-03, -2.7541e-02])\n",
      "Token: 4 green\n",
      "tensor([-0.6791,  0.3491, -0.2398,  ..., -0.0007, -0.1333,  0.0161])\n",
      "Token: 5 .\n",
      "tensor([-0.3398,  0.2094,  0.4635,  ...,  0.0005, -0.0177,  0.0032])\n"
     ]
    }
   ],
   "source": [
    "sentence = Sentence('The grass is green .')\n",
    "\n",
    "# just embed a sentence using the StackedEmbedding as you would with any single embedding.\n",
    "stacked_embeddings.embed(sentence)\n",
    "\n",
    "# now check out the embedded tokens.\n",
    "for token in sentence:\n",
    "    print(token)\n",
    "    print(token.embedding)"
   ]
  },
  {
   "cell_type": "code",
   "execution_count": 1,
   "id": "7b4a8f0f-a8f4-4adb-b156-9f15b8ba088e",
   "metadata": {},
   "outputs": [],
   "source": [
    "from flair.data import Corpus\n",
    "from flair.datasets import TREC_6"
   ]
  },
  {
   "cell_type": "code",
   "execution_count": 2,
   "id": "20e15f85-6ef1-41e5-97e7-ad876a6cc4b7",
   "metadata": {},
   "outputs": [
    {
     "name": "stdout",
     "output_type": "stream",
     "text": [
      "2022-04-06 21:45:32,800 https://cogcomp.seas.upenn.edu/Data/QA/QC/train_5500.label not found in cache, downloading to /var/folders/3r/0dwb2f6j0f39f4r2j9yyjf180000gn/T/tmpet36o6uk\n"
     ]
    },
    {
     "name": "stderr",
     "output_type": "stream",
     "text": [
      "100%|████████████████████████████████| 335858/335858 [00:00<00:00, 865448.52B/s]"
     ]
    },
    {
     "name": "stdout",
     "output_type": "stream",
     "text": [
      "2022-04-06 21:45:33,531 copying /var/folders/3r/0dwb2f6j0f39f4r2j9yyjf180000gn/T/tmpet36o6uk to cache at /Users/tobias/.flair/datasets/trec_6/original/train_5500.label\n",
      "2022-04-06 21:45:33,534 removing temp file /var/folders/3r/0dwb2f6j0f39f4r2j9yyjf180000gn/T/tmpet36o6uk\n"
     ]
    },
    {
     "name": "stderr",
     "output_type": "stream",
     "text": [
      "\n"
     ]
    },
    {
     "name": "stdout",
     "output_type": "stream",
     "text": [
      "2022-04-06 21:45:33,865 https://cogcomp.seas.upenn.edu/Data/QA/QC/TREC_10.label not found in cache, downloading to /var/folders/3r/0dwb2f6j0f39f4r2j9yyjf180000gn/T/tmplvot00lj\n"
     ]
    },
    {
     "name": "stderr",
     "output_type": "stream",
     "text": [
      "100%|██████████████████████████████████| 23354/23354 [00:00<00:00, 229140.75B/s]"
     ]
    },
    {
     "name": "stdout",
     "output_type": "stream",
     "text": [
      "2022-04-06 21:45:34,297 copying /var/folders/3r/0dwb2f6j0f39f4r2j9yyjf180000gn/T/tmplvot00lj to cache at /Users/tobias/.flair/datasets/trec_6/original/TREC_10.label\n",
      "2022-04-06 21:45:34,299 removing temp file /var/folders/3r/0dwb2f6j0f39f4r2j9yyjf180000gn/T/tmplvot00lj\n",
      "2022-04-06 21:45:34,317 Reading data from /Users/tobias/.flair/datasets/trec_6\n",
      "2022-04-06 21:45:34,317 Train: /Users/tobias/.flair/datasets/trec_6/train.txt\n",
      "2022-04-06 21:45:34,318 Dev: None\n",
      "2022-04-06 21:45:34,318 Test: /Users/tobias/.flair/datasets/trec_6/test.txt\n"
     ]
    },
    {
     "name": "stderr",
     "output_type": "stream",
     "text": [
      "\n"
     ]
    },
    {
     "name": "stdout",
     "output_type": "stream",
     "text": [
      "2022-04-06 21:45:34,888 Initialized corpus /Users/tobias/.flair/datasets/trec_6 (label type name is 'question_class')\n"
     ]
    }
   ],
   "source": [
    "corpus: Corpus = TREC_6()"
   ]
  },
  {
   "cell_type": "code",
   "execution_count": null,
   "id": "38bfd437-c73d-405e-809a-8e705999448a",
   "metadata": {},
   "outputs": [],
   "source": []
  },
  {
   "cell_type": "code",
   "execution_count": null,
   "id": "54e7657d-943e-4673-895f-45562bb1db33",
   "metadata": {},
   "outputs": [],
   "source": []
  },
  {
   "cell_type": "code",
   "execution_count": null,
   "id": "6465f60d-eb5f-4baa-b194-32f2b9b0bf29",
   "metadata": {},
   "outputs": [],
   "source": []
  },
  {
   "cell_type": "code",
   "execution_count": 1,
   "id": "9e33ded3-eb0c-4fe2-a5c7-0e97eae4d8be",
   "metadata": {},
   "outputs": [
    {
     "name": "stderr",
     "output_type": "stream",
     "text": [
      "No model was supplied, defaulted to distilbert-base-uncased-finetuned-sst-2-english (https://huggingface.co/distilbert-base-uncased-finetuned-sst-2-english)\n"
     ]
    },
    {
     "data": {
      "application/vnd.jupyter.widget-view+json": {
       "model_id": "49d2b3ea529245b09048a22a6614aed4",
       "version_major": 2,
       "version_minor": 0
      },
      "text/plain": [
       "Downloading:   0%|          | 0.00/629 [00:00<?, ?B/s]"
      ]
     },
     "metadata": {},
     "output_type": "display_data"
    },
    {
     "data": {
      "application/vnd.jupyter.widget-view+json": {
       "model_id": "0969e0f4361e4ced9014ae561bc99105",
       "version_major": 2,
       "version_minor": 0
      },
      "text/plain": [
       "Downloading:   0%|          | 0.00/255M [00:00<?, ?B/s]"
      ]
     },
     "metadata": {},
     "output_type": "display_data"
    },
    {
     "data": {
      "application/vnd.jupyter.widget-view+json": {
       "model_id": "ead42d0626704b37b8467a1e87694b71",
       "version_major": 2,
       "version_minor": 0
      },
      "text/plain": [
       "Downloading:   0%|          | 0.00/48.0 [00:00<?, ?B/s]"
      ]
     },
     "metadata": {},
     "output_type": "display_data"
    },
    {
     "data": {
      "application/vnd.jupyter.widget-view+json": {
       "model_id": "6a3042a34f5948d3b29e2d4c8b16ca92",
       "version_major": 2,
       "version_minor": 0
      },
      "text/plain": [
       "Downloading:   0%|          | 0.00/226k [00:00<?, ?B/s]"
      ]
     },
     "metadata": {},
     "output_type": "display_data"
    },
    {
     "data": {
      "text/plain": [
       "[{'label': 'POSITIVE', 'score': 0.9996980428695679}]"
      ]
     },
     "execution_count": 1,
     "metadata": {},
     "output_type": "execute_result"
    }
   ],
   "source": [
    ">>> from transformers import pipeline\n",
    "\n",
    "# Allocate a pipeline for sentiment-analysis\n",
    ">>> classifier = pipeline('sentiment-analysis')\n",
    ">>> classifier('We are very happy to introduce pipeline to the transformers repository.')\n",
    "[{'label': 'POSITIVE', 'score': 0.9996980428695679}]"
   ]
  },
  {
   "cell_type": "code",
   "execution_count": 3,
   "id": "ed96a0a7-f950-4360-be0c-584c613bb1f3",
   "metadata": {},
   "outputs": [
    {
     "data": {
      "text/plain": [
       "[{'label': 'POSITIVE', 'score': 0.9998736381530762}]"
      ]
     },
     "execution_count": 3,
     "metadata": {},
     "output_type": "execute_result"
    }
   ],
   "source": [
    "classifier(\"Tesla is a great company\")"
   ]
  },
  {
   "cell_type": "code",
   "execution_count": 4,
   "id": "44c53ecf-5455-482f-a59d-beade8d20418",
   "metadata": {},
   "outputs": [
    {
     "data": {
      "text/plain": [
       "[{'label': 'NEGATIVE', 'score': 0.9997842907905579}]"
      ]
     },
     "execution_count": 4,
     "metadata": {},
     "output_type": "execute_result"
    }
   ],
   "source": [
    "classifier(\"Tesla is a bad company\")"
   ]
  },
  {
   "cell_type": "code",
   "execution_count": 5,
   "id": "25beadc2-a058-416b-9b18-ffb9384416cc",
   "metadata": {},
   "outputs": [
    {
     "data": {
      "text/plain": [
       "[{'label': 'POSITIVE', 'score': 0.9983876943588257}]"
      ]
     },
     "execution_count": 5,
     "metadata": {},
     "output_type": "execute_result"
    }
   ],
   "source": [
    "classifier(\"Tesla is a company\")"
   ]
  },
  {
   "cell_type": "code",
   "execution_count": 6,
   "id": "2c78a2b7-6909-4ba0-b115-4da69fd011c7",
   "metadata": {},
   "outputs": [],
   "source": [
    "model_name = \"nlptown/bert-base-multilingual-uncased-sentiment\""
   ]
  },
  {
   "cell_type": "code",
   "execution_count": 7,
   "id": "6c8e794f-878b-4263-81eb-579ed3ad0afd",
   "metadata": {},
   "outputs": [
    {
     "data": {
      "application/vnd.jupyter.widget-view+json": {
       "model_id": "893432a9d8fa49169fb7295f901e27ea",
       "version_major": 2,
       "version_minor": 0
      },
      "text/plain": [
       "Downloading:   0%|          | 0.00/953 [00:00<?, ?B/s]"
      ]
     },
     "metadata": {},
     "output_type": "display_data"
    },
    {
     "data": {
      "application/vnd.jupyter.widget-view+json": {
       "model_id": "f68b1b997ff64936842f132be550db17",
       "version_major": 2,
       "version_minor": 0
      },
      "text/plain": [
       "Downloading:   0%|          | 0.00/638M [00:00<?, ?B/s]"
      ]
     },
     "metadata": {},
     "output_type": "display_data"
    },
    {
     "data": {
      "application/vnd.jupyter.widget-view+json": {
       "model_id": "824f6ddca89042cbaccb649ca3039ecb",
       "version_major": 2,
       "version_minor": 0
      },
      "text/plain": [
       "Downloading:   0%|          | 0.00/39.0 [00:00<?, ?B/s]"
      ]
     },
     "metadata": {},
     "output_type": "display_data"
    },
    {
     "data": {
      "application/vnd.jupyter.widget-view+json": {
       "model_id": "7130d1acf23d4d05a9c59e0c2ab3e7a3",
       "version_major": 2,
       "version_minor": 0
      },
      "text/plain": [
       "Downloading:   0%|          | 0.00/851k [00:00<?, ?B/s]"
      ]
     },
     "metadata": {},
     "output_type": "display_data"
    },
    {
     "data": {
      "application/vnd.jupyter.widget-view+json": {
       "model_id": "f190daf374c544ce8d224cbf9cecb8a8",
       "version_major": 2,
       "version_minor": 0
      },
      "text/plain": [
       "Downloading:   0%|          | 0.00/112 [00:00<?, ?B/s]"
      ]
     },
     "metadata": {},
     "output_type": "display_data"
    }
   ],
   "source": [
    "from transformers import AutoTokenizer, AutoModelForSequenceClassification\n",
    "\n",
    "model = AutoModelForSequenceClassification.from_pretrained(model_name)\n",
    "tokenizer = AutoTokenizer.from_pretrained(model_name)"
   ]
  },
  {
   "cell_type": "code",
   "execution_count": 8,
   "id": "770d9527-921e-46a2-9b83-f903dede7aef",
   "metadata": {},
   "outputs": [],
   "source": [
    "classifier = pipeline(\"sentiment-analysis\", model=model, tokenizer=tokenizer)\n"
   ]
  },
  {
   "cell_type": "code",
   "execution_count": 9,
   "id": "a0350aba-3819-4bd1-9a71-0dfdc03c12ac",
   "metadata": {},
   "outputs": [
    {
     "data": {
      "text/plain": [
       "[{'label': '5 stars', 'score': 0.805143415927887}]"
      ]
     },
     "execution_count": 9,
     "metadata": {},
     "output_type": "execute_result"
    }
   ],
   "source": [
    "classifier(\"Tesla is a great company\")"
   ]
  },
  {
   "cell_type": "code",
   "execution_count": 10,
   "id": "524143e9-f503-4ae5-b5c6-830da2b3fad1",
   "metadata": {},
   "outputs": [
    {
     "data": {
      "text/plain": [
       "[{'label': '1 star', 'score': 0.791061520576477}]"
      ]
     },
     "execution_count": 10,
     "metadata": {},
     "output_type": "execute_result"
    }
   ],
   "source": [
    "classifier(\"Tesla is a bad company\")"
   ]
  },
  {
   "cell_type": "code",
   "execution_count": 11,
   "id": "5e6dd206-28ba-413e-a147-f7ae75a4cab5",
   "metadata": {},
   "outputs": [
    {
     "data": {
      "text/plain": [
       "[{'label': '5 stars', 'score': 0.45207613706588745}]"
      ]
     },
     "execution_count": 11,
     "metadata": {},
     "output_type": "execute_result"
    }
   ],
   "source": [
    "classifier(\"Tesla is a company\")"
   ]
  },
  {
   "cell_type": "code",
   "execution_count": 12,
   "id": "7b40d627-7660-4ef0-be1a-68815d920fd2",
   "metadata": {},
   "outputs": [
    {
     "data": {
      "text/plain": [
       "[{'label': '5 stars', 'score': 0.40043339133262634}]"
      ]
     },
     "execution_count": 12,
     "metadata": {},
     "output_type": "execute_result"
    }
   ],
   "source": []
  },
  {
   "cell_type": "markdown",
   "id": "bd6b84bd-8e63-4dd9-8ee4-6e73801ef2e7",
   "metadata": {},
   "source": [
    "<h1>Test Load Data </h1>"
   ]
  },
  {
   "cell_type": "code",
   "execution_count": 3,
   "id": "f6ffeaeb-394a-417a-be81-4e13145bf8b8",
   "metadata": {},
   "outputs": [],
   "source": [
    "df_WRCDF_1 = pd.read_csv(\"/Users/tobias/Dev/FOM/Master_Thesis/data/WRCDF_EN/data.csv\", sep=\";\")\n",
    "df_WRCDF_2 = pd.read_csv(\"/Users/tobias/Dev/FOM/Master_Thesis/data.csv\", sep=\";\")"
   ]
  },
  {
   "cell_type": "code",
   "execution_count": 8,
   "id": "6633d1da-d762-4451-b088-32c3ff52aec8",
   "metadata": {},
   "outputs": [],
   "source": [
    "df_s = [df_WRCDF_1, df_WRCDF_2]"
   ]
  },
  {
   "cell_type": "code",
   "execution_count": 102,
   "id": "e1d3f880-3e0d-429e-85c6-299fac7b6d4b",
   "metadata": {},
   "outputs": [],
   "source": [
    "df = pd.concat(df_s, ignore_index=True)"
   ]
  },
  {
   "cell_type": "code",
   "execution_count": 103,
   "id": "4e218583-7269-4b2e-b833-e4150827e3e2",
   "metadata": {},
   "outputs": [
    {
     "data": {
      "text/html": [
       "<div>\n",
       "<style scoped>\n",
       "    .dataframe tbody tr th:only-of-type {\n",
       "        vertical-align: middle;\n",
       "    }\n",
       "\n",
       "    .dataframe tbody tr th {\n",
       "        vertical-align: top;\n",
       "    }\n",
       "\n",
       "    .dataframe thead th {\n",
       "        text-align: right;\n",
       "    }\n",
       "</style>\n",
       "<table border=\"1\" class=\"dataframe\">\n",
       "  <thead>\n",
       "    <tr style=\"text-align: right;\">\n",
       "      <th></th>\n",
       "      <th>conversation_id</th>\n",
       "      <th>author_id</th>\n",
       "      <th>created_at</th>\n",
       "      <th>tweet_id</th>\n",
       "      <th>lang</th>\n",
       "      <th>retweet_count</th>\n",
       "      <th>reply_count</th>\n",
       "      <th>like_count</th>\n",
       "      <th>quote_count</th>\n",
       "      <th>source</th>\n",
       "      <th>tweet_type</th>\n",
       "      <th>referenced_tweet_id</th>\n",
       "      <th>text</th>\n",
       "    </tr>\n",
       "  </thead>\n",
       "  <tbody>\n",
       "    <tr>\n",
       "      <th>0</th>\n",
       "      <td>703293739700260865</td>\n",
       "      <td>61661638</td>\n",
       "      <td>2016-02-26 19:01:08+00:00</td>\n",
       "      <td>703293739700260865</td>\n",
       "      <td>en</td>\n",
       "      <td>0</td>\n",
       "      <td>0</td>\n",
       "      <td>0</td>\n",
       "      <td>0</td>\n",
       "      <td>IFTTT</td>\n",
       "      <td>[None]</td>\n",
       "      <td>[None]</td>\n",
       "      <td>Wirecard Ag Npv $WRCDF Earns Buy Rating from D...</td>\n",
       "    </tr>\n",
       "    <tr>\n",
       "      <th>1</th>\n",
       "      <td>702932443154817024</td>\n",
       "      <td>61661638</td>\n",
       "      <td>2016-02-25 19:05:28+00:00</td>\n",
       "      <td>702932443154817024</td>\n",
       "      <td>en</td>\n",
       "      <td>0</td>\n",
       "      <td>0</td>\n",
       "      <td>0</td>\n",
       "      <td>0</td>\n",
       "      <td>IFTTT</td>\n",
       "      <td>[None]</td>\n",
       "      <td>[None]</td>\n",
       "      <td>Wirecard Ag Npv $WRCDF Stock Rating Reaffirmed...</td>\n",
       "    </tr>\n",
       "    <tr>\n",
       "      <th>2</th>\n",
       "      <td>702047773114281984</td>\n",
       "      <td>926793032</td>\n",
       "      <td>2016-02-23 08:30:07+00:00</td>\n",
       "      <td>702047773114281984</td>\n",
       "      <td>en</td>\n",
       "      <td>0</td>\n",
       "      <td>0</td>\n",
       "      <td>0</td>\n",
       "      <td>0</td>\n",
       "      <td>First To Markets</td>\n",
       "      <td>[None]</td>\n",
       "      <td>[None]</td>\n",
       "      <td>Wirecard AG  Reiterated Rating by DZ Bank AG (...</td>\n",
       "    </tr>\n",
       "    <tr>\n",
       "      <th>3</th>\n",
       "      <td>702046074899402752</td>\n",
       "      <td>68559732</td>\n",
       "      <td>2016-02-23 08:23:22+00:00</td>\n",
       "      <td>702046074899402752</td>\n",
       "      <td>en</td>\n",
       "      <td>0</td>\n",
       "      <td>0</td>\n",
       "      <td>0</td>\n",
       "      <td>0</td>\n",
       "      <td>IFTTT</td>\n",
       "      <td>[None]</td>\n",
       "      <td>[None]</td>\n",
       "      <td>Wirecard Ag Npv's buy rating reiterated at DZ ...</td>\n",
       "    </tr>\n",
       "    <tr>\n",
       "      <th>4</th>\n",
       "      <td>702045692580204544</td>\n",
       "      <td>2920258887</td>\n",
       "      <td>2016-02-23 08:21:51+00:00</td>\n",
       "      <td>702045692580204544</td>\n",
       "      <td>en</td>\n",
       "      <td>0</td>\n",
       "      <td>0</td>\n",
       "      <td>0</td>\n",
       "      <td>0</td>\n",
       "      <td>IFTTT</td>\n",
       "      <td>[None]</td>\n",
       "      <td>[None]</td>\n",
       "      <td>Wirecard Ag Npv $WRCDF Earns Buy Rating from D...</td>\n",
       "    </tr>\n",
       "  </tbody>\n",
       "</table>\n",
       "</div>"
      ],
      "text/plain": [
       "      conversation_id   author_id                 created_at  \\\n",
       "0  703293739700260865    61661638  2016-02-26 19:01:08+00:00   \n",
       "1  702932443154817024    61661638  2016-02-25 19:05:28+00:00   \n",
       "2  702047773114281984   926793032  2016-02-23 08:30:07+00:00   \n",
       "3  702046074899402752    68559732  2016-02-23 08:23:22+00:00   \n",
       "4  702045692580204544  2920258887  2016-02-23 08:21:51+00:00   \n",
       "\n",
       "             tweet_id lang  retweet_count  reply_count  like_count  \\\n",
       "0  703293739700260865   en              0            0           0   \n",
       "1  702932443154817024   en              0            0           0   \n",
       "2  702047773114281984   en              0            0           0   \n",
       "3  702046074899402752   en              0            0           0   \n",
       "4  702045692580204544   en              0            0           0   \n",
       "\n",
       "   quote_count            source tweet_type referenced_tweet_id  \\\n",
       "0            0             IFTTT     [None]              [None]   \n",
       "1            0             IFTTT     [None]              [None]   \n",
       "2            0  First To Markets     [None]              [None]   \n",
       "3            0             IFTTT     [None]              [None]   \n",
       "4            0             IFTTT     [None]              [None]   \n",
       "\n",
       "                                                text  \n",
       "0  Wirecard Ag Npv $WRCDF Earns Buy Rating from D...  \n",
       "1  Wirecard Ag Npv $WRCDF Stock Rating Reaffirmed...  \n",
       "2  Wirecard AG  Reiterated Rating by DZ Bank AG (...  \n",
       "3  Wirecard Ag Npv's buy rating reiterated at DZ ...  \n",
       "4  Wirecard Ag Npv $WRCDF Earns Buy Rating from D...  "
      ]
     },
     "execution_count": 103,
     "metadata": {},
     "output_type": "execute_result"
    }
   ],
   "source": [
    "df.head()"
   ]
  },
  {
   "cell_type": "code",
   "execution_count": null,
   "id": "c2e617c7-eb85-4f32-9131-5a215a7cc93a",
   "metadata": {},
   "outputs": [],
   "source": []
  },
  {
   "cell_type": "code",
   "execution_count": 96,
   "id": "c7953a65-1e12-467d-ae90-5f4952fe466e",
   "metadata": {},
   "outputs": [
    {
     "name": "stdout",
     "output_type": "stream",
     "text": [
      "df:  1887\n",
      "df_WRCDF_1:  627\n",
      "df_WRCDF_2:  1260\n"
     ]
    }
   ],
   "source": [
    "print(\"df: \", len(df))\n",
    "print(\"df_WRCDF_1: \", len(df_WRCDF_1))\n",
    "print(\"df_WRCDF_2: \", len(df_WRCDF_2))"
   ]
  },
  {
   "cell_type": "code",
   "execution_count": 63,
   "id": "52d3930b-f523-4357-80cc-a4198bafd7eb",
   "metadata": {},
   "outputs": [
    {
     "data": {
      "text/plain": [
       "1887"
      ]
     },
     "execution_count": 63,
     "metadata": {},
     "output_type": "execute_result"
    }
   ],
   "source": [
    "len(df_WRCDF_1)+len(df_WRCDF_2)"
   ]
  },
  {
   "cell_type": "code",
   "execution_count": 95,
   "id": "0c0a01e7-9f6f-4729-a157-35893bbd96e6",
   "metadata": {},
   "outputs": [
    {
     "data": {
      "text/plain": [
       "1261"
      ]
     },
     "execution_count": 95,
     "metadata": {},
     "output_type": "execute_result"
    }
   ],
   "source": [
    "len(df.drop_duplicates())"
   ]
  },
  {
   "cell_type": "code",
   "execution_count": 104,
   "id": "0e6e9a3e-e2bf-4a38-abdc-2970777d5011",
   "metadata": {},
   "outputs": [],
   "source": [
    "df.at[0, 'retweet_count'] = 100"
   ]
  },
  {
   "cell_type": "code",
   "execution_count": 105,
   "id": "862d302a-e21f-4742-b6eb-034fa9a62fb5",
   "metadata": {},
   "outputs": [
    {
     "data": {
      "text/html": [
       "<div>\n",
       "<style scoped>\n",
       "    .dataframe tbody tr th:only-of-type {\n",
       "        vertical-align: middle;\n",
       "    }\n",
       "\n",
       "    .dataframe tbody tr th {\n",
       "        vertical-align: top;\n",
       "    }\n",
       "\n",
       "    .dataframe thead th {\n",
       "        text-align: right;\n",
       "    }\n",
       "</style>\n",
       "<table border=\"1\" class=\"dataframe\">\n",
       "  <thead>\n",
       "    <tr style=\"text-align: right;\">\n",
       "      <th></th>\n",
       "      <th>conversation_id</th>\n",
       "      <th>author_id</th>\n",
       "      <th>created_at</th>\n",
       "      <th>tweet_id</th>\n",
       "      <th>lang</th>\n",
       "      <th>retweet_count</th>\n",
       "      <th>reply_count</th>\n",
       "      <th>like_count</th>\n",
       "      <th>quote_count</th>\n",
       "      <th>source</th>\n",
       "      <th>tweet_type</th>\n",
       "      <th>referenced_tweet_id</th>\n",
       "      <th>text</th>\n",
       "    </tr>\n",
       "  </thead>\n",
       "  <tbody>\n",
       "    <tr>\n",
       "      <th>0</th>\n",
       "      <td>703293739700260865</td>\n",
       "      <td>61661638</td>\n",
       "      <td>2016-02-26 19:01:08+00:00</td>\n",
       "      <td>703293739700260865</td>\n",
       "      <td>en</td>\n",
       "      <td>100</td>\n",
       "      <td>0</td>\n",
       "      <td>0</td>\n",
       "      <td>0</td>\n",
       "      <td>IFTTT</td>\n",
       "      <td>[None]</td>\n",
       "      <td>[None]</td>\n",
       "      <td>Wirecard Ag Npv $WRCDF Earns Buy Rating from D...</td>\n",
       "    </tr>\n",
       "    <tr>\n",
       "      <th>1</th>\n",
       "      <td>702932443154817024</td>\n",
       "      <td>61661638</td>\n",
       "      <td>2016-02-25 19:05:28+00:00</td>\n",
       "      <td>702932443154817024</td>\n",
       "      <td>en</td>\n",
       "      <td>0</td>\n",
       "      <td>0</td>\n",
       "      <td>0</td>\n",
       "      <td>0</td>\n",
       "      <td>IFTTT</td>\n",
       "      <td>[None]</td>\n",
       "      <td>[None]</td>\n",
       "      <td>Wirecard Ag Npv $WRCDF Stock Rating Reaffirmed...</td>\n",
       "    </tr>\n",
       "    <tr>\n",
       "      <th>2</th>\n",
       "      <td>702047773114281984</td>\n",
       "      <td>926793032</td>\n",
       "      <td>2016-02-23 08:30:07+00:00</td>\n",
       "      <td>702047773114281984</td>\n",
       "      <td>en</td>\n",
       "      <td>0</td>\n",
       "      <td>0</td>\n",
       "      <td>0</td>\n",
       "      <td>0</td>\n",
       "      <td>First To Markets</td>\n",
       "      <td>[None]</td>\n",
       "      <td>[None]</td>\n",
       "      <td>Wirecard AG  Reiterated Rating by DZ Bank AG (...</td>\n",
       "    </tr>\n",
       "    <tr>\n",
       "      <th>3</th>\n",
       "      <td>702046074899402752</td>\n",
       "      <td>68559732</td>\n",
       "      <td>2016-02-23 08:23:22+00:00</td>\n",
       "      <td>702046074899402752</td>\n",
       "      <td>en</td>\n",
       "      <td>0</td>\n",
       "      <td>0</td>\n",
       "      <td>0</td>\n",
       "      <td>0</td>\n",
       "      <td>IFTTT</td>\n",
       "      <td>[None]</td>\n",
       "      <td>[None]</td>\n",
       "      <td>Wirecard Ag Npv's buy rating reiterated at DZ ...</td>\n",
       "    </tr>\n",
       "    <tr>\n",
       "      <th>4</th>\n",
       "      <td>702045692580204544</td>\n",
       "      <td>2920258887</td>\n",
       "      <td>2016-02-23 08:21:51+00:00</td>\n",
       "      <td>702045692580204544</td>\n",
       "      <td>en</td>\n",
       "      <td>0</td>\n",
       "      <td>0</td>\n",
       "      <td>0</td>\n",
       "      <td>0</td>\n",
       "      <td>IFTTT</td>\n",
       "      <td>[None]</td>\n",
       "      <td>[None]</td>\n",
       "      <td>Wirecard Ag Npv $WRCDF Earns Buy Rating from D...</td>\n",
       "    </tr>\n",
       "  </tbody>\n",
       "</table>\n",
       "</div>"
      ],
      "text/plain": [
       "      conversation_id   author_id                 created_at  \\\n",
       "0  703293739700260865    61661638  2016-02-26 19:01:08+00:00   \n",
       "1  702932443154817024    61661638  2016-02-25 19:05:28+00:00   \n",
       "2  702047773114281984   926793032  2016-02-23 08:30:07+00:00   \n",
       "3  702046074899402752    68559732  2016-02-23 08:23:22+00:00   \n",
       "4  702045692580204544  2920258887  2016-02-23 08:21:51+00:00   \n",
       "\n",
       "             tweet_id lang  retweet_count  reply_count  like_count  \\\n",
       "0  703293739700260865   en            100            0           0   \n",
       "1  702932443154817024   en              0            0           0   \n",
       "2  702047773114281984   en              0            0           0   \n",
       "3  702046074899402752   en              0            0           0   \n",
       "4  702045692580204544   en              0            0           0   \n",
       "\n",
       "   quote_count            source tweet_type referenced_tweet_id  \\\n",
       "0            0             IFTTT     [None]              [None]   \n",
       "1            0             IFTTT     [None]              [None]   \n",
       "2            0  First To Markets     [None]              [None]   \n",
       "3            0             IFTTT     [None]              [None]   \n",
       "4            0             IFTTT     [None]              [None]   \n",
       "\n",
       "                                                text  \n",
       "0  Wirecard Ag Npv $WRCDF Earns Buy Rating from D...  \n",
       "1  Wirecard Ag Npv $WRCDF Stock Rating Reaffirmed...  \n",
       "2  Wirecard AG  Reiterated Rating by DZ Bank AG (...  \n",
       "3  Wirecard Ag Npv's buy rating reiterated at DZ ...  \n",
       "4  Wirecard Ag Npv $WRCDF Earns Buy Rating from D...  "
      ]
     },
     "execution_count": 105,
     "metadata": {},
     "output_type": "execute_result"
    }
   ],
   "source": [
    "df.head()"
   ]
  },
  {
   "cell_type": "code",
   "execution_count": 65,
   "id": "efc28316-6417-4ed4-9f41-31e0478b757b",
   "metadata": {},
   "outputs": [
    {
     "data": {
      "text/plain": [
       "633"
      ]
     },
     "execution_count": 65,
     "metadata": {},
     "output_type": "execute_result"
    }
   ],
   "source": [
    "len(df_WRCDF_2)-len(df_WRCDF_1)"
   ]
  },
  {
   "cell_type": "code",
   "execution_count": 81,
   "id": "4ca7d825-95fb-4f00-af89-42f1a7383913",
   "metadata": {},
   "outputs": [
    {
     "data": {
      "text/html": [
       "<div>\n",
       "<style scoped>\n",
       "    .dataframe tbody tr th:only-of-type {\n",
       "        vertical-align: middle;\n",
       "    }\n",
       "\n",
       "    .dataframe tbody tr th {\n",
       "        vertical-align: top;\n",
       "    }\n",
       "\n",
       "    .dataframe thead th {\n",
       "        text-align: right;\n",
       "    }\n",
       "</style>\n",
       "<table border=\"1\" class=\"dataframe\">\n",
       "  <thead>\n",
       "    <tr style=\"text-align: right;\">\n",
       "      <th></th>\n",
       "      <th>conversation_id</th>\n",
       "      <th>author_id</th>\n",
       "      <th>created_at</th>\n",
       "      <th>tweet_id</th>\n",
       "      <th>lang</th>\n",
       "      <th>retweet_count</th>\n",
       "      <th>reply_count</th>\n",
       "      <th>like_count</th>\n",
       "      <th>quote_count</th>\n",
       "      <th>source</th>\n",
       "      <th>tweet_type</th>\n",
       "      <th>referenced_tweet_id</th>\n",
       "      <th>text</th>\n",
       "      <th>tweet_count</th>\n",
       "    </tr>\n",
       "  </thead>\n",
       "  <tbody>\n",
       "    <tr>\n",
       "      <th>0</th>\n",
       "      <td>703293739700260865</td>\n",
       "      <td>61661638</td>\n",
       "      <td>2016-02-26 19:01:08+00:00</td>\n",
       "      <td>703293739700260865</td>\n",
       "      <td>en</td>\n",
       "      <td>100</td>\n",
       "      <td>0</td>\n",
       "      <td>0</td>\n",
       "      <td>0</td>\n",
       "      <td>IFTTT</td>\n",
       "      <td>[None]</td>\n",
       "      <td>[None]</td>\n",
       "      <td>Wirecard Ag Npv $WRCDF Earns Buy Rating from D...</td>\n",
       "      <td>100.0</td>\n",
       "    </tr>\n",
       "    <tr>\n",
       "      <th>1</th>\n",
       "      <td>702932443154817024</td>\n",
       "      <td>61661638</td>\n",
       "      <td>2016-02-25 19:05:28+00:00</td>\n",
       "      <td>702932443154817024</td>\n",
       "      <td>en</td>\n",
       "      <td>0</td>\n",
       "      <td>0</td>\n",
       "      <td>0</td>\n",
       "      <td>0</td>\n",
       "      <td>IFTTT</td>\n",
       "      <td>[None]</td>\n",
       "      <td>[None]</td>\n",
       "      <td>Wirecard Ag Npv $WRCDF Stock Rating Reaffirmed...</td>\n",
       "      <td>NaN</td>\n",
       "    </tr>\n",
       "    <tr>\n",
       "      <th>2</th>\n",
       "      <td>702047773114281984</td>\n",
       "      <td>926793032</td>\n",
       "      <td>2016-02-23 08:30:07+00:00</td>\n",
       "      <td>702047773114281984</td>\n",
       "      <td>en</td>\n",
       "      <td>0</td>\n",
       "      <td>0</td>\n",
       "      <td>0</td>\n",
       "      <td>0</td>\n",
       "      <td>First To Markets</td>\n",
       "      <td>[None]</td>\n",
       "      <td>[None]</td>\n",
       "      <td>Wirecard AG  Reiterated Rating by DZ Bank AG (...</td>\n",
       "      <td>NaN</td>\n",
       "    </tr>\n",
       "    <tr>\n",
       "      <th>3</th>\n",
       "      <td>702046074899402752</td>\n",
       "      <td>68559732</td>\n",
       "      <td>2016-02-23 08:23:22+00:00</td>\n",
       "      <td>702046074899402752</td>\n",
       "      <td>en</td>\n",
       "      <td>0</td>\n",
       "      <td>0</td>\n",
       "      <td>0</td>\n",
       "      <td>0</td>\n",
       "      <td>IFTTT</td>\n",
       "      <td>[None]</td>\n",
       "      <td>[None]</td>\n",
       "      <td>Wirecard Ag Npv's buy rating reiterated at DZ ...</td>\n",
       "      <td>NaN</td>\n",
       "    </tr>\n",
       "    <tr>\n",
       "      <th>4</th>\n",
       "      <td>702045692580204544</td>\n",
       "      <td>2920258887</td>\n",
       "      <td>2016-02-23 08:21:51+00:00</td>\n",
       "      <td>702045692580204544</td>\n",
       "      <td>en</td>\n",
       "      <td>0</td>\n",
       "      <td>0</td>\n",
       "      <td>0</td>\n",
       "      <td>0</td>\n",
       "      <td>IFTTT</td>\n",
       "      <td>[None]</td>\n",
       "      <td>[None]</td>\n",
       "      <td>Wirecard Ag Npv $WRCDF Earns Buy Rating from D...</td>\n",
       "      <td>NaN</td>\n",
       "    </tr>\n",
       "  </tbody>\n",
       "</table>\n",
       "</div>"
      ],
      "text/plain": [
       "      conversation_id   author_id                 created_at  \\\n",
       "0  703293739700260865    61661638  2016-02-26 19:01:08+00:00   \n",
       "1  702932443154817024    61661638  2016-02-25 19:05:28+00:00   \n",
       "2  702047773114281984   926793032  2016-02-23 08:30:07+00:00   \n",
       "3  702046074899402752    68559732  2016-02-23 08:23:22+00:00   \n",
       "4  702045692580204544  2920258887  2016-02-23 08:21:51+00:00   \n",
       "\n",
       "             tweet_id lang  retweet_count  reply_count  like_count  \\\n",
       "0  703293739700260865   en            100            0           0   \n",
       "1  702932443154817024   en              0            0           0   \n",
       "2  702047773114281984   en              0            0           0   \n",
       "3  702046074899402752   en              0            0           0   \n",
       "4  702045692580204544   en              0            0           0   \n",
       "\n",
       "   quote_count            source tweet_type referenced_tweet_id  \\\n",
       "0            0             IFTTT     [None]              [None]   \n",
       "1            0             IFTTT     [None]              [None]   \n",
       "2            0  First To Markets     [None]              [None]   \n",
       "3            0             IFTTT     [None]              [None]   \n",
       "4            0             IFTTT     [None]              [None]   \n",
       "\n",
       "                                                text  tweet_count  \n",
       "0  Wirecard Ag Npv $WRCDF Earns Buy Rating from D...        100.0  \n",
       "1  Wirecard Ag Npv $WRCDF Stock Rating Reaffirmed...          NaN  \n",
       "2  Wirecard AG  Reiterated Rating by DZ Bank AG (...          NaN  \n",
       "3  Wirecard Ag Npv's buy rating reiterated at DZ ...          NaN  \n",
       "4  Wirecard Ag Npv $WRCDF Earns Buy Rating from D...          NaN  "
      ]
     },
     "execution_count": 81,
     "metadata": {},
     "output_type": "execute_result"
    }
   ],
   "source": [
    "df.head()"
   ]
  },
  {
   "cell_type": "code",
   "execution_count": 38,
   "id": "82256615-d14e-485b-b602-f3df95f67dd4",
   "metadata": {},
   "outputs": [
    {
     "name": "stdout",
     "output_type": "stream",
     "text": [
      "703293739700260865 number type:  <class 'int'>\n"
     ]
    }
   ],
   "source": [
    "number = 703293739700260865\n",
    "print(number, \"number type: \", type(number))"
   ]
  },
  {
   "cell_type": "code",
   "execution_count": 109,
   "id": "726d7727-7559-405c-a2cf-f3e414ae25d6",
   "metadata": {},
   "outputs": [
    {
     "data": {
      "text/html": [
       "<div>\n",
       "<style scoped>\n",
       "    .dataframe tbody tr th:only-of-type {\n",
       "        vertical-align: middle;\n",
       "    }\n",
       "\n",
       "    .dataframe tbody tr th {\n",
       "        vertical-align: top;\n",
       "    }\n",
       "\n",
       "    .dataframe thead th {\n",
       "        text-align: right;\n",
       "    }\n",
       "</style>\n",
       "<table border=\"1\" class=\"dataframe\">\n",
       "  <thead>\n",
       "    <tr style=\"text-align: right;\">\n",
       "      <th></th>\n",
       "      <th>conversation_id</th>\n",
       "      <th>author_id</th>\n",
       "      <th>created_at</th>\n",
       "      <th>tweet_id</th>\n",
       "      <th>lang</th>\n",
       "      <th>retweet_count</th>\n",
       "      <th>reply_count</th>\n",
       "      <th>like_count</th>\n",
       "      <th>quote_count</th>\n",
       "      <th>source</th>\n",
       "      <th>tweet_type</th>\n",
       "      <th>referenced_tweet_id</th>\n",
       "      <th>text</th>\n",
       "    </tr>\n",
       "  </thead>\n",
       "  <tbody>\n",
       "    <tr>\n",
       "      <th>0</th>\n",
       "      <td>703293739700260865</td>\n",
       "      <td>61661638</td>\n",
       "      <td>2016-02-26 19:01:08+00:00</td>\n",
       "      <td>703293739700260865</td>\n",
       "      <td>en</td>\n",
       "      <td>100</td>\n",
       "      <td>0</td>\n",
       "      <td>0</td>\n",
       "      <td>0</td>\n",
       "      <td>IFTTT</td>\n",
       "      <td>[None]</td>\n",
       "      <td>[None]</td>\n",
       "      <td>Wirecard Ag Npv $WRCDF Earns Buy Rating from D...</td>\n",
       "    </tr>\n",
       "  </tbody>\n",
       "</table>\n",
       "</div>"
      ],
      "text/plain": [
       "      conversation_id  author_id                 created_at  \\\n",
       "0  703293739700260865   61661638  2016-02-26 19:01:08+00:00   \n",
       "\n",
       "             tweet_id lang  retweet_count  reply_count  like_count  \\\n",
       "0  703293739700260865   en            100            0           0   \n",
       "\n",
       "   quote_count source tweet_type referenced_tweet_id  \\\n",
       "0            0  IFTTT     [None]              [None]   \n",
       "\n",
       "                                                text  \n",
       "0  Wirecard Ag Npv $WRCDF Earns Buy Rating from D...  "
      ]
     },
     "execution_count": 109,
     "metadata": {},
     "output_type": "execute_result"
    }
   ],
   "source": [
    "df.loc[df['conversation_id'] == 703293739700260865]"
   ]
  },
  {
   "cell_type": "code",
   "execution_count": 110,
   "id": "1cbc875f-9dbc-4506-84ab-87a8c393408d",
   "metadata": {},
   "outputs": [
    {
     "data": {
      "text/html": [
       "<div>\n",
       "<style scoped>\n",
       "    .dataframe tbody tr th:only-of-type {\n",
       "        vertical-align: middle;\n",
       "    }\n",
       "\n",
       "    .dataframe tbody tr th {\n",
       "        vertical-align: top;\n",
       "    }\n",
       "\n",
       "    .dataframe thead th {\n",
       "        text-align: right;\n",
       "    }\n",
       "</style>\n",
       "<table border=\"1\" class=\"dataframe\">\n",
       "  <thead>\n",
       "    <tr style=\"text-align: right;\">\n",
       "      <th></th>\n",
       "      <th>conversation_id</th>\n",
       "      <th>author_id</th>\n",
       "      <th>created_at</th>\n",
       "      <th>tweet_id</th>\n",
       "      <th>lang</th>\n",
       "      <th>retweet_count</th>\n",
       "      <th>reply_count</th>\n",
       "      <th>like_count</th>\n",
       "      <th>quote_count</th>\n",
       "      <th>source</th>\n",
       "      <th>tweet_type</th>\n",
       "      <th>referenced_tweet_id</th>\n",
       "      <th>text</th>\n",
       "    </tr>\n",
       "  </thead>\n",
       "  <tbody>\n",
       "    <tr>\n",
       "      <th>1</th>\n",
       "      <td>702932443154817024</td>\n",
       "      <td>61661638</td>\n",
       "      <td>2016-02-25 19:05:28+00:00</td>\n",
       "      <td>702932443154817024</td>\n",
       "      <td>en</td>\n",
       "      <td>0</td>\n",
       "      <td>0</td>\n",
       "      <td>0</td>\n",
       "      <td>0</td>\n",
       "      <td>IFTTT</td>\n",
       "      <td>[None]</td>\n",
       "      <td>[None]</td>\n",
       "      <td>Wirecard Ag Npv $WRCDF Stock Rating Reaffirmed...</td>\n",
       "    </tr>\n",
       "  </tbody>\n",
       "</table>\n",
       "</div>"
      ],
      "text/plain": [
       "      conversation_id  author_id                 created_at  \\\n",
       "1  702932443154817024   61661638  2016-02-25 19:05:28+00:00   \n",
       "\n",
       "             tweet_id lang  retweet_count  reply_count  like_count  \\\n",
       "1  702932443154817024   en              0            0           0   \n",
       "\n",
       "   quote_count source tweet_type referenced_tweet_id  \\\n",
       "1            0  IFTTT     [None]              [None]   \n",
       "\n",
       "                                                text  \n",
       "1  Wirecard Ag Npv $WRCDF Stock Rating Reaffirmed...  "
      ]
     },
     "execution_count": 110,
     "metadata": {},
     "output_type": "execute_result"
    }
   ],
   "source": [
    "df.loc[df['conversation_id'] == 702932443154817024]"
   ]
  },
  {
   "cell_type": "code",
   "execution_count": 108,
   "id": "21190fa1-138c-4d0d-a5d0-64d2ae7a0b22",
   "metadata": {},
   "outputs": [],
   "source": [
    "df = df.drop_duplicates(subset=['conversation_id'])"
   ]
  },
  {
   "cell_type": "code",
   "execution_count": null,
   "id": "28615366-bd47-405d-89f7-d71ac7330e1e",
   "metadata": {},
   "outputs": [],
   "source": []
  }
 ],
 "metadata": {
  "kernelspec": {
   "display_name": "master_thesis_3.9.10",
   "language": "python",
   "name": "master_thesis_3.9.10"
  },
  "language_info": {
   "codemirror_mode": {
    "name": "ipython",
    "version": 3
   },
   "file_extension": ".py",
   "mimetype": "text/x-python",
   "name": "python",
   "nbconvert_exporter": "python",
   "pygments_lexer": "ipython3",
   "version": "3.9.10"
  }
 },
 "nbformat": 4,
 "nbformat_minor": 5
}
