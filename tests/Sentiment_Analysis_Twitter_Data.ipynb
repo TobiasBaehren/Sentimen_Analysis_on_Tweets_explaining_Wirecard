{
 "cells": [
  {
   "cell_type": "markdown",
   "id": "793b32d5-d676-4e7a-94c1-0fc413ecd124",
   "metadata": {},
   "source": [
    "<h1>Sentimentanalyse der Twitter Daten</h1>"
   ]
  },
  {
   "cell_type": "markdown",
   "id": "0fdc0f4c-369b-4327-9a31-d93e94a4d7d5",
   "metadata": {
    "tags": []
   },
   "source": [
    "<h2>Aufgaben</h2>\n",
    "<p>Laden der Daten - DONE -</p>\n",
    "<p>Wie kann ich VADER nutzen um eine Sentimentanalyse durchzuführen</p>\n",
    "<p>Zusammenführen der Daten</p>\n",
    "<p>Aussortieren nicht benötigter Tweets und Daten</p>\n"
   ]
  },
  {
   "cell_type": "code",
   "execution_count": 2,
   "id": "ee30e583-f0f5-481a-b934-6009505578e4",
   "metadata": {},
   "outputs": [],
   "source": [
    "import csv\n",
    "import numpy as np\n",
    "import pandas as pd\n",
    "import re\n",
    "import nltk\n",
    "#If not downloaded:\n",
    "#nltk.download('vader_lexicon')\n",
    "from nltk.sentiment.vader import SentimentIntensityAnalyzer"
   ]
  },
  {
   "cell_type": "code",
   "execution_count": 1,
   "id": "4991f5b9-606e-4c28-952b-54ba94a3ac8a",
   "metadata": {},
   "outputs": [],
   "source": [
    "import flair"
   ]
  },
  {
   "cell_type": "code",
   "execution_count": null,
   "id": "8dd5bbd9-12d6-4cf9-988b-456272a70c5a",
   "metadata": {},
   "outputs": [],
   "source": []
  },
  {
   "cell_type": "markdown",
   "id": "c6bc01c1-84de-4943-b04b-3c560d7adf74",
   "metadata": {},
   "source": [
    "<h2>Sentiment Test</h2>\n",
    "<p>Der versuche eine einfache Sentimentanalyse mit VADER anhand von Beispieldaten durchzuführen</p>"
   ]
  },
  {
   "cell_type": "code",
   "execution_count": 2,
   "id": "1527e99c-990f-4ffb-951f-9589c001f6fe",
   "metadata": {},
   "outputs": [],
   "source": [
    "sid = SentimentIntensityAnalyzer()"
   ]
  },
  {
   "cell_type": "code",
   "execution_count": 7,
   "id": "969fc78e-695d-463b-be33-86e4ee9989f4",
   "metadata": {},
   "outputs": [],
   "source": [
    "# Define a list of product reviews\n",
    "\n",
    "product_reviews = [\n",
    "    'I love this product. It helps me get so much work done. I tell everyone about what a great thing it is.',\n",
    "    'This product is defective. I feel like it is broken because it does not do what it promises. Do not buy this.',\n",
    "    'Do yourself a favor and buy this product as soon as possible. I recommend it to everyone I know. It has saved me so much time!',\n",
    "    'This product is overpriced and useless. It was a waste of money and it made all my hair fall out.',\n",
    "    'Works like a dream and it is a bargain! It solves my problems with ease. I bought two!',\n",
    "    'Do not buy! This product is a ripoff. I wish it was better, but it fails constantly. What a mistake!',\n",
    "    'This thing is garbage. Do yourself a favor and save the money. Mine is a dumpster fire and fell apart.',\n",
    "    'I adore this product. =) It makes my life so much easier. And it is a deal!'\n",
    "]"
   ]
  },
  {
   "cell_type": "code",
   "execution_count": 9,
   "id": "055c152b-4fff-40ac-87c3-fba05b2c81fb",
   "metadata": {},
   "outputs": [
    {
     "name": "stdout",
     "output_type": "stream",
     "text": [
      "0.8979 I love this product. It helps me get so much work done. I tell everyone about what a great thing it is.\n",
      "-0.2263 This product is defective. I feel like it is broken because it does not do what it promises. Do not buy this.\n",
      "0.807 Do yourself a favor and buy this product as soon as possible. I recommend it to everyone I know. It has saved me so much time!\n",
      "-0.6808 This product is overpriced and useless. It was a waste of money and it made all my hair fall out.\n",
      "0.7772 Works like a dream and it is a bargain! It solves my problems with ease. I bought two!\n",
      "-0.6792 Do not buy! This product is a ripoff. I wish it was better, but it fails constantly. What a mistake!\n",
      "0.4404 This thing is garbage. Do yourself a favor and save the money. Mine is a dumpster fire and fell apart.\n",
      "0.8799 I adore this product. =) It makes my life so much easier. And it is a deal!\n"
     ]
    }
   ],
   "source": [
    "# For each review in our `product_reviews` list\n",
    "# Store a polarity score in `scores`\n",
    "# Then print the score followed by the review\n",
    "for review in product_reviews:\n",
    "    scores = sid.polarity_scores(review)\n",
    "    print(scores['compound'], review)"
   ]
  },
  {
   "cell_type": "code",
   "execution_count": 12,
   "id": "7986b319-a36b-44a5-8aaf-ba39c6ed2aba",
   "metadata": {},
   "outputs": [
    {
     "name": "stdout",
     "output_type": "stream",
     "text": [
      "favor 1.7\n",
      "save 2.2\n",
      "dumpster -0.6\n",
      "fire -1.4\n"
     ]
    },
    {
     "data": {
      "text/plain": [
       "{'neg': 0.167, 'neu': 0.586, 'pos': 0.247, 'compound': 0.4404}"
      ]
     },
     "execution_count": 12,
     "metadata": {},
     "output_type": "execute_result"
    }
   ],
   "source": [
    "text = \"This thing is garbage Do yourself a favor and save the money Mine is a dumpster fire and fell apart\"\n",
    "for each in text.split():\n",
    "    if each in sid.lexicon:\n",
    "        print(each, sid.lexicon[each])\n",
    "sid.polarity_scores(text)"
   ]
  },
  {
   "cell_type": "code",
   "execution_count": 4,
   "id": "61c1313d-d34b-4e5a-93a2-68ac3b82dd4d",
   "metadata": {},
   "outputs": [
    {
     "name": "stdout",
     "output_type": "stream",
     "text": [
      "{'neg': 0.0, 'neu': 0.408, 'pos': 0.592, 'compound': 0.4404}\n",
      "{'neg': 0.0, 'neu': 0.408, 'pos': 0.592, 'compound': 0.4404}\n",
      "{'neg': 0.0, 'neu': 0.355, 'pos': 0.645, 'compound': 0.5622}\n"
     ]
    }
   ],
   "source": [
    "print(sid.polarity_scores(\"This is good\"))\n",
    "print(sid.polarity_scores(\"This is Good\"))\n",
    "print(sid.polarity_scores(\"This is GOOD\"))"
   ]
  },
  {
   "cell_type": "code",
   "execution_count": 6,
   "id": "95e3cb34-244b-42f5-a7fa-6c8b17f1f583",
   "metadata": {},
   "outputs": [
    {
     "name": "stdout",
     "output_type": "stream",
     "text": [
      "{'neg': 0.0, 'neu': 0.286, 'pos': 0.714, 'compound': 0.3612}\n",
      "{'neg': 0.413, 'neu': 0.587, 'pos': 0.0, 'compound': -0.2755}\n"
     ]
    }
   ],
   "source": [
    "like = \"I like this\"\n",
    "dont_like = \"I do not like this\"\n",
    "print(sid.polarity_scores(like))\n",
    "print(sid.polarity_scores(dont_like))"
   ]
  },
  {
   "cell_type": "code",
   "execution_count": 8,
   "id": "69ad1ce6-b565-47d1-8d91-e49f36f0503e",
   "metadata": {},
   "outputs": [
    {
     "name": "stdout",
     "output_type": "stream",
     "text": [
      "{'neg': 0.0, 'neu': 0.264, 'pos': 0.736, 'compound': 0.4199}\n",
      "{'neg': 0.445, 'neu': 0.555, 'pos': 0.0, 'compound': -0.3404}\n"
     ]
    }
   ],
   "source": [
    "like = \"I like this!\"\n",
    "dont_like = \"I do not like this!\"\n",
    "print(sid.polarity_scores(like))\n",
    "print(sid.polarity_scores(dont_like))"
   ]
  },
  {
   "cell_type": "code",
   "execution_count": 9,
   "id": "67c34070-a3c4-4b62-a43e-d78d34d904c4",
   "metadata": {},
   "outputs": [
    {
     "name": "stdout",
     "output_type": "stream",
     "text": [
      "{'neg': 0.0, 'neu': 0.236, 'pos': 0.764, 'compound': 0.4995}\n",
      "{'neg': 0.469, 'neu': 0.531, 'pos': 0.0, 'compound': -0.3924}\n"
     ]
    }
   ],
   "source": [
    "like = \"I LIKE this\"\n",
    "dont_like = \"I do not LIKE this\"\n",
    "print(sid.polarity_scores(like))\n",
    "print(sid.polarity_scores(dont_like))"
   ]
  },
  {
   "cell_type": "code",
   "execution_count": 10,
   "id": "f2d4010e-3732-465d-8ba9-789d947c6687",
   "metadata": {},
   "outputs": [
    {
     "name": "stdout",
     "output_type": "stream",
     "text": [
      "{'neg': 0.0, 'neu': 0.236, 'pos': 0.764, 'compound': 0.4995}\n",
      "{'neg': 0.413, 'neu': 0.587, 'pos': 0.0, 'compound': -0.2755}\n"
     ]
    }
   ],
   "source": [
    "like = \"I LIKE this\"\n",
    "dont_like = \"I do NOT like this\"\n",
    "print(sid.polarity_scores(like))\n",
    "print(sid.polarity_scores(dont_like))"
   ]
  },
  {
   "cell_type": "code",
   "execution_count": 11,
   "id": "009d1d0a-cb99-422f-ac61-dd12ce6694e3",
   "metadata": {},
   "outputs": [
    {
     "name": "stdout",
     "output_type": "stream",
     "text": [
      "{'neg': 0.0, 'neu': 0.286, 'pos': 0.714, 'compound': 0.3612}\n",
      "{'neg': 0.469, 'neu': 0.531, 'pos': 0.0, 'compound': -0.3924}\n"
     ]
    }
   ],
   "source": [
    "like = \"I like this\"\n",
    "dont_like = \"I do NOT LIKE this\"\n",
    "print(sid.polarity_scores(like))\n",
    "print(sid.polarity_scores(dont_like))"
   ]
  },
  {
   "cell_type": "code",
   "execution_count": 19,
   "id": "cf9b63ce-a523-4997-bb3c-ba6a2f409aac",
   "metadata": {},
   "outputs": [
    {
     "data": {
      "text/plain": [
       "{'neg': 0.0, 'neu': 0.26, 'pos': 0.74, 'compound': 0.431}"
      ]
     },
     "execution_count": 19,
     "metadata": {},
     "output_type": "execute_result"
    }
   ],
   "source": [
    "notbad = \"not bad\"\n",
    "sid.polarity_scores(notbad)"
   ]
  },
  {
   "cell_type": "markdown",
   "id": "89dfafc0-94ca-4433-a25c-e6094a267d09",
   "metadata": {},
   "source": [
    "<h2>Load data from CSV file </h2>"
   ]
  },
  {
   "cell_type": "code",
   "execution_count": 3,
   "id": "6f5caad5-e3fe-41ae-bd47-85521c26037e",
   "metadata": {},
   "outputs": [],
   "source": [
    "df = pd.read_csv(\"/Users/tobias/Dev/FOM/Master_Thesis/data/Manager_EN/data.csv\", sep=\";\")"
   ]
  },
  {
   "cell_type": "code",
   "execution_count": 4,
   "id": "f0193ad6-5971-4ff5-94ef-b279473ec51b",
   "metadata": {},
   "outputs": [
    {
     "data": {
      "text/html": [
       "<div>\n",
       "<style scoped>\n",
       "    .dataframe tbody tr th:only-of-type {\n",
       "        vertical-align: middle;\n",
       "    }\n",
       "\n",
       "    .dataframe tbody tr th {\n",
       "        vertical-align: top;\n",
       "    }\n",
       "\n",
       "    .dataframe thead th {\n",
       "        text-align: right;\n",
       "    }\n",
       "</style>\n",
       "<table border=\"1\" class=\"dataframe\">\n",
       "  <thead>\n",
       "    <tr style=\"text-align: right;\">\n",
       "      <th></th>\n",
       "      <th>conversation_id</th>\n",
       "      <th>author_id</th>\n",
       "      <th>created_at</th>\n",
       "      <th>tweet_id</th>\n",
       "      <th>lang</th>\n",
       "      <th>retweet_count</th>\n",
       "      <th>reply_count</th>\n",
       "      <th>like_count</th>\n",
       "      <th>quote_count</th>\n",
       "      <th>source</th>\n",
       "      <th>tweet_type</th>\n",
       "      <th>referenced_tweet_id</th>\n",
       "      <th>text</th>\n",
       "    </tr>\n",
       "  </thead>\n",
       "  <tbody>\n",
       "    <tr>\n",
       "      <th>0</th>\n",
       "      <td>703142204341026818</td>\n",
       "      <td>349287204</td>\n",
       "      <td>2016-02-26 08:58:59+00:00</td>\n",
       "      <td>703142204341026818</td>\n",
       "      <td>en</td>\n",
       "      <td>0</td>\n",
       "      <td>0</td>\n",
       "      <td>1</td>\n",
       "      <td>0</td>\n",
       "      <td>Twitter Web Client</td>\n",
       "      <td>[None]</td>\n",
       "      <td>[None]</td>\n",
       "      <td>1/2 I see Wirecard is rebounding after CEO Mar...</td>\n",
       "    </tr>\n",
       "    <tr>\n",
       "      <th>1</th>\n",
       "      <td>695258744737824768</td>\n",
       "      <td>282981965</td>\n",
       "      <td>2016-02-04 14:52:56+00:00</td>\n",
       "      <td>695258744737824768</td>\n",
       "      <td>en</td>\n",
       "      <td>1</td>\n",
       "      <td>0</td>\n",
       "      <td>0</td>\n",
       "      <td>0</td>\n",
       "      <td>Twitter for iPhone</td>\n",
       "      <td>['retweeted']</td>\n",
       "      <td>['695237701386244098']</td>\n",
       "      <td>RT @UrgentSpeed: Disrupt the Banks! (Jeff Stew...</td>\n",
       "    </tr>\n",
       "    <tr>\n",
       "      <th>2</th>\n",
       "      <td>695255175334924288</td>\n",
       "      <td>428593285</td>\n",
       "      <td>2016-02-04 14:38:45+00:00</td>\n",
       "      <td>695255175334924288</td>\n",
       "      <td>en</td>\n",
       "      <td>0</td>\n",
       "      <td>0</td>\n",
       "      <td>0</td>\n",
       "      <td>0</td>\n",
       "      <td>IFTTT</td>\n",
       "      <td>[None]</td>\n",
       "      <td>[None]</td>\n",
       "      <td>Thank you for following us Markus Braun!</td>\n",
       "    </tr>\n",
       "    <tr>\n",
       "      <th>3</th>\n",
       "      <td>695237701386244098</td>\n",
       "      <td>95129352</td>\n",
       "      <td>2016-02-04 13:29:19+00:00</td>\n",
       "      <td>695237701386244098</td>\n",
       "      <td>en</td>\n",
       "      <td>1</td>\n",
       "      <td>0</td>\n",
       "      <td>1</td>\n",
       "      <td>0</td>\n",
       "      <td>Twitter Web Client</td>\n",
       "      <td>[None]</td>\n",
       "      <td>[None]</td>\n",
       "      <td>Disrupt the Banks! (Jeff Stewart, Markus Braun...</td>\n",
       "    </tr>\n",
       "    <tr>\n",
       "      <th>4</th>\n",
       "      <td>719940834028863489</td>\n",
       "      <td>3040068274</td>\n",
       "      <td>2016-04-12 17:30:45+00:00</td>\n",
       "      <td>719940834028863489</td>\n",
       "      <td>en</td>\n",
       "      <td>0</td>\n",
       "      <td>0</td>\n",
       "      <td>0</td>\n",
       "      <td>0</td>\n",
       "      <td>metal archives updates</td>\n",
       "      <td>[None]</td>\n",
       "      <td>[None]</td>\n",
       "      <td>Artist updated: Markus Braun https://t.co/udZM...</td>\n",
       "    </tr>\n",
       "  </tbody>\n",
       "</table>\n",
       "</div>"
      ],
      "text/plain": [
       "      conversation_id   author_id                 created_at  \\\n",
       "0  703142204341026818   349287204  2016-02-26 08:58:59+00:00   \n",
       "1  695258744737824768   282981965  2016-02-04 14:52:56+00:00   \n",
       "2  695255175334924288   428593285  2016-02-04 14:38:45+00:00   \n",
       "3  695237701386244098    95129352  2016-02-04 13:29:19+00:00   \n",
       "4  719940834028863489  3040068274  2016-04-12 17:30:45+00:00   \n",
       "\n",
       "             tweet_id lang  retweet_count  reply_count  like_count  \\\n",
       "0  703142204341026818   en              0            0           1   \n",
       "1  695258744737824768   en              1            0           0   \n",
       "2  695255175334924288   en              0            0           0   \n",
       "3  695237701386244098   en              1            0           1   \n",
       "4  719940834028863489   en              0            0           0   \n",
       "\n",
       "   quote_count                  source     tweet_type     referenced_tweet_id  \\\n",
       "0            0      Twitter Web Client         [None]                  [None]   \n",
       "1            0      Twitter for iPhone  ['retweeted']  ['695237701386244098']   \n",
       "2            0                   IFTTT         [None]                  [None]   \n",
       "3            0      Twitter Web Client         [None]                  [None]   \n",
       "4            0  metal archives updates         [None]                  [None]   \n",
       "\n",
       "                                                text  \n",
       "0  1/2 I see Wirecard is rebounding after CEO Mar...  \n",
       "1  RT @UrgentSpeed: Disrupt the Banks! (Jeff Stew...  \n",
       "2           Thank you for following us Markus Braun!  \n",
       "3  Disrupt the Banks! (Jeff Stewart, Markus Braun...  \n",
       "4  Artist updated: Markus Braun https://t.co/udZM...  "
      ]
     },
     "execution_count": 4,
     "metadata": {},
     "output_type": "execute_result"
    }
   ],
   "source": [
    "df.head()"
   ]
  },
  {
   "cell_type": "code",
   "execution_count": 5,
   "id": "080524a0-b873-497e-b69c-98d025da5e67",
   "metadata": {},
   "outputs": [
    {
     "data": {
      "text/plain": [
       "17801"
      ]
     },
     "execution_count": 22,
     "metadata": {},
     "output_type": "execute_result"
    }
   ],
   "source": [
    "len(df)"
   ]
  },
  {
   "cell_type": "code",
   "execution_count": 28,
   "id": "c283378c-82a8-4924-bf63-6e14a8cff6ef",
   "metadata": {},
   "outputs": [
    {
     "name": "stdout",
     "output_type": "stream",
     "text": [
      "{'neg': 0.082, 'neu': 0.818, 'pos': 0.1, 'compound': 0.0992}\n",
      "1/2 I see Wirecard is rebounding after CEO Markus Braun bought a chunk of shares. This is not a surprise, standard anti-short behaviour.\n",
      "0\n",
      "{'neg': 0.0, 'neu': 1.0, 'pos': 0.0, 'compound': 0.0}\n",
      "RT @UrgentSpeed: Disrupt the Banks! (Jeff Stewart, Markus Braun, Christian Angermayer, Harry Nelis) | #DLD16 https://t.co/WkFm9puWy0 cc @le…\n",
      "1\n",
      "{'neg': 0.0, 'neu': 0.682, 'pos': 0.318, 'compound': 0.4199}\n",
      "Thank you for following us Markus Braun!\n",
      "2\n",
      "{'neg': 0.0, 'neu': 1.0, 'pos': 0.0, 'compound': 0.0}\n",
      "Disrupt the Banks! (Jeff Stewart, Markus Braun, Christian Angermayer, Harry Nelis) | #DLD16 https://t.co/WkFm9puWy0 cc @lenddofriend\n",
      "3\n",
      "{'neg': 0.0, 'neu': 1.0, 'pos': 0.0, 'compound': 0.0}\n",
      "Artist updated: Markus Braun https://t.co/udZMHaDsWi\n",
      "4\n",
      "{'neg': 0.0, 'neu': 1.0, 'pos': 0.0, 'compound': 0.0}\n",
      "$WDI #wirecard CEO Markus Braun on Q4 2015 Results - Yesterday's Earnings Call Transcript: https://t.co/E2fmw0rtPS\n",
      "5\n",
      "{'neg': 0.0, 'neu': 1.0, 'pos': 0.0, 'compound': 0.0}\n",
      "RT @FD: Wirecard Analyst Call transcript is available on Seeking Alpha, https://t.co/RI4OKQCHhi\n",
      "6\n",
      "{'neg': 0.0, 'neu': 1.0, 'pos': 0.0, 'compound': 0.0}\n",
      "Wirecard Analyst Call transcript is available on Seeking Alpha, https://t.co/RI4OKQCHhi\n",
      "7\n",
      "{'neg': 0.0, 'neu': 1.0, 'pos': 0.0, 'compound': 0.0}\n",
      "Google News - Mobile Payments: \"Wirecard AG's (WRCDF) CEO Markus Braun on Q4 2015 Results - Earnings Call Transcri… https://t.co/fL6Xhk0VwY\n",
      "8\n",
      "{'neg': 0.0, 'neu': 1.0, 'pos': 0.0, 'compound': 0.0}\n",
      "Wirecard AG's (WRCDF) CEO Markus Braun on Q4 2015 Results - Earnings Call Transcript $WRCDF https://t.co/IBd0xgC2BQ\n",
      "9\n",
      "{'neg': 0.0, 'neu': 1.0, 'pos': 0.0, 'compound': 0.0}\n",
      "Wirecard AG's (WRCDF) CEO Markus Braun on Q4 2015 Results – Earnings Call Transcript https://t.co/vHxHPldilL\n",
      "10\n",
      "{'neg': 0.0, 'neu': 1.0, 'pos': 0.0, 'compound': 0.0}\n",
      "Reviewed Full #Warewashing Line from @meikousa during @nrashow with L) Markus Braun, President and R) Chuck Ondior… https://t.co/1BwNNixzFL\n",
      "11\n",
      "{'neg': 0.0, 'neu': 1.0, 'pos': 0.0, 'compound': 0.0}\n",
      "Reviewed Full #Warewashing Line from meikousa with L) Markus Braun, President and R) Chuck… https://t.co/d8I0GIcBrQ https://t.co/dymfsOQieJ\n",
      "12\n",
      "{'neg': 0.0, 'neu': 1.0, 'pos': 0.0, 'compound': 0.0}\n",
      "Reviewed Full #Warewashing Line from meikousa with L) Markus Braun, President and R) Chuck… https://t.co/KlSdTh6Eef\n",
      "13\n",
      "{'neg': 0.123, 'neu': 0.877, 'pos': 0.0, 'compound': -0.3382}\n",
      "RT @Pioneers: Looking forward to one of our #spotlight speakers Markus Braun, CEO of @wirecard: https://t.co/5j3DDGBSkr Drop by!\n",
      "14\n"
     ]
    }
   ],
   "source": [
    "for each in range(15):\n",
    "    print(sid.polarity_scores(df.iloc[each][\"text\"]))\n",
    "    print(df.iloc[each][\"text\"])\n",
    "    print(each)"
   ]
  },
  {
   "cell_type": "code",
   "execution_count": 11,
   "id": "1bf01a48-b313-48f3-ab67-83dbdbac6417",
   "metadata": {},
   "outputs": [],
   "source": [
    "text = df.iloc[168][\"text\"]"
   ]
  },
  {
   "cell_type": "code",
   "execution_count": 13,
   "id": "08ae29cd-cb29-4b0a-b752-8100ea452671",
   "metadata": {},
   "outputs": [
    {
     "name": "stdout",
     "output_type": "stream",
     "text": [
      "@_MarkusBraun HAVE A BLESSED DAY. HOPE YOU WOULD HAVE A READ ON MY BLOG. THANK YOU VERY MUCH. 😊😊😊https://t.co/SNufODP63F\n"
     ]
    }
   ],
   "source": [
    "print(text)"
   ]
  },
  {
   "cell_type": "code",
   "execution_count": 20,
   "id": "e6c55362-efd4-40ff-9941-3c989e957aba",
   "metadata": {},
   "outputs": [
    {
     "name": "stdout",
     "output_type": "stream",
     "text": [
      "@_MarkusBraun HAVE A BLESSED DAY. HOPE YOU WOULD HAVE A READ ON MY BLOG. THANK YOU VERY MUCH. 😊😊😊\n",
      "@_MarkusBraun HAVE A BLESSED DAY. HOPE YOU WOULD HAVE A READ ON MY BLOG. THANK YOU VERY MUCH.\n",
      "@_MarkusBraun HAVE A BLESSED DAY. HOPE YOU WOULD HAVE A READ ON MY BLOG. THANK YOU VERY MUCH. :)\n"
     ]
    }
   ],
   "source": [
    "text_1 = \"@_MarkusBraun HAVE A BLESSED DAY. HOPE YOU WOULD HAVE A READ ON MY BLOG. THANK YOU VERY MUCH. 😊😊😊\"\n",
    "text_2 = \"@_MarkusBraun HAVE A BLESSED DAY. HOPE YOU WOULD HAVE A READ ON MY BLOG. THANK YOU VERY MUCH.\"\n",
    "text_3 = \"@_MarkusBraun HAVE A BLESSED DAY. HOPE YOU WOULD HAVE A READ ON MY BLOG. THANK YOU VERY MUCH. :)\"\n",
    "print(text_1)\n",
    "print(text_2)\n",
    "print(text_3)"
   ]
  },
  {
   "cell_type": "code",
   "execution_count": 21,
   "id": "b52bb1ca-c351-4798-9736-105f8e448a4f",
   "metadata": {},
   "outputs": [
    {
     "name": "stdout",
     "output_type": "stream",
     "text": [
      "{'neg': 0.0, 'neu': 0.549, 'pos': 0.451, 'compound': 0.91}\n",
      "{'neg': 0.0, 'neu': 0.549, 'pos': 0.451, 'compound': 0.91}\n",
      "{'neg': 0.0, 'neu': 0.531, 'pos': 0.469, 'compound': 0.91}\n",
      "{'neg': 0.0, 'neu': 0.457, 'pos': 0.543, 'compound': 0.9475}\n"
     ]
    }
   ],
   "source": [
    "print(sid.polarity_scores(text))\n",
    "print(sid.polarity_scores(text_1))\n",
    "print(sid.polarity_scores(text_2))\n",
    "print(sid.polarity_scores(text_3))"
   ]
  },
  {
   "cell_type": "code",
   "execution_count": 32,
   "id": "421d2009-e3f1-44ef-b7d0-6b2d3db61f54",
   "metadata": {},
   "outputs": [
    {
     "name": "stdout",
     "output_type": "stream",
     "text": [
      "Looking forward to one of our #spotlight speakers Markus Braun, CEO of @wirecard: Drop by!\n"
     ]
    },
    {
     "data": {
      "text/plain": [
       "{'neg': 0.146, 'neu': 0.854, 'pos': 0.0, 'compound': -0.3382}"
      ]
     },
     "execution_count": 32,
     "metadata": {},
     "output_type": "execute_result"
    }
   ],
   "source": [
    "text_4 = \"Looking forward to one of our #spotlight speakers Markus Braun, CEO of @wirecard: Drop by!\"\n",
    "print(text_4)\n",
    "sid.polarity_scores(text_4)"
   ]
  },
  {
   "cell_type": "code",
   "execution_count": 6,
   "id": "b3e8744f-1319-4e31-bfe5-663f6a337d5c",
   "metadata": {},
   "outputs": [
    {
     "name": "stdout",
     "output_type": "stream",
     "text": [
      "['retweeted']\n"
     ]
    }
   ],
   "source": [
    "#re.findall(r\"[\\w']+\", DATA)\n",
    "#print(re.findall(r\"[\\w']+\", df.loc[4][\"tweet_type\"])[0])\n",
    "print(re.findall(r\"\\w+\", df.loc[4][\"tweet_type\"])) "
   ]
  },
  {
   "cell_type": "code",
   "execution_count": 7,
   "id": "81c8e7df-7278-476c-a6e3-0b68cd5eb5cb",
   "metadata": {},
   "outputs": [
    {
     "name": "stdout",
     "output_type": "stream",
     "text": [
      "['retweeted']\n"
     ]
    }
   ],
   "source": [
    "print(re.findall(r\"\\w+\", df.at[4, \"tweet_type\"]))"
   ]
  },
  {
   "cell_type": "code",
   "execution_count": 8,
   "id": "5a3708bc-c744-4819-bf5d-c2321ff2d21c",
   "metadata": {},
   "outputs": [],
   "source": [
    "tweet_type_list = re.findall(r\"\\w+\", df.at[4, \"tweet_type\"])"
   ]
  },
  {
   "cell_type": "code",
   "execution_count": 9,
   "id": "24e371f4-97f7-47a4-ac79-6a7f42d27e70",
   "metadata": {},
   "outputs": [],
   "source": [
    "df.at[4,\"tweet_type\"] = tweet_type_list"
   ]
  },
  {
   "cell_type": "code",
   "execution_count": 11,
   "id": "ac54c24c-690a-4a31-9080-764f9285d1a1",
   "metadata": {},
   "outputs": [
    {
     "data": {
      "text/plain": [
       "'retweeted'"
      ]
     },
     "execution_count": 11,
     "metadata": {},
     "output_type": "execute_result"
    }
   ],
   "source": [
    "df.at[4,\"tweet_type\"][0]"
   ]
  },
  {
   "cell_type": "code",
   "execution_count": 24,
   "id": "a34c0727-a471-455f-9e26-138bca91e2cd",
   "metadata": {},
   "outputs": [],
   "source": [
    "for each in range(len(df)):\n",
    "    df.at[each,\"tweet_type\"] = re.findall(r\"\\w+\", df.at[each, \"tweet_type\"])\n",
    "    #print(each)"
   ]
  },
  {
   "cell_type": "code",
   "execution_count": 37,
   "id": "a4657383-3101-4675-a9d5-f1b9def03f2a",
   "metadata": {},
   "outputs": [
    {
     "data": {
      "text/plain": [
       "list"
      ]
     },
     "execution_count": 37,
     "metadata": {},
     "output_type": "execute_result"
    }
   ],
   "source": [
    "tweet_type_list = [\"None\"]\n",
    "type(tweet_type_list)"
   ]
  },
  {
   "cell_type": "code",
   "execution_count": 44,
   "id": "8e56c405-ca36-435f-87a2-9b7f9d77dc40",
   "metadata": {},
   "outputs": [
    {
     "data": {
      "text/plain": [
       "False"
      ]
     },
     "execution_count": 44,
     "metadata": {},
     "output_type": "execute_result"
    }
   ],
   "source": [
    "len(df[\"tweet_type\"][1]) > 1"
   ]
  },
  {
   "cell_type": "code",
   "execution_count": 52,
   "id": "61753e90-0d36-4c27-9cdd-057bbf4d40eb",
   "metadata": {},
   "outputs": [
    {
     "data": {
      "text/plain": [
       "143"
      ]
     },
     "execution_count": 52,
     "metadata": {},
     "output_type": "execute_result"
    }
   ],
   "source": [
    "counter = 0\n",
    "multiple_tweet_types = []\n",
    "for each in range(len(df)):\n",
    "    if len(df[\"tweet_type\"][each]) > 1:\n",
    "        multiple_tweet_types.append(each)\n",
    "        counter += 1\n",
    "counter"
   ]
  },
  {
   "cell_type": "code",
   "execution_count": 55,
   "id": "05506abf-a5e0-41c7-9605-2ebd04a271d8",
   "metadata": {},
   "outputs": [
    {
     "data": {
      "text/html": [
       "<div>\n",
       "<style scoped>\n",
       "    .dataframe tbody tr th:only-of-type {\n",
       "        vertical-align: middle;\n",
       "    }\n",
       "\n",
       "    .dataframe tbody tr th {\n",
       "        vertical-align: top;\n",
       "    }\n",
       "\n",
       "    .dataframe thead th {\n",
       "        text-align: right;\n",
       "    }\n",
       "</style>\n",
       "<table border=\"1\" class=\"dataframe\">\n",
       "  <thead>\n",
       "    <tr style=\"text-align: right;\">\n",
       "      <th></th>\n",
       "      <th>conversation_id</th>\n",
       "      <th>author_id</th>\n",
       "      <th>created_at</th>\n",
       "      <th>tweet_id</th>\n",
       "      <th>lang</th>\n",
       "      <th>retweet_count</th>\n",
       "      <th>reply_count</th>\n",
       "      <th>like_count</th>\n",
       "      <th>quote_count</th>\n",
       "      <th>source</th>\n",
       "      <th>tweet_type</th>\n",
       "      <th>referenced_tweet_id</th>\n",
       "      <th>text</th>\n",
       "    </tr>\n",
       "  </thead>\n",
       "  <tbody>\n",
       "    <tr>\n",
       "      <th>723</th>\n",
       "      <td>1103965745619308544</td>\n",
       "      <td>1108781456325820423</td>\n",
       "      <td>2019-03-22 08:26:03+00:00</td>\n",
       "      <td>1109008324480110593</td>\n",
       "      <td>de</td>\n",
       "      <td>0</td>\n",
       "      <td>0</td>\n",
       "      <td>0</td>\n",
       "      <td>0</td>\n",
       "      <td>Twitter Web App</td>\n",
       "      <td>[quoted, replied_to]</td>\n",
       "      <td>['1108985591214075904', '1106601531355340801']</td>\n",
       "      <td>@_MarkusBraun @oderman https://t.co/sFgN9ytJKs...</td>\n",
       "    </tr>\n",
       "    <tr>\n",
       "      <th>1186</th>\n",
       "      <td>1124324194521624576</td>\n",
       "      <td>172082646</td>\n",
       "      <td>2019-05-04 11:18:48+00:00</td>\n",
       "      <td>1124634476896825344</td>\n",
       "      <td>de</td>\n",
       "      <td>0</td>\n",
       "      <td>1</td>\n",
       "      <td>0</td>\n",
       "      <td>0</td>\n",
       "      <td>Twitter Web Client</td>\n",
       "      <td>[quoted, replied_to]</td>\n",
       "      <td>['1124629815095590912', '1124629815095590912']</td>\n",
       "      <td>@Tradefair6 @boker_andre @WirecardCareers @wir...</td>\n",
       "    </tr>\n",
       "    <tr>\n",
       "      <th>1435</th>\n",
       "      <td>1151508892637114373</td>\n",
       "      <td>3011988771</td>\n",
       "      <td>2019-10-22 19:27:02+00:00</td>\n",
       "      <td>1186725670589779968</td>\n",
       "      <td>de</td>\n",
       "      <td>0</td>\n",
       "      <td>0</td>\n",
       "      <td>0</td>\n",
       "      <td>0</td>\n",
       "      <td>Twitter for Android</td>\n",
       "      <td>[quoted, replied_to]</td>\n",
       "      <td>['1186476374242009089', '1151508892637114373']</td>\n",
       "      <td>@_MarkusBraun Europa eine neue Diktaturhttps:/...</td>\n",
       "    </tr>\n",
       "    <tr>\n",
       "      <th>1553</th>\n",
       "      <td>1197164173253324800</td>\n",
       "      <td>953644815568244736</td>\n",
       "      <td>2019-11-20 17:36:53+00:00</td>\n",
       "      <td>1197207197593350145</td>\n",
       "      <td>de</td>\n",
       "      <td>0</td>\n",
       "      <td>0</td>\n",
       "      <td>0</td>\n",
       "      <td>0</td>\n",
       "      <td>Twitter for iPhone</td>\n",
       "      <td>[quoted, replied_to]</td>\n",
       "      <td>['1196607777935773696', '1197164173253324800']</td>\n",
       "      <td>@_MarkusBraun Alipay arbeitet mit einem Kranke...</td>\n",
       "    </tr>\n",
       "    <tr>\n",
       "      <th>3084</th>\n",
       "      <td>1266242840432013313</td>\n",
       "      <td>1077879160096374785</td>\n",
       "      <td>2020-05-29 07:04:16+00:00</td>\n",
       "      <td>1266264075492708353</td>\n",
       "      <td>de</td>\n",
       "      <td>0</td>\n",
       "      <td>0</td>\n",
       "      <td>3</td>\n",
       "      <td>0</td>\n",
       "      <td>Twitter for Android</td>\n",
       "      <td>[quoted, replied_to]</td>\n",
       "      <td>['1266049241664937984', '1266242840432013313']</td>\n",
       "      <td>@MaxSteppan @_MarkusBraun Die Diskussion hatte...</td>\n",
       "    </tr>\n",
       "    <tr>\n",
       "      <th>...</th>\n",
       "      <td>...</td>\n",
       "      <td>...</td>\n",
       "      <td>...</td>\n",
       "      <td>...</td>\n",
       "      <td>...</td>\n",
       "      <td>...</td>\n",
       "      <td>...</td>\n",
       "      <td>...</td>\n",
       "      <td>...</td>\n",
       "      <td>...</td>\n",
       "      <td>...</td>\n",
       "      <td>...</td>\n",
       "      <td>...</td>\n",
       "    </tr>\n",
       "    <tr>\n",
       "      <th>9729</th>\n",
       "      <td>1286574929530560512</td>\n",
       "      <td>1118219555967520769</td>\n",
       "      <td>2020-07-24 08:12:46+00:00</td>\n",
       "      <td>1286575036246249473</td>\n",
       "      <td>de</td>\n",
       "      <td>0</td>\n",
       "      <td>0</td>\n",
       "      <td>0</td>\n",
       "      <td>0</td>\n",
       "      <td>Twitter for iPhone</td>\n",
       "      <td>[quoted, replied_to]</td>\n",
       "      <td>['1101373999244812289', '1286574929530560512']</td>\n",
       "      <td>@CFOMG @FinancialTimes Der Ex-Wirecard-Chef @_...</td>\n",
       "    </tr>\n",
       "    <tr>\n",
       "      <th>9745</th>\n",
       "      <td>1286540503513792513</td>\n",
       "      <td>872914590300090368</td>\n",
       "      <td>2020-07-24 07:25:27+00:00</td>\n",
       "      <td>1286563128679989249</td>\n",
       "      <td>de</td>\n",
       "      <td>1</td>\n",
       "      <td>3</td>\n",
       "      <td>16</td>\n",
       "      <td>0</td>\n",
       "      <td>Twitter for iPhone</td>\n",
       "      <td>[quoted, replied_to]</td>\n",
       "      <td>['1101373999244812289', '1286540503513792513']</td>\n",
       "      <td>@gaborsteingart Heute noch in Erinnerung: das ...</td>\n",
       "    </tr>\n",
       "    <tr>\n",
       "      <th>9872</th>\n",
       "      <td>1286314562371948544</td>\n",
       "      <td>774193248671858689</td>\n",
       "      <td>2020-07-23 15:01:12+00:00</td>\n",
       "      <td>1286315431872036865</td>\n",
       "      <td>de</td>\n",
       "      <td>0</td>\n",
       "      <td>1</td>\n",
       "      <td>0</td>\n",
       "      <td>0</td>\n",
       "      <td>Twitter Web App</td>\n",
       "      <td>[quoted, replied_to]</td>\n",
       "      <td>['1101373999244812289', '1286314562371948544']</td>\n",
       "      <td>@HugoMuellerVogg @gaborsteingart Markus Braun ...</td>\n",
       "    </tr>\n",
       "    <tr>\n",
       "      <th>13285</th>\n",
       "      <td>1281849806223278080</td>\n",
       "      <td>2752407035</td>\n",
       "      <td>2020-07-11 08:48:07+00:00</td>\n",
       "      <td>1281872889273253888</td>\n",
       "      <td>de</td>\n",
       "      <td>1</td>\n",
       "      <td>1</td>\n",
       "      <td>6</td>\n",
       "      <td>0</td>\n",
       "      <td>Twitter for iPad</td>\n",
       "      <td>[quoted, replied_to]</td>\n",
       "      <td>['1281705000125845504', '1281849806223278080']</td>\n",
       "      <td>... daß dem #IbizaUA laut JM @Alma_Zadic nur V...</td>\n",
       "    </tr>\n",
       "    <tr>\n",
       "      <th>13332</th>\n",
       "      <td>1281511793035182080</td>\n",
       "      <td>31258667</td>\n",
       "      <td>2020-07-10 19:43:56+00:00</td>\n",
       "      <td>1281675541393874944</td>\n",
       "      <td>de</td>\n",
       "      <td>0</td>\n",
       "      <td>0</td>\n",
       "      <td>0</td>\n",
       "      <td>0</td>\n",
       "      <td>Twitter for iPhone</td>\n",
       "      <td>[quoted, replied_to]</td>\n",
       "      <td>['1281533136204111872', '1281629088973807623']</td>\n",
       "      <td>@AndiSchneider @anna_thalhammer Jan Marsalek k...</td>\n",
       "    </tr>\n",
       "  </tbody>\n",
       "</table>\n",
       "<p>143 rows × 13 columns</p>\n",
       "</div>"
      ],
      "text/plain": [
       "           conversation_id            author_id                 created_at  \\\n",
       "723    1103965745619308544  1108781456325820423  2019-03-22 08:26:03+00:00   \n",
       "1186   1124324194521624576            172082646  2019-05-04 11:18:48+00:00   \n",
       "1435   1151508892637114373           3011988771  2019-10-22 19:27:02+00:00   \n",
       "1553   1197164173253324800   953644815568244736  2019-11-20 17:36:53+00:00   \n",
       "3084   1266242840432013313  1077879160096374785  2020-05-29 07:04:16+00:00   \n",
       "...                    ...                  ...                        ...   \n",
       "9729   1286574929530560512  1118219555967520769  2020-07-24 08:12:46+00:00   \n",
       "9745   1286540503513792513   872914590300090368  2020-07-24 07:25:27+00:00   \n",
       "9872   1286314562371948544   774193248671858689  2020-07-23 15:01:12+00:00   \n",
       "13285  1281849806223278080           2752407035  2020-07-11 08:48:07+00:00   \n",
       "13332  1281511793035182080             31258667  2020-07-10 19:43:56+00:00   \n",
       "\n",
       "                  tweet_id lang  retweet_count  reply_count  like_count  \\\n",
       "723    1109008324480110593   de              0            0           0   \n",
       "1186   1124634476896825344   de              0            1           0   \n",
       "1435   1186725670589779968   de              0            0           0   \n",
       "1553   1197207197593350145   de              0            0           0   \n",
       "3084   1266264075492708353   de              0            0           3   \n",
       "...                    ...  ...            ...          ...         ...   \n",
       "9729   1286575036246249473   de              0            0           0   \n",
       "9745   1286563128679989249   de              1            3          16   \n",
       "9872   1286315431872036865   de              0            1           0   \n",
       "13285  1281872889273253888   de              1            1           6   \n",
       "13332  1281675541393874944   de              0            0           0   \n",
       "\n",
       "       quote_count               source            tweet_type  \\\n",
       "723              0      Twitter Web App  [quoted, replied_to]   \n",
       "1186             0   Twitter Web Client  [quoted, replied_to]   \n",
       "1435             0  Twitter for Android  [quoted, replied_to]   \n",
       "1553             0   Twitter for iPhone  [quoted, replied_to]   \n",
       "3084             0  Twitter for Android  [quoted, replied_to]   \n",
       "...            ...                  ...                   ...   \n",
       "9729             0   Twitter for iPhone  [quoted, replied_to]   \n",
       "9745             0   Twitter for iPhone  [quoted, replied_to]   \n",
       "9872             0      Twitter Web App  [quoted, replied_to]   \n",
       "13285            0     Twitter for iPad  [quoted, replied_to]   \n",
       "13332            0   Twitter for iPhone  [quoted, replied_to]   \n",
       "\n",
       "                                  referenced_tweet_id  \\\n",
       "723    ['1108985591214075904', '1106601531355340801']   \n",
       "1186   ['1124629815095590912', '1124629815095590912']   \n",
       "1435   ['1186476374242009089', '1151508892637114373']   \n",
       "1553   ['1196607777935773696', '1197164173253324800']   \n",
       "3084   ['1266049241664937984', '1266242840432013313']   \n",
       "...                                               ...   \n",
       "9729   ['1101373999244812289', '1286574929530560512']   \n",
       "9745   ['1101373999244812289', '1286540503513792513']   \n",
       "9872   ['1101373999244812289', '1286314562371948544']   \n",
       "13285  ['1281705000125845504', '1281849806223278080']   \n",
       "13332  ['1281533136204111872', '1281629088973807623']   \n",
       "\n",
       "                                                    text  \n",
       "723    @_MarkusBraun @oderman https://t.co/sFgN9ytJKs...  \n",
       "1186   @Tradefair6 @boker_andre @WirecardCareers @wir...  \n",
       "1435   @_MarkusBraun Europa eine neue Diktaturhttps:/...  \n",
       "1553   @_MarkusBraun Alipay arbeitet mit einem Kranke...  \n",
       "3084   @MaxSteppan @_MarkusBraun Die Diskussion hatte...  \n",
       "...                                                  ...  \n",
       "9729   @CFOMG @FinancialTimes Der Ex-Wirecard-Chef @_...  \n",
       "9745   @gaborsteingart Heute noch in Erinnerung: das ...  \n",
       "9872   @HugoMuellerVogg @gaborsteingart Markus Braun ...  \n",
       "13285  ... daß dem #IbizaUA laut JM @Alma_Zadic nur V...  \n",
       "13332  @AndiSchneider @anna_thalhammer Jan Marsalek k...  \n",
       "\n",
       "[143 rows x 13 columns]"
      ]
     },
     "execution_count": 55,
     "metadata": {},
     "output_type": "execute_result"
    }
   ],
   "source": [
    "df.iloc[multiple_tweet_types]"
   ]
  },
  {
   "cell_type": "code",
   "execution_count": null,
   "id": "1d5830e4-6959-411e-8cd1-a5548d520ea5",
   "metadata": {},
   "outputs": [],
   "source": []
  }
 ],
 "metadata": {
  "kernelspec": {
   "display_name": "master_thesis_3.9.10",
   "language": "python",
   "name": "master_thesis_3.9.10"
  },
  "language_info": {
   "codemirror_mode": {
    "name": "ipython",
    "version": 3
   },
   "file_extension": ".py",
   "mimetype": "text/x-python",
   "name": "python",
   "nbconvert_exporter": "python",
   "pygments_lexer": "ipython3",
   "version": "3.9.10"
  }
 },
 "nbformat": 4,
 "nbformat_minor": 5
}
