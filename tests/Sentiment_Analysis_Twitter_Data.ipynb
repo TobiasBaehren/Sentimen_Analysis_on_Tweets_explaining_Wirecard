{
 "cells": [
  {
   "cell_type": "markdown",
   "id": "793b32d5-d676-4e7a-94c1-0fc413ecd124",
   "metadata": {},
   "source": [
    "<h1>Sentimentanalyse der Twitter Daten</h1>"
   ]
  },
  {
   "cell_type": "markdown",
   "id": "0fdc0f4c-369b-4327-9a31-d93e94a4d7d5",
   "metadata": {
    "tags": []
   },
   "source": [
    "<h2>Aufgaben</h2>\n",
    "<p>Laden der Daten - DONE -</p>\n",
    "<p>Wie kann ich VADER nutzen um eine Sentimentanalyse durchzuführen</p>\n",
    "<p>Zusammenführen der Daten</p>\n",
    "<p>Aussortieren nicht benötigter Tweets und Daten</p>\n"
   ]
  },
  {
   "cell_type": "code",
   "execution_count": 1,
   "id": "ee30e583-f0f5-481a-b934-6009505578e4",
   "metadata": {},
   "outputs": [],
   "source": [
    "import csv\n",
    "import numpy as np\n",
    "import pandas as pd\n",
    "import re\n",
    "import nltk\n",
    "#If not downloaded:\n",
    "#nltk.download('vader_lexicon')\n",
    "from nltk.sentiment.vader import SentimentIntensityAnalyzer"
   ]
  },
  {
   "cell_type": "markdown",
   "id": "c6bc01c1-84de-4943-b04b-3c560d7adf74",
   "metadata": {},
   "source": [
    "<h2>Sentiment Test</h2>\n",
    "<p>Der versuche eine einfache Sentimentanalyse mit VADER anhand von Beispieldaten durchzuführen</p>"
   ]
  },
  {
   "cell_type": "code",
   "execution_count": 3,
   "id": "1527e99c-990f-4ffb-951f-9589c001f6fe",
   "metadata": {},
   "outputs": [],
   "source": [
    "sid = SentimentIntensityAnalyzer()"
   ]
  },
  {
   "cell_type": "code",
   "execution_count": 4,
   "id": "ca6ae57f-d1d9-40e9-9173-2e268949befa",
   "metadata": {},
   "outputs": [
    {
     "name": "stdout",
     "output_type": "stream",
     "text": [
      "This was a good movie.\n"
     ]
    }
   ],
   "source": [
    "a = \"This was a good movie.\"\n",
    "print(a)"
   ]
  },
  {
   "cell_type": "code",
   "execution_count": 5,
   "id": "173bee70-c142-4ac2-9b34-100330fb2595",
   "metadata": {},
   "outputs": [
    {
     "data": {
      "text/plain": [
       "{'neg': 0.0, 'neu': 0.508, 'pos': 0.492, 'compound': 0.4404}"
      ]
     },
     "execution_count": 5,
     "metadata": {},
     "output_type": "execute_result"
    }
   ],
   "source": [
    "sid.polarity_scores(a)"
   ]
  },
  {
   "cell_type": "code",
   "execution_count": 19,
   "id": "ed8a5d75-acc0-45ff-9288-6a8b74326673",
   "metadata": {},
   "outputs": [
    {
     "name": "stdout",
     "output_type": "stream",
     "text": [
      "This was the BEST, most AWESOME movie EVER MADE!!!\n"
     ]
    }
   ],
   "source": [
    "b = \"This was the BEST, most AWESOME movie EVER MADE!!!\"\n",
    "print(b)"
   ]
  },
  {
   "cell_type": "code",
   "execution_count": null,
   "id": "969fc78e-695d-463b-be33-86e4ee9989f4",
   "metadata": {},
   "outputs": [],
   "source": []
  },
  {
   "cell_type": "code",
   "execution_count": null,
   "id": "61c1313d-d34b-4e5a-93a2-68ac3b82dd4d",
   "metadata": {},
   "outputs": [],
   "source": []
  },
  {
   "cell_type": "code",
   "execution_count": 20,
   "id": "dc5ee22d-b718-410d-b8f5-83fdd2b1c26e",
   "metadata": {},
   "outputs": [
    {
     "data": {
      "text/plain": [
       "{'neg': 0.0, 'neu': 0.39, 'pos': 0.61, 'compound': 0.9175}"
      ]
     },
     "execution_count": 20,
     "metadata": {},
     "output_type": "execute_result"
    }
   ],
   "source": [
    "sid.polarity_scores(b)"
   ]
  },
  {
   "cell_type": "code",
   "execution_count": 21,
   "id": "688ad41c-348c-4d20-86fe-f02ac74f69ec",
   "metadata": {},
   "outputs": [
    {
     "data": {
      "text/plain": [
       "{'neg': 0.0, 'neu': 0.39, 'pos': 0.61, 'compound': 0.9175}"
      ]
     },
     "execution_count": 21,
     "metadata": {},
     "output_type": "execute_result"
    }
   ],
   "source": [
    "sid.polarity_scores(b)"
   ]
  },
  {
   "cell_type": "code",
   "execution_count": 87,
   "id": "966e4236-d8ce-4dcb-a0e1-c06b3ba738a2",
   "metadata": {},
   "outputs": [
    {
     "name": "stdout",
     "output_type": "stream",
     "text": [
      "I am NOT HAPPY!\n"
     ]
    }
   ],
   "source": [
    "c = \"I am NOT HAPPY!\"\n",
    "print(c)"
   ]
  },
  {
   "cell_type": "code",
   "execution_count": 88,
   "id": "0f49ac65-6446-450b-82a6-ff0c4520e95d",
   "metadata": {},
   "outputs": [
    {
     "data": {
      "text/plain": [
       "{'neg': 0.657, 'neu': 0.343, 'pos': 0.0, 'compound': -0.5903}"
      ]
     },
     "execution_count": 88,
     "metadata": {},
     "output_type": "execute_result"
    }
   ],
   "source": [
    "sid.polarity_scores(c)"
   ]
  },
  {
   "cell_type": "markdown",
   "id": "89dfafc0-94ca-4433-a25c-e6094a267d09",
   "metadata": {},
   "source": [
    "<h2>Load data from CSV file </h2>"
   ]
  },
  {
   "cell_type": "code",
   "execution_count": 6,
   "id": "6f5caad5-e3fe-41ae-bd47-85521c26037e",
   "metadata": {},
   "outputs": [],
   "source": [
    "df = pd.read_csv(\"/Users/tobias/Dev/FOM/Master_Thesis/data/Wirecard_EN/data.csv\", sep=\";\")"
   ]
  },
  {
   "cell_type": "code",
   "execution_count": 7,
   "id": "f0193ad6-5971-4ff5-94ef-b279473ec51b",
   "metadata": {},
   "outputs": [
    {
     "data": {
      "text/html": [
       "<div>\n",
       "<style scoped>\n",
       "    .dataframe tbody tr th:only-of-type {\n",
       "        vertical-align: middle;\n",
       "    }\n",
       "\n",
       "    .dataframe tbody tr th {\n",
       "        vertical-align: top;\n",
       "    }\n",
       "\n",
       "    .dataframe thead th {\n",
       "        text-align: right;\n",
       "    }\n",
       "</style>\n",
       "<table border=\"1\" class=\"dataframe\">\n",
       "  <thead>\n",
       "    <tr style=\"text-align: right;\">\n",
       "      <th></th>\n",
       "      <th>conversation_id</th>\n",
       "      <th>author_id</th>\n",
       "      <th>created_at</th>\n",
       "      <th>tweet_id</th>\n",
       "      <th>lang</th>\n",
       "      <th>retweet_count</th>\n",
       "      <th>reply_count</th>\n",
       "      <th>like_count</th>\n",
       "      <th>quote_count</th>\n",
       "      <th>source</th>\n",
       "      <th>tweet_type</th>\n",
       "      <th>referenced_tweet_id</th>\n",
       "      <th>text</th>\n",
       "    </tr>\n",
       "  </thead>\n",
       "  <tbody>\n",
       "    <tr>\n",
       "      <th>0</th>\n",
       "      <td>704044765566930948</td>\n",
       "      <td>42056054</td>\n",
       "      <td>2016-02-28 20:45:27+00:00</td>\n",
       "      <td>704044765566930948</td>\n",
       "      <td>en</td>\n",
       "      <td>0</td>\n",
       "      <td>0</td>\n",
       "      <td>0</td>\n",
       "      <td>0</td>\n",
       "      <td>Hootsuite</td>\n",
       "      <td>[None]</td>\n",
       "      <td>[None]</td>\n",
       "      <td>Cloud-based payment on #HCE is a real #gamecha...</td>\n",
       "    </tr>\n",
       "    <tr>\n",
       "      <th>1</th>\n",
       "      <td>704037775868358656</td>\n",
       "      <td>2992824844</td>\n",
       "      <td>2016-02-28 20:17:40+00:00</td>\n",
       "      <td>704037775868358656</td>\n",
       "      <td>de</td>\n",
       "      <td>0</td>\n",
       "      <td>0</td>\n",
       "      <td>0</td>\n",
       "      <td>0</td>\n",
       "      <td>seed.mytweetsys.app.t00</td>\n",
       "      <td>[None]</td>\n",
       "      <td>[None]</td>\n",
       "      <td>Guck mal! #job: #Senior #CRM Manager (m/w) bei...</td>\n",
       "    </tr>\n",
       "    <tr>\n",
       "      <th>2</th>\n",
       "      <td>704000413834600452</td>\n",
       "      <td>1000523414</td>\n",
       "      <td>2016-02-28 17:49:13+00:00</td>\n",
       "      <td>704000413834600452</td>\n",
       "      <td>en</td>\n",
       "      <td>1</td>\n",
       "      <td>0</td>\n",
       "      <td>0</td>\n",
       "      <td>0</td>\n",
       "      <td>Twitter for iPhone</td>\n",
       "      <td>['retweeted']</td>\n",
       "      <td>['703954164540379136']</td>\n",
       "      <td>RT @wirecard: Singapore is on the Way to a #Ca...</td>\n",
       "    </tr>\n",
       "    <tr>\n",
       "      <th>3</th>\n",
       "      <td>703984392327266304</td>\n",
       "      <td>88195332</td>\n",
       "      <td>2016-02-28 16:45:33+00:00</td>\n",
       "      <td>703984392327266304</td>\n",
       "      <td>en</td>\n",
       "      <td>1</td>\n",
       "      <td>0</td>\n",
       "      <td>0</td>\n",
       "      <td>0</td>\n",
       "      <td>Twitter Web Client</td>\n",
       "      <td>['retweeted']</td>\n",
       "      <td>['703944694225620993']</td>\n",
       "      <td>RT @Michael_Kissig: Investor-Update 26.02.16: ...</td>\n",
       "    </tr>\n",
       "    <tr>\n",
       "      <th>4</th>\n",
       "      <td>703954164540379136</td>\n",
       "      <td>42056054</td>\n",
       "      <td>2016-02-28 14:45:26+00:00</td>\n",
       "      <td>703954164540379136</td>\n",
       "      <td>en</td>\n",
       "      <td>1</td>\n",
       "      <td>0</td>\n",
       "      <td>1</td>\n",
       "      <td>0</td>\n",
       "      <td>Hootsuite</td>\n",
       "      <td>[None]</td>\n",
       "      <td>[None]</td>\n",
       "      <td>Singapore is on the Way to a #Cashless Society...</td>\n",
       "    </tr>\n",
       "  </tbody>\n",
       "</table>\n",
       "</div>"
      ],
      "text/plain": [
       "      conversation_id   author_id                 created_at  \\\n",
       "0  704044765566930948    42056054  2016-02-28 20:45:27+00:00   \n",
       "1  704037775868358656  2992824844  2016-02-28 20:17:40+00:00   \n",
       "2  704000413834600452  1000523414  2016-02-28 17:49:13+00:00   \n",
       "3  703984392327266304    88195332  2016-02-28 16:45:33+00:00   \n",
       "4  703954164540379136    42056054  2016-02-28 14:45:26+00:00   \n",
       "\n",
       "             tweet_id lang  retweet_count  reply_count  like_count  \\\n",
       "0  704044765566930948   en              0            0           0   \n",
       "1  704037775868358656   de              0            0           0   \n",
       "2  704000413834600452   en              1            0           0   \n",
       "3  703984392327266304   en              1            0           0   \n",
       "4  703954164540379136   en              1            0           1   \n",
       "\n",
       "   quote_count                   source     tweet_type  \\\n",
       "0            0                Hootsuite         [None]   \n",
       "1            0  seed.mytweetsys.app.t00         [None]   \n",
       "2            0       Twitter for iPhone  ['retweeted']   \n",
       "3            0       Twitter Web Client  ['retweeted']   \n",
       "4            0                Hootsuite         [None]   \n",
       "\n",
       "      referenced_tweet_id                                               text  \n",
       "0                  [None]  Cloud-based payment on #HCE is a real #gamecha...  \n",
       "1                  [None]  Guck mal! #job: #Senior #CRM Manager (m/w) bei...  \n",
       "2  ['703954164540379136']  RT @wirecard: Singapore is on the Way to a #Ca...  \n",
       "3  ['703944694225620993']  RT @Michael_Kissig: Investor-Update 26.02.16: ...  \n",
       "4                  [None]  Singapore is on the Way to a #Cashless Society...  "
      ]
     },
     "execution_count": 7,
     "metadata": {},
     "output_type": "execute_result"
    }
   ],
   "source": [
    "df.head()"
   ]
  },
  {
   "cell_type": "code",
   "execution_count": 89,
   "id": "080524a0-b873-497e-b69c-98d025da5e67",
   "metadata": {},
   "outputs": [
    {
     "data": {
      "text/plain": [
       "203935"
      ]
     },
     "execution_count": 89,
     "metadata": {},
     "output_type": "execute_result"
    }
   ],
   "source": [
    "len(df)"
   ]
  },
  {
   "cell_type": "code",
   "execution_count": null,
   "id": "c283378c-82a8-4924-bf63-6e14a8cff6ef",
   "metadata": {},
   "outputs": [],
   "source": [
    "for each in range(len(df)):\n",
    "    print(sid.polarity_scores(df.iloc[each][\"text\"]))\n",
    "    print(each)"
   ]
  },
  {
   "cell_type": "code",
   "execution_count": null,
   "id": "1bf01a48-b313-48f3-ab67-83dbdbac6417",
   "metadata": {},
   "outputs": [],
   "source": []
  },
  {
   "cell_type": "code",
   "execution_count": 33,
   "id": "202b8129-95d5-497c-82ce-09d00db802f2",
   "metadata": {},
   "outputs": [
    {
     "data": {
      "text/plain": [
       "0        #Wirecard-Chef Markus Braun pumpt irrwitzige S...\n",
       "1        Jetzt günstig einsammeln und später absahnen? ...\n",
       "2        Morgen startet die neue Reihe R²-JazzCube! Vol...\n",
       "3        die Y-Achse des  #prusai3 nimmt Formen an :-) ...\n",
       "4        RT @aktionaer: #Wirecard: Was führt der Vorsta...\n",
       "                               ...                        \n",
       "14303    #Wirecard wird womöglich gestückelt an Investo...\n",
       "14304    Das Ende eines großen Traums zeichnet sich ab....\n",
       "14305    Wirecard kündigt Markus Braun, Insolvenzverwal...\n",
       "14306    Kündigung für Markus Braun: Der Aufsichtsrat v...\n",
       "14307    DGAP-Adhoc: Wirecard AG: Kündigung Anstellungs...\n",
       "Name: text, Length: 14308, dtype: object"
      ]
     },
     "execution_count": 33,
     "metadata": {},
     "output_type": "execute_result"
    }
   ],
   "source": [
    "df[\"text\"]"
   ]
  },
  {
   "cell_type": "code",
   "execution_count": null,
   "id": "421d2009-e3f1-44ef-b7d0-6b2d3db61f54",
   "metadata": {},
   "outputs": [],
   "source": []
  },
  {
   "cell_type": "code",
   "execution_count": 5,
   "id": "ab9773de-57ab-495c-9079-117c9bc361dd",
   "metadata": {},
   "outputs": [
    {
     "data": {
      "text/html": [
       "<div>\n",
       "<style scoped>\n",
       "    .dataframe tbody tr th:only-of-type {\n",
       "        vertical-align: middle;\n",
       "    }\n",
       "\n",
       "    .dataframe tbody tr th {\n",
       "        vertical-align: top;\n",
       "    }\n",
       "\n",
       "    .dataframe thead th {\n",
       "        text-align: right;\n",
       "    }\n",
       "</style>\n",
       "<table border=\"1\" class=\"dataframe\">\n",
       "  <thead>\n",
       "    <tr style=\"text-align: right;\">\n",
       "      <th></th>\n",
       "      <th>conversation_id</th>\n",
       "      <th>author_id</th>\n",
       "      <th>created_at</th>\n",
       "      <th>tweet_id</th>\n",
       "      <th>lang</th>\n",
       "      <th>retweet_count</th>\n",
       "      <th>reply_count</th>\n",
       "      <th>like_count</th>\n",
       "      <th>quote_count</th>\n",
       "      <th>source</th>\n",
       "      <th>tweet_type</th>\n",
       "      <th>referenced_tweet_id</th>\n",
       "      <th>text</th>\n",
       "    </tr>\n",
       "  </thead>\n",
       "  <tbody>\n",
       "    <tr>\n",
       "      <th>0</th>\n",
       "      <td>703311366262800384</td>\n",
       "      <td>1392131804</td>\n",
       "      <td>2016-02-26 20:11:11+00:00</td>\n",
       "      <td>703311366262800384</td>\n",
       "      <td>de</td>\n",
       "      <td>0</td>\n",
       "      <td>0</td>\n",
       "      <td>2</td>\n",
       "      <td>0</td>\n",
       "      <td>Twitter Web Client</td>\n",
       "      <td>[None]</td>\n",
       "      <td>[None]</td>\n",
       "      <td>#Wirecard-Chef Markus Braun pumpt irrwitzige S...</td>\n",
       "    </tr>\n",
       "  </tbody>\n",
       "</table>\n",
       "</div>"
      ],
      "text/plain": [
       "      conversation_id   author_id                 created_at  \\\n",
       "0  703311366262800384  1392131804  2016-02-26 20:11:11+00:00   \n",
       "\n",
       "             tweet_id lang  retweet_count  reply_count  like_count  \\\n",
       "0  703311366262800384   de              0            0           2   \n",
       "\n",
       "   quote_count              source tweet_type referenced_tweet_id  \\\n",
       "0            0  Twitter Web Client     [None]              [None]   \n",
       "\n",
       "                                                text  \n",
       "0  #Wirecard-Chef Markus Braun pumpt irrwitzige S...  "
      ]
     },
     "execution_count": 5,
     "metadata": {},
     "output_type": "execute_result"
    }
   ],
   "source": [
    "df[df[\"conversation_id\"]==703311366262800384]"
   ]
  },
  {
   "cell_type": "code",
   "execution_count": 6,
   "id": "b3e8744f-1319-4e31-bfe5-663f6a337d5c",
   "metadata": {},
   "outputs": [
    {
     "name": "stdout",
     "output_type": "stream",
     "text": [
      "['retweeted']\n"
     ]
    }
   ],
   "source": [
    "#re.findall(r\"[\\w']+\", DATA)\n",
    "#print(re.findall(r\"[\\w']+\", df.loc[4][\"tweet_type\"])[0])\n",
    "print(re.findall(r\"\\w+\", df.loc[4][\"tweet_type\"])) "
   ]
  },
  {
   "cell_type": "code",
   "execution_count": 7,
   "id": "81c8e7df-7278-476c-a6e3-0b68cd5eb5cb",
   "metadata": {},
   "outputs": [
    {
     "name": "stdout",
     "output_type": "stream",
     "text": [
      "['retweeted']\n"
     ]
    }
   ],
   "source": [
    "print(re.findall(r\"\\w+\", df.at[4, \"tweet_type\"]))"
   ]
  },
  {
   "cell_type": "code",
   "execution_count": 8,
   "id": "5a3708bc-c744-4819-bf5d-c2321ff2d21c",
   "metadata": {},
   "outputs": [],
   "source": [
    "tweet_type_list = re.findall(r\"\\w+\", df.at[4, \"tweet_type\"])"
   ]
  },
  {
   "cell_type": "code",
   "execution_count": 9,
   "id": "24e371f4-97f7-47a4-ac79-6a7f42d27e70",
   "metadata": {},
   "outputs": [],
   "source": [
    "df.at[4,\"tweet_type\"] = tweet_type_list"
   ]
  },
  {
   "cell_type": "code",
   "execution_count": 11,
   "id": "ac54c24c-690a-4a31-9080-764f9285d1a1",
   "metadata": {},
   "outputs": [
    {
     "data": {
      "text/plain": [
       "'retweeted'"
      ]
     },
     "execution_count": 11,
     "metadata": {},
     "output_type": "execute_result"
    }
   ],
   "source": [
    "df.at[4,\"tweet_type\"][0]"
   ]
  },
  {
   "cell_type": "code",
   "execution_count": 24,
   "id": "a34c0727-a471-455f-9e26-138bca91e2cd",
   "metadata": {},
   "outputs": [],
   "source": [
    "for each in range(len(df)):\n",
    "    df.at[each,\"tweet_type\"] = re.findall(r\"\\w+\", df.at[each, \"tweet_type\"])\n",
    "    #print(each)"
   ]
  },
  {
   "cell_type": "code",
   "execution_count": 37,
   "id": "a4657383-3101-4675-a9d5-f1b9def03f2a",
   "metadata": {},
   "outputs": [
    {
     "data": {
      "text/plain": [
       "list"
      ]
     },
     "execution_count": 37,
     "metadata": {},
     "output_type": "execute_result"
    }
   ],
   "source": [
    "tweet_type_list = [\"None\"]\n",
    "type(tweet_type_list)"
   ]
  },
  {
   "cell_type": "code",
   "execution_count": 44,
   "id": "8e56c405-ca36-435f-87a2-9b7f9d77dc40",
   "metadata": {},
   "outputs": [
    {
     "data": {
      "text/plain": [
       "False"
      ]
     },
     "execution_count": 44,
     "metadata": {},
     "output_type": "execute_result"
    }
   ],
   "source": [
    "len(df[\"tweet_type\"][1]) > 1"
   ]
  },
  {
   "cell_type": "code",
   "execution_count": 52,
   "id": "61753e90-0d36-4c27-9cdd-057bbf4d40eb",
   "metadata": {},
   "outputs": [
    {
     "data": {
      "text/plain": [
       "143"
      ]
     },
     "execution_count": 52,
     "metadata": {},
     "output_type": "execute_result"
    }
   ],
   "source": [
    "counter = 0\n",
    "multiple_tweet_types = []\n",
    "for each in range(len(df)):\n",
    "    if len(df[\"tweet_type\"][each]) > 1:\n",
    "        multiple_tweet_types.append(each)\n",
    "        counter += 1\n",
    "counter"
   ]
  },
  {
   "cell_type": "code",
   "execution_count": 55,
   "id": "05506abf-a5e0-41c7-9605-2ebd04a271d8",
   "metadata": {},
   "outputs": [
    {
     "data": {
      "text/html": [
       "<div>\n",
       "<style scoped>\n",
       "    .dataframe tbody tr th:only-of-type {\n",
       "        vertical-align: middle;\n",
       "    }\n",
       "\n",
       "    .dataframe tbody tr th {\n",
       "        vertical-align: top;\n",
       "    }\n",
       "\n",
       "    .dataframe thead th {\n",
       "        text-align: right;\n",
       "    }\n",
       "</style>\n",
       "<table border=\"1\" class=\"dataframe\">\n",
       "  <thead>\n",
       "    <tr style=\"text-align: right;\">\n",
       "      <th></th>\n",
       "      <th>conversation_id</th>\n",
       "      <th>author_id</th>\n",
       "      <th>created_at</th>\n",
       "      <th>tweet_id</th>\n",
       "      <th>lang</th>\n",
       "      <th>retweet_count</th>\n",
       "      <th>reply_count</th>\n",
       "      <th>like_count</th>\n",
       "      <th>quote_count</th>\n",
       "      <th>source</th>\n",
       "      <th>tweet_type</th>\n",
       "      <th>referenced_tweet_id</th>\n",
       "      <th>text</th>\n",
       "    </tr>\n",
       "  </thead>\n",
       "  <tbody>\n",
       "    <tr>\n",
       "      <th>723</th>\n",
       "      <td>1103965745619308544</td>\n",
       "      <td>1108781456325820423</td>\n",
       "      <td>2019-03-22 08:26:03+00:00</td>\n",
       "      <td>1109008324480110593</td>\n",
       "      <td>de</td>\n",
       "      <td>0</td>\n",
       "      <td>0</td>\n",
       "      <td>0</td>\n",
       "      <td>0</td>\n",
       "      <td>Twitter Web App</td>\n",
       "      <td>[quoted, replied_to]</td>\n",
       "      <td>['1108985591214075904', '1106601531355340801']</td>\n",
       "      <td>@_MarkusBraun @oderman https://t.co/sFgN9ytJKs...</td>\n",
       "    </tr>\n",
       "    <tr>\n",
       "      <th>1186</th>\n",
       "      <td>1124324194521624576</td>\n",
       "      <td>172082646</td>\n",
       "      <td>2019-05-04 11:18:48+00:00</td>\n",
       "      <td>1124634476896825344</td>\n",
       "      <td>de</td>\n",
       "      <td>0</td>\n",
       "      <td>1</td>\n",
       "      <td>0</td>\n",
       "      <td>0</td>\n",
       "      <td>Twitter Web Client</td>\n",
       "      <td>[quoted, replied_to]</td>\n",
       "      <td>['1124629815095590912', '1124629815095590912']</td>\n",
       "      <td>@Tradefair6 @boker_andre @WirecardCareers @wir...</td>\n",
       "    </tr>\n",
       "    <tr>\n",
       "      <th>1435</th>\n",
       "      <td>1151508892637114373</td>\n",
       "      <td>3011988771</td>\n",
       "      <td>2019-10-22 19:27:02+00:00</td>\n",
       "      <td>1186725670589779968</td>\n",
       "      <td>de</td>\n",
       "      <td>0</td>\n",
       "      <td>0</td>\n",
       "      <td>0</td>\n",
       "      <td>0</td>\n",
       "      <td>Twitter for Android</td>\n",
       "      <td>[quoted, replied_to]</td>\n",
       "      <td>['1186476374242009089', '1151508892637114373']</td>\n",
       "      <td>@_MarkusBraun Europa eine neue Diktaturhttps:/...</td>\n",
       "    </tr>\n",
       "    <tr>\n",
       "      <th>1553</th>\n",
       "      <td>1197164173253324800</td>\n",
       "      <td>953644815568244736</td>\n",
       "      <td>2019-11-20 17:36:53+00:00</td>\n",
       "      <td>1197207197593350145</td>\n",
       "      <td>de</td>\n",
       "      <td>0</td>\n",
       "      <td>0</td>\n",
       "      <td>0</td>\n",
       "      <td>0</td>\n",
       "      <td>Twitter for iPhone</td>\n",
       "      <td>[quoted, replied_to]</td>\n",
       "      <td>['1196607777935773696', '1197164173253324800']</td>\n",
       "      <td>@_MarkusBraun Alipay arbeitet mit einem Kranke...</td>\n",
       "    </tr>\n",
       "    <tr>\n",
       "      <th>3084</th>\n",
       "      <td>1266242840432013313</td>\n",
       "      <td>1077879160096374785</td>\n",
       "      <td>2020-05-29 07:04:16+00:00</td>\n",
       "      <td>1266264075492708353</td>\n",
       "      <td>de</td>\n",
       "      <td>0</td>\n",
       "      <td>0</td>\n",
       "      <td>3</td>\n",
       "      <td>0</td>\n",
       "      <td>Twitter for Android</td>\n",
       "      <td>[quoted, replied_to]</td>\n",
       "      <td>['1266049241664937984', '1266242840432013313']</td>\n",
       "      <td>@MaxSteppan @_MarkusBraun Die Diskussion hatte...</td>\n",
       "    </tr>\n",
       "    <tr>\n",
       "      <th>...</th>\n",
       "      <td>...</td>\n",
       "      <td>...</td>\n",
       "      <td>...</td>\n",
       "      <td>...</td>\n",
       "      <td>...</td>\n",
       "      <td>...</td>\n",
       "      <td>...</td>\n",
       "      <td>...</td>\n",
       "      <td>...</td>\n",
       "      <td>...</td>\n",
       "      <td>...</td>\n",
       "      <td>...</td>\n",
       "      <td>...</td>\n",
       "    </tr>\n",
       "    <tr>\n",
       "      <th>9729</th>\n",
       "      <td>1286574929530560512</td>\n",
       "      <td>1118219555967520769</td>\n",
       "      <td>2020-07-24 08:12:46+00:00</td>\n",
       "      <td>1286575036246249473</td>\n",
       "      <td>de</td>\n",
       "      <td>0</td>\n",
       "      <td>0</td>\n",
       "      <td>0</td>\n",
       "      <td>0</td>\n",
       "      <td>Twitter for iPhone</td>\n",
       "      <td>[quoted, replied_to]</td>\n",
       "      <td>['1101373999244812289', '1286574929530560512']</td>\n",
       "      <td>@CFOMG @FinancialTimes Der Ex-Wirecard-Chef @_...</td>\n",
       "    </tr>\n",
       "    <tr>\n",
       "      <th>9745</th>\n",
       "      <td>1286540503513792513</td>\n",
       "      <td>872914590300090368</td>\n",
       "      <td>2020-07-24 07:25:27+00:00</td>\n",
       "      <td>1286563128679989249</td>\n",
       "      <td>de</td>\n",
       "      <td>1</td>\n",
       "      <td>3</td>\n",
       "      <td>16</td>\n",
       "      <td>0</td>\n",
       "      <td>Twitter for iPhone</td>\n",
       "      <td>[quoted, replied_to]</td>\n",
       "      <td>['1101373999244812289', '1286540503513792513']</td>\n",
       "      <td>@gaborsteingart Heute noch in Erinnerung: das ...</td>\n",
       "    </tr>\n",
       "    <tr>\n",
       "      <th>9872</th>\n",
       "      <td>1286314562371948544</td>\n",
       "      <td>774193248671858689</td>\n",
       "      <td>2020-07-23 15:01:12+00:00</td>\n",
       "      <td>1286315431872036865</td>\n",
       "      <td>de</td>\n",
       "      <td>0</td>\n",
       "      <td>1</td>\n",
       "      <td>0</td>\n",
       "      <td>0</td>\n",
       "      <td>Twitter Web App</td>\n",
       "      <td>[quoted, replied_to]</td>\n",
       "      <td>['1101373999244812289', '1286314562371948544']</td>\n",
       "      <td>@HugoMuellerVogg @gaborsteingart Markus Braun ...</td>\n",
       "    </tr>\n",
       "    <tr>\n",
       "      <th>13285</th>\n",
       "      <td>1281849806223278080</td>\n",
       "      <td>2752407035</td>\n",
       "      <td>2020-07-11 08:48:07+00:00</td>\n",
       "      <td>1281872889273253888</td>\n",
       "      <td>de</td>\n",
       "      <td>1</td>\n",
       "      <td>1</td>\n",
       "      <td>6</td>\n",
       "      <td>0</td>\n",
       "      <td>Twitter for iPad</td>\n",
       "      <td>[quoted, replied_to]</td>\n",
       "      <td>['1281705000125845504', '1281849806223278080']</td>\n",
       "      <td>... daß dem #IbizaUA laut JM @Alma_Zadic nur V...</td>\n",
       "    </tr>\n",
       "    <tr>\n",
       "      <th>13332</th>\n",
       "      <td>1281511793035182080</td>\n",
       "      <td>31258667</td>\n",
       "      <td>2020-07-10 19:43:56+00:00</td>\n",
       "      <td>1281675541393874944</td>\n",
       "      <td>de</td>\n",
       "      <td>0</td>\n",
       "      <td>0</td>\n",
       "      <td>0</td>\n",
       "      <td>0</td>\n",
       "      <td>Twitter for iPhone</td>\n",
       "      <td>[quoted, replied_to]</td>\n",
       "      <td>['1281533136204111872', '1281629088973807623']</td>\n",
       "      <td>@AndiSchneider @anna_thalhammer Jan Marsalek k...</td>\n",
       "    </tr>\n",
       "  </tbody>\n",
       "</table>\n",
       "<p>143 rows × 13 columns</p>\n",
       "</div>"
      ],
      "text/plain": [
       "           conversation_id            author_id                 created_at  \\\n",
       "723    1103965745619308544  1108781456325820423  2019-03-22 08:26:03+00:00   \n",
       "1186   1124324194521624576            172082646  2019-05-04 11:18:48+00:00   \n",
       "1435   1151508892637114373           3011988771  2019-10-22 19:27:02+00:00   \n",
       "1553   1197164173253324800   953644815568244736  2019-11-20 17:36:53+00:00   \n",
       "3084   1266242840432013313  1077879160096374785  2020-05-29 07:04:16+00:00   \n",
       "...                    ...                  ...                        ...   \n",
       "9729   1286574929530560512  1118219555967520769  2020-07-24 08:12:46+00:00   \n",
       "9745   1286540503513792513   872914590300090368  2020-07-24 07:25:27+00:00   \n",
       "9872   1286314562371948544   774193248671858689  2020-07-23 15:01:12+00:00   \n",
       "13285  1281849806223278080           2752407035  2020-07-11 08:48:07+00:00   \n",
       "13332  1281511793035182080             31258667  2020-07-10 19:43:56+00:00   \n",
       "\n",
       "                  tweet_id lang  retweet_count  reply_count  like_count  \\\n",
       "723    1109008324480110593   de              0            0           0   \n",
       "1186   1124634476896825344   de              0            1           0   \n",
       "1435   1186725670589779968   de              0            0           0   \n",
       "1553   1197207197593350145   de              0            0           0   \n",
       "3084   1266264075492708353   de              0            0           3   \n",
       "...                    ...  ...            ...          ...         ...   \n",
       "9729   1286575036246249473   de              0            0           0   \n",
       "9745   1286563128679989249   de              1            3          16   \n",
       "9872   1286315431872036865   de              0            1           0   \n",
       "13285  1281872889273253888   de              1            1           6   \n",
       "13332  1281675541393874944   de              0            0           0   \n",
       "\n",
       "       quote_count               source            tweet_type  \\\n",
       "723              0      Twitter Web App  [quoted, replied_to]   \n",
       "1186             0   Twitter Web Client  [quoted, replied_to]   \n",
       "1435             0  Twitter for Android  [quoted, replied_to]   \n",
       "1553             0   Twitter for iPhone  [quoted, replied_to]   \n",
       "3084             0  Twitter for Android  [quoted, replied_to]   \n",
       "...            ...                  ...                   ...   \n",
       "9729             0   Twitter for iPhone  [quoted, replied_to]   \n",
       "9745             0   Twitter for iPhone  [quoted, replied_to]   \n",
       "9872             0      Twitter Web App  [quoted, replied_to]   \n",
       "13285            0     Twitter for iPad  [quoted, replied_to]   \n",
       "13332            0   Twitter for iPhone  [quoted, replied_to]   \n",
       "\n",
       "                                  referenced_tweet_id  \\\n",
       "723    ['1108985591214075904', '1106601531355340801']   \n",
       "1186   ['1124629815095590912', '1124629815095590912']   \n",
       "1435   ['1186476374242009089', '1151508892637114373']   \n",
       "1553   ['1196607777935773696', '1197164173253324800']   \n",
       "3084   ['1266049241664937984', '1266242840432013313']   \n",
       "...                                               ...   \n",
       "9729   ['1101373999244812289', '1286574929530560512']   \n",
       "9745   ['1101373999244812289', '1286540503513792513']   \n",
       "9872   ['1101373999244812289', '1286314562371948544']   \n",
       "13285  ['1281705000125845504', '1281849806223278080']   \n",
       "13332  ['1281533136204111872', '1281629088973807623']   \n",
       "\n",
       "                                                    text  \n",
       "723    @_MarkusBraun @oderman https://t.co/sFgN9ytJKs...  \n",
       "1186   @Tradefair6 @boker_andre @WirecardCareers @wir...  \n",
       "1435   @_MarkusBraun Europa eine neue Diktaturhttps:/...  \n",
       "1553   @_MarkusBraun Alipay arbeitet mit einem Kranke...  \n",
       "3084   @MaxSteppan @_MarkusBraun Die Diskussion hatte...  \n",
       "...                                                  ...  \n",
       "9729   @CFOMG @FinancialTimes Der Ex-Wirecard-Chef @_...  \n",
       "9745   @gaborsteingart Heute noch in Erinnerung: das ...  \n",
       "9872   @HugoMuellerVogg @gaborsteingart Markus Braun ...  \n",
       "13285  ... daß dem #IbizaUA laut JM @Alma_Zadic nur V...  \n",
       "13332  @AndiSchneider @anna_thalhammer Jan Marsalek k...  \n",
       "\n",
       "[143 rows x 13 columns]"
      ]
     },
     "execution_count": 55,
     "metadata": {},
     "output_type": "execute_result"
    }
   ],
   "source": [
    "df.iloc[multiple_tweet_types]"
   ]
  },
  {
   "cell_type": "code",
   "execution_count": null,
   "id": "1d5830e4-6959-411e-8cd1-a5548d520ea5",
   "metadata": {},
   "outputs": [],
   "source": []
  }
 ],
 "metadata": {
  "kernelspec": {
   "display_name": "Master_Thesis",
   "language": "python",
   "name": "master_thesis"
  },
  "language_info": {
   "codemirror_mode": {
    "name": "ipython",
    "version": 3
   },
   "file_extension": ".py",
   "mimetype": "text/x-python",
   "name": "python",
   "nbconvert_exporter": "python",
   "pygments_lexer": "ipython3",
   "version": "3.10.2"
  }
 },
 "nbformat": 4,
 "nbformat_minor": 5
}
