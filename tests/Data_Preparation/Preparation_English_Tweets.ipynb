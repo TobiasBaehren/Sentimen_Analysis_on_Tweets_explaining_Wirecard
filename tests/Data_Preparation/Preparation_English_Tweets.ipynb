{
 "cells": [
  {
   "cell_type": "markdown",
   "id": "f6ae1ac2-0b2c-4578-9694-7040882deec9",
   "metadata": {},
   "source": [
    "<h1>Preparation of the English Twitter Data</h1>"
   ]
  },
  {
   "cell_type": "markdown",
   "id": "a323e70f-92a0-45e4-845f-b9d5aaa92fbb",
   "metadata": {},
   "source": [
    "<p>This file is for preparing the german tweets. The preparation is mainly for training my own model for sentiment detection with Flair. </p>"
   ]
  },
  {
   "cell_type": "code",
   "execution_count": 1,
   "id": "5d435d73-8df6-4ae8-8694-a8e75747958f",
   "metadata": {},
   "outputs": [],
   "source": [
    "import csv\n",
    "import numpy as np\n",
    "import pandas as pd\n",
    "import re\n",
    "import nltk\n",
    "from nltk.corpus import stopwords\n",
    "from wordcloud import WordCloud\n",
    "import matplotlib.pyplot as plt\n",
    "from HanTa import HanoverTagger as ht"
   ]
  },
  {
   "cell_type": "markdown",
   "id": "fba70b51-726a-477a-bfce-9f62ea40b0f7",
   "metadata": {},
   "source": [
    "<p>Download der Stopwörter Listen</p>"
   ]
  },
  {
   "cell_type": "code",
   "execution_count": null,
   "id": "2f508d8d-486d-46f5-9b43-b6f1e4dcdb64",
   "metadata": {},
   "outputs": [],
   "source": [
    "#nltk.download('stopwords')"
   ]
  },
  {
   "cell_type": "markdown",
   "id": "75921e4f-1906-4f14-b6b4-0ee534677d54",
   "metadata": {},
   "source": [
    "<h1>Einlesen und bestimmung der Felder</h1>\n",
    "<p>Durch die weitern Operatoren, kann ich die einzelnen Felder in DF bestimmen. Durch die Lambda Funktion werden die Str zu Listen, was die spätere verarbeitung erleichtert. \n",
    "    Durch die Parse_dates Funktion wird das Datumsfeld zu einem Timestamp, was die weiter Verarbeitung wesentlich leichter macht.</p>"
   ]
  },
  {
   "cell_type": "code",
   "execution_count": 2,
   "id": "2e546077-cd87-49e0-b3a3-4cb63f9f353c",
   "metadata": {},
   "outputs": [],
   "source": [
    "df_manager = pd.read_csv(\"/Users/tobias/Dev/FOM/Master_Thesis/data/Manager_EN/data.csv\", sep=\";\", \n",
    "                            converters={\"tweet_type\": lambda x: x.strip(\"[]\").replace(\"'\", \"\").split(\", \"),\n",
    "                                        \"referenced_tweet_id\": lambda x: x.strip(\"[]\").replace(\"'\", \"\").split(\", \")},\n",
    "                           parse_dates=[\"created_at\"])\n",
    "df_manager = df_manager.explode([\"referenced_tweet_id\", \"tweet_type\"], ignore_index=True)"
   ]
  },
  {
   "cell_type": "code",
   "execution_count": 3,
   "id": "112a0b0d-5dda-4530-a948-39d0b2264a74",
   "metadata": {},
   "outputs": [
    {
     "data": {
      "text/plain": [
       "17844"
      ]
     },
     "execution_count": 3,
     "metadata": {},
     "output_type": "execute_result"
    }
   ],
   "source": [
    "len(df_manager)"
   ]
  },
  {
   "cell_type": "code",
   "execution_count": 4,
   "id": "22b21fc9-fc5e-4403-8390-093caa12eb23",
   "metadata": {
    "tags": []
   },
   "outputs": [
    {
     "data": {
      "text/html": [
       "<div>\n",
       "<style scoped>\n",
       "    .dataframe tbody tr th:only-of-type {\n",
       "        vertical-align: middle;\n",
       "    }\n",
       "\n",
       "    .dataframe tbody tr th {\n",
       "        vertical-align: top;\n",
       "    }\n",
       "\n",
       "    .dataframe thead th {\n",
       "        text-align: right;\n",
       "    }\n",
       "</style>\n",
       "<table border=\"1\" class=\"dataframe\">\n",
       "  <thead>\n",
       "    <tr style=\"text-align: right;\">\n",
       "      <th></th>\n",
       "      <th>conversation_id</th>\n",
       "      <th>author_id</th>\n",
       "      <th>created_at</th>\n",
       "      <th>tweet_id</th>\n",
       "      <th>lang</th>\n",
       "      <th>retweet_count</th>\n",
       "      <th>reply_count</th>\n",
       "      <th>like_count</th>\n",
       "      <th>quote_count</th>\n",
       "      <th>source</th>\n",
       "      <th>tweet_type</th>\n",
       "      <th>referenced_tweet_id</th>\n",
       "      <th>text</th>\n",
       "    </tr>\n",
       "  </thead>\n",
       "  <tbody>\n",
       "    <tr>\n",
       "      <th>0</th>\n",
       "      <td>703142204341026818</td>\n",
       "      <td>349287204</td>\n",
       "      <td>2016-02-26 08:58:59+00:00</td>\n",
       "      <td>703142204341026818</td>\n",
       "      <td>en</td>\n",
       "      <td>0</td>\n",
       "      <td>0</td>\n",
       "      <td>1</td>\n",
       "      <td>0</td>\n",
       "      <td>Twitter Web Client</td>\n",
       "      <td>None</td>\n",
       "      <td>None</td>\n",
       "      <td>1/2 I see Wirecard is rebounding after CEO Mar...</td>\n",
       "    </tr>\n",
       "    <tr>\n",
       "      <th>1</th>\n",
       "      <td>695258744737824768</td>\n",
       "      <td>282981965</td>\n",
       "      <td>2016-02-04 14:52:56+00:00</td>\n",
       "      <td>695258744737824768</td>\n",
       "      <td>en</td>\n",
       "      <td>1</td>\n",
       "      <td>0</td>\n",
       "      <td>0</td>\n",
       "      <td>0</td>\n",
       "      <td>Twitter for iPhone</td>\n",
       "      <td>retweeted</td>\n",
       "      <td>695237701386244098</td>\n",
       "      <td>RT @UrgentSpeed: Disrupt the Banks! (Jeff Stew...</td>\n",
       "    </tr>\n",
       "    <tr>\n",
       "      <th>2</th>\n",
       "      <td>695255175334924288</td>\n",
       "      <td>428593285</td>\n",
       "      <td>2016-02-04 14:38:45+00:00</td>\n",
       "      <td>695255175334924288</td>\n",
       "      <td>en</td>\n",
       "      <td>0</td>\n",
       "      <td>0</td>\n",
       "      <td>0</td>\n",
       "      <td>0</td>\n",
       "      <td>IFTTT</td>\n",
       "      <td>None</td>\n",
       "      <td>None</td>\n",
       "      <td>Thank you for following us Markus Braun!</td>\n",
       "    </tr>\n",
       "    <tr>\n",
       "      <th>3</th>\n",
       "      <td>695237701386244098</td>\n",
       "      <td>95129352</td>\n",
       "      <td>2016-02-04 13:29:19+00:00</td>\n",
       "      <td>695237701386244098</td>\n",
       "      <td>en</td>\n",
       "      <td>1</td>\n",
       "      <td>0</td>\n",
       "      <td>1</td>\n",
       "      <td>0</td>\n",
       "      <td>Twitter Web Client</td>\n",
       "      <td>None</td>\n",
       "      <td>None</td>\n",
       "      <td>Disrupt the Banks! (Jeff Stewart, Markus Braun...</td>\n",
       "    </tr>\n",
       "    <tr>\n",
       "      <th>4</th>\n",
       "      <td>719940834028863489</td>\n",
       "      <td>3040068274</td>\n",
       "      <td>2016-04-12 17:30:45+00:00</td>\n",
       "      <td>719940834028863489</td>\n",
       "      <td>en</td>\n",
       "      <td>0</td>\n",
       "      <td>0</td>\n",
       "      <td>0</td>\n",
       "      <td>0</td>\n",
       "      <td>metal archives updates</td>\n",
       "      <td>None</td>\n",
       "      <td>None</td>\n",
       "      <td>Artist updated: Markus Braun https://t.co/udZM...</td>\n",
       "    </tr>\n",
       "  </tbody>\n",
       "</table>\n",
       "</div>"
      ],
      "text/plain": [
       "      conversation_id   author_id                created_at  \\\n",
       "0  703142204341026818   349287204 2016-02-26 08:58:59+00:00   \n",
       "1  695258744737824768   282981965 2016-02-04 14:52:56+00:00   \n",
       "2  695255175334924288   428593285 2016-02-04 14:38:45+00:00   \n",
       "3  695237701386244098    95129352 2016-02-04 13:29:19+00:00   \n",
       "4  719940834028863489  3040068274 2016-04-12 17:30:45+00:00   \n",
       "\n",
       "             tweet_id lang  retweet_count  reply_count  like_count  \\\n",
       "0  703142204341026818   en              0            0           1   \n",
       "1  695258744737824768   en              1            0           0   \n",
       "2  695255175334924288   en              0            0           0   \n",
       "3  695237701386244098   en              1            0           1   \n",
       "4  719940834028863489   en              0            0           0   \n",
       "\n",
       "   quote_count                  source tweet_type referenced_tweet_id  \\\n",
       "0            0      Twitter Web Client       None                None   \n",
       "1            0      Twitter for iPhone  retweeted  695237701386244098   \n",
       "2            0                   IFTTT       None                None   \n",
       "3            0      Twitter Web Client       None                None   \n",
       "4            0  metal archives updates       None                None   \n",
       "\n",
       "                                                text  \n",
       "0  1/2 I see Wirecard is rebounding after CEO Mar...  \n",
       "1  RT @UrgentSpeed: Disrupt the Banks! (Jeff Stew...  \n",
       "2           Thank you for following us Markus Braun!  \n",
       "3  Disrupt the Banks! (Jeff Stewart, Markus Braun...  \n",
       "4  Artist updated: Markus Braun https://t.co/udZM...  "
      ]
     },
     "execution_count": 4,
     "metadata": {},
     "output_type": "execute_result"
    }
   ],
   "source": [
    "df_manager.head()"
   ]
  },
  {
   "cell_type": "markdown",
   "id": "afc009d8-9b2e-491f-8e13-b4e8b7658a44",
   "metadata": {},
   "source": [
    "<h3>Löschen von unnötigen Informationen</h3>"
   ]
  },
  {
   "cell_type": "markdown",
   "id": "59f85854-849b-4e8f-b2a0-6bd66cd16083",
   "metadata": {},
   "source": [
    "<p>Hiermit werden alle Textbausteine gelöscht, die nicht benötigt werden. Personen bleiben in diesem Schritt noch enthalten.</p>"
   ]
  },
  {
   "cell_type": "code",
   "execution_count": 6,
   "id": "b40ee800-6278-4bb6-84af-4b70f59ff94b",
   "metadata": {},
   "outputs": [],
   "source": [
    "#just for test\n",
    "for each in range(len(df_manager)):\n",
    "    df_manager.loc[df_manager[\"text\"] == \n",
    "                      df_manager.loc[each][\"text\"], \"text\"] = re.sub(r'http\\S+', '',(re.sub('[#|$]', '', df_manager.loc[each][\"text\"])))"
   ]
  },
  {
   "cell_type": "code",
   "execution_count": null,
   "id": "86e7ed3f-d0f4-46bc-a651-d575074bfbd6",
   "metadata": {
    "tags": []
   },
   "outputs": [],
   "source": [
    "\"\"\"for each in range(len(df_manager)):\n",
    "    df_manager.loc[df_manager[\"text\"] == \n",
    "                      df_manager.loc[each][\"text\"], \"text\"] = re.sub(r'http\\S+', '', \n",
    "                                                                        (re.sub('@[^\\s]+', '',\n",
    "                                                                                re.sub('[#|$]', '', \n",
    "                                                                                       df_manager.loc[each][\"text\"]))))\"\"\""
   ]
  },
  {
   "cell_type": "markdown",
   "id": "d33fa8c2-c3a8-4377-bec3-336dfb42db39",
   "metadata": {
    "tags": []
   },
   "source": [
    "<h1>Löschen von nicht weiter relevanten Tweets</h1>\n",
    "<h3>Löschen von Retweets</h3>\n",
    "<p>Alle Retweets löschen, da diese in diesem Schritt nicht benötigt werden.</p>"
   ]
  },
  {
   "cell_type": "code",
   "execution_count": 7,
   "id": "80f62e59-e2bb-485a-a2c1-6a4df6a68f66",
   "metadata": {},
   "outputs": [
    {
     "name": "stdout",
     "output_type": "stream",
     "text": [
      "9473\n"
     ]
    }
   ],
   "source": [
    "counter = 0\n",
    "retweet_list = []\n",
    "for each in range(len(df_manager)):\n",
    "    if \"retweeted\" in df_manager.iloc[each][\"tweet_type\"]:\n",
    "        retweet_list.append(each)\n",
    "        counter += 1\n",
    "print(counter)"
   ]
  },
  {
   "cell_type": "code",
   "execution_count": 8,
   "id": "d5b331e1-be63-4506-a5c0-ef67f8f3dffb",
   "metadata": {},
   "outputs": [],
   "source": [
    "df_manager = df_manager.drop(retweet_list)\n",
    "df_manager = df_manager.reset_index(drop=True)"
   ]
  },
  {
   "cell_type": "markdown",
   "id": "c96102ab-51d8-4d27-93d7-58f58db774f7",
   "metadata": {
    "tags": []
   },
   "source": [
    "<h3>Löschen von doppelten Tweets</h3>\n",
    "<p>Alle Tweets, die dopplet im Datensatz enthalten sind, anhand der tweet_id werden gelöscht. Somit werden auch die zuvor aufgespalteten Listen wieder gelöscht</p>"
   ]
  },
  {
   "cell_type": "code",
   "execution_count": 9,
   "id": "103a126a-a979-422b-8428-37cb8f75fc4a",
   "metadata": {},
   "outputs": [],
   "source": [
    "df_manager = df_manager.drop_duplicates(subset=[\"tweet_id\"])\n",
    "df_manager = df_manager.reset_index(drop=True)"
   ]
  },
  {
   "cell_type": "code",
   "execution_count": 10,
   "id": "94093847-b640-4ae9-922a-605acbc56955",
   "metadata": {},
   "outputs": [
    {
     "data": {
      "text/plain": [
       "8328"
      ]
     },
     "execution_count": 10,
     "metadata": {},
     "output_type": "execute_result"
    }
   ],
   "source": [
    "len(df_manager)"
   ]
  },
  {
   "cell_type": "markdown",
   "id": "5d5f94c7-ad5a-4fe2-98f0-ce3ab26e5dc7",
   "metadata": {},
   "source": [
    "<h3>Nicht Kontextbezogene Tweets löschen</h3>\n",
    "<p>So kann ich prüfen ob bestimmte Begriffe in den Texten enthalten sind und mir die conversation_id ausgeben lassen. Diese lasse ich dann löschen und auch zugehörige Tweets, da diese nicht in den Kontext passen.<br>Die wörter in der Liste müssen klein geschrieben werden, da auch alle Buchstaben für die Prüfung klein geschrieben werden müssen, da sinst nicht alles erkannt wird.</p>\n",
    "<p>Zu löschende Begriffe</p>\n",
    "<ul>\n",
    "    <li>meiko</li>\n",
    "    <li>calisthenics</li>\n",
    "    <li>pulled</li>\n",
    "    <li>boxing</li>\n",
    "    <li>fom</li>\n",
    "    <li>dlr</li>\n",
    "    <li>eurocity</li>\n",
    "    <li>m.o.s.s</li>\n",
    "    <li>markus_braun_</li>\n",
    "</ul>"
   ]
  },
  {
   "cell_type": "markdown",
   "id": "38f805e3-4e62-46b7-a375-46a4ca1ff4cf",
   "metadata": {},
   "source": [
    "<p>Überprüfung der englischen Tweets. Im ersten Schritt wurden die Retweets gelöscht, dann alle doppelten Tweets. Anschließend gab es eine Liste mit Begriffen, die definitiv etwas mit dem Thema zu tun hatten. Diese wurden aus dem Datensatz zur prüfung gelöscht. Darauf folgte eine Liste mit Begriffen, die nichts mit dem Thema zu tun haben und deswegen gelöscht werden. Abschließend wurden zu überprüfungszwecken Tweets mit doppelten Texten gelöscht und im Anschluss einzelne Tweet ID gelöscht.</p>"
   ]
  },
  {
   "cell_type": "code",
   "execution_count": 11,
   "id": "402476d4-2d97-4fe2-b562-94f62ffbd95f",
   "metadata": {},
   "outputs": [],
   "source": [
    "#List with single IDs, which are not relevant for the dataset\n",
    "list_tweet_id = [719940834028863489, 771966867707682816, 919891703116566529, 730315192559673344, 1085012780053336064, 748146758232879104,\n",
    "                 1275383293504978945, 1121414883512393728, 1288961015351316480, 1284465825915838464, 955660777960230917, 962669158923153409,\n",
    "                 1016245557021507584, 1074388350734340097, 1115926018051792898, 1132148944031457280, 1130223973701246976, 1174984360669278209,\n",
    "                 1220356450809188353, 1255176912202108929]\n",
    "\n",
    "#Check and get tweet_ids for tweets with the same text as in the list_tweet_id.\n",
    "for tweet_id in list_tweet_id:\n",
    "    for each in df_manager.loc[df_manager[\"text\"] == df_manager.loc[df_manager[\"tweet_id\"] == tweet_id][\"text\"].values[0]][\"tweet_id\"].values:\n",
    "        if each not in list_tweet_id:\n",
    "            list_tweet_id.append(each)\n",
    "            \n",
    "#List of words which does not have anything to do with wirecard.\n",
    "not_used_words_list = [\"meiko\", \"calisthenics\", \"pulled pork\", \"boxing\", \" fom\", \"dlr\", \"eurocity\", \"m.o.s.s\", \"markus_braun_\"]\n",
    "\n",
    "#Iterate though the dataframe to get each tweet_id and save it in the list_tweet_id\n",
    "for each in range(len(df_manager)):\n",
    "    for word in not_used_words_list:\n",
    "        if word in df_manager.iloc[each][\"text\"].lower():\n",
    "            if df_manager.iloc[each][\"tweet_id\"] not in list_tweet_id:\n",
    "                list_tweet_id.append(df_manager.iloc[each][\"tweet_id\"])\n",
    "\n",
    "\n",
    "#Get further tweet_ids for every tweet_id that is stored in list_tweet_id\n",
    "for tweet in list_tweet_id:\n",
    "    for each in df_manager.loc[(\n",
    "        df_manager[\"tweet_id\"] == tweet) | (\n",
    "        df_manager[\"conversation_id\"] == df_manager.loc[df_manager[\"tweet_id\"] == tweet][\"conversation_id\"].values[0]) | (\n",
    "        df_manager[\"referenced_tweet_id\"] == tweet) | (\n",
    "        (df_manager[\"referenced_tweet_id\"] == df_manager.loc[df_manager[\"tweet_id\"] == tweet][\"referenced_tweet_id\"].values[0]) & (df_manager[\"referenced_tweet_id\"] != \"None\")) | (\n",
    "        df_manager[\"referenced_tweet_id\"] == df_manager.loc[df_manager[\"tweet_id\"] == tweet][\"conversation_id\"].values[0])][\"tweet_id\"].values:\n",
    "        #If the value is not in the list, it will be added to the list_tweet_id\n",
    "        if each not in list_tweet_id:\n",
    "            list_tweet_id.append(each)"
   ]
  },
  {
   "cell_type": "markdown",
   "id": "01b47f1b-0305-42f7-8bfc-3b43ae47bce3",
   "metadata": {},
   "source": [
    "<p>Löschen der zuvor ermitteletn Tweets.</p>"
   ]
  },
  {
   "cell_type": "code",
   "execution_count": 12,
   "id": "71b72b38-e7df-4074-abd1-2b2090641012",
   "metadata": {},
   "outputs": [],
   "source": [
    "#Iterate through list_tweet_id and remove every tweet, that has nothing to do with Wirecard.\n",
    "for each in list_tweet_id:\n",
    "    df_manager = df_manager.drop(df_manager.loc[df_manager[\"tweet_id\"] == each].index[0])\n",
    "#Set back the index. Otherwise it will not be possible to work with the index any loner. \n",
    "df_manager = df_manager.reset_index(drop=True)"
   ]
  },
  {
   "cell_type": "code",
   "execution_count": 13,
   "id": "670e937e-c3a9-4a46-95f4-bdfd236a7218",
   "metadata": {},
   "outputs": [],
   "source": [
    "for each in range(len(df_manager)):\n",
    "    df_manager.loc[df_manager[\"text\"] == \n",
    "                      df_manager.loc[each][\"text\"], \"text\"] = re.sub(r'http\\S+', '', \n",
    "                                                                        (re.sub('@[^\\s]+', '',\n",
    "                                                                                re.sub('[#|$]', '', \n",
    "                                                                                       df_manager.loc[each][\"text\"]))))"
   ]
  },
  {
   "cell_type": "markdown",
   "id": "abd9fdba-80d2-4c24-a32a-2825a209b4ea",
   "metadata": {
    "tags": []
   },
   "source": [
    "<h2>Zur Prüfung</h2>"
   ]
  },
  {
   "cell_type": "markdown",
   "id": "02843812-ee66-4f76-8fbd-0dddcf918d17",
   "metadata": {},
   "source": [
    "<p>So wurde der Datensatz immer weiter eingegrenzt auf die Begriffe, die relevant sind und unrelevant. Zudem wurde die Liste erstellt, mit einzelnen Tweets, die keinen Input liefern.</p>"
   ]
  },
  {
   "cell_type": "code",
   "execution_count": null,
   "id": "831cbd1d-6c4b-4f4b-92a2-b9d4adc68a62",
   "metadata": {
    "tags": []
   },
   "outputs": [],
   "source": [
    "print(len(df_manager))\n",
    "\n",
    "#remove retweets\n",
    "retweet_list = []\n",
    "for each in range(len(df_manager)):\n",
    "    if \"retweeted\" in df_manager.iloc[each][\"tweet_type\"]:\n",
    "        retweet_list.append(each)\n",
    "\n",
    "df_manager = df_manager.drop(retweet_list)\n",
    "df_manager = df_manager.reset_index(drop=True)\n",
    "\n",
    "#remove duplicates\n",
    "df_manager = df_manager.drop_duplicates(subset=[\"tweet_id\"])\n",
    "df_manager = df_manager.reset_index(drop=True)\n",
    "\n",
    "#words that are relevant but needs to be removed for check\n",
    "for each in df_manager.loc[df_manager.text.str.lower().str.contains(\"wirecard|_markusbraun|kpmg|wdi|bank|financial|@ft|dld|philippine|@fd|dan|turtleneck|ceo|criminal|tech|billion|bitcoin|wanted|bafin|ernst|money|pay|wcagy|arrest|handel|wire|marsalek|braun\")].index:\n",
    "    df_manager = df_manager.drop(each)\n",
    "df_manager = df_manager.reset_index(drop=True)\n",
    "\n",
    "#word that needs to be removed as they do not preserve any further value.\n",
    "for each in df_manager.loc[df_manager.text.str.lower().str.contains(\"meiko|calisthenics|pulled|boxing|fom|dlr|eurocity|m.o.s.s|markus_braun_\")].index:\n",
    "    df_manager = df_manager.drop(each)\n",
    "df_manager = df_manager.reset_index(drop=True)\n",
    "\n",
    "#for checkup all tweets with the same text will be removed.\n",
    "df_manager = df_manager.drop_duplicates(subset=[\"text\"])\n",
    "df_manager = df_manager.reset_index(drop=True)\n",
    "\n",
    "#remove single tweet list\n",
    "list_single_tweet_id = [719940834028863489, 771966867707682816, 919891703116566529, 730315192559673344, 1085012780053336064, 748146758232879104, 1275383293504978945, 1121414883512393728, 1288961015351316480, 1284465825915838464, 955660777960230917, 962669158923153409, 1016245557021507584, 1074388350734340097, 1115926018051792898, 1132148944031457280, 1130223973701246976, 1174984360669278209, 1220356450809188353, 1255176912202108929]\n",
    "for each in list_single_tweet_id:\n",
    "    if each in df_manager.loc[df_manager[\"tweet_id\"] == each].values:\n",
    "        df_manager = df_manager.drop(df_manager.loc[df_manager[\"tweet_id\"] == each].index[0])\n",
    "df_manager = df_manager.reset_index(drop=True)\n",
    "\n",
    "print(len(df_manager))"
   ]
  },
  {
   "cell_type": "code",
   "execution_count": null,
   "id": "176e9868-a5c9-4550-a6d4-cda457a08e37",
   "metadata": {
    "tags": []
   },
   "outputs": [],
   "source": [
    "for each in range(len(df_manager)):\n",
    "    print(df_manager.iloc[each][\"tweet_id\"], \": \", df_manager.iloc[each][\"text\"])"
   ]
  },
  {
   "cell_type": "code",
   "execution_count": null,
   "id": "58e3b4c0-83ed-45ea-af92-5f956d124478",
   "metadata": {
    "tags": []
   },
   "outputs": [],
   "source": [
    "for each in df_manager.loc[df_manager.text.str.lower().str.contains(\"ey\")].index:\n",
    "    print(df_manager.iloc[each][\"tweet_id\"], \": \", df_manager.iloc[each][\"text\"])"
   ]
  },
  {
   "cell_type": "code",
   "execution_count": null,
   "id": "5e05e28d-d4c8-45ab-911a-6386af7f7a3f",
   "metadata": {
    "tags": []
   },
   "outputs": [],
   "source": [
    "for each in range(len(df_manager.sample(n=250, random_state=1))):\n",
    "    print(df_manager.iloc[each][\"tweet_id\"], \": \", df_manager.iloc[each][\"text\"])"
   ]
  },
  {
   "cell_type": "markdown",
   "id": "40f7ff9d-b2d3-4531-8d99-5abeae190df0",
   "metadata": {},
   "source": [
    "<p>Das vorherige Verfahren zum ermitteln weiterer Tweet_ids und deren zugehörigen Tweets. Das neue Verfahren, wie oben angewendet erzielt die selben Ergebnisse.</p>"
   ]
  },
  {
   "cell_type": "code",
   "execution_count": null,
   "id": "d627b796-c527-487d-ac75-ee8a063d7afa",
   "metadata": {},
   "outputs": [],
   "source": [
    "not_used_words_list = [\"meiko\", \"calisthenics\", \"pulled pork\", \"boxing\", \" fom\", \"dlr\", \"eurocity\", \"m.o.s.s\", \"markus_braun_\"]\n",
    "tweet_id_without_context_list = []\n",
    "for each in range(len(df_manager)):\n",
    "    for word in not_used_words_list:\n",
    "        if word in df_manager.iloc[each][\"text\"].lower():\n",
    "            if df_manager.iloc[each][\"tweet_id\"] not in tweet_id_without_context_list:\n",
    "                tweet_id_without_context_list.append(df_manager.iloc[each][\"tweet_id\"])"
   ]
  },
  {
   "cell_type": "markdown",
   "id": "1c0baab9-792f-45bc-8a26-d4e16390d3fc",
   "metadata": {},
   "source": [
    "<p>Iteration durch die Liste mit zu löschenden Tweets, bis der Wert zu Beginn und zum Ende gleich ist und es keine\n",
    "weiteren Tweets mehr gibt, die gefiltert werden müssen. </p>"
   ]
  },
  {
   "cell_type": "code",
   "execution_count": null,
   "id": "6957ed56-d9ae-4101-955d-ace28cc44e86",
   "metadata": {
    "tags": []
   },
   "outputs": [],
   "source": [
    "def check_for_further_tweets():\n",
    "    start_len = len(tweet_id_without_context_list)\n",
    "    for each in range(len(tweet_id_without_context_list)):\n",
    "        df_tweets = df_manager.loc[(df_manager[\"conversation_id\"] == tweet_id_without_context_list[each]) | \n",
    "               (df_manager[\"referenced_tweet_id\"] == str(tweet_id_without_context_list[each]))]\n",
    "\n",
    "        for each in range(len(df_tweets)):\n",
    "            if df_tweets.iloc[each][\"tweet_id\"] not in tweet_id_without_context_list:\n",
    "                tweet_id_without_context_list.append(df_tweets.iloc[each][\"tweet_id\"])\n",
    "                \n",
    "    if start_len != len(tweet_id_without_context_list):\n",
    "        check_for_further_tweets()\n",
    "check_for_further_tweets()"
   ]
  },
  {
   "cell_type": "markdown",
   "id": "0ae65229-6b28-4f9d-a689-65bf0edf3034",
   "metadata": {},
   "source": [
    "<p>Löschen der nicht kontextbezogenen Tweets und den Index neu setzen um später keine Probleme mit dem Index zu bekommen.</p>"
   ]
  },
  {
   "cell_type": "code",
   "execution_count": null,
   "id": "68cc18ef-d61b-4ba2-a685-79b27d3a79e8",
   "metadata": {},
   "outputs": [],
   "source": [
    "for each in tweet_id_without_context_list:\n",
    "    df_manager = df_manager.drop(df_manager.loc[df_manager[\"tweet_id\"] == each].index[0])\n",
    "df_manager = df_manager.reset_index(drop=True)"
   ]
  },
  {
   "cell_type": "code",
   "execution_count": null,
   "id": "8e7b35c6-23ce-448f-b422-fb5aa944dddb",
   "metadata": {},
   "outputs": [],
   "source": []
  },
  {
   "cell_type": "markdown",
   "id": "ff0a4d59-63b2-4121-97fb-d5276c65aa4a",
   "metadata": {
    "tags": []
   },
   "source": [
    "<h1>Hinzufügen weiterer Twitter Datensätze</h1>\n",
    "<p>Hier werden die weiteren Datensätze zusammengeführt.</p>"
   ]
  },
  {
   "cell_type": "markdown",
   "id": "7d5aba98-5700-4215-8a5c-9b0a410e626a",
   "metadata": {
    "tags": []
   },
   "source": [
    "<h2>Datensatz mit Abfrage nach Wirecard</h2>"
   ]
  },
  {
   "cell_type": "code",
   "execution_count": 14,
   "id": "3c7fa0ad-611d-4adc-b000-c96812f6b141",
   "metadata": {},
   "outputs": [],
   "source": [
    "df_wirecard = pd.read_csv(\"/Users/tobias/Dev/FOM/Master_Thesis/data/Wirecard_EN/data.csv\", sep=\";\", \n",
    "                            converters={\"tweet_type\": lambda x: x.strip(\"[]\").replace(\"'\", \"\").split(\", \"),\n",
    "                                        \"referenced_tweet_id\": lambda x: x.strip(\"[]\").replace(\"'\", \"\").split(\", \")},\n",
    "                           parse_dates=[\"created_at\"])\n",
    "df_wirecard = df_wirecard.explode([\"referenced_tweet_id\", \"tweet_type\"], ignore_index=True)\n"
   ]
  },
  {
   "cell_type": "code",
   "execution_count": 15,
   "id": "100d86bb-8f22-4dab-ac37-00156a6cc97c",
   "metadata": {},
   "outputs": [],
   "source": [
    "for each in range(len(df_wirecard)):\n",
    "    df_wirecard.loc[df_wirecard[\"text\"] == \n",
    "                      df_wirecard.loc[each][\"text\"], \"text\"] = re.sub(r'http\\S+', '', \n",
    "                                                                        (re.sub('@[^\\s]+', '',\n",
    "                                                                                re.sub('[#|$]', '', \n",
    "                                                                                       df_wirecard.loc[each][\"text\"]))))"
   ]
  },
  {
   "cell_type": "code",
   "execution_count": 16,
   "id": "bd9e7be2-ae85-4c6d-bee0-ec3798f07e2e",
   "metadata": {
    "tags": []
   },
   "outputs": [
    {
     "data": {
      "text/html": [
       "<div>\n",
       "<style scoped>\n",
       "    .dataframe tbody tr th:only-of-type {\n",
       "        vertical-align: middle;\n",
       "    }\n",
       "\n",
       "    .dataframe tbody tr th {\n",
       "        vertical-align: top;\n",
       "    }\n",
       "\n",
       "    .dataframe thead th {\n",
       "        text-align: right;\n",
       "    }\n",
       "</style>\n",
       "<table border=\"1\" class=\"dataframe\">\n",
       "  <thead>\n",
       "    <tr style=\"text-align: right;\">\n",
       "      <th></th>\n",
       "      <th>conversation_id</th>\n",
       "      <th>author_id</th>\n",
       "      <th>created_at</th>\n",
       "      <th>tweet_id</th>\n",
       "      <th>lang</th>\n",
       "      <th>retweet_count</th>\n",
       "      <th>reply_count</th>\n",
       "      <th>like_count</th>\n",
       "      <th>quote_count</th>\n",
       "      <th>source</th>\n",
       "      <th>tweet_type</th>\n",
       "      <th>referenced_tweet_id</th>\n",
       "      <th>text</th>\n",
       "    </tr>\n",
       "  </thead>\n",
       "  <tbody>\n",
       "    <tr>\n",
       "      <th>0</th>\n",
       "      <td>704044765566930948</td>\n",
       "      <td>42056054</td>\n",
       "      <td>2016-02-28 20:45:27+00:00</td>\n",
       "      <td>704044765566930948</td>\n",
       "      <td>en</td>\n",
       "      <td>0</td>\n",
       "      <td>0</td>\n",
       "      <td>0</td>\n",
       "      <td>0</td>\n",
       "      <td>Hootsuite</td>\n",
       "      <td>None</td>\n",
       "      <td>None</td>\n",
       "      <td>Cloud-based payment on HCE is a real gamechang...</td>\n",
       "    </tr>\n",
       "    <tr>\n",
       "      <th>1</th>\n",
       "      <td>704037775868358656</td>\n",
       "      <td>2992824844</td>\n",
       "      <td>2016-02-28 20:17:40+00:00</td>\n",
       "      <td>704037775868358656</td>\n",
       "      <td>de</td>\n",
       "      <td>0</td>\n",
       "      <td>0</td>\n",
       "      <td>0</td>\n",
       "      <td>0</td>\n",
       "      <td>seed.mytweetsys.app.t00</td>\n",
       "      <td>None</td>\n",
       "      <td>None</td>\n",
       "      <td>Guck mal! job: Senior CRM Manager (m/w) bei Wi...</td>\n",
       "    </tr>\n",
       "    <tr>\n",
       "      <th>2</th>\n",
       "      <td>704000413834600452</td>\n",
       "      <td>1000523414</td>\n",
       "      <td>2016-02-28 17:49:13+00:00</td>\n",
       "      <td>704000413834600452</td>\n",
       "      <td>en</td>\n",
       "      <td>1</td>\n",
       "      <td>0</td>\n",
       "      <td>0</td>\n",
       "      <td>0</td>\n",
       "      <td>Twitter for iPhone</td>\n",
       "      <td>retweeted</td>\n",
       "      <td>703954164540379136</td>\n",
       "      <td>RT  Singapore is on the Way to a Cashless Soci...</td>\n",
       "    </tr>\n",
       "    <tr>\n",
       "      <th>3</th>\n",
       "      <td>703984392327266304</td>\n",
       "      <td>88195332</td>\n",
       "      <td>2016-02-28 16:45:33+00:00</td>\n",
       "      <td>703984392327266304</td>\n",
       "      <td>en</td>\n",
       "      <td>1</td>\n",
       "      <td>0</td>\n",
       "      <td>0</td>\n",
       "      <td>0</td>\n",
       "      <td>Twitter Web Client</td>\n",
       "      <td>retweeted</td>\n",
       "      <td>703944694225620993</td>\n",
       "      <td>RT  Investor-Update 26.02.16: Genworth Financi...</td>\n",
       "    </tr>\n",
       "    <tr>\n",
       "      <th>4</th>\n",
       "      <td>703954164540379136</td>\n",
       "      <td>42056054</td>\n",
       "      <td>2016-02-28 14:45:26+00:00</td>\n",
       "      <td>703954164540379136</td>\n",
       "      <td>en</td>\n",
       "      <td>1</td>\n",
       "      <td>0</td>\n",
       "      <td>1</td>\n",
       "      <td>0</td>\n",
       "      <td>Hootsuite</td>\n",
       "      <td>None</td>\n",
       "      <td>None</td>\n",
       "      <td>Singapore is on the Way to a Cashless Society:...</td>\n",
       "    </tr>\n",
       "  </tbody>\n",
       "</table>\n",
       "</div>"
      ],
      "text/plain": [
       "      conversation_id   author_id                created_at  \\\n",
       "0  704044765566930948    42056054 2016-02-28 20:45:27+00:00   \n",
       "1  704037775868358656  2992824844 2016-02-28 20:17:40+00:00   \n",
       "2  704000413834600452  1000523414 2016-02-28 17:49:13+00:00   \n",
       "3  703984392327266304    88195332 2016-02-28 16:45:33+00:00   \n",
       "4  703954164540379136    42056054 2016-02-28 14:45:26+00:00   \n",
       "\n",
       "             tweet_id lang  retweet_count  reply_count  like_count  \\\n",
       "0  704044765566930948   en              0            0           0   \n",
       "1  704037775868358656   de              0            0           0   \n",
       "2  704000413834600452   en              1            0           0   \n",
       "3  703984392327266304   en              1            0           0   \n",
       "4  703954164540379136   en              1            0           1   \n",
       "\n",
       "   quote_count                   source tweet_type referenced_tweet_id  \\\n",
       "0            0                Hootsuite       None                None   \n",
       "1            0  seed.mytweetsys.app.t00       None                None   \n",
       "2            0       Twitter for iPhone  retweeted  703954164540379136   \n",
       "3            0       Twitter Web Client  retweeted  703944694225620993   \n",
       "4            0                Hootsuite       None                None   \n",
       "\n",
       "                                                text  \n",
       "0  Cloud-based payment on HCE is a real gamechang...  \n",
       "1  Guck mal! job: Senior CRM Manager (m/w) bei Wi...  \n",
       "2  RT  Singapore is on the Way to a Cashless Soci...  \n",
       "3  RT  Investor-Update 26.02.16: Genworth Financi...  \n",
       "4  Singapore is on the Way to a Cashless Society:...  "
      ]
     },
     "execution_count": 16,
     "metadata": {},
     "output_type": "execute_result"
    }
   ],
   "source": [
    "df_wirecard.head()"
   ]
  },
  {
   "cell_type": "markdown",
   "id": "c8a12eb0-3bb1-4ce3-98ef-db42d57e83ff",
   "metadata": {},
   "source": [
    "<h3>Löschen von Retweets</h3>"
   ]
  },
  {
   "cell_type": "code",
   "execution_count": 17,
   "id": "e4fc93b0-f0b1-4d58-8278-2a746f4243bf",
   "metadata": {},
   "outputs": [
    {
     "name": "stdout",
     "output_type": "stream",
     "text": [
      "95717\n"
     ]
    }
   ],
   "source": [
    "counter = 0\n",
    "retweet_list = []\n",
    "for each in range(len(df_wirecard)):\n",
    "    if \"retweeted\" in df_wirecard.iloc[each][\"tweet_type\"]:\n",
    "        retweet_list.append(each)\n",
    "        counter += 1\n",
    "print(counter)\n",
    "df_wirecard = df_wirecard.drop(retweet_list)\n",
    "df_wirecard = df_wirecard.reset_index(drop=True)"
   ]
  },
  {
   "cell_type": "code",
   "execution_count": 18,
   "id": "150c5d23-f7b9-40bf-a6ee-9eee5407c96d",
   "metadata": {},
   "outputs": [
    {
     "data": {
      "text/plain": [
       "108471"
      ]
     },
     "execution_count": 18,
     "metadata": {},
     "output_type": "execute_result"
    }
   ],
   "source": [
    "len(df_wirecard)"
   ]
  },
  {
   "cell_type": "markdown",
   "id": "bd3a4a25-8180-4316-8f90-19876252faed",
   "metadata": {},
   "source": [
    "<h3>Löschen von doppelten Einträgen</h3>"
   ]
  },
  {
   "cell_type": "code",
   "execution_count": 19,
   "id": "0c828f16-d644-4bbb-874a-c7d36f934fa5",
   "metadata": {},
   "outputs": [],
   "source": [
    "df_wirecard = df_wirecard.drop_duplicates(subset=[\"tweet_id\"])\n",
    "df_wirecard = df_wirecard.reset_index(drop=True)"
   ]
  },
  {
   "cell_type": "code",
   "execution_count": 20,
   "id": "694ed578-e7da-4c77-9171-550c55d6c33c",
   "metadata": {},
   "outputs": [
    {
     "data": {
      "text/plain": [
       "108218"
      ]
     },
     "execution_count": 20,
     "metadata": {},
     "output_type": "execute_result"
    }
   ],
   "source": [
    "len(df_wirecard)"
   ]
  },
  {
   "cell_type": "code",
   "execution_count": 21,
   "id": "10f713d3-cf3f-4ed8-b607-bff2744d8ec6",
   "metadata": {
    "tags": []
   },
   "outputs": [
    {
     "data": {
      "text/html": [
       "<div>\n",
       "<style scoped>\n",
       "    .dataframe tbody tr th:only-of-type {\n",
       "        vertical-align: middle;\n",
       "    }\n",
       "\n",
       "    .dataframe tbody tr th {\n",
       "        vertical-align: top;\n",
       "    }\n",
       "\n",
       "    .dataframe thead th {\n",
       "        text-align: right;\n",
       "    }\n",
       "</style>\n",
       "<table border=\"1\" class=\"dataframe\">\n",
       "  <thead>\n",
       "    <tr style=\"text-align: right;\">\n",
       "      <th></th>\n",
       "      <th>conversation_id</th>\n",
       "      <th>author_id</th>\n",
       "      <th>created_at</th>\n",
       "      <th>tweet_id</th>\n",
       "      <th>lang</th>\n",
       "      <th>retweet_count</th>\n",
       "      <th>reply_count</th>\n",
       "      <th>like_count</th>\n",
       "      <th>quote_count</th>\n",
       "      <th>source</th>\n",
       "      <th>tweet_type</th>\n",
       "      <th>referenced_tweet_id</th>\n",
       "      <th>text</th>\n",
       "    </tr>\n",
       "  </thead>\n",
       "  <tbody>\n",
       "    <tr>\n",
       "      <th>0</th>\n",
       "      <td>704044765566930948</td>\n",
       "      <td>42056054</td>\n",
       "      <td>2016-02-28 20:45:27+00:00</td>\n",
       "      <td>704044765566930948</td>\n",
       "      <td>en</td>\n",
       "      <td>0</td>\n",
       "      <td>0</td>\n",
       "      <td>0</td>\n",
       "      <td>0</td>\n",
       "      <td>Hootsuite</td>\n",
       "      <td>None</td>\n",
       "      <td>None</td>\n",
       "      <td>Cloud-based payment on HCE is a real gamechang...</td>\n",
       "    </tr>\n",
       "    <tr>\n",
       "      <th>1</th>\n",
       "      <td>704037775868358656</td>\n",
       "      <td>2992824844</td>\n",
       "      <td>2016-02-28 20:17:40+00:00</td>\n",
       "      <td>704037775868358656</td>\n",
       "      <td>de</td>\n",
       "      <td>0</td>\n",
       "      <td>0</td>\n",
       "      <td>0</td>\n",
       "      <td>0</td>\n",
       "      <td>seed.mytweetsys.app.t00</td>\n",
       "      <td>None</td>\n",
       "      <td>None</td>\n",
       "      <td>Guck mal! job: Senior CRM Manager (m/w) bei Wi...</td>\n",
       "    </tr>\n",
       "    <tr>\n",
       "      <th>2</th>\n",
       "      <td>703954164540379136</td>\n",
       "      <td>42056054</td>\n",
       "      <td>2016-02-28 14:45:26+00:00</td>\n",
       "      <td>703954164540379136</td>\n",
       "      <td>en</td>\n",
       "      <td>1</td>\n",
       "      <td>0</td>\n",
       "      <td>1</td>\n",
       "      <td>0</td>\n",
       "      <td>Hootsuite</td>\n",
       "      <td>None</td>\n",
       "      <td>None</td>\n",
       "      <td>Singapore is on the Way to a Cashless Society:...</td>\n",
       "    </tr>\n",
       "    <tr>\n",
       "      <th>3</th>\n",
       "      <td>703944694225620993</td>\n",
       "      <td>2994748821</td>\n",
       "      <td>2016-02-28 14:07:48+00:00</td>\n",
       "      <td>703944694225620993</td>\n",
       "      <td>en</td>\n",
       "      <td>1</td>\n",
       "      <td>0</td>\n",
       "      <td>1</td>\n",
       "      <td>0</td>\n",
       "      <td>Twitter Web Client</td>\n",
       "      <td>None</td>\n",
       "      <td>None</td>\n",
       "      <td>Investor-Update 26.02.16: Genworth Financial, ...</td>\n",
       "    </tr>\n",
       "    <tr>\n",
       "      <th>4</th>\n",
       "      <td>703943082119553024</td>\n",
       "      <td>315887594</td>\n",
       "      <td>2016-02-28 14:01:24+00:00</td>\n",
       "      <td>703943082119553024</td>\n",
       "      <td>en</td>\n",
       "      <td>0</td>\n",
       "      <td>0</td>\n",
       "      <td>0</td>\n",
       "      <td>0</td>\n",
       "      <td>NetworkedBlogs</td>\n",
       "      <td>None</td>\n",
       "      <td>None</td>\n",
       "      <td>Investor-Update 26.02.16: Genworth Financial, ...</td>\n",
       "    </tr>\n",
       "  </tbody>\n",
       "</table>\n",
       "</div>"
      ],
      "text/plain": [
       "      conversation_id   author_id                created_at  \\\n",
       "0  704044765566930948    42056054 2016-02-28 20:45:27+00:00   \n",
       "1  704037775868358656  2992824844 2016-02-28 20:17:40+00:00   \n",
       "2  703954164540379136    42056054 2016-02-28 14:45:26+00:00   \n",
       "3  703944694225620993  2994748821 2016-02-28 14:07:48+00:00   \n",
       "4  703943082119553024   315887594 2016-02-28 14:01:24+00:00   \n",
       "\n",
       "             tweet_id lang  retweet_count  reply_count  like_count  \\\n",
       "0  704044765566930948   en              0            0           0   \n",
       "1  704037775868358656   de              0            0           0   \n",
       "2  703954164540379136   en              1            0           1   \n",
       "3  703944694225620993   en              1            0           1   \n",
       "4  703943082119553024   en              0            0           0   \n",
       "\n",
       "   quote_count                   source tweet_type referenced_tweet_id  \\\n",
       "0            0                Hootsuite       None                None   \n",
       "1            0  seed.mytweetsys.app.t00       None                None   \n",
       "2            0                Hootsuite       None                None   \n",
       "3            0       Twitter Web Client       None                None   \n",
       "4            0           NetworkedBlogs       None                None   \n",
       "\n",
       "                                                text  \n",
       "0  Cloud-based payment on HCE is a real gamechang...  \n",
       "1  Guck mal! job: Senior CRM Manager (m/w) bei Wi...  \n",
       "2  Singapore is on the Way to a Cashless Society:...  \n",
       "3  Investor-Update 26.02.16: Genworth Financial, ...  \n",
       "4  Investor-Update 26.02.16: Genworth Financial, ...  "
      ]
     },
     "execution_count": 21,
     "metadata": {},
     "output_type": "execute_result"
    }
   ],
   "source": [
    "df_wirecard.head()"
   ]
  },
  {
   "cell_type": "markdown",
   "id": "9ee7d13a-0b03-4c9f-b0d6-8f4299e3ef04",
   "metadata": {
    "tags": []
   },
   "source": [
    "<h2>Abfrage nach Chashtag Wirecard</h2>"
   ]
  },
  {
   "cell_type": "code",
   "execution_count": 22,
   "id": "20ce3d55-9fba-4ecf-bc99-0a56c5a877b1",
   "metadata": {},
   "outputs": [],
   "source": [
    "df_wrcdf = pd.read_csv(\"/Users/tobias/Dev/FOM/Master_Thesis/data/WRCDF_EN/data.csv\", sep=\";\", \n",
    "                            converters={\"tweet_type\": lambda x: x.strip(\"[]\").replace(\"'\", \"\").split(\", \"),\n",
    "                                        \"referenced_tweet_id\": lambda x: x.strip(\"[]\").replace(\"'\", \"\").split(\", \")},\n",
    "                           parse_dates=[\"created_at\"])\n",
    "df_wrcdf = df_wrcdf.explode([\"referenced_tweet_id\", \"tweet_type\"], ignore_index=True)\n"
   ]
  },
  {
   "cell_type": "code",
   "execution_count": 23,
   "id": "48c10287-6bb7-45e7-b872-737598a82975",
   "metadata": {},
   "outputs": [],
   "source": [
    "for each in range(len(df_wrcdf)):\n",
    "    df_wrcdf.loc[df_wrcdf[\"text\"] == \n",
    "                      df_wrcdf.loc[each][\"text\"], \"text\"] = re.sub(r'http\\S+', '', \n",
    "                                                                        (re.sub('@[^\\s]+', '',\n",
    "                                                                                re.sub('[#|$]', '', \n",
    "                                                                                       df_wrcdf.loc[each][\"text\"]))))"
   ]
  },
  {
   "cell_type": "code",
   "execution_count": 24,
   "id": "bb07469c-849d-467c-8b77-7e04d0b85b72",
   "metadata": {},
   "outputs": [
    {
     "data": {
      "text/plain": [
       "1260"
      ]
     },
     "execution_count": 24,
     "metadata": {},
     "output_type": "execute_result"
    }
   ],
   "source": [
    "len(df_wrcdf)"
   ]
  },
  {
   "cell_type": "markdown",
   "id": "181ecce0-933b-4073-adf2-b145a6f3a9c1",
   "metadata": {},
   "source": [
    "<h3>Löschen von Retweets</h3>"
   ]
  },
  {
   "cell_type": "code",
   "execution_count": 25,
   "id": "b6401d8c-151e-4f1a-b7f5-e52e1d267e47",
   "metadata": {},
   "outputs": [
    {
     "name": "stdout",
     "output_type": "stream",
     "text": [
      "250\n"
     ]
    }
   ],
   "source": [
    "counter = 0\n",
    "retweet_list = []\n",
    "for each in range(len(df_wrcdf)):\n",
    "    if \"retweeted\" in df_wrcdf.iloc[each][\"tweet_type\"]:\n",
    "        retweet_list.append(each)\n",
    "        counter += 1\n",
    "print(counter)\n",
    "df_wrcdf = df_wrcdf.drop(retweet_list)\n",
    "df_wrcdf = df_wrcdf.reset_index(drop=True)"
   ]
  },
  {
   "cell_type": "markdown",
   "id": "ad732ea1-75ce-47ad-a0c2-a5b3baa53a8f",
   "metadata": {},
   "source": [
    "<h3>Löschen von doppelten Tweets</h3>"
   ]
  },
  {
   "cell_type": "code",
   "execution_count": 26,
   "id": "287957b8-f3b3-4b95-ac71-aab5a92a2352",
   "metadata": {},
   "outputs": [],
   "source": [
    "df_wrcdf = df_wrcdf.drop_duplicates(subset=[\"tweet_id\"])\n",
    "df_wrcdf = df_wrcdf.reset_index(drop=True)"
   ]
  },
  {
   "cell_type": "code",
   "execution_count": 27,
   "id": "f5831d24-18b9-490e-9589-89f91710a2bc",
   "metadata": {},
   "outputs": [
    {
     "data": {
      "text/plain": [
       "1010"
      ]
     },
     "execution_count": 27,
     "metadata": {},
     "output_type": "execute_result"
    }
   ],
   "source": [
    "len(df_wrcdf)"
   ]
  },
  {
   "cell_type": "code",
   "execution_count": null,
   "id": "f62c513b-0e50-4904-9987-fa6318b61a69",
   "metadata": {},
   "outputs": [],
   "source": []
  },
  {
   "cell_type": "markdown",
   "id": "f269bdc2-f185-4241-9bbe-5a65d1c81ff7",
   "metadata": {
    "tags": []
   },
   "source": [
    "<h1>Zusammenführen der Datensätze</h1>"
   ]
  },
  {
   "cell_type": "code",
   "execution_count": 28,
   "id": "8634609f-954b-45e5-8ad7-3de434cf0a51",
   "metadata": {},
   "outputs": [],
   "source": [
    "list_data_frames = [df_manager, df_wirecard, df_wrcdf]\n",
    "df = pd.concat(list_data_frames, ignore_index=True)"
   ]
  },
  {
   "cell_type": "code",
   "execution_count": 29,
   "id": "5deafa18-29b4-483a-9039-95c5287134ec",
   "metadata": {},
   "outputs": [
    {
     "name": "stdout",
     "output_type": "stream",
     "text": [
      "8275\n",
      "108218\n",
      "1010\n",
      "117503\n",
      "117503\n"
     ]
    }
   ],
   "source": [
    "print(len(df_manager))\n",
    "print(len(df_wirecard))\n",
    "print(len(df_wrcdf))\n",
    "print(len(df_manager)+len(df_wirecard)+len(df_wrcdf))\n",
    "print(len(df))"
   ]
  },
  {
   "cell_type": "markdown",
   "id": "9d85d378-7b4d-4512-b582-b5f2d2808657",
   "metadata": {},
   "source": [
    "<h3>Löschen der doppelten Posts</h3>\n",
    "<p>Dadurch, dass die Abfrage durch mehrere Querys erfolgt ist, befinden sich einige Tweets doppelt in dem Datensatz. Diese werden hier anhand der <b>\"tweet_id\"</b> gelöscht. </p>"
   ]
  },
  {
   "cell_type": "code",
   "execution_count": 30,
   "id": "d084c4d1-97af-42f1-9943-401dc7e8dcba",
   "metadata": {},
   "outputs": [],
   "source": [
    "df = df.drop_duplicates(subset=[\"tweet_id\"])\n",
    "df = df.reset_index(drop=True)"
   ]
  },
  {
   "cell_type": "markdown",
   "id": "029735d3-5c63-4558-bea5-b8504e1eb5d4",
   "metadata": {},
   "source": [
    "<p>Der neue Datensatz wird auf plausibilität geprüft.</p>"
   ]
  },
  {
   "cell_type": "code",
   "execution_count": 31,
   "id": "57f10bff-6e38-428f-9547-86a46140cdfe",
   "metadata": {},
   "outputs": [
    {
     "name": "stdout",
     "output_type": "stream",
     "text": [
      "111199\n"
     ]
    }
   ],
   "source": [
    "print(len(df))"
   ]
  },
  {
   "cell_type": "code",
   "execution_count": 32,
   "id": "7362c1aa-6e06-468d-9547-43faa020f908",
   "metadata": {
    "tags": []
   },
   "outputs": [
    {
     "data": {
      "text/html": [
       "<div>\n",
       "<style scoped>\n",
       "    .dataframe tbody tr th:only-of-type {\n",
       "        vertical-align: middle;\n",
       "    }\n",
       "\n",
       "    .dataframe tbody tr th {\n",
       "        vertical-align: top;\n",
       "    }\n",
       "\n",
       "    .dataframe thead th {\n",
       "        text-align: right;\n",
       "    }\n",
       "</style>\n",
       "<table border=\"1\" class=\"dataframe\">\n",
       "  <thead>\n",
       "    <tr style=\"text-align: right;\">\n",
       "      <th></th>\n",
       "      <th>conversation_id</th>\n",
       "      <th>author_id</th>\n",
       "      <th>created_at</th>\n",
       "      <th>tweet_id</th>\n",
       "      <th>lang</th>\n",
       "      <th>retweet_count</th>\n",
       "      <th>reply_count</th>\n",
       "      <th>like_count</th>\n",
       "      <th>quote_count</th>\n",
       "      <th>source</th>\n",
       "      <th>tweet_type</th>\n",
       "      <th>referenced_tweet_id</th>\n",
       "      <th>text</th>\n",
       "    </tr>\n",
       "  </thead>\n",
       "  <tbody>\n",
       "    <tr>\n",
       "      <th>0</th>\n",
       "      <td>703142204341026818</td>\n",
       "      <td>349287204</td>\n",
       "      <td>2016-02-26 08:58:59+00:00</td>\n",
       "      <td>703142204341026818</td>\n",
       "      <td>en</td>\n",
       "      <td>0</td>\n",
       "      <td>0</td>\n",
       "      <td>1</td>\n",
       "      <td>0</td>\n",
       "      <td>Twitter Web Client</td>\n",
       "      <td>None</td>\n",
       "      <td>None</td>\n",
       "      <td>1/2 I see Wirecard is rebounding after CEO Mar...</td>\n",
       "    </tr>\n",
       "    <tr>\n",
       "      <th>1</th>\n",
       "      <td>695255175334924288</td>\n",
       "      <td>428593285</td>\n",
       "      <td>2016-02-04 14:38:45+00:00</td>\n",
       "      <td>695255175334924288</td>\n",
       "      <td>en</td>\n",
       "      <td>0</td>\n",
       "      <td>0</td>\n",
       "      <td>0</td>\n",
       "      <td>0</td>\n",
       "      <td>IFTTT</td>\n",
       "      <td>None</td>\n",
       "      <td>None</td>\n",
       "      <td>Thank you for following us Markus Braun!</td>\n",
       "    </tr>\n",
       "    <tr>\n",
       "      <th>2</th>\n",
       "      <td>695237701386244098</td>\n",
       "      <td>95129352</td>\n",
       "      <td>2016-02-04 13:29:19+00:00</td>\n",
       "      <td>695237701386244098</td>\n",
       "      <td>en</td>\n",
       "      <td>1</td>\n",
       "      <td>0</td>\n",
       "      <td>1</td>\n",
       "      <td>0</td>\n",
       "      <td>Twitter Web Client</td>\n",
       "      <td>None</td>\n",
       "      <td>None</td>\n",
       "      <td>Disrupt the Banks! (Jeff Stewart, Markus Braun...</td>\n",
       "    </tr>\n",
       "    <tr>\n",
       "      <th>3</th>\n",
       "      <td>718385114170966016</td>\n",
       "      <td>17616154</td>\n",
       "      <td>2016-04-08 10:28:52+00:00</td>\n",
       "      <td>718385114170966016</td>\n",
       "      <td>en</td>\n",
       "      <td>0</td>\n",
       "      <td>0</td>\n",
       "      <td>0</td>\n",
       "      <td>0</td>\n",
       "      <td>Twitter Web Client</td>\n",
       "      <td>None</td>\n",
       "      <td>None</td>\n",
       "      <td>WDI wirecard CEO Markus Braun on Q4 2015 Resul...</td>\n",
       "    </tr>\n",
       "    <tr>\n",
       "      <th>4</th>\n",
       "      <td>718384477215567873</td>\n",
       "      <td>546713</td>\n",
       "      <td>2016-04-08 10:26:20+00:00</td>\n",
       "      <td>718384477215567873</td>\n",
       "      <td>en</td>\n",
       "      <td>1</td>\n",
       "      <td>0</td>\n",
       "      <td>3</td>\n",
       "      <td>0</td>\n",
       "      <td>Twitter Web Client</td>\n",
       "      <td>None</td>\n",
       "      <td>None</td>\n",
       "      <td>Wirecard Analyst Call transcript is available ...</td>\n",
       "    </tr>\n",
       "  </tbody>\n",
       "</table>\n",
       "</div>"
      ],
      "text/plain": [
       "      conversation_id  author_id                created_at  \\\n",
       "0  703142204341026818  349287204 2016-02-26 08:58:59+00:00   \n",
       "1  695255175334924288  428593285 2016-02-04 14:38:45+00:00   \n",
       "2  695237701386244098   95129352 2016-02-04 13:29:19+00:00   \n",
       "3  718385114170966016   17616154 2016-04-08 10:28:52+00:00   \n",
       "4  718384477215567873     546713 2016-04-08 10:26:20+00:00   \n",
       "\n",
       "             tweet_id lang  retweet_count  reply_count  like_count  \\\n",
       "0  703142204341026818   en              0            0           1   \n",
       "1  695255175334924288   en              0            0           0   \n",
       "2  695237701386244098   en              1            0           1   \n",
       "3  718385114170966016   en              0            0           0   \n",
       "4  718384477215567873   en              1            0           3   \n",
       "\n",
       "   quote_count              source tweet_type referenced_tweet_id  \\\n",
       "0            0  Twitter Web Client       None                None   \n",
       "1            0               IFTTT       None                None   \n",
       "2            0  Twitter Web Client       None                None   \n",
       "3            0  Twitter Web Client       None                None   \n",
       "4            0  Twitter Web Client       None                None   \n",
       "\n",
       "                                                text  \n",
       "0  1/2 I see Wirecard is rebounding after CEO Mar...  \n",
       "1           Thank you for following us Markus Braun!  \n",
       "2  Disrupt the Banks! (Jeff Stewart, Markus Braun...  \n",
       "3  WDI wirecard CEO Markus Braun on Q4 2015 Resul...  \n",
       "4  Wirecard Analyst Call transcript is available ...  "
      ]
     },
     "execution_count": 32,
     "metadata": {},
     "output_type": "execute_result"
    }
   ],
   "source": [
    "df.head()"
   ]
  },
  {
   "cell_type": "code",
   "execution_count": 33,
   "id": "b504ae64-e57c-4c91-9927-0614a7cee30b",
   "metadata": {
    "tags": []
   },
   "outputs": [
    {
     "data": {
      "text/html": [
       "<div>\n",
       "<style scoped>\n",
       "    .dataframe tbody tr th:only-of-type {\n",
       "        vertical-align: middle;\n",
       "    }\n",
       "\n",
       "    .dataframe tbody tr th {\n",
       "        vertical-align: top;\n",
       "    }\n",
       "\n",
       "    .dataframe thead th {\n",
       "        text-align: right;\n",
       "    }\n",
       "</style>\n",
       "<table border=\"1\" class=\"dataframe\">\n",
       "  <thead>\n",
       "    <tr style=\"text-align: right;\">\n",
       "      <th></th>\n",
       "      <th>conversation_id</th>\n",
       "      <th>author_id</th>\n",
       "      <th>created_at</th>\n",
       "      <th>tweet_id</th>\n",
       "      <th>lang</th>\n",
       "      <th>retweet_count</th>\n",
       "      <th>reply_count</th>\n",
       "      <th>like_count</th>\n",
       "      <th>quote_count</th>\n",
       "      <th>source</th>\n",
       "      <th>tweet_type</th>\n",
       "      <th>referenced_tweet_id</th>\n",
       "      <th>text</th>\n",
       "    </tr>\n",
       "  </thead>\n",
       "  <tbody>\n",
       "    <tr>\n",
       "      <th>111194</th>\n",
       "      <td>1279541597009518592</td>\n",
       "      <td>121158213</td>\n",
       "      <td>2020-07-04 22:24:24+00:00</td>\n",
       "      <td>1279541597009518592</td>\n",
       "      <td>en</td>\n",
       "      <td>1</td>\n",
       "      <td>0</td>\n",
       "      <td>4</td>\n",
       "      <td>0</td>\n",
       "      <td>recurpost.com</td>\n",
       "      <td>None</td>\n",
       "      <td>None</td>\n",
       "      <td>㋡ GOOD QUESTION!!  ↳ Why are you paying to be ...</td>\n",
       "    </tr>\n",
       "    <tr>\n",
       "      <th>111195</th>\n",
       "      <td>1279525520535965696</td>\n",
       "      <td>36842372</td>\n",
       "      <td>2020-07-04 21:20:31+00:00</td>\n",
       "      <td>1279525520535965696</td>\n",
       "      <td>en</td>\n",
       "      <td>1</td>\n",
       "      <td>0</td>\n",
       "      <td>0</td>\n",
       "      <td>0</td>\n",
       "      <td>Twitter for iPhone</td>\n",
       "      <td>None</td>\n",
       "      <td>None</td>\n",
       "      <td>Would you invest in AMZN, MSFT,  WRCDF, HTZ or...</td>\n",
       "    </tr>\n",
       "    <tr>\n",
       "      <th>111196</th>\n",
       "      <td>1278331510291038215</td>\n",
       "      <td>1212530948</td>\n",
       "      <td>2020-07-04 14:35:50+00:00</td>\n",
       "      <td>1279423679735255042</td>\n",
       "      <td>en</td>\n",
       "      <td>0</td>\n",
       "      <td>0</td>\n",
       "      <td>0</td>\n",
       "      <td>0</td>\n",
       "      <td>Twitter Web App</td>\n",
       "      <td>replied_to</td>\n",
       "      <td>1278335952532975616</td>\n",
       "      <td>Is its symbol WRCDF?  Great run on SHOP.</td>\n",
       "    </tr>\n",
       "    <tr>\n",
       "      <th>111197</th>\n",
       "      <td>1278553462322671616</td>\n",
       "      <td>1235225464278573056</td>\n",
       "      <td>2020-07-02 04:57:54+00:00</td>\n",
       "      <td>1278553462322671616</td>\n",
       "      <td>en</td>\n",
       "      <td>0</td>\n",
       "      <td>0</td>\n",
       "      <td>2</td>\n",
       "      <td>0</td>\n",
       "      <td>Twitter Web App</td>\n",
       "      <td>None</td>\n",
       "      <td>None</td>\n",
       "      <td>pcg emerges from Chapter 11This will make a lo...</td>\n",
       "    </tr>\n",
       "    <tr>\n",
       "      <th>111198</th>\n",
       "      <td>1278303159455232001</td>\n",
       "      <td>121158213</td>\n",
       "      <td>2020-07-01 12:23:17+00:00</td>\n",
       "      <td>1278303159455232001</td>\n",
       "      <td>en</td>\n",
       "      <td>0</td>\n",
       "      <td>0</td>\n",
       "      <td>0</td>\n",
       "      <td>0</td>\n",
       "      <td>recurpost.com</td>\n",
       "      <td>None</td>\n",
       "      <td>None</td>\n",
       "      <td>㋡ GOOD QUESTION!!  ↳ Why are you paying to be ...</td>\n",
       "    </tr>\n",
       "  </tbody>\n",
       "</table>\n",
       "</div>"
      ],
      "text/plain": [
       "            conversation_id            author_id                created_at  \\\n",
       "111194  1279541597009518592            121158213 2020-07-04 22:24:24+00:00   \n",
       "111195  1279525520535965696             36842372 2020-07-04 21:20:31+00:00   \n",
       "111196  1278331510291038215           1212530948 2020-07-04 14:35:50+00:00   \n",
       "111197  1278553462322671616  1235225464278573056 2020-07-02 04:57:54+00:00   \n",
       "111198  1278303159455232001            121158213 2020-07-01 12:23:17+00:00   \n",
       "\n",
       "                   tweet_id lang  retweet_count  reply_count  like_count  \\\n",
       "111194  1279541597009518592   en              1            0           4   \n",
       "111195  1279525520535965696   en              1            0           0   \n",
       "111196  1279423679735255042   en              0            0           0   \n",
       "111197  1278553462322671616   en              0            0           2   \n",
       "111198  1278303159455232001   en              0            0           0   \n",
       "\n",
       "        quote_count              source  tweet_type  referenced_tweet_id  \\\n",
       "111194            0       recurpost.com        None                 None   \n",
       "111195            0  Twitter for iPhone        None                 None   \n",
       "111196            0     Twitter Web App  replied_to  1278335952532975616   \n",
       "111197            0     Twitter Web App        None                 None   \n",
       "111198            0       recurpost.com        None                 None   \n",
       "\n",
       "                                                     text  \n",
       "111194  ㋡ GOOD QUESTION!!  ↳ Why are you paying to be ...  \n",
       "111195  Would you invest in AMZN, MSFT,  WRCDF, HTZ or...  \n",
       "111196           Is its symbol WRCDF?  Great run on SHOP.  \n",
       "111197  pcg emerges from Chapter 11This will make a lo...  \n",
       "111198  ㋡ GOOD QUESTION!!  ↳ Why are you paying to be ...  "
      ]
     },
     "execution_count": 33,
     "metadata": {},
     "output_type": "execute_result"
    }
   ],
   "source": [
    "df.tail()"
   ]
  },
  {
   "cell_type": "markdown",
   "id": "b9feceb0-648e-4a1e-b206-496bfa02544a",
   "metadata": {},
   "source": [
    "<p><b>Fertig</b> mit der Vorverarbeitung der Daten in deutsch. Es ist nun ein Datensatz verfügbar mit allen Tweets für den deutschsprachigen Raum. Es sind keine doppelten Tweets enthalten, solange diese keine gleiche tweet_id enthalten. Auch Nutzer und tweets, die nichts zu dem eigentlichen Thema Wirecard beitragen sind nicht mehr im Datensatz enthalten. Vereinzelt können natürlich unnütze Tweets vorhanden sein, aber die Nutzer mit vielen Interaktionen sind überprüft und auch die Begriffe, die besonders oft vorkommen sind überprüft worden, ob diese etwas mit dem Thema zu tun haben.<br>Jetzt muss das gleich noch mit den Englischen tweets geschehen und dann müssen Datensätze zur Überprüfung ausgegeben werden.<br> Um den zufälligen Datensatz zu erstellen sollte ich noch einen zufallszahlengenerator nutzen, sodass ich möglichst zufällige Tweets zum testen erhalte. Hier scheint die Pandas Funktion <b>\"sample\"</b> gut geeignet zu sein. </p>"
   ]
  },
  {
   "cell_type": "code",
   "execution_count": 34,
   "id": "a19ee6d9-7ec6-4e20-a1a6-462df3bbbbb7",
   "metadata": {
    "tags": []
   },
   "outputs": [
    {
     "data": {
      "text/html": [
       "<div>\n",
       "<style scoped>\n",
       "    .dataframe tbody tr th:only-of-type {\n",
       "        vertical-align: middle;\n",
       "    }\n",
       "\n",
       "    .dataframe tbody tr th {\n",
       "        vertical-align: top;\n",
       "    }\n",
       "\n",
       "    .dataframe thead th {\n",
       "        text-align: right;\n",
       "    }\n",
       "</style>\n",
       "<table border=\"1\" class=\"dataframe\">\n",
       "  <thead>\n",
       "    <tr style=\"text-align: right;\">\n",
       "      <th></th>\n",
       "      <th>conversation_id</th>\n",
       "      <th>author_id</th>\n",
       "      <th>created_at</th>\n",
       "      <th>tweet_id</th>\n",
       "      <th>lang</th>\n",
       "      <th>retweet_count</th>\n",
       "      <th>reply_count</th>\n",
       "      <th>like_count</th>\n",
       "      <th>quote_count</th>\n",
       "      <th>source</th>\n",
       "      <th>tweet_type</th>\n",
       "      <th>referenced_tweet_id</th>\n",
       "      <th>text</th>\n",
       "    </tr>\n",
       "  </thead>\n",
       "  <tbody>\n",
       "    <tr>\n",
       "      <th>86891</th>\n",
       "      <td>1273985628712157185</td>\n",
       "      <td>1550350116</td>\n",
       "      <td>2020-06-19 14:26:58+00:00</td>\n",
       "      <td>1273985628712157185</td>\n",
       "      <td>en</td>\n",
       "      <td>0</td>\n",
       "      <td>0</td>\n",
       "      <td>0</td>\n",
       "      <td>0</td>\n",
       "      <td>TheOfficialBoard</td>\n",
       "      <td>None</td>\n",
       "      <td>None</td>\n",
       "      <td>WireCard - James Freis has joined the company ...</td>\n",
       "    </tr>\n",
       "    <tr>\n",
       "      <th>23990</th>\n",
       "      <td>964197782876839936</td>\n",
       "      <td>42056054</td>\n",
       "      <td>2018-02-15 18:00:40+00:00</td>\n",
       "      <td>964197782876839936</td>\n",
       "      <td>en</td>\n",
       "      <td>2</td>\n",
       "      <td>0</td>\n",
       "      <td>3</td>\n",
       "      <td>0</td>\n",
       "      <td>Agorapulse app</td>\n",
       "      <td>None</td>\n",
       "      <td>None</td>\n",
       "      <td>“We use data-driven, innovative technologies s...</td>\n",
       "    </tr>\n",
       "    <tr>\n",
       "      <th>60937</th>\n",
       "      <td>1276706720220434432</td>\n",
       "      <td>15709952</td>\n",
       "      <td>2020-06-29 00:09:00+00:00</td>\n",
       "      <td>1277393595109179392</td>\n",
       "      <td>en</td>\n",
       "      <td>0</td>\n",
       "      <td>1</td>\n",
       "      <td>0</td>\n",
       "      <td>0</td>\n",
       "      <td>Conversocial</td>\n",
       "      <td>replied_to</td>\n",
       "      <td>1276722635179786241</td>\n",
       "      <td>Hello,We understand your worry. Please know y...</td>\n",
       "    </tr>\n",
       "    <tr>\n",
       "      <th>90399</th>\n",
       "      <td>1273599943714930690</td>\n",
       "      <td>847825666049527809</td>\n",
       "      <td>2020-06-18 12:54:23+00:00</td>\n",
       "      <td>1273599943714930690</td>\n",
       "      <td>en</td>\n",
       "      <td>0</td>\n",
       "      <td>1</td>\n",
       "      <td>1</td>\n",
       "      <td>0</td>\n",
       "      <td>Twitter Web App</td>\n",
       "      <td>None</td>\n",
       "      <td>None</td>\n",
       "      <td>Dear Ladies and Gentlemen,Given today's announ...</td>\n",
       "    </tr>\n",
       "    <tr>\n",
       "      <th>98488</th>\n",
       "      <td>1284805802532970497</td>\n",
       "      <td>788776883533914112</td>\n",
       "      <td>2020-07-19 11:02:28+00:00</td>\n",
       "      <td>1284805802532970497</td>\n",
       "      <td>en</td>\n",
       "      <td>0</td>\n",
       "      <td>0</td>\n",
       "      <td>0</td>\n",
       "      <td>0</td>\n",
       "      <td>Germany News App</td>\n",
       "      <td>None</td>\n",
       "      <td>None</td>\n",
       "      <td>German Finance Watchdog Defends Agency Amid Wi...</td>\n",
       "    </tr>\n",
       "    <tr>\n",
       "      <th>38776</th>\n",
       "      <td>1119004275500253187</td>\n",
       "      <td>223238349</td>\n",
       "      <td>2019-04-19 18:19:38+00:00</td>\n",
       "      <td>1119304563863908352</td>\n",
       "      <td>en</td>\n",
       "      <td>0</td>\n",
       "      <td>0</td>\n",
       "      <td>2</td>\n",
       "      <td>0</td>\n",
       "      <td>Twitter for iPhone</td>\n",
       "      <td>replied_to</td>\n",
       "      <td>1119304157360476160</td>\n",
       "      <td>The  wont stop for the the people who want...</td>\n",
       "    </tr>\n",
       "    <tr>\n",
       "      <th>51426</th>\n",
       "      <td>1225006705324503040</td>\n",
       "      <td>1019946738</td>\n",
       "      <td>2020-02-05 10:42:12+00:00</td>\n",
       "      <td>1225006705324503040</td>\n",
       "      <td>en</td>\n",
       "      <td>0</td>\n",
       "      <td>0</td>\n",
       "      <td>0</td>\n",
       "      <td>0</td>\n",
       "      <td>LinkedIn</td>\n",
       "      <td>None</td>\n",
       "      <td>None</td>\n",
       "      <td>Session yesterday on digitizing end-to-end onb...</td>\n",
       "    </tr>\n",
       "    <tr>\n",
       "      <th>86236</th>\n",
       "      <td>1274059527374200832</td>\n",
       "      <td>3897627953</td>\n",
       "      <td>2020-06-19 19:20:36+00:00</td>\n",
       "      <td>1274059527374200832</td>\n",
       "      <td>en</td>\n",
       "      <td>0</td>\n",
       "      <td>0</td>\n",
       "      <td>1</td>\n",
       "      <td>0</td>\n",
       "      <td>Twitter Web App</td>\n",
       "      <td>None</td>\n",
       "      <td>None</td>\n",
       "      <td>I just watched two seasons of Bad Banks on Net...</td>\n",
       "    </tr>\n",
       "    <tr>\n",
       "      <th>41919</th>\n",
       "      <td>1140552074549190656</td>\n",
       "      <td>14146817</td>\n",
       "      <td>2019-06-17 09:29:39+00:00</td>\n",
       "      <td>1140552074549190656</td>\n",
       "      <td>en</td>\n",
       "      <td>0</td>\n",
       "      <td>0</td>\n",
       "      <td>0</td>\n",
       "      <td>0</td>\n",
       "      <td>Microsoft Power Platform</td>\n",
       "      <td>None</td>\n",
       "      <td>None</td>\n",
       "      <td>Wirecard, the global innovation leader for dig...</td>\n",
       "    </tr>\n",
       "    <tr>\n",
       "      <th>109600</th>\n",
       "      <td>1278372207488651271</td>\n",
       "      <td>18949452</td>\n",
       "      <td>2020-07-01 16:57:39+00:00</td>\n",
       "      <td>1278372207488651271</td>\n",
       "      <td>en</td>\n",
       "      <td>8</td>\n",
       "      <td>9</td>\n",
       "      <td>8</td>\n",
       "      <td>3</td>\n",
       "      <td>SocialFlow</td>\n",
       "      <td>None</td>\n",
       "      <td>None</td>\n",
       "      <td>Head of German financial watchdog defends agen...</td>\n",
       "    </tr>\n",
       "    <tr>\n",
       "      <th>15228</th>\n",
       "      <td>798950536644964353</td>\n",
       "      <td>183358491</td>\n",
       "      <td>2016-11-16 18:07:06+00:00</td>\n",
       "      <td>798950536644964353</td>\n",
       "      <td>en</td>\n",
       "      <td>1</td>\n",
       "      <td>0</td>\n",
       "      <td>0</td>\n",
       "      <td>0</td>\n",
       "      <td>Buffer</td>\n",
       "      <td>None</td>\n",
       "      <td>None</td>\n",
       "      <td>Britain's hottest fintech startups depend on G...</td>\n",
       "    </tr>\n",
       "    <tr>\n",
       "      <th>108236</th>\n",
       "      <td>1278751043464187917</td>\n",
       "      <td>34713362</td>\n",
       "      <td>2020-07-02 18:03:01+00:00</td>\n",
       "      <td>1278751043464187917</td>\n",
       "      <td>en</td>\n",
       "      <td>22</td>\n",
       "      <td>3</td>\n",
       "      <td>41</td>\n",
       "      <td>1</td>\n",
       "      <td>SocialFlow</td>\n",
       "      <td>None</td>\n",
       "      <td>None</td>\n",
       "      <td>Germany’s top financial watchdog said authorit...</td>\n",
       "    </tr>\n",
       "    <tr>\n",
       "      <th>79252</th>\n",
       "      <td>1275339179107536898</td>\n",
       "      <td>1151127566578855936</td>\n",
       "      <td>2020-06-23 08:19:26+00:00</td>\n",
       "      <td>1275342689265909761</td>\n",
       "      <td>en</td>\n",
       "      <td>0</td>\n",
       "      <td>1</td>\n",
       "      <td>0</td>\n",
       "      <td>0</td>\n",
       "      <td>Twitter Web App</td>\n",
       "      <td>replied_to</td>\n",
       "      <td>1275340210394578944</td>\n",
       "      <td>*Wirecard Shares Trade 12% Higher</td>\n",
       "    </tr>\n",
       "    <tr>\n",
       "      <th>69800</th>\n",
       "      <td>1276446668045484032</td>\n",
       "      <td>391769437</td>\n",
       "      <td>2020-06-26 10:21:14+00:00</td>\n",
       "      <td>1276460505339588608</td>\n",
       "      <td>en</td>\n",
       "      <td>0</td>\n",
       "      <td>1</td>\n",
       "      <td>10</td>\n",
       "      <td>1</td>\n",
       "      <td>Twitter Web App</td>\n",
       "      <td>replied_to</td>\n",
       "      <td>1276450191936114688</td>\n",
       "      <td>Guevarra says the German govt has not requeste...</td>\n",
       "    </tr>\n",
       "    <tr>\n",
       "      <th>21959</th>\n",
       "      <td>934044181131157504</td>\n",
       "      <td>331933526</td>\n",
       "      <td>2017-11-24 13:01:01+00:00</td>\n",
       "      <td>934044181131157504</td>\n",
       "      <td>en</td>\n",
       "      <td>0</td>\n",
       "      <td>0</td>\n",
       "      <td>0</td>\n",
       "      <td>0</td>\n",
       "      <td>IFTTT</td>\n",
       "      <td>None</td>\n",
       "      <td>None</td>\n",
       "      <td>Wirecard Gains Andaz Luxury Hotel by Hyatt Cor...</td>\n",
       "    </tr>\n",
       "    <tr>\n",
       "      <th>44524</th>\n",
       "      <td>1171016273494511617</td>\n",
       "      <td>960403142197248000</td>\n",
       "      <td>2019-09-09 11:03:30+00:00</td>\n",
       "      <td>1171016273494511617</td>\n",
       "      <td>en</td>\n",
       "      <td>0</td>\n",
       "      <td>0</td>\n",
       "      <td>0</td>\n",
       "      <td>0</td>\n",
       "      <td>Facebook</td>\n",
       "      <td>None</td>\n",
       "      <td>None</td>\n",
       "      <td>Wirecard, the global innovation leader in digi...</td>\n",
       "    </tr>\n",
       "    <tr>\n",
       "      <th>79168</th>\n",
       "      <td>1275348004715692032</td>\n",
       "      <td>221486871</td>\n",
       "      <td>2020-06-23 08:40:33+00:00</td>\n",
       "      <td>1275348004715692032</td>\n",
       "      <td>en</td>\n",
       "      <td>0</td>\n",
       "      <td>0</td>\n",
       "      <td>0</td>\n",
       "      <td>0</td>\n",
       "      <td>dlvr.it</td>\n",
       "      <td>None</td>\n",
       "      <td>None</td>\n",
       "      <td>Ex-CEO of Wirecard arrested in case over missi...</td>\n",
       "    </tr>\n",
       "    <tr>\n",
       "      <th>108366</th>\n",
       "      <td>1278723241075372033</td>\n",
       "      <td>715009219934691328</td>\n",
       "      <td>2020-07-02 16:12:32+00:00</td>\n",
       "      <td>1278723241075372033</td>\n",
       "      <td>en</td>\n",
       "      <td>0</td>\n",
       "      <td>0</td>\n",
       "      <td>0</td>\n",
       "      <td>0</td>\n",
       "      <td>dlvr.it</td>\n",
       "      <td>None</td>\n",
       "      <td>None</td>\n",
       "      <td>Money Stuff: Free Wirecard Money Costs SoftBank</td>\n",
       "    </tr>\n",
       "    <tr>\n",
       "      <th>24143</th>\n",
       "      <td>961305212790112256</td>\n",
       "      <td>17893558</td>\n",
       "      <td>2018-02-07 18:26:37+00:00</td>\n",
       "      <td>961305212790112256</td>\n",
       "      <td>en</td>\n",
       "      <td>1</td>\n",
       "      <td>1</td>\n",
       "      <td>6</td>\n",
       "      <td>2</td>\n",
       "      <td>Twitter Web Client</td>\n",
       "      <td>quoted</td>\n",
       "      <td>806582458384715776</td>\n",
       "      <td>Marc Cohodes' pal Fraser Perring   research ha...</td>\n",
       "    </tr>\n",
       "    <tr>\n",
       "      <th>43976</th>\n",
       "      <td>1175739563555414016</td>\n",
       "      <td>565832571</td>\n",
       "      <td>2019-09-23 10:16:38+00:00</td>\n",
       "      <td>1176077906482737152</td>\n",
       "      <td>en</td>\n",
       "      <td>0</td>\n",
       "      <td>0</td>\n",
       "      <td>0</td>\n",
       "      <td>0</td>\n",
       "      <td>Twitter Web App</td>\n",
       "      <td>replied_to</td>\n",
       "      <td>1176075915962589187</td>\n",
       "      <td>You have perfectly prooved my point kid. th...</td>\n",
       "    </tr>\n",
       "  </tbody>\n",
       "</table>\n",
       "</div>"
      ],
      "text/plain": [
       "            conversation_id            author_id                created_at  \\\n",
       "86891   1273985628712157185           1550350116 2020-06-19 14:26:58+00:00   \n",
       "23990    964197782876839936             42056054 2018-02-15 18:00:40+00:00   \n",
       "60937   1276706720220434432             15709952 2020-06-29 00:09:00+00:00   \n",
       "90399   1273599943714930690   847825666049527809 2020-06-18 12:54:23+00:00   \n",
       "98488   1284805802532970497   788776883533914112 2020-07-19 11:02:28+00:00   \n",
       "38776   1119004275500253187            223238349 2019-04-19 18:19:38+00:00   \n",
       "51426   1225006705324503040           1019946738 2020-02-05 10:42:12+00:00   \n",
       "86236   1274059527374200832           3897627953 2020-06-19 19:20:36+00:00   \n",
       "41919   1140552074549190656             14146817 2019-06-17 09:29:39+00:00   \n",
       "109600  1278372207488651271             18949452 2020-07-01 16:57:39+00:00   \n",
       "15228    798950536644964353            183358491 2016-11-16 18:07:06+00:00   \n",
       "108236  1278751043464187917             34713362 2020-07-02 18:03:01+00:00   \n",
       "79252   1275339179107536898  1151127566578855936 2020-06-23 08:19:26+00:00   \n",
       "69800   1276446668045484032            391769437 2020-06-26 10:21:14+00:00   \n",
       "21959    934044181131157504            331933526 2017-11-24 13:01:01+00:00   \n",
       "44524   1171016273494511617   960403142197248000 2019-09-09 11:03:30+00:00   \n",
       "79168   1275348004715692032            221486871 2020-06-23 08:40:33+00:00   \n",
       "108366  1278723241075372033   715009219934691328 2020-07-02 16:12:32+00:00   \n",
       "24143    961305212790112256             17893558 2018-02-07 18:26:37+00:00   \n",
       "43976   1175739563555414016            565832571 2019-09-23 10:16:38+00:00   \n",
       "\n",
       "                   tweet_id lang  retweet_count  reply_count  like_count  \\\n",
       "86891   1273985628712157185   en              0            0           0   \n",
       "23990    964197782876839936   en              2            0           3   \n",
       "60937   1277393595109179392   en              0            1           0   \n",
       "90399   1273599943714930690   en              0            1           1   \n",
       "98488   1284805802532970497   en              0            0           0   \n",
       "38776   1119304563863908352   en              0            0           2   \n",
       "51426   1225006705324503040   en              0            0           0   \n",
       "86236   1274059527374200832   en              0            0           1   \n",
       "41919   1140552074549190656   en              0            0           0   \n",
       "109600  1278372207488651271   en              8            9           8   \n",
       "15228    798950536644964353   en              1            0           0   \n",
       "108236  1278751043464187917   en             22            3          41   \n",
       "79252   1275342689265909761   en              0            1           0   \n",
       "69800   1276460505339588608   en              0            1          10   \n",
       "21959    934044181131157504   en              0            0           0   \n",
       "44524   1171016273494511617   en              0            0           0   \n",
       "79168   1275348004715692032   en              0            0           0   \n",
       "108366  1278723241075372033   en              0            0           0   \n",
       "24143    961305212790112256   en              1            1           6   \n",
       "43976   1176077906482737152   en              0            0           0   \n",
       "\n",
       "        quote_count                    source  tweet_type  \\\n",
       "86891             0          TheOfficialBoard        None   \n",
       "23990             0            Agorapulse app        None   \n",
       "60937             0              Conversocial  replied_to   \n",
       "90399             0           Twitter Web App        None   \n",
       "98488             0          Germany News App        None   \n",
       "38776             0        Twitter for iPhone  replied_to   \n",
       "51426             0                  LinkedIn        None   \n",
       "86236             0           Twitter Web App        None   \n",
       "41919             0  Microsoft Power Platform        None   \n",
       "109600            3                SocialFlow        None   \n",
       "15228             0                    Buffer        None   \n",
       "108236            1                SocialFlow        None   \n",
       "79252             0           Twitter Web App  replied_to   \n",
       "69800             1           Twitter Web App  replied_to   \n",
       "21959             0                     IFTTT        None   \n",
       "44524             0                  Facebook        None   \n",
       "79168             0                   dlvr.it        None   \n",
       "108366            0                   dlvr.it        None   \n",
       "24143             2        Twitter Web Client      quoted   \n",
       "43976             0           Twitter Web App  replied_to   \n",
       "\n",
       "        referenced_tweet_id                                               text  \n",
       "86891                  None  WireCard - James Freis has joined the company ...  \n",
       "23990                  None  “We use data-driven, innovative technologies s...  \n",
       "60937   1276722635179786241   Hello,We understand your worry. Please know y...  \n",
       "90399                  None  Dear Ladies and Gentlemen,Given today's announ...  \n",
       "98488                  None  German Finance Watchdog Defends Agency Amid Wi...  \n",
       "38776   1119304157360476160      The  wont stop for the the people who want...  \n",
       "51426                  None  Session yesterday on digitizing end-to-end onb...  \n",
       "86236                  None  I just watched two seasons of Bad Banks on Net...  \n",
       "41919                  None  Wirecard, the global innovation leader for dig...  \n",
       "109600                 None  Head of German financial watchdog defends agen...  \n",
       "15228                  None  Britain's hottest fintech startups depend on G...  \n",
       "108236                 None  Germany’s top financial watchdog said authorit...  \n",
       "79252   1275340210394578944                  *Wirecard Shares Trade 12% Higher  \n",
       "69800   1276450191936114688  Guevarra says the German govt has not requeste...  \n",
       "21959                  None  Wirecard Gains Andaz Luxury Hotel by Hyatt Cor...  \n",
       "44524                  None  Wirecard, the global innovation leader in digi...  \n",
       "79168                  None  Ex-CEO of Wirecard arrested in case over missi...  \n",
       "108366                 None   Money Stuff: Free Wirecard Money Costs SoftBank   \n",
       "24143    806582458384715776  Marc Cohodes' pal Fraser Perring   research ha...  \n",
       "43976   1176075915962589187     You have perfectly prooved my point kid. th...  "
      ]
     },
     "execution_count": 34,
     "metadata": {},
     "output_type": "execute_result"
    }
   ],
   "source": [
    "df.sample(n = 20)"
   ]
  },
  {
   "cell_type": "code",
   "execution_count": 35,
   "id": "2729d68b-6805-43b8-9a46-2d633a9a953a",
   "metadata": {},
   "outputs": [
    {
     "data": {
      "text/plain": [
       "'“We use data-driven, innovative technologies so our clients can remove barriers between themselves and their customers.” This is WirecardUSA.    '"
      ]
     },
     "execution_count": 35,
     "metadata": {},
     "output_type": "execute_result"
    }
   ],
   "source": [
    "df.loc[df[\"tweet_id\"] == 964197782876839936][\"text\"].values[0]"
   ]
  },
  {
   "cell_type": "markdown",
   "id": "fcc4868f-5226-499e-a4f1-ec1090731c70",
   "metadata": {},
   "source": [
    "<h2>Finalen Datensatz als CSV ausgeben.</h2>"
   ]
  },
  {
   "cell_type": "code",
   "execution_count": 36,
   "id": "7f516bc4-b923-4c1c-aa84-47fbd58974a7",
   "metadata": {},
   "outputs": [],
   "source": [
    "df.to_csv('Dataset_Wirecard.csv', sep=';', index=False)"
   ]
  },
  {
   "cell_type": "markdown",
   "id": "331f7e57-671e-451c-a3eb-98ffc68393a5",
   "metadata": {},
   "source": [
    "<h2>Erstellen der CSV zur Überprüfung der Sentiment Ergebnisse</h2>"
   ]
  },
  {
   "cell_type": "code",
   "execution_count": 37,
   "id": "61f530a2-77d3-443d-8889-0e2a69382ad4",
   "metadata": {},
   "outputs": [
    {
     "data": {
      "text/html": [
       "<div>\n",
       "<style scoped>\n",
       "    .dataframe tbody tr th:only-of-type {\n",
       "        vertical-align: middle;\n",
       "    }\n",
       "\n",
       "    .dataframe tbody tr th {\n",
       "        vertical-align: top;\n",
       "    }\n",
       "\n",
       "    .dataframe thead th {\n",
       "        text-align: right;\n",
       "    }\n",
       "</style>\n",
       "<table border=\"1\" class=\"dataframe\">\n",
       "  <thead>\n",
       "    <tr style=\"text-align: right;\">\n",
       "      <th></th>\n",
       "      <th>tweet_id</th>\n",
       "      <th>text</th>\n",
       "    </tr>\n",
       "  </thead>\n",
       "  <tbody>\n",
       "    <tr>\n",
       "      <th>39369</th>\n",
       "      <td>1117842623081922563</td>\n",
       "      <td>. VP of Strategic Partnerships and Marketing K...</td>\n",
       "    </tr>\n",
       "    <tr>\n",
       "      <th>101963</th>\n",
       "      <td>1281650512375558145</td>\n",
       "      <td>Dichiarazione di Eidoo sull’insolvenza di Wire...</td>\n",
       "    </tr>\n",
       "    <tr>\n",
       "      <th>20305</th>\n",
       "      <td>898496713626968064</td>\n",
       "      <td>Investmentidee: Wirecard (Heiko Geiger)</td>\n",
       "    </tr>\n",
       "    <tr>\n",
       "      <th>2021</th>\n",
       "      <td>1183946652874399744</td>\n",
       "      <td>Tell it to catalan people!</td>\n",
       "    </tr>\n",
       "    <tr>\n",
       "      <th>11695</th>\n",
       "      <td>746967334686842880</td>\n",
       "      <td>Foreign media: Alibaba ready to invest in the ...</td>\n",
       "    </tr>\n",
       "    <tr>\n",
       "      <th>23718</th>\n",
       "      <td>968544515517829120</td>\n",
       "      <td>mobile payment and loyalty app AllianzPrime - ...</td>\n",
       "    </tr>\n",
       "    <tr>\n",
       "      <th>57341</th>\n",
       "      <td>1257043963686649856</td>\n",
       "      <td>15/        This is not a forensic analysis, bu...</td>\n",
       "    </tr>\n",
       "    <tr>\n",
       "      <th>41100</th>\n",
       "      <td>1126781428673536000</td>\n",
       "      <td>Job Stellenangebot  - Wirecard Bank AG: Applic...</td>\n",
       "    </tr>\n",
       "    <tr>\n",
       "      <th>109095</th>\n",
       "      <td>1278550207571976197</td>\n",
       "      <td>Now that  has filed for insolvency, one can’t ...</td>\n",
       "    </tr>\n",
       "    <tr>\n",
       "      <th>81144</th>\n",
       "      <td>1275064630142894080</td>\n",
       "      <td>Financial Daily Dose 6.22.2020  Top Story: In ...</td>\n",
       "    </tr>\n",
       "  </tbody>\n",
       "</table>\n",
       "</div>"
      ],
      "text/plain": [
       "                   tweet_id                                               text\n",
       "39369   1117842623081922563  . VP of Strategic Partnerships and Marketing K...\n",
       "101963  1281650512375558145  Dichiarazione di Eidoo sull’insolvenza di Wire...\n",
       "20305    898496713626968064           Investmentidee: Wirecard (Heiko Geiger) \n",
       "2021    1183946652874399744                         Tell it to catalan people!\n",
       "11695    746967334686842880  Foreign media: Alibaba ready to invest in the ...\n",
       "23718    968544515517829120  mobile payment and loyalty app AllianzPrime - ...\n",
       "57341   1257043963686649856  15/        This is not a forensic analysis, bu...\n",
       "41100   1126781428673536000  Job Stellenangebot  - Wirecard Bank AG: Applic...\n",
       "109095  1278550207571976197  Now that  has filed for insolvency, one can’t ...\n",
       "81144   1275064630142894080  Financial Daily Dose 6.22.2020  Top Story: In ..."
      ]
     },
     "execution_count": 37,
     "metadata": {},
     "output_type": "execute_result"
    }
   ],
   "source": [
    "df.sample(n=10)[[\"tweet_id\", \"text\"]]"
   ]
  },
  {
   "cell_type": "code",
   "execution_count": 39,
   "id": "f44c9062-f71d-458f-b282-2a25ed42aba1",
   "metadata": {},
   "outputs": [
    {
     "name": "stdout",
     "output_type": "stream",
     "text": [
      "Start bei 0 und ende bei 99. Name der Datei: en_validation_0.csv\n",
      "Start bei 100 und ende bei 199. Name der Datei: en_validation_1.csv\n",
      "Start bei 200 und ende bei 299. Name der Datei: en_validation_2.csv\n",
      "Start bei 300 und ende bei 399. Name der Datei: en_validation_3.csv\n",
      "Start bei 400 und ende bei 499. Name der Datei: en_validation_4.csv\n",
      "Start bei 500 und ende bei 599. Name der Datei: en_validation_5.csv\n",
      "Start bei 600 und ende bei 699. Name der Datei: en_validation_6.csv\n",
      "Start bei 700 und ende bei 799. Name der Datei: en_validation_7.csv\n",
      "Start bei 800 und ende bei 899. Name der Datei: en_validation_8.csv\n",
      "Start bei 900 und ende bei 999. Name der Datei: en_validation_9.csv\n",
      "Start bei 1000 und ende bei 1099. Name der Datei: en_validation_10.csv\n",
      "Start bei 1100 und ende bei 1199. Name der Datei: en_validation_11.csv\n",
      "Start bei 1200 und ende bei 1299. Name der Datei: en_validation_12.csv\n",
      "Start bei 1300 und ende bei 1399. Name der Datei: en_validation_13.csv\n",
      "Start bei 1400 und ende bei 1499. Name der Datei: en_validation_14.csv\n"
     ]
    }
   ],
   "source": [
    "df_sentiment_validation = df.sample(n = 1500)[[\"tweet_id\", \"text\"]]\n",
    "batch = 14\n",
    "counter = 0 \n",
    "for batch in range(0,15):\n",
    "    start = 100*batch\n",
    "    end = 100*batch+99\n",
    "    csv_name = 'en_validation_{count}.csv'.format(count=batch)\n",
    "    df_sentiment_validation.iloc[start:end].to_csv(csv_name, sep=';', index=False)\n",
    "    print(\"Start bei {start} und ende bei {ende}. Name der Datei: {csv}\".format(start=start, ende=end, csv=csv_name))"
   ]
  },
  {
   "cell_type": "markdown",
   "id": "5cfab36a-8fad-43cc-a7e5-b8f3239a6ec2",
   "metadata": {
    "jp-MarkdownHeadingCollapsed": true,
    "tags": []
   },
   "source": [
    "<h1>Check User</h1>\n",
    "<p>Im Englischen Datensatz wurde dies nur zur Überprüfung genutzt. Es gabe keine Nutzer mehr, die keinen Beitrag zum Thema geleistet haben</p>"
   ]
  },
  {
   "cell_type": "markdown",
   "id": "7c0ebd00-b580-4410-be8a-297601507e61",
   "metadata": {},
   "source": [
    "<p>Laden der Daten</p>"
   ]
  },
  {
   "cell_type": "code",
   "execution_count": null,
   "id": "70cf7104-4b24-42f9-aef6-36f60d9bbc6e",
   "metadata": {},
   "outputs": [],
   "source": [
    "df_user = pd.read_csv(\"/Users/tobias/Dev/FOM/Master_Thesis/data/Manager_EN/user.csv\", sep=\";\")"
   ]
  },
  {
   "cell_type": "markdown",
   "id": "b4bea9f6-4aab-4448-a5ce-e4e02cd9ee80",
   "metadata": {
    "tags": []
   },
   "source": [
    "<h3>Nutzer die keinen Mehrwert bieten werden gelöscht.</h3>"
   ]
  },
  {
   "cell_type": "code",
   "execution_count": null,
   "id": "42d4f7e4-8dc4-4795-b1a0-444bc20a392c",
   "metadata": {},
   "outputs": [],
   "source": [
    "list_not_needed_author_ids = [3365669884, 536335486]\n",
    "for each in list_not_needed_author_ids:\n",
    "    df_manager = df_manager.drop(df_manager.loc[df_manager[\"author_id\"] == each].index)\n",
    "df_manager = df_manager.reset_index(drop=True)"
   ]
  },
  {
   "cell_type": "markdown",
   "id": "3484e2a5-3ca6-458d-b3df-494a7aaaf9fd",
   "metadata": {
    "tags": []
   },
   "source": [
    "<h2>Überprüfung und Check der Twitter Nutzer im Datensatz</h2>\n",
    "<p>Dies ist für den Fall relevant, dass die Nutzer überprüft werden müssen. <br>Im aktuellen Zustand des Datensatzes nicht mehr notwendig.</p>"
   ]
  },
  {
   "cell_type": "markdown",
   "id": "ab98a7bc-e897-4ac3-8524-d7c736ee9b60",
   "metadata": {},
   "source": [
    "<p>Prüfen nach allen Nutzern mit dem Namen Markus</p>"
   ]
  },
  {
   "cell_type": "code",
   "execution_count": null,
   "id": "50488384-aca4-403f-8a34-a55d5dc1edf6",
   "metadata": {
    "tags": []
   },
   "outputs": [],
   "source": [
    "df_user.loc[df_user.name.str.lower().str.contains(\"markus\")].drop_duplicates()"
   ]
  },
  {
   "cell_type": "markdown",
   "id": "22cbd084-19fb-403f-8d13-aaa266f5aaad",
   "metadata": {},
   "source": [
    "<p>Prüfen auf auffäliige Einträge bezüglich Jan Marksalek</p>"
   ]
  },
  {
   "cell_type": "code",
   "execution_count": null,
   "id": "b3a6ed74-bbb9-4ebf-811a-02f3bdf7525b",
   "metadata": {
    "tags": []
   },
   "outputs": [],
   "source": [
    "df_user.loc[df_user.name.str.lower().str.contains(\"marsalek\")].drop_duplicates()"
   ]
  },
  {
   "cell_type": "markdown",
   "id": "b2622b24-cb9a-46cf-9372-48dc5a9e02c1",
   "metadata": {},
   "source": [
    "<p>Auffällige User_IDs:</p>\n",
    "<ul>Markus Braun\n",
    "    <li>125696248 - MarkusHBraun</li>\n",
    "    <li>827452635057881088 - _MarkusBraun( - CWO von Wirecard)</li>\n",
    "    <li>1273592890506096642 - MarkusB59026577</li>\n",
    "    <li>780754694419296256 - markuscbraun1</li>\n",
    "</ul>\n",
    "<ul>Jan (Marsalek)\n",
    "</ul>"
   ]
  },
  {
   "cell_type": "markdown",
   "id": "db76b6ff-dddc-4657-8c9b-8de15d0b01d9",
   "metadata": {},
   "source": [
    "<p>Anzeigen der Tweets der \"auffälligen\" Nutzer</p>"
   ]
  },
  {
   "cell_type": "code",
   "execution_count": null,
   "id": "3179aff9-fce4-420d-862d-2a611e7fc075",
   "metadata": {},
   "outputs": [],
   "source": [
    "#3365669884 - MarkusB1980\n",
    "pd.set_option('display.max_colwidth', None)\n",
    "df_manager.loc[df_manager[\"author_id\"] == 125696248][\"text\"]"
   ]
  },
  {
   "cell_type": "code",
   "execution_count": null,
   "id": "9b6c2cfe-773b-4744-a4ad-304145beefef",
   "metadata": {},
   "outputs": [],
   "source": [
    "#827452635057881088 - _MarkusBraun( - CWO von Wirecard)\n",
    "pd.set_option('display.max_colwidth', None)\n",
    "df_manager.loc[df_manager[\"author_id\"] == 827452635057881088][\"text\"]"
   ]
  },
  {
   "cell_type": "code",
   "execution_count": null,
   "id": "c8f0e478-d611-4294-8c76-658a2e1a70ae",
   "metadata": {},
   "outputs": [],
   "source": [
    "#536335486 - Advobraun\n",
    "pd.set_option('display.max_colwidth', None)\n",
    "df_manager.loc[df_manager[\"author_id\"] == 1273592890506096642][\"text\"]"
   ]
  },
  {
   "cell_type": "code",
   "execution_count": null,
   "id": "9d8643b6-0071-4526-a20c-9146f6373b83",
   "metadata": {},
   "outputs": [],
   "source": [
    "#780754694419296256 - markuscbraun1\n",
    "pd.set_option('display.max_colwidth', None)\n",
    "df_manager.loc[df_manager[\"author_id\"] == 780754694419296256][\"text\"]"
   ]
  },
  {
   "cell_type": "markdown",
   "id": "c1b57988-bf04-4f62-967a-052a2a9c4299",
   "metadata": {},
   "source": [
    "<p>Wie erwartet sind alle Nutzerr mit auffälligen Namen bereits durch das durchgehen aller Tweets entfernt. Es finden sich nur noch zu einem Tweets, die aber etwas zum Thema beitragen.<br>Zu Jan Marsalek gibt es keine Nutzer.</p>\n",
    "<p>Dabei handelt es sich um die einzigen Nutzer, zu denen noch Tweets nach der Vorverarbeitung übrig sind</p>"
   ]
  },
  {
   "cell_type": "markdown",
   "id": "9f3441b2-86f6-418a-9925-d30f5214ce78",
   "metadata": {},
   "source": [
    "<p>Das Dataframe mit der Anzahl der jeweiligen Autoren wird um die Informationen aus dem Datensatz der User ergänzt.<br>Dabei soll gerpüft werden, ob auffällige Nutzer mit eigenartigen Namen auftauchen, die es zu prüfen gilt. Dabei wird vor allem auf Nutzer geachtet, die einen klaren Bezug zu anderen Theman haben oder die ggf. auffälligkeiten zu dem Thema haben könnten.</p>"
   ]
  },
  {
   "cell_type": "code",
   "execution_count": null,
   "id": "b8055dd7-4c01-436a-badc-d9a9b51802b1",
   "metadata": {
    "tags": []
   },
   "outputs": [],
   "source": [
    "df_manager[\"author_id\"].value_counts().to_frame().reset_index().join(\n",
    "    df_user.set_index(\"user_id\"), on=\"index\").drop_duplicates(subset=[\"index\"]).rename(columns={\"index\": \"author_id\", \"author_id\": \"count\"}).head(11)"
   ]
  },
  {
   "cell_type": "markdown",
   "id": "90209e91-fc2d-44b4-b627-76ac78989ec6",
   "metadata": {},
   "source": [
    "<p>Stichprobenartige Prüfen der einzelnen Top Nutzer mit mehr als 50 Tweets auf deren Inhalte.</p>"
   ]
  },
  {
   "cell_type": "code",
   "execution_count": null,
   "id": "39060532-5846-4139-8db2-5176b9d9f245",
   "metadata": {
    "tags": []
   },
   "outputs": [],
   "source": [
    "pd.set_option('display.max_colwidth', None)\n",
    "for each in df_manager.loc[df_manager[\"author_id\"] == 1091697475012849664].index:\n",
    "    print(df_manager.iloc[each][\"text\"], \"\\n\")"
   ]
  },
  {
   "cell_type": "code",
   "execution_count": null,
   "id": "171f70bb-e5bb-4fd3-a497-a968a51c8958",
   "metadata": {
    "tags": []
   },
   "outputs": [],
   "source": [
    "for each in df_manager.loc[df_manager[\"author_id\"] == 1929600979].index:\n",
    "    print(df_manager.iloc[each][\"text\"], \"\\n\")"
   ]
  },
  {
   "cell_type": "code",
   "execution_count": null,
   "id": "cdc17d0e-59b6-4a2f-a220-56100ecbfb2e",
   "metadata": {
    "tags": []
   },
   "outputs": [],
   "source": [
    "for each in df_manager.loc[df_manager[\"author_id\"] == 3029833842].index:\n",
    "    print(df_manager.iloc[each][\"text\"], \"\\n\")"
   ]
  },
  {
   "cell_type": "code",
   "execution_count": null,
   "id": "bf59b872-674c-4945-8460-16f0cfa92073",
   "metadata": {
    "tags": []
   },
   "outputs": [],
   "source": [
    "for each in df_manager.loc[df_manager[\"author_id\"] == 300045480].index:\n",
    "    print(df_manager.iloc[each][\"text\"], \"\\n\")"
   ]
  },
  {
   "cell_type": "code",
   "execution_count": null,
   "id": "e82e5bc1-152d-407e-a91d-0e15ee461f3d",
   "metadata": {
    "tags": []
   },
   "outputs": [],
   "source": [
    "for each in df_manager.loc[df_manager[\"author_id\"] == 223238349].index:\n",
    "    print(df_manager.iloc[each][\"text\"], \"\\n\")"
   ]
  },
  {
   "cell_type": "code",
   "execution_count": null,
   "id": "d74d35cf-7e90-4bcf-98ff-b47616cc5d04",
   "metadata": {
    "tags": []
   },
   "outputs": [],
   "source": [
    "df_manager.loc[df_manager[\"author_id\"] == 300045480]"
   ]
  },
  {
   "cell_type": "markdown",
   "id": "54458e24-305e-4980-b1a0-0d130ac27b59",
   "metadata": {
    "tags": []
   },
   "source": [
    "<h1>Weitere Überprüfungen der Daten</h1>\n",
    "<p>Hier sind die Überprüfungen aufgeführt, die vorgenommen werden mussten um den Datensatz vorzubereiten. Das eigentliche Löschen der nicht benötigten Daten ist bereits weiter oben vorgenommen worden.</p>"
   ]
  },
  {
   "cell_type": "markdown",
   "id": "e856005f-7996-4de9-ac39-50b312d8678e",
   "metadata": {
    "jp-MarkdownHeadingCollapsed": true,
    "tags": []
   },
   "source": [
    "<h2>Überprüfung der Wörter in den Tweets</h2>\n",
    "<p>Ich prüfe wie oft die einzelnen Wörter in den jeweiligen Tweets vorkommen um ggf. nicht passende Wörter zu ermitteln.</p>\n",
    "<p>Ladeb von deutschen Stop Wörtern um diese zu filter, da diese keinen wirklichen Mehrwert bieten. <br> Anschließend wird das Hanover Tagger Modell geladen um die Lemmatisierung durchzuführen um Wörter auf die Grundform zu reduzieren.</p>"
   ]
  },
  {
   "cell_type": "code",
   "execution_count": null,
   "id": "159dd6a3-5600-4c0e-a042-78816551a93f",
   "metadata": {},
   "outputs": [],
   "source": [
    "german_stop_words = stopwords.words('german')\n",
    "tagger = ht.HanoverTagger('morphmodel_ger.pgz')"
   ]
  },
  {
   "cell_type": "markdown",
   "id": "fb6a7161-20e4-4c87-b6ca-140f7fd3ee17",
   "metadata": {},
   "source": [
    "<p>Lemmatisierung um zu den jeweiligen Wörtern die Grundform zu erhalten. Dies wird mit den ganzen Tweets gemacht umd die Wörter im Kontext betrachten zu können (?). </p>"
   ]
  },
  {
   "cell_type": "code",
   "execution_count": null,
   "id": "c5cb0469-bf78-44d3-b11e-9e578e1e89b4",
   "metadata": {},
   "outputs": [],
   "source": [
    "tweet_list = df_manager[\"text\"].tolist()\n",
    "lemma_list = []\n",
    "\n",
    "for tweet in tweet_list:\n",
    "    lemma = [lemma for (word, lemma, pos) in tagger.tag_sent(tweet.split())]\n",
    "    lemma_list.append(' '.join(lemma))"
   ]
  },
  {
   "cell_type": "markdown",
   "id": "7aa6179a-3465-435b-b27e-a2b806c5f2fc",
   "metadata": {},
   "source": [
    "<p>Erstellen einer Liste mit allen Wörtern aus jeden einzelnen Tweet.</p>"
   ]
  },
  {
   "cell_type": "code",
   "execution_count": null,
   "id": "e18f48c3-9f65-4344-97f8-0fa070dacf58",
   "metadata": {},
   "outputs": [],
   "source": [
    "text_list = []\n",
    "for each in lemma_list:\n",
    "    for word in re.sub('\\W+', ' ', each).lower().split():\n",
    "        if word not in german_stop_words:\n",
    "            text_list.append(word)"
   ]
  },
  {
   "cell_type": "markdown",
   "id": "ed8bf80a-e032-4a3e-b4eb-c910090b4719",
   "metadata": {},
   "source": [
    "<p>Die Liste wird nun zu einer Pandas Serie um hier leichter Informationen zu erhalten. Im Anschluss wird die Serie zu einem Dataframe, bei dem die Spalten \"Word\" und \"Count\" heißen.</p>"
   ]
  },
  {
   "cell_type": "code",
   "execution_count": null,
   "id": "da3e1c08-5604-44af-b45e-64d1aa02528c",
   "metadata": {},
   "outputs": [],
   "source": [
    "text_series = pd.Series(text_list)\n",
    "df_word_count = text_series.value_counts().to_frame().reset_index().rename(columns={\"index\": \"word\", 0: \"count\"})"
   ]
  },
  {
   "cell_type": "markdown",
   "id": "85ab24fe-ba76-4879-97f3-cdf1ff679494",
   "metadata": {},
   "source": [
    "<p>Anzeigen von allen Wörtern, die öfter als 100 Mal in dem Datensatz vorkommen.</p>"
   ]
  },
  {
   "cell_type": "code",
   "execution_count": null,
   "id": "308e7e67-2504-46de-bcdf-2832782ca34d",
   "metadata": {
    "tags": []
   },
   "outputs": [],
   "source": [
    "pd.set_option('display.max_rows', None)\n",
    "df_word_count.loc[df_word_count[\"count\"] >= 100]"
   ]
  },
  {
   "cell_type": "markdown",
   "id": "43cf759f-96d6-43f6-a50e-dce7dd2fdbe6",
   "metadata": {},
   "source": [
    "<p>Überprüfung ob bei auffälligen Wörtern oder Kürzeln die Texte keinen Kontext zu Wirecard haben.</p>\n",
    "<p>Auffällig Begriffe</p>\n",
    "<lu>\n",
    "    <li>FPÖ</li>\n",
    "    <li>amp</li>\n",
    "    <li>wdi</li>\n",
    "</lu>"
   ]
  },
  {
   "cell_type": "code",
   "execution_count": null,
   "id": "ccc8a8cb-85e8-4027-b845-4e2aae200dc9",
   "metadata": {
    "tags": []
   },
   "outputs": [],
   "source": [
    "for each in df_manager.loc[df_manager.text.str.lower().str.contains(\"fpö\")][\"text\"]:\n",
    "    print(each, '\\n')"
   ]
  },
  {
   "cell_type": "code",
   "execution_count": null,
   "id": "21b67366-a13d-4331-95d3-8d5c3f38d526",
   "metadata": {
    "tags": []
   },
   "outputs": [],
   "source": [
    "for each in df_manager.loc[df_manager.text.str.lower().str.contains(\"amp\")][\"text\"]:\n",
    "    print(each, '\\n')"
   ]
  },
  {
   "cell_type": "code",
   "execution_count": null,
   "id": "9d32f4c6-9494-4572-a828-a8aa3b77c818",
   "metadata": {
    "tags": []
   },
   "outputs": [],
   "source": [
    "for each in df_manager.loc[df_manager.text.str.lower().str.contains(\"wdi\")][\"text\"]:\n",
    "    print(each, '\\n')"
   ]
  },
  {
   "cell_type": "markdown",
   "id": "a7c62e4a-5bf9-4935-a27c-0189d3d48655",
   "metadata": {},
   "source": [
    "<p>Der Begriff der in der Stichprobe keinen Bezug zu Wirecard hatte war <b>\"FPÖ\"</b>. Dementsprechend ist der Begriff oben in der ursprünlgichen Verarbeitung mit aufgenommen.</p>"
   ]
  },
  {
   "cell_type": "markdown",
   "id": "9181ea26-775d-4bf6-b772-ac80275483ad",
   "metadata": {
    "jp-MarkdownHeadingCollapsed": true,
    "tags": []
   },
   "source": [
    "<h2>Test prüfen nach Tweets ohne die Manager</h2>\n",
    "<p>In diesem Abschnitt werden die die Tweets überprüft, in denen die Manager nicht vorkommen. Diese müssen Manuell überprüft werden und anschlißend auch im Kontext zugehöriger Tweets geprüft. <br>Wenn dabei herauskommen sollte, dass die Tweets nicht mit dem Thema zu tun haben, dann werden diese gelöscht. Dies wird bereits oben erledigt.</p>"
   ]
  },
  {
   "cell_type": "markdown",
   "id": "2e72c6f6-abf2-49b9-ac7f-288bc8998989",
   "metadata": {},
   "source": [
    "<p>Ich prüfe auf verbleibende Tweets, in denen weder Markus Braun oder Jan Marsalek genannt werden. Ich prüfe dies auf verschiedene Schreibweisen um die Tweets zu ermitteln, in denen diese Namen nur in Links erwähnt wurden.</p>"
   ]
  },
  {
   "cell_type": "code",
   "execution_count": null,
   "id": "d7e6ae02-a2b5-4692-9e24-46869dab6fe7",
   "metadata": {},
   "outputs": [],
   "source": [
    "df_markus = df_manager.loc[df_manager.text.str.lower().str.contains(\"markus braun|markusbraun\")].reset_index(drop=True)"
   ]
  },
  {
   "cell_type": "code",
   "execution_count": null,
   "id": "472c4ee1-8bd6-480d-8dd6-c1671200063a",
   "metadata": {},
   "outputs": [],
   "source": [
    "df_jan = df_manager.loc[df_manager.text.str.lower().str.contains(\"jan marsalek|janmarsalek\")].reset_index(drop=True)"
   ]
  },
  {
   "cell_type": "code",
   "execution_count": null,
   "id": "7e9efd77-e3f9-41f5-8b97-744729064046",
   "metadata": {
    "tags": []
   },
   "outputs": [],
   "source": [
    "df_markus.head()"
   ]
  },
  {
   "cell_type": "code",
   "execution_count": null,
   "id": "fce7b0d7-ecf0-40a7-9ff6-844d26131bbd",
   "metadata": {
    "tags": []
   },
   "outputs": [],
   "source": [
    "df_jan.head()"
   ]
  },
  {
   "cell_type": "markdown",
   "id": "170e3719-9abd-4a62-8e75-7d51c92ef784",
   "metadata": {},
   "source": [
    "<p>Erhalten der Tweet_IDs und diese werden in einer Liste gespeichert.</p>"
   ]
  },
  {
   "cell_type": "code",
   "execution_count": null,
   "id": "26bc4b9b-47ed-491a-a516-800f9cadfd69",
   "metadata": {},
   "outputs": [],
   "source": [
    "list_markus_jan = []\n",
    "for each in range(len(df_markus)):\n",
    "    list_markus_jan.append(df_markus.iloc[each][\"tweet_id\"])\n",
    "for each in range(len(df_jan)):\n",
    "    list_markus_jan.append(df_jan.iloc[each][\"tweet_id\"])"
   ]
  },
  {
   "cell_type": "code",
   "execution_count": null,
   "id": "856f24e4-29fe-4867-937a-8962019243c2",
   "metadata": {
    "tags": []
   },
   "outputs": [],
   "source": [
    "list_index = []\n",
    "for each in list_markus_jan:\n",
    "    list_index.append(df_manager.loc[df_manager[\"tweet_id\"] == each].index[0])\n",
    "    \n",
    "df_man_with_mark_jan = df_manager.drop(list_index)\n",
    "    #print(df_manager.loc[df_manager[\"tweet_id\"] == each].index[0])\n",
    "df_man_with_mark_jan = df_man_with_mark_jan.reset_index(drop=True)"
   ]
  },
  {
   "cell_type": "code",
   "execution_count": null,
   "id": "3bf92983-6fbe-4c5a-86f6-3e4536616330",
   "metadata": {},
   "outputs": [],
   "source": [
    "df_with_wirecard = df_man_with_mark_jan.loc[df_man_with_mark_jan.text.str.lower().str.contains(\"wirecard\")]"
   ]
  },
  {
   "cell_type": "code",
   "execution_count": null,
   "id": "2288cb96-8664-4168-8fa9-8839bf798b68",
   "metadata": {},
   "outputs": [],
   "source": [
    "list_with_wirecard = []\n",
    "for each in range(len(df_with_wirecard)):\n",
    "    list_with_wirecard.append(df_with_wirecard.iloc[each][\"tweet_id\"])"
   ]
  },
  {
   "cell_type": "code",
   "execution_count": null,
   "id": "829d3663-0146-4fc3-b75a-8160286b9ad3",
   "metadata": {},
   "outputs": [],
   "source": [
    "list_index = []\n",
    "for each in list_with_wirecard:\n",
    "    list_index.append(df_man_with_mark_jan.loc[df_man_with_mark_jan[\"tweet_id\"] == each].index[0])\n",
    "    #print(df_man_with_mark_jan.loc[df_man_with_mark_jan[\"tweet_id\"] == each].index[0])\n",
    "df_man_with_mark_jan = df_man_with_mark_jan.drop(list_index)\n",
    "df_man_with_mark_jan = df_man_with_mark_jan.reset_index(drop=True)"
   ]
  },
  {
   "cell_type": "markdown",
   "id": "9c439e64-e8bc-4a82-898f-a5eb621d84c7",
   "metadata": {},
   "source": [
    "<p>Prüfen von jedem Tweet, ob dieser einen Bezug zum Thema hat</p>"
   ]
  },
  {
   "cell_type": "code",
   "execution_count": null,
   "id": "9b7c8ea2-0ea3-4169-98af-753ae44156f7",
   "metadata": {
    "tags": []
   },
   "outputs": [],
   "source": [
    "for each in range(len(df_man_with_mark_jan)):\n",
    "    print(df_man_with_mark_jan.iloc[each][\"tweet_id\"], \": \", df_man_with_mark_jan.iloc[each][\"text\"])"
   ]
  },
  {
   "cell_type": "code",
   "execution_count": null,
   "id": "db90e417-6362-4dda-821e-6d6225cb5c35",
   "metadata": {},
   "outputs": [],
   "source": [
    "print(len(df_man_with_mark_jan.drop_duplicates(subset=[\"text\"])))"
   ]
  },
  {
   "cell_type": "markdown",
   "id": "468abd3b-3829-405b-ac20-dacaa88b6b8b",
   "metadata": {},
   "source": [
    "<p>Jeden Tweet, der als \"auffällig\" erkannt wurde mit zugehörigen Tweets manuell überprüfen</p>"
   ]
  },
  {
   "cell_type": "code",
   "execution_count": null,
   "id": "a4ed161b-2699-44eb-b05c-1dbfbfcde631",
   "metadata": {
    "tags": []
   },
   "outputs": [],
   "source": [
    "#Text Check up for Tweets without context.\n",
    "tweet = 1130213579490234370\n",
    "print(\"Original: \", df_man_with_mark_jan.loc[df_man_with_mark_jan[\"tweet_id\"] == tweet][\"text\"].values[0], \"\\n\")\n",
    "for each in df_manager.loc[(\n",
    "    df_manager[\"tweet_id\"] == tweet) | (\n",
    "    df_manager[\"conversation_id\"] == df_manager.loc[df_manager[\"tweet_id\"] == tweet][\"conversation_id\"].values[0]) | (\n",
    "    df_manager[\"referenced_tweet_id\"] == tweet) | (\n",
    "    (df_manager[\"referenced_tweet_id\"] == df_manager.loc[df_manager[\"tweet_id\"] == tweet][\"referenced_tweet_id\"].values[0]) & (df_manager[\"referenced_tweet_id\"] != \"None\")) | (\n",
    "    df_manager[\"referenced_tweet_id\"] == df_manager.loc[df_manager[\"tweet_id\"] == tweet][\"conversation_id\"].values[0])][\"text\"].values:\n",
    "    print(each, \"\\n\")"
   ]
  },
  {
   "cell_type": "markdown",
   "id": "796a6377-bc5a-4c2d-8500-4f2d79572ce5",
   "metadata": {},
   "source": [
    "<p>Ermittlung aller Tweets, die nichts mit dem Thema zu tun haben und die nach der manuellen Prüfung nicht in den Datensatz gehören. Alle Tweet_Ids werden in einer Liste gespeichert und im Anschluss gelöscht. Mit den bereits bekannten Tweet_IDs, wird dieser Prozess bereits weiter oben ausgeführt im Abschnitt \"Tweets Löschen ohne Kontext\"</p>"
   ]
  },
  {
   "cell_type": "code",
   "execution_count": null,
   "id": "7772dc96-3750-43cd-b23e-5b126997af82",
   "metadata": {
    "tags": []
   },
   "outputs": [],
   "source": [
    "#Text Check up for Tweet_id for removal\n",
    "list_tweet_id = [701784983829143553, 909831998537158657, 909733713302441984, 909730731932368897, 1115628103487954944, \n",
    "                1115596390133051393, 1112624842493358080, 1131274228521742336, 1130213579490234370, 1207617572126044160, \n",
    "                1265176607905333248, 1273949458808680449, 1285646389771481088, 1285547240447246338, 1285515450584096768, \n",
    "                1285497151125151745, 1284925162836709378, 1279724802782216192]\n",
    "list_tweet_id_remove = []\n",
    "for tweet in list_tweet_id:\n",
    "    for each in df_manager.loc[(\n",
    "        df_manager[\"tweet_id\"] == tweet) | (\n",
    "        df_manager[\"conversation_id\"] == df_manager.loc[df_manager[\"tweet_id\"] == tweet][\"conversation_id\"].values[0]) | (\n",
    "        df_manager[\"referenced_tweet_id\"] == tweet) | (\n",
    "        (df_manager[\"referenced_tweet_id\"] == df_manager.loc[df_manager[\"tweet_id\"] == tweet][\"referenced_tweet_id\"].values[0]) & (df_manager[\"referenced_tweet_id\"] != \"None\")) | (\n",
    "        df_manager[\"referenced_tweet_id\"] == df_manager.loc[df_manager[\"tweet_id\"] == tweet][\"conversation_id\"].values[0])][\"tweet_id\"].values:\n",
    "        print(each, \"\\n\")\n",
    "        if each not in list_tweet_id_remove:\n",
    "            list_tweet_id_remove.append(each)"
   ]
  },
  {
   "cell_type": "code",
   "execution_count": null,
   "id": "fb551c4e-4196-4217-875a-c297800c3f9b",
   "metadata": {},
   "outputs": [],
   "source": []
  },
  {
   "cell_type": "code",
   "execution_count": null,
   "id": "ad5b13d1-4e6a-4e4a-94db-1bfb4046fcc1",
   "metadata": {},
   "outputs": [],
   "source": []
  },
  {
   "cell_type": "code",
   "execution_count": null,
   "id": "1ff4f183-37fe-4edc-bae7-6b9d0ab2b0cf",
   "metadata": {},
   "outputs": [],
   "source": []
  },
  {
   "cell_type": "code",
   "execution_count": null,
   "id": "e8c3b4f9-2539-450a-a7bd-315d7bf4a07f",
   "metadata": {},
   "outputs": [],
   "source": []
  },
  {
   "cell_type": "markdown",
   "id": "24c84ceb-920e-4bde-b6cc-7947c5627336",
   "metadata": {
    "jp-MarkdownHeadingCollapsed": true,
    "tags": []
   },
   "source": [
    "<h1>TEST</h1>\n",
    "<p>Hier werden unterschieldiche Funktionen getestet.</p>"
   ]
  },
  {
   "cell_type": "code",
   "execution_count": null,
   "id": "114694e6-fa2e-4012-8ced-c3eca8ab28e4",
   "metadata": {
    "tags": []
   },
   "outputs": [],
   "source": [
    "df.sample(n = 100)"
   ]
  },
  {
   "cell_type": "code",
   "execution_count": null,
   "id": "465ee41c-0bed-4e18-960c-d5ed489b9864",
   "metadata": {},
   "outputs": [],
   "source": [
    "test_str_strInStr = \"Das ist der Test ob Superkicker korrekt erkannt wird.\""
   ]
  },
  {
   "cell_type": "code",
   "execution_count": null,
   "id": "41f3c81b-6b57-4289-adc1-085579102e54",
   "metadata": {},
   "outputs": [],
   "source": [
    "if \"kicker\" in test_str_strInStr:\n",
    "    print(\"Superkicker\")"
   ]
  },
  {
   "cell_type": "code",
   "execution_count": null,
   "id": "8783ddfc-bc39-42f7-83fc-096f228fa983",
   "metadata": {},
   "outputs": [],
   "source": [
    "for each in range(0,15):\n",
    "    print(each)"
   ]
  },
  {
   "cell_type": "code",
   "execution_count": null,
   "id": "4b13efcb-b87d-437f-ae56-b62c9b0ae1e8",
   "metadata": {},
   "outputs": [],
   "source": [
    "df_manager.loc[df_manager.text.str.lower().str.contains((\"@_markusbraun | markusbraun\"))].index"
   ]
  },
  {
   "cell_type": "code",
   "execution_count": null,
   "id": "712bfc3a-2612-4175-a5e3-0529ccebb064",
   "metadata": {},
   "outputs": [],
   "source": [
    "list_single_tweet_id = [719940834028863489, 771966867707682816, 919891703116566529, 1274189525875593218]\n",
    "for each in list_single_tweet_id:\n",
    "    if each in df_manager.loc[df_manager[\"tweet_id\"] == each].values:\n",
    "        print(\"ok\")"
   ]
  },
  {
   "cell_type": "code",
   "execution_count": null,
   "id": "2d0bcca0-e11a-4076-a04a-0cc7d3fa358d",
   "metadata": {},
   "outputs": [],
   "source": [
    "df_manager.loc[df_manager.text.str.lower().str.contains(\"artist\")]"
   ]
  },
  {
   "cell_type": "code",
   "execution_count": null,
   "id": "76d17867-6420-4cd1-b7dd-d2d958a96edf",
   "metadata": {},
   "outputs": [],
   "source": [
    "if 719940834028863489 in df_manager.loc[df_manager[\"tweet_id\"] == 719940834028863489].values:\n",
    "    print(\"ok\")"
   ]
  },
  {
   "cell_type": "code",
   "execution_count": null,
   "id": "7ed7fad1-55c4-4ae6-924b-655df58bb556",
   "metadata": {},
   "outputs": [],
   "source": [
    "list_tweet_id = [719940834028863489, 771966867707682816, 919891703116566529, 730315192559673344, 1085012780053336064, 748146758232879104,\n",
    "                 1275383293504978945, 1121414883512393728, 1288961015351316480, 1284465825915838464, 955660777960230917, 962669158923153409,\n",
    "                 1016245557021507584, 1074388350734340097, 1115926018051792898, 1132148944031457280, 1130223973701246976, 1174984360669278209,\n",
    "                 1220356450809188353, 1255176912202108929]\n",
    "print(len(list_tweet_id))\n",
    "list_new_tweet_id = []\n",
    "for tweet_id in list_tweet_id:\n",
    "    for each in df_manager.loc[df_manager[\"text\"] == df_manager.loc[df_manager[\"tweet_id\"] == tweet_id][\"text\"].values[0]][\"tweet_id\"].values:\n",
    "        if each not in list_new_tweet_id:\n",
    "            list_new_tweet_id.append(each)\n",
    "\n",
    "print(len(list_new_tweet_id))"
   ]
  },
  {
   "cell_type": "code",
   "execution_count": null,
   "id": "b8f74478-00de-4af8-bd11-b42d30172d61",
   "metadata": {},
   "outputs": [],
   "source": [
    "print(list_new_tweet_id)"
   ]
  },
  {
   "cell_type": "code",
   "execution_count": null,
   "id": "889fcc60-3752-467f-af54-0d8848c58e4f",
   "metadata": {},
   "outputs": [],
   "source": [
    "df_manager.loc[(df_manager[\"tweet_id\"] == 719940834028863489 ) | (df_manager[\"tweet_id\"] == 1166388152786984963)]"
   ]
  },
  {
   "cell_type": "code",
   "execution_count": null,
   "id": "d4b776a9-9bf1-459f-9e6f-5d80a0ccb898",
   "metadata": {},
   "outputs": [],
   "source": [
    "df_manager = df_manager.append(df_manager.loc[df_manager[\"tweet_id\"] == 719940834028863489], ignore_index=True)"
   ]
  },
  {
   "cell_type": "code",
   "execution_count": null,
   "id": "6697dcae-1337-45af-ba04-adcd52ef0432",
   "metadata": {},
   "outputs": [],
   "source": [
    "df_manager.loc[df_manager[\"tweet_id\"] == 719940834028863489]"
   ]
  },
  {
   "cell_type": "code",
   "execution_count": null,
   "id": "babfd584-be71-4985-8adf-7c40651133f8",
   "metadata": {},
   "outputs": [],
   "source": [
    "df_manager.at[17844, \"tweet_id\"] = 1"
   ]
  },
  {
   "cell_type": "code",
   "execution_count": null,
   "id": "524f72bb-5411-4c5d-a063-81c651a24e25",
   "metadata": {},
   "outputs": [],
   "source": [
    "df_manager.iloc[17844]"
   ]
  },
  {
   "cell_type": "code",
   "execution_count": null,
   "id": "d8594947-a1a4-4cf9-93d5-a74f5c462f7e",
   "metadata": {},
   "outputs": [],
   "source": [
    "list_tweet_id = []\n",
    "not_used_words_list = [\"meiko\", \"calisthenics\", \"pulled pork\", \"boxing\", \" fom\", \"dlr\", \"eurocity\", \"m.o.s.s\", \"markus_braun_\"]\n",
    "for each in range(len(df_manager)):\n",
    "    for word in not_used_words_list:\n",
    "        if word in df_manager.iloc[each][\"text\"].lower():\n",
    "            if df_manager.iloc[each][\"tweet_id\"] not in list_tweet_id:\n",
    "                list_tweet_id.append(df_manager.iloc[each][\"tweet_id\"])\n",
    "\n",
    "\n",
    "#list_tweet_id_remove = []\n",
    "for tweet in list_tweet_id:\n",
    "    for each in df_manager.loc[(\n",
    "        df_manager[\"tweet_id\"] == tweet) | (\n",
    "        df_manager[\"conversation_id\"] == df_manager.loc[df_manager[\"tweet_id\"] == tweet][\"conversation_id\"].values[0]) | (\n",
    "        df_manager[\"referenced_tweet_id\"] == tweet) | (\n",
    "        (df_manager[\"referenced_tweet_id\"] == df_manager.loc[df_manager[\"tweet_id\"] == tweet][\"referenced_tweet_id\"].values[0]) & (df_manager[\"referenced_tweet_id\"] != \"None\")) | (\n",
    "        df_manager[\"referenced_tweet_id\"] == df_manager.loc[df_manager[\"tweet_id\"] == tweet][\"conversation_id\"].values[0])][\"tweet_id\"].values:\n",
    "        #print(each, \"\\n\")\n",
    "        if each not in list_tweet_id:\n",
    "            list_tweet_id.append(each)"
   ]
  },
  {
   "cell_type": "code",
   "execution_count": null,
   "id": "645d5c84-6260-406a-a9c3-6096263df963",
   "metadata": {},
   "outputs": [],
   "source": [
    "for each in list_tweet_id:\n",
    "    df_manager = df_manager.drop(df_manager.loc[df_manager[\"tweet_id\"] == each].index[0])\n",
    "df_manager = df_manager.reset_index(drop=True)"
   ]
  },
  {
   "cell_type": "code",
   "execution_count": null,
   "id": "fef20c13-2e0d-458a-a981-3676f3a92945",
   "metadata": {},
   "outputs": [],
   "source": [
    "len(df_manager)"
   ]
  },
  {
   "cell_type": "code",
   "execution_count": null,
   "id": "11cb4b28-d3eb-4002-859d-0d1b230d2381",
   "metadata": {},
   "outputs": [],
   "source": [
    "print(len(list_tweet_id))\n",
    "print(len(tweet_id_without_context_list))"
   ]
  },
  {
   "cell_type": "code",
   "execution_count": null,
   "id": "f4b320ec-8ac6-40ea-9569-efa7ec54bf57",
   "metadata": {},
   "outputs": [],
   "source": [
    "list(set(list_tweet_id) - set(tweet_id_without_context_list))"
   ]
  },
  {
   "cell_type": "code",
   "execution_count": null,
   "id": "956ba54f-0871-4f5e-89f8-fb17066e1b83",
   "metadata": {
    "tags": []
   },
   "outputs": [],
   "source": [
    "for each in list_tweet_id:\n",
    "    print(each, \": \", df_manager.loc[df_manager[\"tweet_id\"] == each][\"text\"].values[0])"
   ]
  },
  {
   "cell_type": "code",
   "execution_count": null,
   "id": "5bc24f79-94d6-48d6-984e-24ea2ad36111",
   "metadata": {},
   "outputs": [],
   "source": []
  }
 ],
 "metadata": {
  "kernelspec": {
   "display_name": "master_thesis_3.9.10",
   "language": "python",
   "name": "master_thesis_3.9.10"
  },
  "language_info": {
   "codemirror_mode": {
    "name": "ipython",
    "version": 3
   },
   "file_extension": ".py",
   "mimetype": "text/x-python",
   "name": "python",
   "nbconvert_exporter": "python",
   "pygments_lexer": "ipython3",
   "version": "3.9.10"
  }
 },
 "nbformat": 4,
 "nbformat_minor": 5
}
