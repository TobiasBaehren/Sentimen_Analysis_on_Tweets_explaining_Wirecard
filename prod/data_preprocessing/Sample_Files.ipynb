{
 "cells": [
  {
   "cell_type": "markdown",
   "id": "d5fe30de-17d4-4c88-bb1e-072813ed3c20",
   "metadata": {},
   "source": [
    "<h1>Überarbeitung der Sample Files</h1>\n",
    "<p>Ich füge in alle Dokumente, die der Validierung dienen noch eine Spalte hinzu.</p>"
   ]
  },
  {
   "cell_type": "code",
   "execution_count": 1,
   "id": "81f427c4-b7b6-42d4-a980-c52e2b5fe350",
   "metadata": {},
   "outputs": [],
   "source": [
    "import csv\n",
    "import numpy as np\n",
    "import pandas as pd\n",
    "import re"
   ]
  },
  {
   "cell_type": "code",
   "execution_count": 7,
   "id": "86118649-995f-45ed-8162-b13968f012d5",
   "metadata": {},
   "outputs": [],
   "source": [
    "df = pd.read_csv(\"/Users/tobias/Dev/FOM/Master_Thesis/data/Final_DE/Validation/de_validation_0.csv\", sep=\";\")"
   ]
  },
  {
   "cell_type": "code",
   "execution_count": 9,
   "id": "2e1788dd-1cdc-44e3-a21c-827debaf6c1e",
   "metadata": {},
   "outputs": [
    {
     "data": {
      "text/html": [
       "<div>\n",
       "<style scoped>\n",
       "    .dataframe tbody tr th:only-of-type {\n",
       "        vertical-align: middle;\n",
       "    }\n",
       "\n",
       "    .dataframe tbody tr th {\n",
       "        vertical-align: top;\n",
       "    }\n",
       "\n",
       "    .dataframe thead th {\n",
       "        text-align: right;\n",
       "    }\n",
       "</style>\n",
       "<table border=\"1\" class=\"dataframe\">\n",
       "  <thead>\n",
       "    <tr style=\"text-align: right;\">\n",
       "      <th></th>\n",
       "      <th>tweet_id</th>\n",
       "      <th>text</th>\n",
       "    </tr>\n",
       "  </thead>\n",
       "  <tbody>\n",
       "    <tr>\n",
       "      <th>0</th>\n",
       "      <td>1273587381531262978</td>\n",
       "      <td>\"Verschieben, tricksen, täuschen:  die einst s...</td>\n",
       "    </tr>\n",
       "    <tr>\n",
       "      <th>1</th>\n",
       "      <td>1120953823651094529</td>\n",
       "      <td>Der japanische Softbank-Konzern investiert 900...</td>\n",
       "    </tr>\n",
       "    <tr>\n",
       "      <th>2</th>\n",
       "      <td>1255413454330093572</td>\n",
       "      <td>Persönliche Genugtuung?</td>\n",
       "    </tr>\n",
       "    <tr>\n",
       "      <th>3</th>\n",
       "      <td>1064802800880693248</td>\n",
       "      <td>▶ Baader Bank belässt Wirecard auf 'Buy' - Zie...</td>\n",
       "    </tr>\n",
       "    <tr>\n",
       "      <th>4</th>\n",
       "      <td>1286039156083302400</td>\n",
       "      <td>Neue Verhaftungen bei Wirecard: Braun im Sumpf</td>\n",
       "    </tr>\n",
       "  </tbody>\n",
       "</table>\n",
       "</div>"
      ],
      "text/plain": [
       "              tweet_id                                               text\n",
       "0  1273587381531262978  \"Verschieben, tricksen, täuschen:  die einst s...\n",
       "1  1120953823651094529  Der japanische Softbank-Konzern investiert 900...\n",
       "2  1255413454330093572                            Persönliche Genugtuung?\n",
       "3  1064802800880693248  ▶ Baader Bank belässt Wirecard auf 'Buy' - Zie...\n",
       "4  1286039156083302400    Neue Verhaftungen bei Wirecard: Braun im Sumpf "
      ]
     },
     "execution_count": 9,
     "metadata": {},
     "output_type": "execute_result"
    }
   ],
   "source": [
    "df.head()"
   ]
  },
  {
   "cell_type": "code",
   "execution_count": 10,
   "id": "ece9c3ae-a674-4f27-ae20-19fbac73aeed",
   "metadata": {},
   "outputs": [],
   "source": [
    "df[\"sentiment\"] = \"\""
   ]
  },
  {
   "cell_type": "code",
   "execution_count": 11,
   "id": "d8aa859e-a007-432e-bb7b-d309f48c40ab",
   "metadata": {},
   "outputs": [
    {
     "data": {
      "text/html": [
       "<div>\n",
       "<style scoped>\n",
       "    .dataframe tbody tr th:only-of-type {\n",
       "        vertical-align: middle;\n",
       "    }\n",
       "\n",
       "    .dataframe tbody tr th {\n",
       "        vertical-align: top;\n",
       "    }\n",
       "\n",
       "    .dataframe thead th {\n",
       "        text-align: right;\n",
       "    }\n",
       "</style>\n",
       "<table border=\"1\" class=\"dataframe\">\n",
       "  <thead>\n",
       "    <tr style=\"text-align: right;\">\n",
       "      <th></th>\n",
       "      <th>tweet_id</th>\n",
       "      <th>text</th>\n",
       "      <th>sentiment</th>\n",
       "    </tr>\n",
       "  </thead>\n",
       "  <tbody>\n",
       "    <tr>\n",
       "      <th>0</th>\n",
       "      <td>1273587381531262978</td>\n",
       "      <td>\"Verschieben, tricksen, täuschen:  die einst s...</td>\n",
       "      <td></td>\n",
       "    </tr>\n",
       "    <tr>\n",
       "      <th>1</th>\n",
       "      <td>1120953823651094529</td>\n",
       "      <td>Der japanische Softbank-Konzern investiert 900...</td>\n",
       "      <td></td>\n",
       "    </tr>\n",
       "    <tr>\n",
       "      <th>2</th>\n",
       "      <td>1255413454330093572</td>\n",
       "      <td>Persönliche Genugtuung?</td>\n",
       "      <td></td>\n",
       "    </tr>\n",
       "    <tr>\n",
       "      <th>3</th>\n",
       "      <td>1064802800880693248</td>\n",
       "      <td>▶ Baader Bank belässt Wirecard auf 'Buy' - Zie...</td>\n",
       "      <td></td>\n",
       "    </tr>\n",
       "    <tr>\n",
       "      <th>4</th>\n",
       "      <td>1286039156083302400</td>\n",
       "      <td>Neue Verhaftungen bei Wirecard: Braun im Sumpf</td>\n",
       "      <td></td>\n",
       "    </tr>\n",
       "  </tbody>\n",
       "</table>\n",
       "</div>"
      ],
      "text/plain": [
       "              tweet_id                                               text  \\\n",
       "0  1273587381531262978  \"Verschieben, tricksen, täuschen:  die einst s...   \n",
       "1  1120953823651094529  Der japanische Softbank-Konzern investiert 900...   \n",
       "2  1255413454330093572                            Persönliche Genugtuung?   \n",
       "3  1064802800880693248  ▶ Baader Bank belässt Wirecard auf 'Buy' - Zie...   \n",
       "4  1286039156083302400    Neue Verhaftungen bei Wirecard: Braun im Sumpf    \n",
       "\n",
       "  sentiment  \n",
       "0            \n",
       "1            \n",
       "2            \n",
       "3            \n",
       "4            "
      ]
     },
     "execution_count": 11,
     "metadata": {},
     "output_type": "execute_result"
    }
   ],
   "source": [
    "df.head()"
   ]
  },
  {
   "cell_type": "code",
   "execution_count": 14,
   "id": "14618a18-0e3b-4e9e-ae9c-50ab76186efd",
   "metadata": {},
   "outputs": [],
   "source": [
    "df.to_csv(\"/Users/tobias/Dev/FOM/Master_Thesis/data/Final_DE/Validation/test.csv\", sep=';', index=False)"
   ]
  },
  {
   "cell_type": "code",
   "execution_count": null,
   "id": "1f478b98-ee88-41fd-a234-0eb27328f199",
   "metadata": {},
   "outputs": [],
   "source": []
  },
  {
   "cell_type": "code",
   "execution_count": 28,
   "id": "95fab119-5a63-4cd6-aa38-907771037ef9",
   "metadata": {},
   "outputs": [
    {
     "name": "stdout",
     "output_type": "stream",
     "text": [
      "/Users/tobias/Dev/FOM/Master_Thesis/data/Final_DE/Validation/de_validation_0.csv\n",
      "/Users/tobias/Dev/FOM/Master_Thesis/data/Final_DE/Validation/de_validation_1.csv\n",
      "/Users/tobias/Dev/FOM/Master_Thesis/data/Final_DE/Validation/de_validation_2.csv\n",
      "/Users/tobias/Dev/FOM/Master_Thesis/data/Final_DE/Validation/de_validation_3.csv\n",
      "/Users/tobias/Dev/FOM/Master_Thesis/data/Final_DE/Validation/de_validation_4.csv\n",
      "/Users/tobias/Dev/FOM/Master_Thesis/data/Final_DE/Validation/de_validation_5.csv\n",
      "/Users/tobias/Dev/FOM/Master_Thesis/data/Final_DE/Validation/de_validation_6.csv\n",
      "/Users/tobias/Dev/FOM/Master_Thesis/data/Final_DE/Validation/de_validation_7.csv\n",
      "/Users/tobias/Dev/FOM/Master_Thesis/data/Final_DE/Validation/de_validation_8.csv\n",
      "/Users/tobias/Dev/FOM/Master_Thesis/data/Final_DE/Validation/de_validation_9.csv\n",
      "/Users/tobias/Dev/FOM/Master_Thesis/data/Final_DE/Validation/de_validation_10.csv\n",
      "/Users/tobias/Dev/FOM/Master_Thesis/data/Final_DE/Validation/de_validation_11.csv\n",
      "/Users/tobias/Dev/FOM/Master_Thesis/data/Final_DE/Validation/de_validation_12.csv\n",
      "/Users/tobias/Dev/FOM/Master_Thesis/data/Final_DE/Validation/de_validation_13.csv\n",
      "/Users/tobias/Dev/FOM/Master_Thesis/data/Final_DE/Validation/de_validation_14.csv\n",
      "/Users/tobias/Dev/FOM/Master_Thesis/data/Final_EN/Validation/en_validation_0.csv\n",
      "/Users/tobias/Dev/FOM/Master_Thesis/data/Final_EN/Validation/en_validation_1.csv\n",
      "/Users/tobias/Dev/FOM/Master_Thesis/data/Final_EN/Validation/en_validation_2.csv\n",
      "/Users/tobias/Dev/FOM/Master_Thesis/data/Final_EN/Validation/en_validation_3.csv\n",
      "/Users/tobias/Dev/FOM/Master_Thesis/data/Final_EN/Validation/en_validation_4.csv\n",
      "/Users/tobias/Dev/FOM/Master_Thesis/data/Final_EN/Validation/en_validation_5.csv\n",
      "/Users/tobias/Dev/FOM/Master_Thesis/data/Final_EN/Validation/en_validation_6.csv\n",
      "/Users/tobias/Dev/FOM/Master_Thesis/data/Final_EN/Validation/en_validation_7.csv\n",
      "/Users/tobias/Dev/FOM/Master_Thesis/data/Final_EN/Validation/en_validation_8.csv\n",
      "/Users/tobias/Dev/FOM/Master_Thesis/data/Final_EN/Validation/en_validation_9.csv\n",
      "/Users/tobias/Dev/FOM/Master_Thesis/data/Final_EN/Validation/en_validation_10.csv\n",
      "/Users/tobias/Dev/FOM/Master_Thesis/data/Final_EN/Validation/en_validation_11.csv\n",
      "/Users/tobias/Dev/FOM/Master_Thesis/data/Final_EN/Validation/en_validation_12.csv\n",
      "/Users/tobias/Dev/FOM/Master_Thesis/data/Final_EN/Validation/en_validation_13.csv\n",
      "/Users/tobias/Dev/FOM/Master_Thesis/data/Final_EN/Validation/en_validation_14.csv\n"
     ]
    }
   ],
   "source": [
    "for each in range(0,15):\n",
    "    file_name = \"/Users/tobias/Dev/FOM/Master_Thesis/data/Final_DE/Validation/de_validation_{file_nbr}.csv\".format(file_nbr=each)\n",
    "    print(file_name)\n",
    "    df = pd.read_csv(file_name, sep=\";\")\n",
    "    df[\"sentiment\"] = \"\"\n",
    "    df.to_csv(file_name, sep=\";\", index=False)\n",
    "    \n",
    "for each in range(0,15):\n",
    "    file_name = \"/Users/tobias/Dev/FOM/Master_Thesis/data/Final_EN/Validation/en_validation_{file_nbr}.csv\".format(file_nbr=each)\n",
    "    print(file_name)\n",
    "    df = pd.read_csv(file_name, sep=\";\")\n",
    "    df[\"sentiment\"] = \"\"\n",
    "    df.to_csv(file_name, sep=\";\", index=False)\n",
    "\n",
    "\n"
   ]
  },
  {
   "cell_type": "code",
   "execution_count": null,
   "id": "78326cc8-de99-490d-ac12-48c985b28043",
   "metadata": {},
   "outputs": [],
   "source": []
  }
 ],
 "metadata": {
  "kernelspec": {
   "display_name": "master_thesis_3.9.10",
   "language": "python",
   "name": "master_thesis_3.9.10"
  },
  "language_info": {
   "codemirror_mode": {
    "name": "ipython",
    "version": 3
   },
   "file_extension": ".py",
   "mimetype": "text/x-python",
   "name": "python",
   "nbconvert_exporter": "python",
   "pygments_lexer": "ipython3",
   "version": "3.9.10"
  }
 },
 "nbformat": 4,
 "nbformat_minor": 5
}
