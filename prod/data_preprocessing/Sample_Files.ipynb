{
 "cells": [
  {
   "cell_type": "markdown",
   "id": "d5fe30de-17d4-4c88-bb1e-072813ed3c20",
   "metadata": {},
   "source": [
    "<h1>Überarbeitung der Sample Files</h1>\n",
    "<p>Ich füge in alle Dokumente, die der Validierung dienen noch eine Spalte hinzu.</p>"
   ]
  },
  {
   "cell_type": "code",
   "execution_count": 1,
   "id": "81f427c4-b7b6-42d4-a980-c52e2b5fe350",
   "metadata": {},
   "outputs": [],
   "source": [
    "import csv\n",
    "import numpy as np\n",
    "import pandas as pd\n",
    "import re"
   ]
  },
  {
   "cell_type": "code",
   "execution_count": 2,
   "id": "86118649-995f-45ed-8162-b13968f012d5",
   "metadata": {},
   "outputs": [],
   "source": [
    "df = pd.read_csv(\"/Users/tobias/Dev/FOM/Master_Thesis/data/Final_DE/Validation/de_validation_0.csv\", sep=\";\")"
   ]
  },
  {
   "cell_type": "code",
   "execution_count": 9,
   "id": "2e1788dd-1cdc-44e3-a21c-827debaf6c1e",
   "metadata": {},
   "outputs": [
    {
     "data": {
      "text/html": [
       "<div>\n",
       "<style scoped>\n",
       "    .dataframe tbody tr th:only-of-type {\n",
       "        vertical-align: middle;\n",
       "    }\n",
       "\n",
       "    .dataframe tbody tr th {\n",
       "        vertical-align: top;\n",
       "    }\n",
       "\n",
       "    .dataframe thead th {\n",
       "        text-align: right;\n",
       "    }\n",
       "</style>\n",
       "<table border=\"1\" class=\"dataframe\">\n",
       "  <thead>\n",
       "    <tr style=\"text-align: right;\">\n",
       "      <th></th>\n",
       "      <th>tweet_id</th>\n",
       "      <th>text</th>\n",
       "    </tr>\n",
       "  </thead>\n",
       "  <tbody>\n",
       "    <tr>\n",
       "      <th>0</th>\n",
       "      <td>1273587381531262978</td>\n",
       "      <td>\"Verschieben, tricksen, täuschen:  die einst s...</td>\n",
       "    </tr>\n",
       "    <tr>\n",
       "      <th>1</th>\n",
       "      <td>1120953823651094529</td>\n",
       "      <td>Der japanische Softbank-Konzern investiert 900...</td>\n",
       "    </tr>\n",
       "    <tr>\n",
       "      <th>2</th>\n",
       "      <td>1255413454330093572</td>\n",
       "      <td>Persönliche Genugtuung?</td>\n",
       "    </tr>\n",
       "    <tr>\n",
       "      <th>3</th>\n",
       "      <td>1064802800880693248</td>\n",
       "      <td>▶ Baader Bank belässt Wirecard auf 'Buy' - Zie...</td>\n",
       "    </tr>\n",
       "    <tr>\n",
       "      <th>4</th>\n",
       "      <td>1286039156083302400</td>\n",
       "      <td>Neue Verhaftungen bei Wirecard: Braun im Sumpf</td>\n",
       "    </tr>\n",
       "  </tbody>\n",
       "</table>\n",
       "</div>"
      ],
      "text/plain": [
       "              tweet_id                                               text\n",
       "0  1273587381531262978  \"Verschieben, tricksen, täuschen:  die einst s...\n",
       "1  1120953823651094529  Der japanische Softbank-Konzern investiert 900...\n",
       "2  1255413454330093572                            Persönliche Genugtuung?\n",
       "3  1064802800880693248  ▶ Baader Bank belässt Wirecard auf 'Buy' - Zie...\n",
       "4  1286039156083302400    Neue Verhaftungen bei Wirecard: Braun im Sumpf "
      ]
     },
     "execution_count": 9,
     "metadata": {},
     "output_type": "execute_result"
    }
   ],
   "source": [
    "df.head()"
   ]
  },
  {
   "cell_type": "code",
   "execution_count": 10,
   "id": "ece9c3ae-a674-4f27-ae20-19fbac73aeed",
   "metadata": {},
   "outputs": [],
   "source": [
    "df[\"sentiment\"] = \"\""
   ]
  },
  {
   "cell_type": "code",
   "execution_count": 11,
   "id": "d8aa859e-a007-432e-bb7b-d309f48c40ab",
   "metadata": {},
   "outputs": [
    {
     "data": {
      "text/html": [
       "<div>\n",
       "<style scoped>\n",
       "    .dataframe tbody tr th:only-of-type {\n",
       "        vertical-align: middle;\n",
       "    }\n",
       "\n",
       "    .dataframe tbody tr th {\n",
       "        vertical-align: top;\n",
       "    }\n",
       "\n",
       "    .dataframe thead th {\n",
       "        text-align: right;\n",
       "    }\n",
       "</style>\n",
       "<table border=\"1\" class=\"dataframe\">\n",
       "  <thead>\n",
       "    <tr style=\"text-align: right;\">\n",
       "      <th></th>\n",
       "      <th>tweet_id</th>\n",
       "      <th>text</th>\n",
       "      <th>sentiment</th>\n",
       "    </tr>\n",
       "  </thead>\n",
       "  <tbody>\n",
       "    <tr>\n",
       "      <th>0</th>\n",
       "      <td>1273587381531262978</td>\n",
       "      <td>\"Verschieben, tricksen, täuschen:  die einst s...</td>\n",
       "      <td></td>\n",
       "    </tr>\n",
       "    <tr>\n",
       "      <th>1</th>\n",
       "      <td>1120953823651094529</td>\n",
       "      <td>Der japanische Softbank-Konzern investiert 900...</td>\n",
       "      <td></td>\n",
       "    </tr>\n",
       "    <tr>\n",
       "      <th>2</th>\n",
       "      <td>1255413454330093572</td>\n",
       "      <td>Persönliche Genugtuung?</td>\n",
       "      <td></td>\n",
       "    </tr>\n",
       "    <tr>\n",
       "      <th>3</th>\n",
       "      <td>1064802800880693248</td>\n",
       "      <td>▶ Baader Bank belässt Wirecard auf 'Buy' - Zie...</td>\n",
       "      <td></td>\n",
       "    </tr>\n",
       "    <tr>\n",
       "      <th>4</th>\n",
       "      <td>1286039156083302400</td>\n",
       "      <td>Neue Verhaftungen bei Wirecard: Braun im Sumpf</td>\n",
       "      <td></td>\n",
       "    </tr>\n",
       "  </tbody>\n",
       "</table>\n",
       "</div>"
      ],
      "text/plain": [
       "              tweet_id                                               text  \\\n",
       "0  1273587381531262978  \"Verschieben, tricksen, täuschen:  die einst s...   \n",
       "1  1120953823651094529  Der japanische Softbank-Konzern investiert 900...   \n",
       "2  1255413454330093572                            Persönliche Genugtuung?   \n",
       "3  1064802800880693248  ▶ Baader Bank belässt Wirecard auf 'Buy' - Zie...   \n",
       "4  1286039156083302400    Neue Verhaftungen bei Wirecard: Braun im Sumpf    \n",
       "\n",
       "  sentiment  \n",
       "0            \n",
       "1            \n",
       "2            \n",
       "3            \n",
       "4            "
      ]
     },
     "execution_count": 11,
     "metadata": {},
     "output_type": "execute_result"
    }
   ],
   "source": [
    "df.head()"
   ]
  },
  {
   "cell_type": "code",
   "execution_count": 14,
   "id": "14618a18-0e3b-4e9e-ae9c-50ab76186efd",
   "metadata": {},
   "outputs": [],
   "source": [
    "df.to_csv(\"/Users/tobias/Dev/FOM/Master_Thesis/data/Final_DE/Validation/test.csv\", sep=';', index=False)"
   ]
  },
  {
   "cell_type": "code",
   "execution_count": null,
   "id": "1f478b98-ee88-41fd-a234-0eb27328f199",
   "metadata": {},
   "outputs": [],
   "source": []
  },
  {
   "cell_type": "code",
   "execution_count": 50,
   "id": "95fab119-5a63-4cd6-aa38-907771037ef9",
   "metadata": {},
   "outputs": [
    {
     "name": "stdout",
     "output_type": "stream",
     "text": [
      "/Users/tobias/Dev/FOM/Master_Thesis/data/Final_DE/Validation/de_validation_0.csv\n",
      "/Users/tobias/Dev/FOM/Master_Thesis/data/Final_DE/Validation/de_validation_1.csv\n",
      "/Users/tobias/Dev/FOM/Master_Thesis/data/Final_DE/Validation/de_validation_2.csv\n",
      "/Users/tobias/Dev/FOM/Master_Thesis/data/Final_DE/Validation/de_validation_3.csv\n",
      "/Users/tobias/Dev/FOM/Master_Thesis/data/Final_DE/Validation/de_validation_4.csv\n",
      "/Users/tobias/Dev/FOM/Master_Thesis/data/Final_DE/Validation/de_validation_5.csv\n",
      "/Users/tobias/Dev/FOM/Master_Thesis/data/Final_DE/Validation/de_validation_6.csv\n",
      "/Users/tobias/Dev/FOM/Master_Thesis/data/Final_DE/Validation/de_validation_7.csv\n",
      "/Users/tobias/Dev/FOM/Master_Thesis/data/Final_DE/Validation/de_validation_8.csv\n",
      "/Users/tobias/Dev/FOM/Master_Thesis/data/Final_DE/Validation/de_validation_9.csv\n",
      "/Users/tobias/Dev/FOM/Master_Thesis/data/Final_DE/Validation/de_validation_10.csv\n",
      "/Users/tobias/Dev/FOM/Master_Thesis/data/Final_DE/Validation/de_validation_11.csv\n",
      "/Users/tobias/Dev/FOM/Master_Thesis/data/Final_DE/Validation/de_validation_12.csv\n",
      "/Users/tobias/Dev/FOM/Master_Thesis/data/Final_DE/Validation/de_validation_13.csv\n",
      "/Users/tobias/Dev/FOM/Master_Thesis/data/Final_DE/Validation/de_validation_14.csv\n",
      "/Users/tobias/Dev/FOM/Master_Thesis/data/Final_EN/Validation/en_validation_0.csv\n",
      "/Users/tobias/Dev/FOM/Master_Thesis/data/Final_EN/Validation/en_validation_1.csv\n",
      "/Users/tobias/Dev/FOM/Master_Thesis/data/Final_EN/Validation/en_validation_2.csv\n",
      "/Users/tobias/Dev/FOM/Master_Thesis/data/Final_EN/Validation/en_validation_3.csv\n",
      "/Users/tobias/Dev/FOM/Master_Thesis/data/Final_EN/Validation/en_validation_4.csv\n",
      "/Users/tobias/Dev/FOM/Master_Thesis/data/Final_EN/Validation/en_validation_5.csv\n",
      "/Users/tobias/Dev/FOM/Master_Thesis/data/Final_EN/Validation/en_validation_6.csv\n",
      "/Users/tobias/Dev/FOM/Master_Thesis/data/Final_EN/Validation/en_validation_7.csv\n",
      "/Users/tobias/Dev/FOM/Master_Thesis/data/Final_EN/Validation/en_validation_8.csv\n",
      "/Users/tobias/Dev/FOM/Master_Thesis/data/Final_EN/Validation/en_validation_9.csv\n",
      "/Users/tobias/Dev/FOM/Master_Thesis/data/Final_EN/Validation/en_validation_10.csv\n",
      "/Users/tobias/Dev/FOM/Master_Thesis/data/Final_EN/Validation/en_validation_11.csv\n",
      "/Users/tobias/Dev/FOM/Master_Thesis/data/Final_EN/Validation/en_validation_12.csv\n",
      "/Users/tobias/Dev/FOM/Master_Thesis/data/Final_EN/Validation/en_validation_13.csv\n",
      "/Users/tobias/Dev/FOM/Master_Thesis/data/Final_EN/Validation/en_validation_14.csv\n"
     ]
    }
   ],
   "source": [
    "for each in range(0,15):\n",
    "    file_name = \"/Users/tobias/Dev/FOM/Master_Thesis/data/Final_DE/Validation/de_validation_{file_nbr}.csv\".format(file_nbr=each)\n",
    "    print(file_name)\n",
    "    df = pd.read_csv(file_name, sep=\";\")\n",
    "    df[\"sentiment\"] = \"\"\n",
    "    df.to_csv(file_name, sep=\";\", index=False)\n",
    "    \n",
    "for each in range(0,15):\n",
    "    file_name = \"/Users/tobias/Dev/FOM/Master_Thesis/data/Final_EN/Validation/en_validation_{file_nbr}.csv\".format(file_nbr=each)\n",
    "    print(file_name)\n",
    "    df = pd.read_csv(file_name, sep=\";\")\n",
    "    df[\"sentiment\"] = \"\"\n",
    "    df.to_csv(file_name, sep=\";\", index=False)\n",
    "\n",
    "\n"
   ]
  },
  {
   "cell_type": "code",
   "execution_count": 4,
   "id": "78326cc8-de99-490d-ac12-48c985b28043",
   "metadata": {},
   "outputs": [
    {
     "data": {
      "text/plain": [
       "'- Wirecard: Ist der Spuk jetzt vorbei? '"
      ]
     },
     "execution_count": 4,
     "metadata": {},
     "output_type": "execute_result"
    }
   ],
   "source": [
    "df.iloc[17][\"text\"]"
   ]
  },
  {
   "cell_type": "code",
   "execution_count": 5,
   "id": "9c3ae76a-8654-4b5c-8969-13f6ec646983",
   "metadata": {},
   "outputs": [
    {
     "data": {
      "text/plain": [
       "1110549492900737025"
      ]
     },
     "execution_count": 5,
     "metadata": {},
     "output_type": "execute_result"
    }
   ],
   "source": [
    "df.iloc[17][\"tweet_id\"]"
   ]
  },
  {
   "cell_type": "code",
   "execution_count": 46,
   "id": "5218ee8b-ea41-417c-ad1c-6e8e5572f1d0",
   "metadata": {},
   "outputs": [],
   "source": [
    "#### df = pd.read_csv(\"/Users/tobias/Dev/FOM/Master_Thesis/data/Final_DE/Dataset_Wirecard.csv\", sep=\";\")\n",
    "df = pd.read_csv(\"/Users/tobias/Dev/FOM/Master_Thesis/data/Final_DE/Dataset_Wirecard.csv\", sep=\";\", \n",
    "                            converters={\"tweet_type\": lambda x: x.strip(\"[]\").replace(\"'\", \"\").split(\", \"),\n",
    "                                        \"referenced_tweet_id\": lambda x: x.strip(\"[]\").replace(\"'\", \"\").split(\", \")},\n",
    "                           parse_dates=[\"created_at\"])\n",
    "df = df.explode([\"referenced_tweet_id\", \"tweet_type\"], ignore_index=True)"
   ]
  },
  {
   "cell_type": "code",
   "execution_count": 47,
   "id": "330ed33a-6091-4eec-8370-46e496a287cd",
   "metadata": {},
   "outputs": [
    {
     "data": {
      "text/html": [
       "<div>\n",
       "<style scoped>\n",
       "    .dataframe tbody tr th:only-of-type {\n",
       "        vertical-align: middle;\n",
       "    }\n",
       "\n",
       "    .dataframe tbody tr th {\n",
       "        vertical-align: top;\n",
       "    }\n",
       "\n",
       "    .dataframe thead th {\n",
       "        text-align: right;\n",
       "    }\n",
       "</style>\n",
       "<table border=\"1\" class=\"dataframe\">\n",
       "  <thead>\n",
       "    <tr style=\"text-align: right;\">\n",
       "      <th></th>\n",
       "      <th>conversation_id</th>\n",
       "      <th>author_id</th>\n",
       "      <th>created_at</th>\n",
       "      <th>tweet_id</th>\n",
       "      <th>lang</th>\n",
       "      <th>retweet_count</th>\n",
       "      <th>reply_count</th>\n",
       "      <th>like_count</th>\n",
       "      <th>quote_count</th>\n",
       "      <th>source</th>\n",
       "      <th>tweet_type</th>\n",
       "      <th>referenced_tweet_id</th>\n",
       "      <th>text</th>\n",
       "    </tr>\n",
       "  </thead>\n",
       "  <tbody>\n",
       "    <tr>\n",
       "      <th>0</th>\n",
       "      <td>703311366262800384</td>\n",
       "      <td>1392131804</td>\n",
       "      <td>2016-02-26 20:11:11+00:00</td>\n",
       "      <td>703311366262800384</td>\n",
       "      <td>de</td>\n",
       "      <td>0</td>\n",
       "      <td>0</td>\n",
       "      <td>2</td>\n",
       "      <td>0</td>\n",
       "      <td>Twitter Web Client</td>\n",
       "      <td>None</td>\n",
       "      <td>None</td>\n",
       "      <td>Wirecard-Chef Markus Braun pumpt irrwitzige Su...</td>\n",
       "    </tr>\n",
       "    <tr>\n",
       "      <th>1</th>\n",
       "      <td>702405572012974080</td>\n",
       "      <td>1053723204</td>\n",
       "      <td>2016-02-24 08:11:53+00:00</td>\n",
       "      <td>702405572012974080</td>\n",
       "      <td>de</td>\n",
       "      <td>0</td>\n",
       "      <td>0</td>\n",
       "      <td>0</td>\n",
       "      <td>0</td>\n",
       "      <td>Twitter Web Client</td>\n",
       "      <td>None</td>\n",
       "      <td>None</td>\n",
       "      <td>Jetzt günstig einsammeln und später absahnen? ...</td>\n",
       "    </tr>\n",
       "    <tr>\n",
       "      <th>2</th>\n",
       "      <td>700578193334411264</td>\n",
       "      <td>19811837</td>\n",
       "      <td>2016-02-19 07:10:32+00:00</td>\n",
       "      <td>700578193334411264</td>\n",
       "      <td>de</td>\n",
       "      <td>2</td>\n",
       "      <td>0</td>\n",
       "      <td>0</td>\n",
       "      <td>0</td>\n",
       "      <td>Twitter Web Client</td>\n",
       "      <td>None</td>\n",
       "      <td>None</td>\n",
       "      <td>Wirecard: Was führt der Vorstand im Schilde? M...</td>\n",
       "    </tr>\n",
       "    <tr>\n",
       "      <th>3</th>\n",
       "      <td>700221272840601601</td>\n",
       "      <td>19811837</td>\n",
       "      <td>2016-02-18 07:32:15+00:00</td>\n",
       "      <td>700221272840601601</td>\n",
       "      <td>de</td>\n",
       "      <td>0</td>\n",
       "      <td>0</td>\n",
       "      <td>1</td>\n",
       "      <td>0</td>\n",
       "      <td>Twitter Web Client</td>\n",
       "      <td>None</td>\n",
       "      <td>None</td>\n",
       "      <td>Wirecard-Vorstand kauft weiter massiv eigene A...</td>\n",
       "    </tr>\n",
       "    <tr>\n",
       "      <th>4</th>\n",
       "      <td>697324084221227008</td>\n",
       "      <td>183289696</td>\n",
       "      <td>2016-02-10 07:39:51+00:00</td>\n",
       "      <td>697324084221227008</td>\n",
       "      <td>de</td>\n",
       "      <td>0</td>\n",
       "      <td>0</td>\n",
       "      <td>0</td>\n",
       "      <td>0</td>\n",
       "      <td>dlvr.it</td>\n",
       "      <td>None</td>\n",
       "      <td>None</td>\n",
       "      <td>📈 Wirecard: Serie von Aktienkäufen des Vorstan...</td>\n",
       "    </tr>\n",
       "  </tbody>\n",
       "</table>\n",
       "</div>"
      ],
      "text/plain": [
       "      conversation_id   author_id                created_at  \\\n",
       "0  703311366262800384  1392131804 2016-02-26 20:11:11+00:00   \n",
       "1  702405572012974080  1053723204 2016-02-24 08:11:53+00:00   \n",
       "2  700578193334411264    19811837 2016-02-19 07:10:32+00:00   \n",
       "3  700221272840601601    19811837 2016-02-18 07:32:15+00:00   \n",
       "4  697324084221227008   183289696 2016-02-10 07:39:51+00:00   \n",
       "\n",
       "             tweet_id lang  retweet_count  reply_count  like_count  \\\n",
       "0  703311366262800384   de              0            0           2   \n",
       "1  702405572012974080   de              0            0           0   \n",
       "2  700578193334411264   de              2            0           0   \n",
       "3  700221272840601601   de              0            0           1   \n",
       "4  697324084221227008   de              0            0           0   \n",
       "\n",
       "   quote_count              source tweet_type referenced_tweet_id  \\\n",
       "0            0  Twitter Web Client       None                None   \n",
       "1            0  Twitter Web Client       None                None   \n",
       "2            0  Twitter Web Client       None                None   \n",
       "3            0  Twitter Web Client       None                None   \n",
       "4            0             dlvr.it       None                None   \n",
       "\n",
       "                                                text  \n",
       "0  Wirecard-Chef Markus Braun pumpt irrwitzige Su...  \n",
       "1  Jetzt günstig einsammeln und später absahnen? ...  \n",
       "2  Wirecard: Was führt der Vorstand im Schilde? M...  \n",
       "3  Wirecard-Vorstand kauft weiter massiv eigene A...  \n",
       "4  📈 Wirecard: Serie von Aktienkäufen des Vorstan...  "
      ]
     },
     "execution_count": 47,
     "metadata": {},
     "output_type": "execute_result"
    }
   ],
   "source": [
    "df.head()"
   ]
  },
  {
   "cell_type": "code",
   "execution_count": 35,
   "id": "6e300253-0179-4f74-b6f1-31431e671d9a",
   "metadata": {},
   "outputs": [
    {
     "name": "stdout",
     "output_type": "stream",
     "text": [
      "conversation_id:  703311366262800384 type:  <class 'str'>\n",
      "author_id:  1392131804.0 type:  <class 'numpy.float64'>\n",
      "created_at:  2016-02-26 20:11:11+00:00 type:  <class 'pandas._libs.tslibs.timestamps.Timestamp'>\n",
      "tweet_id:  7.033113662628004e+17 type:  <class 'numpy.float64'>\n",
      "lang:  de type:  <class 'str'>\n",
      "retweet_count:  0.0 type:  <class 'numpy.float64'>\n",
      "reply_count:  0.0 type:  <class 'numpy.float64'>\n",
      "like_count:  2.0 type:  <class 'numpy.float64'>\n",
      "quote_count:  0.0 type:  <class 'numpy.float64'>\n",
      "source:  Twitter Web Client type:  <class 'str'>\n",
      "tweet_type:  None type:  <class 'str'>\n",
      "referenced_tweet_id:  None type:  <class 'str'>\n",
      "text:  Wirecard-Chef Markus Braun pumpt irrwitzige Summen in sein Unternehmen. Woher stammt das Geld?    type:  <class 'str'>\n"
     ]
    }
   ],
   "source": [
    "print(\"conversation_id: \", df.iloc[0][\"conversation_id\"], \"type: \", type(df.iloc[0][\"conversation_id\"]))\n",
    "print(\"author_id: \", df.iloc[0][\"author_id\"], \"type: \", type(df.iloc[0][\"author_id\"]))\n",
    "print(\"created_at: \", df.iloc[0][\"created_at\"], \"type: \", type(df.iloc[0][\"created_at\"]))\n",
    "print(\"tweet_id: \", df.iloc[0][\"tweet_id\"], \"type: \", type(df.iloc[0][\"tweet_id\"]))\n",
    "print(\"lang: \", df.iloc[0][\"lang\"], \"type: \", type(df.iloc[0][\"lang\"]))\n",
    "print(\"retweet_count: \", df.iloc[0][\"retweet_count\"], \"type: \", type(df.iloc[0][\"retweet_count\"]))\n",
    "print(\"reply_count: \", df.iloc[0][\"reply_count\"], \"type: \", type(df.iloc[0][\"reply_count\"]))\n",
    "print(\"like_count: \", df.iloc[0][\"like_count\"], \"type: \", type(df.iloc[0][\"like_count\"]))\n",
    "print(\"quote_count: \", df.iloc[0][\"quote_count\"], \"type: \", type(df.iloc[0][\"quote_count\"]))\n",
    "print(\"source: \", df.iloc[0][\"source\"], \"type: \", type(df.iloc[0][\"source\"]))\n",
    "print(\"tweet_type: \", df.iloc[0][\"tweet_type\"], \"type: \", type(df.iloc[0][\"tweet_type\"]))\n",
    "print(\"referenced_tweet_id: \", df.iloc[0][\"referenced_tweet_id\"], \"type: \", type(df.iloc[0][\"referenced_tweet_id\"]))\n",
    "print(\"text: \", df.iloc[0][\"text\"], \"type: \", type(df.iloc[0][\"text\"]))"
   ]
  },
  {
   "cell_type": "code",
   "execution_count": 20,
   "id": "551d56ed-aa31-4f9b-87f0-6cb3528400ad",
   "metadata": {},
   "outputs": [
    {
     "data": {
      "text/plain": [
       "114445"
      ]
     },
     "execution_count": 20,
     "metadata": {},
     "output_type": "execute_result"
    }
   ],
   "source": [
    "len(df)"
   ]
  },
  {
   "cell_type": "code",
   "execution_count": 21,
   "id": "37e68381-c559-4644-bf77-e663c4d53598",
   "metadata": {},
   "outputs": [
    {
     "data": {
      "text/html": [
       "<div>\n",
       "<style scoped>\n",
       "    .dataframe tbody tr th:only-of-type {\n",
       "        vertical-align: middle;\n",
       "    }\n",
       "\n",
       "    .dataframe tbody tr th {\n",
       "        vertical-align: top;\n",
       "    }\n",
       "\n",
       "    .dataframe thead th {\n",
       "        text-align: right;\n",
       "    }\n",
       "</style>\n",
       "<table border=\"1\" class=\"dataframe\">\n",
       "  <thead>\n",
       "    <tr style=\"text-align: right;\">\n",
       "      <th></th>\n",
       "      <th>conversation_id</th>\n",
       "      <th>author_id</th>\n",
       "      <th>created_at</th>\n",
       "      <th>tweet_id</th>\n",
       "      <th>lang</th>\n",
       "      <th>retweet_count</th>\n",
       "      <th>reply_count</th>\n",
       "      <th>like_count</th>\n",
       "      <th>quote_count</th>\n",
       "      <th>source</th>\n",
       "      <th>tweet_type</th>\n",
       "      <th>referenced_tweet_id</th>\n",
       "      <th>text</th>\n",
       "    </tr>\n",
       "  </thead>\n",
       "  <tbody>\n",
       "    <tr>\n",
       "      <th>35190</th>\n",
       "      <td>1098481156616605696</td>\n",
       "      <td>19811837.0</td>\n",
       "      <td>2019-02-21 07:14:51+00:00</td>\n",
       "      <td>1.098481e+18</td>\n",
       "      <td>de</td>\n",
       "      <td>0.0</td>\n",
       "      <td>0.0</td>\n",
       "      <td>1.0</td>\n",
       "      <td>0.0</td>\n",
       "      <td>Twitter Web Client</td>\n",
       "      <td>None</td>\n",
       "      <td>None</td>\n",
       "      <td>Marktüberblick: Dow Jones, DAX, Telekom, Wirec...</td>\n",
       "    </tr>\n",
       "  </tbody>\n",
       "</table>\n",
       "</div>"
      ],
      "text/plain": [
       "           conversation_id   author_id                 created_at  \\\n",
       "35190  1098481156616605696  19811837.0  2019-02-21 07:14:51+00:00   \n",
       "\n",
       "           tweet_id lang  retweet_count  reply_count  like_count  quote_count  \\\n",
       "35190  1.098481e+18   de            0.0          0.0         1.0          0.0   \n",
       "\n",
       "                   source tweet_type referenced_tweet_id  \\\n",
       "35190  Twitter Web Client       None                None   \n",
       "\n",
       "                                                    text  \n",
       "35190  Marktüberblick: Dow Jones, DAX, Telekom, Wirec...  "
      ]
     },
     "execution_count": 21,
     "metadata": {},
     "output_type": "execute_result"
    }
   ],
   "source": [
    "df.sample()"
   ]
  },
  {
   "cell_type": "code",
   "execution_count": 22,
   "id": "ac6331ee-3657-4f08-b41d-40d3d5f09d94",
   "metadata": {},
   "outputs": [
    {
     "name": "stdout",
     "output_type": "stream",
     "text": [
      "0\n",
      "100\n",
      "Start bei 0 und ende bei 100. Name der Datei: de_validation_0.csv\n",
      "100\n",
      "200\n",
      "Start bei 100 und ende bei 200. Name der Datei: de_validation_1.csv\n",
      "200\n",
      "300\n",
      "Start bei 200 und ende bei 300. Name der Datei: de_validation_2.csv\n",
      "300\n",
      "400\n",
      "Start bei 300 und ende bei 400. Name der Datei: de_validation_3.csv\n",
      "400\n",
      "500\n",
      "Start bei 400 und ende bei 500. Name der Datei: de_validation_4.csv\n",
      "500\n",
      "600\n",
      "Start bei 500 und ende bei 600. Name der Datei: de_validation_5.csv\n",
      "600\n",
      "700\n",
      "Start bei 600 und ende bei 700. Name der Datei: de_validation_6.csv\n",
      "700\n",
      "800\n",
      "Start bei 700 und ende bei 800. Name der Datei: de_validation_7.csv\n",
      "800\n",
      "900\n",
      "Start bei 800 und ende bei 900. Name der Datei: de_validation_8.csv\n",
      "900\n",
      "1000\n",
      "Start bei 900 und ende bei 1000. Name der Datei: de_validation_9.csv\n",
      "1000\n",
      "1100\n",
      "Start bei 1000 und ende bei 1100. Name der Datei: de_validation_10.csv\n",
      "1100\n",
      "1200\n",
      "Start bei 1100 und ende bei 1200. Name der Datei: de_validation_11.csv\n",
      "1200\n",
      "1300\n",
      "Start bei 1200 und ende bei 1300. Name der Datei: de_validation_12.csv\n",
      "1300\n",
      "1400\n",
      "Start bei 1300 und ende bei 1400. Name der Datei: de_validation_13.csv\n",
      "1400\n",
      "1500\n",
      "Start bei 1400 und ende bei 1500. Name der Datei: de_validation_14.csv\n"
     ]
    }
   ],
   "source": [
    "df_sample = df.sample(n = 1500)[[\"tweet_id\", \"text\"]]\n",
    "batch = 14\n",
    "counter = 0 \n",
    "for batch in range(0,15):\n",
    "    start = 100*batch\n",
    "    end = 100*batch+100\n",
    "    csv_name = 'de_validation_{count}.csv'.format(count=batch)\n",
    "    df_sample.iloc[start:end].to_csv(csv_name, sep=';', index=False)\n",
    "    print(start)\n",
    "    print(end)\n",
    "    #print(df_sample.iloc[start:end])\n",
    "    print(\"Start bei {start} und ende bei {ende}. Name der Datei: {csv}\".format(start=start, ende=end, csv=csv_name))"
   ]
  },
  {
   "cell_type": "code",
   "execution_count": 15,
   "id": "415ae838-dda3-40e2-8334-6f840e0533a0",
   "metadata": {},
   "outputs": [
    {
     "name": "stdout",
     "output_type": "stream",
     "text": [
      "/Users/tobias/Dev/FOM/Master_Thesis/data/Final_DE/Validation/de_validation_0.csv\n",
      "/Users/tobias/Dev/FOM/Master_Thesis/data/Final_DE/Validation/de_validation_1.csv\n",
      "/Users/tobias/Dev/FOM/Master_Thesis/data/Final_DE/Validation/de_validation_2.csv\n",
      "/Users/tobias/Dev/FOM/Master_Thesis/data/Final_DE/Validation/de_validation_3.csv\n",
      "/Users/tobias/Dev/FOM/Master_Thesis/data/Final_DE/Validation/de_validation_4.csv\n",
      "/Users/tobias/Dev/FOM/Master_Thesis/data/Final_DE/Validation/de_validation_5.csv\n",
      "/Users/tobias/Dev/FOM/Master_Thesis/data/Final_DE/Validation/de_validation_6.csv\n",
      "/Users/tobias/Dev/FOM/Master_Thesis/data/Final_DE/Validation/de_validation_7.csv\n",
      "/Users/tobias/Dev/FOM/Master_Thesis/data/Final_DE/Validation/de_validation_8.csv\n",
      "/Users/tobias/Dev/FOM/Master_Thesis/data/Final_DE/Validation/de_validation_9.csv\n",
      "/Users/tobias/Dev/FOM/Master_Thesis/data/Final_DE/Validation/de_validation_10.csv\n",
      "/Users/tobias/Dev/FOM/Master_Thesis/data/Final_DE/Validation/de_validation_11.csv\n",
      "/Users/tobias/Dev/FOM/Master_Thesis/data/Final_DE/Validation/de_validation_12.csv\n",
      "/Users/tobias/Dev/FOM/Master_Thesis/data/Final_DE/Validation/de_validation_13.csv\n",
      "/Users/tobias/Dev/FOM/Master_Thesis/data/Final_DE/Validation/de_validation_14.csv\n"
     ]
    }
   ],
   "source": [
    "for each in range(0,15):\n",
    "    file_name = \"/Users/tobias/Dev/FOM/Master_Thesis/data/Final_DE/Validation/de_validation_{file_nbr}.csv\".format(file_nbr=each)\n",
    "    print(file_name)\n",
    "    df = pd.read_csv(file_name, sep=\";\")\n",
    "    df[\"sentiment\"] = \"\"\n",
    "    df.to_csv(file_name, sep=\";\", index=False)\n",
    "    "
   ]
  },
  {
   "cell_type": "code",
   "execution_count": 17,
   "id": "0eb88025-69c0-4adb-8c90-5a35f0f3b96e",
   "metadata": {},
   "outputs": [
    {
     "data": {
      "text/plain": [
       "100"
      ]
     },
     "execution_count": 17,
     "metadata": {},
     "output_type": "execute_result"
    }
   ],
   "source": [
    "len(df)"
   ]
  },
  {
   "cell_type": "code",
   "execution_count": 48,
   "id": "03c85695-88a0-4ff3-84a7-51013066f407",
   "metadata": {},
   "outputs": [],
   "source": [
    "#### df = pd.read_csv(\"/Users/tobias/Dev/FOM/Master_Thesis/data/Final_DE/Dataset_Wirecard.csv\", sep=\";\")\n",
    "df = pd.read_csv(\"/Users/tobias/Dev/FOM/Master_Thesis/data/Final_EN/Dataset_Wirecard.csv\", sep=\";\", \n",
    "                            converters={\"tweet_type\": lambda x: x.strip(\"[]\").replace(\"'\", \"\").split(\", \"),\n",
    "                                        \"referenced_tweet_id\": lambda x: x.strip(\"[]\").replace(\"'\", \"\").split(\", \")},\n",
    "                           parse_dates=[\"created_at\"])\n",
    "df = df.explode([\"referenced_tweet_id\", \"tweet_type\"], ignore_index=True)"
   ]
  },
  {
   "cell_type": "code",
   "execution_count": 49,
   "id": "6c4fd2dd-fc96-4902-8169-79f6d1a03aa2",
   "metadata": {},
   "outputs": [
    {
     "data": {
      "text/html": [
       "<div>\n",
       "<style scoped>\n",
       "    .dataframe tbody tr th:only-of-type {\n",
       "        vertical-align: middle;\n",
       "    }\n",
       "\n",
       "    .dataframe tbody tr th {\n",
       "        vertical-align: top;\n",
       "    }\n",
       "\n",
       "    .dataframe thead th {\n",
       "        text-align: right;\n",
       "    }\n",
       "</style>\n",
       "<table border=\"1\" class=\"dataframe\">\n",
       "  <thead>\n",
       "    <tr style=\"text-align: right;\">\n",
       "      <th></th>\n",
       "      <th>conversation_id</th>\n",
       "      <th>author_id</th>\n",
       "      <th>created_at</th>\n",
       "      <th>tweet_id</th>\n",
       "      <th>lang</th>\n",
       "      <th>retweet_count</th>\n",
       "      <th>reply_count</th>\n",
       "      <th>like_count</th>\n",
       "      <th>quote_count</th>\n",
       "      <th>source</th>\n",
       "      <th>tweet_type</th>\n",
       "      <th>referenced_tweet_id</th>\n",
       "      <th>text</th>\n",
       "    </tr>\n",
       "  </thead>\n",
       "  <tbody>\n",
       "    <tr>\n",
       "      <th>0</th>\n",
       "      <td>703142204341026818</td>\n",
       "      <td>349287204</td>\n",
       "      <td>2016-02-26 08:58:59+00:00</td>\n",
       "      <td>703142204341026818</td>\n",
       "      <td>en</td>\n",
       "      <td>0</td>\n",
       "      <td>0</td>\n",
       "      <td>1</td>\n",
       "      <td>0</td>\n",
       "      <td>Twitter Web Client</td>\n",
       "      <td>None</td>\n",
       "      <td>None</td>\n",
       "      <td>1/2 I see Wirecard is rebounding after CEO Mar...</td>\n",
       "    </tr>\n",
       "    <tr>\n",
       "      <th>1</th>\n",
       "      <td>695255175334924288</td>\n",
       "      <td>428593285</td>\n",
       "      <td>2016-02-04 14:38:45+00:00</td>\n",
       "      <td>695255175334924288</td>\n",
       "      <td>en</td>\n",
       "      <td>0</td>\n",
       "      <td>0</td>\n",
       "      <td>0</td>\n",
       "      <td>0</td>\n",
       "      <td>IFTTT</td>\n",
       "      <td>None</td>\n",
       "      <td>None</td>\n",
       "      <td>Thank you for following us Markus Braun!</td>\n",
       "    </tr>\n",
       "    <tr>\n",
       "      <th>2</th>\n",
       "      <td>695237701386244098</td>\n",
       "      <td>95129352</td>\n",
       "      <td>2016-02-04 13:29:19+00:00</td>\n",
       "      <td>695237701386244098</td>\n",
       "      <td>en</td>\n",
       "      <td>1</td>\n",
       "      <td>0</td>\n",
       "      <td>1</td>\n",
       "      <td>0</td>\n",
       "      <td>Twitter Web Client</td>\n",
       "      <td>None</td>\n",
       "      <td>None</td>\n",
       "      <td>Disrupt the Banks! (Jeff Stewart, Markus Braun...</td>\n",
       "    </tr>\n",
       "    <tr>\n",
       "      <th>3</th>\n",
       "      <td>718385114170966016</td>\n",
       "      <td>17616154</td>\n",
       "      <td>2016-04-08 10:28:52+00:00</td>\n",
       "      <td>718385114170966016</td>\n",
       "      <td>en</td>\n",
       "      <td>0</td>\n",
       "      <td>0</td>\n",
       "      <td>0</td>\n",
       "      <td>0</td>\n",
       "      <td>Twitter Web Client</td>\n",
       "      <td>None</td>\n",
       "      <td>None</td>\n",
       "      <td>WDI wirecard CEO Markus Braun on Q4 2015 Resul...</td>\n",
       "    </tr>\n",
       "    <tr>\n",
       "      <th>4</th>\n",
       "      <td>718384477215567873</td>\n",
       "      <td>546713</td>\n",
       "      <td>2016-04-08 10:26:20+00:00</td>\n",
       "      <td>718384477215567873</td>\n",
       "      <td>en</td>\n",
       "      <td>1</td>\n",
       "      <td>0</td>\n",
       "      <td>3</td>\n",
       "      <td>0</td>\n",
       "      <td>Twitter Web Client</td>\n",
       "      <td>None</td>\n",
       "      <td>None</td>\n",
       "      <td>Wirecard Analyst Call transcript is available ...</td>\n",
       "    </tr>\n",
       "  </tbody>\n",
       "</table>\n",
       "</div>"
      ],
      "text/plain": [
       "      conversation_id  author_id                created_at  \\\n",
       "0  703142204341026818  349287204 2016-02-26 08:58:59+00:00   \n",
       "1  695255175334924288  428593285 2016-02-04 14:38:45+00:00   \n",
       "2  695237701386244098   95129352 2016-02-04 13:29:19+00:00   \n",
       "3  718385114170966016   17616154 2016-04-08 10:28:52+00:00   \n",
       "4  718384477215567873     546713 2016-04-08 10:26:20+00:00   \n",
       "\n",
       "             tweet_id lang  retweet_count  reply_count  like_count  \\\n",
       "0  703142204341026818   en              0            0           1   \n",
       "1  695255175334924288   en              0            0           0   \n",
       "2  695237701386244098   en              1            0           1   \n",
       "3  718385114170966016   en              0            0           0   \n",
       "4  718384477215567873   en              1            0           3   \n",
       "\n",
       "   quote_count              source tweet_type referenced_tweet_id  \\\n",
       "0            0  Twitter Web Client       None                None   \n",
       "1            0               IFTTT       None                None   \n",
       "2            0  Twitter Web Client       None                None   \n",
       "3            0  Twitter Web Client       None                None   \n",
       "4            0  Twitter Web Client       None                None   \n",
       "\n",
       "                                                text  \n",
       "0  1/2 I see Wirecard is rebounding after CEO Mar...  \n",
       "1           Thank you for following us Markus Braun!  \n",
       "2  Disrupt the Banks! (Jeff Stewart, Markus Braun...  \n",
       "3  WDI wirecard CEO Markus Braun on Q4 2015 Resul...  \n",
       "4  Wirecard Analyst Call transcript is available ...  "
      ]
     },
     "execution_count": 49,
     "metadata": {},
     "output_type": "execute_result"
    }
   ],
   "source": [
    "df.head()"
   ]
  },
  {
   "cell_type": "code",
   "execution_count": null,
   "id": "a0dfa358-daef-49a5-85fa-e988d55504ae",
   "metadata": {},
   "outputs": [],
   "source": []
  }
 ],
 "metadata": {
  "kernelspec": {
   "display_name": "master_thesis_3.9.10",
   "language": "python",
   "name": "master_thesis_3.9.10"
  },
  "language_info": {
   "codemirror_mode": {
    "name": "ipython",
    "version": 3
   },
   "file_extension": ".py",
   "mimetype": "text/x-python",
   "name": "python",
   "nbconvert_exporter": "python",
   "pygments_lexer": "ipython3",
   "version": "3.9.10"
  }
 },
 "nbformat": 4,
 "nbformat_minor": 5
}
