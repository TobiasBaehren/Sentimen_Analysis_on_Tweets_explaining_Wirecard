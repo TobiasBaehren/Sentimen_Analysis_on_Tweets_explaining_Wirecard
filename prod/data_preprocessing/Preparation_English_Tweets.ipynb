{
 "cells": [
  {
   "cell_type": "markdown",
   "id": "f6ae1ac2-0b2c-4578-9694-7040882deec9",
   "metadata": {},
   "source": [
    "<h1>Preparation of the English Twitter Data</h1>"
   ]
  },
  {
   "cell_type": "markdown",
   "id": "a323e70f-92a0-45e4-845f-b9d5aaa92fbb",
   "metadata": {},
   "source": [
    "<p>This file is for preparing the german tweets. The preparation is mainly for training my own model for sentiment detection with Flair. </p>"
   ]
  },
  {
   "cell_type": "code",
   "execution_count": 1,
   "id": "5d435d73-8df6-4ae8-8694-a8e75747958f",
   "metadata": {},
   "outputs": [],
   "source": [
    "import csv\n",
    "import numpy as np\n",
    "import pandas as pd\n",
    "import re\n",
    "import nltk\n",
    "from nltk.corpus import stopwords\n",
    "from wordcloud import WordCloud\n",
    "import matplotlib.pyplot as plt\n",
    "from HanTa import HanoverTagger as ht"
   ]
  },
  {
   "cell_type": "markdown",
   "id": "fba70b51-726a-477a-bfce-9f62ea40b0f7",
   "metadata": {},
   "source": [
    "<p>Download der Stopwörter Listen</p>"
   ]
  },
  {
   "cell_type": "code",
   "execution_count": null,
   "id": "2f508d8d-486d-46f5-9b43-b6f1e4dcdb64",
   "metadata": {},
   "outputs": [],
   "source": [
    "#nltk.download('stopwords')"
   ]
  },
  {
   "cell_type": "markdown",
   "id": "75921e4f-1906-4f14-b6b4-0ee534677d54",
   "metadata": {},
   "source": [
    "<h1>Einlesen und bestimmung der Felder</h1>\n",
    "<p>Durch die weitern Operatoren, kann ich die einzelnen Felder in DF bestimmen. Durch die Lambda Funktion werden die Str zu Listen, was die spätere verarbeitung erleichtert. \n",
    "    Durch die Parse_dates Funktion wird das Datumsfeld zu einem Timestamp, was die weiter Verarbeitung wesentlich leichter macht.</p>"
   ]
  },
  {
   "cell_type": "code",
   "execution_count": 2,
   "id": "2e546077-cd87-49e0-b3a3-4cb63f9f353c",
   "metadata": {},
   "outputs": [],
   "source": [
    "df_manager = pd.read_csv(\"/Users/tobias/Dev/FOM/Master_Thesis/data/Manager_EN/data.csv\", sep=\";\", \n",
    "                            converters={\"tweet_type\": lambda x: x.strip(\"[]\").replace(\"'\", \"\").split(\", \"),\n",
    "                                        \"referenced_tweet_id\": lambda x: x.strip(\"[]\").replace(\"'\", \"\").split(\", \")},\n",
    "                           parse_dates=[\"created_at\"])\n",
    "df_manager = df_manager.explode([\"referenced_tweet_id\", \"tweet_type\"], ignore_index=True)"
   ]
  },
  {
   "cell_type": "code",
   "execution_count": 3,
   "id": "112a0b0d-5dda-4530-a948-39d0b2264a74",
   "metadata": {},
   "outputs": [
    {
     "data": {
      "text/plain": [
       "17844"
      ]
     },
     "execution_count": 3,
     "metadata": {},
     "output_type": "execute_result"
    }
   ],
   "source": [
    "len(df_manager)"
   ]
  },
  {
   "cell_type": "markdown",
   "id": "afc009d8-9b2e-491f-8e13-b4e8b7658a44",
   "metadata": {},
   "source": [
    "<h3>Löschen von unnötigen Informationen</h3>"
   ]
  },
  {
   "cell_type": "markdown",
   "id": "59f85854-849b-4e8f-b2a0-6bd66cd16083",
   "metadata": {},
   "source": [
    "<p>Hiermit werden alle Textbausteine gelöscht, die nicht benötigt werden. Personen bleiben in diesem Schritt noch enthalten.</p>"
   ]
  },
  {
   "cell_type": "code",
   "execution_count": 6,
   "id": "b40ee800-6278-4bb6-84af-4b70f59ff94b",
   "metadata": {},
   "outputs": [],
   "source": [
    "#just for test\n",
    "for each in range(len(df_manager)):\n",
    "    df_manager.loc[df_manager[\"text\"] == \n",
    "                      df_manager.loc[each][\"text\"], \"text\"] = re.sub(r'http\\S+', '',(re.sub('[#|$]', '', df_manager.loc[each][\"text\"])))"
   ]
  },
  {
   "cell_type": "markdown",
   "id": "d33fa8c2-c3a8-4377-bec3-336dfb42db39",
   "metadata": {
    "tags": []
   },
   "source": [
    "<h1>Löschen von nicht weiter relevanten Tweets</h1>\n",
    "<h3>Löschen von Retweets</h3>\n",
    "<p>Alle Retweets löschen, da diese in diesem Schritt nicht benötigt werden.</p>"
   ]
  },
  {
   "cell_type": "code",
   "execution_count": 7,
   "id": "80f62e59-e2bb-485a-a2c1-6a4df6a68f66",
   "metadata": {},
   "outputs": [
    {
     "name": "stdout",
     "output_type": "stream",
     "text": [
      "9473\n"
     ]
    }
   ],
   "source": [
    "counter = 0\n",
    "retweet_list = []\n",
    "for each in range(len(df_manager)):\n",
    "    if \"retweeted\" in df_manager.iloc[each][\"tweet_type\"]:\n",
    "        retweet_list.append(each)\n",
    "        counter += 1\n",
    "print(counter)"
   ]
  },
  {
   "cell_type": "code",
   "execution_count": 8,
   "id": "d5b331e1-be63-4506-a5c0-ef67f8f3dffb",
   "metadata": {},
   "outputs": [],
   "source": [
    "df_manager = df_manager.drop(retweet_list)\n",
    "df_manager = df_manager.reset_index(drop=True)\n",
    "print(len(df_manager))"
   ]
  },
  {
   "cell_type": "markdown",
   "id": "c96102ab-51d8-4d27-93d7-58f58db774f7",
   "metadata": {
    "tags": []
   },
   "source": [
    "<h3>Löschen von doppelten Tweets</h3>\n",
    "<p>Alle Tweets, die dopplet im Datensatz enthalten sind, anhand der tweet_id werden gelöscht. Somit werden auch die zuvor aufgespalteten Listen wieder gelöscht</p>"
   ]
  },
  {
   "cell_type": "code",
   "execution_count": 9,
   "id": "103a126a-a979-422b-8428-37cb8f75fc4a",
   "metadata": {},
   "outputs": [],
   "source": [
    "df_manager = df_manager.drop_duplicates(subset=[\"tweet_id\"])\n",
    "df_manager = df_manager.reset_index(drop=True)\n",
    "print(len(df_manager))"
   ]
  },
  {
   "cell_type": "markdown",
   "id": "5d5f94c7-ad5a-4fe2-98f0-ce3ab26e5dc7",
   "metadata": {},
   "source": [
    "<h3>Nicht Kontextbezogene Tweets löschen</h3>\n",
    "<p>So kann ich prüfen ob bestimmte Begriffe in den Texten enthalten sind und mir die conversation_id ausgeben lassen. Diese lasse ich dann löschen und auch zugehörige Tweets, da diese nicht in den Kontext passen.<br>Die wörter in der Liste müssen klein geschrieben werden, da auch alle Buchstaben für die Prüfung klein geschrieben werden müssen, da sinst nicht alles erkannt wird.</p>\n",
    "<p>Zu löschende Begriffe</p>\n",
    "<ul>\n",
    "    <li>meiko</li>\n",
    "    <li>calisthenics</li>\n",
    "    <li>pulled</li>\n",
    "    <li>boxing</li>\n",
    "    <li>fom</li>\n",
    "    <li>dlr</li>\n",
    "    <li>eurocity</li>\n",
    "    <li>m.o.s.s</li>\n",
    "    <li>markus_braun_</li>\n",
    "</ul>"
   ]
  },
  {
   "cell_type": "markdown",
   "id": "38f805e3-4e62-46b7-a375-46a4ca1ff4cf",
   "metadata": {},
   "source": [
    "<p>Überprüfung der englischen Tweets. Im ersten Schritt wurden die Retweets gelöscht, dann alle doppelten Tweets. Anschließend gab es eine Liste mit Begriffen, die definitiv etwas mit dem Thema zu tun hatten. Diese wurden aus dem Datensatz zur prüfung gelöscht. Darauf folgte eine Liste mit Begriffen, die nichts mit dem Thema zu tun haben und deswegen gelöscht werden. Abschließend wurden zu überprüfungszwecken Tweets mit doppelten Texten gelöscht und im Anschluss einzelne Tweet ID gelöscht.</p>"
   ]
  },
  {
   "cell_type": "code",
   "execution_count": 11,
   "id": "402476d4-2d97-4fe2-b562-94f62ffbd95f",
   "metadata": {},
   "outputs": [],
   "source": [
    "#List with single IDs, which are not relevant for the dataset\n",
    "list_tweet_id = [719940834028863489, 771966867707682816, 919891703116566529, 730315192559673344, 1085012780053336064, 748146758232879104,\n",
    "                 1275383293504978945, 1121414883512393728, 1288961015351316480, 1284465825915838464, 955660777960230917, 962669158923153409,\n",
    "                 1016245557021507584, 1074388350734340097, 1115926018051792898, 1132148944031457280, 1130223973701246976, 1174984360669278209,\n",
    "                 1220356450809188353, 1255176912202108929]\n",
    "\n",
    "#Check and get tweet_ids for tweets with the same text as in the list_tweet_id.\n",
    "for tweet_id in list_tweet_id:\n",
    "    for each in df_manager.loc[df_manager[\"text\"] == df_manager.loc[df_manager[\"tweet_id\"] == tweet_id][\"text\"].values[0]][\"tweet_id\"].values:\n",
    "        if each not in list_tweet_id:\n",
    "            list_tweet_id.append(each)\n",
    "            \n",
    "#List of words which does not have anything to do with wirecard.\n",
    "not_used_words_list = [\"meiko\", \"calisthenics\", \"pulled pork\", \"boxing\", \" fom\", \"dlr\", \"eurocity\", \"m.o.s.s\", \"markus_braun_\"]\n",
    "\n",
    "#Iterate though the dataframe to get each tweet_id and save it in the list_tweet_id\n",
    "for each in range(len(df_manager)):\n",
    "    for word in not_used_words_list:\n",
    "        if word in df_manager.iloc[each][\"text\"].lower():\n",
    "            if df_manager.iloc[each][\"tweet_id\"] not in list_tweet_id:\n",
    "                list_tweet_id.append(df_manager.iloc[each][\"tweet_id\"])\n",
    "\n",
    "\n",
    "#Get further tweet_ids for every tweet_id that is stored in list_tweet_id\n",
    "for tweet in list_tweet_id:\n",
    "    for each in df_manager.loc[(\n",
    "        df_manager[\"tweet_id\"] == tweet) | (\n",
    "        df_manager[\"conversation_id\"] == df_manager.loc[df_manager[\"tweet_id\"] == tweet][\"conversation_id\"].values[0]) | (\n",
    "        df_manager[\"referenced_tweet_id\"] == tweet) | (\n",
    "        (df_manager[\"referenced_tweet_id\"] == df_manager.loc[df_manager[\"tweet_id\"] == tweet][\"referenced_tweet_id\"].values[0]) & (df_manager[\"referenced_tweet_id\"] != \"None\")) | (\n",
    "        df_manager[\"referenced_tweet_id\"] == df_manager.loc[df_manager[\"tweet_id\"] == tweet][\"conversation_id\"].values[0])][\"tweet_id\"].values:\n",
    "        #If the value is not in the list, it will be added to the list_tweet_id\n",
    "        if each not in list_tweet_id:\n",
    "            list_tweet_id.append(each)"
   ]
  },
  {
   "cell_type": "markdown",
   "id": "01b47f1b-0305-42f7-8bfc-3b43ae47bce3",
   "metadata": {},
   "source": [
    "<p>Löschen der zuvor ermitteletn Tweets.</p>"
   ]
  },
  {
   "cell_type": "code",
   "execution_count": 12,
   "id": "71b72b38-e7df-4074-abd1-2b2090641012",
   "metadata": {},
   "outputs": [],
   "source": [
    "#Iterate through list_tweet_id and remove every tweet, that has nothing to do with Wirecard.\n",
    "for each in list_tweet_id:\n",
    "    df_manager = df_manager.drop(df_manager.loc[df_manager[\"tweet_id\"] == each].index[0])\n",
    "#Set back the index. Otherwise it will not be possible to work with the index any loner. \n",
    "df_manager = df_manager.reset_index(drop=True)"
   ]
  },
  {
   "cell_type": "code",
   "execution_count": 13,
   "id": "670e937e-c3a9-4a46-95f4-bdfd236a7218",
   "metadata": {},
   "outputs": [],
   "source": [
    "for each in range(len(df_manager)):\n",
    "    df_manager.loc[df_manager[\"text\"] == \n",
    "                      df_manager.loc[each][\"text\"], \"text\"] = re.sub('@[^\\s]+', '', df_manager.loc[each][\"text\"])\n",
    "print(len(df_manager))"
   ]
  },
  {
   "cell_type": "markdown",
   "id": "ff0a4d59-63b2-4121-97fb-d5276c65aa4a",
   "metadata": {
    "tags": []
   },
   "source": [
    "<h1>Hinzufügen weiterer Twitter Datensätze</h1>\n",
    "<p>Hier werden die weiteren Datensätze zusammengeführt.</p>"
   ]
  },
  {
   "cell_type": "markdown",
   "id": "7d5aba98-5700-4215-8a5c-9b0a410e626a",
   "metadata": {
    "tags": []
   },
   "source": [
    "<h2>Datensatz mit Abfrage nach Wirecard</h2>"
   ]
  },
  {
   "cell_type": "code",
   "execution_count": 14,
   "id": "3c7fa0ad-611d-4adc-b000-c96812f6b141",
   "metadata": {},
   "outputs": [],
   "source": [
    "df_wirecard = pd.read_csv(\"/Users/tobias/Dev/FOM/Master_Thesis/data/Wirecard_EN/data.csv\", sep=\";\", \n",
    "                            converters={\"tweet_type\": lambda x: x.strip(\"[]\").replace(\"'\", \"\").split(\", \"),\n",
    "                                        \"referenced_tweet_id\": lambda x: x.strip(\"[]\").replace(\"'\", \"\").split(\", \")},\n",
    "                           parse_dates=[\"created_at\"])\n",
    "df_wirecard = df_wirecard.explode([\"referenced_tweet_id\", \"tweet_type\"], ignore_index=True)\n"
   ]
  },
  {
   "cell_type": "code",
   "execution_count": 15,
   "id": "100d86bb-8f22-4dab-ac37-00156a6cc97c",
   "metadata": {},
   "outputs": [],
   "source": [
    "for each in range(len(df_wirecard)):\n",
    "    df_wirecard.loc[df_wirecard[\"text\"] == \n",
    "                      df_wirecard.loc[each][\"text\"], \"text\"] = re.sub(r'http\\S+', '', \n",
    "                                                                        (re.sub('@[^\\s]+', '',\n",
    "                                                                                re.sub('[#|$]', '', \n",
    "                                                                                       df_wirecard.loc[each][\"text\"]))))\n",
    "print(len(df_wirecard))"
   ]
  },
  {
   "cell_type": "markdown",
   "id": "c8a12eb0-3bb1-4ce3-98ef-db42d57e83ff",
   "metadata": {},
   "source": [
    "<h3>Löschen von Retweets</h3>"
   ]
  },
  {
   "cell_type": "code",
   "execution_count": 17,
   "id": "e4fc93b0-f0b1-4d58-8278-2a746f4243bf",
   "metadata": {},
   "outputs": [
    {
     "name": "stdout",
     "output_type": "stream",
     "text": [
      "95717\n"
     ]
    }
   ],
   "source": [
    "counter = 0\n",
    "retweet_list = []\n",
    "for each in range(len(df_wirecard)):\n",
    "    if \"retweeted\" in df_wirecard.iloc[each][\"tweet_type\"]:\n",
    "        retweet_list.append(each)\n",
    "        counter += 1\n",
    "print(counter)\n",
    "df_wirecard = df_wirecard.drop(retweet_list)\n",
    "df_wirecard = df_wirecard.reset_index(drop=True)\n",
    "print(len(df_wirecard))"
   ]
  },
  {
   "cell_type": "markdown",
   "id": "bd3a4a25-8180-4316-8f90-19876252faed",
   "metadata": {},
   "source": [
    "<h3>Löschen von doppelten Einträgen</h3>"
   ]
  },
  {
   "cell_type": "code",
   "execution_count": 19,
   "id": "0c828f16-d644-4bbb-874a-c7d36f934fa5",
   "metadata": {},
   "outputs": [],
   "source": [
    "df_wirecard = df_wirecard.drop_duplicates(subset=[\"tweet_id\"])\n",
    "df_wirecard = df_wirecard.reset_index(drop=True)\n",
    "print(len(df_wirecard))"
   ]
  },
  {
   "cell_type": "markdown",
   "id": "9ee7d13a-0b03-4c9f-b0d6-8f4299e3ef04",
   "metadata": {
    "tags": []
   },
   "source": [
    "<h2>Abfrage nach Chashtag Wirecard</h2>"
   ]
  },
  {
   "cell_type": "code",
   "execution_count": 22,
   "id": "20ce3d55-9fba-4ecf-bc99-0a56c5a877b1",
   "metadata": {},
   "outputs": [],
   "source": [
    "df_wrcdf = pd.read_csv(\"/Users/tobias/Dev/FOM/Master_Thesis/data/WRCDF_EN/data.csv\", sep=\";\", \n",
    "                            converters={\"tweet_type\": lambda x: x.strip(\"[]\").replace(\"'\", \"\").split(\", \"),\n",
    "                                        \"referenced_tweet_id\": lambda x: x.strip(\"[]\").replace(\"'\", \"\").split(\", \")},\n",
    "                           parse_dates=[\"created_at\"])\n",
    "df_wrcdf = df_wrcdf.explode([\"referenced_tweet_id\", \"tweet_type\"], ignore_index=True)\n"
   ]
  },
  {
   "cell_type": "code",
   "execution_count": 23,
   "id": "48c10287-6bb7-45e7-b872-737598a82975",
   "metadata": {},
   "outputs": [],
   "source": [
    "for each in range(len(df_wrcdf)):\n",
    "    df_wrcdf.loc[df_wrcdf[\"text\"] == \n",
    "                      df_wrcdf.loc[each][\"text\"], \"text\"] = re.sub(r'http\\S+', '', \n",
    "                                                                        (re.sub('@[^\\s]+', '',\n",
    "                                                                                re.sub('[#|$]', '', \n",
    "                                                                                       df_wrcdf.loc[each][\"text\"]))))\n",
    "print(len(df_wrcdf))"
   ]
  },
  {
   "cell_type": "markdown",
   "id": "181ecce0-933b-4073-adf2-b145a6f3a9c1",
   "metadata": {},
   "source": [
    "<h3>Löschen von Retweets</h3>"
   ]
  },
  {
   "cell_type": "code",
   "execution_count": 25,
   "id": "b6401d8c-151e-4f1a-b7f5-e52e1d267e47",
   "metadata": {},
   "outputs": [
    {
     "name": "stdout",
     "output_type": "stream",
     "text": [
      "250\n"
     ]
    }
   ],
   "source": [
    "counter = 0\n",
    "retweet_list = []\n",
    "for each in range(len(df_wrcdf)):\n",
    "    if \"retweeted\" in df_wrcdf.iloc[each][\"tweet_type\"]:\n",
    "        retweet_list.append(each)\n",
    "        counter += 1\n",
    "print(counter)\n",
    "df_wrcdf = df_wrcdf.drop(retweet_list)\n",
    "df_wrcdf = df_wrcdf.reset_index(drop=True)\n",
    "print(len(df_wrcdf))"
   ]
  },
  {
   "cell_type": "markdown",
   "id": "ad732ea1-75ce-47ad-a0c2-a5b3baa53a8f",
   "metadata": {},
   "source": [
    "<h3>Löschen von doppelten Tweets</h3>"
   ]
  },
  {
   "cell_type": "code",
   "execution_count": 26,
   "id": "287957b8-f3b3-4b95-ac71-aab5a92a2352",
   "metadata": {},
   "outputs": [],
   "source": [
    "df_wrcdf = df_wrcdf.drop_duplicates(subset=[\"tweet_id\"])\n",
    "df_wrcdf = df_wrcdf.reset_index(drop=True)\n",
    "print(len(df_wrcdf))"
   ]
  },
  {
   "cell_type": "markdown",
   "id": "f269bdc2-f185-4241-9bbe-5a65d1c81ff7",
   "metadata": {
    "tags": []
   },
   "source": [
    "<h1>Zusammenführen der Datensätze</h1>"
   ]
  },
  {
   "cell_type": "code",
   "execution_count": 28,
   "id": "8634609f-954b-45e5-8ad7-3de434cf0a51",
   "metadata": {},
   "outputs": [],
   "source": [
    "list_data_frames = [df_manager, df_wirecard, df_wrcdf]\n",
    "df = pd.concat(list_data_frames, ignore_index=True)\n",
    "print(len(df))"
   ]
  },
  {
   "cell_type": "markdown",
   "id": "9d85d378-7b4d-4512-b582-b5f2d2808657",
   "metadata": {},
   "source": [
    "<h3>Löschen der doppelten Posts</h3>\n",
    "<p>Dadurch, dass die Abfrage durch mehrere Querys erfolgt ist, befinden sich einige Tweets doppelt in dem Datensatz. Diese werden hier anhand der <b>\"tweet_id\"</b> gelöscht. </p>"
   ]
  },
  {
   "cell_type": "code",
   "execution_count": 30,
   "id": "d084c4d1-97af-42f1-9943-401dc7e8dcba",
   "metadata": {},
   "outputs": [],
   "source": [
    "df = df.drop_duplicates(subset=[\"tweet_id\"])\n",
    "df = df.reset_index(drop=True)\n",
    "print(len(df))"
   ]
  },
  {
   "cell_type": "markdown",
   "id": "029735d3-5c63-4558-bea5-b8504e1eb5d4",
   "metadata": {},
   "source": [
    "<p>Der neue Datensatz wird auf plausibilität geprüft.</p>"
   ]
  },
  {
   "cell_type": "markdown",
   "id": "b9feceb0-648e-4a1e-b206-496bfa02544a",
   "metadata": {},
   "source": [
    "<p><b>Fertig</b> mit der Vorverarbeitung der Daten in deutsch. Es ist nun ein Datensatz verfügbar mit allen Tweets für den deutschsprachigen Raum. Es sind keine doppelten Tweets enthalten, solange diese keine gleiche tweet_id enthalten. Auch Nutzer und tweets, die nichts zu dem eigentlichen Thema Wirecard beitragen sind nicht mehr im Datensatz enthalten. Vereinzelt können natürlich unnütze Tweets vorhanden sein, aber die Nutzer mit vielen Interaktionen sind überprüft und auch die Begriffe, die besonders oft vorkommen sind überprüft worden, ob diese etwas mit dem Thema zu tun haben.<br>Jetzt muss das gleich noch mit den Englischen tweets geschehen und dann müssen Datensätze zur Überprüfung ausgegeben werden.<br> Um den zufälligen Datensatz zu erstellen sollte ich noch einen zufallszahlengenerator nutzen, sodass ich möglichst zufällige Tweets zum testen erhalte. Hier scheint die Pandas Funktion <b>\"sample\"</b> gut geeignet zu sein. </p>"
   ]
  },
  {
   "cell_type": "code",
   "execution_count": null,
   "id": "a19ee6d9-7ec6-4e20-a1a6-462df3bbbbb7",
   "metadata": {
    "collapsed": true,
    "jupyter": {
     "outputs_hidden": true
    },
    "tags": []
   },
   "outputs": [
    {
     "data": {
      "text/html": [
       "<div>\n",
       "<style scoped>\n",
       "    .dataframe tbody tr th:only-of-type {\n",
       "        vertical-align: middle;\n",
       "    }\n",
       "\n",
       "    .dataframe tbody tr th {\n",
       "        vertical-align: top;\n",
       "    }\n",
       "\n",
       "    .dataframe thead th {\n",
       "        text-align: right;\n",
       "    }\n",
       "</style>\n",
       "<table border=\"1\" class=\"dataframe\">\n",
       "  <thead>\n",
       "    <tr style=\"text-align: right;\">\n",
       "      <th></th>\n",
       "      <th>conversation_id</th>\n",
       "      <th>author_id</th>\n",
       "      <th>created_at</th>\n",
       "      <th>tweet_id</th>\n",
       "      <th>lang</th>\n",
       "      <th>retweet_count</th>\n",
       "      <th>reply_count</th>\n",
       "      <th>like_count</th>\n",
       "      <th>quote_count</th>\n",
       "      <th>source</th>\n",
       "      <th>tweet_type</th>\n",
       "      <th>referenced_tweet_id</th>\n",
       "      <th>text</th>\n",
       "    </tr>\n",
       "  </thead>\n",
       "  <tbody>\n",
       "    <tr>\n",
       "      <th>86891</th>\n",
       "      <td>1273985628712157185</td>\n",
       "      <td>1550350116</td>\n",
       "      <td>2020-06-19 14:26:58+00:00</td>\n",
       "      <td>1273985628712157185</td>\n",
       "      <td>en</td>\n",
       "      <td>0</td>\n",
       "      <td>0</td>\n",
       "      <td>0</td>\n",
       "      <td>0</td>\n",
       "      <td>TheOfficialBoard</td>\n",
       "      <td>None</td>\n",
       "      <td>None</td>\n",
       "      <td>WireCard - James Freis has joined the company ...</td>\n",
       "    </tr>\n",
       "    <tr>\n",
       "      <th>23990</th>\n",
       "      <td>964197782876839936</td>\n",
       "      <td>42056054</td>\n",
       "      <td>2018-02-15 18:00:40+00:00</td>\n",
       "      <td>964197782876839936</td>\n",
       "      <td>en</td>\n",
       "      <td>2</td>\n",
       "      <td>0</td>\n",
       "      <td>3</td>\n",
       "      <td>0</td>\n",
       "      <td>Agorapulse app</td>\n",
       "      <td>None</td>\n",
       "      <td>None</td>\n",
       "      <td>“We use data-driven, innovative technologies s...</td>\n",
       "    </tr>\n",
       "    <tr>\n",
       "      <th>60937</th>\n",
       "      <td>1276706720220434432</td>\n",
       "      <td>15709952</td>\n",
       "      <td>2020-06-29 00:09:00+00:00</td>\n",
       "      <td>1277393595109179392</td>\n",
       "      <td>en</td>\n",
       "      <td>0</td>\n",
       "      <td>1</td>\n",
       "      <td>0</td>\n",
       "      <td>0</td>\n",
       "      <td>Conversocial</td>\n",
       "      <td>replied_to</td>\n",
       "      <td>1276722635179786241</td>\n",
       "      <td>Hello,We understand your worry. Please know y...</td>\n",
       "    </tr>\n",
       "    <tr>\n",
       "      <th>90399</th>\n",
       "      <td>1273599943714930690</td>\n",
       "      <td>847825666049527809</td>\n",
       "      <td>2020-06-18 12:54:23+00:00</td>\n",
       "      <td>1273599943714930690</td>\n",
       "      <td>en</td>\n",
       "      <td>0</td>\n",
       "      <td>1</td>\n",
       "      <td>1</td>\n",
       "      <td>0</td>\n",
       "      <td>Twitter Web App</td>\n",
       "      <td>None</td>\n",
       "      <td>None</td>\n",
       "      <td>Dear Ladies and Gentlemen,Given today's announ...</td>\n",
       "    </tr>\n",
       "    <tr>\n",
       "      <th>98488</th>\n",
       "      <td>1284805802532970497</td>\n",
       "      <td>788776883533914112</td>\n",
       "      <td>2020-07-19 11:02:28+00:00</td>\n",
       "      <td>1284805802532970497</td>\n",
       "      <td>en</td>\n",
       "      <td>0</td>\n",
       "      <td>0</td>\n",
       "      <td>0</td>\n",
       "      <td>0</td>\n",
       "      <td>Germany News App</td>\n",
       "      <td>None</td>\n",
       "      <td>None</td>\n",
       "      <td>German Finance Watchdog Defends Agency Amid Wi...</td>\n",
       "    </tr>\n",
       "    <tr>\n",
       "      <th>38776</th>\n",
       "      <td>1119004275500253187</td>\n",
       "      <td>223238349</td>\n",
       "      <td>2019-04-19 18:19:38+00:00</td>\n",
       "      <td>1119304563863908352</td>\n",
       "      <td>en</td>\n",
       "      <td>0</td>\n",
       "      <td>0</td>\n",
       "      <td>2</td>\n",
       "      <td>0</td>\n",
       "      <td>Twitter for iPhone</td>\n",
       "      <td>replied_to</td>\n",
       "      <td>1119304157360476160</td>\n",
       "      <td>The  wont stop for the the people who want...</td>\n",
       "    </tr>\n",
       "    <tr>\n",
       "      <th>51426</th>\n",
       "      <td>1225006705324503040</td>\n",
       "      <td>1019946738</td>\n",
       "      <td>2020-02-05 10:42:12+00:00</td>\n",
       "      <td>1225006705324503040</td>\n",
       "      <td>en</td>\n",
       "      <td>0</td>\n",
       "      <td>0</td>\n",
       "      <td>0</td>\n",
       "      <td>0</td>\n",
       "      <td>LinkedIn</td>\n",
       "      <td>None</td>\n",
       "      <td>None</td>\n",
       "      <td>Session yesterday on digitizing end-to-end onb...</td>\n",
       "    </tr>\n",
       "    <tr>\n",
       "      <th>86236</th>\n",
       "      <td>1274059527374200832</td>\n",
       "      <td>3897627953</td>\n",
       "      <td>2020-06-19 19:20:36+00:00</td>\n",
       "      <td>1274059527374200832</td>\n",
       "      <td>en</td>\n",
       "      <td>0</td>\n",
       "      <td>0</td>\n",
       "      <td>1</td>\n",
       "      <td>0</td>\n",
       "      <td>Twitter Web App</td>\n",
       "      <td>None</td>\n",
       "      <td>None</td>\n",
       "      <td>I just watched two seasons of Bad Banks on Net...</td>\n",
       "    </tr>\n",
       "    <tr>\n",
       "      <th>41919</th>\n",
       "      <td>1140552074549190656</td>\n",
       "      <td>14146817</td>\n",
       "      <td>2019-06-17 09:29:39+00:00</td>\n",
       "      <td>1140552074549190656</td>\n",
       "      <td>en</td>\n",
       "      <td>0</td>\n",
       "      <td>0</td>\n",
       "      <td>0</td>\n",
       "      <td>0</td>\n",
       "      <td>Microsoft Power Platform</td>\n",
       "      <td>None</td>\n",
       "      <td>None</td>\n",
       "      <td>Wirecard, the global innovation leader for dig...</td>\n",
       "    </tr>\n",
       "    <tr>\n",
       "      <th>109600</th>\n",
       "      <td>1278372207488651271</td>\n",
       "      <td>18949452</td>\n",
       "      <td>2020-07-01 16:57:39+00:00</td>\n",
       "      <td>1278372207488651271</td>\n",
       "      <td>en</td>\n",
       "      <td>8</td>\n",
       "      <td>9</td>\n",
       "      <td>8</td>\n",
       "      <td>3</td>\n",
       "      <td>SocialFlow</td>\n",
       "      <td>None</td>\n",
       "      <td>None</td>\n",
       "      <td>Head of German financial watchdog defends agen...</td>\n",
       "    </tr>\n",
       "    <tr>\n",
       "      <th>15228</th>\n",
       "      <td>798950536644964353</td>\n",
       "      <td>183358491</td>\n",
       "      <td>2016-11-16 18:07:06+00:00</td>\n",
       "      <td>798950536644964353</td>\n",
       "      <td>en</td>\n",
       "      <td>1</td>\n",
       "      <td>0</td>\n",
       "      <td>0</td>\n",
       "      <td>0</td>\n",
       "      <td>Buffer</td>\n",
       "      <td>None</td>\n",
       "      <td>None</td>\n",
       "      <td>Britain's hottest fintech startups depend on G...</td>\n",
       "    </tr>\n",
       "    <tr>\n",
       "      <th>108236</th>\n",
       "      <td>1278751043464187917</td>\n",
       "      <td>34713362</td>\n",
       "      <td>2020-07-02 18:03:01+00:00</td>\n",
       "      <td>1278751043464187917</td>\n",
       "      <td>en</td>\n",
       "      <td>22</td>\n",
       "      <td>3</td>\n",
       "      <td>41</td>\n",
       "      <td>1</td>\n",
       "      <td>SocialFlow</td>\n",
       "      <td>None</td>\n",
       "      <td>None</td>\n",
       "      <td>Germany’s top financial watchdog said authorit...</td>\n",
       "    </tr>\n",
       "    <tr>\n",
       "      <th>79252</th>\n",
       "      <td>1275339179107536898</td>\n",
       "      <td>1151127566578855936</td>\n",
       "      <td>2020-06-23 08:19:26+00:00</td>\n",
       "      <td>1275342689265909761</td>\n",
       "      <td>en</td>\n",
       "      <td>0</td>\n",
       "      <td>1</td>\n",
       "      <td>0</td>\n",
       "      <td>0</td>\n",
       "      <td>Twitter Web App</td>\n",
       "      <td>replied_to</td>\n",
       "      <td>1275340210394578944</td>\n",
       "      <td>*Wirecard Shares Trade 12% Higher</td>\n",
       "    </tr>\n",
       "    <tr>\n",
       "      <th>69800</th>\n",
       "      <td>1276446668045484032</td>\n",
       "      <td>391769437</td>\n",
       "      <td>2020-06-26 10:21:14+00:00</td>\n",
       "      <td>1276460505339588608</td>\n",
       "      <td>en</td>\n",
       "      <td>0</td>\n",
       "      <td>1</td>\n",
       "      <td>10</td>\n",
       "      <td>1</td>\n",
       "      <td>Twitter Web App</td>\n",
       "      <td>replied_to</td>\n",
       "      <td>1276450191936114688</td>\n",
       "      <td>Guevarra says the German govt has not requeste...</td>\n",
       "    </tr>\n",
       "    <tr>\n",
       "      <th>21959</th>\n",
       "      <td>934044181131157504</td>\n",
       "      <td>331933526</td>\n",
       "      <td>2017-11-24 13:01:01+00:00</td>\n",
       "      <td>934044181131157504</td>\n",
       "      <td>en</td>\n",
       "      <td>0</td>\n",
       "      <td>0</td>\n",
       "      <td>0</td>\n",
       "      <td>0</td>\n",
       "      <td>IFTTT</td>\n",
       "      <td>None</td>\n",
       "      <td>None</td>\n",
       "      <td>Wirecard Gains Andaz Luxury Hotel by Hyatt Cor...</td>\n",
       "    </tr>\n",
       "    <tr>\n",
       "      <th>44524</th>\n",
       "      <td>1171016273494511617</td>\n",
       "      <td>960403142197248000</td>\n",
       "      <td>2019-09-09 11:03:30+00:00</td>\n",
       "      <td>1171016273494511617</td>\n",
       "      <td>en</td>\n",
       "      <td>0</td>\n",
       "      <td>0</td>\n",
       "      <td>0</td>\n",
       "      <td>0</td>\n",
       "      <td>Facebook</td>\n",
       "      <td>None</td>\n",
       "      <td>None</td>\n",
       "      <td>Wirecard, the global innovation leader in digi...</td>\n",
       "    </tr>\n",
       "    <tr>\n",
       "      <th>79168</th>\n",
       "      <td>1275348004715692032</td>\n",
       "      <td>221486871</td>\n",
       "      <td>2020-06-23 08:40:33+00:00</td>\n",
       "      <td>1275348004715692032</td>\n",
       "      <td>en</td>\n",
       "      <td>0</td>\n",
       "      <td>0</td>\n",
       "      <td>0</td>\n",
       "      <td>0</td>\n",
       "      <td>dlvr.it</td>\n",
       "      <td>None</td>\n",
       "      <td>None</td>\n",
       "      <td>Ex-CEO of Wirecard arrested in case over missi...</td>\n",
       "    </tr>\n",
       "    <tr>\n",
       "      <th>108366</th>\n",
       "      <td>1278723241075372033</td>\n",
       "      <td>715009219934691328</td>\n",
       "      <td>2020-07-02 16:12:32+00:00</td>\n",
       "      <td>1278723241075372033</td>\n",
       "      <td>en</td>\n",
       "      <td>0</td>\n",
       "      <td>0</td>\n",
       "      <td>0</td>\n",
       "      <td>0</td>\n",
       "      <td>dlvr.it</td>\n",
       "      <td>None</td>\n",
       "      <td>None</td>\n",
       "      <td>Money Stuff: Free Wirecard Money Costs SoftBank</td>\n",
       "    </tr>\n",
       "    <tr>\n",
       "      <th>24143</th>\n",
       "      <td>961305212790112256</td>\n",
       "      <td>17893558</td>\n",
       "      <td>2018-02-07 18:26:37+00:00</td>\n",
       "      <td>961305212790112256</td>\n",
       "      <td>en</td>\n",
       "      <td>1</td>\n",
       "      <td>1</td>\n",
       "      <td>6</td>\n",
       "      <td>2</td>\n",
       "      <td>Twitter Web Client</td>\n",
       "      <td>quoted</td>\n",
       "      <td>806582458384715776</td>\n",
       "      <td>Marc Cohodes' pal Fraser Perring   research ha...</td>\n",
       "    </tr>\n",
       "    <tr>\n",
       "      <th>43976</th>\n",
       "      <td>1175739563555414016</td>\n",
       "      <td>565832571</td>\n",
       "      <td>2019-09-23 10:16:38+00:00</td>\n",
       "      <td>1176077906482737152</td>\n",
       "      <td>en</td>\n",
       "      <td>0</td>\n",
       "      <td>0</td>\n",
       "      <td>0</td>\n",
       "      <td>0</td>\n",
       "      <td>Twitter Web App</td>\n",
       "      <td>replied_to</td>\n",
       "      <td>1176075915962589187</td>\n",
       "      <td>You have perfectly prooved my point kid. th...</td>\n",
       "    </tr>\n",
       "  </tbody>\n",
       "</table>\n",
       "</div>"
      ],
      "text/plain": [
       "            conversation_id            author_id                created_at  \\\n",
       "86891   1273985628712157185           1550350116 2020-06-19 14:26:58+00:00   \n",
       "23990    964197782876839936             42056054 2018-02-15 18:00:40+00:00   \n",
       "60937   1276706720220434432             15709952 2020-06-29 00:09:00+00:00   \n",
       "90399   1273599943714930690   847825666049527809 2020-06-18 12:54:23+00:00   \n",
       "98488   1284805802532970497   788776883533914112 2020-07-19 11:02:28+00:00   \n",
       "38776   1119004275500253187            223238349 2019-04-19 18:19:38+00:00   \n",
       "51426   1225006705324503040           1019946738 2020-02-05 10:42:12+00:00   \n",
       "86236   1274059527374200832           3897627953 2020-06-19 19:20:36+00:00   \n",
       "41919   1140552074549190656             14146817 2019-06-17 09:29:39+00:00   \n",
       "109600  1278372207488651271             18949452 2020-07-01 16:57:39+00:00   \n",
       "15228    798950536644964353            183358491 2016-11-16 18:07:06+00:00   \n",
       "108236  1278751043464187917             34713362 2020-07-02 18:03:01+00:00   \n",
       "79252   1275339179107536898  1151127566578855936 2020-06-23 08:19:26+00:00   \n",
       "69800   1276446668045484032            391769437 2020-06-26 10:21:14+00:00   \n",
       "21959    934044181131157504            331933526 2017-11-24 13:01:01+00:00   \n",
       "44524   1171016273494511617   960403142197248000 2019-09-09 11:03:30+00:00   \n",
       "79168   1275348004715692032            221486871 2020-06-23 08:40:33+00:00   \n",
       "108366  1278723241075372033   715009219934691328 2020-07-02 16:12:32+00:00   \n",
       "24143    961305212790112256             17893558 2018-02-07 18:26:37+00:00   \n",
       "43976   1175739563555414016            565832571 2019-09-23 10:16:38+00:00   \n",
       "\n",
       "                   tweet_id lang  retweet_count  reply_count  like_count  \\\n",
       "86891   1273985628712157185   en              0            0           0   \n",
       "23990    964197782876839936   en              2            0           3   \n",
       "60937   1277393595109179392   en              0            1           0   \n",
       "90399   1273599943714930690   en              0            1           1   \n",
       "98488   1284805802532970497   en              0            0           0   \n",
       "38776   1119304563863908352   en              0            0           2   \n",
       "51426   1225006705324503040   en              0            0           0   \n",
       "86236   1274059527374200832   en              0            0           1   \n",
       "41919   1140552074549190656   en              0            0           0   \n",
       "109600  1278372207488651271   en              8            9           8   \n",
       "15228    798950536644964353   en              1            0           0   \n",
       "108236  1278751043464187917   en             22            3          41   \n",
       "79252   1275342689265909761   en              0            1           0   \n",
       "69800   1276460505339588608   en              0            1          10   \n",
       "21959    934044181131157504   en              0            0           0   \n",
       "44524   1171016273494511617   en              0            0           0   \n",
       "79168   1275348004715692032   en              0            0           0   \n",
       "108366  1278723241075372033   en              0            0           0   \n",
       "24143    961305212790112256   en              1            1           6   \n",
       "43976   1176077906482737152   en              0            0           0   \n",
       "\n",
       "        quote_count                    source  tweet_type  \\\n",
       "86891             0          TheOfficialBoard        None   \n",
       "23990             0            Agorapulse app        None   \n",
       "60937             0              Conversocial  replied_to   \n",
       "90399             0           Twitter Web App        None   \n",
       "98488             0          Germany News App        None   \n",
       "38776             0        Twitter for iPhone  replied_to   \n",
       "51426             0                  LinkedIn        None   \n",
       "86236             0           Twitter Web App        None   \n",
       "41919             0  Microsoft Power Platform        None   \n",
       "109600            3                SocialFlow        None   \n",
       "15228             0                    Buffer        None   \n",
       "108236            1                SocialFlow        None   \n",
       "79252             0           Twitter Web App  replied_to   \n",
       "69800             1           Twitter Web App  replied_to   \n",
       "21959             0                     IFTTT        None   \n",
       "44524             0                  Facebook        None   \n",
       "79168             0                   dlvr.it        None   \n",
       "108366            0                   dlvr.it        None   \n",
       "24143             2        Twitter Web Client      quoted   \n",
       "43976             0           Twitter Web App  replied_to   \n",
       "\n",
       "        referenced_tweet_id                                               text  \n",
       "86891                  None  WireCard - James Freis has joined the company ...  \n",
       "23990                  None  “We use data-driven, innovative technologies s...  \n",
       "60937   1276722635179786241   Hello,We understand your worry. Please know y...  \n",
       "90399                  None  Dear Ladies and Gentlemen,Given today's announ...  \n",
       "98488                  None  German Finance Watchdog Defends Agency Amid Wi...  \n",
       "38776   1119304157360476160      The  wont stop for the the people who want...  \n",
       "51426                  None  Session yesterday on digitizing end-to-end onb...  \n",
       "86236                  None  I just watched two seasons of Bad Banks on Net...  \n",
       "41919                  None  Wirecard, the global innovation leader for dig...  \n",
       "109600                 None  Head of German financial watchdog defends agen...  \n",
       "15228                  None  Britain's hottest fintech startups depend on G...  \n",
       "108236                 None  Germany’s top financial watchdog said authorit...  \n",
       "79252   1275340210394578944                  *Wirecard Shares Trade 12% Higher  \n",
       "69800   1276450191936114688  Guevarra says the German govt has not requeste...  \n",
       "21959                  None  Wirecard Gains Andaz Luxury Hotel by Hyatt Cor...  \n",
       "44524                  None  Wirecard, the global innovation leader in digi...  \n",
       "79168                  None  Ex-CEO of Wirecard arrested in case over missi...  \n",
       "108366                 None   Money Stuff: Free Wirecard Money Costs SoftBank   \n",
       "24143    806582458384715776  Marc Cohodes' pal Fraser Perring   research ha...  \n",
       "43976   1176075915962589187     You have perfectly prooved my point kid. th...  "
      ]
     },
     "execution_count": 34,
     "metadata": {},
     "output_type": "execute_result"
    }
   ],
   "source": [
    "df.sample(n = 20)"
   ]
  },
  {
   "cell_type": "code",
   "execution_count": 35,
   "id": "2729d68b-6805-43b8-9a46-2d633a9a953a",
   "metadata": {},
   "outputs": [
    {
     "data": {
      "text/plain": [
       "'“We use data-driven, innovative technologies so our clients can remove barriers between themselves and their customers.” This is WirecardUSA.    '"
      ]
     },
     "execution_count": 35,
     "metadata": {},
     "output_type": "execute_result"
    }
   ],
   "source": [
    "df.loc[df[\"tweet_id\"] == 964197782876839936][\"text\"].values[0]"
   ]
  },
  {
   "cell_type": "markdown",
   "id": "fcc4868f-5226-499e-a4f1-ec1090731c70",
   "metadata": {},
   "source": [
    "<h2>Finalen Datensatz als CSV ausgeben.</h2>"
   ]
  },
  {
   "cell_type": "code",
   "execution_count": 36,
   "id": "7f516bc4-b923-4c1c-aa84-47fbd58974a7",
   "metadata": {},
   "outputs": [],
   "source": [
    "df.to_csv('Dataset_Wirecard.csv', sep=';', index=False)"
   ]
  },
  {
   "cell_type": "markdown",
   "id": "331f7e57-671e-451c-a3eb-98ffc68393a5",
   "metadata": {},
   "source": [
    "<h2>Erstellen der CSV zur Überprüfung der Sentiment Ergebnisse</h2>"
   ]
  },
  {
   "cell_type": "code",
   "execution_count": 39,
   "id": "f44c9062-f71d-458f-b282-2a25ed42aba1",
   "metadata": {},
   "outputs": [
    {
     "name": "stdout",
     "output_type": "stream",
     "text": [
      "Start bei 0 und ende bei 99. Name der Datei: en_validation_0.csv\n",
      "Start bei 100 und ende bei 199. Name der Datei: en_validation_1.csv\n",
      "Start bei 200 und ende bei 299. Name der Datei: en_validation_2.csv\n",
      "Start bei 300 und ende bei 399. Name der Datei: en_validation_3.csv\n",
      "Start bei 400 und ende bei 499. Name der Datei: en_validation_4.csv\n",
      "Start bei 500 und ende bei 599. Name der Datei: en_validation_5.csv\n",
      "Start bei 600 und ende bei 699. Name der Datei: en_validation_6.csv\n",
      "Start bei 700 und ende bei 799. Name der Datei: en_validation_7.csv\n",
      "Start bei 800 und ende bei 899. Name der Datei: en_validation_8.csv\n",
      "Start bei 900 und ende bei 999. Name der Datei: en_validation_9.csv\n",
      "Start bei 1000 und ende bei 1099. Name der Datei: en_validation_10.csv\n",
      "Start bei 1100 und ende bei 1199. Name der Datei: en_validation_11.csv\n",
      "Start bei 1200 und ende bei 1299. Name der Datei: en_validation_12.csv\n",
      "Start bei 1300 und ende bei 1399. Name der Datei: en_validation_13.csv\n",
      "Start bei 1400 und ende bei 1499. Name der Datei: en_validation_14.csv\n"
     ]
    }
   ],
   "source": [
    "df_sentiment_validation = df.sample(n = 1500)[[\"tweet_id\", \"text\"]]\n",
    "batch = 14\n",
    "counter = 0 \n",
    "for batch in range(0,15):\n",
    "    start = 100*batch\n",
    "    end = 100*batch+99\n",
    "    csv_name = 'en_validation_{count}.csv'.format(count=batch)\n",
    "    df_sentiment_validation.iloc[start:end].to_csv(csv_name, sep=';', index=False)\n",
    "    print(\"Start bei {start} und ende bei {ende}. Name der Datei: {csv}\".format(start=start, ende=end, csv=csv_name))"
   ]
  }
 ],
 "metadata": {
  "kernelspec": {
   "display_name": "master_thesis_3.9.10",
   "language": "python",
   "name": "master_thesis_3.9.10"
  },
  "language_info": {
   "codemirror_mode": {
    "name": "ipython",
    "version": 3
   },
   "file_extension": ".py",
   "mimetype": "text/x-python",
   "name": "python",
   "nbconvert_exporter": "python",
   "pygments_lexer": "ipython3",
   "version": "3.9.10"
  }
 },
 "nbformat": 4,
 "nbformat_minor": 5
}
