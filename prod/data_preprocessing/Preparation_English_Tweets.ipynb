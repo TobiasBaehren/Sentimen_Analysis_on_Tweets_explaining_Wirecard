{
 "cells": [
  {
   "cell_type": "markdown",
   "id": "f6ae1ac2-0b2c-4578-9694-7040882deec9",
   "metadata": {},
   "source": [
    "<h1>Preparation of the English Twitter Data</h1>"
   ]
  },
  {
   "cell_type": "markdown",
   "id": "a323e70f-92a0-45e4-845f-b9d5aaa92fbb",
   "metadata": {},
   "source": [
    "<p>This file is for preparing the german tweets. The preparation is mainly for training my own model for sentiment detection with Flair. </p>"
   ]
  },
  {
   "cell_type": "code",
   "execution_count": 281,
   "id": "5d435d73-8df6-4ae8-8694-a8e75747958f",
   "metadata": {},
   "outputs": [],
   "source": [
    "import csv\n",
    "import numpy as np\n",
    "import pandas as pd\n",
    "import re\n",
    "import nltk\n",
    "from nltk.corpus import stopwords\n",
    "from wordcloud import WordCloud\n",
    "import matplotlib.pyplot as plt\n",
    "from HanTa import HanoverTagger as ht"
   ]
  },
  {
   "cell_type": "markdown",
   "id": "fba70b51-726a-477a-bfce-9f62ea40b0f7",
   "metadata": {},
   "source": [
    "<p>Download der Stopwörter Listen</p>"
   ]
  },
  {
   "cell_type": "code",
   "execution_count": null,
   "id": "2f508d8d-486d-46f5-9b43-b6f1e4dcdb64",
   "metadata": {},
   "outputs": [],
   "source": [
    "#nltk.download('stopwords')"
   ]
  },
  {
   "cell_type": "markdown",
   "id": "75921e4f-1906-4f14-b6b4-0ee534677d54",
   "metadata": {},
   "source": [
    "<h1>Einlesen und bestimmung der Felder</h1>\n",
    "<p>Durch die weitern Operatoren, kann ich die einzelnen Felder in DF bestimmen. Durch die Lambda Funktion werden die Str zu Listen, was die spätere verarbeitung erleichtert. \n",
    "    Durch die Parse_dates Funktion wird das Datumsfeld zu einem Timestamp, was die weiter Verarbeitung wesentlich leichter macht.</p>"
   ]
  },
  {
   "cell_type": "code",
   "execution_count": 333,
   "id": "2e546077-cd87-49e0-b3a3-4cb63f9f353c",
   "metadata": {},
   "outputs": [],
   "source": [
    "df_manager = pd.read_csv(\"/Users/tobias/Dev/FOM/Master_Thesis/data/Manager_EN/data.csv\", sep=\";\", \n",
    "                            converters={\"tweet_type\": lambda x: x.strip(\"[]\").replace(\"'\", \"\").split(\", \"),\n",
    "                                        \"referenced_tweet_id\": lambda x: x.strip(\"[]\").replace(\"'\", \"\").split(\", \")},\n",
    "                           parse_dates=[\"created_at\"])\n",
    "df_manager = df_manager.explode([\"referenced_tweet_id\", \"tweet_type\"], ignore_index=True)"
   ]
  },
  {
   "cell_type": "code",
   "execution_count": 56,
   "id": "112a0b0d-5dda-4530-a948-39d0b2264a74",
   "metadata": {},
   "outputs": [
    {
     "data": {
      "text/plain": [
       "17844"
      ]
     },
     "execution_count": 56,
     "metadata": {},
     "output_type": "execute_result"
    }
   ],
   "source": [
    "len(df_manager)"
   ]
  },
  {
   "cell_type": "code",
   "execution_count": 57,
   "id": "22b21fc9-fc5e-4403-8390-093caa12eb23",
   "metadata": {
    "tags": []
   },
   "outputs": [
    {
     "data": {
      "text/html": [
       "<div>\n",
       "<style scoped>\n",
       "    .dataframe tbody tr th:only-of-type {\n",
       "        vertical-align: middle;\n",
       "    }\n",
       "\n",
       "    .dataframe tbody tr th {\n",
       "        vertical-align: top;\n",
       "    }\n",
       "\n",
       "    .dataframe thead th {\n",
       "        text-align: right;\n",
       "    }\n",
       "</style>\n",
       "<table border=\"1\" class=\"dataframe\">\n",
       "  <thead>\n",
       "    <tr style=\"text-align: right;\">\n",
       "      <th></th>\n",
       "      <th>conversation_id</th>\n",
       "      <th>author_id</th>\n",
       "      <th>created_at</th>\n",
       "      <th>tweet_id</th>\n",
       "      <th>lang</th>\n",
       "      <th>retweet_count</th>\n",
       "      <th>reply_count</th>\n",
       "      <th>like_count</th>\n",
       "      <th>quote_count</th>\n",
       "      <th>source</th>\n",
       "      <th>tweet_type</th>\n",
       "      <th>referenced_tweet_id</th>\n",
       "      <th>text</th>\n",
       "    </tr>\n",
       "  </thead>\n",
       "  <tbody>\n",
       "    <tr>\n",
       "      <th>0</th>\n",
       "      <td>703142204341026818</td>\n",
       "      <td>349287204</td>\n",
       "      <td>2016-02-26 08:58:59+00:00</td>\n",
       "      <td>703142204341026818</td>\n",
       "      <td>en</td>\n",
       "      <td>0</td>\n",
       "      <td>0</td>\n",
       "      <td>1</td>\n",
       "      <td>0</td>\n",
       "      <td>Twitter Web Client</td>\n",
       "      <td>None</td>\n",
       "      <td>None</td>\n",
       "      <td>1/2 I see Wirecard is rebounding after CEO Mar...</td>\n",
       "    </tr>\n",
       "    <tr>\n",
       "      <th>1</th>\n",
       "      <td>695258744737824768</td>\n",
       "      <td>282981965</td>\n",
       "      <td>2016-02-04 14:52:56+00:00</td>\n",
       "      <td>695258744737824768</td>\n",
       "      <td>en</td>\n",
       "      <td>1</td>\n",
       "      <td>0</td>\n",
       "      <td>0</td>\n",
       "      <td>0</td>\n",
       "      <td>Twitter for iPhone</td>\n",
       "      <td>retweeted</td>\n",
       "      <td>695237701386244098</td>\n",
       "      <td>RT @UrgentSpeed: Disrupt the Banks! (Jeff Stew...</td>\n",
       "    </tr>\n",
       "    <tr>\n",
       "      <th>2</th>\n",
       "      <td>695255175334924288</td>\n",
       "      <td>428593285</td>\n",
       "      <td>2016-02-04 14:38:45+00:00</td>\n",
       "      <td>695255175334924288</td>\n",
       "      <td>en</td>\n",
       "      <td>0</td>\n",
       "      <td>0</td>\n",
       "      <td>0</td>\n",
       "      <td>0</td>\n",
       "      <td>IFTTT</td>\n",
       "      <td>None</td>\n",
       "      <td>None</td>\n",
       "      <td>Thank you for following us Markus Braun!</td>\n",
       "    </tr>\n",
       "    <tr>\n",
       "      <th>3</th>\n",
       "      <td>695237701386244098</td>\n",
       "      <td>95129352</td>\n",
       "      <td>2016-02-04 13:29:19+00:00</td>\n",
       "      <td>695237701386244098</td>\n",
       "      <td>en</td>\n",
       "      <td>1</td>\n",
       "      <td>0</td>\n",
       "      <td>1</td>\n",
       "      <td>0</td>\n",
       "      <td>Twitter Web Client</td>\n",
       "      <td>None</td>\n",
       "      <td>None</td>\n",
       "      <td>Disrupt the Banks! (Jeff Stewart, Markus Braun...</td>\n",
       "    </tr>\n",
       "    <tr>\n",
       "      <th>4</th>\n",
       "      <td>719940834028863489</td>\n",
       "      <td>3040068274</td>\n",
       "      <td>2016-04-12 17:30:45+00:00</td>\n",
       "      <td>719940834028863489</td>\n",
       "      <td>en</td>\n",
       "      <td>0</td>\n",
       "      <td>0</td>\n",
       "      <td>0</td>\n",
       "      <td>0</td>\n",
       "      <td>metal archives updates</td>\n",
       "      <td>None</td>\n",
       "      <td>None</td>\n",
       "      <td>Artist updated: Markus Braun https://t.co/udZM...</td>\n",
       "    </tr>\n",
       "  </tbody>\n",
       "</table>\n",
       "</div>"
      ],
      "text/plain": [
       "      conversation_id   author_id                created_at  \\\n",
       "0  703142204341026818   349287204 2016-02-26 08:58:59+00:00   \n",
       "1  695258744737824768   282981965 2016-02-04 14:52:56+00:00   \n",
       "2  695255175334924288   428593285 2016-02-04 14:38:45+00:00   \n",
       "3  695237701386244098    95129352 2016-02-04 13:29:19+00:00   \n",
       "4  719940834028863489  3040068274 2016-04-12 17:30:45+00:00   \n",
       "\n",
       "             tweet_id lang  retweet_count  reply_count  like_count  \\\n",
       "0  703142204341026818   en              0            0           1   \n",
       "1  695258744737824768   en              1            0           0   \n",
       "2  695255175334924288   en              0            0           0   \n",
       "3  695237701386244098   en              1            0           1   \n",
       "4  719940834028863489   en              0            0           0   \n",
       "\n",
       "   quote_count                  source tweet_type referenced_tweet_id  \\\n",
       "0            0      Twitter Web Client       None                None   \n",
       "1            0      Twitter for iPhone  retweeted  695237701386244098   \n",
       "2            0                   IFTTT       None                None   \n",
       "3            0      Twitter Web Client       None                None   \n",
       "4            0  metal archives updates       None                None   \n",
       "\n",
       "                                                text  \n",
       "0  1/2 I see Wirecard is rebounding after CEO Mar...  \n",
       "1  RT @UrgentSpeed: Disrupt the Banks! (Jeff Stew...  \n",
       "2           Thank you for following us Markus Braun!  \n",
       "3  Disrupt the Banks! (Jeff Stewart, Markus Braun...  \n",
       "4  Artist updated: Markus Braun https://t.co/udZM...  "
      ]
     },
     "execution_count": 57,
     "metadata": {},
     "output_type": "execute_result"
    }
   ],
   "source": [
    "df_manager.head()"
   ]
  },
  {
   "cell_type": "markdown",
   "id": "37ffbe1a-795b-4f33-966f-1ab366681f46",
   "metadata": {},
   "source": [
    "<br>\n",
    "<p>Prüfen welche Datenfelder in den einzelnen Zeilen enthalten sind. War wichtig um diese anpassen zu können.</p>"
   ]
  },
  {
   "cell_type": "code",
   "execution_count": null,
   "id": "052a6f1c-58c3-45d1-8591-3553b3eb1662",
   "metadata": {
    "tags": []
   },
   "outputs": [],
   "source": [
    "print(\"conversation_id: \", df_manager.iloc[0][\"conversation_id\"], \"type: \", type(df_manager.iloc[0][\"conversation_id\"]))\n",
    "print(\"author_id: \", df_manager.iloc[0][\"author_id\"], \"type: \", type(df_manager.iloc[0][\"author_id\"]))\n",
    "print(\"created_at: \", df_manager.iloc[0][\"created_at\"], \"type: \", type(df_manager.iloc[0][\"created_at\"]))\n",
    "print(\"tweet_id: \", df_manager.iloc[0][\"tweet_id\"], \"type: \", type(df_manager.iloc[0][\"tweet_id\"]))\n",
    "print(\"lang: \", df_manager.iloc[0][\"lang\"], \"type: \", type(df_manager.iloc[0][\"lang\"]))\n",
    "print(\"retweet_count: \", df_manager.iloc[0][\"retweet_count\"], \"type: \", type(df_manager.iloc[0][\"retweet_count\"]))\n",
    "print(\"reply_count: \", df_manager.iloc[0][\"reply_count\"], \"type: \", type(df_manager.iloc[0][\"reply_count\"]))\n",
    "print(\"like_count: \", df_manager.iloc[0][\"like_count\"], \"type: \", type(df_manager.iloc[0][\"like_count\"]))\n",
    "print(\"quote_count: \", df_manager.iloc[0][\"quote_count\"], \"type: \", type(df_manager.iloc[0][\"quote_count\"]))\n",
    "print(\"source: \", df_manager.iloc[0][\"source\"], \"type: \", type(df_manager.iloc[0][\"source\"]))\n",
    "print(\"tweet_type: \", df_manager.iloc[0][\"tweet_type\"], \"type: \", type(df_manager.iloc[0][\"tweet_type\"]))\n",
    "print(\"referenced_tweet_id: \", df_manager.iloc[0][\"referenced_tweet_id\"], \"type: \", type(df_manager.iloc[0][\"referenced_tweet_id\"]))\n",
    "print(\"text: \", df_manager.iloc[0][\"text\"], \"type: \", type(df_manager.iloc[0][\"text\"]))"
   ]
  },
  {
   "cell_type": "markdown",
   "id": "afc009d8-9b2e-491f-8e13-b4e8b7658a44",
   "metadata": {},
   "source": [
    "<h3>Löschen von unnötigen Informationen</h3>\n",
    "<p>Hier werden Informationen aus den Tweets Texten, die nicht weiter benötigt werden. Bspw. Links</p>"
   ]
  },
  {
   "cell_type": "code",
   "execution_count": 334,
   "id": "86e7ed3f-d0f4-46bc-a651-d575074bfbd6",
   "metadata": {
    "tags": []
   },
   "outputs": [],
   "source": [
    "for each in range(len(df_manager)):\n",
    "    df_manager.loc[df_manager[\"text\"] == \n",
    "                      df_manager.loc[each][\"text\"], \"text\"] = re.sub(r'http\\S+', '', \n",
    "                                                                        (re.sub('@[^\\s]+', '',\n",
    "                                                                                re.sub('[#|$]', '', \n",
    "                                                                                       df_manager.loc[each][\"text\"]))))"
   ]
  },
  {
   "cell_type": "markdown",
   "id": "59f85854-849b-4e8f-b2a0-6bd66cd16083",
   "metadata": {},
   "source": [
    "<p>Dieser Teil wurde für das Testen gebraucht.</p>"
   ]
  },
  {
   "cell_type": "code",
   "execution_count": 283,
   "id": "b40ee800-6278-4bb6-84af-4b70f59ff94b",
   "metadata": {},
   "outputs": [],
   "source": [
    "#just for test\n",
    "for each in range(len(df_manager)):\n",
    "    df_manager.loc[df_manager[\"text\"] == \n",
    "                      df_manager.loc[each][\"text\"], \"text\"] = re.sub(r'http\\S+', '',(re.sub('[#|$]', '', df_manager.loc[each][\"text\"])))"
   ]
  },
  {
   "cell_type": "code",
   "execution_count": 59,
   "id": "1106c7f1-57f4-46c4-91d5-2ce440667935",
   "metadata": {},
   "outputs": [
    {
     "data": {
      "text/plain": [
       "'1/2 I see Wirecard is rebounding after CEO Markus Braun bought a chunk of shares. This is not a surprise, standard anti-short behaviour.'"
      ]
     },
     "execution_count": 59,
     "metadata": {},
     "output_type": "execute_result"
    }
   ],
   "source": [
    "df_manager.iloc[0][\"text\"]"
   ]
  },
  {
   "cell_type": "code",
   "execution_count": 20,
   "id": "c72d2e87-2f03-4b2b-8e40-a96c582c67eb",
   "metadata": {},
   "outputs": [
    {
     "data": {
      "text/plain": [
       "8371"
      ]
     },
     "execution_count": 20,
     "metadata": {},
     "output_type": "execute_result"
    }
   ],
   "source": [
    "len(df_manager)"
   ]
  },
  {
   "cell_type": "markdown",
   "id": "5d5f94c7-ad5a-4fe2-98f0-ce3ab26e5dc7",
   "metadata": {},
   "source": [
    "<h3>Nicht Kontextbezogene Tweets löschen</h3>\n",
    "<p>So kann ich prüfen ob bestimmte Begriffe in den Texten enthalten sind und mir die conversation_id ausgeben lassen. Diese lasse ich dann löschen und auch zugehörige Tweets, da diese nicht in den Kontext passen.<br>Die wörter in der Liste müssen klein geschrieben werden, da auch alle Buchstaben für die Prüfung klein geschrieben werden müssen, da sinst nicht alles erkannt wird.</p>\n",
    "<p>Zu löschende Begriffe</p>\n",
    "<ul>\n",
    "    <li>meiko</li>\n",
    "    <li>calisthenics</li>\n",
    "    <li>pulled</li>\n",
    "    <li>boxing</li>\n",
    "    <li>fom</li>\n",
    "    <li>dlr</li>\n",
    "    <li>eurocity</li>\n",
    "    <li>m.o.s.s</li>\n",
    "    <li>markus_braun_</li>\n",
    "</ul>"
   ]
  },
  {
   "cell_type": "markdown",
   "id": "38f805e3-4e62-46b7-a375-46a4ca1ff4cf",
   "metadata": {},
   "source": [
    "<p>Überprüfung der englischen Tweets. Im ersten Schritt wurden die Retweets gelöscht, dann alle doppelten Tweets. Anschließend gab es eine Liste mit Begriffen, die definitiv etwas mit dem Thema zu tun hatten. Diese wurden aus dem Datensatz zur prüfung gelöscht. Darauf folgte eine Liste mit Begriffen, die nichts mit dem Thema zu tun haben und deswegen gelöscht werden. Abschließend wurden zu überprüfungszwecken Tweets mit doppelten Texten gelöscht und im Anschluss einzelne Tweet ID gelöscht.</p>"
   ]
  },
  {
   "cell_type": "code",
   "execution_count": 278,
   "id": "831cbd1d-6c4b-4f4b-92a2-b9d4adc68a62",
   "metadata": {
    "tags": []
   },
   "outputs": [
    {
     "name": "stdout",
     "output_type": "stream",
     "text": [
      "202\n",
      "100\n"
     ]
    }
   ],
   "source": [
    "print(len(df_manager))\n",
    "\n",
    "#remove retweets\n",
    "retweet_list = []\n",
    "for each in range(len(df_manager)):\n",
    "    if \"retweeted\" in df_manager.iloc[each][\"tweet_type\"]:\n",
    "        retweet_list.append(each)\n",
    "\n",
    "df_manager = df_manager.drop(retweet_list)\n",
    "df_manager = df_manager.reset_index(drop=True)\n",
    "\n",
    "#remove duplicates\n",
    "df_manager = df_manager.drop_duplicates(subset=[\"tweet_id\"])\n",
    "df_manager = df_manager.reset_index(drop=True)\n",
    "\n",
    "#words that are relevant but needs to be removed for check\n",
    "for each in df_manager.loc[df_manager.text.str.lower().str.contains(\"wirecard|_markusbraun|kpmg|wdi|bank|financial|@ft|dld|philippine|@fd|dan|turtleneck|ceo|criminal|tech|billion|bitcoin|wanted|bafin|ernst|money|pay|wcagy|arrest|handel|wire|marsalek|braun\")].index:\n",
    "    df_manager = df_manager.drop(each)\n",
    "df_manager = df_manager.reset_index(drop=True)\n",
    "\n",
    "#word that needs to be removed as they do not preserve any further value.\n",
    "for each in df_manager.loc[df_manager.text.str.lower().str.contains(\"meiko|calisthenics|pulled|boxing|fom|dlr|eurocity|m.o.s.s|markus_braun_\")].index:\n",
    "    df_manager = df_manager.drop(each)\n",
    "df_manager = df_manager.reset_index(drop=True)\n",
    "\n",
    "#for checkup all tweets with the same text will be removed.\n",
    "df_manager = df_manager.drop_duplicates(subset=[\"text\"])\n",
    "df_manager = df_manager.reset_index(drop=True)\n",
    "\n",
    "#remove single tweet list\n",
    "list_single_tweet_id = [719940834028863489, 771966867707682816, 919891703116566529, 730315192559673344, 1085012780053336064, 748146758232879104, 1275383293504978945, 1121414883512393728, 1288961015351316480, 1284465825915838464, 955660777960230917, 962669158923153409, 1016245557021507584, 1074388350734340097, 1115926018051792898, 1132148944031457280, 1130223973701246976, 1174984360669278209, 1220356450809188353, 1255176912202108929]\n",
    "for each in list_single_tweet_id:\n",
    "    if each in df_manager.loc[df_manager[\"tweet_id\"] == each].values:\n",
    "        df_manager = df_manager.drop(df_manager.loc[df_manager[\"tweet_id\"] == each].index[0])\n",
    "df_manager = df_manager.reset_index(drop=True)\n",
    "\n",
    "print(len(df_manager))"
   ]
  },
  {
   "cell_type": "code",
   "execution_count": 279,
   "id": "176e9868-a5c9-4550-a6d4-cda457a08e37",
   "metadata": {
    "collapsed": true,
    "jupyter": {
     "outputs_hidden": true
    },
    "tags": []
   },
   "outputs": [
    {
     "name": "stdout",
     "output_type": "stream",
     "text": [
      "924460813313769473 :    the brother of Kris ? mco\n",
      "1182995532559437825 :  Top 5 DigitalTransformation Trends in Manufacturing for 2020 @antgrasso @globaliqx @CyrilCoste @lisabriercliffe @debbiediscovers @ingliguori @Forbes IoT InternetOfThings trends AI ArtificialIntelligence 5G VirtualReality VRARGS\n",
      "1182257488747548672 :  Europe + optimism. Is it possible? \n",
      "1203309488301838341 :  One can’t rule this headline out but what’s clear is that Patrio Plus and 10tacle Studios were quite inglorious.  \n",
      "1255387307810664455 :  @saxena_puru your friend have problems....\n",
      "1277503511987490816 :  The case in which short-sellers and market-agitators should have been listened to: \n",
      "1277383360495718401 :  Believed to be the biggest accounting fraud since Enron according to Paul Murphy, FT \n",
      "1277277077318885377 :  Never trust the most bullish ones \n",
      "1277243910721605636 :  Germany's Enron @LizAldermanNYT @CFSchuetze \n",
      "1276873064148373504 :  ⁦@GangsterCapital⁩ Your next podcast? gangstercapitalism  \n",
      "1276856422601547777 :  @FayazFreeforall you were saying? ... \n",
      "1276851052466356225 :  Lol. EY, which faces litigation from distressed shareholders and bondholders who say it didn’t do its job, now says it was duped: “There are clear indications that this was an elaborate and sophisticated fraud involving multiple parties around the world.”\n",
      "1276798601503498241 :  Another ‘accounting scandal’ \n",
      "1276755334145683456 :  Their shares have gone down from €100 to €2 in a week. \n",
      "1276598013516034049 :  How one of Germany’s most feted companies fell from grace — it is the first listed member of the 30-year-old DAX to go bust — is something investigators in several countries are still trying to piece together.  \n",
      "1275918775662129152 :  .@Bristollive .@voscur .@ChtyCommission .@QuartetCF Problem with not dealing with fraud is that it corrodes trust - which is why charitable giving has fallen and continues to fall..... standards matter! \n",
      "1275917937434640386 :  .@bristollive .@voscur .@ChtyCommission .@QuartetCF  Shock horror! - massive fraud at this German company. \"there may yet be embarrassing revelations about why supervisory bodies...did not intervene.\" Small fraud couldn't happen in charity sector, surely? \n",
      "1275832271178612736 :  @Hammaburg2 Nein \n",
      "1275726526697308163 :  The DOJ finds 'something curious' in immigration records. The NBI and AMLC are investigating other individuals possibly involved in one of the largest fraud cases in recent history.By @RalfRivas   via @rapplerdotcom\n",
      "1275725644689813504 :  Jesus Christ, another twist in the story.\n",
      "1275724375027789825 :  The DOJ finds 'something curious' in immigration records. The NBI and AMLC are investigating other individuals possibly involved in one of the largest fraud cases in recent history. \n",
      "1275652731391356930 :   is a tragedy that involves greed.\n",
      "1275551533074128896 :  Right, its crypto that has problems with scams\n",
      "1275550065508179968 :  Lol there’s fraud, and then there’s FRAUD. Nigerians are definitely still donning ‘L plates’ Lol WOW \n",
      "1275536231733092352 :  Germany's Vishal Shekhar? \n",
      "1275519230213939200 :  Wow! 2B fraud and an Austrian company?! I thought only American companies did this. 😳 \n",
      "1275501326827425793 :  We are on a roll now. \n",
      "1275487320926326784 :  This still goes on\n",
      "1275483456307372034 :  Wierecard: \n",
      "1275454403772690441 :  Look out Bill and Mark: \n",
      "1275444409677475841 :  Good \n",
      "1275442727912529921 :  He exudes evil:\n",
      "1275437482704658436 :  Any questions? \n",
      "1275432778880790530 :  “Innovation “ blinds us once again...should I say so called Innovation? Time to subject all to the same scrutiny.notthenewnormal \n",
      "1275428005041537024 :  The most recent business news that could impact your company.  Need more info? Contact us -  AskXavier canada\n",
      "1275424140032434178 :  Fraud and scandal. How do they think they won’t get caught?! \n",
      "1275414791075422213 :  Probably the first story where a SCAM was unearthed by an auditor! \n",
      "1275413372658495489 :  Accounting error. \n",
      "1275410496561319936 :  What ya gonna do when they come for you?   \n",
      "1275409215264305155 :  When this happens with cryptocurrency they blame the currency... Why don't the same criticism apply to fiat currency when this happens? \n",
      "1275395113821274113 :  I’m amazed at how German startups are exploding in every sense of the word. From Celonis to Zalando, the Germans are knocking it out off the park. This scandal by itself is proof of this crazy growth  \n",
      "1275394426995707904 :  Can't make this up. \n",
      "1275385765594386432 :  The police must read my tweets.  Seriously how did this take so long.  Warning signs have been discussed for over a year! via @NYTimes  \n",
      "1275363862704001024 :  Cricky! I wonder what's going on here! \n",
      "1275362823389040641 :  There are levels to this scam thing. \n",
      "1275356891468759042 :  Remember how Chris Kirubi did this and nothing ever happened to him? \n",
      "1275355574511812608 :  Es hat sich ausge-think-tanked\n",
      "1275351333218983937 :  And now it starts. \n",
      "1275345659902734341 :  sad story for the whole market. Thats what happens if you compete but born in a wrong country. Nearly inevitable. I'm anxious to hear ton of news how this man was guilty in everything icl. Kennedy assassination.  \n",
      "1275341245808816129 :  Here we go: \n",
      "1274758016588369922 :  What was that....yeah! 🤔“You only find out who is swimming naked when the tide goes out.\" - Warren Buffett\n",
      "1274383620183134210 :  Das ist alles so unfassbar :-(\n",
      "1274164062759223297 :  Link:  \n",
      "1288494307364810752 :  madness\n",
      "1287961488821542914 :  @Mareq16 Thought you’d find this interesting\n",
      "1287212396793257984 :  Can hardly wait for the Aaron Sorkin adaptation of this ridiculous plot. \n",
      "1286309096245927939 :   This is what happens when you let Madoff watch too many Harrison Ford movies.\n",
      "1286174936185413632 :  Here is @Bellingcat with their Half truths. For you to find out which half is the truth and which fits their narrative. Quote \"He also claimed to have the full formula of Novichok, the military-grade poison that was used by GRU in the Skripals case\". \n",
      "1286011300099821568 :  Pretty brazen Russian interference; pretty embarrassing that Austria didn’t care. ⁦@AustriainUSA⁩  \n",
      "1285983401045045249 :  \"with the clear help of Russian intelligence.\" \n",
      "1285789356440068103 :  Having network issues at your booming office, then call 615-928-2438 and now and we will help you! nashvillecomputers \n",
      "1285765097499983873 :  @johnlkinsella And when twitter redirects you out of context, you look like a fool when you comment (where did that link go...).comment w.r.t. \n",
      "1285597512267595782 :  In documents about a product demo from Hacking Team he is mentioned as a „represantative“ of Grenada. English Version of this slightly bizarre story by @lorenzofb \n",
      "1285587546026774528 :  this story is bizarre as hell \n",
      "1285585844859023360 :  Here's the German version of the story on @derspiegel. \n",
      "1285441298808307712 :  @cszabla Oh boy\n",
      "1285278538581630977 :  This is like the beginning of a Fast &amp; Furious movie, it just needs some cars \n",
      "1285198511668031489 :  @WallStCynic to be read alongside the weekend bellingcat report on his extensive - huge - FSB file. \n",
      "1285145162025439232 :  @killerswan @patio11 Waaaay more out there than that. I have obviously no way of verifying this article, but this is the level of weirdness we’re talking \n",
      "1285144962083041280 :  With Love to Russia. Amazing tracing from @bellingcat about the run from Justice \n",
      "1285131284012990470 :  @jasoncartwright The story of this guy is absolutely amazing: \n",
      "1285108440571011072 :  The case is connected to Russian Novichoks and the Russian campaign against the OPCW. cbrn chemicalweapons \n",
      "1285067079335501825 :  Who is Bellingcat? \n",
      "1285033595656998912 :  This is like European Enron if they had implicated the Fed🎵Man on the run!🎶\n",
      "1285014668004610048 :  Missing German Fin company cheat now found in Belarus. Person of interest to 3 intelligence agencies for deep Russian roots. Bellingcat \n",
      "1284934342276505605 :   Thank you @bellingcat amazing work as always\n",
      "1284872821634727936 :  Can’t wait to find out what this guys interest in Libya was? \n",
      "1284867394696077314 :  Jan Maršálek would be in Bielorussia w/ the help of the FSB. How long will he stay there (and alive)? \n",
      "1284853008996675585 :  Tallinn has made itselft into the hot topics again \n",
      "1284773047334064128 :  “More mysterious yet is his use of a diplomatic passport issued, again, by an unnamed state. This diplomatic passport – with number DA0000051 – is described in the migration file as a “diplomatic passport issued to a non-citizen”.”  \n",
      "1284749778530766849 :  This is a cracking long read. Top sleuthing.\n",
      "1284726014170599424 :  Netflix. \n",
      "1284692471637778432 :   Now this is an interesting saga, demonstrating how much certain men can get away with - partly because they can easily con their \"business associates\".\n",
      "1284658814956892160 :  A datajournalism masterclass in tracking a fugitive using immigration and flight records \n",
      "1284582667770454017 :  Once again Belarus is making unfortunate headlines in Germany today.  via @zeitonline\n",
      "1284566461915320327 :  What is this story? It reads like the screenplay to a cheap James Bond Knock-off. A bad one. \n",
      "1284558999820611585 :  Story getting more twisted by the day \"Tu felix Austria?\" 😎👇➡️ good Sat eve read. Cc @chigrl @RonStoeferle \n",
      "1284535389789868032 :  “do not worry, the same people have been in power for the last 25 years”.\n",
      "1284527876767920130 :  How dodgy? Oh THAT dodgy.  \n",
      "1284526076870438914 :  The Man with the Many Faces and Passports 🌍 \n",
      "1284515617278656512 :  More and more like a real-life spy-movie! \n",
      "1284512327946113025 :  More details of the investigation can be found here \n",
      "1284511416335179776 :  He is known as investor in cement company in Libya but most likely he is involved in establishing mercenaries-related business.  \n",
      "1283631230513184770 :  Hilarious how SPIEGEL plays stupid.\n",
      "1282551433708081160 :  Floor is lava.\n",
      "1281981416553631744 :  Never heard of this company LOL but corruption sure is deep and wide \n",
      "1281252556744859648 :  Huch?!  via @derspiegel\n",
      "1279686249196826629 :  Justice Secretary Menardo Guevarra says one of the officers was from the head office, while the other was stationed at the Mactan Cebu International Airport. \n",
      "1278983112890953728 :  Hide and seek; Level: global😄 nice.\n",
      "1278902883661090821 :  He should get lifetime ban and 30 years in prison!!!!! \n"
     ]
    }
   ],
   "source": [
    "for each in range(len(df_manager)):\n",
    "    print(df_manager.iloc[each][\"tweet_id\"], \": \", df_manager.iloc[each][\"text\"])"
   ]
  },
  {
   "cell_type": "code",
   "execution_count": 280,
   "id": "58e3b4c0-83ed-45ea-af92-5f956d124478",
   "metadata": {
    "collapsed": true,
    "jupyter": {
     "outputs_hidden": true
    },
    "tags": []
   },
   "outputs": [
    {
     "name": "stdout",
     "output_type": "stream",
     "text": [
      "1276851052466356225 :  Lol. EY, which faces litigation from distressed shareholders and bondholders who say it didn’t do its job, now says it was duped: “There are clear indications that this was an elaborate and sophisticated fraud involving multiple parties around the world.”\n",
      "1275424140032434178 :  Fraud and scandal. How do they think they won’t get caught?! \n",
      "1275410496561319936 :  What ya gonna do when they come for you?   \n",
      "1275409215264305155 :  When this happens with cryptocurrency they blame the currency... Why don't the same criticism apply to fiat currency when this happens? \n",
      "1285033595656998912 :  This is like European Enron if they had implicated the Fed🎵Man on the run!🎶\n",
      "1284692471637778432 :   Now this is an interesting saga, demonstrating how much certain men can get away with - partly because they can easily con their \"business associates\".\n"
     ]
    }
   ],
   "source": [
    "for each in df_manager.loc[df_manager.text.str.lower().str.contains(\"ey\")].index:\n",
    "    print(df_manager.iloc[each][\"tweet_id\"], \": \", df_manager.iloc[each][\"text\"])"
   ]
  },
  {
   "cell_type": "code",
   "execution_count": 145,
   "id": "5e05e28d-d4c8-45ab-911a-6386af7f7a3f",
   "metadata": {
    "collapsed": true,
    "jupyter": {
     "outputs_hidden": true
    },
    "tags": []
   },
   "outputs": [
    {
     "name": "stdout",
     "output_type": "stream",
     "text": [
      "695255175334924288 :  Thank you for following us Markus Braun!\n",
      "719940834028863489 :  Artist updated: Markus Braun \n",
      "730315192559673344 :  The social benefits of effective sentence and paragraph use: a presentation by Markus Braun on Prezi \n",
      "727520741181263872 :  boon changes the way people pay:  Our aim is to take retail payments to the next level, says Markus Braun.\n",
      "748146758232879104 :  The legend Markus Braun (also known as \"the old fuck\") spotting for us parks in Bavaria/Germany!... \n",
      "779653784704315392 :   which boards Markus Braun was in? watch old family albums! \n",
      "779643983693750274 :  But QVT still major shareholder in Paysafe?  Have Markus Braun and Klaus Rehnig been board members? askquestions \n",
      "774875086390198272 :  The \"old fuck\" @markus_braun_loonybarz killin it in Skolov at the World pull up day! How many pulls did you got... \n",
      "771966867707682816 :  Markus Braun – Backyard Beauties  via @\n",
      "873155313993732096 :  Welcome to the M2020EU stage  MarkusBraun. We can't wait to see you in just 17 days! \n",
      "908289122338570240 :  Digitalization of payments – the ultimate energy source of modern industries \n",
      "905461585904369664 :  Top story: Markus Braun on Twitter: \"Good example of how mobility companies ar…  see more \n",
      "924460813313769473 :    the brother of Kris ? mco\n",
      "919891703116566529 :  \"Every technology is only about the value it offers to customers” – Terry von Bibra, GM Europe @Alibabagroup \n",
      "943331630722162688 :  PublicDomainNews Role of donkeys and goats as “ecosystem engineers” under scrutiny: Asinara Island, viewed from Stintino beach. Photo: Markus Braun, public domain, via Wikimedia Commons. A total of 618 seedlings of 90 plant species belonging to 17 plant… \n",
      "955660777960230917 :  @StribSports Well done @mikedoylempls Hopefully others follow your model. Great quote by Markus Braun!\n",
      "962669158923153409 :  @FanmilesFanpage Interview mit Markus Braun @FanmilesDE\n",
      "961205488145887232 :  RBI statistics still show strong growth for IMPS volume. Is that sufficient to explain why GI does better than expected? Did the Ramasamy brothers sold a hen laying golden eggs to lucky Markus Braun?  \n",
      "1016245557021507584 :  Last Vimana Radio episode of the season: Electro Focus Part 3 via @dublabes, with special guest Markus Braun aka Marc Moreno aka Farb Servei Tecnic \n",
      "1037988521913532416 :  It’s a new day. It‘s a new dawn. Welcome Markus Braun @ Darwins Circle 2018. Vienna,Haus der Industrie, Sept 27th. Get your tickets. darwinscircle18\n",
      "1074388350734340097 :  @ganzer_wein Salü Caleb, had a chat with Kevin on Friday. We are wondering if your water quality did improve. With the water contaminated with the resudials which are blocking your filters you may probably not want to cook. Let me know if we can do anything for you. Markus Braun\n",
      "1085012780053336064 :  Jumping into the weekly countdown for the first time is @uweauclaire student Markus Braun @markus_braun25 from our Minneapolis office! Markus is our 14 rep this week with 6,581 in personal sales! VectorTrained SalesRocks @UWECCareers GIF theme Raccoons \n",
      "1099985131064958977 :  @Isabel_Schnabel @hb_finanzen Mr. Markus Braun is a great man.\n",
      "1105769439348383744 :  “The employee has been put on leave until the end of the investigation,” Chief Executive Markus Braun told Reuters, saying the move was a standard procedure. \n",
      "1121414883512393728 :  Great to catch up with the sensational Albanian fighter Florian Marku in the office today.Florian headlines his show this weekend at York Hall in an explosive contest Florian 2-0 (2 KOs) takes on highly regarded Jan Marsalek 3-0 (3 KOs). Going to be some fight this. \n",
      "1116731930064695298 :  IMO 2019 is going to be a very very bad year for these fellows.-Parker petite-Elon musk-Craig wright-Gavin southwell-Markus braun.              They built there fortunes on a bed of sand. When your foundation lacks integrity, it doesn’t matter what you do, It will always crumble\n",
      "1115926018051792898 :  „A quantum system needs to evolve. We do a lot of research to develop these systems“, says Markus Braun, Managing Director @JoSQUANTUM hubberlin\n",
      "1132148944031457280 :  Have my serious doubts whether the label of “dwindling domestic economy” matches China 🤔What about “slowing growth”? What’s your take? @ZHAW ‘s Markus Braun, Esther Kessler, and Beat Affolter. Apart from that: a good read:  renminbi Switzerland\n",
      "1130223973701246976 :  🙃 hey there people i‘m Markus Braun, they say i‘m the cutest boy in town 🙃 \n",
      "1126774209521209344 :  @WireFraudCard @rotersiggi @misterbien2 @EY_Germany Siggi is just a sycophantic muppet who thinks Markus Braun's farts smell like Chanel perfumes.\n",
      "1176255251906740225 :  Working to be the new king. 👑 My favorite skill back at it again. Day by day I see myself improving. zeblackturboworkoutofficial markus_braun_loonybarz crunchdearborn...calisthenicgamer thecalisthenicgamer… \n",
      "1174984360669278209 :  Markus Braun is right to be concerned about climate change, but is wrong to suggest that burning should not be used to control fire-load on our uplands.Read our recent letter about moorland burning 👇 \n",
      "1182995532559437825 :  Top 5 DigitalTransformation Trends in Manufacturing for 2020 @antgrasso @globaliqx @CyrilCoste @lisabriercliffe @debbiediscovers @ingliguori @Forbes IoT InternetOfThings trends AI ArtificialIntelligence 5G VirtualReality VRARGS\n",
      "1182257488747548672 :  Europe + optimism. Is it possible? \n",
      "1192393781024350208 :  Aldi this morning..?! 🤣Posted withrepost • @mb_talent01 How old are you? morningmotivationapprovedtalent markus_braun_loonybarz fitatanyage fitnessforall southendworkout southendonsea westcliffonsea… \n",
      "1210839528715501568 :  Mobile Payment - It&amp;39;s Only the Beginning (Markus Braun,...  ipp affiliate stratocharge \n",
      "1204737283196432384 :  The German press is waking up to this story now that it's not just wicked UK hedge funds going after good German businesses. Could Handelsblatt have picked a more villainous photo of Markus Braun?   \n",
      "1204728306341425152 :  @HamishHouston German media finally waking up: Der Spiegel turns its attention to Markus Braun - 'is he a scammer?' \n",
      "1203309488301838341 :  One can’t rule this headline out but what’s clear is that Patrio Plus and 10tacle Studios were quite inglorious.  \n",
      "1220379101783056384 :  Chairman Thomas Eichelmann said the investigation is expected to be concluded by the end of March.Markus Braun will receive a contract extension if an accounting probe finds no material misconduct at the company, according to Eichelmann.WCAGY \n",
      "1220356450809188353 :  Did you know that quantum computers can help manage risks in finance? Markus Braun of @JoSQUANTUM shows us how. Fascinating! \n",
      "1255404507703529473 :  Manager Magazin\"the unusual communication from CEO Markus Braun, who sees himself relieved by the report, raises massive questions about his sense of reality and his judgment\"\n",
      "1255387307810664455 :  @saxena_puru your friend have problems....\n",
      "1255176912202108929 :  @JuliusFischer17 @PatrickBasiewic @oss11713 @misterbien2 A doctor is definitely something all of you need after today. But then again, you guys already have one: Dr. Markus Braun.\n",
      "1253675914749259776 :  @QuantVal And i remember the december NTV interview with Markus Braun, when they asked him about the Excel-sheets. He instant smiled with light laughing…. They just \"push a button\" in SAP and see how much is routet over them and told alrdy all: Its not even 10% of what is in the sheets\n",
      "1245376691687620608 :  You can TRY 👊💪TagaFriend 👊 💯SUBSCRIBEforMoreSPORT 💪 ► 👇@sport_yurich .📽 markus_braun_loonybarzyurichsport motivation instagram stronger fitness gym bodybuilding crossfit sport… \n",
      "1266498889701564417 :  @Tradefair6 @laurenz_hirsch @StT0ng bafin so zu Markus Braun: You got a right to party... \n",
      "1266329177801850880 :  Markus Braun’s move falls within pre-results period when managers usually may not trade \n",
      "1266000129712144385 :  Such is the sway of @TESLAcharts that Markus Braun, whom you will discover in this podcast, decided to buy some shares on this very day.27'600 shares for ca. 2.5 MEUR \n",
      "1265325874083053569 :  Wrecard's Eichelmann will only continue the contract of MarkusBraun if they get a qualified opinion.   My opinion:  EY doesn't want to give it. So Braun asked Eichelmann for this extra 2 weeks, hoping for a miracle. His last chance...\n",
      "1265300296470847488 :  Eichelmann should give back his mandate and not sacrifice MarkusBraun in order to save something that couldn't be saved anyway if the probs are so bad that Braun's resignation seems to be a solution cryptic @AlderLaneeggs @Bartz70Tim @FelixHoltermann @ingomalcher @HerrTschalek \n",
      "1263471077877047297 :  @AlderLaneeggs @FelixHoltermann Be sure he won't. @EY_Germany won't sign, and then he has the reason to fire MarkusBraun. Cleverly, he already positionned new board members. What you hear from DeutscheBoerse is that he has no problems with firing people...just patience...\n",
      "1261979414906261504 :  If I was Markus Braun, I would avoid flying to Singapore these days... The CAD investigation is still ongoing....Or if I  really have to, I d bring an empty cello case along :-) carlosghosn\n",
      "1257602836495585280 :  Does @EY know that Markus Braun is ready for sign off of the 2019 audit already? \n",
      "1277708821566238720 :  Did Jan Marsalek run to Fremont? \n",
      "1277576324450668545 :  In a German Tech Giant’s Fall, Charges of Lies, Spies and Missing Billions  tech technology blockchain innovation science IT BigData Security cybersecurity crypto cloud IOT computer CISO infosec infosecurity hacker engineering\n",
      "1277558585694785536 :  If German authorities could have anticipated that he could have been caught. Also Markus Braun could  escape pretty much anytime if he sees authorities  . Its really a shame the pace with which the authorities investigate such high profile cases ? \n",
      "1277503511987490816 :  The case in which short-sellers and market-agitators should have been listened to: \n",
      "1277383360495718401 :  Believed to be the biggest accounting fraud since Enron according to Paul Murphy, FT \n",
      "1277373271932055558 :  If Markus Braun had a retarded brother... \n",
      "1277332353363464198 :  In a German Tech Giant’s Fall, Charges of Lies, Spies and Missing Billions \n",
      "1277326791972093953 :  Can 2020 astro be more literal? NYT: \"In a German Tech Giant’s Fall, Charges of Lies, Spies and Missing Billions\" \n",
      "1277290507367075843 :  WCAGY. Many investors in this company were wiped out just like LK It's better investing in known companies that have nowhere to go and too big to fail. GOOGL AAPL AMZN MSFT @stockspastor \n",
      "1277284726663831553 :  In a German Tech Giant’s Fall, Charges of Lies, Spies and Missing Billions  via @instapaper\n",
      "1277277167374778368 :  In a German Tech Giant’s Fall, Charges of Lies, Spies and Missing Billions - ⁦@nytimes⁩\n",
      "1277277077318885377 :  Never trust the most bullish ones \n",
      "1277243910721605636 :  Germany's Enron @LizAldermanNYT @CFSchuetze \n",
      "1277216200112713729 :  “The situation is a complete disaster.” German regulators face fresh scrutiny as Wirecom, a corporate icon, collapses  by @LizAldermanNYT\n",
      "1277205815271870465 :  In a German Tech Giant’s Fall, Charges of Lies, Spies and Missing Billions via @NYTimes \n",
      "1277181979314868224 :  @BasebyStephen @PeterMatza @usercare The funniest thing i read was EY claiming management of Wincard duped them alongside everyone else for three years. That is pure nonsense from an assurance provider. Markus Braun &amp; EY's engagement partners should be locked behind bars.Big 4 are overrated.\n",
      "1277157059243302913 :  @papadimitriou I know Mr. Markus Braun from the past. He has so much criminal energy that he could cheat even the FBI. And with the right documents EY or any other can be tricked, sad but true.\n",
      "1277135220542713856 :  In a German Tech Giant’s Fall, Charges of Lies, Spies and Missing Billions  cybersecurity\n",
      "1277120159552081921 :  @Haveanice110 @Schuldensuehner So you mean Markus Braun is the plot leader to destroy Germany’s reputation. That’s laughable 🤣🤣\n",
      "1277085188028280832 :  Toby Clothier of Mirabaud Securities on Markus Braun.Remind you of anyone?h/t @MotherCabriniNY \n",
      "1277053258641653760 :  Justice Secretary Menardo Guevarra says Philippine authorities have yet to determine if this was due to a technical glitch or if the records were deliberately tampered to set investigators on the wrong course \n",
      "1276912301820370944 :  EY, formerly Ernst &amp; Young, said the company had carried out “an elaborate and sophisticated fraud.” Mastercard and Visa said Friday that they were considering cutting ties. \n",
      "1276908052428591106 :  News like this don't trend. Why? \"Germany’s 2 billion fraud! Markus Braun arrested.\"Details below. Hushpuppi6 Nigerians MalalaDownFall  Obasanjo Dortmund Adams Oshiomhole\n",
      "1276888605798076418 :  @Ptiki @RonnieJ63243264 @ReadingWritA @StamsterS @Payoneer @smarkovic @vlasterx @code_lazarus Oops, My bad. Thanks for letting me know. \n",
      "1276873064148373504 :  ⁦@GangsterCapital⁩ Your next podcast? gangstercapitalism  \n",
      "1276856422601547777 :  @FayazFreeforall you were saying? ... \n",
      "1276851052466356225 :  Lol. EY, which faces litigation from distressed shareholders and bondholders who say it didn’t do its job, now says it was duped: “There are clear indications that this was an elaborate and sophisticated fraud involving multiple parties around the world.”\n",
      "1276823386916663296 :  @abroninvestor I google Sideways Bar and got this. Wrong country. Maybe you can find Jan Marsalek there.\n",
      "1276818183417192454 :  This is why people are leery about roll-upsRTIn a German Tech Giant’s Fall, Charges of Lies, Spies and Missing Billions \n",
      "1276807504744206336 :  Authorities also trying to solve puzzle of Jan Marsalek's whereabouts. Immigration data shows him arriving in Manila on June 23 &amp; leaving for China next day. Justice secretary says there is no CCTV footage to confirm arrival nor flight to China to confirm departure.\n",
      "1276799187435188224 :  ‘Its longtime auditor, EY, formerly Ernst &amp; Young, said the company had carried out “an elaborate and sophisticated fraud.” Mastercard and Visa said Friday that they were considering cutting ties’ \n",
      "1276798601503498241 :  Another ‘accounting scandal’ \n",
      "1276784592737972225 :  \"In a German Tech Giant’s Fall, Charges of Lies, Spies and Missing Billions\" via NYT  \n",
      "1276755334145683456 :  Their shares have gone down from €100 to €2 in a week. \n",
      "1276748571329650688 :  @alechogg wire card markusbraun took just 5 days to arrest,German 🇩🇪 justice swift when put to the test,markusjooste is still free,5 years it will be,Before our NPA make him a prison guest.steinhoff southafrica 🇿🇦\n",
      "1276747475022491650 :  @NPA_Prosecutes wire card markusbraun took just 5 days to arrest,German 🇩🇪 justice swift when put to the test,markusjooste is still free,5 years it will be,Before our NPA make him a prison guest.steinhoff southafrica 🇿🇦\n",
      "1276747235380903937 :  @NPA_Prosecutes It is better to be MarkusJooste than MarkusBraun,Drive your Bentley in Hermanus and see the dawn,No orange jumpsuit yet,When is anybodies bet,As the NPA delay fiddle and fawn.\n",
      "1276739335186976768 :  wire card markusbraun took just 5 days to arrest,German 🇩🇪 justice swift when put to the test,markusjooste is still free,5 years it will be,Before our NPA make him a prison guest.steinhoff southafrica 🇿🇦\n",
      "1276735273897000961 :  @jacquescupido12 It is better to be MarkusJooste than MarkusBraun,Drive your Bentley in Hermanus and see the dawn,No orange jumpsuit yet,When is anybodies bet,As the NPA delay fiddle and fawn.\n",
      "1276734881977044992 :  @Magda_Wierzycka It is better to be MarkusJooste than MarkusBraun,Drive your Bentley in Hermanus and see the dawn,No orange jumpsuit yet,When is anybodies bet,As the NPA delay fiddle and fawn.\n",
      "1276669854280450048 :  @retheauditors @AlmingtonCap Markus Braun knew how to structure it , he just failed at the inventing cash part\n",
      "1276598013516034049 :  How one of Germany’s most feted companies fell from grace — it is the first listed member of the 30-year-old DAX to go bust — is something investigators in several countries are still trying to piece together.  \n",
      "1276596971692871680 :  Browsing trough recent interviews of Markus Braun, hearing him boast \"our biggest strength is compliance, our USP compliance and risk management and disclosure, not focusing on controversies but technologies, still early stage\"; then seeing the smug face of Elon Musk TSLAQ\n",
      "1276596885285986304 :  In a German Tech Giant’s Fall, Charges of Lies, Spies and Missing Billions via NYT \n",
      "1276595410291888128 :  \"In a German Tech Giant’s Fall, Charges of Lies, Spies and Missing Billions\" by Liz Alderman and Christopher F. Schuetze via NYT  antiporn puresearch\n",
      "1276590599131586562 :  \"In a German Tech Giant’s Fall, Charges of Lies, Spies and Missing Billions\" by Liz Alderman and Christopher F. Schuetze via NYT  Check out  - (302) 444-0401. Contact us for all of your small business needs.\n",
      "1276588423479005184 :  “The situation is a complete disaster.” German regulators face fresh scrutiny as Wirecom, a corporate icon, collapses  by @LizAldermanNYT\n",
      "1276587816517095424 :  \"In a German Tech Giant’s Fall, Charges of Lies, Spies and Missing Billions\" by Liz Alderman and Christopher F. Schuetze via NYT \n",
      "1276528486069481472 :  Honestly it would be incolplete without Jan Marsalek in the front page as well. He needs at least 5 pages. \n",
      "1276492843180228609 :  And the CEO Markus Braun still managed to find the £5 million bail.Greed is the route of all evil. The ordinary people will suffer againCorruption \n",
      "1276481467653251073 :  Markus Braun, was arrested this week on charges of inflating the company’s balance sheet but has since been released on bail. The payments firm has been unable to locate €1.9bn in cash that was missing from its balance sheet -which the company said Monday probably doesn’t exist.\n",
      "1276477590681706496 :  In a fresh statement, lawyer Mark Tolentino said he was being framed for the mess involving the German firm's finances, which has triggered the resignation of its chief executive officer Markus Braun and forced the company to file for insolvency. \n",
      "1276457689933987841 :  The German authorities nabbed Markus Braun for fraud. The Emirati authorities nabbed Ramon ‘Hushpuppi’ Abbas.\n",
      "1276272689330651138 :  Why?  2 billion disappear.  A decade of profits just evaporated?  Billions wiped out over night.  He’s in and out of jail like a speeding ticket? \n",
      "1276265159003176960 :  Isn't it time to review our collective definition of vulture capitalism? Is it shorters like Fahmi Quadir, or societal icons like Markus Braun? I prefer the business model of Quadir, built on positive returns if justice is done. \n",
      "1276262559025451009 :  We live in a world where Markus Braun isn't all Austrians but Nigerians should make excuses for being themselves? Riddle me that.\n",
      "1276244019937411072 :  JanMarsalek \"arrived in Manila on June 23, and left for China from Cebu the next morning ....Guevarra, however, noted that there were no signs of Marsalek in the CCTV of the Mactan-Cebu International Airport.\" 1 \n",
      "1276208042141380610 :  Technology audit EY fraud MarkusBraun CEO arrested over missing 2billion  \n",
      "1276174569028694017 :  Will janmarsalek actually show up on Monday at the German prosecutor in Munich; let us do a poll:\n",
      "1276138390421995525 :  soso! janmarsalek  always had his pockets filled with cash - yeah I guess for a COO of a fintech promoting cashless payments nothing special 🤣 \n",
      "1276117563945021440 :  @LongShortTrader Jan Marsalek: Catch me if you can!\n",
      "1276107714498908160 :  @lehtimaeki That's really bad for the employees. Wikipedia: \"A criminal investigation began on 22 June 2020 and its recently-resigned CEO, Markus Braun, was arrested the same day.\" Also shareholders are impacted.\n",
      "1276098143365496833 :  Markus Braun was arrested on suspicion of falsifying accounts at the company, which processes tens of billions of euros in credit and debit transactions every year.  \n",
      "1276095301846212614 :  “All travel records under the name of the subject (Jan Marsalek) are part of the investigation. Will submit the report to the SOJ (Secretary of Justice) once done,” BI acting spokesperson Melvin Mabulac said in a Viber message. \n",
      "1275956880376905728 :  Marsalek was fired on Monday, June 22.\n",
      "1275951863289044993 :  Jan Marsalek. Check out our articles here!  Jan_Marsalek\n",
      "1275918775662129152 :  .@Bristollive .@voscur .@ChtyCommission .@QuartetCF Problem with not dealing with fraud is that it corrodes trust - which is why charitable giving has fallen and continues to fall..... standards matter! \n",
      "1275917937434640386 :  .@bristollive .@voscur .@ChtyCommission .@QuartetCF  Shock horror! - massive fraud at this German company. \"there may yet be embarrassing revelations about why supervisory bodies...did not intervene.\" Small fraud couldn't happen in charity sector, surely? \n",
      "1275911808524726273 :  Germany targets pedophile trafficking and Big Tech unlike USA who ignores billionaire pedophiles \n",
      "1275882396395753472 :  At one point, Elon will have to choose whether he wants to go like Markus Braun or Eva Braun\n",
      "1275836519597703169 :  @cgledhill Do I sense some 'Schadenfreude'?The more interesting question is if @ryangosling will star as Markus Braun\n",
      "1275832271178612736 :  @Hammaburg2 Nein \n",
      "1275767791035969542 :  Monopoly Money Fraud ⁦@carlquintanilla⁩  \n",
      "1275731870186160129 :  Former CEO Markus Braun let out on bail \n",
      "1275726526697308163 :  The DOJ finds 'something curious' in immigration records. The NBI and AMLC are investigating other individuals possibly involved in one of the largest fraud cases in recent history.By @RalfRivas   via @rapplerdotcom\n",
      "1275725644689813504 :  Jesus Christ, another twist in the story.\n",
      "1275724375027789825 :  The DOJ finds 'something curious' in immigration records. The NBI and AMLC are investigating other individuals possibly involved in one of the largest fraud cases in recent history. \n",
      "1275672031204462594 :  I like the headline, it could have read differently for example: Braun arrested for alleged massive fraud.\n",
      "1275669910300037121 :  Markus Braun turned himself in on Monday night after Munich prosecutors issued a warrant for his arrest. \n",
      "1275652731391356930 :   is a tragedy that involves greed.\n",
      "1275637527295262720 :  One consequence of Markus Braun’s downfall. \n",
      "1275633285444653058 :  2.1 billion went missing from this company. Now its boss has been arrested.\n",
      "1275604625391931393 :  Can you imagine how many CEO will be in jail if auditors were doing their jobs ????? \n",
      "1275585027082862593 :  CEO arrested, COO fired, Shares down 85%. A respected company at risk of going the ENRON way. Pressures of perf can be massive. Was it worth it? Surely the USD2b didn’t disappear overnight. This was done over years. They had time to correct. But didn’t.\n",
      "1275573491496964096 :  Braun resigned Friday after the German payment service provider said auditors couldn’t find 1.9 billion euros of cash on its balance sheet. \n",
      "1275552386518405121 :  @TESLAcharts I mean Markus Braun was just arrested and he’s a billionaire.  So idk if that protects you from being arrested or jailed.  Of course, Elon is an especially powerful and well-connected billionaire.\n",
      "1275551533074128896 :  Right, its crypto that has problems with scams\n",
      "1275550065508179968 :  Lol there’s fraud, and then there’s FRAUD. Nigerians are definitely still donning ‘L plates’ Lol WOW \n",
      "1275549353017475075 :  -ING develops FATF-friendly protocol for tracking crypto transfers  ex-CEO arrested launches crypto asset management tools\n",
      "1275536231733092352 :  Germany's Vishal Shekhar? \n",
      "1275521969258033152 :  Former CEO of one of Germany's biggest companies arrested after 2 billion scandal explodes\n",
      "1275519230213939200 :  Wow! 2B fraud and an Austrian company?! I thought only American companies did this. 😳 \n",
      "1275518465357549570 :  This cowboy named Jan Marsalek is looking for 2.1 billion euros in Manilla. \n",
      "1275517701360889860 :  Former CEO of one of Germany's biggest companies arrested after 2 billion scandal explodes \n",
      "1275509272286281732 :  @Willmroth Keep the tab on this story SZ . Its a disgrace to the society and all  the investors when Jan Marsalek  flees as and now anothe rone Mr Braun will flee as well\n",
      "1275502270591848448 :  2.1 billion went missing from this company. Now its boss has been arrested.  \n",
      "1275501326827425793 :  We are on a roll now. \n",
      "1275487320926326784 :  This still goes on\n",
      "1275485915343798272 :  Former CEO of one of Germany's biggest companies arrested after 2 billion scandal explodes  \n",
      "1275483456307372034 :  Wierecard: \n",
      "1275480107344375811 :  Jan Marsalek has left the building, gone to the airport, and flown to Manilla, says SZ. He is not on the run, however! \"Friends of Marsalek say that he wants to get documents that could help clarify the case.\" \n",
      "1275473099111137280 :  @AlderLaneeggs Can't we somehow arrange with the public prosecutor's office to give Jan Marsalek this job?\n",
      "1275467084013670400 :  Source CNNEx-CEO arrested after 2.1B went missing \n",
      "1275466682841075722 :  From CNN: Former CEO of one of Germany's biggest companies arrested after 2 billion scandal explodes Former CEO of one of Germany's biggest companies arrested after 2 billion scandal explodes\n",
      "1275464053650006017 :  Thanks, Timothy: btw, did you know MarkusBraun was briefly part of legendary group Kraftwerk in the 90ies? (Wouldn’t that be nice?) \n",
      "1275462676320264192 :  Judge's decision to release Braun on 5M EUR bail \"surprising\"  -Sueddeutsche\n",
      "1275457637186801666 :  HOW THE HELL YOU HIDE 2 Billion Whole like this? \n",
      "1275456681514680327 :  Prosecutors say he was arrested on suspicion of presenting false information.\n",
      "1275456215905009665 :  We may be seeing @POTUS next hire.Former CEO of one of Germany's biggest companies arrested after 2 billion scandal explodes\n",
      "1275454403772690441 :  Look out Bill and Mark: \n",
      "1275452745827315712 :  Another lady thanked Markus Braun for the happiness he brought to her. \n",
      "1275444409677475841 :  Good \n",
      "1275443167475556352 :  Ex-CEO of European tech firm arrested  \n",
      "1275442727912529921 :  He exudes evil:\n",
      "1275437482704658436 :  Any questions? \n",
      "1275434241224916992 :  The first Government Department to be automated by Markus Braun was BaFin. \n",
      "1275432800708169728 :  @DonutShorts C) She has a personal relation with Markus Braun and is part of his fraud scheme. I see this as a real possibility, because of her exceptional choice of words in her research. Exactly like a fraudster would react.\n",
      "1275432778880790530 :  “Innovation “ blinds us once again...should I say so called Innovation? Time to subject all to the same scrutiny.notthenewnormal \n",
      "1275430527089217536 :  ... false accounting and manipulative business practices, according to multiple media outlets. Braun turned himself in to authorties on Monday evening. \n",
      "1275428495447879685 :  @null Ex-CEO arrested after 2.1B went missing Markus Braun, the Austrian tech entrepr  \n",
      "1275428005041537024 :  The most recent business news that could impact your company.  Need more info? Contact us -  AskXavier canada\n",
      "1275424140032434178 :  Fraud and scandal. How do they think they won’t get caught?! \n",
      "1275422639905861639 :  Ex-CEO arrested after 2.1B went missing  \n",
      "1275421936659714048 :  Dr. Markus Braun turned himself into police custody this week after an arrest warrent was put out for him....Read more: \n",
      "1275418038997786626 :  Former CEO of European tech firm arrested\n",
      "1275417617277296644 :  How to misplace €1.9 billion in 3 easy-steps! markusbraun magictricks \n",
      "1275415566136815616 :  Former CEO arrested after 2 billion scandal explodes  \n",
      "1275414791075422213 :  Probably the first story where a SCAM was unearthed by an auditor! \n",
      "1275413372658495489 :  Accounting error. \n",
      "1275410496561319936 :  What ya gonna do when they come for you?   \n",
      "1275409215264305155 :  When this happens with cryptocurrency they blame the currency... Why don't the same criticism apply to fiat currency when this happens? \n",
      "1275408151077150720 :  MarkusBraun, former CEO of the German company, was arrested Wired\n",
      "1275402732778602496 :  2.1 billion went missing from this company. Now its boss has been arrested. \n",
      "1275401271542009862 :  Former CEO of one of Germany's biggest companies arrested after 2 billion scandal  \n",
      "1275398533080920066 :  Former CEO of one of Germany's biggest companies arrested after 2 billion scandal \n",
      "1275395113821274113 :  I’m amazed at how German startups are exploding in every sense of the word. From Celonis to Zalando, the Germans are knocking it out off the park. This scandal by itself is proof of this crazy growth  \n",
      "1275394426995707904 :  Can't make this up. \n",
      "1275391237118459906 :  CEO of a German company embroiled in an eye-popping accounting scandal has been arrested. \n",
      "1275387485732904960 :  I’m sure that there will be more arrests! \n",
      "1275386498771288065 :  Just reinforcing my conviction that Germans can't/shouldn't do finance. Or probably new tech. To paraphrase a German friend: 'unless it's made of wood or metal, it's not German work.'   via @WSJ\n",
      "1275385765594386432 :  The police must read my tweets.  Seriously how did this take so long.  Warning signs have been discussed for over a year! via @NYTimes  \n",
      "1275383293504978945 :  wiredcard wird immer wilder.\n",
      "1275378453563441152 :  Markus Braun was great in Robocop \n",
      "1275377128725532672 :  They've got Markus Braun 🇩🇪 Let's lock up Markus Jooste 🇿🇦 \n",
      "1275370018503614465 :  @federalreserve How all frivolously fiscal liquefied drunken punch bowl reality Golden Calf Markets end:130k x 55k ASP + 1.3 Billion in phantom accounts receivables from own subsidiary = Arrest Secured.@SEC_Enforcement start documenting violations of your ex-head.@WSJ \n",
      "1275368762301190151 :  WCAGY NEW ARTICLE : Markus Braun detained in Germany after 2.1 billion went missing  Get all the latest WCAGY related news here :  \n",
      "1275364891218632706 :  I don't know who Markus Braun is, but judging by all the pictures of him by various media outlets, he seems to pray a lot.\n",
      "1275363977778921472 :  @Schuldensuehner List is incomplete without crooks like Jan Marsalek\n",
      "1275363862704001024 :  Cricky! I wonder what's going on here! \n",
      "1275362823389040641 :  There are levels to this scam thing. \n",
      "1275362357804482561 :  @Schuldensuehner Is it possible that Markus Braun doesn’t have any Italian relative to blame? Come on man!!!! \n",
      "1275360926468890625 :  Markus Braun resigned on Friday after the company disclosed that auditors couldn’t find accounts containing the money \n",
      "1275359735529816068 :  This story just keeps going - ceo Markus Braun arrested today. \n",
      "1275358357713551360 :  Markus Braun detained in Germany after 2.1 billion went missingSource: CNN\n",
      "1275357819869356033 :  @alexbhturnbull @McKinsey Well to be fair Markus Braun’s ecosystem is about to change once he enters prison.\n",
      "1275356923513143296 :  Markus Braun detained in Germany after 2.1 billion went missing\n",
      "1275356891468759042 :  Remember how Chris Kirubi did this and nothing ever happened to him? \n",
      "1275356498344976385 :  @Frances_Coppola \"Missing €1.9 billion probably 'does not exist'\" :-o \n",
      "1275356209684656128 :  Wonder what Markus Braun's defense of the €1.9 billion scam he ran will be😂\n",
      "1275355574511812608 :  Es hat sich ausge-think-tanked\n",
      "1275355189294370816 :  coppednews Former CEO of European tech firm arrested \n",
      "1275354420683796481 :  Former CEO of European tech firm arrested  \n",
      "1275354418917937152 :  Former CEO of European tech firm arrested \n",
      "1275351333218983937 :  And now it starts. \n",
      "1275347661013635072 :  Markus Braun arrested \n",
      "1275345659902734341 :  sad story for the whole market. Thats what happens if you compete but born in a wrong country. Nearly inevitable. I'm anxious to hear ton of news how this man was guilty in everything icl. Kennedy assassination.  \n",
      "1275344479784968194 :  @dwnews Looking for his lieutenant Jan Marsalek ...he still seems to be at large. In fact all ex-management board members should be jailed\n",
      "1275343883958919169 :  Markus Braun is offcially the dumbest CEO ever\n",
      "1275341376100720642 :  @Meatman_WP @OUTASA In German “another”Markus Braun has been arrested in connection with a missing €1.9bn and inflating of the balance sheet.\n",
      "1275341245808816129 :  Here we go: \n",
      "1275309947346137089 :  @Hedgeye An IOU from Markus Braun\n",
      "1275153559517085702 :  CEO Markus Braun resigned on June 19, after nearly 20 years at the helm. James Freis has been appointed interim chief executive, the German company said on Friday.\n",
      "1275136476100153345 :  @anothrssmith @BondHack He is the kingpin and right hand man of Markus Braun.  This guy would go to any length to achieve his goal. So he rightly deserves this treatment\n",
      "1275093619859435521 :  @mcamathematik You forgot Jan Marsalek and Susanne Steidl who orchestrated on beahalf of Markus Braun\n",
      "1275033989779251201 :  WireFraud CEO Markus Braun no longer has enough equity to cover his €150MM margin loan\n",
      "1274995627005526023 :  @MilesMJohnson The lads in happier times: Christian Sewing, Markus Braun and Martin Zielke. \n",
      "1274959008806428672 :  @BlackBo56138476 @PolizeiMuenchen @BMF_Bund @SusanneSteidl I have suggested the same before with regards to Markus Braun and ex COO Jan Marsalek. Massive risk of evidence getting tampered (Verdunkelungsgefahr) but also risk of flight (Fluchtgefahr) given both earned millions over years.\n",
      "1274955907504287744 :  Abra-Cadabra... Hokus-Pokus. How To Make 1.9 Billion Euros Disappear; Anyone Can Do It.  \n",
      "1274758016588369922 :  What was that....yeah! 🤔“You only find out who is swimming naked when the tide goes out.\" - Warren Buffett\n",
      "1274687875477458953 :  @PaddingtonShort Is this the Markus Braun riff ?\n",
      "1274687763179241472 :  In December 2007 Markus Braun left the board of 10tacle, a company also audited by Weigl/Burkhardt ( Roland Weigl was also Chairman of the board of \"Deutsche Payment\", mentioned by @AlasdairPal  in his article about transaction laundering. \n",
      "1274487600213090309 :  @TESLAcharts @markbspiegel Not even Markus Braun would stoop to that level of scumbaggery TSLA\n",
      "1274401055749660673 :  Fake it, till you make it, or you don't.-Markus Braun-\n",
      "1274398265153409024 :  Rupert Stadler totally pissed about Markus Braun.“Stealing my show.\" \n",
      "1274385286483640320 :  and markusbraun should be in jail.\n",
      "1274383620183134210 :  Das ist alles so unfassbar :-(\n",
      "1274265409039056898 :  Can't believe Markus Braun is still active on Twitter. \n",
      "1274238673492553729 :  RT @evanepstein: 🧐 \"The company’s longtime chief executive, Markus Braun, stepped down on Friday, succeeded by James Freis, a former compliance officer at Germany’s stock exchange who was hired only the day before to serve on the company’s management… \n",
      "1274194107024408576 :  @vetleforsland That Markus Braun in the middle up there? 😉😂\n",
      "1274189525875593218 :  Markus Braun shortly before having his Hermann Buhl moment.\n",
      "1274164062759223297 :  Link:  \n",
      "1274106782240182278 :  @AlderLaneeggs Did Markus Braun resign in time to catch a train to Switzerland?\n",
      "1274076336059899904 :  🧐 \"The company’s longtime chief executive, Markus Braun, stepped down on Friday, succeeded by James Freis, a former compliance officer at Germany’s stock exchange who was hired only the day before to serve on the company’s management board.\" corpgov \n",
      "1274049624991510529 :  WCAGY CEO Markus Braun resigns amid a 2 billion scandal. \n",
      "1274033397711724545 :  Markus Braun, you dropped this 👑 \n",
      "1274016560693366784 :  Anyone check under the hood of that 5-head? You could easily fit 1 billion in cash under that dome!⁦@TimDillane⁩ ⁦@mike_ferrara11⁩ ⁦@stevenins⁩ \n"
     ]
    }
   ],
   "source": [
    "for each in range(len(df_manager.sample(n=250, random_state=1))):\n",
    "    print(df_manager.iloc[each][\"tweet_id\"], \": \", df_manager.iloc[each][\"text\"])"
   ]
  },
  {
   "cell_type": "code",
   "execution_count": null,
   "id": "b1cda5ae-27e2-45d8-aaf9-12fa40ac0ebb",
   "metadata": {},
   "outputs": [],
   "source": []
  },
  {
   "cell_type": "code",
   "execution_count": null,
   "id": "8fcc5e3d-a029-400e-bf3f-e9ea6263b7fa",
   "metadata": {},
   "outputs": [],
   "source": []
  },
  {
   "cell_type": "code",
   "execution_count": null,
   "id": "6fda9151-dc39-4d86-a0cb-80fc4efb68eb",
   "metadata": {},
   "outputs": [],
   "source": []
  },
  {
   "cell_type": "code",
   "execution_count": null,
   "id": "5ae2d389-5aa2-4dae-b86a-8c45f907c895",
   "metadata": {},
   "outputs": [],
   "source": []
  },
  {
   "cell_type": "code",
   "execution_count": null,
   "id": "8e7b35c6-23ce-448f-b422-fb5aa944dddb",
   "metadata": {},
   "outputs": [],
   "source": []
  },
  {
   "cell_type": "code",
   "execution_count": 7,
   "id": "d627b796-c527-487d-ac75-ee8a063d7afa",
   "metadata": {},
   "outputs": [],
   "source": [
    "not_used_words_list = [\"meiko\", \"calisthenics\", \"pulled\", \"boxing\", \"fom\", \"dlr\", \"eurocity\", \"m.o.s.s\", \"markus_braun_\"]\n",
    "tweet_id_without_context_list = []\n",
    "for each in range(len(df_manager)):\n",
    "    for word in not_used_words_list:\n",
    "        if word in df_manager.iloc[each][\"text\"].lower():\n",
    "            if df_manager.iloc[each][\"tweet_id\"] not in tweet_id_without_context_list:\n",
    "                tweet_id_without_context_list.append(df_manager.iloc[each][\"tweet_id\"])"
   ]
  },
  {
   "cell_type": "markdown",
   "id": "1c0baab9-792f-45bc-8a26-d4e16390d3fc",
   "metadata": {},
   "source": [
    "<p>Iteration durch die Liste mit zu löschenden Tweets, bis der Wert zu Beginn und zum Ende gleich ist und es keine\n",
    "weiteren Tweets mehr gibt, die gefiltert werden müssen. </p>"
   ]
  },
  {
   "cell_type": "code",
   "execution_count": 8,
   "id": "6957ed56-d9ae-4101-955d-ace28cc44e86",
   "metadata": {
    "tags": []
   },
   "outputs": [],
   "source": [
    "def check_for_further_tweets():\n",
    "    start_len = len(tweet_id_without_context_list)\n",
    "    for each in range(len(tweet_id_without_context_list)):\n",
    "        df_tweets = df_manager.loc[(df_manager[\"conversation_id\"] == tweet_id_without_context_list[each]) | \n",
    "               (df_manager[\"referenced_tweet_id\"] == str(tweet_id_without_context_list[each]))]\n",
    "\n",
    "        for each in range(len(df_tweets)):\n",
    "            if df_tweets.iloc[each][\"tweet_id\"] not in tweet_id_without_context_list:\n",
    "                tweet_id_without_context_list.append(df_tweets.iloc[each][\"tweet_id\"])\n",
    "                \n",
    "    if start_len != len(tweet_id_without_context_list):\n",
    "        check_for_further_tweets()\n",
    "check_for_further_tweets()"
   ]
  },
  {
   "cell_type": "markdown",
   "id": "0ae65229-6b28-4f9d-a689-65bf0edf3034",
   "metadata": {},
   "source": [
    "<p>Löschen der nicht kontextbezogenen Tweets und den Index neu setzen um später keine Probleme mit dem Index zu bekommen.</p>"
   ]
  },
  {
   "cell_type": "code",
   "execution_count": 9,
   "id": "68cc18ef-d61b-4ba2-a685-79b27d3a79e8",
   "metadata": {},
   "outputs": [],
   "source": [
    "for each in tweet_id_without_context_list:\n",
    "    df_manager = df_manager.drop(df_manager.loc[df_manager[\"tweet_id\"] == each].index[0])\n",
    "df_manager = df_manager.reset_index(drop=True)"
   ]
  },
  {
   "cell_type": "markdown",
   "id": "60b7502b-81d9-4bd5-8cad-41ae5e49850b",
   "metadata": {},
   "source": [
    "<p>Löschen und Ermittlung von Tweet_IDs, die keinen Kontext zum Thema haben.</p>"
   ]
  },
  {
   "cell_type": "code",
   "execution_count": 337,
   "id": "402476d4-2d97-4fe2-b562-94f62ffbd95f",
   "metadata": {},
   "outputs": [
    {
     "ename": "IndexError",
     "evalue": "index 0 is out of bounds for axis 0 with size 0",
     "output_type": "error",
     "traceback": [
      "\u001b[0;31m---------------------------------------------------------------------------\u001b[0m",
      "\u001b[0;31mIndexError\u001b[0m                                Traceback (most recent call last)",
      "Input \u001b[0;32mIn [337]\u001b[0m, in \u001b[0;36m<cell line: 8>\u001b[0;34m()\u001b[0m\n\u001b[1;32m      7\u001b[0m \u001b[38;5;66;03m#Check and get tweet_ids for tweets with the same text as in the list_tweet_id.\u001b[39;00m\n\u001b[1;32m      8\u001b[0m \u001b[38;5;28;01mfor\u001b[39;00m tweet_id \u001b[38;5;129;01min\u001b[39;00m list_tweet_id:\n\u001b[0;32m----> 9\u001b[0m     \u001b[38;5;28;01mfor\u001b[39;00m each \u001b[38;5;129;01min\u001b[39;00m df_manager\u001b[38;5;241m.\u001b[39mloc[df_manager[\u001b[38;5;124m\"\u001b[39m\u001b[38;5;124mtext\u001b[39m\u001b[38;5;124m\"\u001b[39m] \u001b[38;5;241m==\u001b[39m \u001b[43mdf_manager\u001b[49m\u001b[38;5;241;43m.\u001b[39;49m\u001b[43mloc\u001b[49m\u001b[43m[\u001b[49m\u001b[43mdf_manager\u001b[49m\u001b[43m[\u001b[49m\u001b[38;5;124;43m\"\u001b[39;49m\u001b[38;5;124;43mtweet_id\u001b[39;49m\u001b[38;5;124;43m\"\u001b[39;49m\u001b[43m]\u001b[49m\u001b[43m \u001b[49m\u001b[38;5;241;43m==\u001b[39;49m\u001b[43m \u001b[49m\u001b[43mtweet_id\u001b[49m\u001b[43m]\u001b[49m\u001b[43m[\u001b[49m\u001b[38;5;124;43m\"\u001b[39;49m\u001b[38;5;124;43mtext\u001b[39;49m\u001b[38;5;124;43m\"\u001b[39;49m\u001b[43m]\u001b[49m\u001b[38;5;241;43m.\u001b[39;49m\u001b[43mvalues\u001b[49m\u001b[43m[\u001b[49m\u001b[38;5;241;43m0\u001b[39;49m\u001b[43m]\u001b[49m][\u001b[38;5;124m\"\u001b[39m\u001b[38;5;124mtweet_id\u001b[39m\u001b[38;5;124m\"\u001b[39m]\u001b[38;5;241m.\u001b[39mvalues:\n\u001b[1;32m     10\u001b[0m         \u001b[38;5;28;01mif\u001b[39;00m each \u001b[38;5;129;01mnot\u001b[39;00m \u001b[38;5;129;01min\u001b[39;00m list_tweet_id:\n\u001b[1;32m     11\u001b[0m             list_tweet_id\u001b[38;5;241m.\u001b[39mappend(each)\n",
      "\u001b[0;31mIndexError\u001b[0m: index 0 is out of bounds for axis 0 with size 0"
     ]
    }
   ],
   "source": [
    "#Text Check up\n",
    "list_tweet_id = [719940834028863489, 771966867707682816, 919891703116566529, 730315192559673344, 1085012780053336064, 748146758232879104,\n",
    "                 1275383293504978945, 1121414883512393728, 1288961015351316480, 1284465825915838464, 955660777960230917, 962669158923153409,\n",
    "                 1016245557021507584, 1074388350734340097, 1115926018051792898, 1132148944031457280, 1130223973701246976, 1174984360669278209,\n",
    "                 1220356450809188353, 1255176912202108929]\n",
    "\n",
    "#Check and get tweet_ids for tweets with the same text as in the list_tweet_id.\n",
    "for tweet_id in list_tweet_id:\n",
    "    for each in df_manager.loc[df_manager[\"text\"] == df_manager.loc[df_manager[\"tweet_id\"] == tweet_id][\"text\"].values[0]][\"tweet_id\"].values:\n",
    "        if each not in list_tweet_id:\n",
    "            list_tweet_id.append(each)\n",
    "\n",
    "print(len(list_new_tweet_id))\n",
    "\n",
    "list_tweet_id_remove = []\n",
    "for tweet in list_tweet_id:\n",
    "    for each in df_manager.loc[(\n",
    "        df_manager[\"tweet_id\"] == tweet) | (\n",
    "        df_manager[\"conversation_id\"] == df_manager.loc[df_manager[\"tweet_id\"] == tweet][\"conversation_id\"].values[0]) | (\n",
    "        df_manager[\"referenced_tweet_id\"] == tweet) | (\n",
    "        (df_manager[\"referenced_tweet_id\"] == df_manager.loc[df_manager[\"tweet_id\"] == tweet][\"referenced_tweet_id\"].values[0]) & (df_manager[\"referenced_tweet_id\"] != \"None\")) | (\n",
    "        df_manager[\"referenced_tweet_id\"] == df_manager.loc[df_manager[\"tweet_id\"] == tweet][\"conversation_id\"].values[0])][\"tweet_id\"].values:\n",
    "        #print(each, \"\\n\")\n",
    "        if each not in list_tweet_id_remove:\n",
    "            list_tweet_id_remove.append(each)"
   ]
  },
  {
   "cell_type": "markdown",
   "id": "01b47f1b-0305-42f7-8bfc-3b43ae47bce3",
   "metadata": {},
   "source": [
    "<p>Löschen der zuvor ermitteletn Tweets.</p>"
   ]
  },
  {
   "cell_type": "code",
   "execution_count": 336,
   "id": "71b72b38-e7df-4074-abd1-2b2090641012",
   "metadata": {},
   "outputs": [],
   "source": [
    "for each in list_tweet_id_remove:\n",
    "    df_manager = df_manager.drop(df_manager.loc[df_manager[\"tweet_id\"] == each].index[0])\n",
    "df_manager = df_manager.reset_index(drop=True)"
   ]
  },
  {
   "cell_type": "markdown",
   "id": "d33fa8c2-c3a8-4377-bec3-336dfb42db39",
   "metadata": {
    "tags": []
   },
   "source": [
    "<br>\n",
    "<h3>Löschen von Retweets</h3>\n",
    "<p>Alle Retweets löschen, da diese in diesem Schritt nicht benötigt werden.</p>"
   ]
  },
  {
   "cell_type": "code",
   "execution_count": 18,
   "id": "80f62e59-e2bb-485a-a2c1-6a4df6a68f66",
   "metadata": {},
   "outputs": [
    {
     "name": "stdout",
     "output_type": "stream",
     "text": [
      "9473\n"
     ]
    }
   ],
   "source": [
    "counter = 0\n",
    "retweet_list = []\n",
    "for each in range(len(df_manager)):\n",
    "    if \"retweeted\" in df_manager.iloc[each][\"tweet_type\"]:\n",
    "        retweet_list.append(each)\n",
    "        counter += 1\n",
    "print(counter)"
   ]
  },
  {
   "cell_type": "code",
   "execution_count": 19,
   "id": "d5b331e1-be63-4506-a5c0-ef67f8f3dffb",
   "metadata": {},
   "outputs": [],
   "source": [
    "df_manager = df_manager.drop(retweet_list)\n",
    "df_manager = df_manager.reset_index(drop=True)"
   ]
  },
  {
   "cell_type": "markdown",
   "id": "c96102ab-51d8-4d27-93d7-58f58db774f7",
   "metadata": {},
   "source": [
    "<h3>Löschen von doppelten Tweets</h3>\n",
    "<p>Alle Tweets, die dopplet im Datensatz enthalten sind, anhand der tweet_id werden gelöscht. Somit werden auch die zuvor aufgespalteten Listen wieder gelöscht</p>"
   ]
  },
  {
   "cell_type": "code",
   "execution_count": 14,
   "id": "103a126a-a979-422b-8428-37cb8f75fc4a",
   "metadata": {},
   "outputs": [],
   "source": [
    "df_manager = df_manager.drop_duplicates(subset=[\"tweet_id\"])\n",
    "df_manager = df_manager.reset_index(drop=True)"
   ]
  },
  {
   "cell_type": "code",
   "execution_count": 15,
   "id": "94093847-b640-4ae9-922a-605acbc56955",
   "metadata": {},
   "outputs": [
    {
     "data": {
      "text/plain": [
       "8707"
      ]
     },
     "execution_count": 15,
     "metadata": {},
     "output_type": "execute_result"
    }
   ],
   "source": [
    "len(df_manager)"
   ]
  },
  {
   "cell_type": "markdown",
   "id": "5cfab36a-8fad-43cc-a7e5-b8f3239a6ec2",
   "metadata": {
    "jp-MarkdownHeadingCollapsed": true,
    "tags": []
   },
   "source": [
    "<h1>Check User</h1>\n",
    "<p>Überprüfe die User Daten nach Namen, die nichts mit dem Thema Wirecard zu tun haben. Auch Nutzer, die ggf. nur durch Zufall in die Abfrage gekommen sind, z.B. durch den gleichen Namen wie einer der Manager, sollen aus dem Datensatz entnommen werden.<br>Auffällige Namen sind <b>Markus Braun</b> und <b>Jan Marsalek</b>, da es sich um den CEO und den verantwortlichen Manager handelt.</p>"
   ]
  },
  {
   "cell_type": "markdown",
   "id": "7c0ebd00-b580-4410-be8a-297601507e61",
   "metadata": {},
   "source": [
    "<p>Laden der Daten</p>"
   ]
  },
  {
   "cell_type": "code",
   "execution_count": 16,
   "id": "70cf7104-4b24-42f9-aef6-36f60d9bbc6e",
   "metadata": {},
   "outputs": [],
   "source": [
    "df_user = pd.read_csv(\"/Users/tobias/Dev/FOM/Master_Thesis/data/Manager_DE/user.csv\", sep=\";\")"
   ]
  },
  {
   "cell_type": "markdown",
   "id": "b4bea9f6-4aab-4448-a5ce-e4e02cd9ee80",
   "metadata": {
    "tags": []
   },
   "source": [
    "<h3>Nutzer die keinen Mehrwert bieten werden gelöscht.</h3>"
   ]
  },
  {
   "cell_type": "code",
   "execution_count": 17,
   "id": "42d4f7e4-8dc4-4795-b1a0-444bc20a392c",
   "metadata": {},
   "outputs": [],
   "source": [
    "list_not_needed_author_ids = [3365669884, 536335486]\n",
    "for each in list_not_needed_author_ids:\n",
    "    df_manager = df_manager.drop(df_manager.loc[df_manager[\"author_id\"] == each].index)\n",
    "df_manager = df_manager.reset_index(drop=True)"
   ]
  },
  {
   "cell_type": "markdown",
   "id": "3484e2a5-3ca6-458d-b3df-494a7aaaf9fd",
   "metadata": {
    "jp-MarkdownHeadingCollapsed": true,
    "tags": []
   },
   "source": [
    "<h2>Überprüfung und Check der Twitter Nutzer im Datensatz</h2>\n",
    "<p>Dies ist für den Fall relevant, dass die Nutzer überprüft werden müssen. <br>Im aktuellen Zustand des Datensatzes nicht mehr notwendig.</p>"
   ]
  },
  {
   "cell_type": "markdown",
   "id": "ab98a7bc-e897-4ac3-8524-d7c736ee9b60",
   "metadata": {},
   "source": [
    "<p>Prüfen nach allen Nutzern mit dem Namen Markus</p>"
   ]
  },
  {
   "cell_type": "code",
   "execution_count": null,
   "id": "50488384-aca4-403f-8a34-a55d5dc1edf6",
   "metadata": {
    "tags": []
   },
   "outputs": [],
   "source": [
    "df_user.loc[df_user.name.str.lower().str.contains(\"markus\")].drop_duplicates()"
   ]
  },
  {
   "cell_type": "markdown",
   "id": "22cbd084-19fb-403f-8d13-aaa266f5aaad",
   "metadata": {},
   "source": [
    "<p>Prüfen auf auffäliige Einträge bezüglich Jan Marksalek</p>"
   ]
  },
  {
   "cell_type": "code",
   "execution_count": null,
   "id": "b3a6ed74-bbb9-4ebf-811a-02f3bdf7525b",
   "metadata": {
    "tags": []
   },
   "outputs": [],
   "source": [
    "df_user.loc[df_user.name.str.lower().str.contains(\"jan\")].drop_duplicates()"
   ]
  },
  {
   "cell_type": "markdown",
   "id": "b2622b24-cb9a-46cf-9372-48dc5a9e02c1",
   "metadata": {},
   "source": [
    "<p>Auffällige User_IDs:</p>\n",
    "<ul>Markus Braun\n",
    "    <li>3365669884 - MarkusB1980</li>\n",
    "    <li>827452635057881088 - _MarkusBraun( - CWO von Wirecard)</li>\n",
    "    <li>536335486 - Advobraun</li>\n",
    "    <li>780754694419296256 - markuscbraun1</li>\n",
    "</ul>\n",
    "<ul>Jan (Marsalek)\n",
    "    <li>19072286 - janboehm</li>\n",
    "</ul>"
   ]
  },
  {
   "cell_type": "markdown",
   "id": "db76b6ff-dddc-4657-8c9b-8de15d0b01d9",
   "metadata": {},
   "source": [
    "<p>Anzeigen der Tweets der \"auffälligen\" Nutzer</p>"
   ]
  },
  {
   "cell_type": "code",
   "execution_count": null,
   "id": "3179aff9-fce4-420d-862d-2a611e7fc075",
   "metadata": {},
   "outputs": [],
   "source": [
    "#3365669884 - MarkusB1980\n",
    "pd.set_option('display.max_colwidth', None)\n",
    "df_manager.loc[df_manager[\"author_id\"] == 3365669884][\"text\"]"
   ]
  },
  {
   "cell_type": "code",
   "execution_count": null,
   "id": "9b6c2cfe-773b-4744-a4ad-304145beefef",
   "metadata": {},
   "outputs": [],
   "source": [
    "#827452635057881088 - _MarkusBraun( - CWO von Wirecard)\n",
    "pd.set_option('display.max_colwidth', None)\n",
    "df_manager.loc[df_manager[\"author_id\"] == 827452635057881088][\"text\"]"
   ]
  },
  {
   "cell_type": "code",
   "execution_count": null,
   "id": "c8f0e478-d611-4294-8c76-658a2e1a70ae",
   "metadata": {},
   "outputs": [],
   "source": [
    "#536335486 - Advobraun\n",
    "pd.set_option('display.max_colwidth', None)\n",
    "df_manager.loc[df_manager[\"author_id\"] == 536335486][\"text\"]"
   ]
  },
  {
   "cell_type": "code",
   "execution_count": null,
   "id": "9d8643b6-0071-4526-a20c-9146f6373b83",
   "metadata": {},
   "outputs": [],
   "source": [
    "#780754694419296256 - markuscbraun1\n",
    "pd.set_option('display.max_colwidth', None)\n",
    "df_manager.loc[df_manager[\"author_id\"] == 780754694419296256][\"text\"]"
   ]
  },
  {
   "cell_type": "code",
   "execution_count": null,
   "id": "0e295123-29c4-4ab9-8560-ab671f514170",
   "metadata": {},
   "outputs": [],
   "source": [
    "#19072286 - janboehm\n",
    "pd.set_option('display.max_colwidth', None)\n",
    "df_manager.loc[df_manager[\"author_id\"] == 19072286][\"text\"]"
   ]
  },
  {
   "cell_type": "markdown",
   "id": "c1b57988-bf04-4f62-967a-052a2a9c4299",
   "metadata": {},
   "source": [
    "<p>Nur bei zwei der Nutzer ist nach der Vorverarbeitung noch ein Tweet in der Liste. Diese beiden Nutzer tragen nichts zum Thema Wirecard bei und twittern nicht diesbezüglich. <br>Ich habe Jan bei der Suche nach Jan lediglich den Namen Jan Böhmermann geprüft, da es sich hierbei um eine bekannte Persönlichkeit handelt, die zu diesem aber auch zu vielen anderen Themen twittert und ich dies deswegen überprüfen wollte.<br><br>Prüfen auf die Nutzer, die besonders oft im Datensatz der Manager vorkommen.<br>Nutzer, deren Inhalt keinen Mehrwert bieten: </p>\n",
    "<lu>\n",
    "    <li>3365669884 - MarkusB1980</li>\n",
    "    <li>536335486 - Advobraun</li>\n",
    "</lu>\n",
    "<p>Dabei handelt es sich um die einzigen Nutzer, zu denen noch Tweets nach der Vorverarbeitung übrig sind</p>"
   ]
  },
  {
   "cell_type": "markdown",
   "id": "9f3441b2-86f6-418a-9925-d30f5214ce78",
   "metadata": {},
   "source": [
    "<p>Das Dataframe mit der Anzahl der jeweiligen Autoren wird um die Informationen aus dem Datensatz der User ergänzt.<br>Dabei soll gerpüft werden, ob auffällige Nutzer mit eigenartigen Namen auftauchen, die es zu prüfen gilt. Dabei wird vor allem auf Nutzer geachtet, die einen klaren Bezug zu anderen Theman haben oder die ggf. auffälligkeiten zu dem Thema haben könnten.</p>"
   ]
  },
  {
   "cell_type": "code",
   "execution_count": null,
   "id": "b8055dd7-4c01-436a-badc-d9a9b51802b1",
   "metadata": {
    "tags": []
   },
   "outputs": [],
   "source": [
    "df_manager[\"author_id\"].value_counts().to_frame().reset_index().join(\n",
    "    df_user.set_index(\"user_id\"), on=\"index\").drop_duplicates(subset=[\"index\"]).rename(columns={\"index\": \"author_id\", \"author_id\": \"count\"}).head(11)"
   ]
  },
  {
   "cell_type": "markdown",
   "id": "90209e91-fc2d-44b4-b627-76ac78989ec6",
   "metadata": {},
   "source": [
    "<p>Stichprobenartige Prüfen der einzelnen Top Nutzer mit mehr als 50 Tweets auf deren Inhalte.</p>"
   ]
  },
  {
   "cell_type": "code",
   "execution_count": null,
   "id": "39060532-5846-4139-8db2-5176b9d9f245",
   "metadata": {
    "tags": []
   },
   "outputs": [],
   "source": [
    "pd.set_option('display.max_colwidth', None)\n",
    "for each in df_manager.loc[df_manager[\"author_id\"] == 1118219555967520769].index:\n",
    "    print(df_manager.iloc[each][\"text\"], \"\\n\")"
   ]
  },
  {
   "cell_type": "code",
   "execution_count": null,
   "id": "171f70bb-e5bb-4fd3-a497-a968a51c8958",
   "metadata": {
    "tags": []
   },
   "outputs": [],
   "source": [
    "for each in df_manager.loc[df_manager[\"author_id\"] == 1159698800790953984].index:\n",
    "    print(df_manager.iloc[each][\"text\"], \"\\n\")"
   ]
  },
  {
   "cell_type": "code",
   "execution_count": null,
   "id": "cdc17d0e-59b6-4a2f-a220-56100ecbfb2e",
   "metadata": {
    "tags": []
   },
   "outputs": [],
   "source": [
    "for each in df_manager.loc[df_manager[\"author_id\"] == 3029833842].index:\n",
    "    print(df_manager.iloc[each][\"text\"], \"\\n\")"
   ]
  },
  {
   "cell_type": "code",
   "execution_count": null,
   "id": "bf59b872-674c-4945-8460-16f0cfa92073",
   "metadata": {
    "tags": []
   },
   "outputs": [],
   "source": [
    "for each in df_manager.loc[df_manager[\"author_id\"] == 2195833356].index:\n",
    "    print(df_manager.iloc[each][\"text\"], \"\\n\")"
   ]
  },
  {
   "cell_type": "code",
   "execution_count": null,
   "id": "e82e5bc1-152d-407e-a91d-0e15ee461f3d",
   "metadata": {
    "tags": []
   },
   "outputs": [],
   "source": [
    "for each in df_manager.loc[df_manager[\"author_id\"] == 704753138146877440].index:\n",
    "    print(df_manager.iloc[each][\"text\"], \"\\n\")"
   ]
  },
  {
   "cell_type": "markdown",
   "id": "ff0a4d59-63b2-4121-97fb-d5276c65aa4a",
   "metadata": {
    "tags": []
   },
   "source": [
    "<h1>Hinzufügen weiterer Twitter Datensätze</h1>"
   ]
  },
  {
   "cell_type": "markdown",
   "id": "7d5aba98-5700-4215-8a5c-9b0a410e626a",
   "metadata": {
    "jp-MarkdownHeadingCollapsed": true,
    "tags": []
   },
   "source": [
    "<h2>Datensatz mit Abfrage nach Wirecard</h2>"
   ]
  },
  {
   "cell_type": "code",
   "execution_count": 18,
   "id": "3c7fa0ad-611d-4adc-b000-c96812f6b141",
   "metadata": {},
   "outputs": [],
   "source": [
    "df_wirecard_de = pd.read_csv(\"/Users/tobias/Dev/FOM/Master_Thesis/data/Wirecard_DE/data.csv\", sep=\";\", \n",
    "                            converters={\"tweet_type\": lambda x: x.strip(\"[]\").replace(\"'\", \"\").split(\", \"),\n",
    "                                        \"referenced_tweet_id\": lambda x: x.strip(\"[]\").replace(\"'\", \"\").split(\", \")},\n",
    "                           parse_dates=[\"created_at\"])\n",
    "df_wirecard_de = df_wirecard_de.explode([\"referenced_tweet_id\", \"tweet_type\"], ignore_index=True)\n"
   ]
  },
  {
   "cell_type": "code",
   "execution_count": 19,
   "id": "100d86bb-8f22-4dab-ac37-00156a6cc97c",
   "metadata": {},
   "outputs": [],
   "source": [
    "for each in range(len(df_wirecard_de)):\n",
    "    df_wirecard_de.loc[df_wirecard_de[\"text\"] == \n",
    "                      df_wirecard_de.loc[each][\"text\"], \"text\"] = re.sub(r'http\\S+', '', \n",
    "                                                                        (re.sub('@[^\\s]+', '',\n",
    "                                                                                re.sub('[#|$]', '', \n",
    "                                                                                       df_wirecard_de.loc[each][\"text\"]))))"
   ]
  },
  {
   "cell_type": "code",
   "execution_count": null,
   "id": "bd9e7be2-ae85-4c6d-bee0-ec3798f07e2e",
   "metadata": {
    "tags": []
   },
   "outputs": [],
   "source": [
    "df_wirecard_de.head()"
   ]
  },
  {
   "cell_type": "markdown",
   "id": "c8a12eb0-3bb1-4ce3-98ef-db42d57e83ff",
   "metadata": {},
   "source": [
    "<h3>Löschen von Retweets</h3>"
   ]
  },
  {
   "cell_type": "code",
   "execution_count": 20,
   "id": "e4fc93b0-f0b1-4d58-8278-2a746f4243bf",
   "metadata": {},
   "outputs": [
    {
     "name": "stdout",
     "output_type": "stream",
     "text": [
      "54403\n"
     ]
    }
   ],
   "source": [
    "counter = 0\n",
    "retweet_list = []\n",
    "for each in range(len(df_wirecard_de)):\n",
    "    if \"retweeted\" in df_wirecard_de.iloc[each][\"tweet_type\"]:\n",
    "        retweet_list.append(each)\n",
    "        counter += 1\n",
    "print(counter)\n",
    "df_wirecard_de = df_wirecard_de.drop(retweet_list)\n",
    "df_wirecard_de = df_wirecard_de.reset_index(drop=True)"
   ]
  },
  {
   "cell_type": "code",
   "execution_count": 21,
   "id": "150c5d23-f7b9-40bf-a6ee-9eee5407c96d",
   "metadata": {},
   "outputs": [
    {
     "data": {
      "text/plain": [
       "111531"
      ]
     },
     "execution_count": 21,
     "metadata": {},
     "output_type": "execute_result"
    }
   ],
   "source": [
    "len(df_wirecard_de)"
   ]
  },
  {
   "cell_type": "markdown",
   "id": "bd3a4a25-8180-4316-8f90-19876252faed",
   "metadata": {},
   "source": [
    "<h3>Löschen von doppelten Einträgen</h3>"
   ]
  },
  {
   "cell_type": "code",
   "execution_count": 22,
   "id": "0c828f16-d644-4bbb-874a-c7d36f934fa5",
   "metadata": {},
   "outputs": [],
   "source": [
    "df_wirecard_de = df_wirecard_de.drop_duplicates(subset=[\"tweet_id\"])\n",
    "df_wirecard_de = df_wirecard_de.reset_index(drop=True)"
   ]
  },
  {
   "cell_type": "code",
   "execution_count": 23,
   "id": "694ed578-e7da-4c77-9171-550c55d6c33c",
   "metadata": {},
   "outputs": [
    {
     "data": {
      "text/plain": [
       "111254"
      ]
     },
     "execution_count": 23,
     "metadata": {},
     "output_type": "execute_result"
    }
   ],
   "source": [
    "len(df_wirecard_de)"
   ]
  },
  {
   "cell_type": "code",
   "execution_count": 24,
   "id": "10f713d3-cf3f-4ed8-b607-bff2744d8ec6",
   "metadata": {
    "tags": []
   },
   "outputs": [
    {
     "data": {
      "text/html": [
       "<div>\n",
       "<style scoped>\n",
       "    .dataframe tbody tr th:only-of-type {\n",
       "        vertical-align: middle;\n",
       "    }\n",
       "\n",
       "    .dataframe tbody tr th {\n",
       "        vertical-align: top;\n",
       "    }\n",
       "\n",
       "    .dataframe thead th {\n",
       "        text-align: right;\n",
       "    }\n",
       "</style>\n",
       "<table border=\"1\" class=\"dataframe\">\n",
       "  <thead>\n",
       "    <tr style=\"text-align: right;\">\n",
       "      <th></th>\n",
       "      <th>conversation_id</th>\n",
       "      <th>author_id</th>\n",
       "      <th>created_at</th>\n",
       "      <th>tweet_id</th>\n",
       "      <th>lang</th>\n",
       "      <th>retweet_count</th>\n",
       "      <th>reply_count</th>\n",
       "      <th>like_count</th>\n",
       "      <th>quote_count</th>\n",
       "      <th>source</th>\n",
       "      <th>tweet_type</th>\n",
       "      <th>referenced_tweet_id</th>\n",
       "      <th>text</th>\n",
       "    </tr>\n",
       "  </thead>\n",
       "  <tbody>\n",
       "    <tr>\n",
       "      <th>0</th>\n",
       "      <td>704018583765000194</td>\n",
       "      <td>3000333467</td>\n",
       "      <td>2016-02-28 19:01:25+00:00</td>\n",
       "      <td>704018583765000194</td>\n",
       "      <td>de</td>\n",
       "      <td>0</td>\n",
       "      <td>0</td>\n",
       "      <td>0</td>\n",
       "      <td>0</td>\n",
       "      <td>Twitter for iPhone</td>\n",
       "      <td>None</td>\n",
       "      <td>None</td>\n",
       "      <td>3 lukrative Aktien im Quick-Check.True Gold/Wi...</td>\n",
       "    </tr>\n",
       "    <tr>\n",
       "      <th>1</th>\n",
       "      <td>704016062682103808</td>\n",
       "      <td>3383023023</td>\n",
       "      <td>2016-02-28 18:51:23+00:00</td>\n",
       "      <td>704016062682103808</td>\n",
       "      <td>de</td>\n",
       "      <td>0</td>\n",
       "      <td>0</td>\n",
       "      <td>2</td>\n",
       "      <td>0</td>\n",
       "      <td>Twitter Web Client</td>\n",
       "      <td>None</td>\n",
       "      <td>None</td>\n",
       "      <td>Die Woche mit Fintech und Banken im Überblick ...</td>\n",
       "    </tr>\n",
       "    <tr>\n",
       "      <th>2</th>\n",
       "      <td>703952749650714624</td>\n",
       "      <td>20973609</td>\n",
       "      <td>2016-02-28 14:39:48+00:00</td>\n",
       "      <td>703952749650714624</td>\n",
       "      <td>de</td>\n",
       "      <td>0</td>\n",
       "      <td>0</td>\n",
       "      <td>0</td>\n",
       "      <td>0</td>\n",
       "      <td>Twitter for iPhone</td>\n",
       "      <td>None</td>\n",
       "      <td>None</td>\n",
       "      <td>Wirecard / Deutsche Telekom / DAX / Euro / Gol...</td>\n",
       "    </tr>\n",
       "    <tr>\n",
       "      <th>3</th>\n",
       "      <td>703097227355430912</td>\n",
       "      <td>3296434535</td>\n",
       "      <td>2016-02-28 10:37:51+00:00</td>\n",
       "      <td>703891857542127616</td>\n",
       "      <td>de</td>\n",
       "      <td>0</td>\n",
       "      <td>0</td>\n",
       "      <td>0</td>\n",
       "      <td>0</td>\n",
       "      <td>Twitter Web Client</td>\n",
       "      <td>replied_to</td>\n",
       "      <td>703101750123720704</td>\n",
       "      <td>weil wir letztens darüber geschrieben haben...</td>\n",
       "    </tr>\n",
       "    <tr>\n",
       "      <th>4</th>\n",
       "      <td>703887151348457472</td>\n",
       "      <td>163466981</td>\n",
       "      <td>2016-02-28 10:19:09+00:00</td>\n",
       "      <td>703887151348457472</td>\n",
       "      <td>de</td>\n",
       "      <td>0</td>\n",
       "      <td>0</td>\n",
       "      <td>0</td>\n",
       "      <td>0</td>\n",
       "      <td>Aktien</td>\n",
       "      <td>None</td>\n",
       "      <td>None</td>\n",
       "      <td>Aktien, Banken, Makrodaten, S&amp;amp;P 500 - Bärm...</td>\n",
       "    </tr>\n",
       "  </tbody>\n",
       "</table>\n",
       "</div>"
      ],
      "text/plain": [
       "      conversation_id   author_id                created_at  \\\n",
       "0  704018583765000194  3000333467 2016-02-28 19:01:25+00:00   \n",
       "1  704016062682103808  3383023023 2016-02-28 18:51:23+00:00   \n",
       "2  703952749650714624    20973609 2016-02-28 14:39:48+00:00   \n",
       "3  703097227355430912  3296434535 2016-02-28 10:37:51+00:00   \n",
       "4  703887151348457472   163466981 2016-02-28 10:19:09+00:00   \n",
       "\n",
       "             tweet_id lang  retweet_count  reply_count  like_count  \\\n",
       "0  704018583765000194   de              0            0           0   \n",
       "1  704016062682103808   de              0            0           2   \n",
       "2  703952749650714624   de              0            0           0   \n",
       "3  703891857542127616   de              0            0           0   \n",
       "4  703887151348457472   de              0            0           0   \n",
       "\n",
       "   quote_count              source  tweet_type referenced_tweet_id  \\\n",
       "0            0  Twitter for iPhone        None                None   \n",
       "1            0  Twitter Web Client        None                None   \n",
       "2            0  Twitter for iPhone        None                None   \n",
       "3            0  Twitter Web Client  replied_to  703101750123720704   \n",
       "4            0              Aktien        None                None   \n",
       "\n",
       "                                                text  \n",
       "0  3 lukrative Aktien im Quick-Check.True Gold/Wi...  \n",
       "1  Die Woche mit Fintech und Banken im Überblick ...  \n",
       "2  Wirecard / Deutsche Telekom / DAX / Euro / Gol...  \n",
       "3     weil wir letztens darüber geschrieben haben...  \n",
       "4  Aktien, Banken, Makrodaten, S&amp;P 500 - Bärm...  "
      ]
     },
     "execution_count": 24,
     "metadata": {},
     "output_type": "execute_result"
    }
   ],
   "source": [
    "df_wirecard_de.head()"
   ]
  },
  {
   "cell_type": "markdown",
   "id": "9ee7d13a-0b03-4c9f-b0d6-8f4299e3ef04",
   "metadata": {
    "jp-MarkdownHeadingCollapsed": true,
    "tags": []
   },
   "source": [
    "<h2>Abfrage nach Chashtag Wirecard</h2>"
   ]
  },
  {
   "cell_type": "code",
   "execution_count": 25,
   "id": "20ce3d55-9fba-4ecf-bc99-0a56c5a877b1",
   "metadata": {},
   "outputs": [],
   "source": [
    "df_wrcdf_de = pd.read_csv(\"/Users/tobias/Dev/FOM/Master_Thesis/data/WRCDF_DE/data.csv\", sep=\";\", \n",
    "                            converters={\"tweet_type\": lambda x: x.strip(\"[]\").replace(\"'\", \"\").split(\", \"),\n",
    "                                        \"referenced_tweet_id\": lambda x: x.strip(\"[]\").replace(\"'\", \"\").split(\", \")},\n",
    "                           parse_dates=[\"created_at\"])\n",
    "df_wrcdf_de = df_wrcdf_de.explode([\"referenced_tweet_id\", \"tweet_type\"], ignore_index=True)\n"
   ]
  },
  {
   "cell_type": "code",
   "execution_count": 26,
   "id": "48c10287-6bb7-45e7-b872-737598a82975",
   "metadata": {},
   "outputs": [],
   "source": [
    "for each in range(len(df_wrcdf_de)):\n",
    "    df_wrcdf_de.loc[df_wrcdf_de[\"text\"] == \n",
    "                      df_wrcdf_de.loc[each][\"text\"], \"text\"] = re.sub(r'http\\S+', '', \n",
    "                                                                        (re.sub('@[^\\s]+', '',\n",
    "                                                                                re.sub('[#|$]', '', \n",
    "                                                                                       df_wrcdf_de.loc[each][\"text\"]))))"
   ]
  },
  {
   "cell_type": "code",
   "execution_count": 27,
   "id": "bb07469c-849d-467c-8b77-7e04d0b85b72",
   "metadata": {},
   "outputs": [
    {
     "data": {
      "text/plain": [
       "33"
      ]
     },
     "execution_count": 27,
     "metadata": {},
     "output_type": "execute_result"
    }
   ],
   "source": [
    "len(df_wrcdf_de)"
   ]
  },
  {
   "cell_type": "markdown",
   "id": "181ecce0-933b-4073-adf2-b145a6f3a9c1",
   "metadata": {},
   "source": [
    "<h3>Löschen von Retweets</h3>"
   ]
  },
  {
   "cell_type": "code",
   "execution_count": 28,
   "id": "b6401d8c-151e-4f1a-b7f5-e52e1d267e47",
   "metadata": {},
   "outputs": [
    {
     "name": "stdout",
     "output_type": "stream",
     "text": [
      "0\n"
     ]
    }
   ],
   "source": [
    "counter = 0\n",
    "retweet_list = []\n",
    "for each in range(len(df_wrcdf_de)):\n",
    "    if \"retweeted\" in df_wrcdf_de.iloc[each][\"tweet_type\"]:\n",
    "        retweet_list.append(each)\n",
    "        counter += 1\n",
    "print(counter)\n",
    "df_wrcdf_de = df_wrcdf_de.drop(retweet_list)\n",
    "df_wrcdf_de = df_wrcdf_de.reset_index(drop=True)"
   ]
  },
  {
   "cell_type": "markdown",
   "id": "ad732ea1-75ce-47ad-a0c2-a5b3baa53a8f",
   "metadata": {},
   "source": [
    "<h3>Löschen von doppelten Tweets</h3>"
   ]
  },
  {
   "cell_type": "code",
   "execution_count": 29,
   "id": "287957b8-f3b3-4b95-ac71-aab5a92a2352",
   "metadata": {},
   "outputs": [],
   "source": [
    "df_wrcdf_de = df_wrcdf_de.drop_duplicates(subset=[\"tweet_id\"])\n",
    "df_wrcdf_de = df_wrcdf_de.reset_index(drop=True)"
   ]
  },
  {
   "cell_type": "code",
   "execution_count": 30,
   "id": "f5831d24-18b9-490e-9589-89f91710a2bc",
   "metadata": {},
   "outputs": [
    {
     "data": {
      "text/plain": [
       "33"
      ]
     },
     "execution_count": 30,
     "metadata": {},
     "output_type": "execute_result"
    }
   ],
   "source": [
    "len(df_wrcdf_de)"
   ]
  },
  {
   "cell_type": "code",
   "execution_count": null,
   "id": "f62c513b-0e50-4904-9987-fa6318b61a69",
   "metadata": {},
   "outputs": [],
   "source": []
  },
  {
   "cell_type": "markdown",
   "id": "f269bdc2-f185-4241-9bbe-5a65d1c81ff7",
   "metadata": {
    "jp-MarkdownHeadingCollapsed": true,
    "tags": []
   },
   "source": [
    "<h1>Zusammenführen der Datensätze</h1>"
   ]
  },
  {
   "cell_type": "code",
   "execution_count": 31,
   "id": "8634609f-954b-45e5-8ad7-3de434cf0a51",
   "metadata": {},
   "outputs": [],
   "source": [
    "list_data_frames = [df_manager, df_wirecard_de, df_wrcdf_de]\n",
    "df_de = pd.concat(list_data_frames, ignore_index=True)"
   ]
  },
  {
   "cell_type": "code",
   "execution_count": 32,
   "id": "5deafa18-29b4-483a-9039-95c5287134ec",
   "metadata": {},
   "outputs": [
    {
     "name": "stdout",
     "output_type": "stream",
     "text": [
      "8703\n",
      "111254\n",
      "33\n",
      "119990\n",
      "119990\n"
     ]
    }
   ],
   "source": [
    "print(len(df_manager))\n",
    "print(len(df_wirecard_de))\n",
    "print(len(df_wrcdf_de))\n",
    "print(len(df_manager)+len(df_wirecard_de)+len(df_wrcdf_de))\n",
    "print(len(df_de))"
   ]
  },
  {
   "cell_type": "markdown",
   "id": "9d85d378-7b4d-4512-b582-b5f2d2808657",
   "metadata": {},
   "source": [
    "<h3>Löschen der doppelten Posts</h3>\n",
    "<p>Dadurch, dass die Abfrage durch mehrere Querys erfolgt ist, befinden sich einige Tweets doppelt in dem Datensatz. Diese werden hier anhand der <b>\"tweet_id\"</b> gelöscht. </p>"
   ]
  },
  {
   "cell_type": "code",
   "execution_count": 33,
   "id": "d084c4d1-97af-42f1-9943-401dc7e8dcba",
   "metadata": {},
   "outputs": [],
   "source": [
    "df_de = df_de.drop_duplicates(subset=[\"tweet_id\"])\n",
    "df_de = df_de.reset_index(drop=True)"
   ]
  },
  {
   "cell_type": "markdown",
   "id": "029735d3-5c63-4558-bea5-b8504e1eb5d4",
   "metadata": {},
   "source": [
    "<p>Der neue Datensatz wird auf plausibilität geprüft.</p>"
   ]
  },
  {
   "cell_type": "code",
   "execution_count": 34,
   "id": "57f10bff-6e38-428f-9547-86a46140cdfe",
   "metadata": {},
   "outputs": [
    {
     "name": "stdout",
     "output_type": "stream",
     "text": [
      "114444\n"
     ]
    }
   ],
   "source": [
    "print(len(df_de))"
   ]
  },
  {
   "cell_type": "code",
   "execution_count": 35,
   "id": "7362c1aa-6e06-468d-9547-43faa020f908",
   "metadata": {
    "tags": []
   },
   "outputs": [
    {
     "data": {
      "text/html": [
       "<div>\n",
       "<style scoped>\n",
       "    .dataframe tbody tr th:only-of-type {\n",
       "        vertical-align: middle;\n",
       "    }\n",
       "\n",
       "    .dataframe tbody tr th {\n",
       "        vertical-align: top;\n",
       "    }\n",
       "\n",
       "    .dataframe thead th {\n",
       "        text-align: right;\n",
       "    }\n",
       "</style>\n",
       "<table border=\"1\" class=\"dataframe\">\n",
       "  <thead>\n",
       "    <tr style=\"text-align: right;\">\n",
       "      <th></th>\n",
       "      <th>conversation_id</th>\n",
       "      <th>author_id</th>\n",
       "      <th>created_at</th>\n",
       "      <th>tweet_id</th>\n",
       "      <th>lang</th>\n",
       "      <th>retweet_count</th>\n",
       "      <th>reply_count</th>\n",
       "      <th>like_count</th>\n",
       "      <th>quote_count</th>\n",
       "      <th>source</th>\n",
       "      <th>tweet_type</th>\n",
       "      <th>referenced_tweet_id</th>\n",
       "      <th>text</th>\n",
       "    </tr>\n",
       "  </thead>\n",
       "  <tbody>\n",
       "    <tr>\n",
       "      <th>0</th>\n",
       "      <td>703311366262800384</td>\n",
       "      <td>1392131804</td>\n",
       "      <td>2016-02-26 20:11:11+00:00</td>\n",
       "      <td>703311366262800384</td>\n",
       "      <td>de</td>\n",
       "      <td>0</td>\n",
       "      <td>0</td>\n",
       "      <td>2</td>\n",
       "      <td>0</td>\n",
       "      <td>Twitter Web Client</td>\n",
       "      <td>None</td>\n",
       "      <td>None</td>\n",
       "      <td>Wirecard-Chef Markus Braun pumpt irrwitzige Su...</td>\n",
       "    </tr>\n",
       "    <tr>\n",
       "      <th>1</th>\n",
       "      <td>702405572012974080</td>\n",
       "      <td>1053723204</td>\n",
       "      <td>2016-02-24 08:11:53+00:00</td>\n",
       "      <td>702405572012974080</td>\n",
       "      <td>de</td>\n",
       "      <td>0</td>\n",
       "      <td>0</td>\n",
       "      <td>0</td>\n",
       "      <td>0</td>\n",
       "      <td>Twitter Web Client</td>\n",
       "      <td>None</td>\n",
       "      <td>None</td>\n",
       "      <td>Jetzt günstig einsammeln und später absahnen? ...</td>\n",
       "    </tr>\n",
       "    <tr>\n",
       "      <th>2</th>\n",
       "      <td>700578193334411264</td>\n",
       "      <td>19811837</td>\n",
       "      <td>2016-02-19 07:10:32+00:00</td>\n",
       "      <td>700578193334411264</td>\n",
       "      <td>de</td>\n",
       "      <td>2</td>\n",
       "      <td>0</td>\n",
       "      <td>0</td>\n",
       "      <td>0</td>\n",
       "      <td>Twitter Web Client</td>\n",
       "      <td>None</td>\n",
       "      <td>None</td>\n",
       "      <td>Wirecard: Was führt der Vorstand im Schilde? M...</td>\n",
       "    </tr>\n",
       "    <tr>\n",
       "      <th>3</th>\n",
       "      <td>700221272840601601</td>\n",
       "      <td>19811837</td>\n",
       "      <td>2016-02-18 07:32:15+00:00</td>\n",
       "      <td>700221272840601601</td>\n",
       "      <td>de</td>\n",
       "      <td>0</td>\n",
       "      <td>0</td>\n",
       "      <td>1</td>\n",
       "      <td>0</td>\n",
       "      <td>Twitter Web Client</td>\n",
       "      <td>None</td>\n",
       "      <td>None</td>\n",
       "      <td>Wirecard-Vorstand kauft weiter massiv eigene A...</td>\n",
       "    </tr>\n",
       "    <tr>\n",
       "      <th>4</th>\n",
       "      <td>697324084221227008</td>\n",
       "      <td>183289696</td>\n",
       "      <td>2016-02-10 07:39:51+00:00</td>\n",
       "      <td>697324084221227008</td>\n",
       "      <td>de</td>\n",
       "      <td>0</td>\n",
       "      <td>0</td>\n",
       "      <td>0</td>\n",
       "      <td>0</td>\n",
       "      <td>dlvr.it</td>\n",
       "      <td>None</td>\n",
       "      <td>None</td>\n",
       "      <td>📈 Wirecard: Serie von Aktienkäufen des Vorstan...</td>\n",
       "    </tr>\n",
       "  </tbody>\n",
       "</table>\n",
       "</div>"
      ],
      "text/plain": [
       "      conversation_id   author_id                created_at  \\\n",
       "0  703311366262800384  1392131804 2016-02-26 20:11:11+00:00   \n",
       "1  702405572012974080  1053723204 2016-02-24 08:11:53+00:00   \n",
       "2  700578193334411264    19811837 2016-02-19 07:10:32+00:00   \n",
       "3  700221272840601601    19811837 2016-02-18 07:32:15+00:00   \n",
       "4  697324084221227008   183289696 2016-02-10 07:39:51+00:00   \n",
       "\n",
       "             tweet_id lang  retweet_count  reply_count  like_count  \\\n",
       "0  703311366262800384   de              0            0           2   \n",
       "1  702405572012974080   de              0            0           0   \n",
       "2  700578193334411264   de              2            0           0   \n",
       "3  700221272840601601   de              0            0           1   \n",
       "4  697324084221227008   de              0            0           0   \n",
       "\n",
       "   quote_count              source tweet_type referenced_tweet_id  \\\n",
       "0            0  Twitter Web Client       None                None   \n",
       "1            0  Twitter Web Client       None                None   \n",
       "2            0  Twitter Web Client       None                None   \n",
       "3            0  Twitter Web Client       None                None   \n",
       "4            0             dlvr.it       None                None   \n",
       "\n",
       "                                                text  \n",
       "0  Wirecard-Chef Markus Braun pumpt irrwitzige Su...  \n",
       "1  Jetzt günstig einsammeln und später absahnen? ...  \n",
       "2  Wirecard: Was führt der Vorstand im Schilde? M...  \n",
       "3  Wirecard-Vorstand kauft weiter massiv eigene A...  \n",
       "4  📈 Wirecard: Serie von Aktienkäufen des Vorstan...  "
      ]
     },
     "execution_count": 35,
     "metadata": {},
     "output_type": "execute_result"
    }
   ],
   "source": [
    "df_de.head()"
   ]
  },
  {
   "cell_type": "code",
   "execution_count": 36,
   "id": "b504ae64-e57c-4c91-9927-0614a7cee30b",
   "metadata": {
    "tags": []
   },
   "outputs": [
    {
     "data": {
      "text/html": [
       "<div>\n",
       "<style scoped>\n",
       "    .dataframe tbody tr th:only-of-type {\n",
       "        vertical-align: middle;\n",
       "    }\n",
       "\n",
       "    .dataframe tbody tr th {\n",
       "        vertical-align: top;\n",
       "    }\n",
       "\n",
       "    .dataframe thead th {\n",
       "        text-align: right;\n",
       "    }\n",
       "</style>\n",
       "<table border=\"1\" class=\"dataframe\">\n",
       "  <thead>\n",
       "    <tr style=\"text-align: right;\">\n",
       "      <th></th>\n",
       "      <th>conversation_id</th>\n",
       "      <th>author_id</th>\n",
       "      <th>created_at</th>\n",
       "      <th>tweet_id</th>\n",
       "      <th>lang</th>\n",
       "      <th>retweet_count</th>\n",
       "      <th>reply_count</th>\n",
       "      <th>like_count</th>\n",
       "      <th>quote_count</th>\n",
       "      <th>source</th>\n",
       "      <th>tweet_type</th>\n",
       "      <th>referenced_tweet_id</th>\n",
       "      <th>text</th>\n",
       "    </tr>\n",
       "  </thead>\n",
       "  <tbody>\n",
       "    <tr>\n",
       "      <th>114439</th>\n",
       "      <td>1164960547693105153</td>\n",
       "      <td>4584354895</td>\n",
       "      <td>2019-08-23 18:00:13+00:00</td>\n",
       "      <td>1164960547693105153</td>\n",
       "      <td>de</td>\n",
       "      <td>0</td>\n",
       "      <td>0</td>\n",
       "      <td>0</td>\n",
       "      <td>0</td>\n",
       "      <td>tickwatcher</td>\n",
       "      <td>None</td>\n",
       "      <td>None</td>\n",
       "      <td>Top Gainers (&amp;gt;30)UVXY JNUG DRIP OPYGY URR E...</td>\n",
       "    </tr>\n",
       "    <tr>\n",
       "      <th>114440</th>\n",
       "      <td>1228994498610503680</td>\n",
       "      <td>704753138146877440</td>\n",
       "      <td>2020-02-17 17:53:29+00:00</td>\n",
       "      <td>1229463896425205768</td>\n",
       "      <td>de</td>\n",
       "      <td>0</td>\n",
       "      <td>0</td>\n",
       "      <td>2</td>\n",
       "      <td>0</td>\n",
       "      <td>Twitter Web App</td>\n",
       "      <td>replied_to</td>\n",
       "      <td>1229459682403725314</td>\n",
       "      <td>1/ Die Anwälte der Klägerseit...</td>\n",
       "    </tr>\n",
       "    <tr>\n",
       "      <th>114441</th>\n",
       "      <td>1228017316375539712</td>\n",
       "      <td>1138485557502382082</td>\n",
       "      <td>2020-02-13 18:09:16+00:00</td>\n",
       "      <td>1228018315785838593</td>\n",
       "      <td>de</td>\n",
       "      <td>0</td>\n",
       "      <td>0</td>\n",
       "      <td>0</td>\n",
       "      <td>1</td>\n",
       "      <td>Twitter for iPhone</td>\n",
       "      <td>replied_to</td>\n",
       "      <td>1228017316375539712</td>\n",
       "      <td>Ist nicht der WRCDF LV Anteil mit zusätzlichen...</td>\n",
       "    </tr>\n",
       "    <tr>\n",
       "      <th>114442</th>\n",
       "      <td>1275070899822059523</td>\n",
       "      <td>1001192245</td>\n",
       "      <td>2020-06-22 14:19:26+00:00</td>\n",
       "      <td>1275070899822059523</td>\n",
       "      <td>de</td>\n",
       "      <td>0</td>\n",
       "      <td>0</td>\n",
       "      <td>0</td>\n",
       "      <td>0</td>\n",
       "      <td>TalkMarketsApp</td>\n",
       "      <td>None</td>\n",
       "      <td>None</td>\n",
       "      <td>Olaf Scholz - The German Finance Minister Is D...</td>\n",
       "    </tr>\n",
       "    <tr>\n",
       "      <th>114443</th>\n",
       "      <td>1271435871364042754</td>\n",
       "      <td>392388185</td>\n",
       "      <td>2020-06-12 13:45:22+00:00</td>\n",
       "      <td>1271438445500682244</td>\n",
       "      <td>de</td>\n",
       "      <td>0</td>\n",
       "      <td>1</td>\n",
       "      <td>9</td>\n",
       "      <td>0</td>\n",
       "      <td>Twitter Web App</td>\n",
       "      <td>replied_to</td>\n",
       "      <td>1271435871364042754</td>\n",
       "      <td>12.06. WDI              29,09 Mio.  +1,16% (v...</td>\n",
       "    </tr>\n",
       "  </tbody>\n",
       "</table>\n",
       "</div>"
      ],
      "text/plain": [
       "            conversation_id            author_id                created_at  \\\n",
       "114439  1164960547693105153           4584354895 2019-08-23 18:00:13+00:00   \n",
       "114440  1228994498610503680   704753138146877440 2020-02-17 17:53:29+00:00   \n",
       "114441  1228017316375539712  1138485557502382082 2020-02-13 18:09:16+00:00   \n",
       "114442  1275070899822059523           1001192245 2020-06-22 14:19:26+00:00   \n",
       "114443  1271435871364042754            392388185 2020-06-12 13:45:22+00:00   \n",
       "\n",
       "                   tweet_id lang  retweet_count  reply_count  like_count  \\\n",
       "114439  1164960547693105153   de              0            0           0   \n",
       "114440  1229463896425205768   de              0            0           2   \n",
       "114441  1228018315785838593   de              0            0           0   \n",
       "114442  1275070899822059523   de              0            0           0   \n",
       "114443  1271438445500682244   de              0            1           9   \n",
       "\n",
       "        quote_count              source  tweet_type  referenced_tweet_id  \\\n",
       "114439            0         tickwatcher        None                 None   \n",
       "114440            0     Twitter Web App  replied_to  1229459682403725314   \n",
       "114441            1  Twitter for iPhone  replied_to  1228017316375539712   \n",
       "114442            0      TalkMarketsApp        None                 None   \n",
       "114443            0     Twitter Web App  replied_to  1271435871364042754   \n",
       "\n",
       "                                                     text  \n",
       "114439  Top Gainers (&gt;30)UVXY JNUG DRIP OPYGY URR E...  \n",
       "114440                   1/ Die Anwälte der Klägerseit...  \n",
       "114441  Ist nicht der WRCDF LV Anteil mit zusätzlichen...  \n",
       "114442  Olaf Scholz - The German Finance Minister Is D...  \n",
       "114443   12.06. WDI              29,09 Mio.  +1,16% (v...  "
      ]
     },
     "execution_count": 36,
     "metadata": {},
     "output_type": "execute_result"
    }
   ],
   "source": [
    "df_de.tail()"
   ]
  },
  {
   "cell_type": "code",
   "execution_count": 37,
   "id": "1ef7ae7b-2415-4258-97ce-2aa41a09eae4",
   "metadata": {},
   "outputs": [
    {
     "data": {
      "text/plain": [
       "conversation_id                                       700578193334411264\n",
       "author_id                                                       19811837\n",
       "created_at                                     2016-02-19 07:10:32+00:00\n",
       "tweet_id                                              700578193334411264\n",
       "lang                                                                  de\n",
       "retweet_count                                                          2\n",
       "reply_count                                                            0\n",
       "like_count                                                             0\n",
       "quote_count                                                            0\n",
       "source                                                Twitter Web Client\n",
       "tweet_type                                                          None\n",
       "referenced_tweet_id                                                 None\n",
       "text                   Wirecard: Was führt der Vorstand im Schilde? M...\n",
       "Name: 2, dtype: object"
      ]
     },
     "execution_count": 37,
     "metadata": {},
     "output_type": "execute_result"
    }
   ],
   "source": [
    "df_de.iloc[2]"
   ]
  },
  {
   "cell_type": "markdown",
   "id": "b9feceb0-648e-4a1e-b206-496bfa02544a",
   "metadata": {},
   "source": [
    "<p><b>Fertig</b> mit der Vorverarbeitung der Daten in deutsch. Es ist nun ein Datensatz verfügbar mit allen Tweets für den deutschsprachigen Raum. Es sind keine doppelten Tweets enthalten, solange diese keine gleiche tweet_id enthalten. Auch Nutzer und tweets, die nichts zu dem eigentlichen Thema Wirecard beitragen sind nicht mehr im Datensatz enthalten. Vereinzelt können natürlich unnütze Tweets vorhanden sein, aber die Nutzer mit vielen Interaktionen sind überprüft und auch die Begriffe, die besonders oft vorkommen sind überprüft worden, ob diese etwas mit dem Thema zu tun haben.<br>Jetzt muss das gleich noch mit den Englischen tweets geschehen und dann müssen Datensätze zur Überprüfung ausgegeben werden.<br> Um den zufälligen Datensatz zu erstellen sollte ich noch einen zufallszahlengenerator nutzen, sodass ich möglichst zufällige Tweets zum testen erhalte. Hier scheint die Pandas Funktion <b>\"sample\"</b> gut geeignet zu sein. </p>"
   ]
  },
  {
   "cell_type": "code",
   "execution_count": 40,
   "id": "a19ee6d9-7ec6-4e20-a1a6-462df3bbbbb7",
   "metadata": {
    "collapsed": true,
    "jupyter": {
     "outputs_hidden": true
    },
    "tags": []
   },
   "outputs": [
    {
     "data": {
      "text/html": [
       "<div>\n",
       "<style scoped>\n",
       "    .dataframe tbody tr th:only-of-type {\n",
       "        vertical-align: middle;\n",
       "    }\n",
       "\n",
       "    .dataframe tbody tr th {\n",
       "        vertical-align: top;\n",
       "    }\n",
       "\n",
       "    .dataframe thead th {\n",
       "        text-align: right;\n",
       "    }\n",
       "</style>\n",
       "<table border=\"1\" class=\"dataframe\">\n",
       "  <thead>\n",
       "    <tr style=\"text-align: right;\">\n",
       "      <th></th>\n",
       "      <th>conversation_id</th>\n",
       "      <th>author_id</th>\n",
       "      <th>created_at</th>\n",
       "      <th>tweet_id</th>\n",
       "      <th>lang</th>\n",
       "      <th>retweet_count</th>\n",
       "      <th>reply_count</th>\n",
       "      <th>like_count</th>\n",
       "      <th>quote_count</th>\n",
       "      <th>source</th>\n",
       "      <th>tweet_type</th>\n",
       "      <th>referenced_tweet_id</th>\n",
       "      <th>text</th>\n",
       "    </tr>\n",
       "  </thead>\n",
       "  <tbody>\n",
       "    <tr>\n",
       "      <th>69503</th>\n",
       "      <td>1277525797243412480</td>\n",
       "      <td>1245423304304926727</td>\n",
       "      <td>2020-06-29 08:54:20+00:00</td>\n",
       "      <td>1277525797243412480</td>\n",
       "      <td>de</td>\n",
       "      <td>0</td>\n",
       "      <td>0</td>\n",
       "      <td>0</td>\n",
       "      <td>0</td>\n",
       "      <td>Blog2Social APP</td>\n",
       "      <td>None</td>\n",
       "      <td>None</td>\n",
       "      <td>Aktien in diesem ArtikelMan werde eine \"schnel...</td>\n",
       "    </tr>\n",
       "    <tr>\n",
       "      <th>78607</th>\n",
       "      <td>1275397576221765633</td>\n",
       "      <td>331867773</td>\n",
       "      <td>2020-06-23 21:29:21+00:00</td>\n",
       "      <td>1275541480271200258</td>\n",
       "      <td>de</td>\n",
       "      <td>0</td>\n",
       "      <td>0</td>\n",
       "      <td>1</td>\n",
       "      <td>0</td>\n",
       "      <td>Twitter for iPad</td>\n",
       "      <td>replied_to</td>\n",
       "      <td>1275397576221765633</td>\n",
       "      <td>Offensichtlich haben die Aufsichtsbehörden ni...</td>\n",
       "    </tr>\n",
       "    <tr>\n",
       "      <th>7263</th>\n",
       "      <td>1285235188633677824</td>\n",
       "      <td>1118219555967520769</td>\n",
       "      <td>2020-07-20 19:54:11+00:00</td>\n",
       "      <td>1285302000780009481</td>\n",
       "      <td>de</td>\n",
       "      <td>0</td>\n",
       "      <td>0</td>\n",
       "      <td>0</td>\n",
       "      <td>0</td>\n",
       "      <td>Twitter for iPhone</td>\n",
       "      <td>replied_to</td>\n",
       "      <td>1285301765789933570</td>\n",
       "      <td>hat auf der ganze Line als Finanzminister ...</td>\n",
       "    </tr>\n",
       "    <tr>\n",
       "      <th>32865</th>\n",
       "      <td>1071003895101566977</td>\n",
       "      <td>2280206959</td>\n",
       "      <td>2018-12-07 11:30:01+00:00</td>\n",
       "      <td>1071003895101566977</td>\n",
       "      <td>de</td>\n",
       "      <td>0</td>\n",
       "      <td>0</td>\n",
       "      <td>0</td>\n",
       "      <td>0</td>\n",
       "      <td>Freie-Welt</td>\n",
       "      <td>None</td>\n",
       "      <td>None</td>\n",
       "      <td>DAX startet nach Einbruch freundlicher – Wirec...</td>\n",
       "    </tr>\n",
       "    <tr>\n",
       "      <th>62348</th>\n",
       "      <td>1255054199756337154</td>\n",
       "      <td>3029833842</td>\n",
       "      <td>2020-04-28 08:41:03+00:00</td>\n",
       "      <td>1255054410343952384</td>\n",
       "      <td>de</td>\n",
       "      <td>0</td>\n",
       "      <td>0</td>\n",
       "      <td>1</td>\n",
       "      <td>0</td>\n",
       "      <td>Twitter Web App</td>\n",
       "      <td>replied_to</td>\n",
       "      <td>1255054199756337154</td>\n",
       "      <td>sie haben nix von wirecard bekommen, was sie ...</td>\n",
       "    </tr>\n",
       "    <tr>\n",
       "      <th>76553</th>\n",
       "      <td>1276077305354432512</td>\n",
       "      <td>1010819870</td>\n",
       "      <td>2020-06-25 08:58:32+00:00</td>\n",
       "      <td>1276077305354432512</td>\n",
       "      <td>de</td>\n",
       "      <td>0</td>\n",
       "      <td>0</td>\n",
       "      <td>1</td>\n",
       "      <td>0</td>\n",
       "      <td>Twitter Web App</td>\n",
       "      <td>quoted</td>\n",
       "      <td>1276074792597303298</td>\n",
       "      <td>Interessant, dass der Börsenhandel bis heute n...</td>\n",
       "    </tr>\n",
       "    <tr>\n",
       "      <th>49755</th>\n",
       "      <td>1161203634283192320</td>\n",
       "      <td>19811837</td>\n",
       "      <td>2019-08-13 09:11:35+00:00</td>\n",
       "      <td>1161203634283192320</td>\n",
       "      <td>de</td>\n",
       "      <td>0</td>\n",
       "      <td>0</td>\n",
       "      <td>1</td>\n",
       "      <td>0</td>\n",
       "      <td>Echobox</td>\n",
       "      <td>None</td>\n",
       "      <td>None</td>\n",
       "      <td>Wirecard-Aktie: Achtung, hier wird es brenzlig!</td>\n",
       "    </tr>\n",
       "    <tr>\n",
       "      <th>110701</th>\n",
       "      <td>1280034898762489856</td>\n",
       "      <td>176719569</td>\n",
       "      <td>2020-07-06 07:04:36+00:00</td>\n",
       "      <td>1280034898762489856</td>\n",
       "      <td>de</td>\n",
       "      <td>1</td>\n",
       "      <td>0</td>\n",
       "      <td>1</td>\n",
       "      <td>0</td>\n",
       "      <td>Twitter Web App</td>\n",
       "      <td>None</td>\n",
       "      <td>None</td>\n",
       "      <td>Wow, die deutsche Politik und die Bafin entdec...</td>\n",
       "    </tr>\n",
       "    <tr>\n",
       "      <th>51357</th>\n",
       "      <td>1188900278499774465</td>\n",
       "      <td>259733922</td>\n",
       "      <td>2019-10-28 19:28:09+00:00</td>\n",
       "      <td>1188900278499774465</td>\n",
       "      <td>de</td>\n",
       "      <td>0</td>\n",
       "      <td>0</td>\n",
       "      <td>0</td>\n",
       "      <td>0</td>\n",
       "      <td>Google</td>\n",
       "      <td>None</td>\n",
       "      <td>None</td>\n",
       "      <td>Wirecard: Anhebung des Short-Engagements von M...</td>\n",
       "    </tr>\n",
       "    <tr>\n",
       "      <th>40377</th>\n",
       "      <td>1110528802248110081</td>\n",
       "      <td>340329223</td>\n",
       "      <td>2019-03-26 13:07:53+00:00</td>\n",
       "      <td>1110528802248110081</td>\n",
       "      <td>de</td>\n",
       "      <td>0</td>\n",
       "      <td>0</td>\n",
       "      <td>0</td>\n",
       "      <td>1</td>\n",
       "      <td>sjbblog.de</td>\n",
       "      <td>None</td>\n",
       "      <td>None</td>\n",
       "      <td>DGAP-Adhoc: Wirecard AG: Externe Untersuchung ...</td>\n",
       "    </tr>\n",
       "    <tr>\n",
       "      <th>31647</th>\n",
       "      <td>1062613180470476800</td>\n",
       "      <td>340329223</td>\n",
       "      <td>2018-11-14 07:48:19+00:00</td>\n",
       "      <td>1062613180470476800</td>\n",
       "      <td>de</td>\n",
       "      <td>0</td>\n",
       "      <td>0</td>\n",
       "      <td>0</td>\n",
       "      <td>0</td>\n",
       "      <td>sjbblog.de</td>\n",
       "      <td>None</td>\n",
       "      <td>None</td>\n",
       "      <td>ANALYSE-FLASH: Morgan Stanley belässt Wirecard...</td>\n",
       "    </tr>\n",
       "    <tr>\n",
       "      <th>18968</th>\n",
       "      <td>889324366428811267</td>\n",
       "      <td>2317442264</td>\n",
       "      <td>2017-07-24 03:20:26+00:00</td>\n",
       "      <td>889324366428811267</td>\n",
       "      <td>de</td>\n",
       "      <td>0</td>\n",
       "      <td>0</td>\n",
       "      <td>0</td>\n",
       "      <td>0</td>\n",
       "      <td>DW_munic_Jobbörse</td>\n",
       "      <td>None</td>\n",
       "      <td>None</td>\n",
       "      <td>🔍 Wirecard Technologies GmbH sucht Integration...</td>\n",
       "    </tr>\n",
       "    <tr>\n",
       "      <th>112776</th>\n",
       "      <td>1278680221965856768</td>\n",
       "      <td>1079266247546753024</td>\n",
       "      <td>2020-07-02 13:26:24+00:00</td>\n",
       "      <td>1278681431275974658</td>\n",
       "      <td>de</td>\n",
       "      <td>0</td>\n",
       "      <td>1</td>\n",
       "      <td>1</td>\n",
       "      <td>0</td>\n",
       "      <td>Twitter for Android</td>\n",
       "      <td>replied_to</td>\n",
       "      <td>1278680221965856768</td>\n",
       "      <td>Da gibt es leider keine Hilfe! Wirecard und D...</td>\n",
       "    </tr>\n",
       "    <tr>\n",
       "      <th>63558</th>\n",
       "      <td>1251505817226018816</td>\n",
       "      <td>77220394</td>\n",
       "      <td>2020-04-18 13:40:13+00:00</td>\n",
       "      <td>1251505817226018816</td>\n",
       "      <td>de</td>\n",
       "      <td>0</td>\n",
       "      <td>0</td>\n",
       "      <td>1</td>\n",
       "      <td>0</td>\n",
       "      <td>Twitter Web App</td>\n",
       "      <td>None</td>\n",
       "      <td>None</td>\n",
       "      <td>WIRECARD - Hier ist der Deckel drauf!</td>\n",
       "    </tr>\n",
       "    <tr>\n",
       "      <th>65051</th>\n",
       "      <td>1263741813673918465</td>\n",
       "      <td>1159698800790953984</td>\n",
       "      <td>2020-05-22 08:01:42+00:00</td>\n",
       "      <td>1263741813673918465</td>\n",
       "      <td>de</td>\n",
       "      <td>0</td>\n",
       "      <td>5</td>\n",
       "      <td>3</td>\n",
       "      <td>2</td>\n",
       "      <td>Twitter for iPhone</td>\n",
       "      <td>None</td>\n",
       "      <td>None</td>\n",
       "      <td>Wirecard  \"der Aktionär\" muss es zum Wochensch...</td>\n",
       "    </tr>\n",
       "    <tr>\n",
       "      <th>112950</th>\n",
       "      <td>1278639840335204352</td>\n",
       "      <td>1085664344</td>\n",
       "      <td>2020-07-02 10:43:55+00:00</td>\n",
       "      <td>1278640539248799747</td>\n",
       "      <td>de</td>\n",
       "      <td>0</td>\n",
       "      <td>1</td>\n",
       "      <td>2</td>\n",
       "      <td>0</td>\n",
       "      <td>Twitter Web App</td>\n",
       "      <td>replied_to</td>\n",
       "      <td>1278640230912983041</td>\n",
       "      <td>Ich bau mir aus den Wirecard Aktien Papierflu...</td>\n",
       "    </tr>\n",
       "    <tr>\n",
       "      <th>81367</th>\n",
       "      <td>1275091419678597120</td>\n",
       "      <td>1239515792011649024</td>\n",
       "      <td>2020-06-22 15:40:59+00:00</td>\n",
       "      <td>1275091419678597120</td>\n",
       "      <td>de</td>\n",
       "      <td>1</td>\n",
       "      <td>1</td>\n",
       "      <td>2</td>\n",
       "      <td>0</td>\n",
       "      <td>Twitter for iPhone</td>\n",
       "      <td>None</td>\n",
       "      <td>None</td>\n",
       "      <td>Wann wird eigentlich über das Totalversagen de...</td>\n",
       "    </tr>\n",
       "    <tr>\n",
       "      <th>1952</th>\n",
       "      <td>1225069953696632832</td>\n",
       "      <td>743798562593640448</td>\n",
       "      <td>2020-02-05 18:49:52+00:00</td>\n",
       "      <td>1225129428885409792</td>\n",
       "      <td>de</td>\n",
       "      <td>0</td>\n",
       "      <td>1</td>\n",
       "      <td>2</td>\n",
       "      <td>0</td>\n",
       "      <td>Twitter for iPhone</td>\n",
       "      <td>replied_to</td>\n",
       "      <td>1225069953696632832</td>\n",
       "      <td>Ich würde gerne positive Nachrichten zu Wi...</td>\n",
       "    </tr>\n",
       "    <tr>\n",
       "      <th>53604</th>\n",
       "      <td>1179726384329048064</td>\n",
       "      <td>386165847</td>\n",
       "      <td>2019-10-03 11:54:22+00:00</td>\n",
       "      <td>1179726384329048064</td>\n",
       "      <td>de</td>\n",
       "      <td>0</td>\n",
       "      <td>0</td>\n",
       "      <td>1</td>\n",
       "      <td>0</td>\n",
       "      <td>IFTTT</td>\n",
       "      <td>None</td>\n",
       "      <td>None</td>\n",
       "      <td>Untersuchung zur Berichterstattung : \"FT\" sieh...</td>\n",
       "    </tr>\n",
       "    <tr>\n",
       "      <th>98611</th>\n",
       "      <td>1286397010556444672</td>\n",
       "      <td>1213095316657860608</td>\n",
       "      <td>2020-07-23 20:30:23+00:00</td>\n",
       "      <td>1286398273209733121</td>\n",
       "      <td>de</td>\n",
       "      <td>4</td>\n",
       "      <td>0</td>\n",
       "      <td>7</td>\n",
       "      <td>0</td>\n",
       "      <td>Twitter for iPhone</td>\n",
       "      <td>replied_to</td>\n",
       "      <td>1286397010556444672</td>\n",
       "      <td>Und wer war eigentlich der zweiter suizid? Irg...</td>\n",
       "    </tr>\n",
       "  </tbody>\n",
       "</table>\n",
       "</div>"
      ],
      "text/plain": [
       "            conversation_id            author_id                created_at  \\\n",
       "69503   1277525797243412480  1245423304304926727 2020-06-29 08:54:20+00:00   \n",
       "78607   1275397576221765633            331867773 2020-06-23 21:29:21+00:00   \n",
       "7263    1285235188633677824  1118219555967520769 2020-07-20 19:54:11+00:00   \n",
       "32865   1071003895101566977           2280206959 2018-12-07 11:30:01+00:00   \n",
       "62348   1255054199756337154           3029833842 2020-04-28 08:41:03+00:00   \n",
       "76553   1276077305354432512           1010819870 2020-06-25 08:58:32+00:00   \n",
       "49755   1161203634283192320             19811837 2019-08-13 09:11:35+00:00   \n",
       "110701  1280034898762489856            176719569 2020-07-06 07:04:36+00:00   \n",
       "51357   1188900278499774465            259733922 2019-10-28 19:28:09+00:00   \n",
       "40377   1110528802248110081            340329223 2019-03-26 13:07:53+00:00   \n",
       "31647   1062613180470476800            340329223 2018-11-14 07:48:19+00:00   \n",
       "18968    889324366428811267           2317442264 2017-07-24 03:20:26+00:00   \n",
       "112776  1278680221965856768  1079266247546753024 2020-07-02 13:26:24+00:00   \n",
       "63558   1251505817226018816             77220394 2020-04-18 13:40:13+00:00   \n",
       "65051   1263741813673918465  1159698800790953984 2020-05-22 08:01:42+00:00   \n",
       "112950  1278639840335204352           1085664344 2020-07-02 10:43:55+00:00   \n",
       "81367   1275091419678597120  1239515792011649024 2020-06-22 15:40:59+00:00   \n",
       "1952    1225069953696632832   743798562593640448 2020-02-05 18:49:52+00:00   \n",
       "53604   1179726384329048064            386165847 2019-10-03 11:54:22+00:00   \n",
       "98611   1286397010556444672  1213095316657860608 2020-07-23 20:30:23+00:00   \n",
       "\n",
       "                   tweet_id lang  retweet_count  reply_count  like_count  \\\n",
       "69503   1277525797243412480   de              0            0           0   \n",
       "78607   1275541480271200258   de              0            0           1   \n",
       "7263    1285302000780009481   de              0            0           0   \n",
       "32865   1071003895101566977   de              0            0           0   \n",
       "62348   1255054410343952384   de              0            0           1   \n",
       "76553   1276077305354432512   de              0            0           1   \n",
       "49755   1161203634283192320   de              0            0           1   \n",
       "110701  1280034898762489856   de              1            0           1   \n",
       "51357   1188900278499774465   de              0            0           0   \n",
       "40377   1110528802248110081   de              0            0           0   \n",
       "31647   1062613180470476800   de              0            0           0   \n",
       "18968    889324366428811267   de              0            0           0   \n",
       "112776  1278681431275974658   de              0            1           1   \n",
       "63558   1251505817226018816   de              0            0           1   \n",
       "65051   1263741813673918465   de              0            5           3   \n",
       "112950  1278640539248799747   de              0            1           2   \n",
       "81367   1275091419678597120   de              1            1           2   \n",
       "1952    1225129428885409792   de              0            1           2   \n",
       "53604   1179726384329048064   de              0            0           1   \n",
       "98611   1286398273209733121   de              4            0           7   \n",
       "\n",
       "        quote_count               source  tweet_type  referenced_tweet_id  \\\n",
       "69503             0      Blog2Social APP        None                 None   \n",
       "78607             0     Twitter for iPad  replied_to  1275397576221765633   \n",
       "7263              0   Twitter for iPhone  replied_to  1285301765789933570   \n",
       "32865             0           Freie-Welt        None                 None   \n",
       "62348             0      Twitter Web App  replied_to  1255054199756337154   \n",
       "76553             0      Twitter Web App      quoted  1276074792597303298   \n",
       "49755             0              Echobox        None                 None   \n",
       "110701            0      Twitter Web App        None                 None   \n",
       "51357             0               Google        None                 None   \n",
       "40377             1           sjbblog.de        None                 None   \n",
       "31647             0           sjbblog.de        None                 None   \n",
       "18968             0    DW_munic_Jobbörse        None                 None   \n",
       "112776            0  Twitter for Android  replied_to  1278680221965856768   \n",
       "63558             0      Twitter Web App        None                 None   \n",
       "65051             2   Twitter for iPhone        None                 None   \n",
       "112950            0      Twitter Web App  replied_to  1278640230912983041   \n",
       "81367             0   Twitter for iPhone        None                 None   \n",
       "1952              0   Twitter for iPhone  replied_to  1225069953696632832   \n",
       "53604             0                IFTTT        None                 None   \n",
       "98611             0   Twitter for iPhone  replied_to  1286397010556444672   \n",
       "\n",
       "                                                     text  \n",
       "69503   Aktien in diesem ArtikelMan werde eine \"schnel...  \n",
       "78607    Offensichtlich haben die Aufsichtsbehörden ni...  \n",
       "7263        hat auf der ganze Line als Finanzminister ...  \n",
       "32865   DAX startet nach Einbruch freundlicher – Wirec...  \n",
       "62348    sie haben nix von wirecard bekommen, was sie ...  \n",
       "76553   Interessant, dass der Börsenhandel bis heute n...  \n",
       "49755   Wirecard-Aktie: Achtung, hier wird es brenzlig!    \n",
       "110701  Wow, die deutsche Politik und die Bafin entdec...  \n",
       "51357   Wirecard: Anhebung des Short-Engagements von M...  \n",
       "40377   DGAP-Adhoc: Wirecard AG: Externe Untersuchung ...  \n",
       "31647   ANALYSE-FLASH: Morgan Stanley belässt Wirecard...  \n",
       "18968   🔍 Wirecard Technologies GmbH sucht Integration...  \n",
       "112776   Da gibt es leider keine Hilfe! Wirecard und D...  \n",
       "63558              WIRECARD - Hier ist der Deckel drauf!   \n",
       "65051   Wirecard  \"der Aktionär\" muss es zum Wochensch...  \n",
       "112950   Ich bau mir aus den Wirecard Aktien Papierflu...  \n",
       "81367   Wann wird eigentlich über das Totalversagen de...  \n",
       "1952        Ich würde gerne positive Nachrichten zu Wi...  \n",
       "53604   Untersuchung zur Berichterstattung : \"FT\" sieh...  \n",
       "98611   Und wer war eigentlich der zweiter suizid? Irg...  "
      ]
     },
     "execution_count": 40,
     "metadata": {},
     "output_type": "execute_result"
    }
   ],
   "source": [
    "df_de.sample(n = 20)"
   ]
  },
  {
   "cell_type": "markdown",
   "id": "fcc4868f-5226-499e-a4f1-ec1090731c70",
   "metadata": {},
   "source": [
    "<h2>Finalen Datensatz als CSV ausgeben.</h2>"
   ]
  },
  {
   "cell_type": "code",
   "execution_count": 42,
   "id": "7f516bc4-b923-4c1c-aa84-47fbd58974a7",
   "metadata": {},
   "outputs": [],
   "source": [
    "df_de.to_csv('Dataset_Wirecard.csv', sep=';', index=False)"
   ]
  },
  {
   "cell_type": "code",
   "execution_count": null,
   "id": "ae61aa8d-1989-49a4-9007-bbe29dafb38e",
   "metadata": {
    "tags": []
   },
   "outputs": [],
   "source": [
    "df_validation_sentiment.head()"
   ]
  },
  {
   "cell_type": "markdown",
   "id": "331f7e57-671e-451c-a3eb-98ffc68393a5",
   "metadata": {},
   "source": [
    "<h2>Erstellen der CSV zur Überprüfung der Sentiment Ergebnisse</h2>"
   ]
  },
  {
   "cell_type": "code",
   "execution_count": 57,
   "id": "61f530a2-77d3-443d-8889-0e2a69382ad4",
   "metadata": {},
   "outputs": [
    {
     "data": {
      "text/html": [
       "<div>\n",
       "<style scoped>\n",
       "    .dataframe tbody tr th:only-of-type {\n",
       "        vertical-align: middle;\n",
       "    }\n",
       "\n",
       "    .dataframe tbody tr th {\n",
       "        vertical-align: top;\n",
       "    }\n",
       "\n",
       "    .dataframe thead th {\n",
       "        text-align: right;\n",
       "    }\n",
       "</style>\n",
       "<table border=\"1\" class=\"dataframe\">\n",
       "  <thead>\n",
       "    <tr style=\"text-align: right;\">\n",
       "      <th></th>\n",
       "      <th>tweet_id</th>\n",
       "      <th>text</th>\n",
       "    </tr>\n",
       "  </thead>\n",
       "  <tbody>\n",
       "    <tr>\n",
       "      <th>107505</th>\n",
       "      <td>1282624461716553728</td>\n",
       "      <td>Bei wirecard versagte noch VOR den Wirtschafts...</td>\n",
       "    </tr>\n",
       "    <tr>\n",
       "      <th>92212</th>\n",
       "      <td>1269968467828117506</td>\n",
       "      <td>Angesichts laufender Ermittlungen und der Durc...</td>\n",
       "    </tr>\n",
       "    <tr>\n",
       "      <th>5712</th>\n",
       "      <td>1273934114589155338</td>\n",
       "      <td>Rücktritt. Endlich. Ich gehe davon aus, dass ...</td>\n",
       "    </tr>\n",
       "    <tr>\n",
       "      <th>58198</th>\n",
       "      <td>1215973676904058880</td>\n",
       "      <td>Thomas Eichelmann wird neuer Aufsichtsratsvors...</td>\n",
       "    </tr>\n",
       "    <tr>\n",
       "      <th>89605</th>\n",
       "      <td>1273567326118596614</td>\n",
       "      <td>kein Problem. Wirecard sackt um 50% ab und au...</td>\n",
       "    </tr>\n",
       "    <tr>\n",
       "      <th>73670</th>\n",
       "      <td>1276259397061292032</td>\n",
       "      <td>Post wirecard. Was ist eure neue Anlagestrategie?</td>\n",
       "    </tr>\n",
       "    <tr>\n",
       "      <th>105557</th>\n",
       "      <td>1283828704750313477</td>\n",
       "      <td>Bundesfinanzminister Scholz hatte seit Februar...</td>\n",
       "    </tr>\n",
       "    <tr>\n",
       "      <th>77083</th>\n",
       "      <td>1276055514208755712</td>\n",
       "      <td>Bayer könnte wegen des Glyphosat-Vergleichs ei...</td>\n",
       "    </tr>\n",
       "    <tr>\n",
       "      <th>96547</th>\n",
       "      <td>1288015354686570496</td>\n",
       "      <td>Liebe dass Wirecard offenbar ein Ponzi Scheme ...</td>\n",
       "    </tr>\n",
       "    <tr>\n",
       "      <th>59205</th>\n",
       "      <td>1229322849891962885</td>\n",
       "      <td>🌏 Wirecard-Aktie schwach: Rechtsstreit mit Fin...</td>\n",
       "    </tr>\n",
       "  </tbody>\n",
       "</table>\n",
       "</div>"
      ],
      "text/plain": [
       "                   tweet_id                                               text\n",
       "107505  1282624461716553728  Bei wirecard versagte noch VOR den Wirtschafts...\n",
       "92212   1269968467828117506  Angesichts laufender Ermittlungen und der Durc...\n",
       "5712    1273934114589155338   Rücktritt. Endlich. Ich gehe davon aus, dass ...\n",
       "58198   1215973676904058880  Thomas Eichelmann wird neuer Aufsichtsratsvors...\n",
       "89605   1273567326118596614   kein Problem. Wirecard sackt um 50% ab und au...\n",
       "73670   1276259397061292032  Post wirecard. Was ist eure neue Anlagestrategie?\n",
       "105557  1283828704750313477  Bundesfinanzminister Scholz hatte seit Februar...\n",
       "77083   1276055514208755712  Bayer könnte wegen des Glyphosat-Vergleichs ei...\n",
       "96547   1288015354686570496  Liebe dass Wirecard offenbar ein Ponzi Scheme ...\n",
       "59205   1229322849891962885  🌏 Wirecard-Aktie schwach: Rechtsstreit mit Fin..."
      ]
     },
     "execution_count": 57,
     "metadata": {},
     "output_type": "execute_result"
    }
   ],
   "source": [
    "df_de.sample(n=10)[[\"tweet_id\", \"text\"]]"
   ]
  },
  {
   "cell_type": "code",
   "execution_count": 66,
   "id": "f44c9062-f71d-458f-b282-2a25ed42aba1",
   "metadata": {},
   "outputs": [
    {
     "name": "stdout",
     "output_type": "stream",
     "text": [
      "Start bei 0 und ende bei 99. Name der Datei: de_validation_0.csv\n",
      "Start bei 100 und ende bei 199. Name der Datei: de_validation_1.csv\n",
      "Start bei 200 und ende bei 299. Name der Datei: de_validation_2.csv\n",
      "Start bei 300 und ende bei 399. Name der Datei: de_validation_3.csv\n",
      "Start bei 400 und ende bei 499. Name der Datei: de_validation_4.csv\n",
      "Start bei 500 und ende bei 599. Name der Datei: de_validation_5.csv\n",
      "Start bei 600 und ende bei 699. Name der Datei: de_validation_6.csv\n",
      "Start bei 700 und ende bei 799. Name der Datei: de_validation_7.csv\n",
      "Start bei 800 und ende bei 899. Name der Datei: de_validation_8.csv\n",
      "Start bei 900 und ende bei 999. Name der Datei: de_validation_9.csv\n",
      "Start bei 1000 und ende bei 1099. Name der Datei: de_validation_10.csv\n",
      "Start bei 1100 und ende bei 1199. Name der Datei: de_validation_11.csv\n",
      "Start bei 1200 und ende bei 1299. Name der Datei: de_validation_12.csv\n",
      "Start bei 1300 und ende bei 1399. Name der Datei: de_validation_13.csv\n",
      "Start bei 1400 und ende bei 1499. Name der Datei: de_validation_14.csv\n"
     ]
    }
   ],
   "source": [
    "df_sentiment_validation = df_de.sample(n = 1500)[[\"tweet_id\", \"text\"]]\n",
    "batch = 14\n",
    "counter = 0 \n",
    "for batch in range(0,15):\n",
    "    start = 100*batch\n",
    "    end = 100*batch+99\n",
    "    csv_name = 'de_validation_{count}.csv'.format(count=batch)\n",
    "    df_sentiment_validation.iloc[start:end].to_csv(csv_name, sep=';', index=False)\n",
    "    print(\"Start bei {start} und ende bei {ende}. Name der Datei: {csv}\".format(start=start, ende=end, csv=csv_name))"
   ]
  },
  {
   "cell_type": "markdown",
   "id": "54458e24-305e-4980-b1a0-0d130ac27b59",
   "metadata": {
    "tags": []
   },
   "source": [
    "<h1>Weitere Überprüfungen der Daten</h1>\n",
    "<p>Hier sind die Überprüfungen aufgeführt, die vorgenommen werden mussten um den Datensatz vorzubereiten. Das eigentliche Löschen der nicht benötigten Daten ist bereits weiter oben vorgenommen worden.</p>"
   ]
  },
  {
   "cell_type": "markdown",
   "id": "e856005f-7996-4de9-ac39-50b312d8678e",
   "metadata": {
    "jp-MarkdownHeadingCollapsed": true,
    "tags": []
   },
   "source": [
    "<h2>Überprüfung der Wörter in den Tweets</h2>\n",
    "<p>Ich prüfe wie oft die einzelnen Wörter in den jeweiligen Tweets vorkommen um ggf. nicht passende Wörter zu ermitteln.</p>\n",
    "<p>Ladeb von deutschen Stop Wörtern um diese zu filter, da diese keinen wirklichen Mehrwert bieten. <br> Anschließend wird das Hanover Tagger Modell geladen um die Lemmatisierung durchzuführen um Wörter auf die Grundform zu reduzieren.</p>"
   ]
  },
  {
   "cell_type": "code",
   "execution_count": null,
   "id": "159dd6a3-5600-4c0e-a042-78816551a93f",
   "metadata": {},
   "outputs": [],
   "source": [
    "german_stop_words = stopwords.words('german')\n",
    "tagger = ht.HanoverTagger('morphmodel_ger.pgz')"
   ]
  },
  {
   "cell_type": "markdown",
   "id": "fb6a7161-20e4-4c87-b6ca-140f7fd3ee17",
   "metadata": {},
   "source": [
    "<p>Lemmatisierung um zu den jeweiligen Wörtern die Grundform zu erhalten. Dies wird mit den ganzen Tweets gemacht umd die Wörter im Kontext betrachten zu können (?). </p>"
   ]
  },
  {
   "cell_type": "code",
   "execution_count": null,
   "id": "c5cb0469-bf78-44d3-b11e-9e578e1e89b4",
   "metadata": {},
   "outputs": [],
   "source": [
    "tweet_list = df_manager[\"text\"].tolist()\n",
    "lemma_list = []\n",
    "\n",
    "for tweet in tweet_list:\n",
    "    lemma = [lemma for (word, lemma, pos) in tagger.tag_sent(tweet.split())]\n",
    "    lemma_list.append(' '.join(lemma))"
   ]
  },
  {
   "cell_type": "markdown",
   "id": "7aa6179a-3465-435b-b27e-a2b806c5f2fc",
   "metadata": {},
   "source": [
    "<p>Erstellen einer Liste mit allen Wörtern aus jeden einzelnen Tweet.</p>"
   ]
  },
  {
   "cell_type": "code",
   "execution_count": null,
   "id": "e18f48c3-9f65-4344-97f8-0fa070dacf58",
   "metadata": {},
   "outputs": [],
   "source": [
    "text_list = []\n",
    "for each in lemma_list:\n",
    "    for word in re.sub('\\W+', ' ', each).lower().split():\n",
    "        if word not in german_stop_words:\n",
    "            text_list.append(word)"
   ]
  },
  {
   "cell_type": "markdown",
   "id": "ed8bf80a-e032-4a3e-b4eb-c910090b4719",
   "metadata": {},
   "source": [
    "<p>Die Liste wird nun zu einer Pandas Serie um hier leichter Informationen zu erhalten. Im Anschluss wird die Serie zu einem Dataframe, bei dem die Spalten \"Word\" und \"Count\" heißen.</p>"
   ]
  },
  {
   "cell_type": "code",
   "execution_count": null,
   "id": "da3e1c08-5604-44af-b45e-64d1aa02528c",
   "metadata": {},
   "outputs": [],
   "source": [
    "text_series = pd.Series(text_list)\n",
    "df_word_count = text_series.value_counts().to_frame().reset_index().rename(columns={\"index\": \"word\", 0: \"count\"})"
   ]
  },
  {
   "cell_type": "markdown",
   "id": "85ab24fe-ba76-4879-97f3-cdf1ff679494",
   "metadata": {},
   "source": [
    "<p>Anzeigen von allen Wörtern, die öfter als 100 Mal in dem Datensatz vorkommen.</p>"
   ]
  },
  {
   "cell_type": "code",
   "execution_count": null,
   "id": "308e7e67-2504-46de-bcdf-2832782ca34d",
   "metadata": {
    "tags": []
   },
   "outputs": [],
   "source": [
    "pd.set_option('display.max_rows', None)\n",
    "df_word_count.loc[df_word_count[\"count\"] >= 100]"
   ]
  },
  {
   "cell_type": "markdown",
   "id": "43cf759f-96d6-43f6-a50e-dce7dd2fdbe6",
   "metadata": {},
   "source": [
    "<p>Überprüfung ob bei auffälligen Wörtern oder Kürzeln die Texte keinen Kontext zu Wirecard haben.</p>\n",
    "<p>Auffällig Begriffe</p>\n",
    "<lu>\n",
    "    <li>FPÖ</li>\n",
    "    <li>amp</li>\n",
    "    <li>wdi</li>\n",
    "</lu>"
   ]
  },
  {
   "cell_type": "code",
   "execution_count": null,
   "id": "ccc8a8cb-85e8-4027-b845-4e2aae200dc9",
   "metadata": {
    "tags": []
   },
   "outputs": [],
   "source": [
    "for each in df_manager.loc[df_manager.text.str.lower().str.contains(\"fpö\")][\"text\"]:\n",
    "    print(each, '\\n')"
   ]
  },
  {
   "cell_type": "code",
   "execution_count": null,
   "id": "21b67366-a13d-4331-95d3-8d5c3f38d526",
   "metadata": {
    "tags": []
   },
   "outputs": [],
   "source": [
    "for each in df_manager.loc[df_manager.text.str.lower().str.contains(\"amp\")][\"text\"]:\n",
    "    print(each, '\\n')"
   ]
  },
  {
   "cell_type": "code",
   "execution_count": null,
   "id": "9d32f4c6-9494-4572-a828-a8aa3b77c818",
   "metadata": {
    "tags": []
   },
   "outputs": [],
   "source": [
    "for each in df_manager.loc[df_manager.text.str.lower().str.contains(\"wdi\")][\"text\"]:\n",
    "    print(each, '\\n')"
   ]
  },
  {
   "cell_type": "markdown",
   "id": "a7c62e4a-5bf9-4935-a27c-0189d3d48655",
   "metadata": {},
   "source": [
    "<p>Der Begriff der in der Stichprobe keinen Bezug zu Wirecard hatte war <b>\"FPÖ\"</b>. Dementsprechend ist der Begriff oben in der ursprünlgichen Verarbeitung mit aufgenommen.</p>"
   ]
  },
  {
   "cell_type": "markdown",
   "id": "9181ea26-775d-4bf6-b772-ac80275483ad",
   "metadata": {
    "tags": []
   },
   "source": [
    "<h2>Test prüfen nach Tweets ohne die Manager</h2>\n",
    "<p>In diesem Abschnitt werden die die Tweets überprüft, in denen die Manager nicht vorkommen. Diese müssen Manuell überprüft werden und anschlißend auch im Kontext zugehöriger Tweets geprüft. <br>Wenn dabei herauskommen sollte, dass die Tweets nicht mit dem Thema zu tun haben, dann werden diese gelöscht. Dies wird bereits oben erledigt.</p>"
   ]
  },
  {
   "cell_type": "markdown",
   "id": "2e72c6f6-abf2-49b9-ac7f-288bc8998989",
   "metadata": {},
   "source": [
    "<p>Ich prüfe auf verbleibende Tweets, in denen weder Markus Braun oder Jan Marsalek genannt werden. Ich prüfe dies auf verschiedene Schreibweisen um die Tweets zu ermitteln, in denen diese Namen nur in Links erwähnt wurden.</p>"
   ]
  },
  {
   "cell_type": "code",
   "execution_count": null,
   "id": "d7e6ae02-a2b5-4692-9e24-46869dab6fe7",
   "metadata": {},
   "outputs": [],
   "source": [
    "df_markus = df_manager.loc[df_manager.text.str.lower().str.contains(\"markus braun|markusbraun\")].reset_index(drop=True)"
   ]
  },
  {
   "cell_type": "code",
   "execution_count": null,
   "id": "472c4ee1-8bd6-480d-8dd6-c1671200063a",
   "metadata": {},
   "outputs": [],
   "source": [
    "df_jan = df_manager.loc[df_manager.text.str.lower().str.contains(\"jan marsalek|janmarsalek\")].reset_index(drop=True)"
   ]
  },
  {
   "cell_type": "code",
   "execution_count": null,
   "id": "7e9efd77-e3f9-41f5-8b97-744729064046",
   "metadata": {
    "tags": []
   },
   "outputs": [],
   "source": [
    "df_markus.head()"
   ]
  },
  {
   "cell_type": "code",
   "execution_count": null,
   "id": "fce7b0d7-ecf0-40a7-9ff6-844d26131bbd",
   "metadata": {
    "tags": []
   },
   "outputs": [],
   "source": [
    "df_jan.head()"
   ]
  },
  {
   "cell_type": "markdown",
   "id": "170e3719-9abd-4a62-8e75-7d51c92ef784",
   "metadata": {},
   "source": [
    "<p>Erhalten der Tweet_IDs und diese werden in einer Liste gespeichert.</p>"
   ]
  },
  {
   "cell_type": "code",
   "execution_count": null,
   "id": "26bc4b9b-47ed-491a-a516-800f9cadfd69",
   "metadata": {},
   "outputs": [],
   "source": [
    "list_markus_jan = []\n",
    "for each in range(len(df_markus)):\n",
    "    list_markus_jan.append(df_markus.iloc[each][\"tweet_id\"])\n",
    "for each in range(len(df_jan)):\n",
    "    list_markus_jan.append(df_jan.iloc[each][\"tweet_id\"])"
   ]
  },
  {
   "cell_type": "code",
   "execution_count": null,
   "id": "856f24e4-29fe-4867-937a-8962019243c2",
   "metadata": {
    "tags": []
   },
   "outputs": [],
   "source": [
    "list_index = []\n",
    "for each in list_markus_jan:\n",
    "    list_index.append(df_manager.loc[df_manager[\"tweet_id\"] == each].index[0])\n",
    "    \n",
    "df_man_with_mark_jan = df_manager.drop(list_index)\n",
    "    #print(df_manager.loc[df_manager[\"tweet_id\"] == each].index[0])\n",
    "df_man_with_mark_jan = df_man_with_mark_jan.reset_index(drop=True)"
   ]
  },
  {
   "cell_type": "code",
   "execution_count": null,
   "id": "3bf92983-6fbe-4c5a-86f6-3e4536616330",
   "metadata": {},
   "outputs": [],
   "source": [
    "df_with_wirecard = df_man_with_mark_jan.loc[df_man_with_mark_jan.text.str.lower().str.contains(\"wirecard\")]"
   ]
  },
  {
   "cell_type": "code",
   "execution_count": null,
   "id": "2288cb96-8664-4168-8fa9-8839bf798b68",
   "metadata": {},
   "outputs": [],
   "source": [
    "list_with_wirecard = []\n",
    "for each in range(len(df_with_wirecard)):\n",
    "    list_with_wirecard.append(df_with_wirecard.iloc[each][\"tweet_id\"])"
   ]
  },
  {
   "cell_type": "code",
   "execution_count": null,
   "id": "829d3663-0146-4fc3-b75a-8160286b9ad3",
   "metadata": {},
   "outputs": [],
   "source": [
    "list_index = []\n",
    "for each in list_with_wirecard:\n",
    "    list_index.append(df_man_with_mark_jan.loc[df_man_with_mark_jan[\"tweet_id\"] == each].index[0])\n",
    "    #print(df_man_with_mark_jan.loc[df_man_with_mark_jan[\"tweet_id\"] == each].index[0])\n",
    "df_man_with_mark_jan = df_man_with_mark_jan.drop(list_index)\n",
    "df_man_with_mark_jan = df_man_with_mark_jan.reset_index(drop=True)"
   ]
  },
  {
   "cell_type": "markdown",
   "id": "9c439e64-e8bc-4a82-898f-a5eb621d84c7",
   "metadata": {},
   "source": [
    "<p>Prüfen von jedem Tweet, ob dieser einen Bezug zum Thema hat</p>"
   ]
  },
  {
   "cell_type": "code",
   "execution_count": null,
   "id": "9b7c8ea2-0ea3-4169-98af-753ae44156f7",
   "metadata": {
    "tags": []
   },
   "outputs": [],
   "source": [
    "for each in range(len(df_man_with_mark_jan)):\n",
    "    print(df_man_with_mark_jan.iloc[each][\"tweet_id\"], \": \", df_man_with_mark_jan.iloc[each][\"text\"])"
   ]
  },
  {
   "cell_type": "code",
   "execution_count": null,
   "id": "db90e417-6362-4dda-821e-6d6225cb5c35",
   "metadata": {},
   "outputs": [],
   "source": [
    "print(len(df_man_with_mark_jan.drop_duplicates(subset=[\"text\"])))"
   ]
  },
  {
   "cell_type": "markdown",
   "id": "468abd3b-3829-405b-ac20-dacaa88b6b8b",
   "metadata": {},
   "source": [
    "<p>Jeden Tweet, der als \"auffällig\" erkannt wurde mit zugehörigen Tweets manuell überprüfen</p>"
   ]
  },
  {
   "cell_type": "code",
   "execution_count": null,
   "id": "a4ed161b-2699-44eb-b05c-1dbfbfcde631",
   "metadata": {
    "tags": []
   },
   "outputs": [],
   "source": [
    "#Text Check up for Tweets without context.\n",
    "tweet = 1130213579490234370\n",
    "print(\"Original: \", df_man_with_mark_jan.loc[df_man_with_mark_jan[\"tweet_id\"] == tweet][\"text\"].values[0], \"\\n\")\n",
    "for each in df_manager.loc[(\n",
    "    df_manager[\"tweet_id\"] == tweet) | (\n",
    "    df_manager[\"conversation_id\"] == df_manager.loc[df_manager[\"tweet_id\"] == tweet][\"conversation_id\"].values[0]) | (\n",
    "    df_manager[\"referenced_tweet_id\"] == tweet) | (\n",
    "    (df_manager[\"referenced_tweet_id\"] == df_manager.loc[df_manager[\"tweet_id\"] == tweet][\"referenced_tweet_id\"].values[0]) & (df_manager[\"referenced_tweet_id\"] != \"None\")) | (\n",
    "    df_manager[\"referenced_tweet_id\"] == df_manager.loc[df_manager[\"tweet_id\"] == tweet][\"conversation_id\"].values[0])][\"text\"].values:\n",
    "    print(each, \"\\n\")"
   ]
  },
  {
   "cell_type": "markdown",
   "id": "796a6377-bc5a-4c2d-8500-4f2d79572ce5",
   "metadata": {},
   "source": [
    "<p>Ermittlung aller Tweets, die nichts mit dem Thema zu tun haben und die nach der manuellen Prüfung nicht in den Datensatz gehören. Alle Tweet_Ids werden in einer Liste gespeichert und im Anschluss gelöscht. Mit den bereits bekannten Tweet_IDs, wird dieser Prozess bereits weiter oben ausgeführt im Abschnitt \"Tweets Löschen ohne Kontext\"</p>"
   ]
  },
  {
   "cell_type": "code",
   "execution_count": null,
   "id": "7772dc96-3750-43cd-b23e-5b126997af82",
   "metadata": {
    "tags": []
   },
   "outputs": [],
   "source": [
    "#Text Check up for Tweet_id for removal\n",
    "list_tweet_id = [701784983829143553, 909831998537158657, 909733713302441984, 909730731932368897, 1115628103487954944, \n",
    "                1115596390133051393, 1112624842493358080, 1131274228521742336, 1130213579490234370, 1207617572126044160, \n",
    "                1265176607905333248, 1273949458808680449, 1285646389771481088, 1285547240447246338, 1285515450584096768, \n",
    "                1285497151125151745, 1284925162836709378, 1279724802782216192]\n",
    "list_tweet_id_remove = []\n",
    "for tweet in list_tweet_id:\n",
    "    for each in df_manager.loc[(\n",
    "        df_manager[\"tweet_id\"] == tweet) | (\n",
    "        df_manager[\"conversation_id\"] == df_manager.loc[df_manager[\"tweet_id\"] == tweet][\"conversation_id\"].values[0]) | (\n",
    "        df_manager[\"referenced_tweet_id\"] == tweet) | (\n",
    "        (df_manager[\"referenced_tweet_id\"] == df_manager.loc[df_manager[\"tweet_id\"] == tweet][\"referenced_tweet_id\"].values[0]) & (df_manager[\"referenced_tweet_id\"] != \"None\")) | (\n",
    "        df_manager[\"referenced_tweet_id\"] == df_manager.loc[df_manager[\"tweet_id\"] == tweet][\"conversation_id\"].values[0])][\"tweet_id\"].values:\n",
    "        print(each, \"\\n\")\n",
    "        if each not in list_tweet_id_remove:\n",
    "            list_tweet_id_remove.append(each)"
   ]
  },
  {
   "cell_type": "code",
   "execution_count": null,
   "id": "fb551c4e-4196-4217-875a-c297800c3f9b",
   "metadata": {},
   "outputs": [],
   "source": []
  },
  {
   "cell_type": "code",
   "execution_count": null,
   "id": "ad5b13d1-4e6a-4e4a-94db-1bfb4046fcc1",
   "metadata": {},
   "outputs": [],
   "source": []
  },
  {
   "cell_type": "code",
   "execution_count": null,
   "id": "1ff4f183-37fe-4edc-bae7-6b9d0ab2b0cf",
   "metadata": {},
   "outputs": [],
   "source": []
  },
  {
   "cell_type": "code",
   "execution_count": null,
   "id": "e8c3b4f9-2539-450a-a7bd-315d7bf4a07f",
   "metadata": {},
   "outputs": [],
   "source": []
  },
  {
   "cell_type": "markdown",
   "id": "24c84ceb-920e-4bde-b6cc-7947c5627336",
   "metadata": {
    "tags": []
   },
   "source": [
    "<h1>TEST</h1>\n",
    "<p>Hier werden unterschieldiche Funktionen getestet.</p>"
   ]
  },
  {
   "cell_type": "code",
   "execution_count": null,
   "id": "114694e6-fa2e-4012-8ced-c3eca8ab28e4",
   "metadata": {
    "tags": []
   },
   "outputs": [],
   "source": [
    "df_de.sample(n = 100)"
   ]
  },
  {
   "cell_type": "code",
   "execution_count": null,
   "id": "465ee41c-0bed-4e18-960c-d5ed489b9864",
   "metadata": {},
   "outputs": [],
   "source": [
    "test_str_strInStr = \"Das ist der Test ob Superkicker korrekt erkannt wird.\""
   ]
  },
  {
   "cell_type": "code",
   "execution_count": null,
   "id": "41f3c81b-6b57-4289-adc1-085579102e54",
   "metadata": {},
   "outputs": [],
   "source": [
    "if \"kicker\" in test_str_strInStr:\n",
    "    print(\"Superkicker\")"
   ]
  },
  {
   "cell_type": "code",
   "execution_count": 63,
   "id": "8783ddfc-bc39-42f7-83fc-096f228fa983",
   "metadata": {},
   "outputs": [
    {
     "name": "stdout",
     "output_type": "stream",
     "text": [
      "0\n",
      "1\n",
      "2\n",
      "3\n",
      "4\n",
      "5\n",
      "6\n",
      "7\n",
      "8\n",
      "9\n",
      "10\n",
      "11\n",
      "12\n",
      "13\n",
      "14\n"
     ]
    }
   ],
   "source": [
    "for each in range(0,15):\n",
    "    print(each)"
   ]
  },
  {
   "cell_type": "code",
   "execution_count": 54,
   "id": "4b13efcb-b87d-437f-ae56-b62c9b0ae1e8",
   "metadata": {},
   "outputs": [
    {
     "data": {
      "text/plain": [
       "Int64Index([  17,   20,   21,   22,   23,   24,   25,   26,   27,   29,\n",
       "            ...\n",
       "            2935, 2936, 2937, 2943, 2948, 2950, 2951, 2960, 2963, 2964],\n",
       "           dtype='int64', length=2127)"
      ]
     },
     "execution_count": 54,
     "metadata": {},
     "output_type": "execute_result"
    }
   ],
   "source": [
    "df_manager.loc[df_manager.text.str.lower().str.contains((\"@_markusbraun | markusbraun\"))].index"
   ]
  },
  {
   "cell_type": "code",
   "execution_count": 211,
   "id": "712bfc3a-2612-4175-a5e3-0529ccebb064",
   "metadata": {},
   "outputs": [
    {
     "name": "stdout",
     "output_type": "stream",
     "text": [
      "ok\n"
     ]
    }
   ],
   "source": [
    "list_single_tweet_id = [719940834028863489, 771966867707682816, 919891703116566529, 1274189525875593218]\n",
    "for each in list_single_tweet_id:\n",
    "    if each in df_manager.loc[df_manager[\"tweet_id\"] == each].values:\n",
    "        print(\"ok\")"
   ]
  },
  {
   "cell_type": "code",
   "execution_count": 191,
   "id": "2d0bcca0-e11a-4076-a04a-0cc7d3fa358d",
   "metadata": {},
   "outputs": [
    {
     "data": {
      "text/html": [
       "<div>\n",
       "<style scoped>\n",
       "    .dataframe tbody tr th:only-of-type {\n",
       "        vertical-align: middle;\n",
       "    }\n",
       "\n",
       "    .dataframe tbody tr th {\n",
       "        vertical-align: top;\n",
       "    }\n",
       "\n",
       "    .dataframe thead th {\n",
       "        text-align: right;\n",
       "    }\n",
       "</style>\n",
       "<table border=\"1\" class=\"dataframe\">\n",
       "  <thead>\n",
       "    <tr style=\"text-align: right;\">\n",
       "      <th></th>\n",
       "      <th>conversation_id</th>\n",
       "      <th>author_id</th>\n",
       "      <th>created_at</th>\n",
       "      <th>tweet_id</th>\n",
       "      <th>lang</th>\n",
       "      <th>retweet_count</th>\n",
       "      <th>reply_count</th>\n",
       "      <th>like_count</th>\n",
       "      <th>quote_count</th>\n",
       "      <th>source</th>\n",
       "      <th>tweet_type</th>\n",
       "      <th>referenced_tweet_id</th>\n",
       "      <th>text</th>\n",
       "    </tr>\n",
       "  </thead>\n",
       "  <tbody>\n",
       "  </tbody>\n",
       "</table>\n",
       "</div>"
      ],
      "text/plain": [
       "Empty DataFrame\n",
       "Columns: [conversation_id, author_id, created_at, tweet_id, lang, retweet_count, reply_count, like_count, quote_count, source, tweet_type, referenced_tweet_id, text]\n",
       "Index: []"
      ]
     },
     "execution_count": 191,
     "metadata": {},
     "output_type": "execute_result"
    }
   ],
   "source": [
    "df_manager.loc[df_manager.text.str.lower().str.contains(\"artist\")]"
   ]
  },
  {
   "cell_type": "code",
   "execution_count": 209,
   "id": "76d17867-6420-4cd1-b7dd-d2d958a96edf",
   "metadata": {},
   "outputs": [],
   "source": [
    "if 719940834028863489 in df_manager.loc[df_manager[\"tweet_id\"] == 719940834028863489].values:\n",
    "    print(\"ok\")"
   ]
  },
  {
   "cell_type": "code",
   "execution_count": 321,
   "id": "7ed7fad1-55c4-4ae6-924b-655df58bb556",
   "metadata": {},
   "outputs": [
    {
     "name": "stdout",
     "output_type": "stream",
     "text": [
      "20\n",
      "23\n"
     ]
    }
   ],
   "source": [
    "list_tweet_id = [719940834028863489, 771966867707682816, 919891703116566529, 730315192559673344, 1085012780053336064, 748146758232879104,\n",
    "                 1275383293504978945, 1121414883512393728, 1288961015351316480, 1284465825915838464, 955660777960230917, 962669158923153409,\n",
    "                 1016245557021507584, 1074388350734340097, 1115926018051792898, 1132148944031457280, 1130223973701246976, 1174984360669278209,\n",
    "                 1220356450809188353, 1255176912202108929]\n",
    "print(len(list_tweet_id))\n",
    "list_new_tweet_id = []\n",
    "for tweet_id in list_tweet_id:\n",
    "    for each in df_manager.loc[df_manager[\"text\"] == df_manager.loc[df_manager[\"tweet_id\"] == tweet_id][\"text\"].values[0]][\"tweet_id\"].values:\n",
    "        if each not in list_new_tweet_id:\n",
    "            list_new_tweet_id.append(each)\n",
    "\n",
    "print(len(list_new_tweet_id))"
   ]
  },
  {
   "cell_type": "code",
   "execution_count": 323,
   "id": "b8f74478-00de-4af8-bd11-b42d30172d61",
   "metadata": {},
   "outputs": [
    {
     "name": "stdout",
     "output_type": "stream",
     "text": [
      "[719940834028863489, 1166388152786984963, 1164615087061196800, 1, 771966867707682816, 919891703116566529, 730315192559673344, 1085012780053336064, 748146758232879104, 1275383293504978945, 1121414883512393728, 1288961015351316480, 1284465825915838464, 955660777960230917, 962669158923153409, 1016245557021507584, 1074388350734340097, 1115926018051792898, 1132148944031457280, 1130223973701246976, 1174984360669278209, 1220356450809188353, 1255176912202108929]\n"
     ]
    }
   ],
   "source": [
    "print(list_new_tweet_id)"
   ]
  },
  {
   "cell_type": "code",
   "execution_count": 329,
   "id": "889fcc60-3752-467f-af54-0d8848c58e4f",
   "metadata": {},
   "outputs": [
    {
     "data": {
      "text/html": [
       "<div>\n",
       "<style scoped>\n",
       "    .dataframe tbody tr th:only-of-type {\n",
       "        vertical-align: middle;\n",
       "    }\n",
       "\n",
       "    .dataframe tbody tr th {\n",
       "        vertical-align: top;\n",
       "    }\n",
       "\n",
       "    .dataframe thead th {\n",
       "        text-align: right;\n",
       "    }\n",
       "</style>\n",
       "<table border=\"1\" class=\"dataframe\">\n",
       "  <thead>\n",
       "    <tr style=\"text-align: right;\">\n",
       "      <th></th>\n",
       "      <th>conversation_id</th>\n",
       "      <th>author_id</th>\n",
       "      <th>created_at</th>\n",
       "      <th>tweet_id</th>\n",
       "      <th>lang</th>\n",
       "      <th>retweet_count</th>\n",
       "      <th>reply_count</th>\n",
       "      <th>like_count</th>\n",
       "      <th>quote_count</th>\n",
       "      <th>source</th>\n",
       "      <th>tweet_type</th>\n",
       "      <th>referenced_tweet_id</th>\n",
       "      <th>text</th>\n",
       "    </tr>\n",
       "  </thead>\n",
       "  <tbody>\n",
       "    <tr>\n",
       "      <th>4</th>\n",
       "      <td>719940834028863489</td>\n",
       "      <td>3040068274</td>\n",
       "      <td>2016-04-12 17:30:45+00:00</td>\n",
       "      <td>719940834028863489</td>\n",
       "      <td>en</td>\n",
       "      <td>0</td>\n",
       "      <td>0</td>\n",
       "      <td>0</td>\n",
       "      <td>0</td>\n",
       "      <td>metal archives updates</td>\n",
       "      <td>None</td>\n",
       "      <td>None</td>\n",
       "      <td>Artist updated: Markus Braun</td>\n",
       "    </tr>\n",
       "    <tr>\n",
       "      <th>2392</th>\n",
       "      <td>1166388152786984963</td>\n",
       "      <td>3040068274</td>\n",
       "      <td>2019-08-27 16:33:00+00:00</td>\n",
       "      <td>1166388152786984963</td>\n",
       "      <td>en</td>\n",
       "      <td>0</td>\n",
       "      <td>0</td>\n",
       "      <td>0</td>\n",
       "      <td>0</td>\n",
       "      <td>metal archives updates</td>\n",
       "      <td>None</td>\n",
       "      <td>None</td>\n",
       "      <td>Artist updated: Markus Braun</td>\n",
       "    </tr>\n",
       "  </tbody>\n",
       "</table>\n",
       "</div>"
      ],
      "text/plain": [
       "          conversation_id   author_id                created_at  \\\n",
       "4      719940834028863489  3040068274 2016-04-12 17:30:45+00:00   \n",
       "2392  1166388152786984963  3040068274 2019-08-27 16:33:00+00:00   \n",
       "\n",
       "                 tweet_id lang  retweet_count  reply_count  like_count  \\\n",
       "4      719940834028863489   en              0            0           0   \n",
       "2392  1166388152786984963   en              0            0           0   \n",
       "\n",
       "      quote_count                  source tweet_type referenced_tweet_id  \\\n",
       "4               0  metal archives updates       None                None   \n",
       "2392            0  metal archives updates       None                None   \n",
       "\n",
       "                               text  \n",
       "4     Artist updated: Markus Braun   \n",
       "2392  Artist updated: Markus Braun   "
      ]
     },
     "execution_count": 329,
     "metadata": {},
     "output_type": "execute_result"
    }
   ],
   "source": [
    "df_manager.loc[(df_manager[\"tweet_id\"] == 719940834028863489 ) | (df_manager[\"tweet_id\"] == 1166388152786984963)]"
   ]
  },
  {
   "cell_type": "code",
   "execution_count": 296,
   "id": "d4b776a9-9bf1-459f-9e6f-5d80a0ccb898",
   "metadata": {},
   "outputs": [
    {
     "name": "stderr",
     "output_type": "stream",
     "text": [
      "/var/folders/3r/0dwb2f6j0f39f4r2j9yyjf180000gn/T/ipykernel_1162/1963416325.py:1: FutureWarning: The frame.append method is deprecated and will be removed from pandas in a future version. Use pandas.concat instead.\n",
      "  df_manager = df_manager.append(df_manager.loc[df_manager[\"tweet_id\"] == 719940834028863489], ignore_index=True)\n"
     ]
    }
   ],
   "source": [
    "df_manager = df_manager.append(df_manager.loc[df_manager[\"tweet_id\"] == 719940834028863489], ignore_index=True)"
   ]
  },
  {
   "cell_type": "code",
   "execution_count": 308,
   "id": "6697dcae-1337-45af-ba04-adcd52ef0432",
   "metadata": {},
   "outputs": [
    {
     "data": {
      "text/html": [
       "<div>\n",
       "<style scoped>\n",
       "    .dataframe tbody tr th:only-of-type {\n",
       "        vertical-align: middle;\n",
       "    }\n",
       "\n",
       "    .dataframe tbody tr th {\n",
       "        vertical-align: top;\n",
       "    }\n",
       "\n",
       "    .dataframe thead th {\n",
       "        text-align: right;\n",
       "    }\n",
       "</style>\n",
       "<table border=\"1\" class=\"dataframe\">\n",
       "  <thead>\n",
       "    <tr style=\"text-align: right;\">\n",
       "      <th></th>\n",
       "      <th>conversation_id</th>\n",
       "      <th>author_id</th>\n",
       "      <th>created_at</th>\n",
       "      <th>tweet_id</th>\n",
       "      <th>lang</th>\n",
       "      <th>retweet_count</th>\n",
       "      <th>reply_count</th>\n",
       "      <th>like_count</th>\n",
       "      <th>quote_count</th>\n",
       "      <th>source</th>\n",
       "      <th>tweet_type</th>\n",
       "      <th>referenced_tweet_id</th>\n",
       "      <th>text</th>\n",
       "    </tr>\n",
       "  </thead>\n",
       "  <tbody>\n",
       "    <tr>\n",
       "      <th>4</th>\n",
       "      <td>719940834028863489</td>\n",
       "      <td>3040068274</td>\n",
       "      <td>2016-04-12 17:30:45+00:00</td>\n",
       "      <td>719940834028863489</td>\n",
       "      <td>en</td>\n",
       "      <td>0</td>\n",
       "      <td>0</td>\n",
       "      <td>0</td>\n",
       "      <td>0</td>\n",
       "      <td>metal archives updates</td>\n",
       "      <td>None</td>\n",
       "      <td>None</td>\n",
       "      <td>Artist updated: Markus Braun</td>\n",
       "    </tr>\n",
       "  </tbody>\n",
       "</table>\n",
       "</div>"
      ],
      "text/plain": [
       "      conversation_id   author_id                created_at  \\\n",
       "4  719940834028863489  3040068274 2016-04-12 17:30:45+00:00   \n",
       "\n",
       "             tweet_id lang  retweet_count  reply_count  like_count  \\\n",
       "4  719940834028863489   en              0            0           0   \n",
       "\n",
       "   quote_count                  source tweet_type referenced_tweet_id  \\\n",
       "4            0  metal archives updates       None                None   \n",
       "\n",
       "                            text  \n",
       "4  Artist updated: Markus Braun   "
      ]
     },
     "execution_count": 308,
     "metadata": {},
     "output_type": "execute_result"
    }
   ],
   "source": [
    "df_manager.loc[df_manager[\"tweet_id\"] == 719940834028863489]"
   ]
  },
  {
   "cell_type": "code",
   "execution_count": 300,
   "id": "babfd584-be71-4985-8adf-7c40651133f8",
   "metadata": {},
   "outputs": [],
   "source": [
    "df_manager.at[17844, \"tweet_id\"] = 1"
   ]
  },
  {
   "cell_type": "code",
   "execution_count": 301,
   "id": "524f72bb-5411-4c5d-a063-81c651a24e25",
   "metadata": {},
   "outputs": [
    {
     "data": {
      "text/plain": [
       "conversation_id                   719940834028863489\n",
       "author_id                                 3040068274\n",
       "created_at                 2016-04-12 17:30:45+00:00\n",
       "tweet_id                                           1\n",
       "lang                                              en\n",
       "retweet_count                                      0\n",
       "reply_count                                        0\n",
       "like_count                                         0\n",
       "quote_count                                        0\n",
       "source                        metal archives updates\n",
       "tweet_type                                      None\n",
       "referenced_tweet_id                             None\n",
       "text                   Artist updated: Markus Braun \n",
       "Name: 17844, dtype: object"
      ]
     },
     "execution_count": 301,
     "metadata": {},
     "output_type": "execute_result"
    }
   ],
   "source": [
    "df_manager.iloc[17844]"
   ]
  },
  {
   "cell_type": "code",
   "execution_count": null,
   "id": "d8594947-a1a4-4cf9-93d5-a74f5c462f7e",
   "metadata": {},
   "outputs": [],
   "source": []
  }
 ],
 "metadata": {
  "kernelspec": {
   "display_name": "master_thesis_3.9.10",
   "language": "python",
   "name": "master_thesis_3.9.10"
  },
  "language_info": {
   "codemirror_mode": {
    "name": "ipython",
    "version": 3
   },
   "file_extension": ".py",
   "mimetype": "text/x-python",
   "name": "python",
   "nbconvert_exporter": "python",
   "pygments_lexer": "ipython3",
   "version": "3.9.10"
  }
 },
 "nbformat": 4,
 "nbformat_minor": 5
}
