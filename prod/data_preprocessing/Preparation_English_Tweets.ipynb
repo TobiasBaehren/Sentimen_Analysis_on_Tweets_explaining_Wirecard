{
 "cells": [
  {
   "cell_type": "markdown",
   "id": "f6ae1ac2-0b2c-4578-9694-7040882deec9",
   "metadata": {},
   "source": [
    "<h1>Preparation of the English Twitter Data</h1>"
   ]
  },
  {
   "cell_type": "markdown",
   "id": "a323e70f-92a0-45e4-845f-b9d5aaa92fbb",
   "metadata": {},
   "source": [
    "<p>This file is for preparing the german tweets. The preparation is mainly for training my own model for sentiment detection with Flair. </p>"
   ]
  },
  {
   "cell_type": "code",
   "execution_count": 1,
   "id": "5d435d73-8df6-4ae8-8694-a8e75747958f",
   "metadata": {},
   "outputs": [],
   "source": [
    "import csv\n",
    "import numpy as np\n",
    "import pandas as pd\n",
    "import re\n",
    "import nltk\n",
    "from nltk.corpus import stopwords\n",
    "from wordcloud import WordCloud\n",
    "import matplotlib.pyplot as plt\n",
    "from HanTa import HanoverTagger as ht"
   ]
  },
  {
   "cell_type": "markdown",
   "id": "fba70b51-726a-477a-bfce-9f62ea40b0f7",
   "metadata": {},
   "source": [
    "<p>Download der Stopwörter Listen</p>"
   ]
  },
  {
   "cell_type": "code",
   "execution_count": 2,
   "id": "2f508d8d-486d-46f5-9b43-b6f1e4dcdb64",
   "metadata": {},
   "outputs": [],
   "source": [
    "#nltk.download('stopwords')"
   ]
  },
  {
   "cell_type": "markdown",
   "id": "75921e4f-1906-4f14-b6b4-0ee534677d54",
   "metadata": {},
   "source": [
    "<h1>Einlesen und bestimmung der Felder</h1>\n",
    "<p>Durch die weitern Operatoren, kann ich die einzelnen Felder in DF bestimmen. Durch die Lambda Funktion werden die Str zu Listen, was die spätere verarbeitung erleichtert. \n",
    "    Durch die Parse_dates Funktion wird das Datumsfeld zu einem Timestamp, was die weiter Verarbeitung wesentlich leichter macht.</p>"
   ]
  },
  {
   "cell_type": "code",
   "execution_count": 3,
   "id": "2e546077-cd87-49e0-b3a3-4cb63f9f353c",
   "metadata": {},
   "outputs": [],
   "source": [
    "df_manager = pd.read_csv(\"/Users/tobias/Dev/FOM/Master_Thesis/data/Raw_File/Manager_EN/data.csv\", sep=\";\", \n",
    "                            converters={\"tweet_type\": lambda x: x.strip(\"[]\").replace(\"'\", \"\").split(\", \"),\n",
    "                                        \"referenced_tweet_id\": lambda x: x.strip(\"[]\").replace(\"'\", \"\").split(\", \")},\n",
    "                           parse_dates=[\"created_at\"])\n",
    "df_manager = df_manager.explode([\"referenced_tweet_id\", \"tweet_type\"], ignore_index=True)"
   ]
  },
  {
   "cell_type": "code",
   "execution_count": 4,
   "id": "112a0b0d-5dda-4530-a948-39d0b2264a74",
   "metadata": {},
   "outputs": [
    {
     "data": {
      "text/plain": [
       "17844"
      ]
     },
     "execution_count": 4,
     "metadata": {},
     "output_type": "execute_result"
    }
   ],
   "source": [
    "len(df_manager)"
   ]
  },
  {
   "cell_type": "markdown",
   "id": "afc009d8-9b2e-491f-8e13-b4e8b7658a44",
   "metadata": {},
   "source": [
    "<h3>Löschen von unnötigen Informationen</h3>"
   ]
  },
  {
   "cell_type": "markdown",
   "id": "59f85854-849b-4e8f-b2a0-6bd66cd16083",
   "metadata": {},
   "source": [
    "<p>Hiermit werden alle Textbausteine gelöscht, die nicht benötigt werden. Personen bleiben in diesem Schritt noch enthalten.</p>"
   ]
  },
  {
   "cell_type": "code",
   "execution_count": 5,
   "id": "b40ee800-6278-4bb6-84af-4b70f59ff94b",
   "metadata": {},
   "outputs": [],
   "source": [
    "#just for test\n",
    "for each in range(len(df_manager)):\n",
    "    df_manager.loc[df_manager[\"text\"] == \n",
    "                      df_manager.loc[each][\"text\"], \"text\"] = re.sub(r'http\\S+', '',(re.sub('[#|$|\\r]', '', df_manager.loc[each][\"text\"])))"
   ]
  },
  {
   "cell_type": "markdown",
   "id": "d33fa8c2-c3a8-4377-bec3-336dfb42db39",
   "metadata": {
    "tags": []
   },
   "source": [
    "<h1>Löschen von nicht weiter relevanten Tweets</h1>\n",
    "<h3>Löschen von Retweets</h3>\n",
    "<p>Alle Retweets löschen, da diese in diesem Schritt nicht benötigt werden.</p>"
   ]
  },
  {
   "cell_type": "code",
   "execution_count": 6,
   "id": "80f62e59-e2bb-485a-a2c1-6a4df6a68f66",
   "metadata": {},
   "outputs": [
    {
     "name": "stdout",
     "output_type": "stream",
     "text": [
      "9473\n"
     ]
    }
   ],
   "source": [
    "counter = 0\n",
    "retweet_list = []\n",
    "for each in range(len(df_manager)):\n",
    "    if \"retweeted\" in df_manager.iloc[each][\"tweet_type\"]:\n",
    "        retweet_list.append(each)\n",
    "        counter += 1\n",
    "print(counter)"
   ]
  },
  {
   "cell_type": "code",
   "execution_count": 7,
   "id": "d5b331e1-be63-4506-a5c0-ef67f8f3dffb",
   "metadata": {},
   "outputs": [
    {
     "name": "stdout",
     "output_type": "stream",
     "text": [
      "8371\n"
     ]
    }
   ],
   "source": [
    "df_manager = df_manager.drop(retweet_list)\n",
    "df_manager = df_manager.reset_index(drop=True)\n",
    "print(len(df_manager))"
   ]
  },
  {
   "cell_type": "markdown",
   "id": "c96102ab-51d8-4d27-93d7-58f58db774f7",
   "metadata": {
    "tags": []
   },
   "source": [
    "<h3>Löschen von doppelten Tweets</h3>\n",
    "<p>Alle Tweets, die dopplet im Datensatz enthalten sind, anhand der tweet_id werden gelöscht. Somit werden auch die zuvor aufgespalteten Listen wieder gelöscht</p>"
   ]
  },
  {
   "cell_type": "code",
   "execution_count": 8,
   "id": "103a126a-a979-422b-8428-37cb8f75fc4a",
   "metadata": {},
   "outputs": [
    {
     "name": "stdout",
     "output_type": "stream",
     "text": [
      "8328\n"
     ]
    }
   ],
   "source": [
    "df_manager = df_manager.drop_duplicates(subset=[\"tweet_id\"])\n",
    "df_manager = df_manager.reset_index(drop=True)\n",
    "print(len(df_manager))"
   ]
  },
  {
   "cell_type": "markdown",
   "id": "5d5f94c7-ad5a-4fe2-98f0-ce3ab26e5dc7",
   "metadata": {},
   "source": [
    "<h3>Nicht Kontextbezogene Tweets löschen</h3>\n",
    "<p>So kann ich prüfen ob bestimmte Begriffe in den Texten enthalten sind und mir die conversation_id ausgeben lassen. Diese lasse ich dann löschen und auch zugehörige Tweets, da diese nicht in den Kontext passen.<br>Die wörter in der Liste müssen klein geschrieben werden, da auch alle Buchstaben für die Prüfung klein geschrieben werden müssen, da sinst nicht alles erkannt wird.</p>\n",
    "<p>Zu löschende Begriffe</p>\n",
    "<ul>\n",
    "    <li>meiko</li>\n",
    "    <li>calisthenics</li>\n",
    "    <li>pulled</li>\n",
    "    <li>boxing</li>\n",
    "    <li>fom</li>\n",
    "    <li>dlr</li>\n",
    "    <li>eurocity</li>\n",
    "    <li>m.o.s.s</li>\n",
    "    <li>markus_braun_</li>\n",
    "</ul>"
   ]
  },
  {
   "cell_type": "markdown",
   "id": "38f805e3-4e62-46b7-a375-46a4ca1ff4cf",
   "metadata": {},
   "source": [
    "<p>Überprüfung der englischen Tweets. Im ersten Schritt wurden die Retweets gelöscht, dann alle doppelten Tweets. Anschließend gab es eine Liste mit Begriffen, die definitiv etwas mit dem Thema zu tun hatten. Diese wurden aus dem Datensatz zur prüfung gelöscht. Darauf folgte eine Liste mit Begriffen, die nichts mit dem Thema zu tun haben und deswegen gelöscht werden. Abschließend wurden zu überprüfungszwecken Tweets mit doppelten Texten gelöscht und im Anschluss einzelne Tweet ID gelöscht.</p>"
   ]
  },
  {
   "cell_type": "code",
   "execution_count": 9,
   "id": "402476d4-2d97-4fe2-b562-94f62ffbd95f",
   "metadata": {},
   "outputs": [],
   "source": [
    "#List with single IDs, which are not relevant for the dataset\n",
    "list_tweet_id = [719940834028863489, 719940834028863489, 919891703116566529, 730315192559673344, 1085012780053336064, 748146758232879104,\n",
    "                 1275383293504978945, 1121414883512393728, 1288961015351316480, 1284465825915838464, 955660777960230917, 962669158923153409,\n",
    "                 1016245557021507584, 1074388350734340097, 1115926018051792898, 1132148944031457280, 1130223973701246976, 1174984360669278209,\n",
    "                 1220356450809188353, 1255176912202108929]\n",
    "\n",
    "#Check and get tweet_ids for tweets with the same text as in the list_tweet_id.\n",
    "for tweet_id in list_tweet_id:\n",
    "    for each in df_manager.loc[df_manager[\"text\"] == df_manager.loc[df_manager[\"tweet_id\"] == tweet_id][\"text\"].values[0]][\"tweet_id\"].values:\n",
    "        if each not in list_tweet_id:\n",
    "            list_tweet_id.append(each)\n",
    "            \n",
    "#List of words which does not have anything to do with wirecard.\n",
    "not_used_words_list = [\"meiko\", \"calisthenics\", \"pulled pork\", \"boxing\", \" fom\", \"dlr\", \"eurocity\", \"m.o.s.s\", \"markus_braun_\"]\n",
    "\n",
    "#Iterate though the dataframe to get each tweet_id and save it in the list_tweet_id\n",
    "for each in range(len(df_manager)):\n",
    "    for word in not_used_words_list:\n",
    "        if word in df_manager.iloc[each][\"text\"].lower():\n",
    "            if df_manager.iloc[each][\"tweet_id\"] not in list_tweet_id:\n",
    "                list_tweet_id.append(df_manager.iloc[each][\"tweet_id\"])\n",
    "\n",
    "\n",
    "#Get further tweet_ids for every tweet_id that is stored in list_tweet_id\n",
    "for tweet in list_tweet_id:\n",
    "    for each in df_manager.loc[(\n",
    "        df_manager[\"tweet_id\"] == tweet) | (\n",
    "        df_manager[\"conversation_id\"] == df_manager.loc[df_manager[\"tweet_id\"] == tweet][\"conversation_id\"].values[0]) | (\n",
    "        df_manager[\"referenced_tweet_id\"] == tweet) | (\n",
    "        (df_manager[\"referenced_tweet_id\"] == df_manager.loc[df_manager[\"tweet_id\"] == tweet][\"referenced_tweet_id\"].values[0]) & (df_manager[\"referenced_tweet_id\"] != \"None\")) | (\n",
    "        df_manager[\"referenced_tweet_id\"] == df_manager.loc[df_manager[\"tweet_id\"] == tweet][\"conversation_id\"].values[0])][\"tweet_id\"].values:\n",
    "        #If the value is not in the list, it will be added to the list_tweet_id\n",
    "        if each not in list_tweet_id:\n",
    "            list_tweet_id.append(each)"
   ]
  },
  {
   "cell_type": "markdown",
   "id": "01b47f1b-0305-42f7-8bfc-3b43ae47bce3",
   "metadata": {},
   "source": [
    "<p>Löschen der zuvor ermitteletn Tweets.</p>"
   ]
  },
  {
   "cell_type": "code",
   "execution_count": 10,
   "id": "71b72b38-e7df-4074-abd1-2b2090641012",
   "metadata": {},
   "outputs": [],
   "source": [
    "#Iterate through list_tweet_id and remove every tweet, that has nothing to do with Wirecard.\n",
    "for each in list_tweet_id:\n",
    "    df_manager = df_manager.drop(df_manager.loc[df_manager[\"tweet_id\"] == each].index[0])\n",
    "#Set back the index. Otherwise it will not be possible to work with the index any loner. \n",
    "df_manager = df_manager.reset_index(drop=True)"
   ]
  },
  {
   "cell_type": "code",
   "execution_count": 11,
   "id": "670e937e-c3a9-4a46-95f4-bdfd236a7218",
   "metadata": {},
   "outputs": [
    {
     "name": "stdout",
     "output_type": "stream",
     "text": [
      "8275\n"
     ]
    }
   ],
   "source": [
    "for each in range(len(df_manager)):\n",
    "    df_manager.loc[df_manager[\"text\"] == \n",
    "                      df_manager.loc[each][\"text\"], \"text\"] = re.sub('@[^\\s]+', '', df_manager.loc[each][\"text\"])\n",
    "print(len(df_manager))"
   ]
  },
  {
   "cell_type": "markdown",
   "id": "ff0a4d59-63b2-4121-97fb-d5276c65aa4a",
   "metadata": {
    "tags": []
   },
   "source": [
    "<h1>Hinzufügen weiterer Twitter Datensätze</h1>\n",
    "<p>Hier werden die weiteren Datensätze zusammengeführt.</p>"
   ]
  },
  {
   "cell_type": "markdown",
   "id": "7d5aba98-5700-4215-8a5c-9b0a410e626a",
   "metadata": {
    "tags": []
   },
   "source": [
    "<h2>Datensatz mit Abfrage nach Wirecard</h2>"
   ]
  },
  {
   "cell_type": "code",
   "execution_count": 12,
   "id": "3c7fa0ad-611d-4adc-b000-c96812f6b141",
   "metadata": {},
   "outputs": [],
   "source": [
    "df_wirecard = pd.read_csv(\"/Users/tobias/Dev/FOM/Master_Thesis/data/Raw_File/Wirecard_EN/data.csv\", sep=\";\", \n",
    "                            converters={\"tweet_type\": lambda x: x.strip(\"[]\").replace(\"'\", \"\").split(\", \"),\n",
    "                                        \"referenced_tweet_id\": lambda x: x.strip(\"[]\").replace(\"'\", \"\").split(\", \")},\n",
    "                           parse_dates=[\"created_at\"])\n",
    "df_wirecard = df_wirecard.explode([\"referenced_tweet_id\", \"tweet_type\"], ignore_index=True)\n"
   ]
  },
  {
   "cell_type": "code",
   "execution_count": 13,
   "id": "100d86bb-8f22-4dab-ac37-00156a6cc97c",
   "metadata": {},
   "outputs": [
    {
     "name": "stdout",
     "output_type": "stream",
     "text": [
      "204188\n"
     ]
    }
   ],
   "source": [
    "for each in range(len(df_wirecard)):\n",
    "    df_wirecard.loc[df_wirecard[\"text\"] == \n",
    "                      df_wirecard.loc[each][\"text\"], \"text\"] = re.sub(r'http\\S+', '', \n",
    "                                                                        (re.sub('@[^\\s]+', '',\n",
    "                                                                                re.sub('[#|$|\\r]', '', \n",
    "                                                                                       df_wirecard.loc[each][\"text\"]))))\n",
    "print(len(df_wirecard))"
   ]
  },
  {
   "cell_type": "markdown",
   "id": "c8a12eb0-3bb1-4ce3-98ef-db42d57e83ff",
   "metadata": {},
   "source": [
    "<h3>Löschen von Retweets</h3>"
   ]
  },
  {
   "cell_type": "code",
   "execution_count": 14,
   "id": "e4fc93b0-f0b1-4d58-8278-2a746f4243bf",
   "metadata": {},
   "outputs": [
    {
     "name": "stdout",
     "output_type": "stream",
     "text": [
      "95717\n",
      "108471\n"
     ]
    }
   ],
   "source": [
    "counter = 0\n",
    "retweet_list = []\n",
    "for each in range(len(df_wirecard)):\n",
    "    if \"retweeted\" in df_wirecard.iloc[each][\"tweet_type\"]:\n",
    "        retweet_list.append(each)\n",
    "        counter += 1\n",
    "print(counter)\n",
    "df_wirecard = df_wirecard.drop(retweet_list)\n",
    "df_wirecard = df_wirecard.reset_index(drop=True)\n",
    "print(len(df_wirecard))"
   ]
  },
  {
   "cell_type": "markdown",
   "id": "bd3a4a25-8180-4316-8f90-19876252faed",
   "metadata": {},
   "source": [
    "<h3>Löschen von doppelten Einträgen</h3>"
   ]
  },
  {
   "cell_type": "code",
   "execution_count": 15,
   "id": "0c828f16-d644-4bbb-874a-c7d36f934fa5",
   "metadata": {},
   "outputs": [
    {
     "name": "stdout",
     "output_type": "stream",
     "text": [
      "108218\n"
     ]
    }
   ],
   "source": [
    "df_wirecard = df_wirecard.drop_duplicates(subset=[\"tweet_id\"])\n",
    "df_wirecard = df_wirecard.reset_index(drop=True)\n",
    "print(len(df_wirecard))"
   ]
  },
  {
   "cell_type": "markdown",
   "id": "9ee7d13a-0b03-4c9f-b0d6-8f4299e3ef04",
   "metadata": {
    "tags": []
   },
   "source": [
    "<h2>Abfrage nach Chashtag Wirecard</h2>"
   ]
  },
  {
   "cell_type": "code",
   "execution_count": 16,
   "id": "20ce3d55-9fba-4ecf-bc99-0a56c5a877b1",
   "metadata": {},
   "outputs": [],
   "source": [
    "df_wrcdf = pd.read_csv(\"/Users/tobias/Dev/FOM/Master_Thesis/data/Raw_File/WRCDF_EN/data.csv\", sep=\";\", \n",
    "                            converters={\"tweet_type\": lambda x: x.strip(\"[]\").replace(\"'\", \"\").split(\", \"),\n",
    "                                        \"referenced_tweet_id\": lambda x: x.strip(\"[]\").replace(\"'\", \"\").split(\", \")},\n",
    "                           parse_dates=[\"created_at\"])\n",
    "df_wrcdf = df_wrcdf.explode([\"referenced_tweet_id\", \"tweet_type\"], ignore_index=True)\n"
   ]
  },
  {
   "cell_type": "code",
   "execution_count": 17,
   "id": "48c10287-6bb7-45e7-b872-737598a82975",
   "metadata": {},
   "outputs": [
    {
     "name": "stdout",
     "output_type": "stream",
     "text": [
      "1260\n"
     ]
    }
   ],
   "source": [
    "for each in range(len(df_wrcdf)):\n",
    "    df_wrcdf.loc[df_wrcdf[\"text\"] == \n",
    "                      df_wrcdf.loc[each][\"text\"], \"text\"] = re.sub(r'http\\S+', '', \n",
    "                                                                        (re.sub('@[^\\s]+', '',\n",
    "                                                                                re.sub('[#|$|\\r]', '', \n",
    "                                                                                       df_wrcdf.loc[each][\"text\"]))))\n",
    "print(len(df_wrcdf))"
   ]
  },
  {
   "cell_type": "markdown",
   "id": "181ecce0-933b-4073-adf2-b145a6f3a9c1",
   "metadata": {},
   "source": [
    "<h3>Löschen von Retweets</h3>"
   ]
  },
  {
   "cell_type": "code",
   "execution_count": 18,
   "id": "b6401d8c-151e-4f1a-b7f5-e52e1d267e47",
   "metadata": {},
   "outputs": [
    {
     "name": "stdout",
     "output_type": "stream",
     "text": [
      "250\n",
      "1010\n"
     ]
    }
   ],
   "source": [
    "counter = 0\n",
    "retweet_list = []\n",
    "for each in range(len(df_wrcdf)):\n",
    "    if \"retweeted\" in df_wrcdf.iloc[each][\"tweet_type\"]:\n",
    "        retweet_list.append(each)\n",
    "        counter += 1\n",
    "print(counter)\n",
    "df_wrcdf = df_wrcdf.drop(retweet_list)\n",
    "df_wrcdf = df_wrcdf.reset_index(drop=True)\n",
    "print(len(df_wrcdf))"
   ]
  },
  {
   "cell_type": "markdown",
   "id": "ad732ea1-75ce-47ad-a0c2-a5b3baa53a8f",
   "metadata": {},
   "source": [
    "<h3>Löschen von doppelten Tweets</h3>"
   ]
  },
  {
   "cell_type": "code",
   "execution_count": 19,
   "id": "287957b8-f3b3-4b95-ac71-aab5a92a2352",
   "metadata": {},
   "outputs": [
    {
     "name": "stdout",
     "output_type": "stream",
     "text": [
      "1010\n"
     ]
    }
   ],
   "source": [
    "df_wrcdf = df_wrcdf.drop_duplicates(subset=[\"tweet_id\"])\n",
    "df_wrcdf = df_wrcdf.reset_index(drop=True)\n",
    "print(len(df_wrcdf))"
   ]
  },
  {
   "cell_type": "markdown",
   "id": "f269bdc2-f185-4241-9bbe-5a65d1c81ff7",
   "metadata": {
    "tags": []
   },
   "source": [
    "<h1>Zusammenführen der Datensätze</h1>"
   ]
  },
  {
   "cell_type": "code",
   "execution_count": 20,
   "id": "8634609f-954b-45e5-8ad7-3de434cf0a51",
   "metadata": {},
   "outputs": [
    {
     "name": "stdout",
     "output_type": "stream",
     "text": [
      "117503\n"
     ]
    }
   ],
   "source": [
    "list_data_frames = [df_manager, df_wirecard, df_wrcdf]\n",
    "df = pd.concat(list_data_frames, ignore_index=True)\n",
    "print(len(df))"
   ]
  },
  {
   "cell_type": "markdown",
   "id": "9d85d378-7b4d-4512-b582-b5f2d2808657",
   "metadata": {},
   "source": [
    "<h3>Löschen der doppelten Posts</h3>\n",
    "<p>Dadurch, dass die Abfrage durch mehrere Querys erfolgt ist, befinden sich einige Tweets doppelt in dem Datensatz. Diese werden hier anhand der <b>\"tweet_id\"</b> gelöscht. </p>"
   ]
  },
  {
   "cell_type": "code",
   "execution_count": 21,
   "id": "d084c4d1-97af-42f1-9943-401dc7e8dcba",
   "metadata": {},
   "outputs": [
    {
     "name": "stdout",
     "output_type": "stream",
     "text": [
      "111199\n"
     ]
    }
   ],
   "source": [
    "df = df.drop_duplicates(subset=[\"tweet_id\"])\n",
    "df = df.reset_index(drop=True)\n",
    "print(len(df))"
   ]
  },
  {
   "cell_type": "markdown",
   "id": "029735d3-5c63-4558-bea5-b8504e1eb5d4",
   "metadata": {},
   "source": [
    "<p>Der neue Datensatz wird auf plausibilität geprüft.</p>"
   ]
  },
  {
   "cell_type": "markdown",
   "id": "b9feceb0-648e-4a1e-b206-496bfa02544a",
   "metadata": {},
   "source": [
    "<p><b>Fertig</b> mit der Vorverarbeitung der Daten in deutsch. Es ist nun ein Datensatz verfügbar mit allen Tweets für den deutschsprachigen Raum. Es sind keine doppelten Tweets enthalten, solange diese keine gleiche tweet_id enthalten. Auch Nutzer und tweets, die nichts zu dem eigentlichen Thema Wirecard beitragen sind nicht mehr im Datensatz enthalten. Vereinzelt können natürlich unnütze Tweets vorhanden sein, aber die Nutzer mit vielen Interaktionen sind überprüft und auch die Begriffe, die besonders oft vorkommen sind überprüft worden, ob diese etwas mit dem Thema zu tun haben.<br>Jetzt muss das gleich noch mit den Englischen tweets geschehen und dann müssen Datensätze zur Überprüfung ausgegeben werden.<br> Um den zufälligen Datensatz zu erstellen sollte ich noch einen zufallszahlengenerator nutzen, sodass ich möglichst zufällige Tweets zum testen erhalte. Hier scheint die Pandas Funktion <b>\"sample\"</b> gut geeignet zu sein. </p>"
   ]
  },
  {
   "cell_type": "code",
   "execution_count": 22,
   "id": "a19ee6d9-7ec6-4e20-a1a6-462df3bbbbb7",
   "metadata": {
    "collapsed": true,
    "jupyter": {
     "outputs_hidden": true
    },
    "tags": []
   },
   "outputs": [
    {
     "data": {
      "text/html": [
       "<div>\n",
       "<style scoped>\n",
       "    .dataframe tbody tr th:only-of-type {\n",
       "        vertical-align: middle;\n",
       "    }\n",
       "\n",
       "    .dataframe tbody tr th {\n",
       "        vertical-align: top;\n",
       "    }\n",
       "\n",
       "    .dataframe thead th {\n",
       "        text-align: right;\n",
       "    }\n",
       "</style>\n",
       "<table border=\"1\" class=\"dataframe\">\n",
       "  <thead>\n",
       "    <tr style=\"text-align: right;\">\n",
       "      <th></th>\n",
       "      <th>conversation_id</th>\n",
       "      <th>author_id</th>\n",
       "      <th>created_at</th>\n",
       "      <th>tweet_id</th>\n",
       "      <th>lang</th>\n",
       "      <th>retweet_count</th>\n",
       "      <th>reply_count</th>\n",
       "      <th>like_count</th>\n",
       "      <th>quote_count</th>\n",
       "      <th>source</th>\n",
       "      <th>tweet_type</th>\n",
       "      <th>referenced_tweet_id</th>\n",
       "      <th>text</th>\n",
       "    </tr>\n",
       "  </thead>\n",
       "  <tbody>\n",
       "    <tr>\n",
       "      <th>43770</th>\n",
       "      <td>1177674365971976198</td>\n",
       "      <td>1095739951478697987</td>\n",
       "      <td>2019-09-27 20:00:23+00:00</td>\n",
       "      <td>1177674365971976198</td>\n",
       "      <td>en</td>\n",
       "      <td>0</td>\n",
       "      <td>0</td>\n",
       "      <td>0</td>\n",
       "      <td>0</td>\n",
       "      <td>Hootsuite Inc.</td>\n",
       "      <td>None</td>\n",
       "      <td>None</td>\n",
       "      <td>Talk CMO  Wirecard Announces New Salesforce Co...</td>\n",
       "    </tr>\n",
       "    <tr>\n",
       "      <th>94112</th>\n",
       "      <td>1288266779962167302</td>\n",
       "      <td>2235329532</td>\n",
       "      <td>2020-07-29 00:15:09+00:00</td>\n",
       "      <td>1288266779962167302</td>\n",
       "      <td>en</td>\n",
       "      <td>0</td>\n",
       "      <td>0</td>\n",
       "      <td>0</td>\n",
       "      <td>0</td>\n",
       "      <td>Twitter Web App</td>\n",
       "      <td>None</td>\n",
       "      <td>None</td>\n",
       "      <td>Wirecard scandal, Mastercard manager in trouble</td>\n",
       "    </tr>\n",
       "    <tr>\n",
       "      <th>32813</th>\n",
       "      <td>1093506439950286848</td>\n",
       "      <td>2603184318</td>\n",
       "      <td>2019-02-08 12:24:26+00:00</td>\n",
       "      <td>1093848026240696320</td>\n",
       "      <td>en</td>\n",
       "      <td>0</td>\n",
       "      <td>0</td>\n",
       "      <td>0</td>\n",
       "      <td>0</td>\n",
       "      <td>Twitter Web Client</td>\n",
       "      <td>replied_to</td>\n",
       "      <td>1093847188004843520</td>\n",
       "      <td>it's not a raid.... Wirecard approached singa...</td>\n",
       "    </tr>\n",
       "    <tr>\n",
       "      <th>13457</th>\n",
       "      <td>770647378571456512</td>\n",
       "      <td>3044159284</td>\n",
       "      <td>2016-08-30 15:40:27+00:00</td>\n",
       "      <td>770647378571456512</td>\n",
       "      <td>en</td>\n",
       "      <td>0</td>\n",
       "      <td>0</td>\n",
       "      <td>0</td>\n",
       "      <td>0</td>\n",
       "      <td>wlst</td>\n",
       "      <td>None</td>\n",
       "      <td>None</td>\n",
       "      <td>Google cloud unit close to winning PayPal busi...</td>\n",
       "    </tr>\n",
       "    <tr>\n",
       "      <th>18248</th>\n",
       "      <td>850619364311269376</td>\n",
       "      <td>42056054</td>\n",
       "      <td>2017-04-08 08:00:34+00:00</td>\n",
       "      <td>850619364311269376</td>\n",
       "      <td>en</td>\n",
       "      <td>18</td>\n",
       "      <td>0</td>\n",
       "      <td>7</td>\n",
       "      <td>1</td>\n",
       "      <td>Agorapulse app</td>\n",
       "      <td>None</td>\n",
       "      <td>None</td>\n",
       "      <td>One of the largest drugstore chains in Germany...</td>\n",
       "    </tr>\n",
       "    <tr>\n",
       "      <th>45564</th>\n",
       "      <td>1184853974299693056</td>\n",
       "      <td>565832571</td>\n",
       "      <td>2019-10-17 17:36:54+00:00</td>\n",
       "      <td>1184886013824512000</td>\n",
       "      <td>en</td>\n",
       "      <td>0</td>\n",
       "      <td>1</td>\n",
       "      <td>2</td>\n",
       "      <td>0</td>\n",
       "      <td>Twitter Web App</td>\n",
       "      <td>replied_to</td>\n",
       "      <td>1184853974299693056</td>\n",
       "      <td>Dude. Nobody is lying. well Wirecard probab...</td>\n",
       "    </tr>\n",
       "    <tr>\n",
       "      <th>97374</th>\n",
       "      <td>1285504670136500225</td>\n",
       "      <td>320888254</td>\n",
       "      <td>2020-07-21 09:19:31+00:00</td>\n",
       "      <td>1285504670136500225</td>\n",
       "      <td>en</td>\n",
       "      <td>0</td>\n",
       "      <td>0</td>\n",
       "      <td>0</td>\n",
       "      <td>0</td>\n",
       "      <td>Twitter Web App</td>\n",
       "      <td>None</td>\n",
       "      <td>None</td>\n",
       "      <td>Wirecard ...</td>\n",
       "    </tr>\n",
       "    <tr>\n",
       "      <th>83134</th>\n",
       "      <td>1274905389298069505</td>\n",
       "      <td>961816966100017152</td>\n",
       "      <td>2020-06-22 04:07:08+00:00</td>\n",
       "      <td>1274916808693370881</td>\n",
       "      <td>en</td>\n",
       "      <td>0</td>\n",
       "      <td>0</td>\n",
       "      <td>0</td>\n",
       "      <td>0</td>\n",
       "      <td>Twitter for iPhone</td>\n",
       "      <td>replied_to</td>\n",
       "      <td>1274905389298069505</td>\n",
       "      <td>Not running well lufthansa Wirecard</td>\n",
       "    </tr>\n",
       "    <tr>\n",
       "      <th>66091</th>\n",
       "      <td>1276471590394478594</td>\n",
       "      <td>228550533</td>\n",
       "      <td>2020-06-27 00:00:27+00:00</td>\n",
       "      <td>1276666669402927105</td>\n",
       "      <td>en</td>\n",
       "      <td>0</td>\n",
       "      <td>1</td>\n",
       "      <td>0</td>\n",
       "      <td>0</td>\n",
       "      <td>Twitter Web App</td>\n",
       "      <td>replied_to</td>\n",
       "      <td>1276659403651977216</td>\n",
       "      <td>No one can know for sure. But I have a ver...</td>\n",
       "    </tr>\n",
       "    <tr>\n",
       "      <th>72002</th>\n",
       "      <td>1276198376451698688</td>\n",
       "      <td>66162566</td>\n",
       "      <td>2020-06-25 16:59:38+00:00</td>\n",
       "      <td>1276198376451698688</td>\n",
       "      <td>en</td>\n",
       "      <td>0</td>\n",
       "      <td>0</td>\n",
       "      <td>0</td>\n",
       "      <td>0</td>\n",
       "      <td>Twitter for iPhone</td>\n",
       "      <td>None</td>\n",
       "      <td>None</td>\n",
       "      <td>Wirecard - There's No Value Here. It's Dead An...</td>\n",
       "    </tr>\n",
       "    <tr>\n",
       "      <th>55281</th>\n",
       "      <td>1262264587958784000</td>\n",
       "      <td>1260615645877735424</td>\n",
       "      <td>2020-05-18 06:11:44+00:00</td>\n",
       "      <td>1262264587958784000</td>\n",
       "      <td>en</td>\n",
       "      <td>0</td>\n",
       "      <td>0</td>\n",
       "      <td>1</td>\n",
       "      <td>0</td>\n",
       "      <td>Twitter for Android</td>\n",
       "      <td>None</td>\n",
       "      <td>None</td>\n",
       "      <td>Customers still believe in Wirecard.</td>\n",
       "    </tr>\n",
       "    <tr>\n",
       "      <th>6133</th>\n",
       "      <td>1273940041606332416</td>\n",
       "      <td>1248904924697632768</td>\n",
       "      <td>2020-06-19 11:25:49+00:00</td>\n",
       "      <td>1273940041606332416</td>\n",
       "      <td>en</td>\n",
       "      <td>0</td>\n",
       "      <td>0</td>\n",
       "      <td>0</td>\n",
       "      <td>0</td>\n",
       "      <td>Index_alert</td>\n",
       "      <td>None</td>\n",
       "      <td>None</td>\n",
       "      <td>Wirecard CEO Markus Braun resigns as company s...</td>\n",
       "    </tr>\n",
       "    <tr>\n",
       "      <th>44989</th>\n",
       "      <td>1186353560671412224</td>\n",
       "      <td>1528627020</td>\n",
       "      <td>2019-10-23 20:46:51+00:00</td>\n",
       "      <td>1187108142041182208</td>\n",
       "      <td>en</td>\n",
       "      <td>0</td>\n",
       "      <td>0</td>\n",
       "      <td>0</td>\n",
       "      <td>0</td>\n",
       "      <td>Twitter Web App</td>\n",
       "      <td>replied_to</td>\n",
       "      <td>1186353560671412224</td>\n",
       "      <td>Waiting patiently I hope we will see the ment...</td>\n",
       "    </tr>\n",
       "    <tr>\n",
       "      <th>58334</th>\n",
       "      <td>1277655813843234817</td>\n",
       "      <td>11014272</td>\n",
       "      <td>2020-06-29 17:30:58+00:00</td>\n",
       "      <td>1277655813843234817</td>\n",
       "      <td>en</td>\n",
       "      <td>1</td>\n",
       "      <td>0</td>\n",
       "      <td>3</td>\n",
       "      <td>0</td>\n",
       "      <td>SocialFlow</td>\n",
       "      <td>None</td>\n",
       "      <td>None</td>\n",
       "      <td>Wirecard’s UK subsidiary scrambles to avoid co...</td>\n",
       "    </tr>\n",
       "    <tr>\n",
       "      <th>29358</th>\n",
       "      <td>1075680266058903552</td>\n",
       "      <td>2281314234</td>\n",
       "      <td>2018-12-20 09:12:15+00:00</td>\n",
       "      <td>1075680266058903552</td>\n",
       "      <td>en</td>\n",
       "      <td>0</td>\n",
       "      <td>0</td>\n",
       "      <td>2</td>\n",
       "      <td>0</td>\n",
       "      <td>bitcoinagile</td>\n",
       "      <td>None</td>\n",
       "      <td>None</td>\n",
       "      <td>Wirecard extends collaboration with Singtel fi...</td>\n",
       "    </tr>\n",
       "    <tr>\n",
       "      <th>56643</th>\n",
       "      <td>1258822245595611139</td>\n",
       "      <td>930280104</td>\n",
       "      <td>2020-05-08 18:13:05+00:00</td>\n",
       "      <td>1258822245595611139</td>\n",
       "      <td>en</td>\n",
       "      <td>0</td>\n",
       "      <td>0</td>\n",
       "      <td>0</td>\n",
       "      <td>0</td>\n",
       "      <td>Twitter Web Client</td>\n",
       "      <td>None</td>\n",
       "      <td>None</td>\n",
       "      <td>Wirecard under investigation over statements t...</td>\n",
       "    </tr>\n",
       "    <tr>\n",
       "      <th>8353</th>\n",
       "      <td>702784212047372288</td>\n",
       "      <td>2791449453</td>\n",
       "      <td>2016-02-25 09:16:27+00:00</td>\n",
       "      <td>702784212047372288</td>\n",
       "      <td>en</td>\n",
       "      <td>1</td>\n",
       "      <td>0</td>\n",
       "      <td>0</td>\n",
       "      <td>0</td>\n",
       "      <td>Twitter Web Client</td>\n",
       "      <td>quoted</td>\n",
       "      <td>702777502733836288</td>\n",
       "      <td>Shares in fintech darling  probably manipulate...</td>\n",
       "    </tr>\n",
       "    <tr>\n",
       "      <th>85424</th>\n",
       "      <td>1274238707705536513</td>\n",
       "      <td>902126235463147520</td>\n",
       "      <td>2020-06-20 07:21:45+00:00</td>\n",
       "      <td>1274241010500022273</td>\n",
       "      <td>en</td>\n",
       "      <td>0</td>\n",
       "      <td>1</td>\n",
       "      <td>3</td>\n",
       "      <td>0</td>\n",
       "      <td>Twitter Web App</td>\n",
       "      <td>replied_to</td>\n",
       "      <td>1274240451751612417</td>\n",
       "      <td>PAY physical cards are also issued by Wirec...</td>\n",
       "    </tr>\n",
       "    <tr>\n",
       "      <th>36907</th>\n",
       "      <td>1122453906368364544</td>\n",
       "      <td>2161206156</td>\n",
       "      <td>2019-04-28 10:54:00+00:00</td>\n",
       "      <td>1122453906368364544</td>\n",
       "      <td>en</td>\n",
       "      <td>0</td>\n",
       "      <td>0</td>\n",
       "      <td>0</td>\n",
       "      <td>0</td>\n",
       "      <td>eClincher</td>\n",
       "      <td>None</td>\n",
       "      <td>None</td>\n",
       "      <td>This Week in Germany 🇩🇪 Large Lender Merger Ca...</td>\n",
       "    </tr>\n",
       "    <tr>\n",
       "      <th>4292</th>\n",
       "      <td>1162622473134907393</td>\n",
       "      <td>1068563533003137025</td>\n",
       "      <td>2020-06-23 20:42:53+00:00</td>\n",
       "      <td>1275529785721176064</td>\n",
       "      <td>en</td>\n",
       "      <td>0</td>\n",
       "      <td>0</td>\n",
       "      <td>1</td>\n",
       "      <td>0</td>\n",
       "      <td>Twitter for iPhone</td>\n",
       "      <td>replied_to</td>\n",
       "      <td>1162622473134907393</td>\n",
       "      <td>You and Elon have a few things on common.</td>\n",
       "    </tr>\n",
       "  </tbody>\n",
       "</table>\n",
       "</div>"
      ],
      "text/plain": [
       "           conversation_id            author_id                created_at  \\\n",
       "43770  1177674365971976198  1095739951478697987 2019-09-27 20:00:23+00:00   \n",
       "94112  1288266779962167302           2235329532 2020-07-29 00:15:09+00:00   \n",
       "32813  1093506439950286848           2603184318 2019-02-08 12:24:26+00:00   \n",
       "13457   770647378571456512           3044159284 2016-08-30 15:40:27+00:00   \n",
       "18248   850619364311269376             42056054 2017-04-08 08:00:34+00:00   \n",
       "45564  1184853974299693056            565832571 2019-10-17 17:36:54+00:00   \n",
       "97374  1285504670136500225            320888254 2020-07-21 09:19:31+00:00   \n",
       "83134  1274905389298069505   961816966100017152 2020-06-22 04:07:08+00:00   \n",
       "66091  1276471590394478594            228550533 2020-06-27 00:00:27+00:00   \n",
       "72002  1276198376451698688             66162566 2020-06-25 16:59:38+00:00   \n",
       "55281  1262264587958784000  1260615645877735424 2020-05-18 06:11:44+00:00   \n",
       "6133   1273940041606332416  1248904924697632768 2020-06-19 11:25:49+00:00   \n",
       "44989  1186353560671412224           1528627020 2019-10-23 20:46:51+00:00   \n",
       "58334  1277655813843234817             11014272 2020-06-29 17:30:58+00:00   \n",
       "29358  1075680266058903552           2281314234 2018-12-20 09:12:15+00:00   \n",
       "56643  1258822245595611139            930280104 2020-05-08 18:13:05+00:00   \n",
       "8353    702784212047372288           2791449453 2016-02-25 09:16:27+00:00   \n",
       "85424  1274238707705536513   902126235463147520 2020-06-20 07:21:45+00:00   \n",
       "36907  1122453906368364544           2161206156 2019-04-28 10:54:00+00:00   \n",
       "4292   1162622473134907393  1068563533003137025 2020-06-23 20:42:53+00:00   \n",
       "\n",
       "                  tweet_id lang  retweet_count  reply_count  like_count  \\\n",
       "43770  1177674365971976198   en              0            0           0   \n",
       "94112  1288266779962167302   en              0            0           0   \n",
       "32813  1093848026240696320   en              0            0           0   \n",
       "13457   770647378571456512   en              0            0           0   \n",
       "18248   850619364311269376   en             18            0           7   \n",
       "45564  1184886013824512000   en              0            1           2   \n",
       "97374  1285504670136500225   en              0            0           0   \n",
       "83134  1274916808693370881   en              0            0           0   \n",
       "66091  1276666669402927105   en              0            1           0   \n",
       "72002  1276198376451698688   en              0            0           0   \n",
       "55281  1262264587958784000   en              0            0           1   \n",
       "6133   1273940041606332416   en              0            0           0   \n",
       "44989  1187108142041182208   en              0            0           0   \n",
       "58334  1277655813843234817   en              1            0           3   \n",
       "29358  1075680266058903552   en              0            0           2   \n",
       "56643  1258822245595611139   en              0            0           0   \n",
       "8353    702784212047372288   en              1            0           0   \n",
       "85424  1274241010500022273   en              0            1           3   \n",
       "36907  1122453906368364544   en              0            0           0   \n",
       "4292   1275529785721176064   en              0            0           1   \n",
       "\n",
       "       quote_count               source  tweet_type  referenced_tweet_id  \\\n",
       "43770            0       Hootsuite Inc.        None                 None   \n",
       "94112            0      Twitter Web App        None                 None   \n",
       "32813            0   Twitter Web Client  replied_to  1093847188004843520   \n",
       "13457            0                 wlst        None                 None   \n",
       "18248            1       Agorapulse app        None                 None   \n",
       "45564            0      Twitter Web App  replied_to  1184853974299693056   \n",
       "97374            0      Twitter Web App        None                 None   \n",
       "83134            0   Twitter for iPhone  replied_to  1274905389298069505   \n",
       "66091            0      Twitter Web App  replied_to  1276659403651977216   \n",
       "72002            0   Twitter for iPhone        None                 None   \n",
       "55281            0  Twitter for Android        None                 None   \n",
       "6133             0          Index_alert        None                 None   \n",
       "44989            0      Twitter Web App  replied_to  1186353560671412224   \n",
       "58334            0           SocialFlow        None                 None   \n",
       "29358            0         bitcoinagile        None                 None   \n",
       "56643            0   Twitter Web Client        None                 None   \n",
       "8353             0   Twitter Web Client      quoted   702777502733836288   \n",
       "85424            0      Twitter Web App  replied_to  1274240451751612417   \n",
       "36907            0            eClincher        None                 None   \n",
       "4292             0   Twitter for iPhone  replied_to  1162622473134907393   \n",
       "\n",
       "                                                    text  \n",
       "43770  Talk CMO  Wirecard Announces New Salesforce Co...  \n",
       "94112   Wirecard scandal, Mastercard manager in trouble   \n",
       "32813   it's not a raid.... Wirecard approached singa...  \n",
       "13457  Google cloud unit close to winning PayPal busi...  \n",
       "18248  One of the largest drugstore chains in Germany...  \n",
       "45564     Dude. Nobody is lying. well Wirecard probab...  \n",
       "97374                                      Wirecard ...   \n",
       "83134                Not running well lufthansa Wirecard  \n",
       "66091      No one can know for sure. But I have a ver...  \n",
       "72002  Wirecard - There's No Value Here. It's Dead An...  \n",
       "55281              Customers still believe in Wirecard.   \n",
       "6133   Wirecard CEO Markus Braun resigns as company s...  \n",
       "44989   Waiting patiently I hope we will see the ment...  \n",
       "58334  Wirecard’s UK subsidiary scrambles to avoid co...  \n",
       "29358  Wirecard extends collaboration with Singtel fi...  \n",
       "56643  Wirecard under investigation over statements t...  \n",
       "8353   Shares in fintech darling  probably manipulate...  \n",
       "85424     PAY physical cards are also issued by Wirec...  \n",
       "36907  This Week in Germany 🇩🇪 Large Lender Merger Ca...  \n",
       "4292           You and Elon have a few things on common.  "
      ]
     },
     "execution_count": 22,
     "metadata": {},
     "output_type": "execute_result"
    }
   ],
   "source": [
    "df.sample(n = 20)"
   ]
  },
  {
   "cell_type": "code",
   "execution_count": 23,
   "id": "2729d68b-6805-43b8-9a46-2d633a9a953a",
   "metadata": {},
   "outputs": [
    {
     "data": {
      "text/plain": [
       "'“We use data-driven, innovative technologies so our clients can remove barriers between themselves and their customers.” This is WirecardUSA.    '"
      ]
     },
     "execution_count": 23,
     "metadata": {},
     "output_type": "execute_result"
    }
   ],
   "source": [
    "df.loc[df[\"tweet_id\"] == 964197782876839936][\"text\"].values[0]"
   ]
  },
  {
   "cell_type": "markdown",
   "id": "fcc4868f-5226-499e-a4f1-ec1090731c70",
   "metadata": {},
   "source": [
    "<h2>Finalen Datensatz als CSV ausgeben.</h2>"
   ]
  },
  {
   "cell_type": "code",
   "execution_count": 24,
   "id": "7f516bc4-b923-4c1c-aa84-47fbd58974a7",
   "metadata": {},
   "outputs": [],
   "source": [
    "df.to_csv('Dataset_Wirecard.csv', sep=';', index=False)"
   ]
  },
  {
   "cell_type": "markdown",
   "id": "331f7e57-671e-451c-a3eb-98ffc68393a5",
   "metadata": {},
   "source": [
    "<h2>Erstellen der CSV zur Überprüfung der Sentiment Ergebnisse</h2>"
   ]
  },
  {
   "cell_type": "code",
   "execution_count": 25,
   "id": "f44c9062-f71d-458f-b282-2a25ed42aba1",
   "metadata": {},
   "outputs": [
    {
     "name": "stdout",
     "output_type": "stream",
     "text": [
      "Start bei 0 und ende bei 100. Name der Datei: en_validation_0.csv\n",
      "Start bei 100 und ende bei 200. Name der Datei: en_validation_1.csv\n",
      "Start bei 200 und ende bei 300. Name der Datei: en_validation_2.csv\n",
      "Start bei 300 und ende bei 400. Name der Datei: en_validation_3.csv\n",
      "Start bei 400 und ende bei 500. Name der Datei: en_validation_4.csv\n",
      "Start bei 500 und ende bei 600. Name der Datei: en_validation_5.csv\n",
      "Start bei 600 und ende bei 700. Name der Datei: en_validation_6.csv\n",
      "Start bei 700 und ende bei 800. Name der Datei: en_validation_7.csv\n",
      "Start bei 800 und ende bei 900. Name der Datei: en_validation_8.csv\n",
      "Start bei 900 und ende bei 1000. Name der Datei: en_validation_9.csv\n",
      "Start bei 1000 und ende bei 1100. Name der Datei: en_validation_10.csv\n",
      "Start bei 1100 und ende bei 1200. Name der Datei: en_validation_11.csv\n",
      "Start bei 1200 und ende bei 1300. Name der Datei: en_validation_12.csv\n",
      "Start bei 1300 und ende bei 1400. Name der Datei: en_validation_13.csv\n",
      "Start bei 1400 und ende bei 1500. Name der Datei: en_validation_14.csv\n"
     ]
    }
   ],
   "source": [
    "df_sentiment_validation = df.sample(n = 1500)[[\"tweet_id\", \"text\"]]\n",
    "batch = 14\n",
    "counter = 0 \n",
    "for batch in range(0,15):\n",
    "    start = 100*batch\n",
    "    end = 100*batch+100\n",
    "    csv_name = 'en_validation_{count}.csv'.format(count=batch)\n",
    "    df_sentiment_validation.iloc[start:end].to_csv(csv_name, sep=';', index=False)\n",
    "    print(\"Start bei {start} und ende bei {ende}. Name der Datei: {csv}\".format(start=start, ende=end, csv=csv_name))"
   ]
  },
  {
   "cell_type": "code",
   "execution_count": null,
   "id": "8fe6e142-a612-4c40-bcc2-4ed202e6a373",
   "metadata": {},
   "outputs": [],
   "source": []
  }
 ],
 "metadata": {
  "kernelspec": {
   "display_name": "master_thesis_3.9.10",
   "language": "python",
   "name": "master_thesis_3.9.10"
  },
  "language_info": {
   "codemirror_mode": {
    "name": "ipython",
    "version": 3
   },
   "file_extension": ".py",
   "mimetype": "text/x-python",
   "name": "python",
   "nbconvert_exporter": "python",
   "pygments_lexer": "ipython3",
   "version": "3.9.10"
  }
 },
 "nbformat": 4,
 "nbformat_minor": 5
}
