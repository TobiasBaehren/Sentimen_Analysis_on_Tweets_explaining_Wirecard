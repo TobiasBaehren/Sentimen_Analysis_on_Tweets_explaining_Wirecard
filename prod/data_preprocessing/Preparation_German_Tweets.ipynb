{
 "cells": [
  {
   "cell_type": "markdown",
   "id": "f6ae1ac2-0b2c-4578-9694-7040882deec9",
   "metadata": {},
   "source": [
    "<h1>Preparation of the German Twitter Data</h1>"
   ]
  },
  {
   "cell_type": "markdown",
   "id": "a323e70f-92a0-45e4-845f-b9d5aaa92fbb",
   "metadata": {},
   "source": [
    "<p>This file is for preparing the german tweets. The preparation is mainly for training my own model for sentiment detection with Flair. </p>"
   ]
  },
  {
   "cell_type": "code",
   "execution_count": 1,
   "id": "5d435d73-8df6-4ae8-8694-a8e75747958f",
   "metadata": {},
   "outputs": [],
   "source": [
    "import csv\n",
    "import numpy as np\n",
    "import pandas as pd\n",
    "import re\n",
    "import nltk\n",
    "from nltk.corpus import stopwords\n",
    "from wordcloud import WordCloud\n",
    "import matplotlib.pyplot as plt\n",
    "from HanTa import HanoverTagger as ht"
   ]
  },
  {
   "cell_type": "markdown",
   "id": "fba70b51-726a-477a-bfce-9f62ea40b0f7",
   "metadata": {},
   "source": [
    "<p>Download der Stopwörter Listen</p>"
   ]
  },
  {
   "cell_type": "code",
   "execution_count": null,
   "id": "2f508d8d-486d-46f5-9b43-b6f1e4dcdb64",
   "metadata": {},
   "outputs": [],
   "source": [
    "#nltk.download('stopwords')"
   ]
  },
  {
   "cell_type": "markdown",
   "id": "75921e4f-1906-4f14-b6b4-0ee534677d54",
   "metadata": {},
   "source": [
    "<h1>Einlesen und bestimmung der Felder</h1>\n",
    "<p>Durch die weitern Operatoren, kann ich die einzelnen Felder in DF bestimmen. Durch die Lambda Funktion werden die Str zu Listen, was die spätere verarbeitung erleichtert. \n",
    "    Durch die Parse_dates Funktion wird das Datumsfeld zu einem Timestamp, was die weiter Verarbeitung wesentlich leichter macht.</p>"
   ]
  },
  {
   "cell_type": "code",
   "execution_count": 2,
   "id": "2e546077-cd87-49e0-b3a3-4cb63f9f353c",
   "metadata": {},
   "outputs": [],
   "source": [
    "df_manager_de = pd.read_csv(\"/Users/tobias/Dev/FOM/Master_Thesis/data/Manager_DE/data.csv\", sep=\";\", \n",
    "                            converters={\"tweet_type\": lambda x: x.strip(\"[]\").replace(\"'\", \"\").split(\", \"),\n",
    "                                        \"referenced_tweet_id\": lambda x: x.strip(\"[]\").replace(\"'\", \"\").split(\", \")},\n",
    "                           parse_dates=[\"created_at\"])\n",
    "df_manager_de = df_manager_de.explode([\"referenced_tweet_id\", \"tweet_type\"], ignore_index=True)"
   ]
  },
  {
   "cell_type": "code",
   "execution_count": 3,
   "id": "22b21fc9-fc5e-4403-8390-093caa12eb23",
   "metadata": {
    "tags": []
   },
   "outputs": [
    {
     "data": {
      "text/html": [
       "<div>\n",
       "<style scoped>\n",
       "    .dataframe tbody tr th:only-of-type {\n",
       "        vertical-align: middle;\n",
       "    }\n",
       "\n",
       "    .dataframe tbody tr th {\n",
       "        vertical-align: top;\n",
       "    }\n",
       "\n",
       "    .dataframe thead th {\n",
       "        text-align: right;\n",
       "    }\n",
       "</style>\n",
       "<table border=\"1\" class=\"dataframe\">\n",
       "  <thead>\n",
       "    <tr style=\"text-align: right;\">\n",
       "      <th></th>\n",
       "      <th>conversation_id</th>\n",
       "      <th>author_id</th>\n",
       "      <th>created_at</th>\n",
       "      <th>tweet_id</th>\n",
       "      <th>lang</th>\n",
       "      <th>retweet_count</th>\n",
       "      <th>reply_count</th>\n",
       "      <th>like_count</th>\n",
       "      <th>quote_count</th>\n",
       "      <th>source</th>\n",
       "      <th>tweet_type</th>\n",
       "      <th>referenced_tweet_id</th>\n",
       "      <th>text</th>\n",
       "    </tr>\n",
       "  </thead>\n",
       "  <tbody>\n",
       "    <tr>\n",
       "      <th>0</th>\n",
       "      <td>703311366262800384</td>\n",
       "      <td>1392131804</td>\n",
       "      <td>2016-02-26 20:11:11+00:00</td>\n",
       "      <td>703311366262800384</td>\n",
       "      <td>de</td>\n",
       "      <td>0</td>\n",
       "      <td>0</td>\n",
       "      <td>2</td>\n",
       "      <td>0</td>\n",
       "      <td>Twitter Web Client</td>\n",
       "      <td>None</td>\n",
       "      <td>None</td>\n",
       "      <td>#Wirecard-Chef Markus Braun pumpt irrwitzige S...</td>\n",
       "    </tr>\n",
       "    <tr>\n",
       "      <th>1</th>\n",
       "      <td>702405572012974080</td>\n",
       "      <td>1053723204</td>\n",
       "      <td>2016-02-24 08:11:53+00:00</td>\n",
       "      <td>702405572012974080</td>\n",
       "      <td>de</td>\n",
       "      <td>0</td>\n",
       "      <td>0</td>\n",
       "      <td>0</td>\n",
       "      <td>0</td>\n",
       "      <td>Twitter Web Client</td>\n",
       "      <td>None</td>\n",
       "      <td>None</td>\n",
       "      <td>Jetzt günstig einsammeln und später absahnen? ...</td>\n",
       "    </tr>\n",
       "    <tr>\n",
       "      <th>2</th>\n",
       "      <td>701784983829143553</td>\n",
       "      <td>554491983</td>\n",
       "      <td>2016-02-22 15:05:53+00:00</td>\n",
       "      <td>701784983829143553</td>\n",
       "      <td>de</td>\n",
       "      <td>0</td>\n",
       "      <td>0</td>\n",
       "      <td>0</td>\n",
       "      <td>0</td>\n",
       "      <td>Facebook</td>\n",
       "      <td>None</td>\n",
       "      <td>None</td>\n",
       "      <td>Morgen startet die neue Reihe R²-JazzCube! Vol...</td>\n",
       "    </tr>\n",
       "    <tr>\n",
       "      <th>3</th>\n",
       "      <td>701446667170615296</td>\n",
       "      <td>3365669884</td>\n",
       "      <td>2016-02-21 16:41:32+00:00</td>\n",
       "      <td>701446667170615296</td>\n",
       "      <td>de</td>\n",
       "      <td>0</td>\n",
       "      <td>0</td>\n",
       "      <td>1</td>\n",
       "      <td>0</td>\n",
       "      <td>Twitter Web Client</td>\n",
       "      <td>None</td>\n",
       "      <td>None</td>\n",
       "      <td>die Y-Achse des  #prusai3 nimmt Formen an :-) ...</td>\n",
       "    </tr>\n",
       "    <tr>\n",
       "      <th>4</th>\n",
       "      <td>700597812556386304</td>\n",
       "      <td>4858383167</td>\n",
       "      <td>2016-02-19 08:28:29+00:00</td>\n",
       "      <td>700597812556386304</td>\n",
       "      <td>de</td>\n",
       "      <td>2</td>\n",
       "      <td>0</td>\n",
       "      <td>0</td>\n",
       "      <td>0</td>\n",
       "      <td>Twitter for iPhone</td>\n",
       "      <td>retweeted</td>\n",
       "      <td>700578193334411264</td>\n",
       "      <td>RT @aktionaer: #Wirecard: Was führt der Vorsta...</td>\n",
       "    </tr>\n",
       "  </tbody>\n",
       "</table>\n",
       "</div>"
      ],
      "text/plain": [
       "      conversation_id   author_id                created_at  \\\n",
       "0  703311366262800384  1392131804 2016-02-26 20:11:11+00:00   \n",
       "1  702405572012974080  1053723204 2016-02-24 08:11:53+00:00   \n",
       "2  701784983829143553   554491983 2016-02-22 15:05:53+00:00   \n",
       "3  701446667170615296  3365669884 2016-02-21 16:41:32+00:00   \n",
       "4  700597812556386304  4858383167 2016-02-19 08:28:29+00:00   \n",
       "\n",
       "             tweet_id lang  retweet_count  reply_count  like_count  \\\n",
       "0  703311366262800384   de              0            0           2   \n",
       "1  702405572012974080   de              0            0           0   \n",
       "2  701784983829143553   de              0            0           0   \n",
       "3  701446667170615296   de              0            0           1   \n",
       "4  700597812556386304   de              2            0           0   \n",
       "\n",
       "   quote_count              source tweet_type referenced_tweet_id  \\\n",
       "0            0  Twitter Web Client       None                None   \n",
       "1            0  Twitter Web Client       None                None   \n",
       "2            0            Facebook       None                None   \n",
       "3            0  Twitter Web Client       None                None   \n",
       "4            0  Twitter for iPhone  retweeted  700578193334411264   \n",
       "\n",
       "                                                text  \n",
       "0  #Wirecard-Chef Markus Braun pumpt irrwitzige S...  \n",
       "1  Jetzt günstig einsammeln und später absahnen? ...  \n",
       "2  Morgen startet die neue Reihe R²-JazzCube! Vol...  \n",
       "3  die Y-Achse des  #prusai3 nimmt Formen an :-) ...  \n",
       "4  RT @aktionaer: #Wirecard: Was führt der Vorsta...  "
      ]
     },
     "execution_count": 3,
     "metadata": {},
     "output_type": "execute_result"
    }
   ],
   "source": [
    "df_manager_de.head()"
   ]
  },
  {
   "cell_type": "markdown",
   "id": "37ffbe1a-795b-4f33-966f-1ab366681f46",
   "metadata": {},
   "source": [
    "<br>\n",
    "<p>Prüfen welche Datenfelder in den einzelnen Zeilen enthalten sind. War wichtig um diese anpassen zu können.</p>"
   ]
  },
  {
   "cell_type": "code",
   "execution_count": null,
   "id": "052a6f1c-58c3-45d1-8591-3553b3eb1662",
   "metadata": {
    "jupyter": {
     "source_hidden": true
    },
    "tags": []
   },
   "outputs": [],
   "source": [
    "print(\"conversation_id: \", df_manager_de.iloc[0][\"conversation_id\"], \"type: \", type(df_manager_de.iloc[0][\"conversation_id\"]))\n",
    "print(\"author_id: \", df_manager_de.iloc[0][\"author_id\"], \"type: \", type(df_manager_de.iloc[0][\"author_id\"]))\n",
    "print(\"created_at: \", df_manager_de.iloc[0][\"created_at\"], \"type: \", type(df_manager_de.iloc[0][\"created_at\"]))\n",
    "print(\"tweet_id: \", df_manager_de.iloc[0][\"tweet_id\"], \"type: \", type(df_manager_de.iloc[0][\"tweet_id\"]))\n",
    "print(\"lang: \", df_manager_de.iloc[0][\"lang\"], \"type: \", type(df_manager_de.iloc[0][\"lang\"]))\n",
    "print(\"retweet_count: \", df_manager_de.iloc[0][\"retweet_count\"], \"type: \", type(df_manager_de.iloc[0][\"retweet_count\"]))\n",
    "print(\"reply_count: \", df_manager_de.iloc[0][\"reply_count\"], \"type: \", type(df_manager_de.iloc[0][\"reply_count\"]))\n",
    "print(\"like_count: \", df_manager_de.iloc[0][\"like_count\"], \"type: \", type(df_manager_de.iloc[0][\"like_count\"]))\n",
    "print(\"quote_count: \", df_manager_de.iloc[0][\"quote_count\"], \"type: \", type(df_manager_de.iloc[0][\"quote_count\"]))\n",
    "print(\"source: \", df_manager_de.iloc[0][\"source\"], \"type: \", type(df_manager_de.iloc[0][\"source\"]))\n",
    "print(\"tweet_type: \", df_manager_de.iloc[0][\"tweet_type\"], \"type: \", type(df_manager_de.iloc[0][\"tweet_type\"]))\n",
    "print(\"referenced_tweet_id: \", df_manager_de.iloc[0][\"referenced_tweet_id\"], \"type: \", type(df_manager_de.iloc[0][\"referenced_tweet_id\"]))\n",
    "print(\"text: \", df_manager_de.iloc[0][\"text\"], \"type: \", type(df_manager_de.iloc[0][\"text\"]))"
   ]
  },
  {
   "cell_type": "markdown",
   "id": "afc009d8-9b2e-491f-8e13-b4e8b7658a44",
   "metadata": {},
   "source": [
    "<h3>Löschen von unnötigen Informationen</h3>\n",
    "<p>Hier werden Informationen aus den Tweets Texten, die nicht weiter benötigt werden. Bspw. Links</p>"
   ]
  },
  {
   "cell_type": "code",
   "execution_count": 4,
   "id": "86e7ed3f-d0f4-46bc-a651-d575074bfbd6",
   "metadata": {
    "tags": []
   },
   "outputs": [],
   "source": [
    "for each in range(len(df_manager_de)):\n",
    "    df_manager_de.loc[df_manager_de[\"text\"] == \n",
    "                      df_manager_de.loc[each][\"text\"], \"text\"] = re.sub(r'http\\S+', '', \n",
    "                                                                        (re.sub('@[^\\s]+', '',\n",
    "                                                                                re.sub('[#|$]', '', \n",
    "                                                                                       df_manager_de.loc[each][\"text\"]))))"
   ]
  },
  {
   "cell_type": "markdown",
   "id": "59f85854-849b-4e8f-b2a0-6bd66cd16083",
   "metadata": {},
   "source": [
    "<p>Dieser Teil wurde für das Testen gebraucht.</p>"
   ]
  },
  {
   "cell_type": "code",
   "execution_count": null,
   "id": "b40ee800-6278-4bb6-84af-4b70f59ff94b",
   "metadata": {},
   "outputs": [],
   "source": [
    "#just for test\n",
    "for each in range(len(df_manager_de)):\n",
    "    df_manager_de.loc[df_manager_de[\"text\"] == \n",
    "                      df_manager_de.loc[each][\"text\"], \"text\"] = re.sub(r'http\\S+', '',(re.sub('[#|$]', '', df_manager_de.loc[each][\"text\"])))"
   ]
  },
  {
   "cell_type": "code",
   "execution_count": 5,
   "id": "1106c7f1-57f4-46c4-91d5-2ce440667935",
   "metadata": {},
   "outputs": [
    {
     "data": {
      "text/plain": [
       "'Wirecard-Chef Markus Braun pumpt irrwitzige Summen in sein Unternehmen. Woher stammt das Geld?   '"
      ]
     },
     "execution_count": 5,
     "metadata": {},
     "output_type": "execute_result"
    }
   ],
   "source": [
    "df_manager_de.iloc[0][\"text\"]"
   ]
  },
  {
   "cell_type": "code",
   "execution_count": 6,
   "id": "c72d2e87-2f03-4b2b-8e40-a96c582c67eb",
   "metadata": {},
   "outputs": [
    {
     "data": {
      "text/plain": [
       "14451"
      ]
     },
     "execution_count": 6,
     "metadata": {},
     "output_type": "execute_result"
    }
   ],
   "source": [
    "len(df_manager_de)"
   ]
  },
  {
   "cell_type": "markdown",
   "id": "5d5f94c7-ad5a-4fe2-98f0-ce3ab26e5dc7",
   "metadata": {},
   "source": [
    "<h3>Nicht Kontextbezogene Tweets löschen</h3>\n",
    "<p>So kann ich prüfen ob bestimmte Begriffe in den Texten enthalten sind und mir die conversation_id ausgeben lassen. Diese lasse ich dann löschen und auch zugehörige Tweets, da diese nicht in den Kontext passen.<br>Die wörter in der Liste müssen klein geschrieben werden, da auch alle Buchstaben für die Prüfung klein geschrieben werden müssen, da sinst nicht alles erkannt wird.</p>\n",
    "<p>Zu löschende Begriffe</p>\n",
    "<ul>\n",
    "    <li>BVB</li>\n",
    "    <li>Fußball</li>\n",
    "    <li>Fussball</li>\n",
    "    <li>Dortmund</li>\n",
    "    <li>kicker</li>\n",
    "    <li>fpö</li>\n",
    "    <li>fpoe</li>\n",
    "</ul>"
   ]
  },
  {
   "cell_type": "code",
   "execution_count": 7,
   "id": "d627b796-c527-487d-ac75-ee8a063d7afa",
   "metadata": {},
   "outputs": [],
   "source": [
    "not_used_words_list = [\"bvb\", \"fußball\", \"fussball\", \"dortmund\", \"fpö\", \"fpoe\", \"kicker\"]\n",
    "tweet_id_without_context_list = []\n",
    "for each in range(len(df_manager_de)):\n",
    "    for word in not_used_words_list:\n",
    "        if word in df_manager_de.iloc[each][\"text\"].lower():\n",
    "            if df_manager_de.iloc[each][\"tweet_id\"] not in tweet_id_without_context_list:\n",
    "                tweet_id_without_context_list.append(df_manager_de.iloc[each][\"tweet_id\"])"
   ]
  },
  {
   "cell_type": "markdown",
   "id": "1c0baab9-792f-45bc-8a26-d4e16390d3fc",
   "metadata": {},
   "source": [
    "<p>Iteration durch die Liste mit zu löschenden Tweets, bis der Wert zu Beginn und zum Ende gleich ist und es keine\n",
    "weiteren Tweets mehr gibt, die gefiltert werden müssen. </p>"
   ]
  },
  {
   "cell_type": "code",
   "execution_count": 8,
   "id": "6957ed56-d9ae-4101-955d-ace28cc44e86",
   "metadata": {
    "tags": []
   },
   "outputs": [],
   "source": [
    "def check_for_further_tweets():\n",
    "    start_len = len(tweet_id_without_context_list)\n",
    "    for each in range(len(tweet_id_without_context_list)):\n",
    "        df_tweets = df_manager_de.loc[(df_manager_de[\"conversation_id\"] == tweet_id_without_context_list[each]) | \n",
    "               (df_manager_de[\"referenced_tweet_id\"] == str(tweet_id_without_context_list[each]))]\n",
    "\n",
    "        for each in range(len(df_tweets)):\n",
    "            if df_tweets.iloc[each][\"tweet_id\"] not in tweet_id_without_context_list:\n",
    "                tweet_id_without_context_list.append(df_tweets.iloc[each][\"tweet_id\"])\n",
    "                \n",
    "    if start_len != len(tweet_id_without_context_list):\n",
    "        check_for_further_tweets()\n",
    "check_for_further_tweets()"
   ]
  },
  {
   "cell_type": "markdown",
   "id": "0ae65229-6b28-4f9d-a689-65bf0edf3034",
   "metadata": {},
   "source": [
    "<p>Löschen der nicht kontextbezogenen Tweets und den Index neu setzen um später keine Probleme mit dem Index zu bekommen.</p>"
   ]
  },
  {
   "cell_type": "code",
   "execution_count": 9,
   "id": "68cc18ef-d61b-4ba2-a685-79b27d3a79e8",
   "metadata": {},
   "outputs": [],
   "source": [
    "for each in tweet_id_without_context_list:\n",
    "    df_manager_de = df_manager_de.drop(df_manager_de.loc[df_manager_de[\"tweet_id\"] == each].index[0])\n",
    "df_manager_de = df_manager_de.reset_index(drop=True)"
   ]
  },
  {
   "cell_type": "markdown",
   "id": "60b7502b-81d9-4bd5-8cad-41ae5e49850b",
   "metadata": {},
   "source": [
    "<p>Löschen und Ermittlung von Tweet_IDs, die keinen Kontext zum Thema haben.</p>"
   ]
  },
  {
   "cell_type": "code",
   "execution_count": 10,
   "id": "402476d4-2d97-4fe2-b562-94f62ffbd95f",
   "metadata": {},
   "outputs": [],
   "source": [
    "#Text Check up\n",
    "list_tweet_id = [701784983829143553, 909831998537158657, 909733713302441984, 909730731932368897, 1115628103487954944, \n",
    "                1115596390133051393, 1112624842493358080, 1131274228521742336, 1130213579490234370, 1207617572126044160, \n",
    "                1265176607905333248, 1273949458808680449, 1285646389771481088, 1285547240447246338, 1285515450584096768, \n",
    "                1285497151125151745, 1284925162836709378, 1279724802782216192]\n",
    "list_tweet_id_remove = []\n",
    "for tweet in list_tweet_id:\n",
    "    for each in df_manager_de.loc[(\n",
    "        df_manager_de[\"tweet_id\"] == tweet) | (\n",
    "        df_manager_de[\"conversation_id\"] == df_manager_de.loc[df_manager_de[\"tweet_id\"] == tweet][\"conversation_id\"].values[0]) | (\n",
    "        df_manager_de[\"referenced_tweet_id\"] == tweet) | (\n",
    "        (df_manager_de[\"referenced_tweet_id\"] == df_manager_de.loc[df_manager_de[\"tweet_id\"] == tweet][\"referenced_tweet_id\"].values[0]) & (df_manager_de[\"referenced_tweet_id\"] != \"None\")) | (\n",
    "        df_manager_de[\"referenced_tweet_id\"] == df_manager_de.loc[df_manager_de[\"tweet_id\"] == tweet][\"conversation_id\"].values[0])][\"tweet_id\"].values:\n",
    "        #print(each, \"\\n\")\n",
    "        if each not in list_tweet_id_remove:\n",
    "            list_tweet_id_remove.append(each)"
   ]
  },
  {
   "cell_type": "markdown",
   "id": "01b47f1b-0305-42f7-8bfc-3b43ae47bce3",
   "metadata": {},
   "source": [
    "<p>Löschen der zuvor ermitteletn Tweets.</p>"
   ]
  },
  {
   "cell_type": "code",
   "execution_count": 11,
   "id": "71b72b38-e7df-4074-abd1-2b2090641012",
   "metadata": {},
   "outputs": [],
   "source": [
    "for each in list_tweet_id_remove:\n",
    "    df_manager_de = df_manager_de.drop(df_manager_de.loc[df_manager_de[\"tweet_id\"] == each].index[0])\n",
    "df_manager_de = df_manager_de.reset_index(drop=True)"
   ]
  },
  {
   "cell_type": "markdown",
   "id": "d33fa8c2-c3a8-4377-bec3-336dfb42db39",
   "metadata": {
    "tags": []
   },
   "source": [
    "<br>\n",
    "<h3>Löschen von Retweets</h3>\n",
    "<p>Alle Retweets löschen, da diese in diesem Schritt nicht benötigt werden.</p>"
   ]
  },
  {
   "cell_type": "code",
   "execution_count": 12,
   "id": "80f62e59-e2bb-485a-a2c1-6a4df6a68f66",
   "metadata": {},
   "outputs": [
    {
     "name": "stdout",
     "output_type": "stream",
     "text": [
      "5280\n"
     ]
    }
   ],
   "source": [
    "counter = 0\n",
    "retweet_list = []\n",
    "for each in range(len(df_manager_de)):\n",
    "    if \"retweeted\" in df_manager_de.iloc[each][\"tweet_type\"]:\n",
    "        retweet_list.append(each)\n",
    "        counter += 1\n",
    "print(counter)"
   ]
  },
  {
   "cell_type": "code",
   "execution_count": 13,
   "id": "d5b331e1-be63-4506-a5c0-ef67f8f3dffb",
   "metadata": {},
   "outputs": [],
   "source": [
    "df_manager_de = df_manager_de.drop(retweet_list)\n",
    "df_manager_de = df_manager_de.reset_index(drop=True)"
   ]
  },
  {
   "cell_type": "markdown",
   "id": "c96102ab-51d8-4d27-93d7-58f58db774f7",
   "metadata": {},
   "source": [
    "<h3>Löschen von doppelten Tweets</h3>\n",
    "<p>Alle Tweets, die dopplet im Datensatz enthalten sind, anhand der tweet_id werden gelöscht. Somit werden auch die zuvor aufgespalteten Listen wieder gelöscht</p>"
   ]
  },
  {
   "cell_type": "code",
   "execution_count": 14,
   "id": "103a126a-a979-422b-8428-37cb8f75fc4a",
   "metadata": {},
   "outputs": [],
   "source": [
    "df_manager_de = df_manager_de.drop_duplicates(subset=[\"tweet_id\"])\n",
    "df_manager_de = df_manager_de.reset_index(drop=True)"
   ]
  },
  {
   "cell_type": "code",
   "execution_count": 15,
   "id": "94093847-b640-4ae9-922a-605acbc56955",
   "metadata": {},
   "outputs": [
    {
     "data": {
      "text/plain": [
       "8707"
      ]
     },
     "execution_count": 15,
     "metadata": {},
     "output_type": "execute_result"
    }
   ],
   "source": [
    "len(df_manager_de)"
   ]
  },
  {
   "cell_type": "markdown",
   "id": "5cfab36a-8fad-43cc-a7e5-b8f3239a6ec2",
   "metadata": {
    "tags": []
   },
   "source": [
    "<h1>Check User</h1>\n",
    "<p>Überprüfe die User Daten nach Namen, die nichts mit dem Thema Wirecard zu tun haben. Auch Nutzer, die ggf. nur durch Zufall in die Abfrage gekommen sind, z.B. durch den gleichen Namen wie einer der Manager, sollen aus dem Datensatz entnommen werden.<br>Auffällige Namen sind <b>Markus Braun</b> und <b>Jan Marsalek</b>, da es sich um den CEO und den verantwortlichen Manager handelt.</p>"
   ]
  },
  {
   "cell_type": "markdown",
   "id": "7c0ebd00-b580-4410-be8a-297601507e61",
   "metadata": {},
   "source": [
    "<p>Laden der Daten</p>"
   ]
  },
  {
   "cell_type": "code",
   "execution_count": 16,
   "id": "70cf7104-4b24-42f9-aef6-36f60d9bbc6e",
   "metadata": {},
   "outputs": [],
   "source": [
    "df_user = pd.read_csv(\"/Users/tobias/Dev/FOM/Master_Thesis/data/Manager_DE/user.csv\", sep=\";\")"
   ]
  },
  {
   "cell_type": "markdown",
   "id": "b4bea9f6-4aab-4448-a5ce-e4e02cd9ee80",
   "metadata": {
    "tags": []
   },
   "source": [
    "<h3>Nutzer die keinen Mehrwert bieten werden gelöscht.</h3>"
   ]
  },
  {
   "cell_type": "code",
   "execution_count": 17,
   "id": "42d4f7e4-8dc4-4795-b1a0-444bc20a392c",
   "metadata": {},
   "outputs": [],
   "source": [
    "list_not_needed_author_ids = [3365669884, 536335486]\n",
    "for each in list_not_needed_author_ids:\n",
    "    df_manager_de = df_manager_de.drop(df_manager_de.loc[df_manager_de[\"author_id\"] == each].index)\n",
    "df_manager_de = df_manager_de.reset_index(drop=True)"
   ]
  },
  {
   "cell_type": "markdown",
   "id": "3484e2a5-3ca6-458d-b3df-494a7aaaf9fd",
   "metadata": {
    "jp-MarkdownHeadingCollapsed": true,
    "tags": []
   },
   "source": [
    "<h2>Überprüfung und Check der Twitter Nutzer im Datensatz</h2>\n",
    "<p>Dies ist für den Fall relevant, dass die Nutzer überprüft werden müssen. <br>Im aktuellen Zustand des Datensatzes nicht mehr notwendig.</p>"
   ]
  },
  {
   "cell_type": "markdown",
   "id": "ab98a7bc-e897-4ac3-8524-d7c736ee9b60",
   "metadata": {},
   "source": [
    "<p>Prüfen nach allen Nutzern mit dem Namen Markus</p>"
   ]
  },
  {
   "cell_type": "code",
   "execution_count": null,
   "id": "50488384-aca4-403f-8a34-a55d5dc1edf6",
   "metadata": {
    "tags": []
   },
   "outputs": [],
   "source": [
    "df_user.loc[df_user.name.str.lower().str.contains(\"markus\")].drop_duplicates()"
   ]
  },
  {
   "cell_type": "markdown",
   "id": "22cbd084-19fb-403f-8d13-aaa266f5aaad",
   "metadata": {},
   "source": [
    "<p>Prüfen auf auffäliige Einträge bezüglich Jan Marksalek</p>"
   ]
  },
  {
   "cell_type": "code",
   "execution_count": null,
   "id": "b3a6ed74-bbb9-4ebf-811a-02f3bdf7525b",
   "metadata": {
    "tags": []
   },
   "outputs": [],
   "source": [
    "df_user.loc[df_user.name.str.lower().str.contains(\"jan\")].drop_duplicates()"
   ]
  },
  {
   "cell_type": "markdown",
   "id": "b2622b24-cb9a-46cf-9372-48dc5a9e02c1",
   "metadata": {},
   "source": [
    "<p>Auffällige User_IDs:</p>\n",
    "<ul>Markus Braun\n",
    "    <li>3365669884 - MarkusB1980</li>\n",
    "    <li>827452635057881088 - _MarkusBraun( - CWO von Wirecard)</li>\n",
    "    <li>536335486 - Advobraun</li>\n",
    "    <li>780754694419296256 - markuscbraun1</li>\n",
    "</ul>\n",
    "<ul>Jan (Marsalek)\n",
    "    <li>19072286 - janboehm</li>\n",
    "</ul>"
   ]
  },
  {
   "cell_type": "markdown",
   "id": "db76b6ff-dddc-4657-8c9b-8de15d0b01d9",
   "metadata": {},
   "source": [
    "<p>Anzeigen der Tweets der \"auffälligen\" Nutzer</p>"
   ]
  },
  {
   "cell_type": "code",
   "execution_count": null,
   "id": "3179aff9-fce4-420d-862d-2a611e7fc075",
   "metadata": {},
   "outputs": [],
   "source": [
    "#3365669884 - MarkusB1980\n",
    "pd.set_option('display.max_colwidth', None)\n",
    "df_manager_de.loc[df_manager_de[\"author_id\"] == 3365669884][\"text\"]"
   ]
  },
  {
   "cell_type": "code",
   "execution_count": null,
   "id": "9b6c2cfe-773b-4744-a4ad-304145beefef",
   "metadata": {},
   "outputs": [],
   "source": [
    "#827452635057881088 - _MarkusBraun( - CWO von Wirecard)\n",
    "pd.set_option('display.max_colwidth', None)\n",
    "df_manager_de.loc[df_manager_de[\"author_id\"] == 827452635057881088][\"text\"]"
   ]
  },
  {
   "cell_type": "code",
   "execution_count": null,
   "id": "c8f0e478-d611-4294-8c76-658a2e1a70ae",
   "metadata": {},
   "outputs": [],
   "source": [
    "#536335486 - Advobraun\n",
    "pd.set_option('display.max_colwidth', None)\n",
    "df_manager_de.loc[df_manager_de[\"author_id\"] == 536335486][\"text\"]"
   ]
  },
  {
   "cell_type": "code",
   "execution_count": null,
   "id": "9d8643b6-0071-4526-a20c-9146f6373b83",
   "metadata": {},
   "outputs": [],
   "source": [
    "#780754694419296256 - markuscbraun1\n",
    "pd.set_option('display.max_colwidth', None)\n",
    "df_manager_de.loc[df_manager_de[\"author_id\"] == 780754694419296256][\"text\"]"
   ]
  },
  {
   "cell_type": "code",
   "execution_count": null,
   "id": "0e295123-29c4-4ab9-8560-ab671f514170",
   "metadata": {},
   "outputs": [],
   "source": [
    "#19072286 - janboehm\n",
    "pd.set_option('display.max_colwidth', None)\n",
    "df_manager_de.loc[df_manager_de[\"author_id\"] == 19072286][\"text\"]"
   ]
  },
  {
   "cell_type": "markdown",
   "id": "c1b57988-bf04-4f62-967a-052a2a9c4299",
   "metadata": {},
   "source": [
    "<p>Nur bei zwei der Nutzer ist nach der Vorverarbeitung noch ein Tweet in der Liste. Diese beiden Nutzer tragen nichts zum Thema Wirecard bei und twittern nicht diesbezüglich. <br>Ich habe Jan bei der Suche nach Jan lediglich den Namen Jan Böhmermann geprüft, da es sich hierbei um eine bekannte Persönlichkeit handelt, die zu diesem aber auch zu vielen anderen Themen twittert und ich dies deswegen überprüfen wollte.<br><br>Prüfen auf die Nutzer, die besonders oft im Datensatz der Manager vorkommen.<br>Nutzer, deren Inhalt keinen Mehrwert bieten: </p>\n",
    "<lu>\n",
    "    <li>3365669884 - MarkusB1980</li>\n",
    "    <li>536335486 - Advobraun</li>\n",
    "</lu>\n",
    "<p>Dabei handelt es sich um die einzigen Nutzer, zu denen noch Tweets nach der Vorverarbeitung übrig sind</p>"
   ]
  },
  {
   "cell_type": "markdown",
   "id": "9f3441b2-86f6-418a-9925-d30f5214ce78",
   "metadata": {},
   "source": [
    "<p>Das Dataframe mit der Anzahl der jeweiligen Autoren wird um die Informationen aus dem Datensatz der User ergänzt.<br>Dabei soll gerpüft werden, ob auffällige Nutzer mit eigenartigen Namen auftauchen, die es zu prüfen gilt. Dabei wird vor allem auf Nutzer geachtet, die einen klaren Bezug zu anderen Theman haben oder die ggf. auffälligkeiten zu dem Thema haben könnten.</p>"
   ]
  },
  {
   "cell_type": "code",
   "execution_count": null,
   "id": "b8055dd7-4c01-436a-badc-d9a9b51802b1",
   "metadata": {
    "tags": []
   },
   "outputs": [],
   "source": [
    "df_manager_de[\"author_id\"].value_counts().to_frame().reset_index().join(\n",
    "    df_user.set_index(\"user_id\"), on=\"index\").drop_duplicates(subset=[\"index\"]).rename(columns={\"index\": \"author_id\", \"author_id\": \"count\"}).head(11)"
   ]
  },
  {
   "cell_type": "markdown",
   "id": "90209e91-fc2d-44b4-b627-76ac78989ec6",
   "metadata": {},
   "source": [
    "<p>Stichprobenartige Prüfen der einzelnen Top Nutzer mit mehr als 50 Tweets auf deren Inhalte.</p>"
   ]
  },
  {
   "cell_type": "code",
   "execution_count": null,
   "id": "39060532-5846-4139-8db2-5176b9d9f245",
   "metadata": {
    "tags": []
   },
   "outputs": [],
   "source": [
    "pd.set_option('display.max_colwidth', None)\n",
    "for each in df_manager_de.loc[df_manager_de[\"author_id\"] == 1118219555967520769].index:\n",
    "    print(df_manager_de.iloc[each][\"text\"], \"\\n\")"
   ]
  },
  {
   "cell_type": "code",
   "execution_count": null,
   "id": "171f70bb-e5bb-4fd3-a497-a968a51c8958",
   "metadata": {
    "tags": []
   },
   "outputs": [],
   "source": [
    "for each in df_manager_de.loc[df_manager_de[\"author_id\"] == 1159698800790953984].index:\n",
    "    print(df_manager_de.iloc[each][\"text\"], \"\\n\")"
   ]
  },
  {
   "cell_type": "code",
   "execution_count": null,
   "id": "cdc17d0e-59b6-4a2f-a220-56100ecbfb2e",
   "metadata": {
    "tags": []
   },
   "outputs": [],
   "source": [
    "for each in df_manager_de.loc[df_manager_de[\"author_id\"] == 3029833842].index:\n",
    "    print(df_manager_de.iloc[each][\"text\"], \"\\n\")"
   ]
  },
  {
   "cell_type": "code",
   "execution_count": null,
   "id": "bf59b872-674c-4945-8460-16f0cfa92073",
   "metadata": {
    "tags": []
   },
   "outputs": [],
   "source": [
    "for each in df_manager_de.loc[df_manager_de[\"author_id\"] == 2195833356].index:\n",
    "    print(df_manager_de.iloc[each][\"text\"], \"\\n\")"
   ]
  },
  {
   "cell_type": "code",
   "execution_count": null,
   "id": "e82e5bc1-152d-407e-a91d-0e15ee461f3d",
   "metadata": {
    "tags": []
   },
   "outputs": [],
   "source": [
    "for each in df_manager_de.loc[df_manager_de[\"author_id\"] == 704753138146877440].index:\n",
    "    print(df_manager_de.iloc[each][\"text\"], \"\\n\")"
   ]
  },
  {
   "cell_type": "markdown",
   "id": "ff0a4d59-63b2-4121-97fb-d5276c65aa4a",
   "metadata": {
    "tags": []
   },
   "source": [
    "<h1>Hinzufügen weiterer Twitter Datensätze</h1>"
   ]
  },
  {
   "cell_type": "markdown",
   "id": "7d5aba98-5700-4215-8a5c-9b0a410e626a",
   "metadata": {},
   "source": [
    "<h2>Datensatz mit Abfrage nach Wirecard</h2>"
   ]
  },
  {
   "cell_type": "code",
   "execution_count": 18,
   "id": "3c7fa0ad-611d-4adc-b000-c96812f6b141",
   "metadata": {},
   "outputs": [],
   "source": [
    "df_wirecard_de = pd.read_csv(\"/Users/tobias/Dev/FOM/Master_Thesis/data/Wirecard_DE/data.csv\", sep=\";\", \n",
    "                            converters={\"tweet_type\": lambda x: x.strip(\"[]\").replace(\"'\", \"\").split(\", \"),\n",
    "                                        \"referenced_tweet_id\": lambda x: x.strip(\"[]\").replace(\"'\", \"\").split(\", \")},\n",
    "                           parse_dates=[\"created_at\"])\n",
    "df_wirecard_de = df_wirecard_de.explode([\"referenced_tweet_id\", \"tweet_type\"], ignore_index=True)\n"
   ]
  },
  {
   "cell_type": "code",
   "execution_count": 19,
   "id": "100d86bb-8f22-4dab-ac37-00156a6cc97c",
   "metadata": {},
   "outputs": [],
   "source": [
    "for each in range(len(df_wirecard_de)):\n",
    "    df_wirecard_de.loc[df_wirecard_de[\"text\"] == \n",
    "                      df_wirecard_de.loc[each][\"text\"], \"text\"] = re.sub(r'http\\S+', '', \n",
    "                                                                        (re.sub('@[^\\s]+', '',\n",
    "                                                                                re.sub('[#|$]', '', \n",
    "                                                                                       df_wirecard_de.loc[each][\"text\"]))))"
   ]
  },
  {
   "cell_type": "code",
   "execution_count": null,
   "id": "bd9e7be2-ae85-4c6d-bee0-ec3798f07e2e",
   "metadata": {
    "tags": []
   },
   "outputs": [],
   "source": [
    "df_wirecard_de.head()"
   ]
  },
  {
   "cell_type": "markdown",
   "id": "c8a12eb0-3bb1-4ce3-98ef-db42d57e83ff",
   "metadata": {},
   "source": [
    "<h3>Löschen von Retweets</h3>"
   ]
  },
  {
   "cell_type": "code",
   "execution_count": 20,
   "id": "e4fc93b0-f0b1-4d58-8278-2a746f4243bf",
   "metadata": {},
   "outputs": [
    {
     "name": "stdout",
     "output_type": "stream",
     "text": [
      "54403\n"
     ]
    }
   ],
   "source": [
    "counter = 0\n",
    "retweet_list = []\n",
    "for each in range(len(df_wirecard_de)):\n",
    "    if \"retweeted\" in df_wirecard_de.iloc[each][\"tweet_type\"]:\n",
    "        retweet_list.append(each)\n",
    "        counter += 1\n",
    "print(counter)\n",
    "df_wirecard_de = df_wirecard_de.drop(retweet_list)\n",
    "df_wirecard_de = df_wirecard_de.reset_index(drop=True)"
   ]
  },
  {
   "cell_type": "code",
   "execution_count": 21,
   "id": "150c5d23-f7b9-40bf-a6ee-9eee5407c96d",
   "metadata": {},
   "outputs": [
    {
     "data": {
      "text/plain": [
       "111531"
      ]
     },
     "execution_count": 21,
     "metadata": {},
     "output_type": "execute_result"
    }
   ],
   "source": [
    "len(df_wirecard_de)"
   ]
  },
  {
   "cell_type": "markdown",
   "id": "bd3a4a25-8180-4316-8f90-19876252faed",
   "metadata": {},
   "source": [
    "<h3>Löschen von doppelten Einträgen</h3>"
   ]
  },
  {
   "cell_type": "code",
   "execution_count": 22,
   "id": "0c828f16-d644-4bbb-874a-c7d36f934fa5",
   "metadata": {},
   "outputs": [],
   "source": [
    "df_wirecard_de = df_wirecard_de.drop_duplicates(subset=[\"tweet_id\"])\n",
    "df_wirecard_de = df_wirecard_de.reset_index(drop=True)"
   ]
  },
  {
   "cell_type": "code",
   "execution_count": 23,
   "id": "694ed578-e7da-4c77-9171-550c55d6c33c",
   "metadata": {},
   "outputs": [
    {
     "data": {
      "text/plain": [
       "111254"
      ]
     },
     "execution_count": 23,
     "metadata": {},
     "output_type": "execute_result"
    }
   ],
   "source": [
    "len(df_wirecard_de)"
   ]
  },
  {
   "cell_type": "code",
   "execution_count": 24,
   "id": "10f713d3-cf3f-4ed8-b607-bff2744d8ec6",
   "metadata": {
    "tags": []
   },
   "outputs": [
    {
     "data": {
      "text/html": [
       "<div>\n",
       "<style scoped>\n",
       "    .dataframe tbody tr th:only-of-type {\n",
       "        vertical-align: middle;\n",
       "    }\n",
       "\n",
       "    .dataframe tbody tr th {\n",
       "        vertical-align: top;\n",
       "    }\n",
       "\n",
       "    .dataframe thead th {\n",
       "        text-align: right;\n",
       "    }\n",
       "</style>\n",
       "<table border=\"1\" class=\"dataframe\">\n",
       "  <thead>\n",
       "    <tr style=\"text-align: right;\">\n",
       "      <th></th>\n",
       "      <th>conversation_id</th>\n",
       "      <th>author_id</th>\n",
       "      <th>created_at</th>\n",
       "      <th>tweet_id</th>\n",
       "      <th>lang</th>\n",
       "      <th>retweet_count</th>\n",
       "      <th>reply_count</th>\n",
       "      <th>like_count</th>\n",
       "      <th>quote_count</th>\n",
       "      <th>source</th>\n",
       "      <th>tweet_type</th>\n",
       "      <th>referenced_tweet_id</th>\n",
       "      <th>text</th>\n",
       "    </tr>\n",
       "  </thead>\n",
       "  <tbody>\n",
       "    <tr>\n",
       "      <th>0</th>\n",
       "      <td>704018583765000194</td>\n",
       "      <td>3000333467</td>\n",
       "      <td>2016-02-28 19:01:25+00:00</td>\n",
       "      <td>704018583765000194</td>\n",
       "      <td>de</td>\n",
       "      <td>0</td>\n",
       "      <td>0</td>\n",
       "      <td>0</td>\n",
       "      <td>0</td>\n",
       "      <td>Twitter for iPhone</td>\n",
       "      <td>None</td>\n",
       "      <td>None</td>\n",
       "      <td>3 lukrative Aktien im Quick-Check.True Gold/Wi...</td>\n",
       "    </tr>\n",
       "    <tr>\n",
       "      <th>1</th>\n",
       "      <td>704016062682103808</td>\n",
       "      <td>3383023023</td>\n",
       "      <td>2016-02-28 18:51:23+00:00</td>\n",
       "      <td>704016062682103808</td>\n",
       "      <td>de</td>\n",
       "      <td>0</td>\n",
       "      <td>0</td>\n",
       "      <td>2</td>\n",
       "      <td>0</td>\n",
       "      <td>Twitter Web Client</td>\n",
       "      <td>None</td>\n",
       "      <td>None</td>\n",
       "      <td>Die Woche mit Fintech und Banken im Überblick ...</td>\n",
       "    </tr>\n",
       "    <tr>\n",
       "      <th>2</th>\n",
       "      <td>703952749650714624</td>\n",
       "      <td>20973609</td>\n",
       "      <td>2016-02-28 14:39:48+00:00</td>\n",
       "      <td>703952749650714624</td>\n",
       "      <td>de</td>\n",
       "      <td>0</td>\n",
       "      <td>0</td>\n",
       "      <td>0</td>\n",
       "      <td>0</td>\n",
       "      <td>Twitter for iPhone</td>\n",
       "      <td>None</td>\n",
       "      <td>None</td>\n",
       "      <td>Wirecard / Deutsche Telekom / DAX / Euro / Gol...</td>\n",
       "    </tr>\n",
       "    <tr>\n",
       "      <th>3</th>\n",
       "      <td>703097227355430912</td>\n",
       "      <td>3296434535</td>\n",
       "      <td>2016-02-28 10:37:51+00:00</td>\n",
       "      <td>703891857542127616</td>\n",
       "      <td>de</td>\n",
       "      <td>0</td>\n",
       "      <td>0</td>\n",
       "      <td>0</td>\n",
       "      <td>0</td>\n",
       "      <td>Twitter Web Client</td>\n",
       "      <td>replied_to</td>\n",
       "      <td>703101750123720704</td>\n",
       "      <td>weil wir letztens darüber geschrieben haben...</td>\n",
       "    </tr>\n",
       "    <tr>\n",
       "      <th>4</th>\n",
       "      <td>703887151348457472</td>\n",
       "      <td>163466981</td>\n",
       "      <td>2016-02-28 10:19:09+00:00</td>\n",
       "      <td>703887151348457472</td>\n",
       "      <td>de</td>\n",
       "      <td>0</td>\n",
       "      <td>0</td>\n",
       "      <td>0</td>\n",
       "      <td>0</td>\n",
       "      <td>Aktien</td>\n",
       "      <td>None</td>\n",
       "      <td>None</td>\n",
       "      <td>Aktien, Banken, Makrodaten, S&amp;amp;P 500 - Bärm...</td>\n",
       "    </tr>\n",
       "  </tbody>\n",
       "</table>\n",
       "</div>"
      ],
      "text/plain": [
       "      conversation_id   author_id                created_at  \\\n",
       "0  704018583765000194  3000333467 2016-02-28 19:01:25+00:00   \n",
       "1  704016062682103808  3383023023 2016-02-28 18:51:23+00:00   \n",
       "2  703952749650714624    20973609 2016-02-28 14:39:48+00:00   \n",
       "3  703097227355430912  3296434535 2016-02-28 10:37:51+00:00   \n",
       "4  703887151348457472   163466981 2016-02-28 10:19:09+00:00   \n",
       "\n",
       "             tweet_id lang  retweet_count  reply_count  like_count  \\\n",
       "0  704018583765000194   de              0            0           0   \n",
       "1  704016062682103808   de              0            0           2   \n",
       "2  703952749650714624   de              0            0           0   \n",
       "3  703891857542127616   de              0            0           0   \n",
       "4  703887151348457472   de              0            0           0   \n",
       "\n",
       "   quote_count              source  tweet_type referenced_tweet_id  \\\n",
       "0            0  Twitter for iPhone        None                None   \n",
       "1            0  Twitter Web Client        None                None   \n",
       "2            0  Twitter for iPhone        None                None   \n",
       "3            0  Twitter Web Client  replied_to  703101750123720704   \n",
       "4            0              Aktien        None                None   \n",
       "\n",
       "                                                text  \n",
       "0  3 lukrative Aktien im Quick-Check.True Gold/Wi...  \n",
       "1  Die Woche mit Fintech und Banken im Überblick ...  \n",
       "2  Wirecard / Deutsche Telekom / DAX / Euro / Gol...  \n",
       "3     weil wir letztens darüber geschrieben haben...  \n",
       "4  Aktien, Banken, Makrodaten, S&amp;P 500 - Bärm...  "
      ]
     },
     "execution_count": 24,
     "metadata": {},
     "output_type": "execute_result"
    }
   ],
   "source": [
    "df_wirecard_de.head()"
   ]
  },
  {
   "cell_type": "markdown",
   "id": "9ee7d13a-0b03-4c9f-b0d6-8f4299e3ef04",
   "metadata": {},
   "source": [
    "<h2>Abfrage nach Chashtag Wirecard</h2>"
   ]
  },
  {
   "cell_type": "code",
   "execution_count": 25,
   "id": "20ce3d55-9fba-4ecf-bc99-0a56c5a877b1",
   "metadata": {},
   "outputs": [],
   "source": [
    "df_wrcdf_de = pd.read_csv(\"/Users/tobias/Dev/FOM/Master_Thesis/data/WRCDF_DE/data.csv\", sep=\";\", \n",
    "                            converters={\"tweet_type\": lambda x: x.strip(\"[]\").replace(\"'\", \"\").split(\", \"),\n",
    "                                        \"referenced_tweet_id\": lambda x: x.strip(\"[]\").replace(\"'\", \"\").split(\", \")},\n",
    "                           parse_dates=[\"created_at\"])\n",
    "df_wrcdf_de = df_wrcdf_de.explode([\"referenced_tweet_id\", \"tweet_type\"], ignore_index=True)\n"
   ]
  },
  {
   "cell_type": "code",
   "execution_count": 26,
   "id": "48c10287-6bb7-45e7-b872-737598a82975",
   "metadata": {},
   "outputs": [],
   "source": [
    "for each in range(len(df_wrcdf_de)):\n",
    "    df_wrcdf_de.loc[df_wrcdf_de[\"text\"] == \n",
    "                      df_wrcdf_de.loc[each][\"text\"], \"text\"] = re.sub(r'http\\S+', '', \n",
    "                                                                        (re.sub('@[^\\s]+', '',\n",
    "                                                                                re.sub('[#|$]', '', \n",
    "                                                                                       df_wrcdf_de.loc[each][\"text\"]))))"
   ]
  },
  {
   "cell_type": "code",
   "execution_count": 27,
   "id": "bb07469c-849d-467c-8b77-7e04d0b85b72",
   "metadata": {},
   "outputs": [
    {
     "data": {
      "text/plain": [
       "33"
      ]
     },
     "execution_count": 27,
     "metadata": {},
     "output_type": "execute_result"
    }
   ],
   "source": [
    "len(df_wrcdf_de)"
   ]
  },
  {
   "cell_type": "markdown",
   "id": "181ecce0-933b-4073-adf2-b145a6f3a9c1",
   "metadata": {},
   "source": [
    "<h3>Löschen von Retweets</h3>"
   ]
  },
  {
   "cell_type": "code",
   "execution_count": 28,
   "id": "b6401d8c-151e-4f1a-b7f5-e52e1d267e47",
   "metadata": {},
   "outputs": [
    {
     "name": "stdout",
     "output_type": "stream",
     "text": [
      "0\n"
     ]
    }
   ],
   "source": [
    "counter = 0\n",
    "retweet_list = []\n",
    "for each in range(len(df_wrcdf_de)):\n",
    "    if \"retweeted\" in df_wrcdf_de.iloc[each][\"tweet_type\"]:\n",
    "        retweet_list.append(each)\n",
    "        counter += 1\n",
    "print(counter)\n",
    "df_wrcdf_de = df_wrcdf_de.drop(retweet_list)\n",
    "df_wrcdf_de = df_wrcdf_de.reset_index(drop=True)"
   ]
  },
  {
   "cell_type": "markdown",
   "id": "ad732ea1-75ce-47ad-a0c2-a5b3baa53a8f",
   "metadata": {},
   "source": [
    "<h3>Löschen von doppelten Tweets</h3>"
   ]
  },
  {
   "cell_type": "code",
   "execution_count": 29,
   "id": "287957b8-f3b3-4b95-ac71-aab5a92a2352",
   "metadata": {},
   "outputs": [],
   "source": [
    "df_wrcdf_de = df_wrcdf_de.drop_duplicates(subset=[\"tweet_id\"])\n",
    "df_wrcdf_de = df_wrcdf_de.reset_index(drop=True)"
   ]
  },
  {
   "cell_type": "code",
   "execution_count": 30,
   "id": "f5831d24-18b9-490e-9589-89f91710a2bc",
   "metadata": {},
   "outputs": [
    {
     "data": {
      "text/plain": [
       "33"
      ]
     },
     "execution_count": 30,
     "metadata": {},
     "output_type": "execute_result"
    }
   ],
   "source": [
    "len(df_wrcdf_de)"
   ]
  },
  {
   "cell_type": "code",
   "execution_count": null,
   "id": "f62c513b-0e50-4904-9987-fa6318b61a69",
   "metadata": {},
   "outputs": [],
   "source": []
  },
  {
   "cell_type": "markdown",
   "id": "f269bdc2-f185-4241-9bbe-5a65d1c81ff7",
   "metadata": {
    "tags": []
   },
   "source": [
    "<h1>Zusammenführen der Datensätze</h1>"
   ]
  },
  {
   "cell_type": "code",
   "execution_count": 31,
   "id": "8634609f-954b-45e5-8ad7-3de434cf0a51",
   "metadata": {},
   "outputs": [],
   "source": [
    "list_data_frames = [df_manager_de, df_wirecard_de, df_wrcdf_de]\n",
    "df_de = pd.concat(list_data_frames, ignore_index=True)"
   ]
  },
  {
   "cell_type": "code",
   "execution_count": 32,
   "id": "5deafa18-29b4-483a-9039-95c5287134ec",
   "metadata": {},
   "outputs": [
    {
     "name": "stdout",
     "output_type": "stream",
     "text": [
      "8703\n",
      "111254\n",
      "33\n",
      "119990\n",
      "119990\n"
     ]
    }
   ],
   "source": [
    "print(len(df_manager_de))\n",
    "print(len(df_wirecard_de))\n",
    "print(len(df_wrcdf_de))\n",
    "print(len(df_manager_de)+len(df_wirecard_de)+len(df_wrcdf_de))\n",
    "print(len(df_de))"
   ]
  },
  {
   "cell_type": "markdown",
   "id": "9d85d378-7b4d-4512-b582-b5f2d2808657",
   "metadata": {},
   "source": [
    "<h3>Löschen der doppelten Posts</h3>\n",
    "<p>Dadurch, dass die Abfrage durch mehrere Querys erfolgt ist, befinden sich einige Tweets doppelt in dem Datensatz. Diese werden hier anhand der <b>\"tweet_id\"</b> gelöscht. </p>"
   ]
  },
  {
   "cell_type": "code",
   "execution_count": 33,
   "id": "d084c4d1-97af-42f1-9943-401dc7e8dcba",
   "metadata": {},
   "outputs": [],
   "source": [
    "df_de = df_de.drop_duplicates(subset=[\"tweet_id\"])\n",
    "df_de = df_de.reset_index(drop=True)"
   ]
  },
  {
   "cell_type": "markdown",
   "id": "029735d3-5c63-4558-bea5-b8504e1eb5d4",
   "metadata": {},
   "source": [
    "<p>Der neue Datensatz wird auf plausibilität geprüft.</p>"
   ]
  },
  {
   "cell_type": "code",
   "execution_count": 34,
   "id": "57f10bff-6e38-428f-9547-86a46140cdfe",
   "metadata": {},
   "outputs": [
    {
     "name": "stdout",
     "output_type": "stream",
     "text": [
      "114444\n"
     ]
    }
   ],
   "source": [
    "print(len(df_de))"
   ]
  },
  {
   "cell_type": "code",
   "execution_count": 35,
   "id": "7362c1aa-6e06-468d-9547-43faa020f908",
   "metadata": {
    "tags": []
   },
   "outputs": [
    {
     "data": {
      "text/html": [
       "<div>\n",
       "<style scoped>\n",
       "    .dataframe tbody tr th:only-of-type {\n",
       "        vertical-align: middle;\n",
       "    }\n",
       "\n",
       "    .dataframe tbody tr th {\n",
       "        vertical-align: top;\n",
       "    }\n",
       "\n",
       "    .dataframe thead th {\n",
       "        text-align: right;\n",
       "    }\n",
       "</style>\n",
       "<table border=\"1\" class=\"dataframe\">\n",
       "  <thead>\n",
       "    <tr style=\"text-align: right;\">\n",
       "      <th></th>\n",
       "      <th>conversation_id</th>\n",
       "      <th>author_id</th>\n",
       "      <th>created_at</th>\n",
       "      <th>tweet_id</th>\n",
       "      <th>lang</th>\n",
       "      <th>retweet_count</th>\n",
       "      <th>reply_count</th>\n",
       "      <th>like_count</th>\n",
       "      <th>quote_count</th>\n",
       "      <th>source</th>\n",
       "      <th>tweet_type</th>\n",
       "      <th>referenced_tweet_id</th>\n",
       "      <th>text</th>\n",
       "    </tr>\n",
       "  </thead>\n",
       "  <tbody>\n",
       "    <tr>\n",
       "      <th>0</th>\n",
       "      <td>703311366262800384</td>\n",
       "      <td>1392131804</td>\n",
       "      <td>2016-02-26 20:11:11+00:00</td>\n",
       "      <td>703311366262800384</td>\n",
       "      <td>de</td>\n",
       "      <td>0</td>\n",
       "      <td>0</td>\n",
       "      <td>2</td>\n",
       "      <td>0</td>\n",
       "      <td>Twitter Web Client</td>\n",
       "      <td>None</td>\n",
       "      <td>None</td>\n",
       "      <td>Wirecard-Chef Markus Braun pumpt irrwitzige Su...</td>\n",
       "    </tr>\n",
       "    <tr>\n",
       "      <th>1</th>\n",
       "      <td>702405572012974080</td>\n",
       "      <td>1053723204</td>\n",
       "      <td>2016-02-24 08:11:53+00:00</td>\n",
       "      <td>702405572012974080</td>\n",
       "      <td>de</td>\n",
       "      <td>0</td>\n",
       "      <td>0</td>\n",
       "      <td>0</td>\n",
       "      <td>0</td>\n",
       "      <td>Twitter Web Client</td>\n",
       "      <td>None</td>\n",
       "      <td>None</td>\n",
       "      <td>Jetzt günstig einsammeln und später absahnen? ...</td>\n",
       "    </tr>\n",
       "    <tr>\n",
       "      <th>2</th>\n",
       "      <td>700578193334411264</td>\n",
       "      <td>19811837</td>\n",
       "      <td>2016-02-19 07:10:32+00:00</td>\n",
       "      <td>700578193334411264</td>\n",
       "      <td>de</td>\n",
       "      <td>2</td>\n",
       "      <td>0</td>\n",
       "      <td>0</td>\n",
       "      <td>0</td>\n",
       "      <td>Twitter Web Client</td>\n",
       "      <td>None</td>\n",
       "      <td>None</td>\n",
       "      <td>Wirecard: Was führt der Vorstand im Schilde? M...</td>\n",
       "    </tr>\n",
       "    <tr>\n",
       "      <th>3</th>\n",
       "      <td>700221272840601601</td>\n",
       "      <td>19811837</td>\n",
       "      <td>2016-02-18 07:32:15+00:00</td>\n",
       "      <td>700221272840601601</td>\n",
       "      <td>de</td>\n",
       "      <td>0</td>\n",
       "      <td>0</td>\n",
       "      <td>1</td>\n",
       "      <td>0</td>\n",
       "      <td>Twitter Web Client</td>\n",
       "      <td>None</td>\n",
       "      <td>None</td>\n",
       "      <td>Wirecard-Vorstand kauft weiter massiv eigene A...</td>\n",
       "    </tr>\n",
       "    <tr>\n",
       "      <th>4</th>\n",
       "      <td>697324084221227008</td>\n",
       "      <td>183289696</td>\n",
       "      <td>2016-02-10 07:39:51+00:00</td>\n",
       "      <td>697324084221227008</td>\n",
       "      <td>de</td>\n",
       "      <td>0</td>\n",
       "      <td>0</td>\n",
       "      <td>0</td>\n",
       "      <td>0</td>\n",
       "      <td>dlvr.it</td>\n",
       "      <td>None</td>\n",
       "      <td>None</td>\n",
       "      <td>📈 Wirecard: Serie von Aktienkäufen des Vorstan...</td>\n",
       "    </tr>\n",
       "  </tbody>\n",
       "</table>\n",
       "</div>"
      ],
      "text/plain": [
       "      conversation_id   author_id                created_at  \\\n",
       "0  703311366262800384  1392131804 2016-02-26 20:11:11+00:00   \n",
       "1  702405572012974080  1053723204 2016-02-24 08:11:53+00:00   \n",
       "2  700578193334411264    19811837 2016-02-19 07:10:32+00:00   \n",
       "3  700221272840601601    19811837 2016-02-18 07:32:15+00:00   \n",
       "4  697324084221227008   183289696 2016-02-10 07:39:51+00:00   \n",
       "\n",
       "             tweet_id lang  retweet_count  reply_count  like_count  \\\n",
       "0  703311366262800384   de              0            0           2   \n",
       "1  702405572012974080   de              0            0           0   \n",
       "2  700578193334411264   de              2            0           0   \n",
       "3  700221272840601601   de              0            0           1   \n",
       "4  697324084221227008   de              0            0           0   \n",
       "\n",
       "   quote_count              source tweet_type referenced_tweet_id  \\\n",
       "0            0  Twitter Web Client       None                None   \n",
       "1            0  Twitter Web Client       None                None   \n",
       "2            0  Twitter Web Client       None                None   \n",
       "3            0  Twitter Web Client       None                None   \n",
       "4            0             dlvr.it       None                None   \n",
       "\n",
       "                                                text  \n",
       "0  Wirecard-Chef Markus Braun pumpt irrwitzige Su...  \n",
       "1  Jetzt günstig einsammeln und später absahnen? ...  \n",
       "2  Wirecard: Was führt der Vorstand im Schilde? M...  \n",
       "3  Wirecard-Vorstand kauft weiter massiv eigene A...  \n",
       "4  📈 Wirecard: Serie von Aktienkäufen des Vorstan...  "
      ]
     },
     "execution_count": 35,
     "metadata": {},
     "output_type": "execute_result"
    }
   ],
   "source": [
    "df_de.head()"
   ]
  },
  {
   "cell_type": "code",
   "execution_count": 36,
   "id": "b504ae64-e57c-4c91-9927-0614a7cee30b",
   "metadata": {
    "tags": []
   },
   "outputs": [
    {
     "data": {
      "text/html": [
       "<div>\n",
       "<style scoped>\n",
       "    .dataframe tbody tr th:only-of-type {\n",
       "        vertical-align: middle;\n",
       "    }\n",
       "\n",
       "    .dataframe tbody tr th {\n",
       "        vertical-align: top;\n",
       "    }\n",
       "\n",
       "    .dataframe thead th {\n",
       "        text-align: right;\n",
       "    }\n",
       "</style>\n",
       "<table border=\"1\" class=\"dataframe\">\n",
       "  <thead>\n",
       "    <tr style=\"text-align: right;\">\n",
       "      <th></th>\n",
       "      <th>conversation_id</th>\n",
       "      <th>author_id</th>\n",
       "      <th>created_at</th>\n",
       "      <th>tweet_id</th>\n",
       "      <th>lang</th>\n",
       "      <th>retweet_count</th>\n",
       "      <th>reply_count</th>\n",
       "      <th>like_count</th>\n",
       "      <th>quote_count</th>\n",
       "      <th>source</th>\n",
       "      <th>tweet_type</th>\n",
       "      <th>referenced_tweet_id</th>\n",
       "      <th>text</th>\n",
       "    </tr>\n",
       "  </thead>\n",
       "  <tbody>\n",
       "    <tr>\n",
       "      <th>114439</th>\n",
       "      <td>1164960547693105153</td>\n",
       "      <td>4584354895</td>\n",
       "      <td>2019-08-23 18:00:13+00:00</td>\n",
       "      <td>1164960547693105153</td>\n",
       "      <td>de</td>\n",
       "      <td>0</td>\n",
       "      <td>0</td>\n",
       "      <td>0</td>\n",
       "      <td>0</td>\n",
       "      <td>tickwatcher</td>\n",
       "      <td>None</td>\n",
       "      <td>None</td>\n",
       "      <td>Top Gainers (&amp;gt;30)UVXY JNUG DRIP OPYGY URR E...</td>\n",
       "    </tr>\n",
       "    <tr>\n",
       "      <th>114440</th>\n",
       "      <td>1228994498610503680</td>\n",
       "      <td>704753138146877440</td>\n",
       "      <td>2020-02-17 17:53:29+00:00</td>\n",
       "      <td>1229463896425205768</td>\n",
       "      <td>de</td>\n",
       "      <td>0</td>\n",
       "      <td>0</td>\n",
       "      <td>2</td>\n",
       "      <td>0</td>\n",
       "      <td>Twitter Web App</td>\n",
       "      <td>replied_to</td>\n",
       "      <td>1229459682403725314</td>\n",
       "      <td>1/ Die Anwälte der Klägerseit...</td>\n",
       "    </tr>\n",
       "    <tr>\n",
       "      <th>114441</th>\n",
       "      <td>1228017316375539712</td>\n",
       "      <td>1138485557502382082</td>\n",
       "      <td>2020-02-13 18:09:16+00:00</td>\n",
       "      <td>1228018315785838593</td>\n",
       "      <td>de</td>\n",
       "      <td>0</td>\n",
       "      <td>0</td>\n",
       "      <td>0</td>\n",
       "      <td>1</td>\n",
       "      <td>Twitter for iPhone</td>\n",
       "      <td>replied_to</td>\n",
       "      <td>1228017316375539712</td>\n",
       "      <td>Ist nicht der WRCDF LV Anteil mit zusätzlichen...</td>\n",
       "    </tr>\n",
       "    <tr>\n",
       "      <th>114442</th>\n",
       "      <td>1275070899822059523</td>\n",
       "      <td>1001192245</td>\n",
       "      <td>2020-06-22 14:19:26+00:00</td>\n",
       "      <td>1275070899822059523</td>\n",
       "      <td>de</td>\n",
       "      <td>0</td>\n",
       "      <td>0</td>\n",
       "      <td>0</td>\n",
       "      <td>0</td>\n",
       "      <td>TalkMarketsApp</td>\n",
       "      <td>None</td>\n",
       "      <td>None</td>\n",
       "      <td>Olaf Scholz - The German Finance Minister Is D...</td>\n",
       "    </tr>\n",
       "    <tr>\n",
       "      <th>114443</th>\n",
       "      <td>1271435871364042754</td>\n",
       "      <td>392388185</td>\n",
       "      <td>2020-06-12 13:45:22+00:00</td>\n",
       "      <td>1271438445500682244</td>\n",
       "      <td>de</td>\n",
       "      <td>0</td>\n",
       "      <td>1</td>\n",
       "      <td>9</td>\n",
       "      <td>0</td>\n",
       "      <td>Twitter Web App</td>\n",
       "      <td>replied_to</td>\n",
       "      <td>1271435871364042754</td>\n",
       "      <td>12.06. WDI              29,09 Mio.  +1,16% (v...</td>\n",
       "    </tr>\n",
       "  </tbody>\n",
       "</table>\n",
       "</div>"
      ],
      "text/plain": [
       "            conversation_id            author_id                created_at  \\\n",
       "114439  1164960547693105153           4584354895 2019-08-23 18:00:13+00:00   \n",
       "114440  1228994498610503680   704753138146877440 2020-02-17 17:53:29+00:00   \n",
       "114441  1228017316375539712  1138485557502382082 2020-02-13 18:09:16+00:00   \n",
       "114442  1275070899822059523           1001192245 2020-06-22 14:19:26+00:00   \n",
       "114443  1271435871364042754            392388185 2020-06-12 13:45:22+00:00   \n",
       "\n",
       "                   tweet_id lang  retweet_count  reply_count  like_count  \\\n",
       "114439  1164960547693105153   de              0            0           0   \n",
       "114440  1229463896425205768   de              0            0           2   \n",
       "114441  1228018315785838593   de              0            0           0   \n",
       "114442  1275070899822059523   de              0            0           0   \n",
       "114443  1271438445500682244   de              0            1           9   \n",
       "\n",
       "        quote_count              source  tweet_type  referenced_tweet_id  \\\n",
       "114439            0         tickwatcher        None                 None   \n",
       "114440            0     Twitter Web App  replied_to  1229459682403725314   \n",
       "114441            1  Twitter for iPhone  replied_to  1228017316375539712   \n",
       "114442            0      TalkMarketsApp        None                 None   \n",
       "114443            0     Twitter Web App  replied_to  1271435871364042754   \n",
       "\n",
       "                                                     text  \n",
       "114439  Top Gainers (&gt;30)UVXY JNUG DRIP OPYGY URR E...  \n",
       "114440                   1/ Die Anwälte der Klägerseit...  \n",
       "114441  Ist nicht der WRCDF LV Anteil mit zusätzlichen...  \n",
       "114442  Olaf Scholz - The German Finance Minister Is D...  \n",
       "114443   12.06. WDI              29,09 Mio.  +1,16% (v...  "
      ]
     },
     "execution_count": 36,
     "metadata": {},
     "output_type": "execute_result"
    }
   ],
   "source": [
    "df_de.tail()"
   ]
  },
  {
   "cell_type": "code",
   "execution_count": 37,
   "id": "1ef7ae7b-2415-4258-97ce-2aa41a09eae4",
   "metadata": {},
   "outputs": [
    {
     "data": {
      "text/plain": [
       "conversation_id                                       700578193334411264\n",
       "author_id                                                       19811837\n",
       "created_at                                     2016-02-19 07:10:32+00:00\n",
       "tweet_id                                              700578193334411264\n",
       "lang                                                                  de\n",
       "retweet_count                                                          2\n",
       "reply_count                                                            0\n",
       "like_count                                                             0\n",
       "quote_count                                                            0\n",
       "source                                                Twitter Web Client\n",
       "tweet_type                                                          None\n",
       "referenced_tweet_id                                                 None\n",
       "text                   Wirecard: Was führt der Vorstand im Schilde? M...\n",
       "Name: 2, dtype: object"
      ]
     },
     "execution_count": 37,
     "metadata": {},
     "output_type": "execute_result"
    }
   ],
   "source": [
    "df_de.iloc[2]"
   ]
  },
  {
   "cell_type": "markdown",
   "id": "b9feceb0-648e-4a1e-b206-496bfa02544a",
   "metadata": {},
   "source": [
    "<p><b>Fertig</b> mit der Vorverarbeitung der Daten in deutsch. Es ist nun ein Datensatz verfügbar mit allen Tweets für den deutschsprachigen Raum. Es sind keine doppelten Tweets enthalten, solange diese keine gleiche tweet_id enthalten. Auch Nutzer und tweets, die nichts zu dem eigentlichen Thema Wirecard beitragen sind nicht mehr im Datensatz enthalten. Vereinzelt können natürlich unnütze Tweets vorhanden sein, aber die Nutzer mit vielen Interaktionen sind überprüft und auch die Begriffe, die besonders oft vorkommen sind überprüft worden, ob diese etwas mit dem Thema zu tun haben.<br>Jetzt muss das gleich noch mit den Englischen tweets geschehen und dann müssen Datensätze zur Überprüfung ausgegeben werden.<br> Um den zufälligen Datensatz zu erstellen sollte ich noch einen zufallszahlengenerator nutzen, sodass ich möglichst zufällige Tweets zum testen erhalte. Hier scheint die Pandas Funktion <b>\"sample\"</b> gut geeignet zu sein. </p>"
   ]
  },
  {
   "cell_type": "code",
   "execution_count": 40,
   "id": "a19ee6d9-7ec6-4e20-a1a6-462df3bbbbb7",
   "metadata": {
    "collapsed": true,
    "jupyter": {
     "outputs_hidden": true
    },
    "tags": []
   },
   "outputs": [
    {
     "data": {
      "text/html": [
       "<div>\n",
       "<style scoped>\n",
       "    .dataframe tbody tr th:only-of-type {\n",
       "        vertical-align: middle;\n",
       "    }\n",
       "\n",
       "    .dataframe tbody tr th {\n",
       "        vertical-align: top;\n",
       "    }\n",
       "\n",
       "    .dataframe thead th {\n",
       "        text-align: right;\n",
       "    }\n",
       "</style>\n",
       "<table border=\"1\" class=\"dataframe\">\n",
       "  <thead>\n",
       "    <tr style=\"text-align: right;\">\n",
       "      <th></th>\n",
       "      <th>conversation_id</th>\n",
       "      <th>author_id</th>\n",
       "      <th>created_at</th>\n",
       "      <th>tweet_id</th>\n",
       "      <th>lang</th>\n",
       "      <th>retweet_count</th>\n",
       "      <th>reply_count</th>\n",
       "      <th>like_count</th>\n",
       "      <th>quote_count</th>\n",
       "      <th>source</th>\n",
       "      <th>tweet_type</th>\n",
       "      <th>referenced_tweet_id</th>\n",
       "      <th>text</th>\n",
       "    </tr>\n",
       "  </thead>\n",
       "  <tbody>\n",
       "    <tr>\n",
       "      <th>69503</th>\n",
       "      <td>1277525797243412480</td>\n",
       "      <td>1245423304304926727</td>\n",
       "      <td>2020-06-29 08:54:20+00:00</td>\n",
       "      <td>1277525797243412480</td>\n",
       "      <td>de</td>\n",
       "      <td>0</td>\n",
       "      <td>0</td>\n",
       "      <td>0</td>\n",
       "      <td>0</td>\n",
       "      <td>Blog2Social APP</td>\n",
       "      <td>None</td>\n",
       "      <td>None</td>\n",
       "      <td>Aktien in diesem ArtikelMan werde eine \"schnel...</td>\n",
       "    </tr>\n",
       "    <tr>\n",
       "      <th>78607</th>\n",
       "      <td>1275397576221765633</td>\n",
       "      <td>331867773</td>\n",
       "      <td>2020-06-23 21:29:21+00:00</td>\n",
       "      <td>1275541480271200258</td>\n",
       "      <td>de</td>\n",
       "      <td>0</td>\n",
       "      <td>0</td>\n",
       "      <td>1</td>\n",
       "      <td>0</td>\n",
       "      <td>Twitter for iPad</td>\n",
       "      <td>replied_to</td>\n",
       "      <td>1275397576221765633</td>\n",
       "      <td>Offensichtlich haben die Aufsichtsbehörden ni...</td>\n",
       "    </tr>\n",
       "    <tr>\n",
       "      <th>7263</th>\n",
       "      <td>1285235188633677824</td>\n",
       "      <td>1118219555967520769</td>\n",
       "      <td>2020-07-20 19:54:11+00:00</td>\n",
       "      <td>1285302000780009481</td>\n",
       "      <td>de</td>\n",
       "      <td>0</td>\n",
       "      <td>0</td>\n",
       "      <td>0</td>\n",
       "      <td>0</td>\n",
       "      <td>Twitter for iPhone</td>\n",
       "      <td>replied_to</td>\n",
       "      <td>1285301765789933570</td>\n",
       "      <td>hat auf der ganze Line als Finanzminister ...</td>\n",
       "    </tr>\n",
       "    <tr>\n",
       "      <th>32865</th>\n",
       "      <td>1071003895101566977</td>\n",
       "      <td>2280206959</td>\n",
       "      <td>2018-12-07 11:30:01+00:00</td>\n",
       "      <td>1071003895101566977</td>\n",
       "      <td>de</td>\n",
       "      <td>0</td>\n",
       "      <td>0</td>\n",
       "      <td>0</td>\n",
       "      <td>0</td>\n",
       "      <td>Freie-Welt</td>\n",
       "      <td>None</td>\n",
       "      <td>None</td>\n",
       "      <td>DAX startet nach Einbruch freundlicher – Wirec...</td>\n",
       "    </tr>\n",
       "    <tr>\n",
       "      <th>62348</th>\n",
       "      <td>1255054199756337154</td>\n",
       "      <td>3029833842</td>\n",
       "      <td>2020-04-28 08:41:03+00:00</td>\n",
       "      <td>1255054410343952384</td>\n",
       "      <td>de</td>\n",
       "      <td>0</td>\n",
       "      <td>0</td>\n",
       "      <td>1</td>\n",
       "      <td>0</td>\n",
       "      <td>Twitter Web App</td>\n",
       "      <td>replied_to</td>\n",
       "      <td>1255054199756337154</td>\n",
       "      <td>sie haben nix von wirecard bekommen, was sie ...</td>\n",
       "    </tr>\n",
       "    <tr>\n",
       "      <th>76553</th>\n",
       "      <td>1276077305354432512</td>\n",
       "      <td>1010819870</td>\n",
       "      <td>2020-06-25 08:58:32+00:00</td>\n",
       "      <td>1276077305354432512</td>\n",
       "      <td>de</td>\n",
       "      <td>0</td>\n",
       "      <td>0</td>\n",
       "      <td>1</td>\n",
       "      <td>0</td>\n",
       "      <td>Twitter Web App</td>\n",
       "      <td>quoted</td>\n",
       "      <td>1276074792597303298</td>\n",
       "      <td>Interessant, dass der Börsenhandel bis heute n...</td>\n",
       "    </tr>\n",
       "    <tr>\n",
       "      <th>49755</th>\n",
       "      <td>1161203634283192320</td>\n",
       "      <td>19811837</td>\n",
       "      <td>2019-08-13 09:11:35+00:00</td>\n",
       "      <td>1161203634283192320</td>\n",
       "      <td>de</td>\n",
       "      <td>0</td>\n",
       "      <td>0</td>\n",
       "      <td>1</td>\n",
       "      <td>0</td>\n",
       "      <td>Echobox</td>\n",
       "      <td>None</td>\n",
       "      <td>None</td>\n",
       "      <td>Wirecard-Aktie: Achtung, hier wird es brenzlig!</td>\n",
       "    </tr>\n",
       "    <tr>\n",
       "      <th>110701</th>\n",
       "      <td>1280034898762489856</td>\n",
       "      <td>176719569</td>\n",
       "      <td>2020-07-06 07:04:36+00:00</td>\n",
       "      <td>1280034898762489856</td>\n",
       "      <td>de</td>\n",
       "      <td>1</td>\n",
       "      <td>0</td>\n",
       "      <td>1</td>\n",
       "      <td>0</td>\n",
       "      <td>Twitter Web App</td>\n",
       "      <td>None</td>\n",
       "      <td>None</td>\n",
       "      <td>Wow, die deutsche Politik und die Bafin entdec...</td>\n",
       "    </tr>\n",
       "    <tr>\n",
       "      <th>51357</th>\n",
       "      <td>1188900278499774465</td>\n",
       "      <td>259733922</td>\n",
       "      <td>2019-10-28 19:28:09+00:00</td>\n",
       "      <td>1188900278499774465</td>\n",
       "      <td>de</td>\n",
       "      <td>0</td>\n",
       "      <td>0</td>\n",
       "      <td>0</td>\n",
       "      <td>0</td>\n",
       "      <td>Google</td>\n",
       "      <td>None</td>\n",
       "      <td>None</td>\n",
       "      <td>Wirecard: Anhebung des Short-Engagements von M...</td>\n",
       "    </tr>\n",
       "    <tr>\n",
       "      <th>40377</th>\n",
       "      <td>1110528802248110081</td>\n",
       "      <td>340329223</td>\n",
       "      <td>2019-03-26 13:07:53+00:00</td>\n",
       "      <td>1110528802248110081</td>\n",
       "      <td>de</td>\n",
       "      <td>0</td>\n",
       "      <td>0</td>\n",
       "      <td>0</td>\n",
       "      <td>1</td>\n",
       "      <td>sjbblog.de</td>\n",
       "      <td>None</td>\n",
       "      <td>None</td>\n",
       "      <td>DGAP-Adhoc: Wirecard AG: Externe Untersuchung ...</td>\n",
       "    </tr>\n",
       "    <tr>\n",
       "      <th>31647</th>\n",
       "      <td>1062613180470476800</td>\n",
       "      <td>340329223</td>\n",
       "      <td>2018-11-14 07:48:19+00:00</td>\n",
       "      <td>1062613180470476800</td>\n",
       "      <td>de</td>\n",
       "      <td>0</td>\n",
       "      <td>0</td>\n",
       "      <td>0</td>\n",
       "      <td>0</td>\n",
       "      <td>sjbblog.de</td>\n",
       "      <td>None</td>\n",
       "      <td>None</td>\n",
       "      <td>ANALYSE-FLASH: Morgan Stanley belässt Wirecard...</td>\n",
       "    </tr>\n",
       "    <tr>\n",
       "      <th>18968</th>\n",
       "      <td>889324366428811267</td>\n",
       "      <td>2317442264</td>\n",
       "      <td>2017-07-24 03:20:26+00:00</td>\n",
       "      <td>889324366428811267</td>\n",
       "      <td>de</td>\n",
       "      <td>0</td>\n",
       "      <td>0</td>\n",
       "      <td>0</td>\n",
       "      <td>0</td>\n",
       "      <td>DW_munic_Jobbörse</td>\n",
       "      <td>None</td>\n",
       "      <td>None</td>\n",
       "      <td>🔍 Wirecard Technologies GmbH sucht Integration...</td>\n",
       "    </tr>\n",
       "    <tr>\n",
       "      <th>112776</th>\n",
       "      <td>1278680221965856768</td>\n",
       "      <td>1079266247546753024</td>\n",
       "      <td>2020-07-02 13:26:24+00:00</td>\n",
       "      <td>1278681431275974658</td>\n",
       "      <td>de</td>\n",
       "      <td>0</td>\n",
       "      <td>1</td>\n",
       "      <td>1</td>\n",
       "      <td>0</td>\n",
       "      <td>Twitter for Android</td>\n",
       "      <td>replied_to</td>\n",
       "      <td>1278680221965856768</td>\n",
       "      <td>Da gibt es leider keine Hilfe! Wirecard und D...</td>\n",
       "    </tr>\n",
       "    <tr>\n",
       "      <th>63558</th>\n",
       "      <td>1251505817226018816</td>\n",
       "      <td>77220394</td>\n",
       "      <td>2020-04-18 13:40:13+00:00</td>\n",
       "      <td>1251505817226018816</td>\n",
       "      <td>de</td>\n",
       "      <td>0</td>\n",
       "      <td>0</td>\n",
       "      <td>1</td>\n",
       "      <td>0</td>\n",
       "      <td>Twitter Web App</td>\n",
       "      <td>None</td>\n",
       "      <td>None</td>\n",
       "      <td>WIRECARD - Hier ist der Deckel drauf!</td>\n",
       "    </tr>\n",
       "    <tr>\n",
       "      <th>65051</th>\n",
       "      <td>1263741813673918465</td>\n",
       "      <td>1159698800790953984</td>\n",
       "      <td>2020-05-22 08:01:42+00:00</td>\n",
       "      <td>1263741813673918465</td>\n",
       "      <td>de</td>\n",
       "      <td>0</td>\n",
       "      <td>5</td>\n",
       "      <td>3</td>\n",
       "      <td>2</td>\n",
       "      <td>Twitter for iPhone</td>\n",
       "      <td>None</td>\n",
       "      <td>None</td>\n",
       "      <td>Wirecard  \"der Aktionär\" muss es zum Wochensch...</td>\n",
       "    </tr>\n",
       "    <tr>\n",
       "      <th>112950</th>\n",
       "      <td>1278639840335204352</td>\n",
       "      <td>1085664344</td>\n",
       "      <td>2020-07-02 10:43:55+00:00</td>\n",
       "      <td>1278640539248799747</td>\n",
       "      <td>de</td>\n",
       "      <td>0</td>\n",
       "      <td>1</td>\n",
       "      <td>2</td>\n",
       "      <td>0</td>\n",
       "      <td>Twitter Web App</td>\n",
       "      <td>replied_to</td>\n",
       "      <td>1278640230912983041</td>\n",
       "      <td>Ich bau mir aus den Wirecard Aktien Papierflu...</td>\n",
       "    </tr>\n",
       "    <tr>\n",
       "      <th>81367</th>\n",
       "      <td>1275091419678597120</td>\n",
       "      <td>1239515792011649024</td>\n",
       "      <td>2020-06-22 15:40:59+00:00</td>\n",
       "      <td>1275091419678597120</td>\n",
       "      <td>de</td>\n",
       "      <td>1</td>\n",
       "      <td>1</td>\n",
       "      <td>2</td>\n",
       "      <td>0</td>\n",
       "      <td>Twitter for iPhone</td>\n",
       "      <td>None</td>\n",
       "      <td>None</td>\n",
       "      <td>Wann wird eigentlich über das Totalversagen de...</td>\n",
       "    </tr>\n",
       "    <tr>\n",
       "      <th>1952</th>\n",
       "      <td>1225069953696632832</td>\n",
       "      <td>743798562593640448</td>\n",
       "      <td>2020-02-05 18:49:52+00:00</td>\n",
       "      <td>1225129428885409792</td>\n",
       "      <td>de</td>\n",
       "      <td>0</td>\n",
       "      <td>1</td>\n",
       "      <td>2</td>\n",
       "      <td>0</td>\n",
       "      <td>Twitter for iPhone</td>\n",
       "      <td>replied_to</td>\n",
       "      <td>1225069953696632832</td>\n",
       "      <td>Ich würde gerne positive Nachrichten zu Wi...</td>\n",
       "    </tr>\n",
       "    <tr>\n",
       "      <th>53604</th>\n",
       "      <td>1179726384329048064</td>\n",
       "      <td>386165847</td>\n",
       "      <td>2019-10-03 11:54:22+00:00</td>\n",
       "      <td>1179726384329048064</td>\n",
       "      <td>de</td>\n",
       "      <td>0</td>\n",
       "      <td>0</td>\n",
       "      <td>1</td>\n",
       "      <td>0</td>\n",
       "      <td>IFTTT</td>\n",
       "      <td>None</td>\n",
       "      <td>None</td>\n",
       "      <td>Untersuchung zur Berichterstattung : \"FT\" sieh...</td>\n",
       "    </tr>\n",
       "    <tr>\n",
       "      <th>98611</th>\n",
       "      <td>1286397010556444672</td>\n",
       "      <td>1213095316657860608</td>\n",
       "      <td>2020-07-23 20:30:23+00:00</td>\n",
       "      <td>1286398273209733121</td>\n",
       "      <td>de</td>\n",
       "      <td>4</td>\n",
       "      <td>0</td>\n",
       "      <td>7</td>\n",
       "      <td>0</td>\n",
       "      <td>Twitter for iPhone</td>\n",
       "      <td>replied_to</td>\n",
       "      <td>1286397010556444672</td>\n",
       "      <td>Und wer war eigentlich der zweiter suizid? Irg...</td>\n",
       "    </tr>\n",
       "  </tbody>\n",
       "</table>\n",
       "</div>"
      ],
      "text/plain": [
       "            conversation_id            author_id                created_at  \\\n",
       "69503   1277525797243412480  1245423304304926727 2020-06-29 08:54:20+00:00   \n",
       "78607   1275397576221765633            331867773 2020-06-23 21:29:21+00:00   \n",
       "7263    1285235188633677824  1118219555967520769 2020-07-20 19:54:11+00:00   \n",
       "32865   1071003895101566977           2280206959 2018-12-07 11:30:01+00:00   \n",
       "62348   1255054199756337154           3029833842 2020-04-28 08:41:03+00:00   \n",
       "76553   1276077305354432512           1010819870 2020-06-25 08:58:32+00:00   \n",
       "49755   1161203634283192320             19811837 2019-08-13 09:11:35+00:00   \n",
       "110701  1280034898762489856            176719569 2020-07-06 07:04:36+00:00   \n",
       "51357   1188900278499774465            259733922 2019-10-28 19:28:09+00:00   \n",
       "40377   1110528802248110081            340329223 2019-03-26 13:07:53+00:00   \n",
       "31647   1062613180470476800            340329223 2018-11-14 07:48:19+00:00   \n",
       "18968    889324366428811267           2317442264 2017-07-24 03:20:26+00:00   \n",
       "112776  1278680221965856768  1079266247546753024 2020-07-02 13:26:24+00:00   \n",
       "63558   1251505817226018816             77220394 2020-04-18 13:40:13+00:00   \n",
       "65051   1263741813673918465  1159698800790953984 2020-05-22 08:01:42+00:00   \n",
       "112950  1278639840335204352           1085664344 2020-07-02 10:43:55+00:00   \n",
       "81367   1275091419678597120  1239515792011649024 2020-06-22 15:40:59+00:00   \n",
       "1952    1225069953696632832   743798562593640448 2020-02-05 18:49:52+00:00   \n",
       "53604   1179726384329048064            386165847 2019-10-03 11:54:22+00:00   \n",
       "98611   1286397010556444672  1213095316657860608 2020-07-23 20:30:23+00:00   \n",
       "\n",
       "                   tweet_id lang  retweet_count  reply_count  like_count  \\\n",
       "69503   1277525797243412480   de              0            0           0   \n",
       "78607   1275541480271200258   de              0            0           1   \n",
       "7263    1285302000780009481   de              0            0           0   \n",
       "32865   1071003895101566977   de              0            0           0   \n",
       "62348   1255054410343952384   de              0            0           1   \n",
       "76553   1276077305354432512   de              0            0           1   \n",
       "49755   1161203634283192320   de              0            0           1   \n",
       "110701  1280034898762489856   de              1            0           1   \n",
       "51357   1188900278499774465   de              0            0           0   \n",
       "40377   1110528802248110081   de              0            0           0   \n",
       "31647   1062613180470476800   de              0            0           0   \n",
       "18968    889324366428811267   de              0            0           0   \n",
       "112776  1278681431275974658   de              0            1           1   \n",
       "63558   1251505817226018816   de              0            0           1   \n",
       "65051   1263741813673918465   de              0            5           3   \n",
       "112950  1278640539248799747   de              0            1           2   \n",
       "81367   1275091419678597120   de              1            1           2   \n",
       "1952    1225129428885409792   de              0            1           2   \n",
       "53604   1179726384329048064   de              0            0           1   \n",
       "98611   1286398273209733121   de              4            0           7   \n",
       "\n",
       "        quote_count               source  tweet_type  referenced_tweet_id  \\\n",
       "69503             0      Blog2Social APP        None                 None   \n",
       "78607             0     Twitter for iPad  replied_to  1275397576221765633   \n",
       "7263              0   Twitter for iPhone  replied_to  1285301765789933570   \n",
       "32865             0           Freie-Welt        None                 None   \n",
       "62348             0      Twitter Web App  replied_to  1255054199756337154   \n",
       "76553             0      Twitter Web App      quoted  1276074792597303298   \n",
       "49755             0              Echobox        None                 None   \n",
       "110701            0      Twitter Web App        None                 None   \n",
       "51357             0               Google        None                 None   \n",
       "40377             1           sjbblog.de        None                 None   \n",
       "31647             0           sjbblog.de        None                 None   \n",
       "18968             0    DW_munic_Jobbörse        None                 None   \n",
       "112776            0  Twitter for Android  replied_to  1278680221965856768   \n",
       "63558             0      Twitter Web App        None                 None   \n",
       "65051             2   Twitter for iPhone        None                 None   \n",
       "112950            0      Twitter Web App  replied_to  1278640230912983041   \n",
       "81367             0   Twitter for iPhone        None                 None   \n",
       "1952              0   Twitter for iPhone  replied_to  1225069953696632832   \n",
       "53604             0                IFTTT        None                 None   \n",
       "98611             0   Twitter for iPhone  replied_to  1286397010556444672   \n",
       "\n",
       "                                                     text  \n",
       "69503   Aktien in diesem ArtikelMan werde eine \"schnel...  \n",
       "78607    Offensichtlich haben die Aufsichtsbehörden ni...  \n",
       "7263        hat auf der ganze Line als Finanzminister ...  \n",
       "32865   DAX startet nach Einbruch freundlicher – Wirec...  \n",
       "62348    sie haben nix von wirecard bekommen, was sie ...  \n",
       "76553   Interessant, dass der Börsenhandel bis heute n...  \n",
       "49755   Wirecard-Aktie: Achtung, hier wird es brenzlig!    \n",
       "110701  Wow, die deutsche Politik und die Bafin entdec...  \n",
       "51357   Wirecard: Anhebung des Short-Engagements von M...  \n",
       "40377   DGAP-Adhoc: Wirecard AG: Externe Untersuchung ...  \n",
       "31647   ANALYSE-FLASH: Morgan Stanley belässt Wirecard...  \n",
       "18968   🔍 Wirecard Technologies GmbH sucht Integration...  \n",
       "112776   Da gibt es leider keine Hilfe! Wirecard und D...  \n",
       "63558              WIRECARD - Hier ist der Deckel drauf!   \n",
       "65051   Wirecard  \"der Aktionär\" muss es zum Wochensch...  \n",
       "112950   Ich bau mir aus den Wirecard Aktien Papierflu...  \n",
       "81367   Wann wird eigentlich über das Totalversagen de...  \n",
       "1952        Ich würde gerne positive Nachrichten zu Wi...  \n",
       "53604   Untersuchung zur Berichterstattung : \"FT\" sieh...  \n",
       "98611   Und wer war eigentlich der zweiter suizid? Irg...  "
      ]
     },
     "execution_count": 40,
     "metadata": {},
     "output_type": "execute_result"
    }
   ],
   "source": [
    "df_de.sample(n = 20)"
   ]
  },
  {
   "cell_type": "markdown",
   "id": "fcc4868f-5226-499e-a4f1-ec1090731c70",
   "metadata": {},
   "source": [
    "<h2>Finalen Datensatz als CSV ausgeben.</h2>"
   ]
  },
  {
   "cell_type": "code",
   "execution_count": 42,
   "id": "7f516bc4-b923-4c1c-aa84-47fbd58974a7",
   "metadata": {},
   "outputs": [],
   "source": [
    "df_de.to_csv('Dataset_Wirecard.csv', sep=';', index=False)"
   ]
  },
  {
   "cell_type": "code",
   "execution_count": null,
   "id": "ae61aa8d-1989-49a4-9007-bbe29dafb38e",
   "metadata": {
    "tags": []
   },
   "outputs": [],
   "source": [
    "df_validation_sentiment.head()"
   ]
  },
  {
   "cell_type": "markdown",
   "id": "331f7e57-671e-451c-a3eb-98ffc68393a5",
   "metadata": {},
   "source": [
    "<h2>Erstellen der CSV zur Überprüfung der Sentiment Ergebnisse</h2>"
   ]
  },
  {
   "cell_type": "code",
   "execution_count": 57,
   "id": "61f530a2-77d3-443d-8889-0e2a69382ad4",
   "metadata": {},
   "outputs": [
    {
     "data": {
      "text/html": [
       "<div>\n",
       "<style scoped>\n",
       "    .dataframe tbody tr th:only-of-type {\n",
       "        vertical-align: middle;\n",
       "    }\n",
       "\n",
       "    .dataframe tbody tr th {\n",
       "        vertical-align: top;\n",
       "    }\n",
       "\n",
       "    .dataframe thead th {\n",
       "        text-align: right;\n",
       "    }\n",
       "</style>\n",
       "<table border=\"1\" class=\"dataframe\">\n",
       "  <thead>\n",
       "    <tr style=\"text-align: right;\">\n",
       "      <th></th>\n",
       "      <th>tweet_id</th>\n",
       "      <th>text</th>\n",
       "    </tr>\n",
       "  </thead>\n",
       "  <tbody>\n",
       "    <tr>\n",
       "      <th>107505</th>\n",
       "      <td>1282624461716553728</td>\n",
       "      <td>Bei wirecard versagte noch VOR den Wirtschafts...</td>\n",
       "    </tr>\n",
       "    <tr>\n",
       "      <th>92212</th>\n",
       "      <td>1269968467828117506</td>\n",
       "      <td>Angesichts laufender Ermittlungen und der Durc...</td>\n",
       "    </tr>\n",
       "    <tr>\n",
       "      <th>5712</th>\n",
       "      <td>1273934114589155338</td>\n",
       "      <td>Rücktritt. Endlich. Ich gehe davon aus, dass ...</td>\n",
       "    </tr>\n",
       "    <tr>\n",
       "      <th>58198</th>\n",
       "      <td>1215973676904058880</td>\n",
       "      <td>Thomas Eichelmann wird neuer Aufsichtsratsvors...</td>\n",
       "    </tr>\n",
       "    <tr>\n",
       "      <th>89605</th>\n",
       "      <td>1273567326118596614</td>\n",
       "      <td>kein Problem. Wirecard sackt um 50% ab und au...</td>\n",
       "    </tr>\n",
       "    <tr>\n",
       "      <th>73670</th>\n",
       "      <td>1276259397061292032</td>\n",
       "      <td>Post wirecard. Was ist eure neue Anlagestrategie?</td>\n",
       "    </tr>\n",
       "    <tr>\n",
       "      <th>105557</th>\n",
       "      <td>1283828704750313477</td>\n",
       "      <td>Bundesfinanzminister Scholz hatte seit Februar...</td>\n",
       "    </tr>\n",
       "    <tr>\n",
       "      <th>77083</th>\n",
       "      <td>1276055514208755712</td>\n",
       "      <td>Bayer könnte wegen des Glyphosat-Vergleichs ei...</td>\n",
       "    </tr>\n",
       "    <tr>\n",
       "      <th>96547</th>\n",
       "      <td>1288015354686570496</td>\n",
       "      <td>Liebe dass Wirecard offenbar ein Ponzi Scheme ...</td>\n",
       "    </tr>\n",
       "    <tr>\n",
       "      <th>59205</th>\n",
       "      <td>1229322849891962885</td>\n",
       "      <td>🌏 Wirecard-Aktie schwach: Rechtsstreit mit Fin...</td>\n",
       "    </tr>\n",
       "  </tbody>\n",
       "</table>\n",
       "</div>"
      ],
      "text/plain": [
       "                   tweet_id                                               text\n",
       "107505  1282624461716553728  Bei wirecard versagte noch VOR den Wirtschafts...\n",
       "92212   1269968467828117506  Angesichts laufender Ermittlungen und der Durc...\n",
       "5712    1273934114589155338   Rücktritt. Endlich. Ich gehe davon aus, dass ...\n",
       "58198   1215973676904058880  Thomas Eichelmann wird neuer Aufsichtsratsvors...\n",
       "89605   1273567326118596614   kein Problem. Wirecard sackt um 50% ab und au...\n",
       "73670   1276259397061292032  Post wirecard. Was ist eure neue Anlagestrategie?\n",
       "105557  1283828704750313477  Bundesfinanzminister Scholz hatte seit Februar...\n",
       "77083   1276055514208755712  Bayer könnte wegen des Glyphosat-Vergleichs ei...\n",
       "96547   1288015354686570496  Liebe dass Wirecard offenbar ein Ponzi Scheme ...\n",
       "59205   1229322849891962885  🌏 Wirecard-Aktie schwach: Rechtsstreit mit Fin..."
      ]
     },
     "execution_count": 57,
     "metadata": {},
     "output_type": "execute_result"
    }
   ],
   "source": [
    "df_de.sample(n=10)[[\"tweet_id\", \"text\"]]"
   ]
  },
  {
   "cell_type": "code",
   "execution_count": 66,
   "id": "f44c9062-f71d-458f-b282-2a25ed42aba1",
   "metadata": {},
   "outputs": [
    {
     "name": "stdout",
     "output_type": "stream",
     "text": [
      "Start bei 0 und ende bei 99. Name der Datei: de_validation_0.csv\n",
      "Start bei 100 und ende bei 199. Name der Datei: de_validation_1.csv\n",
      "Start bei 200 und ende bei 299. Name der Datei: de_validation_2.csv\n",
      "Start bei 300 und ende bei 399. Name der Datei: de_validation_3.csv\n",
      "Start bei 400 und ende bei 499. Name der Datei: de_validation_4.csv\n",
      "Start bei 500 und ende bei 599. Name der Datei: de_validation_5.csv\n",
      "Start bei 600 und ende bei 699. Name der Datei: de_validation_6.csv\n",
      "Start bei 700 und ende bei 799. Name der Datei: de_validation_7.csv\n",
      "Start bei 800 und ende bei 899. Name der Datei: de_validation_8.csv\n",
      "Start bei 900 und ende bei 999. Name der Datei: de_validation_9.csv\n",
      "Start bei 1000 und ende bei 1099. Name der Datei: de_validation_10.csv\n",
      "Start bei 1100 und ende bei 1199. Name der Datei: de_validation_11.csv\n",
      "Start bei 1200 und ende bei 1299. Name der Datei: de_validation_12.csv\n",
      "Start bei 1300 und ende bei 1399. Name der Datei: de_validation_13.csv\n",
      "Start bei 1400 und ende bei 1499. Name der Datei: de_validation_14.csv\n"
     ]
    }
   ],
   "source": [
    "df_sentiment_validation = df_de.sample(n = 1500)[[\"tweet_id\", \"text\"]]\n",
    "batch = 14\n",
    "counter = 0 \n",
    "for batch in range(0,15):\n",
    "    start = 100*batch\n",
    "    end = 100*batch+99\n",
    "    csv_name = 'de_validation_{count}.csv'.format(count=batch)\n",
    "    df_sentiment_validation.iloc[start:end].to_csv(csv_name, sep=';', index=False)\n",
    "    print(\"Start bei {start} und ende bei {ende}. Name der Datei: {csv}\".format(start=start, ende=end, csv=csv_name))"
   ]
  },
  {
   "cell_type": "markdown",
   "id": "54458e24-305e-4980-b1a0-0d130ac27b59",
   "metadata": {
    "jp-MarkdownHeadingCollapsed": true,
    "tags": []
   },
   "source": [
    "<h1>Weitere Überprüfungen der Daten</h1>\n",
    "<p>Hier sind die Überprüfungen aufgeführt, die vorgenommen werden mussten um den Datensatz vorzubereiten. Das eigentliche Löschen der nicht benötigten Daten ist bereits weiter oben vorgenommen worden.</p>"
   ]
  },
  {
   "cell_type": "markdown",
   "id": "e856005f-7996-4de9-ac39-50b312d8678e",
   "metadata": {
    "jp-MarkdownHeadingCollapsed": true,
    "tags": []
   },
   "source": [
    "<h2>Überprüfung der Wörter in den Tweets</h2>\n",
    "<p>Ich prüfe wie oft die einzelnen Wörter in den jeweiligen Tweets vorkommen um ggf. nicht passende Wörter zu ermitteln.</p>\n",
    "<p>Ladeb von deutschen Stop Wörtern um diese zu filter, da diese keinen wirklichen Mehrwert bieten. <br> Anschließend wird das Hanover Tagger Modell geladen um die Lemmatisierung durchzuführen um Wörter auf die Grundform zu reduzieren.</p>"
   ]
  },
  {
   "cell_type": "code",
   "execution_count": null,
   "id": "159dd6a3-5600-4c0e-a042-78816551a93f",
   "metadata": {},
   "outputs": [],
   "source": [
    "german_stop_words = stopwords.words('german')\n",
    "tagger = ht.HanoverTagger('morphmodel_ger.pgz')"
   ]
  },
  {
   "cell_type": "markdown",
   "id": "fb6a7161-20e4-4c87-b6ca-140f7fd3ee17",
   "metadata": {},
   "source": [
    "<p>Lemmatisierung um zu den jeweiligen Wörtern die Grundform zu erhalten. Dies wird mit den ganzen Tweets gemacht umd die Wörter im Kontext betrachten zu können (?). </p>"
   ]
  },
  {
   "cell_type": "code",
   "execution_count": null,
   "id": "c5cb0469-bf78-44d3-b11e-9e578e1e89b4",
   "metadata": {},
   "outputs": [],
   "source": [
    "tweet_list = df_manager_de[\"text\"].tolist()\n",
    "lemma_list = []\n",
    "\n",
    "for tweet in tweet_list:\n",
    "    lemma = [lemma for (word, lemma, pos) in tagger.tag_sent(tweet.split())]\n",
    "    lemma_list.append(' '.join(lemma))"
   ]
  },
  {
   "cell_type": "markdown",
   "id": "7aa6179a-3465-435b-b27e-a2b806c5f2fc",
   "metadata": {},
   "source": [
    "<p>Erstellen einer Liste mit allen Wörtern aus jeden einzelnen Tweet.</p>"
   ]
  },
  {
   "cell_type": "code",
   "execution_count": null,
   "id": "e18f48c3-9f65-4344-97f8-0fa070dacf58",
   "metadata": {},
   "outputs": [],
   "source": [
    "text_list = []\n",
    "for each in lemma_list:\n",
    "    for word in re.sub('\\W+', ' ', each).lower().split():\n",
    "        if word not in german_stop_words:\n",
    "            text_list.append(word)"
   ]
  },
  {
   "cell_type": "markdown",
   "id": "ed8bf80a-e032-4a3e-b4eb-c910090b4719",
   "metadata": {},
   "source": [
    "<p>Die Liste wird nun zu einer Pandas Serie um hier leichter Informationen zu erhalten. Im Anschluss wird die Serie zu einem Dataframe, bei dem die Spalten \"Word\" und \"Count\" heißen.</p>"
   ]
  },
  {
   "cell_type": "code",
   "execution_count": null,
   "id": "da3e1c08-5604-44af-b45e-64d1aa02528c",
   "metadata": {},
   "outputs": [],
   "source": [
    "text_series = pd.Series(text_list)\n",
    "df_word_count = text_series.value_counts().to_frame().reset_index().rename(columns={\"index\": \"word\", 0: \"count\"})"
   ]
  },
  {
   "cell_type": "markdown",
   "id": "85ab24fe-ba76-4879-97f3-cdf1ff679494",
   "metadata": {},
   "source": [
    "<p>Anzeigen von allen Wörtern, die öfter als 100 Mal in dem Datensatz vorkommen.</p>"
   ]
  },
  {
   "cell_type": "code",
   "execution_count": null,
   "id": "308e7e67-2504-46de-bcdf-2832782ca34d",
   "metadata": {
    "tags": []
   },
   "outputs": [],
   "source": [
    "pd.set_option('display.max_rows', None)\n",
    "df_word_count.loc[df_word_count[\"count\"] >= 100]"
   ]
  },
  {
   "cell_type": "markdown",
   "id": "43cf759f-96d6-43f6-a50e-dce7dd2fdbe6",
   "metadata": {},
   "source": [
    "<p>Überprüfung ob bei auffälligen Wörtern oder Kürzeln die Texte keinen Kontext zu Wirecard haben.</p>\n",
    "<p>Auffällig Begriffe</p>\n",
    "<lu>\n",
    "    <li>FPÖ</li>\n",
    "    <li>amp</li>\n",
    "    <li>wdi</li>\n",
    "</lu>"
   ]
  },
  {
   "cell_type": "code",
   "execution_count": null,
   "id": "ccc8a8cb-85e8-4027-b845-4e2aae200dc9",
   "metadata": {
    "tags": []
   },
   "outputs": [],
   "source": [
    "for each in df_manager_de.loc[df_manager_de.text.str.lower().str.contains(\"fpö\")][\"text\"]:\n",
    "    print(each, '\\n')"
   ]
  },
  {
   "cell_type": "code",
   "execution_count": null,
   "id": "21b67366-a13d-4331-95d3-8d5c3f38d526",
   "metadata": {
    "tags": []
   },
   "outputs": [],
   "source": [
    "for each in df_manager_de.loc[df_manager_de.text.str.lower().str.contains(\"amp\")][\"text\"]:\n",
    "    print(each, '\\n')"
   ]
  },
  {
   "cell_type": "code",
   "execution_count": null,
   "id": "9d32f4c6-9494-4572-a828-a8aa3b77c818",
   "metadata": {
    "tags": []
   },
   "outputs": [],
   "source": [
    "for each in df_manager_de.loc[df_manager_de.text.str.lower().str.contains(\"wdi\")][\"text\"]:\n",
    "    print(each, '\\n')"
   ]
  },
  {
   "cell_type": "markdown",
   "id": "a7c62e4a-5bf9-4935-a27c-0189d3d48655",
   "metadata": {},
   "source": [
    "<p>Der Begriff der in der Stichprobe keinen Bezug zu Wirecard hatte war <b>\"FPÖ\"</b>. Dementsprechend ist der Begriff oben in der ursprünlgichen Verarbeitung mit aufgenommen.</p>"
   ]
  },
  {
   "cell_type": "markdown",
   "id": "9181ea26-775d-4bf6-b772-ac80275483ad",
   "metadata": {
    "jp-MarkdownHeadingCollapsed": true,
    "tags": []
   },
   "source": [
    "<h2>Test prüfen nach Tweets ohne die Manager</h2>\n",
    "<p>In diesem Abschnitt werden die die Tweets überprüft, in denen die Manager nicht vorkommen. Diese müssen Manuell überprüft werden und anschlißend auch im Kontext zugehöriger Tweets geprüft. <br>Wenn dabei herauskommen sollte, dass die Tweets nicht mit dem Thema zu tun haben, dann werden diese gelöscht. Dies wird bereits oben erledigt.</p>"
   ]
  },
  {
   "cell_type": "markdown",
   "id": "2e72c6f6-abf2-49b9-ac7f-288bc8998989",
   "metadata": {},
   "source": [
    "<p>Ich prüfe auf verbleibende Tweets, in denen weder Markus Braun oder Jan Marsalek genannt werden. Ich prüfe dies auf verschiedene Schreibweisen um die Tweets zu ermitteln, in denen diese Namen nur in Links erwähnt wurden.</p>"
   ]
  },
  {
   "cell_type": "code",
   "execution_count": null,
   "id": "d7e6ae02-a2b5-4692-9e24-46869dab6fe7",
   "metadata": {},
   "outputs": [],
   "source": [
    "df_markus = df_manager_de.loc[df_manager_de.text.str.lower().str.contains(\"markus braun|markusbraun\")].reset_index(drop=True)"
   ]
  },
  {
   "cell_type": "code",
   "execution_count": null,
   "id": "472c4ee1-8bd6-480d-8dd6-c1671200063a",
   "metadata": {},
   "outputs": [],
   "source": [
    "df_jan = df_manager_de.loc[df_manager_de.text.str.lower().str.contains(\"jan marsalek|janmarsalek\")].reset_index(drop=True)"
   ]
  },
  {
   "cell_type": "code",
   "execution_count": null,
   "id": "7e9efd77-e3f9-41f5-8b97-744729064046",
   "metadata": {
    "tags": []
   },
   "outputs": [],
   "source": [
    "df_markus.head()"
   ]
  },
  {
   "cell_type": "code",
   "execution_count": null,
   "id": "fce7b0d7-ecf0-40a7-9ff6-844d26131bbd",
   "metadata": {
    "tags": []
   },
   "outputs": [],
   "source": [
    "df_jan.head()"
   ]
  },
  {
   "cell_type": "markdown",
   "id": "170e3719-9abd-4a62-8e75-7d51c92ef784",
   "metadata": {},
   "source": [
    "<p>Erhalten der Tweet_IDs und diese werden in einer Liste gespeichert.</p>"
   ]
  },
  {
   "cell_type": "code",
   "execution_count": null,
   "id": "26bc4b9b-47ed-491a-a516-800f9cadfd69",
   "metadata": {},
   "outputs": [],
   "source": [
    "list_markus_jan = []\n",
    "for each in range(len(df_markus)):\n",
    "    list_markus_jan.append(df_markus.iloc[each][\"tweet_id\"])\n",
    "for each in range(len(df_jan)):\n",
    "    list_markus_jan.append(df_jan.iloc[each][\"tweet_id\"])"
   ]
  },
  {
   "cell_type": "code",
   "execution_count": null,
   "id": "856f24e4-29fe-4867-937a-8962019243c2",
   "metadata": {
    "tags": []
   },
   "outputs": [],
   "source": [
    "list_index = []\n",
    "for each in list_markus_jan:\n",
    "    list_index.append(df_manager_de.loc[df_manager_de[\"tweet_id\"] == each].index[0])\n",
    "    \n",
    "df_man_with_mark_jan = df_manager_de.drop(list_index)\n",
    "    #print(df_manager_de.loc[df_manager_de[\"tweet_id\"] == each].index[0])\n",
    "df_man_with_mark_jan = df_man_with_mark_jan.reset_index(drop=True)"
   ]
  },
  {
   "cell_type": "code",
   "execution_count": null,
   "id": "3bf92983-6fbe-4c5a-86f6-3e4536616330",
   "metadata": {},
   "outputs": [],
   "source": [
    "df_with_wirecard = df_man_with_mark_jan.loc[df_man_with_mark_jan.text.str.lower().str.contains(\"wirecard\")]"
   ]
  },
  {
   "cell_type": "code",
   "execution_count": null,
   "id": "2288cb96-8664-4168-8fa9-8839bf798b68",
   "metadata": {},
   "outputs": [],
   "source": [
    "list_with_wirecard = []\n",
    "for each in range(len(df_with_wirecard)):\n",
    "    list_with_wirecard.append(df_with_wirecard.iloc[each][\"tweet_id\"])"
   ]
  },
  {
   "cell_type": "code",
   "execution_count": null,
   "id": "829d3663-0146-4fc3-b75a-8160286b9ad3",
   "metadata": {},
   "outputs": [],
   "source": [
    "list_index = []\n",
    "for each in list_with_wirecard:\n",
    "    list_index.append(df_man_with_mark_jan.loc[df_man_with_mark_jan[\"tweet_id\"] == each].index[0])\n",
    "    #print(df_man_with_mark_jan.loc[df_man_with_mark_jan[\"tweet_id\"] == each].index[0])\n",
    "df_man_with_mark_jan = df_man_with_mark_jan.drop(list_index)\n",
    "df_man_with_mark_jan = df_man_with_mark_jan.reset_index(drop=True)"
   ]
  },
  {
   "cell_type": "markdown",
   "id": "9c439e64-e8bc-4a82-898f-a5eb621d84c7",
   "metadata": {},
   "source": [
    "<p>Prüfen von jedem Tweet, ob dieser einen Bezug zum Thema hat</p>"
   ]
  },
  {
   "cell_type": "code",
   "execution_count": null,
   "id": "9b7c8ea2-0ea3-4169-98af-753ae44156f7",
   "metadata": {
    "tags": []
   },
   "outputs": [],
   "source": [
    "for each in range(len(df_man_with_mark_jan)):\n",
    "    print(df_man_with_mark_jan.iloc[each][\"tweet_id\"], \": \", df_man_with_mark_jan.iloc[each][\"text\"])"
   ]
  },
  {
   "cell_type": "code",
   "execution_count": null,
   "id": "db90e417-6362-4dda-821e-6d6225cb5c35",
   "metadata": {},
   "outputs": [],
   "source": [
    "print(len(df_man_with_mark_jan.drop_duplicates(subset=[\"text\"])))"
   ]
  },
  {
   "cell_type": "markdown",
   "id": "468abd3b-3829-405b-ac20-dacaa88b6b8b",
   "metadata": {},
   "source": [
    "<p>Jeden Tweet, der als \"auffällig\" erkannt wurde mit zugehörigen Tweets manuell überprüfen</p>"
   ]
  },
  {
   "cell_type": "code",
   "execution_count": null,
   "id": "a4ed161b-2699-44eb-b05c-1dbfbfcde631",
   "metadata": {
    "tags": []
   },
   "outputs": [],
   "source": [
    "#Text Check up for Tweets without context.\n",
    "tweet = 1130213579490234370\n",
    "print(\"Original: \", df_man_with_mark_jan.loc[df_man_with_mark_jan[\"tweet_id\"] == tweet][\"text\"].values[0], \"\\n\")\n",
    "for each in df_manager_de.loc[(\n",
    "    df_manager_de[\"tweet_id\"] == tweet) | (\n",
    "    df_manager_de[\"conversation_id\"] == df_manager_de.loc[df_manager_de[\"tweet_id\"] == tweet][\"conversation_id\"].values[0]) | (\n",
    "    df_manager_de[\"referenced_tweet_id\"] == tweet) | (\n",
    "    (df_manager_de[\"referenced_tweet_id\"] == df_manager_de.loc[df_manager_de[\"tweet_id\"] == tweet][\"referenced_tweet_id\"].values[0]) & (df_manager_de[\"referenced_tweet_id\"] != \"None\")) | (\n",
    "    df_manager_de[\"referenced_tweet_id\"] == df_manager_de.loc[df_manager_de[\"tweet_id\"] == tweet][\"conversation_id\"].values[0])][\"text\"].values:\n",
    "    print(each, \"\\n\")"
   ]
  },
  {
   "cell_type": "markdown",
   "id": "796a6377-bc5a-4c2d-8500-4f2d79572ce5",
   "metadata": {},
   "source": [
    "<p>Ermittlung aller Tweets, die nichts mit dem Thema zu tun haben und die nach der manuellen Prüfung nicht in den Datensatz gehören. Alle Tweet_Ids werden in einer Liste gespeichert und im Anschluss gelöscht. Mit den bereits bekannten Tweet_IDs, wird dieser Prozess bereits weiter oben ausgeführt im Abschnitt \"Tweets Löschen ohne Kontext\"</p>"
   ]
  },
  {
   "cell_type": "code",
   "execution_count": null,
   "id": "7772dc96-3750-43cd-b23e-5b126997af82",
   "metadata": {
    "tags": []
   },
   "outputs": [],
   "source": [
    "#Text Check up for Tweet_id for removal\n",
    "list_tweet_id = [701784983829143553, 909831998537158657, 909733713302441984, 909730731932368897, 1115628103487954944, \n",
    "                1115596390133051393, 1112624842493358080, 1131274228521742336, 1130213579490234370, 1207617572126044160, \n",
    "                1265176607905333248, 1273949458808680449, 1285646389771481088, 1285547240447246338, 1285515450584096768, \n",
    "                1285497151125151745, 1284925162836709378, 1279724802782216192]\n",
    "list_tweet_id_remove = []\n",
    "for tweet in list_tweet_id:\n",
    "    for each in df_manager_de.loc[(\n",
    "        df_manager_de[\"tweet_id\"] == tweet) | (\n",
    "        df_manager_de[\"conversation_id\"] == df_manager_de.loc[df_manager_de[\"tweet_id\"] == tweet][\"conversation_id\"].values[0]) | (\n",
    "        df_manager_de[\"referenced_tweet_id\"] == tweet) | (\n",
    "        (df_manager_de[\"referenced_tweet_id\"] == df_manager_de.loc[df_manager_de[\"tweet_id\"] == tweet][\"referenced_tweet_id\"].values[0]) & (df_manager_de[\"referenced_tweet_id\"] != \"None\")) | (\n",
    "        df_manager_de[\"referenced_tweet_id\"] == df_manager_de.loc[df_manager_de[\"tweet_id\"] == tweet][\"conversation_id\"].values[0])][\"tweet_id\"].values:\n",
    "        print(each, \"\\n\")\n",
    "        if each not in list_tweet_id_remove:\n",
    "            list_tweet_id_remove.append(each)"
   ]
  },
  {
   "cell_type": "code",
   "execution_count": null,
   "id": "fb551c4e-4196-4217-875a-c297800c3f9b",
   "metadata": {},
   "outputs": [],
   "source": []
  },
  {
   "cell_type": "code",
   "execution_count": null,
   "id": "ad5b13d1-4e6a-4e4a-94db-1bfb4046fcc1",
   "metadata": {},
   "outputs": [],
   "source": []
  },
  {
   "cell_type": "code",
   "execution_count": null,
   "id": "1ff4f183-37fe-4edc-bae7-6b9d0ab2b0cf",
   "metadata": {},
   "outputs": [],
   "source": []
  },
  {
   "cell_type": "code",
   "execution_count": null,
   "id": "e8c3b4f9-2539-450a-a7bd-315d7bf4a07f",
   "metadata": {},
   "outputs": [],
   "source": []
  },
  {
   "cell_type": "markdown",
   "id": "24c84ceb-920e-4bde-b6cc-7947c5627336",
   "metadata": {
    "tags": []
   },
   "source": [
    "<h1>TEST</h1>\n",
    "<p>Hier werden unterschieldiche Funktionen getestet.</p>"
   ]
  },
  {
   "cell_type": "code",
   "execution_count": null,
   "id": "114694e6-fa2e-4012-8ced-c3eca8ab28e4",
   "metadata": {
    "tags": []
   },
   "outputs": [],
   "source": [
    "df_de.sample(n = 100)"
   ]
  },
  {
   "cell_type": "code",
   "execution_count": null,
   "id": "465ee41c-0bed-4e18-960c-d5ed489b9864",
   "metadata": {},
   "outputs": [],
   "source": [
    "test_str_strInStr = \"Das ist der Test ob Superkicker korrekt erkannt wird.\""
   ]
  },
  {
   "cell_type": "code",
   "execution_count": null,
   "id": "41f3c81b-6b57-4289-adc1-085579102e54",
   "metadata": {},
   "outputs": [],
   "source": [
    "if \"kicker\" in test_str_strInStr:\n",
    "    print(\"Superkicker\")"
   ]
  },
  {
   "cell_type": "code",
   "execution_count": 63,
   "id": "8783ddfc-bc39-42f7-83fc-096f228fa983",
   "metadata": {},
   "outputs": [
    {
     "name": "stdout",
     "output_type": "stream",
     "text": [
      "0\n",
      "1\n",
      "2\n",
      "3\n",
      "4\n",
      "5\n",
      "6\n",
      "7\n",
      "8\n",
      "9\n",
      "10\n",
      "11\n",
      "12\n",
      "13\n",
      "14\n"
     ]
    }
   ],
   "source": [
    "for each in range(0,15):\n",
    "    print(each)"
   ]
  },
  {
   "cell_type": "code",
   "execution_count": null,
   "id": "e1e8bfcb-35bc-4de7-96b2-29294451bf2a",
   "metadata": {},
   "outputs": [],
   "source": []
  }
 ],
 "metadata": {
  "kernelspec": {
   "display_name": "master_thesis_3.9.10",
   "language": "python",
   "name": "master_thesis_3.9.10"
  },
  "language_info": {
   "codemirror_mode": {
    "name": "ipython",
    "version": 3
   },
   "file_extension": ".py",
   "mimetype": "text/x-python",
   "name": "python",
   "nbconvert_exporter": "python",
   "pygments_lexer": "ipython3",
   "version": "3.9.10"
  }
 },
 "nbformat": 4,
 "nbformat_minor": 5
}
