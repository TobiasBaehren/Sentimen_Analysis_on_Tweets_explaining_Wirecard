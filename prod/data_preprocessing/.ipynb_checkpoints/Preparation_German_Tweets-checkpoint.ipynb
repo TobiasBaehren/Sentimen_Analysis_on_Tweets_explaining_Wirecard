{
 "cells": [
  {
   "cell_type": "markdown",
   "id": "f6ae1ac2-0b2c-4578-9694-7040882deec9",
   "metadata": {},
   "source": [
    "<h1>Preparation of the German Twitter Data</h1>"
   ]
  },
  {
   "cell_type": "markdown",
   "id": "a323e70f-92a0-45e4-845f-b9d5aaa92fbb",
   "metadata": {},
   "source": [
    "<p>This file is for preparing the german tweets. The preparation is mainly for training my own model for sentiment detection with Flair. </p>"
   ]
  },
  {
   "cell_type": "code",
   "execution_count": 1,
   "id": "5d435d73-8df6-4ae8-8694-a8e75747958f",
   "metadata": {},
   "outputs": [],
   "source": [
    "import csv\n",
    "import numpy as np\n",
    "import pandas as pd\n",
    "import re\n",
    "import nltk\n",
    "from nltk.corpus import stopwords\n",
    "from wordcloud import WordCloud\n",
    "import matplotlib.pyplot as plt\n",
    "from HanTa import HanoverTagger as ht"
   ]
  },
  {
   "cell_type": "markdown",
   "id": "75921e4f-1906-4f14-b6b4-0ee534677d54",
   "metadata": {},
   "source": [
    "<h1>Einlesen und bestimmung der Felder</h1>\n",
    "<p>Durch die weitern Operatoren, kann ich die einzelnen Felder in DF bestimmen. Durch die Lambda Funktion werden die Str zu Listen, was die spätere verarbeitung erleichtert. \n",
    "    Durch die Parse_dates Funktion wird das Datumsfeld zu einem Timestamp, was die weiter Verarbeitung wesentlich leichter macht.</p>"
   ]
  },
  {
   "cell_type": "code",
   "execution_count": 2,
   "id": "2e546077-cd87-49e0-b3a3-4cb63f9f353c",
   "metadata": {},
   "outputs": [],
   "source": [
    "df_manager = pd.read_csv(\"/Users/tobias/Dev/FOM/Master_Thesis/data/Raw_File/Manager_DE/data.csv\", sep=\";\", \n",
    "                            converters={\"tweet_type\": lambda x: x.strip(\"[]\").replace(\"'\", \"\").split(\", \"),\n",
    "                                        \"referenced_tweet_id\": lambda x: x.strip(\"[]\").replace(\"'\", \"\").split(\", \")},\n",
    "                           parse_dates=[\"created_at\"])\n",
    "df_manager = df_manager.explode([\"referenced_tweet_id\", \"tweet_type\"], ignore_index=True)"
   ]
  },
  {
   "cell_type": "code",
   "execution_count": 3,
   "id": "22b21fc9-fc5e-4403-8390-093caa12eb23",
   "metadata": {
    "tags": []
   },
   "outputs": [
    {
     "name": "stdout",
     "output_type": "stream",
     "text": [
      "14451\n"
     ]
    }
   ],
   "source": [
    "print(len(df_manager))"
   ]
  },
  {
   "cell_type": "markdown",
   "id": "afc009d8-9b2e-491f-8e13-b4e8b7658a44",
   "metadata": {},
   "source": [
    "<h3>Löschen von unnötigen Informationen</h3>\n",
    "<p>Hier werden Informationen aus den Tweets Texten, die nicht weiter benötigt werden. Bspw. Links</p>"
   ]
  },
  {
   "cell_type": "code",
   "execution_count": 4,
   "id": "86e7ed3f-d0f4-46bc-a651-d575074bfbd6",
   "metadata": {
    "tags": []
   },
   "outputs": [],
   "source": [
    "for each in range(len(df_manager)):\n",
    "    df_manager.loc[df_manager[\"text\"] == \n",
    "                      df_manager.loc[each][\"text\"], \"text\"] = re.sub(r'http\\S+', '', \n",
    "                                                                        (re.sub('@[^\\s]+', '',\n",
    "                                                                                re.sub('[#|$|\\r]', '', \n",
    "                                                                                       df_manager.loc[each][\"text\"]))))"
   ]
  },
  {
   "cell_type": "code",
   "execution_count": 5,
   "id": "c72d2e87-2f03-4b2b-8e40-a96c582c67eb",
   "metadata": {},
   "outputs": [
    {
     "data": {
      "text/plain": [
       "14451"
      ]
     },
     "execution_count": 5,
     "metadata": {},
     "output_type": "execute_result"
    }
   ],
   "source": [
    "len(df_manager)"
   ]
  },
  {
   "cell_type": "markdown",
   "id": "5d5f94c7-ad5a-4fe2-98f0-ce3ab26e5dc7",
   "metadata": {},
   "source": [
    "<h3>Nicht Kontextbezogene Tweets löschen</h3>\n",
    "<p>So kann ich prüfen ob bestimmte Begriffe in den Texten enthalten sind und mir die conversation_id ausgeben lassen. Diese lasse ich dann löschen und auch zugehörige Tweets, da diese nicht in den Kontext passen.<br>Die wörter in der Liste müssen klein geschrieben werden, da auch alle Buchstaben für die Prüfung klein geschrieben werden müssen, da sinst nicht alles erkannt wird.</p>\n",
    "<p>Zu löschende Begriffe</p>\n",
    "<ul>\n",
    "    <li>BVB</li>\n",
    "    <li>Fußball</li>\n",
    "    <li>Fussball</li>\n",
    "    <li>Dortmund</li>\n",
    "    <li>kicker</li>\n",
    "    <li>fpö</li>\n",
    "    <li>fpoe</li>\n",
    "</ul>"
   ]
  },
  {
   "cell_type": "code",
   "execution_count": 6,
   "id": "d627b796-c527-487d-ac75-ee8a063d7afa",
   "metadata": {},
   "outputs": [],
   "source": [
    "not_used_words_list = [\"bvb\", \"fußball\", \"fussball\", \"dortmund\", \"fpö\", \"fpoe\", \"kicker\"]\n",
    "tweet_id_without_context_list = []\n",
    "for each in range(len(df_manager)):\n",
    "    for word in not_used_words_list:\n",
    "        if word in df_manager.iloc[each][\"text\"].lower():\n",
    "            if df_manager.iloc[each][\"tweet_id\"] not in tweet_id_without_context_list:\n",
    "                tweet_id_without_context_list.append(df_manager.iloc[each][\"tweet_id\"])"
   ]
  },
  {
   "cell_type": "markdown",
   "id": "1c0baab9-792f-45bc-8a26-d4e16390d3fc",
   "metadata": {},
   "source": [
    "<p>Iteration durch die Liste mit zu löschenden Tweets, bis der Wert zu Beginn und zum Ende gleich ist und es keine\n",
    "weiteren Tweets mehr gibt, die gefiltert werden müssen. </p>"
   ]
  },
  {
   "cell_type": "code",
   "execution_count": 7,
   "id": "6957ed56-d9ae-4101-955d-ace28cc44e86",
   "metadata": {
    "tags": []
   },
   "outputs": [],
   "source": [
    "def check_for_further_tweets():\n",
    "    start_len = len(tweet_id_without_context_list)\n",
    "    for each in range(len(tweet_id_without_context_list)):\n",
    "        df_tweets = df_manager.loc[(df_manager[\"conversation_id\"] == tweet_id_without_context_list[each]) | \n",
    "               (df_manager[\"referenced_tweet_id\"] == str(tweet_id_without_context_list[each]))]\n",
    "\n",
    "        for each in range(len(df_tweets)):\n",
    "            if df_tweets.iloc[each][\"tweet_id\"] not in tweet_id_without_context_list:\n",
    "                tweet_id_without_context_list.append(df_tweets.iloc[each][\"tweet_id\"])\n",
    "                \n",
    "    if start_len != len(tweet_id_without_context_list):\n",
    "        check_for_further_tweets()\n",
    "check_for_further_tweets()"
   ]
  },
  {
   "cell_type": "markdown",
   "id": "0ae65229-6b28-4f9d-a689-65bf0edf3034",
   "metadata": {},
   "source": [
    "<p>Löschen der nicht kontextbezogenen Tweets und den Index neu setzen um später keine Probleme mit dem Index zu bekommen.</p>"
   ]
  },
  {
   "cell_type": "code",
   "execution_count": 8,
   "id": "68cc18ef-d61b-4ba2-a685-79b27d3a79e8",
   "metadata": {},
   "outputs": [],
   "source": [
    "for each in tweet_id_without_context_list:\n",
    "    df_manager = df_manager.drop(df_manager.loc[df_manager[\"tweet_id\"] == each].index[0])\n",
    "df_manager = df_manager.reset_index(drop=True)"
   ]
  },
  {
   "cell_type": "markdown",
   "id": "60b7502b-81d9-4bd5-8cad-41ae5e49850b",
   "metadata": {},
   "source": [
    "<p>Löschen und Ermittlung von Tweet_IDs, die keinen Kontext zum Thema haben.</p>"
   ]
  },
  {
   "cell_type": "code",
   "execution_count": 9,
   "id": "402476d4-2d97-4fe2-b562-94f62ffbd95f",
   "metadata": {},
   "outputs": [],
   "source": [
    "#Text Check up\n",
    "list_tweet_id = [701784983829143553, 909831998537158657, 909733713302441984, 909730731932368897, 1115628103487954944, \n",
    "                1115596390133051393, 1112624842493358080, 1131274228521742336, 1130213579490234370, 1207617572126044160, \n",
    "                1265176607905333248, 1273949458808680449, 1285646389771481088, 1285547240447246338, 1285515450584096768, \n",
    "                1285497151125151745, 1284925162836709378, 1279724802782216192, 1275482586635255811]\n",
    "list_tweet_id_remove = []\n",
    "for tweet in list_tweet_id:\n",
    "    for each in df_manager.loc[(\n",
    "        df_manager[\"tweet_id\"] == tweet) | (\n",
    "        df_manager[\"conversation_id\"] == df_manager.loc[df_manager[\"tweet_id\"] == tweet][\"conversation_id\"].values[0]) | (\n",
    "        df_manager[\"referenced_tweet_id\"] == tweet) | (\n",
    "        (df_manager[\"referenced_tweet_id\"] == df_manager.loc[df_manager[\"tweet_id\"] == tweet][\"referenced_tweet_id\"].values[0]) & (df_manager[\"referenced_tweet_id\"] != \"None\")) | (\n",
    "        df_manager[\"referenced_tweet_id\"] == df_manager.loc[df_manager[\"tweet_id\"] == tweet][\"conversation_id\"].values[0])][\"tweet_id\"].values:\n",
    "        #print(each, \"\\n\")\n",
    "        if each not in list_tweet_id_remove:\n",
    "            list_tweet_id_remove.append(each)"
   ]
  },
  {
   "cell_type": "markdown",
   "id": "01b47f1b-0305-42f7-8bfc-3b43ae47bce3",
   "metadata": {},
   "source": [
    "<p>Löschen der zuvor ermitteletn Tweets.</p>"
   ]
  },
  {
   "cell_type": "code",
   "execution_count": 10,
   "id": "71b72b38-e7df-4074-abd1-2b2090641012",
   "metadata": {},
   "outputs": [],
   "source": [
    "for each in list_tweet_id_remove:\n",
    "    df_manager = df_manager.drop(df_manager.loc[df_manager[\"tweet_id\"] == each].index[0])\n",
    "df_manager = df_manager.reset_index(drop=True)"
   ]
  },
  {
   "cell_type": "markdown",
   "id": "d33fa8c2-c3a8-4377-bec3-336dfb42db39",
   "metadata": {
    "tags": []
   },
   "source": [
    "<br>\n",
    "<h3>Löschen von Retweets</h3>\n",
    "<p>Alle Retweets löschen, da diese in diesem Schritt nicht benötigt werden.</p>"
   ]
  },
  {
   "cell_type": "code",
   "execution_count": 11,
   "id": "80f62e59-e2bb-485a-a2c1-6a4df6a68f66",
   "metadata": {},
   "outputs": [
    {
     "name": "stdout",
     "output_type": "stream",
     "text": [
      "5280\n"
     ]
    }
   ],
   "source": [
    "counter = 0\n",
    "retweet_list = []\n",
    "for each in range(len(df_manager)):\n",
    "    if \"retweeted\" in df_manager.iloc[each][\"tweet_type\"]:\n",
    "        retweet_list.append(each)\n",
    "        counter += 1\n",
    "print(counter)"
   ]
  },
  {
   "cell_type": "code",
   "execution_count": 12,
   "id": "d5b331e1-be63-4506-a5c0-ef67f8f3dffb",
   "metadata": {},
   "outputs": [
    {
     "name": "stdout",
     "output_type": "stream",
     "text": [
      "8849\n"
     ]
    }
   ],
   "source": [
    "df_manager = df_manager.drop(retweet_list)\n",
    "df_manager = df_manager.reset_index(drop=True)\n",
    "print(len(df_manager))"
   ]
  },
  {
   "cell_type": "markdown",
   "id": "c96102ab-51d8-4d27-93d7-58f58db774f7",
   "metadata": {},
   "source": [
    "<h3>Löschen von doppelten Tweets</h3>\n",
    "<p>Alle Tweets, die dopplet im Datensatz enthalten sind, anhand der tweet_id werden gelöscht. Somit werden auch die zuvor aufgespalteten Listen wieder gelöscht</p>"
   ]
  },
  {
   "cell_type": "code",
   "execution_count": 13,
   "id": "103a126a-a979-422b-8428-37cb8f75fc4a",
   "metadata": {},
   "outputs": [],
   "source": [
    "df_manager = df_manager.drop_duplicates(subset=[\"tweet_id\"])\n",
    "df_manager = df_manager.reset_index(drop=True)"
   ]
  },
  {
   "cell_type": "code",
   "execution_count": 14,
   "id": "94093847-b640-4ae9-922a-605acbc56955",
   "metadata": {},
   "outputs": [
    {
     "name": "stdout",
     "output_type": "stream",
     "text": [
      "8706\n"
     ]
    }
   ],
   "source": [
    "print(len(df_manager))"
   ]
  },
  {
   "cell_type": "markdown",
   "id": "5cfab36a-8fad-43cc-a7e5-b8f3239a6ec2",
   "metadata": {
    "tags": []
   },
   "source": [
    "<h1>Check User</h1>\n",
    "<p>Überprüfe die User Daten nach Namen, die nichts mit dem Thema Wirecard zu tun haben. Auch Nutzer, die ggf. nur durch Zufall in die Abfrage gekommen sind, z.B. durch den gleichen Namen wie einer der Manager, sollen aus dem Datensatz entnommen werden.<br>Auffällige Namen sind <b>Markus Braun</b> und <b>Jan Marsalek</b>, da es sich um den CEO und den verantwortlichen Manager handelt.</p>"
   ]
  },
  {
   "cell_type": "markdown",
   "id": "7c0ebd00-b580-4410-be8a-297601507e61",
   "metadata": {},
   "source": [
    "<p>Laden der Daten</p>"
   ]
  },
  {
   "cell_type": "code",
   "execution_count": 15,
   "id": "70cf7104-4b24-42f9-aef6-36f60d9bbc6e",
   "metadata": {},
   "outputs": [],
   "source": [
    "df_user = pd.read_csv(\"/Users/tobias/Dev/FOM/Master_Thesis/data/Raw_File/Manager_DE/user.csv\", sep=\";\")"
   ]
  },
  {
   "cell_type": "markdown",
   "id": "b4bea9f6-4aab-4448-a5ce-e4e02cd9ee80",
   "metadata": {
    "tags": []
   },
   "source": [
    "<h3>Nutzer die keinen Mehrwert bieten werden gelöscht.</h3>"
   ]
  },
  {
   "cell_type": "code",
   "execution_count": 16,
   "id": "42d4f7e4-8dc4-4795-b1a0-444bc20a392c",
   "metadata": {},
   "outputs": [],
   "source": [
    "list_not_needed_author_ids = [3365669884, 536335486]\n",
    "for each in list_not_needed_author_ids:\n",
    "    df_manager = df_manager.drop(df_manager.loc[df_manager[\"author_id\"] == each].index)\n",
    "df_manager = df_manager.reset_index(drop=True)"
   ]
  },
  {
   "cell_type": "markdown",
   "id": "ff0a4d59-63b2-4121-97fb-d5276c65aa4a",
   "metadata": {
    "tags": []
   },
   "source": [
    "<h1>Hinzufügen weiterer Twitter Datensätze</h1>"
   ]
  },
  {
   "cell_type": "markdown",
   "id": "7d5aba98-5700-4215-8a5c-9b0a410e626a",
   "metadata": {},
   "source": [
    "<h2>Datensatz mit Abfrage nach Wirecard</h2>"
   ]
  },
  {
   "cell_type": "code",
   "execution_count": 17,
   "id": "3c7fa0ad-611d-4adc-b000-c96812f6b141",
   "metadata": {},
   "outputs": [],
   "source": [
    "df_wirecard = pd.read_csv(\"/Users/tobias/Dev/FOM/Master_Thesis/data/Raw_File/Wirecard_DE/data.csv\", sep=\";\", \n",
    "                            converters={\"tweet_type\": lambda x: x.strip(\"[]\").replace(\"'\", \"\").split(\", \"),\n",
    "                                        \"referenced_tweet_id\": lambda x: x.strip(\"[]\").replace(\"'\", \"\").split(\", \")},\n",
    "                           parse_dates=[\"created_at\"])\n",
    "df_wirecard = df_wirecard.explode([\"referenced_tweet_id\", \"tweet_type\"], ignore_index=True)\n"
   ]
  },
  {
   "cell_type": "code",
   "execution_count": 18,
   "id": "100d86bb-8f22-4dab-ac37-00156a6cc97c",
   "metadata": {},
   "outputs": [],
   "source": [
    "for each in range(len(df_wirecard)):\n",
    "    df_wirecard.loc[df_wirecard[\"text\"] == \n",
    "                      df_wirecard.loc[each][\"text\"], \"text\"] = re.sub(r'http\\S+', '', \n",
    "                                                                        (re.sub('@[^\\s]+', '',\n",
    "                                                                                re.sub('[#|$|\\r]', '', \n",
    "                                                                                       df_wirecard.loc[each][\"text\"]))))"
   ]
  },
  {
   "cell_type": "code",
   "execution_count": 19,
   "id": "bd9e7be2-ae85-4c6d-bee0-ec3798f07e2e",
   "metadata": {
    "tags": []
   },
   "outputs": [
    {
     "name": "stdout",
     "output_type": "stream",
     "text": [
      "165934\n"
     ]
    }
   ],
   "source": [
    "print(len(df_wirecard))"
   ]
  },
  {
   "cell_type": "markdown",
   "id": "c8a12eb0-3bb1-4ce3-98ef-db42d57e83ff",
   "metadata": {},
   "source": [
    "<h3>Löschen von Retweets</h3>"
   ]
  },
  {
   "cell_type": "code",
   "execution_count": 20,
   "id": "e4fc93b0-f0b1-4d58-8278-2a746f4243bf",
   "metadata": {},
   "outputs": [
    {
     "name": "stdout",
     "output_type": "stream",
     "text": [
      "54403\n"
     ]
    }
   ],
   "source": [
    "counter = 0\n",
    "retweet_list = []\n",
    "for each in range(len(df_wirecard)):\n",
    "    if \"retweeted\" in df_wirecard.iloc[each][\"tweet_type\"]:\n",
    "        retweet_list.append(each)\n",
    "        counter += 1\n",
    "print(counter)\n",
    "df_wirecard = df_wirecard.drop(retweet_list)\n",
    "df_wirecard = df_wirecard.reset_index(drop=True)"
   ]
  },
  {
   "cell_type": "code",
   "execution_count": 21,
   "id": "150c5d23-f7b9-40bf-a6ee-9eee5407c96d",
   "metadata": {},
   "outputs": [
    {
     "data": {
      "text/plain": [
       "111531"
      ]
     },
     "execution_count": 21,
     "metadata": {},
     "output_type": "execute_result"
    }
   ],
   "source": [
    "len(df_wirecard)"
   ]
  },
  {
   "cell_type": "markdown",
   "id": "bd3a4a25-8180-4316-8f90-19876252faed",
   "metadata": {},
   "source": [
    "<h3>Löschen von doppelten Einträgen</h3>"
   ]
  },
  {
   "cell_type": "code",
   "execution_count": 22,
   "id": "0c828f16-d644-4bbb-874a-c7d36f934fa5",
   "metadata": {},
   "outputs": [],
   "source": [
    "df_wirecard = df_wirecard.drop_duplicates(subset=[\"tweet_id\"])\n",
    "df_wirecard = df_wirecard.reset_index(drop=True)"
   ]
  },
  {
   "cell_type": "code",
   "execution_count": 23,
   "id": "694ed578-e7da-4c77-9171-550c55d6c33c",
   "metadata": {},
   "outputs": [
    {
     "data": {
      "text/plain": [
       "111254"
      ]
     },
     "execution_count": 23,
     "metadata": {},
     "output_type": "execute_result"
    }
   ],
   "source": [
    "len(df_wirecard)"
   ]
  },
  {
   "cell_type": "markdown",
   "id": "9ee7d13a-0b03-4c9f-b0d6-8f4299e3ef04",
   "metadata": {},
   "source": [
    "<h2>Abfrage nach Chashtag Wirecard</h2>"
   ]
  },
  {
   "cell_type": "code",
   "execution_count": 24,
   "id": "20ce3d55-9fba-4ecf-bc99-0a56c5a877b1",
   "metadata": {},
   "outputs": [],
   "source": [
    "df_wrcdf = pd.read_csv(\"/Users/tobias/Dev/FOM/Master_Thesis/data/Raw_File/WRCDF_DE/data.csv\", sep=\";\", \n",
    "                            converters={\"tweet_type\": lambda x: x.strip(\"[]\").replace(\"'\", \"\").split(\", \"),\n",
    "                                        \"referenced_tweet_id\": lambda x: x.strip(\"[]\").replace(\"'\", \"\").split(\", \")},\n",
    "                           parse_dates=[\"created_at\"])\n",
    "df_wrcdf = df_wrcdf.explode([\"referenced_tweet_id\", \"tweet_type\"], ignore_index=True)\n"
   ]
  },
  {
   "cell_type": "code",
   "execution_count": 25,
   "id": "48c10287-6bb7-45e7-b872-737598a82975",
   "metadata": {},
   "outputs": [],
   "source": [
    "for each in range(len(df_wrcdf)):\n",
    "    df_wrcdf.loc[df_wrcdf[\"text\"] == \n",
    "                      df_wrcdf.loc[each][\"text\"], \"text\"] = re.sub(r'http\\S+', '', \n",
    "                                                                        (re.sub('@[^\\s]+', '',\n",
    "                                                                                re.sub('[#|$|\\r]', '', \n",
    "                                                                                       df_wrcdf.loc[each][\"text\"]))))"
   ]
  },
  {
   "cell_type": "code",
   "execution_count": 26,
   "id": "bb07469c-849d-467c-8b77-7e04d0b85b72",
   "metadata": {},
   "outputs": [
    {
     "name": "stdout",
     "output_type": "stream",
     "text": [
      "33\n"
     ]
    }
   ],
   "source": [
    "print(len(df_wrcdf))"
   ]
  },
  {
   "cell_type": "markdown",
   "id": "181ecce0-933b-4073-adf2-b145a6f3a9c1",
   "metadata": {},
   "source": [
    "<h3>Löschen von Retweets</h3>"
   ]
  },
  {
   "cell_type": "code",
   "execution_count": 27,
   "id": "b6401d8c-151e-4f1a-b7f5-e52e1d267e47",
   "metadata": {},
   "outputs": [
    {
     "name": "stdout",
     "output_type": "stream",
     "text": [
      "0\n"
     ]
    }
   ],
   "source": [
    "counter = 0\n",
    "retweet_list = []\n",
    "for each in range(len(df_wrcdf)):\n",
    "    if \"retweeted\" in df_wrcdf.iloc[each][\"tweet_type\"]:\n",
    "        retweet_list.append(each)\n",
    "        counter += 1\n",
    "print(counter)\n",
    "df_wrcdf = df_wrcdf.drop(retweet_list)\n",
    "df_wrcdf = df_wrcdf.reset_index(drop=True)"
   ]
  },
  {
   "cell_type": "markdown",
   "id": "ad732ea1-75ce-47ad-a0c2-a5b3baa53a8f",
   "metadata": {},
   "source": [
    "<h3>Löschen von doppelten Tweets</h3>"
   ]
  },
  {
   "cell_type": "code",
   "execution_count": 28,
   "id": "287957b8-f3b3-4b95-ac71-aab5a92a2352",
   "metadata": {},
   "outputs": [],
   "source": [
    "df_wrcdf = df_wrcdf.drop_duplicates(subset=[\"tweet_id\"])\n",
    "df_wrcdf = df_wrcdf.reset_index(drop=True)"
   ]
  },
  {
   "cell_type": "code",
   "execution_count": 29,
   "id": "f5831d24-18b9-490e-9589-89f91710a2bc",
   "metadata": {},
   "outputs": [
    {
     "name": "stdout",
     "output_type": "stream",
     "text": [
      "33\n"
     ]
    }
   ],
   "source": [
    "print(len(df_wrcdf))"
   ]
  },
  {
   "cell_type": "code",
   "execution_count": null,
   "id": "f62c513b-0e50-4904-9987-fa6318b61a69",
   "metadata": {},
   "outputs": [],
   "source": []
  },
  {
   "cell_type": "markdown",
   "id": "f269bdc2-f185-4241-9bbe-5a65d1c81ff7",
   "metadata": {
    "tags": []
   },
   "source": [
    "<h1>Zusammenführen der Datensätze</h1>"
   ]
  },
  {
   "cell_type": "code",
   "execution_count": 30,
   "id": "8634609f-954b-45e5-8ad7-3de434cf0a51",
   "metadata": {},
   "outputs": [],
   "source": [
    "list_data_frames = [df_manager, df_wirecard, df_wrcdf]\n",
    "df_de = pd.concat(list_data_frames, ignore_index=True)"
   ]
  },
  {
   "cell_type": "code",
   "execution_count": 31,
   "id": "5deafa18-29b4-483a-9039-95c5287134ec",
   "metadata": {},
   "outputs": [
    {
     "name": "stdout",
     "output_type": "stream",
     "text": [
      "8702\n",
      "111254\n",
      "33\n",
      "119989\n",
      "119989\n"
     ]
    }
   ],
   "source": [
    "print(len(df_manager))\n",
    "print(len(df_wirecard))\n",
    "print(len(df_wrcdf))\n",
    "print(len(df_manager)+len(df_wirecard)+len(df_wrcdf))\n",
    "print(len(df_de))"
   ]
  },
  {
   "cell_type": "markdown",
   "id": "9d85d378-7b4d-4512-b582-b5f2d2808657",
   "metadata": {},
   "source": [
    "<h3>Löschen der doppelten Posts</h3>\n",
    "<p>Dadurch, dass die Abfrage durch mehrere Querys erfolgt ist, befinden sich einige Tweets doppelt in dem Datensatz. Diese werden hier anhand der <b>\"tweet_id\"</b> gelöscht. </p>"
   ]
  },
  {
   "cell_type": "code",
   "execution_count": 32,
   "id": "d084c4d1-97af-42f1-9943-401dc7e8dcba",
   "metadata": {},
   "outputs": [],
   "source": [
    "df_de = df_de.drop_duplicates(subset=[\"tweet_id\"])\n",
    "df_de = df_de.reset_index(drop=True)"
   ]
  },
  {
   "cell_type": "markdown",
   "id": "029735d3-5c63-4558-bea5-b8504e1eb5d4",
   "metadata": {},
   "source": [
    "<p>Der neue Datensatz wird auf plausibilität geprüft.</p>"
   ]
  },
  {
   "cell_type": "code",
   "execution_count": 33,
   "id": "57f10bff-6e38-428f-9547-86a46140cdfe",
   "metadata": {},
   "outputs": [
    {
     "name": "stdout",
     "output_type": "stream",
     "text": [
      "114444\n"
     ]
    }
   ],
   "source": [
    "print(len(df_de))"
   ]
  },
  {
   "cell_type": "markdown",
   "id": "b9feceb0-648e-4a1e-b206-496bfa02544a",
   "metadata": {},
   "source": [
    "<p><b>Fertig</b> mit der Vorverarbeitung der Daten in deutsch. Es ist nun ein Datensatz verfügbar mit allen Tweets für den deutschsprachigen Raum. Es sind keine doppelten Tweets enthalten, solange diese keine gleiche tweet_id enthalten. Auch Nutzer und tweets, die nichts zu dem eigentlichen Thema Wirecard beitragen sind nicht mehr im Datensatz enthalten. Vereinzelt können natürlich unnütze Tweets vorhanden sein, aber die Nutzer mit vielen Interaktionen sind überprüft und auch die Begriffe, die besonders oft vorkommen sind überprüft worden, ob diese etwas mit dem Thema zu tun haben.<br>Jetzt muss das gleich noch mit den Englischen tweets geschehen und dann müssen Datensätze zur Überprüfung ausgegeben werden.<br> Um den zufälligen Datensatz zu erstellen sollte ich noch einen zufallszahlengenerator nutzen, sodass ich möglichst zufällige Tweets zum testen erhalte. Hier scheint die Pandas Funktion <b>\"sample\"</b> gut geeignet zu sein. </p>"
   ]
  },
  {
   "cell_type": "code",
   "execution_count": 34,
   "id": "a19ee6d9-7ec6-4e20-a1a6-462df3bbbbb7",
   "metadata": {
    "tags": []
   },
   "outputs": [
    {
     "data": {
      "text/html": [
       "<div>\n",
       "<style scoped>\n",
       "    .dataframe tbody tr th:only-of-type {\n",
       "        vertical-align: middle;\n",
       "    }\n",
       "\n",
       "    .dataframe tbody tr th {\n",
       "        vertical-align: top;\n",
       "    }\n",
       "\n",
       "    .dataframe thead th {\n",
       "        text-align: right;\n",
       "    }\n",
       "</style>\n",
       "<table border=\"1\" class=\"dataframe\">\n",
       "  <thead>\n",
       "    <tr style=\"text-align: right;\">\n",
       "      <th></th>\n",
       "      <th>conversation_id</th>\n",
       "      <th>author_id</th>\n",
       "      <th>created_at</th>\n",
       "      <th>tweet_id</th>\n",
       "      <th>lang</th>\n",
       "      <th>retweet_count</th>\n",
       "      <th>reply_count</th>\n",
       "      <th>like_count</th>\n",
       "      <th>quote_count</th>\n",
       "      <th>source</th>\n",
       "      <th>tweet_type</th>\n",
       "      <th>referenced_tweet_id</th>\n",
       "      <th>text</th>\n",
       "    </tr>\n",
       "  </thead>\n",
       "  <tbody>\n",
       "    <tr>\n",
       "      <th>112369</th>\n",
       "      <td>1278802152299933697</td>\n",
       "      <td>263597221</td>\n",
       "      <td>2020-07-02 21:26:06+00:00</td>\n",
       "      <td>1278802152299933697</td>\n",
       "      <td>de</td>\n",
       "      <td>0</td>\n",
       "      <td>1</td>\n",
       "      <td>0</td>\n",
       "      <td>0</td>\n",
       "      <td>Twitter Web App</td>\n",
       "      <td>None</td>\n",
       "      <td>None</td>\n",
       "      <td>Ernsthaft? Bafin wünscht Rettungsaktion: Deuts...</td>\n",
       "    </tr>\n",
       "    <tr>\n",
       "      <th>99081</th>\n",
       "      <td>1286257329881722883</td>\n",
       "      <td>1228941923773288449</td>\n",
       "      <td>2020-07-23 11:23:40+00:00</td>\n",
       "      <td>1286260687824723968</td>\n",
       "      <td>de</td>\n",
       "      <td>0</td>\n",
       "      <td>0</td>\n",
       "      <td>3</td>\n",
       "      <td>0</td>\n",
       "      <td>Twitter Web App</td>\n",
       "      <td>replied_to</td>\n",
       "      <td>1286257329881722883</td>\n",
       "      <td>die entsprechenden \"Schattenbank-Probleme\" w...</td>\n",
       "    </tr>\n",
       "    <tr>\n",
       "      <th>105425</th>\n",
       "      <td>1283854465125187584</td>\n",
       "      <td>14784765</td>\n",
       "      <td>2020-07-16 20:02:12+00:00</td>\n",
       "      <td>1283854466706485248</td>\n",
       "      <td>de</td>\n",
       "      <td>4</td>\n",
       "      <td>4</td>\n",
       "      <td>37</td>\n",
       "      <td>1</td>\n",
       "      <td>Twitter for iPhone</td>\n",
       "      <td>replied_to</td>\n",
       "      <td>1283854465125187584</td>\n",
       "      <td>Sonderprüfungen der Wirecard Bank wirken wie A...</td>\n",
       "    </tr>\n",
       "    <tr>\n",
       "      <th>9464</th>\n",
       "      <td>715168229291745280</td>\n",
       "      <td>1289565265</td>\n",
       "      <td>2016-03-30 13:26:07+00:00</td>\n",
       "      <td>715168229291745280</td>\n",
       "      <td>de</td>\n",
       "      <td>0</td>\n",
       "      <td>0</td>\n",
       "      <td>0</td>\n",
       "      <td>0</td>\n",
       "      <td>dlvr.it</td>\n",
       "      <td>None</td>\n",
       "      <td>None</td>\n",
       "      <td>▶ Hauck &amp;amp; Aufhäuser belässt Wirecard auf '...</td>\n",
       "    </tr>\n",
       "    <tr>\n",
       "      <th>43879</th>\n",
       "      <td>1119029462937604097</td>\n",
       "      <td>163537654</td>\n",
       "      <td>2019-04-19 00:06:29+00:00</td>\n",
       "      <td>1119029462937604097</td>\n",
       "      <td>de</td>\n",
       "      <td>0</td>\n",
       "      <td>0</td>\n",
       "      <td>0</td>\n",
       "      <td>0</td>\n",
       "      <td>FNTweetCenterDax30</td>\n",
       "      <td>None</td>\n",
       "      <td>None</td>\n",
       "      <td>Börsenaufsicht beendet Leerverkaufsverbot bei ...</td>\n",
       "    </tr>\n",
       "    <tr>\n",
       "      <th>4785</th>\n",
       "      <td>1274935145833865216</td>\n",
       "      <td>282106863</td>\n",
       "      <td>2020-06-22 05:20:00+00:00</td>\n",
       "      <td>1274935145833865216</td>\n",
       "      <td>de</td>\n",
       "      <td>0</td>\n",
       "      <td>0</td>\n",
       "      <td>0</td>\n",
       "      <td>0</td>\n",
       "      <td>Twitter Web App</td>\n",
       "      <td>None</td>\n",
       "      <td>None</td>\n",
       "      <td>Deutschland ÖsterreichKanzler Kurz ließ sich v...</td>\n",
       "    </tr>\n",
       "    <tr>\n",
       "      <th>17651</th>\n",
       "      <td>855436946365177857</td>\n",
       "      <td>704753138146877440</td>\n",
       "      <td>2017-04-21 15:03:55+00:00</td>\n",
       "      <td>855436946365177857</td>\n",
       "      <td>de</td>\n",
       "      <td>0</td>\n",
       "      <td>0</td>\n",
       "      <td>0</td>\n",
       "      <td>0</td>\n",
       "      <td>Twitter Web Client</td>\n",
       "      <td>None</td>\n",
       "      <td>None</td>\n",
       "      <td>\"die Frage, ob WDI ü. jeden Zweifel erhaben-o...</td>\n",
       "    </tr>\n",
       "    <tr>\n",
       "      <th>11105</th>\n",
       "      <td>717029591685140481</td>\n",
       "      <td>3094517057</td>\n",
       "      <td>2016-04-04 16:42:31+00:00</td>\n",
       "      <td>717029591685140481</td>\n",
       "      <td>de</td>\n",
       "      <td>0</td>\n",
       "      <td>0</td>\n",
       "      <td>0</td>\n",
       "      <td>0</td>\n",
       "      <td>Content Captain</td>\n",
       "      <td>None</td>\n",
       "      <td>None</td>\n",
       "      <td>wikifolio whispers p.m. zu WireCard, Apple, No...</td>\n",
       "    </tr>\n",
       "    <tr>\n",
       "      <th>86864</th>\n",
       "      <td>1273918590962540545</td>\n",
       "      <td>1182975827090313216</td>\n",
       "      <td>2020-06-19 10:00:35+00:00</td>\n",
       "      <td>1273918590962540545</td>\n",
       "      <td>de</td>\n",
       "      <td>0</td>\n",
       "      <td>0</td>\n",
       "      <td>0</td>\n",
       "      <td>0</td>\n",
       "      <td>Twitter Web App</td>\n",
       "      <td>None</td>\n",
       "      <td>None</td>\n",
       "      <td>Merkel für EU GEGEN Deutschland  Wirecard Akti...</td>\n",
       "    </tr>\n",
       "    <tr>\n",
       "      <th>24824</th>\n",
       "      <td>1007200594233262080</td>\n",
       "      <td>163538505</td>\n",
       "      <td>2018-06-14 09:58:29+00:00</td>\n",
       "      <td>1007200594233262080</td>\n",
       "      <td>de</td>\n",
       "      <td>0</td>\n",
       "      <td>0</td>\n",
       "      <td>0</td>\n",
       "      <td>0</td>\n",
       "      <td>FNTweetCenterNachrichten</td>\n",
       "      <td>None</td>\n",
       "      <td>None</td>\n",
       "      <td>Warburg Research belässt Wirecard auf 'Buy' - ...</td>\n",
       "    </tr>\n",
       "    <tr>\n",
       "      <th>18712</th>\n",
       "      <td>874275837318705152</td>\n",
       "      <td>19811837</td>\n",
       "      <td>2017-06-12 14:42:57+00:00</td>\n",
       "      <td>874275837318705152</td>\n",
       "      <td>de</td>\n",
       "      <td>0</td>\n",
       "      <td>0</td>\n",
       "      <td>1</td>\n",
       "      <td>0</td>\n",
       "      <td>AKTIONÄR API</td>\n",
       "      <td>None</td>\n",
       "      <td>None</td>\n",
       "      <td>Wirecard Shortquote sinkt weiter, aber Aktie k...</td>\n",
       "    </tr>\n",
       "    <tr>\n",
       "      <th>12714</th>\n",
       "      <td>758399348497485825</td>\n",
       "      <td>1062894738</td>\n",
       "      <td>2016-07-27 20:31:09+00:00</td>\n",
       "      <td>758399348497485825</td>\n",
       "      <td>de</td>\n",
       "      <td>0</td>\n",
       "      <td>0</td>\n",
       "      <td>0</td>\n",
       "      <td>0</td>\n",
       "      <td>dlvr.it</td>\n",
       "      <td>None</td>\n",
       "      <td>None</td>\n",
       "      <td>Wirecard: Zahlungsabwickler steigert Gewinn un...</td>\n",
       "    </tr>\n",
       "    <tr>\n",
       "      <th>64472</th>\n",
       "      <td>1265349738469167112</td>\n",
       "      <td>124205250</td>\n",
       "      <td>2020-05-26 18:31:01+00:00</td>\n",
       "      <td>1265349738469167112</td>\n",
       "      <td>de</td>\n",
       "      <td>1</td>\n",
       "      <td>0</td>\n",
       "      <td>1</td>\n",
       "      <td>0</td>\n",
       "      <td>IT-Times</td>\n",
       "      <td>None</td>\n",
       "      <td>None</td>\n",
       "      <td>Wirecard Aktie: US-amerikanische Hedge Fonds w...</td>\n",
       "    </tr>\n",
       "    <tr>\n",
       "      <th>32656</th>\n",
       "      <td>1072796888099778560</td>\n",
       "      <td>1289565265</td>\n",
       "      <td>2018-12-12 10:14:44+00:00</td>\n",
       "      <td>1072796888099778560</td>\n",
       "      <td>de</td>\n",
       "      <td>0</td>\n",
       "      <td>0</td>\n",
       "      <td>0</td>\n",
       "      <td>0</td>\n",
       "      <td>dlvr.it</td>\n",
       "      <td>None</td>\n",
       "      <td>None</td>\n",
       "      <td>▶ Hauck &amp;amp; Aufhäuser belässt Wirecard auf '...</td>\n",
       "    </tr>\n",
       "    <tr>\n",
       "      <th>49333</th>\n",
       "      <td>1167095425557512194</td>\n",
       "      <td>902357124</td>\n",
       "      <td>2019-08-29 15:23:27+00:00</td>\n",
       "      <td>1167095425557512194</td>\n",
       "      <td>de</td>\n",
       "      <td>0</td>\n",
       "      <td>0</td>\n",
       "      <td>0</td>\n",
       "      <td>0</td>\n",
       "      <td>Twitter for Android</td>\n",
       "      <td>None</td>\n",
       "      <td>None</td>\n",
       "      <td>Wirecard-Aktie: Und die nächste fette Kooperat...</td>\n",
       "    </tr>\n",
       "    <tr>\n",
       "      <th>100494</th>\n",
       "      <td>1285936142907576320</td>\n",
       "      <td>114508061</td>\n",
       "      <td>2020-07-22 13:54:02+00:00</td>\n",
       "      <td>1285936142907576320</td>\n",
       "      <td>de</td>\n",
       "      <td>9</td>\n",
       "      <td>4</td>\n",
       "      <td>17</td>\n",
       "      <td>2</td>\n",
       "      <td>SZ.de Twitterbot - Main</td>\n",
       "      <td>None</td>\n",
       "      <td>None</td>\n",
       "      <td>EIL - Staatsanwaltschaft München erlässt drei ...</td>\n",
       "    </tr>\n",
       "    <tr>\n",
       "      <th>114241</th>\n",
       "      <td>1278227975293435911</td>\n",
       "      <td>183289696</td>\n",
       "      <td>2020-07-01 07:24:32+00:00</td>\n",
       "      <td>1278227975293435911</td>\n",
       "      <td>de</td>\n",
       "      <td>0</td>\n",
       "      <td>0</td>\n",
       "      <td>1</td>\n",
       "      <td>0</td>\n",
       "      <td>dlvr.it</td>\n",
       "      <td>None</td>\n",
       "      <td>None</td>\n",
       "      <td>B5 Börse 08.31 Uhr: Wirecard zweistellig im Pl...</td>\n",
       "    </tr>\n",
       "    <tr>\n",
       "      <th>91524</th>\n",
       "      <td>1270985386274304001</td>\n",
       "      <td>122035491</td>\n",
       "      <td>2020-06-11 07:45:04+00:00</td>\n",
       "      <td>1270985386274304001</td>\n",
       "      <td>de</td>\n",
       "      <td>1</td>\n",
       "      <td>0</td>\n",
       "      <td>2</td>\n",
       "      <td>0</td>\n",
       "      <td>FP News Publisher - DE</td>\n",
       "      <td>None</td>\n",
       "      <td>None</td>\n",
       "      <td>Wirecard-Aktie: Partnerschaft mit 50 Mio. Kund...</td>\n",
       "    </tr>\n",
       "    <tr>\n",
       "      <th>90664</th>\n",
       "      <td>1273249712087367680</td>\n",
       "      <td>1077879160096374785</td>\n",
       "      <td>2020-06-17 14:45:34+00:00</td>\n",
       "      <td>1273265534558179330</td>\n",
       "      <td>de</td>\n",
       "      <td>0</td>\n",
       "      <td>0</td>\n",
       "      <td>1</td>\n",
       "      <td>0</td>\n",
       "      <td>Twitter for Android</td>\n",
       "      <td>replied_to</td>\n",
       "      <td>1273251937161527296</td>\n",
       "      <td>CAD wird den Prozess einstellen oder ggf. ...</td>\n",
       "    </tr>\n",
       "    <tr>\n",
       "      <th>72804</th>\n",
       "      <td>1276445518839926786</td>\n",
       "      <td>394168572</td>\n",
       "      <td>2020-06-26 09:21:41+00:00</td>\n",
       "      <td>1276445518839926786</td>\n",
       "      <td>de</td>\n",
       "      <td>0</td>\n",
       "      <td>0</td>\n",
       "      <td>0</td>\n",
       "      <td>0</td>\n",
       "      <td>Twitter Web App</td>\n",
       "      <td>None</td>\n",
       "      <td>None</td>\n",
       "      <td>Zahlungsabwickler - Ehemaliger Wirecard-Topman...</td>\n",
       "    </tr>\n",
       "  </tbody>\n",
       "</table>\n",
       "</div>"
      ],
      "text/plain": [
       "            conversation_id            author_id                created_at  \\\n",
       "112369  1278802152299933697            263597221 2020-07-02 21:26:06+00:00   \n",
       "99081   1286257329881722883  1228941923773288449 2020-07-23 11:23:40+00:00   \n",
       "105425  1283854465125187584             14784765 2020-07-16 20:02:12+00:00   \n",
       "9464     715168229291745280           1289565265 2016-03-30 13:26:07+00:00   \n",
       "43879   1119029462937604097            163537654 2019-04-19 00:06:29+00:00   \n",
       "4785    1274935145833865216            282106863 2020-06-22 05:20:00+00:00   \n",
       "17651    855436946365177857   704753138146877440 2017-04-21 15:03:55+00:00   \n",
       "11105    717029591685140481           3094517057 2016-04-04 16:42:31+00:00   \n",
       "86864   1273918590962540545  1182975827090313216 2020-06-19 10:00:35+00:00   \n",
       "24824   1007200594233262080            163538505 2018-06-14 09:58:29+00:00   \n",
       "18712    874275837318705152             19811837 2017-06-12 14:42:57+00:00   \n",
       "12714    758399348497485825           1062894738 2016-07-27 20:31:09+00:00   \n",
       "64472   1265349738469167112            124205250 2020-05-26 18:31:01+00:00   \n",
       "32656   1072796888099778560           1289565265 2018-12-12 10:14:44+00:00   \n",
       "49333   1167095425557512194            902357124 2019-08-29 15:23:27+00:00   \n",
       "100494  1285936142907576320            114508061 2020-07-22 13:54:02+00:00   \n",
       "114241  1278227975293435911            183289696 2020-07-01 07:24:32+00:00   \n",
       "91524   1270985386274304001            122035491 2020-06-11 07:45:04+00:00   \n",
       "90664   1273249712087367680  1077879160096374785 2020-06-17 14:45:34+00:00   \n",
       "72804   1276445518839926786            394168572 2020-06-26 09:21:41+00:00   \n",
       "\n",
       "                   tweet_id lang  retweet_count  reply_count  like_count  \\\n",
       "112369  1278802152299933697   de              0            1           0   \n",
       "99081   1286260687824723968   de              0            0           3   \n",
       "105425  1283854466706485248   de              4            4          37   \n",
       "9464     715168229291745280   de              0            0           0   \n",
       "43879   1119029462937604097   de              0            0           0   \n",
       "4785    1274935145833865216   de              0            0           0   \n",
       "17651    855436946365177857   de              0            0           0   \n",
       "11105    717029591685140481   de              0            0           0   \n",
       "86864   1273918590962540545   de              0            0           0   \n",
       "24824   1007200594233262080   de              0            0           0   \n",
       "18712    874275837318705152   de              0            0           1   \n",
       "12714    758399348497485825   de              0            0           0   \n",
       "64472   1265349738469167112   de              1            0           1   \n",
       "32656   1072796888099778560   de              0            0           0   \n",
       "49333   1167095425557512194   de              0            0           0   \n",
       "100494  1285936142907576320   de              9            4          17   \n",
       "114241  1278227975293435911   de              0            0           1   \n",
       "91524   1270985386274304001   de              1            0           2   \n",
       "90664   1273265534558179330   de              0            0           1   \n",
       "72804   1276445518839926786   de              0            0           0   \n",
       "\n",
       "        quote_count                    source  tweet_type  \\\n",
       "112369            0           Twitter Web App        None   \n",
       "99081             0           Twitter Web App  replied_to   \n",
       "105425            1        Twitter for iPhone  replied_to   \n",
       "9464              0                   dlvr.it        None   \n",
       "43879             0        FNTweetCenterDax30        None   \n",
       "4785              0           Twitter Web App        None   \n",
       "17651             0        Twitter Web Client        None   \n",
       "11105             0           Content Captain        None   \n",
       "86864             0           Twitter Web App        None   \n",
       "24824             0  FNTweetCenterNachrichten        None   \n",
       "18712             0              AKTIONÄR API        None   \n",
       "12714             0                   dlvr.it        None   \n",
       "64472             0                  IT-Times        None   \n",
       "32656             0                   dlvr.it        None   \n",
       "49333             0       Twitter for Android        None   \n",
       "100494            2   SZ.de Twitterbot - Main        None   \n",
       "114241            0                   dlvr.it        None   \n",
       "91524             0    FP News Publisher - DE        None   \n",
       "90664             0       Twitter for Android  replied_to   \n",
       "72804             0           Twitter Web App        None   \n",
       "\n",
       "        referenced_tweet_id                                               text  \n",
       "112369                 None  Ernsthaft? Bafin wünscht Rettungsaktion: Deuts...  \n",
       "99081   1286257329881722883    die entsprechenden \"Schattenbank-Probleme\" w...  \n",
       "105425  1283854465125187584  Sonderprüfungen der Wirecard Bank wirken wie A...  \n",
       "9464                   None  ▶ Hauck &amp; Aufhäuser belässt Wirecard auf '...  \n",
       "43879                  None  Börsenaufsicht beendet Leerverkaufsverbot bei ...  \n",
       "4785                   None  Deutschland ÖsterreichKanzler Kurz ließ sich v...  \n",
       "17651                  None   \"die Frage, ob WDI ü. jeden Zweifel erhaben-o...  \n",
       "11105                  None  wikifolio whispers p.m. zu WireCard, Apple, No...  \n",
       "86864                  None  Merkel für EU GEGEN Deutschland  Wirecard Akti...  \n",
       "24824                  None  Warburg Research belässt Wirecard auf 'Buy' - ...  \n",
       "18712                  None  Wirecard Shortquote sinkt weiter, aber Aktie k...  \n",
       "12714                  None  Wirecard: Zahlungsabwickler steigert Gewinn un...  \n",
       "64472                  None  Wirecard Aktie: US-amerikanische Hedge Fonds w...  \n",
       "32656                  None  ▶ Hauck &amp; Aufhäuser belässt Wirecard auf '...  \n",
       "49333                  None  Wirecard-Aktie: Und die nächste fette Kooperat...  \n",
       "100494                 None  EIL - Staatsanwaltschaft München erlässt drei ...  \n",
       "114241                 None  B5 Börse 08.31 Uhr: Wirecard zweistellig im Pl...  \n",
       "91524                  None  Wirecard-Aktie: Partnerschaft mit 50 Mio. Kund...  \n",
       "90664   1273251937161527296      CAD wird den Prozess einstellen oder ggf. ...  \n",
       "72804                  None  Zahlungsabwickler - Ehemaliger Wirecard-Topman...  "
      ]
     },
     "execution_count": 34,
     "metadata": {},
     "output_type": "execute_result"
    }
   ],
   "source": [
    "df_de.sample(n = 20)"
   ]
  },
  {
   "cell_type": "markdown",
   "id": "fcc4868f-5226-499e-a4f1-ec1090731c70",
   "metadata": {},
   "source": [
    "<h2>Finalen Datensatz als CSV ausgeben.</h2>"
   ]
  },
  {
   "cell_type": "code",
   "execution_count": 35,
   "id": "7f516bc4-b923-4c1c-aa84-47fbd58974a7",
   "metadata": {},
   "outputs": [],
   "source": [
    "df_de.to_csv('Dataset_Wirecard.csv', sep=';', index=False)"
   ]
  },
  {
   "cell_type": "code",
   "execution_count": 36,
   "id": "ae61aa8d-1989-49a4-9007-bbe29dafb38e",
   "metadata": {
    "tags": []
   },
   "outputs": [
    {
     "ename": "NameError",
     "evalue": "name 'df_validation_sentiment' is not defined",
     "output_type": "error",
     "traceback": [
      "\u001b[0;31m---------------------------------------------------------------------------\u001b[0m",
      "\u001b[0;31mNameError\u001b[0m                                 Traceback (most recent call last)",
      "Input \u001b[0;32mIn [36]\u001b[0m, in \u001b[0;36m<cell line: 1>\u001b[0;34m()\u001b[0m\n\u001b[0;32m----> 1\u001b[0m \u001b[43mdf_validation_sentiment\u001b[49m\u001b[38;5;241m.\u001b[39mhead()\n",
      "\u001b[0;31mNameError\u001b[0m: name 'df_validation_sentiment' is not defined"
     ]
    }
   ],
   "source": [
    "df_validation_sentiment.head()"
   ]
  },
  {
   "cell_type": "markdown",
   "id": "331f7e57-671e-451c-a3eb-98ffc68393a5",
   "metadata": {},
   "source": [
    "<h2>Erstellen der CSV zur Überprüfung der Sentiment Ergebnisse</h2>"
   ]
  },
  {
   "cell_type": "code",
   "execution_count": null,
   "id": "61f530a2-77d3-443d-8889-0e2a69382ad4",
   "metadata": {},
   "outputs": [],
   "source": [
    "df_de.sample(n=10)[[\"tweet_id\", \"text\"]]"
   ]
  },
  {
   "cell_type": "code",
   "execution_count": null,
   "id": "f44c9062-f71d-458f-b282-2a25ed42aba1",
   "metadata": {},
   "outputs": [],
   "source": [
    "df_sentiment_validation = df_de.sample(n = 1500)[[\"tweet_id\", \"text\"]]\n",
    "batch = 14\n",
    "counter = 0 \n",
    "for batch in range(0,15):\n",
    "    start = 100*batch\n",
    "    end = 100*batch+100\n",
    "    csv_name = 'de_validation_{count}.csv'.format(count=batch)\n",
    "    df_sentiment_validation.iloc[start:end].to_csv(csv_name, sep=';', index=False)\n",
    "    print(\"Start bei {start} und ende bei {ende}. Name der Datei: {csv}\".format(start=start, ende=end, csv=csv_name))"
   ]
  },
  {
   "cell_type": "code",
   "execution_count": null,
   "id": "33c78411-46f8-4723-83a2-73296def7b87",
   "metadata": {},
   "outputs": [],
   "source": []
  }
 ],
 "metadata": {
  "kernelspec": {
   "display_name": "master_thesis_3.9.10",
   "language": "python",
   "name": "master_thesis_3.9.10"
  },
  "language_info": {
   "codemirror_mode": {
    "name": "ipython",
    "version": 3
   },
   "file_extension": ".py",
   "mimetype": "text/x-python",
   "name": "python",
   "nbconvert_exporter": "python",
   "pygments_lexer": "ipython3",
   "version": "3.9.10"
  }
 },
 "nbformat": 4,
 "nbformat_minor": 5
}
