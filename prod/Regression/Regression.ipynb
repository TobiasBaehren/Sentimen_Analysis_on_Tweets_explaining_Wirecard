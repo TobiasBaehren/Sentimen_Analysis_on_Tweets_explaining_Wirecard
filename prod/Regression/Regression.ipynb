{
 "cells": [
  {
   "cell_type": "markdown",
   "id": "14a94c23-31f8-4934-ba01-1136ae84c6ce",
   "metadata": {},
   "source": [
    "<h1>Regression</h1>"
   ]
  },
  {
   "cell_type": "markdown",
   "id": "ecd965f2-4a7b-4891-a7b0-223407654dc4",
   "metadata": {},
   "source": [
    "<h2>Import Libaries</h2>"
   ]
  },
  {
   "cell_type": "code",
   "execution_count": 1,
   "id": "6a789995-a5c5-4f45-8b81-20c271b7af5e",
   "metadata": {},
   "outputs": [],
   "source": [
    "import csv\n",
    "import numpy as np\n",
    "import pandas as pd\n",
    "import re\n",
    "import datetime\n",
    "import matplotlib.pyplot as plt\n",
    "from sklearn.linear_model import LinearRegression\n",
    "from sklearn.model_selection import train_test_split\n",
    "import statsmodels.api as sm\n",
    "from statsmodels.stats.outliers_influence import variance_inflation_factor\n",
    "\n",
    "from sklearn.metrics import mean_squared_error\n",
    "from sklearn.metrics import r2_score"
   ]
  },
  {
   "cell_type": "markdown",
   "id": "ccab5679-d042-4784-aae7-1872c826ff38",
   "metadata": {},
   "source": [
    "<h2>Laden der Datensätze</h2>"
   ]
  },
  {
   "cell_type": "code",
   "execution_count": 2,
   "id": "e3fa8ccf-34f9-4526-8d3f-f3ef2662eab1",
   "metadata": {},
   "outputs": [],
   "source": [
    "#Load German Sentiment CSV file.\n",
    "df_de = pd.read_csv(\"/Users/tobias/Dev/FOM/Master_Thesis/data/Sentiment_Analysis/Dataset_DE_Bert_Vader.csv\", sep=\";\",\n",
    "                parse_dates=[\"created_at\"])\n",
    "\n",
    "#Change the date field\n",
    "df_de[\"Date\"] = pd.to_datetime(df_de.created_at).apply(lambda x: x.date())\n",
    "\n",
    "#Change the values of sentiment bert field and add a new field for a numeric value sentiment value \n",
    "df_de[\"sentiment_bert\"] = df_de[\"sentiment_bert\"].replace([\"neutral\", \"negative\", \"positive\"], [\"NEU\", \"NEG\", \"POS\"])\n",
    "df_de[\"sentiment_bert_value\"] = df_de[\"sentiment_bert\"].replace({\"NEU\": 0, \"NEG\": -1, \"POS\": 1})\n",
    "\n",
    "#Create a new field for a numeric sentiment value\n",
    "df_de[\"sentiment_vader_value\"] = [1 if i >= 0.05 else -1 if i <= -0.05 else 0 for i in df_de[\"sentiment_vader\"]]\n",
    "\n",
    "#Create a df for adding the year and week to the df\n",
    "df_de_week_year = pd.DataFrame([(i.isocalendar().week, i.isocalendar().year, i.isocalendar().weekday) for i in df_de[\"Date\"]],\n",
    "                               columns=[\"Week\", \"Year\", \"Weekday\"])\n",
    "\n",
    "#Recalulate the week\n",
    "for each in range(len(df_de_week_year)):\n",
    "    if ((df_de_week_year.iloc[each][\"Weekday\"] > 5) & (df_de_week_year.iloc[each][\"Week\"] != 1)):\n",
    "        df_de_week_year.iloc[each][\"Week\"] = df_de_week_year.iloc[each][\"Week\"] - 1\n",
    "    elif ((df_de_week_year.iloc[each][\"Weekday\"] > 5) & (df_de_week_year.iloc[each][\"Week\"] == 1)):\n",
    "        df_de_week_year.iloc[each][\"Week\"] = 52\n",
    "\n",
    "#Adding the week and year information to the df\n",
    "df_de[[\"Week\", \"Year\"]] = df_de_week_year[[\"Week\", \"Year\"]]"
   ]
  },
  {
   "cell_type": "code",
   "execution_count": 3,
   "id": "467f3bf8-1a24-4956-a4bf-a3b094bd9d9f",
   "metadata": {},
   "outputs": [],
   "source": [
    "#Load English Sentiment CSV file.\n",
    "df_en = pd.read_csv(\"/Users/tobias/Dev/FOM/Master_Thesis/data/Sentiment_Analysis/Dataset_Bert_Vader.csv\", sep=\";\",\n",
    "                parse_dates=[\"created_at\"])\n",
    "\n",
    "#Change the date field\n",
    "df_en[\"Date\"] = pd.to_datetime(df_en.created_at).apply(lambda x: x.date())\n",
    "\n",
    "#Add a new column for a numeric sentiment bert value\n",
    "df_en[\"sentiment_bert_value\"] = df_en[\"sentiment_bert\"].replace({\"NEU\": 0, \"NEG\": -1, \"POS\": 1})\n",
    "\n",
    "#Add a new column for a numeric sentiment vader value\n",
    "df_en[\"sentiment_vader_value\"] = [1 if i >= 0.05 else -1 if i <= -0.05 else 0 for i in df_en[\"sentiment_vader\"]]\n",
    "\n",
    "#Create a df for adding the year and week to the df\n",
    "df_en_week_year = pd.DataFrame([(i.isocalendar().week, i.isocalendar().year, i.isocalendar().weekday) for i in df_en[\"Date\"]],\n",
    "                               columns=[\"Week\", \"Year\", \"Weekday\"])\n",
    "\n",
    "#Recalulate the week\n",
    "for each in range(len(df_en_week_year)):\n",
    "    if ((df_en_week_year.iloc[each][\"Weekday\"] > 5) & (df_en_week_year.iloc[each][\"Week\"] != 1)):\n",
    "        df_en_week_year.iloc[each][\"Week\"] = df_en_week_year.iloc[each][\"Week\"] - 1\n",
    "    elif ((df_en_week_year.iloc[each][\"Weekday\"] > 5) & (df_en_week_year.iloc[each][\"Week\"] == 1)):\n",
    "        df_en_week_year.iloc[each][\"Week\"] = 52\n",
    "        \n",
    "#Adding the week and year information to the df\n",
    "df_en[[\"Week\", \"Year\"]] = df_en_week_year[[\"Week\", \"Year\"]]"
   ]
  },
  {
   "cell_type": "code",
   "execution_count": 4,
   "id": "0488f3b9-17c3-4538-bec2-556c8f08b657",
   "metadata": {},
   "outputs": [],
   "source": [
    "#Combine the different DFs\n",
    "df = pd.concat([df_en, df_de]).reset_index(drop=True)"
   ]
  },
  {
   "cell_type": "code",
   "execution_count": 120,
   "id": "bdc28569-0468-47df-995d-75c96e8ccbea",
   "metadata": {},
   "outputs": [],
   "source": [
    "#Change the values from sentiment_bert_value from text to a num value\n",
    "df[\"sentiment_bert_value\"] = df[\"sentiment_bert\"].replace({\"NEU\": 0, \"NEG\": -1, \"POS\": 1})\n",
    "\n",
    "#Create a df for adding the year and week to the df\n",
    "df_week_year = pd.DataFrame([(i.isocalendar().week, i.isocalendar().year) for i in df[\"Date\"]], columns=[\"Week\", \"Year\"])\n",
    "#Adding the week and year information to the df\n",
    "df[[\"Week\", \"Year\"]] = df_week_year[[\"Week\", \"Year\"]]"
   ]
  },
  {
   "cell_type": "code",
   "execution_count": 5,
   "id": "c0760bbd-5bfd-4c51-a97c-13caa01b8abe",
   "metadata": {},
   "outputs": [],
   "source": [
    "#Load Wirecard finance CSV file.\n",
    "df_wdi = pd.read_csv(\"/Users/tobias/Dev/FOM/Master_Thesis/data/WDI.HM-2.csv\", parse_dates=[\"Date\"])\n",
    "df_wdi = df_wdi.rename(columns={\"Adj Close\": \"Adj_Close\"})\n",
    "\n",
    "#Load Euro Stoxx 50 CSV file.\n",
    "df_stoxx = pd.read_csv(\"/Users/tobias/Dev/FOM/Master_Thesis/data/^STOXX50E.csv\", parse_dates=[\"Date\"])\n",
    "df_stoxx = df_stoxx.rename(columns={\"Adj Close\": \"Adj_Close\"})\n",
    "\n",
    "#Load Visa finance CSV file.\n",
    "df_visa = pd.read_csv(\"/Users/tobias/Dev/FOM/Master_Thesis/data/V.csv\", parse_dates=[\"Date\"])\n",
    "df_visa = df_visa.rename(columns={\"Adj Close\": \"Adj_Close\"})\n",
    "\n",
    "#Load Master Card finance CSV file.\n",
    "df_ma = pd.read_csv(\"/Users/tobias/Dev/FOM/Master_Thesis/data/MA.csv\", parse_dates=[\"Date\"])\n",
    "df_ma = df_ma.rename(columns={\"Adj Close\": \"Adj_Close\"})"
   ]
  },
  {
   "cell_type": "markdown",
   "id": "70381be5-4bda-46f8-9763-c6526fcd6bdd",
   "metadata": {},
   "source": [
    "<h2>Data Preparation</h2>"
   ]
  },
  {
   "cell_type": "code",
   "execution_count": 6,
   "id": "b15ffe86-961d-4473-b6db-24f15de55f70",
   "metadata": {},
   "outputs": [],
   "source": [
    "#Change Date für df_wdi & df\n",
    "df_wdi[\"Date\"] = pd.to_datetime(df_wdi.Date).apply(lambda x: x.date())\n",
    "df_stoxx[\"Date\"] = pd.to_datetime(df_stoxx.Date).apply(lambda x: x.date())\n",
    "df_visa[\"Date\"] = pd.to_datetime(df_visa.Date).apply(lambda x: x.date())\n",
    "df_ma[\"Date\"] = pd.to_datetime(df_ma.Date).apply(lambda x: x.date())"
   ]
  },
  {
   "cell_type": "code",
   "execution_count": 7,
   "id": "8d535620-9a68-4cff-bf54-469b89d3025b",
   "metadata": {},
   "outputs": [],
   "source": [
    "def create_finance_df(df):\n",
    "    #Create df for returning\n",
    "    df_week = pd.DataFrame(columns=[\"Date\", \"Week\", \"Year\", \"Adj_Close\"])\n",
    "    \n",
    "    #Start Week\n",
    "    week = 5\n",
    "    volume = 0\n",
    "    \n",
    "    #To loop through all lines in df\n",
    "    for each in range(len(df)):\n",
    "        #Get the date\n",
    "        each_date = df[\"Date\"][each]\n",
    "        adj_close = df[\"Adj_Close\"][each]\n",
    "        \n",
    "        #Get the Volume of all transactions in a week\n",
    "        volume = volume + df[\"Volume\"][each]\n",
    "\n",
    "        #Check if the date is the last date\n",
    "        if df[\"Date\"][each] == datetime.date(2020,7,31):\n",
    "            #Get Week Number, start and end day\n",
    "            week = each_date.isocalendar().week\n",
    "            year = each_date.isocalendar().year\n",
    "            end_day = df[\"Date\"].iloc[-1]\n",
    "            \n",
    "            #Add data to df\n",
    "            new_row = pd.DataFrame([[each_date, week, year, adj_close, volume]],\n",
    "                                   columns=[\"Date\", \"Week\", \"Year\", \"Adj_Close\", \"Volume\"])\n",
    "            df_week = pd.concat([df_week, new_row], ignore_index=True)\n",
    "        else:\n",
    "            #Get the next week number for checking\n",
    "            next_week = df[\"Date\"][each+1].isocalendar().week\n",
    "\n",
    "            #Check if the next day is in another week \n",
    "            if each_date.isocalendar().week != next_week:\n",
    "                #Get week number, year and last date\n",
    "                week = each_date.isocalendar().week\n",
    "                year = each_date.isocalendar().year\n",
    "                end_day = each_date\n",
    "                \n",
    "                #Add data to df\n",
    "                new_row = pd.DataFrame([[each_date, week, year, adj_close, volume]],\n",
    "                                       columns=[\"Date\", \"Week\", \"Year\", \"Adj_Close\", \"Volume\"])\n",
    "                df_week = pd.concat([df_week, new_row], ignore_index=True)\n",
    "                \n",
    "                #Set Volume back to 0\n",
    "                volume = 0\n",
    "    \n",
    "    #Add the yield from one week to another\n",
    "    df_week[\"returns_week\"] = df_week.Adj_Close.pct_change()+1\n",
    "    #df_week[\"returns_week_log\"] = pd.Series(np.log(np.float64(df_week.Adj_Close))).pct_change()\n",
    "    \n",
    "\n",
    "    \n",
    "    #Return the new DF\n",
    "    return df_week"
   ]
  },
  {
   "cell_type": "code",
   "execution_count": 8,
   "id": "ac684914-0476-4759-9eb9-ebab0db5a078",
   "metadata": {},
   "outputs": [],
   "source": [
    "def concat_finance_df(df_wdi = df_wdi, df_stoxx = df_stoxx, df_ma = df_ma, df_v = df_visa):\n",
    "    \n",
    "    #Create week dfs for all financial dfs\n",
    "    df_wdi_week = create_finance_df(df_wdi)\n",
    "    df_stoxx_week = create_finance_df(df_stoxx)\n",
    "    df_ma_week = create_finance_df(df_ma)\n",
    "    df_v_week = create_finance_df(df_v)\n",
    "    \n",
    "    #combine all dfs\n",
    "    df_week = pd.concat([df_wdi_week, df_stoxx_week.rename(columns={\"returns_week\": \"returns_stoxx\"})[\"returns_stoxx\"]],\n",
    "                        axis=1)\n",
    "    df_week = pd.concat([df_week, df_ma_week.rename(columns={\"returns_week\": \"returns_ma\"})[\"returns_ma\"]], axis=1)\n",
    "    df_week = pd.concat([df_week, df_v_week.rename(columns={\"returns_week\": \"returns_visa\"})[\"returns_visa\"]], axis=1)\n",
    "    return df_week"
   ]
  },
  {
   "cell_type": "code",
   "execution_count": 9,
   "id": "554f92ff-fb42-4dfc-85ac-7bc480f4e462",
   "metadata": {},
   "outputs": [],
   "source": [
    "def create_final_df(df_week, df, meta_data = False):\n",
    "    \n",
    "    #If meta data like Retweets should be used, this will calculate it.\n",
    "    if meta_data:\n",
    "        df[\"sentiment_bert_value\"] = df[\"sentiment_bert_value\"] * ((df[\"retweet_count\"] + 1))\n",
    "        df[\"sentiment_vader_value\"] = df[\"sentiment_vader_value\"] * ((df[\"retweet_count\"] + 1))\n",
    "    \n",
    "    df_sum_year_week_bert = pd.DataFrame(df[[\"Week\", \"Year\", \"sentiment_bert_value\"]].\n",
    "                                    groupby(by=[\"Year\", \"Week\"]).sum()).reset_index()\n",
    "\n",
    "    df_sum_year_week_vader = pd.DataFrame(df[[\"Week\", \"Year\", \"sentiment_vader_value\"]].\n",
    "                                    groupby(by=[\"Year\", \"Week\"]).sum()).reset_index()\n",
    "    \n",
    "    df_count_tweets_year_week = pd.DataFrame(df[[\"Week\", \"Year\", \"conversation_id\"]].\n",
    "                                    groupby(by=[\"Year\", \"Week\"]).\n",
    "             count()).reset_index().rename(columns={\"conversation_id\": \"count_all_tweets\"})\n",
    "    \n",
    "    df_week = df_week.merge(df_sum_year_week_bert)\n",
    "    df_week = df_week.merge(df_sum_year_week_vader)\n",
    "    df_week = df_week.merge(df_count_tweets_year_week)\n",
    "    \n",
    "    return df_week"
   ]
  },
  {
   "cell_type": "code",
   "execution_count": 10,
   "id": "49ffd6b2-7ea6-4425-ae32-548027fd5b35",
   "metadata": {},
   "outputs": [],
   "source": [
    "def create_df(df_twitter = df.copy()):\n",
    "    df_week = concat_finance_df()\n",
    "    df_week_reg = create_final_df(df_week, df_twitter)\n",
    "    \n",
    "    df_week_reg[\"dif_sentiment_bert_value\"] = df_week_reg[\"sentiment_bert_value\"].diff()\n",
    "    df_week_reg[\"dif_sentiment_vader_value\"] = df_week_reg[\"sentiment_vader_value\"].diff()\n",
    "\n",
    "    df_week_reg.dropna(inplace=True)\n",
    "    df_week_reg = df_week_reg.reset_index(drop=True)\n",
    "\n",
    "    return df_week_reg"
   ]
  },
  {
   "cell_type": "markdown",
   "id": "0b54fa90-d4d3-40be-af28-ba4cd9d961c4",
   "metadata": {
    "tags": []
   },
   "source": [
    "<h2>Linear Regression</h2>"
   ]
  },
  {
   "cell_type": "code",
   "execution_count": 11,
   "id": "f32f94f5-bae5-416d-809f-397e81eadfd6",
   "metadata": {},
   "outputs": [],
   "source": [
    "def regression(df, regressor, output):\n",
    "    \n",
    "    x = df[regressor]\n",
    "    y = df[output]\n",
    "    \n",
    "    x = sm.add_constant(x)\n",
    "\n",
    "    model = sm.OLS(y,x).fit()\n",
    "    \n",
    "    predictions = model.predict(x)\n",
    "    \n",
    "    pritn_model = model.summary()\n",
    "    \n",
    "    print(pritn_model)\n",
    "    \n",
    "    return predictions, model"
   ]
  },
  {
   "cell_type": "markdown",
   "id": "20748c4c-f48d-4a8d-aaef-ae695a8e33b4",
   "metadata": {},
   "source": [
    "<h2>Execute</h2>"
   ]
  },
  {
   "cell_type": "code",
   "execution_count": 18,
   "id": "94d2c34c-bf9f-485d-8611-f9140595768d",
   "metadata": {},
   "outputs": [
    {
     "name": "stdout",
     "output_type": "stream",
     "text": [
      "                            OLS Regression Results                            \n",
      "==============================================================================\n",
      "Dep. Variable:           returns_week   R-squared:                       0.765\n",
      "Model:                            OLS   Adj. R-squared:                  0.759\n",
      "Method:                 Least Squares   F-statistic:                     123.1\n",
      "Date:                Wed, 12 Oct 2022   Prob (F-statistic):           1.73e-68\n",
      "Time:                        17:45:02   Log-Likelihood:                 308.42\n",
      "No. Observations:                 234   AIC:                            -602.8\n",
      "Df Residuals:                     227   BIC:                            -578.7\n",
      "Df Model:                           6                                         \n",
      "Covariance Type:            nonrobust                                         \n",
      "============================================================================================\n",
      "                               coef    std err          t      P>|t|      [0.025      0.975]\n",
      "--------------------------------------------------------------------------------------------\n",
      "const                        0.0110      0.173      0.063      0.949      -0.330       0.352\n",
      "dif_sentiment_bert_value  8.887e-05   8.89e-06      9.996      0.000    7.14e-05       0.000\n",
      "returns_stoxx                0.5698      0.188      3.030      0.003       0.199       0.940\n",
      "returns_ma                   0.1492      0.299      0.499      0.618      -0.440       0.738\n",
      "returns_visa                 0.2769      0.361      0.767      0.444      -0.434       0.988\n",
      "Volume                    9.545e-07   3.93e-07      2.426      0.016    1.79e-07    1.73e-06\n",
      "count_all_tweets         -1.733e-05   5.31e-06     -3.262      0.001   -2.78e-05   -6.86e-06\n",
      "==============================================================================\n",
      "Omnibus:                      103.607   Durbin-Watson:                   2.149\n",
      "Prob(Omnibus):                  0.000   Jarque-Bera (JB):              884.666\n",
      "Skew:                          -1.500   Prob(JB):                    7.89e-193\n",
      "Kurtosis:                      12.041   Cond. No.                     4.40e+06\n",
      "==============================================================================\n",
      "\n",
      "Notes:\n",
      "[1] Standard Errors assume that the covariance matrix of the errors is correctly specified.\n",
      "[2] The condition number is large, 4.4e+06. This might indicate that there are\n",
      "strong multicollinearity or other numerical problems.\n"
     ]
    }
   ],
   "source": [
    "regressor = [\"dif_sentiment_bert_value\", \"returns_stoxx\", \"returns_ma\", \"returns_visa\", \"Volume\", \"count_all_tweets\"]\n",
    "\n",
    "regressand = [\"returns_week\"]\n",
    "\n",
    "df_week_reg = create_df()\n",
    "        \n",
    "reg_predictions, reg_model = regression(df_week_reg, regressor, regressand)"
   ]
  },
  {
   "cell_type": "code",
   "execution_count": 34,
   "id": "4a36a907-612d-4a33-a016-43225f369d24",
   "metadata": {},
   "outputs": [
    {
     "name": "stdout",
     "output_type": "stream",
     "text": [
      "                            OLS Regression Results                            \n",
      "==============================================================================\n",
      "Dep. Variable:           returns_week   R-squared:                       0.760\n",
      "Model:                            OLS   Adj. R-squared:                  0.753\n",
      "Method:                 Least Squares   F-statistic:                     102.3\n",
      "Date:                Sun, 23 Oct 2022   Prob (F-statistic):           1.86e-66\n",
      "Time:                        22:04:46   Log-Likelihood:                 306.10\n",
      "No. Observations:                 234   AIC:                            -596.2\n",
      "Df Residuals:                     226   BIC:                            -568.6\n",
      "Df Model:                           7                                         \n",
      "Covariance Type:            nonrobust                                         \n",
      "=============================================================================================\n",
      "                                coef    std err          t      P>|t|      [0.025      0.975]\n",
      "---------------------------------------------------------------------------------------------\n",
      "const                         0.1263      0.175      0.720      0.472      -0.219       0.472\n",
      "dif_sentiment_bert_value   4.945e-05   1.45e-05      3.399      0.001    2.08e-05    7.81e-05\n",
      "dif_sentiment_vader_value     0.0001   2.35e-05      5.665      0.000    8.68e-05       0.000\n",
      "returns_stoxx                 0.5001      0.190      2.626      0.009       0.125       0.875\n",
      "returns_ma                    0.1617      0.303      0.534      0.594      -0.435       0.758\n",
      "returns_visa                  0.2187      0.366      0.598      0.550      -0.502       0.939\n",
      "Volume                     3.521e-07   4.54e-07      0.775      0.439   -5.43e-07    1.25e-06\n",
      "count_all_tweets           -1.06e-05    6.4e-06     -1.656      0.099   -2.32e-05    2.02e-06\n",
      "==============================================================================\n",
      "Omnibus:                       47.850   Durbin-Watson:                   2.257\n",
      "Prob(Omnibus):                  0.000   Jarque-Bera (JB):              309.892\n",
      "Skew:                          -0.566   Prob(JB):                     5.10e-68\n",
      "Kurtosis:                       8.523   Cond. No.                     4.40e+06\n",
      "==============================================================================\n",
      "\n",
      "Notes:\n",
      "[1] Standard Errors assume that the covariance matrix of the errors is correctly specified.\n",
      "[2] The condition number is large, 4.4e+06. This might indicate that there are\n",
      "strong multicollinearity or other numerical problems.\n"
     ]
    }
   ],
   "source": [
    "regressor = [\"dif_sentiment_bert_value\", \"returns_stoxx\", \"returns_ma\", \"returns_visa\", \"Volume\", \"count_all_tweets\"]\n",
    "regressor = [\"dif_sentiment_vader_value\", \"returns_stoxx\", \"returns_ma\", \"returns_visa\", \"Volume\", \"count_all_tweets\"]\n",
    "regressor = [\"dif_sentiment_bert_value\", \"dif_sentiment_vader_value\", \"returns_stoxx\", \"returns_ma\", \"returns_visa\", \"Volume\", \"count_all_tweets\"]\n",
    "regressand = [\"returns_week\"]\n",
    "\n",
    "df_week_reg = create_df(df)\n",
    "        \n",
    "reg_predictions, reg_model = regression(df_week_reg, regressor, regressand)"
   ]
  },
  {
   "cell_type": "markdown",
   "id": "22763ad0-8fde-4cf6-a7cd-e96f288da00b",
   "metadata": {
    "tags": []
   },
   "source": [
    "<h2>Test</h2>"
   ]
  },
  {
   "cell_type": "code",
   "execution_count": 20,
   "id": "05ac38c5-a462-4b72-ac7d-6f4d255c700c",
   "metadata": {},
   "outputs": [
    {
     "data": {
      "text/plain": [
       "114368"
      ]
     },
     "execution_count": 20,
     "metadata": {},
     "output_type": "execute_result"
    }
   ],
   "source": [
    "df_week_reg[\"count_all_tweets\"].sum()"
   ]
  },
  {
   "cell_type": "code",
   "execution_count": 113,
   "id": "462b8081-827a-4520-9a02-dfac44d39a8e",
   "metadata": {},
   "outputs": [],
   "source": [
    "df_test = pd.DataFrame([(i.isocalendar().week, i.isocalendar().year, i.isocalendar().weekday) for i in df_en[\"Date\"]],\n",
    "                               columns=[\"Week\", \"Year\", \"Weekday\"])"
   ]
  },
  {
   "cell_type": "code",
   "execution_count": 114,
   "id": "22a5264e-64dc-4780-8778-5c2bd2e8acab",
   "metadata": {
    "tags": []
   },
   "outputs": [],
   "source": [
    "for each in range(len(df_test)):\n",
    "#for each in range(15):\n",
    "    if ((df_test.iloc[each][\"Weekday\"] > 5) & (df_test.iloc[each][\"Week\"] != 1)):\n",
    "        df_test.iloc[each][\"Week\"] = df_test.iloc[each][\"Week\"] - 1\n",
    "    elif ((df_test.iloc[each][\"Weekday\"] > 5) & (df_test.iloc[each][\"Week\"] == 1)):\n",
    "        df_test.iloc[each][\"Week\"] = 52"
   ]
  },
  {
   "cell_type": "code",
   "execution_count": 115,
   "id": "f559b36d-b274-4ea3-ad1d-0c978ede3adb",
   "metadata": {},
   "outputs": [
    {
     "data": {
      "text/html": [
       "<div>\n",
       "<style scoped>\n",
       "    .dataframe tbody tr th:only-of-type {\n",
       "        vertical-align: middle;\n",
       "    }\n",
       "\n",
       "    .dataframe tbody tr th {\n",
       "        vertical-align: top;\n",
       "    }\n",
       "\n",
       "    .dataframe thead th {\n",
       "        text-align: right;\n",
       "    }\n",
       "</style>\n",
       "<table border=\"1\" class=\"dataframe\">\n",
       "  <thead>\n",
       "    <tr style=\"text-align: right;\">\n",
       "      <th></th>\n",
       "      <th>Week</th>\n",
       "      <th>Year</th>\n",
       "      <th>Weekday</th>\n",
       "    </tr>\n",
       "  </thead>\n",
       "  <tbody>\n",
       "    <tr>\n",
       "      <th>0</th>\n",
       "      <td>8</td>\n",
       "      <td>2016</td>\n",
       "      <td>5</td>\n",
       "    </tr>\n",
       "    <tr>\n",
       "      <th>1</th>\n",
       "      <td>5</td>\n",
       "      <td>2016</td>\n",
       "      <td>4</td>\n",
       "    </tr>\n",
       "    <tr>\n",
       "      <th>2</th>\n",
       "      <td>5</td>\n",
       "      <td>2016</td>\n",
       "      <td>4</td>\n",
       "    </tr>\n",
       "    <tr>\n",
       "      <th>3</th>\n",
       "      <td>14</td>\n",
       "      <td>2016</td>\n",
       "      <td>5</td>\n",
       "    </tr>\n",
       "    <tr>\n",
       "      <th>4</th>\n",
       "      <td>14</td>\n",
       "      <td>2016</td>\n",
       "      <td>5</td>\n",
       "    </tr>\n",
       "    <tr>\n",
       "      <th>5</th>\n",
       "      <td>14</td>\n",
       "      <td>2016</td>\n",
       "      <td>5</td>\n",
       "    </tr>\n",
       "    <tr>\n",
       "      <th>6</th>\n",
       "      <td>14</td>\n",
       "      <td>2016</td>\n",
       "      <td>4</td>\n",
       "    </tr>\n",
       "    <tr>\n",
       "      <th>7</th>\n",
       "      <td>14</td>\n",
       "      <td>2016</td>\n",
       "      <td>4</td>\n",
       "    </tr>\n",
       "    <tr>\n",
       "      <th>8</th>\n",
       "      <td>21</td>\n",
       "      <td>2016</td>\n",
       "      <td>1</td>\n",
       "    </tr>\n",
       "    <tr>\n",
       "      <th>9</th>\n",
       "      <td>19</td>\n",
       "      <td>2016</td>\n",
       "      <td>7</td>\n",
       "    </tr>\n",
       "    <tr>\n",
       "      <th>10</th>\n",
       "      <td>19</td>\n",
       "      <td>2016</td>\n",
       "      <td>6</td>\n",
       "    </tr>\n",
       "    <tr>\n",
       "      <th>11</th>\n",
       "      <td>19</td>\n",
       "      <td>2016</td>\n",
       "      <td>6</td>\n",
       "    </tr>\n",
       "    <tr>\n",
       "      <th>12</th>\n",
       "      <td>20</td>\n",
       "      <td>2016</td>\n",
       "      <td>3</td>\n",
       "    </tr>\n",
       "    <tr>\n",
       "      <th>13</th>\n",
       "      <td>18</td>\n",
       "      <td>2016</td>\n",
       "      <td>2</td>\n",
       "    </tr>\n",
       "    <tr>\n",
       "      <th>14</th>\n",
       "      <td>21</td>\n",
       "      <td>2016</td>\n",
       "      <td>7</td>\n",
       "    </tr>\n",
       "  </tbody>\n",
       "</table>\n",
       "</div>"
      ],
      "text/plain": [
       "    Week  Year  Weekday\n",
       "0      8  2016        5\n",
       "1      5  2016        4\n",
       "2      5  2016        4\n",
       "3     14  2016        5\n",
       "4     14  2016        5\n",
       "5     14  2016        5\n",
       "6     14  2016        4\n",
       "7     14  2016        4\n",
       "8     21  2016        1\n",
       "9     19  2016        7\n",
       "10    19  2016        6\n",
       "11    19  2016        6\n",
       "12    20  2016        3\n",
       "13    18  2016        2\n",
       "14    21  2016        7"
      ]
     },
     "execution_count": 115,
     "metadata": {},
     "output_type": "execute_result"
    }
   ],
   "source": [
    "df_test.head(15)"
   ]
  },
  {
   "cell_type": "code",
   "execution_count": 84,
   "id": "7b464af1-9f5b-4a09-a1ab-19888868bdf8",
   "metadata": {},
   "outputs": [
    {
     "data": {
      "text/html": [
       "<div>\n",
       "<style scoped>\n",
       "    .dataframe tbody tr th:only-of-type {\n",
       "        vertical-align: middle;\n",
       "    }\n",
       "\n",
       "    .dataframe tbody tr th {\n",
       "        vertical-align: top;\n",
       "    }\n",
       "\n",
       "    .dataframe thead th {\n",
       "        text-align: right;\n",
       "    }\n",
       "</style>\n",
       "<table border=\"1\" class=\"dataframe\">\n",
       "  <thead>\n",
       "    <tr style=\"text-align: right;\">\n",
       "      <th></th>\n",
       "      <th>Week</th>\n",
       "      <th>Year</th>\n",
       "      <th>Weekday</th>\n",
       "    </tr>\n",
       "  </thead>\n",
       "  <tbody>\n",
       "    <tr>\n",
       "      <th>0</th>\n",
       "      <td>8</td>\n",
       "      <td>2016</td>\n",
       "      <td>5</td>\n",
       "    </tr>\n",
       "    <tr>\n",
       "      <th>1</th>\n",
       "      <td>5</td>\n",
       "      <td>2016</td>\n",
       "      <td>4</td>\n",
       "    </tr>\n",
       "    <tr>\n",
       "      <th>2</th>\n",
       "      <td>5</td>\n",
       "      <td>2016</td>\n",
       "      <td>4</td>\n",
       "    </tr>\n",
       "    <tr>\n",
       "      <th>3</th>\n",
       "      <td>14</td>\n",
       "      <td>2016</td>\n",
       "      <td>5</td>\n",
       "    </tr>\n",
       "    <tr>\n",
       "      <th>4</th>\n",
       "      <td>14</td>\n",
       "      <td>2016</td>\n",
       "      <td>5</td>\n",
       "    </tr>\n",
       "    <tr>\n",
       "      <th>5</th>\n",
       "      <td>14</td>\n",
       "      <td>2016</td>\n",
       "      <td>5</td>\n",
       "    </tr>\n",
       "    <tr>\n",
       "      <th>6</th>\n",
       "      <td>14</td>\n",
       "      <td>2016</td>\n",
       "      <td>4</td>\n",
       "    </tr>\n",
       "    <tr>\n",
       "      <th>7</th>\n",
       "      <td>14</td>\n",
       "      <td>2016</td>\n",
       "      <td>4</td>\n",
       "    </tr>\n",
       "    <tr>\n",
       "      <th>8</th>\n",
       "      <td>21</td>\n",
       "      <td>2016</td>\n",
       "      <td>1</td>\n",
       "    </tr>\n",
       "    <tr>\n",
       "      <th>9</th>\n",
       "      <td>20</td>\n",
       "      <td>2016</td>\n",
       "      <td>7</td>\n",
       "    </tr>\n",
       "    <tr>\n",
       "      <th>10</th>\n",
       "      <td>20</td>\n",
       "      <td>2016</td>\n",
       "      <td>6</td>\n",
       "    </tr>\n",
       "    <tr>\n",
       "      <th>11</th>\n",
       "      <td>20</td>\n",
       "      <td>2016</td>\n",
       "      <td>6</td>\n",
       "    </tr>\n",
       "    <tr>\n",
       "      <th>12</th>\n",
       "      <td>20</td>\n",
       "      <td>2016</td>\n",
       "      <td>3</td>\n",
       "    </tr>\n",
       "    <tr>\n",
       "      <th>13</th>\n",
       "      <td>18</td>\n",
       "      <td>2016</td>\n",
       "      <td>2</td>\n",
       "    </tr>\n",
       "    <tr>\n",
       "      <th>14</th>\n",
       "      <td>22</td>\n",
       "      <td>2016</td>\n",
       "      <td>7</td>\n",
       "    </tr>\n",
       "  </tbody>\n",
       "</table>\n",
       "</div>"
      ],
      "text/plain": [
       "    Week  Year  Weekday\n",
       "0      8  2016        5\n",
       "1      5  2016        4\n",
       "2      5  2016        4\n",
       "3     14  2016        5\n",
       "4     14  2016        5\n",
       "5     14  2016        5\n",
       "6     14  2016        4\n",
       "7     14  2016        4\n",
       "8     21  2016        1\n",
       "9     20  2016        7\n",
       "10    20  2016        6\n",
       "11    20  2016        6\n",
       "12    20  2016        3\n",
       "13    18  2016        2\n",
       "14    22  2016        7"
      ]
     },
     "execution_count": 84,
     "metadata": {},
     "output_type": "execute_result"
    }
   ],
   "source": [
    "df_test.head(15)"
   ]
  },
  {
   "cell_type": "code",
   "execution_count": 116,
   "id": "efb38595-e90f-472d-8d2b-5078573e4465",
   "metadata": {},
   "outputs": [
    {
     "data": {
      "text/plain": [
       "0"
      ]
     },
     "execution_count": 116,
     "metadata": {},
     "output_type": "execute_result"
    }
   ],
   "source": [
    "len(df_test.loc[df_test[\"Week\"] == 0])"
   ]
  },
  {
   "cell_type": "code",
   "execution_count": 103,
   "id": "8acb0382-3de6-476f-8c1a-83a4c88c426c",
   "metadata": {},
   "outputs": [
    {
     "data": {
      "text/html": [
       "<div>\n",
       "<style scoped>\n",
       "    .dataframe tbody tr th:only-of-type {\n",
       "        vertical-align: middle;\n",
       "    }\n",
       "\n",
       "    .dataframe tbody tr th {\n",
       "        vertical-align: top;\n",
       "    }\n",
       "\n",
       "    .dataframe thead th {\n",
       "        text-align: right;\n",
       "    }\n",
       "</style>\n",
       "<table border=\"1\" class=\"dataframe\">\n",
       "  <thead>\n",
       "    <tr style=\"text-align: right;\">\n",
       "      <th></th>\n",
       "      <th>Week</th>\n",
       "      <th>Year</th>\n",
       "      <th>Weekday</th>\n",
       "    </tr>\n",
       "  </thead>\n",
       "  <tbody>\n",
       "    <tr>\n",
       "      <th>0</th>\n",
       "      <td>8</td>\n",
       "      <td>2016</td>\n",
       "      <td>5</td>\n",
       "    </tr>\n",
       "    <tr>\n",
       "      <th>1</th>\n",
       "      <td>5</td>\n",
       "      <td>2016</td>\n",
       "      <td>4</td>\n",
       "    </tr>\n",
       "    <tr>\n",
       "      <th>2</th>\n",
       "      <td>5</td>\n",
       "      <td>2016</td>\n",
       "      <td>4</td>\n",
       "    </tr>\n",
       "    <tr>\n",
       "      <th>3</th>\n",
       "      <td>14</td>\n",
       "      <td>2016</td>\n",
       "      <td>5</td>\n",
       "    </tr>\n",
       "    <tr>\n",
       "      <th>4</th>\n",
       "      <td>14</td>\n",
       "      <td>2016</td>\n",
       "      <td>5</td>\n",
       "    </tr>\n",
       "    <tr>\n",
       "      <th>5</th>\n",
       "      <td>14</td>\n",
       "      <td>2016</td>\n",
       "      <td>5</td>\n",
       "    </tr>\n",
       "    <tr>\n",
       "      <th>6</th>\n",
       "      <td>14</td>\n",
       "      <td>2016</td>\n",
       "      <td>4</td>\n",
       "    </tr>\n",
       "    <tr>\n",
       "      <th>7</th>\n",
       "      <td>14</td>\n",
       "      <td>2016</td>\n",
       "      <td>4</td>\n",
       "    </tr>\n",
       "    <tr>\n",
       "      <th>8</th>\n",
       "      <td>21</td>\n",
       "      <td>2016</td>\n",
       "      <td>1</td>\n",
       "    </tr>\n",
       "    <tr>\n",
       "      <th>9</th>\n",
       "      <td>20</td>\n",
       "      <td>2016</td>\n",
       "      <td>7</td>\n",
       "    </tr>\n",
       "    <tr>\n",
       "      <th>10</th>\n",
       "      <td>20</td>\n",
       "      <td>2016</td>\n",
       "      <td>6</td>\n",
       "    </tr>\n",
       "    <tr>\n",
       "      <th>11</th>\n",
       "      <td>20</td>\n",
       "      <td>2016</td>\n",
       "      <td>6</td>\n",
       "    </tr>\n",
       "    <tr>\n",
       "      <th>12</th>\n",
       "      <td>20</td>\n",
       "      <td>2016</td>\n",
       "      <td>3</td>\n",
       "    </tr>\n",
       "    <tr>\n",
       "      <th>13</th>\n",
       "      <td>18</td>\n",
       "      <td>2016</td>\n",
       "      <td>2</td>\n",
       "    </tr>\n",
       "    <tr>\n",
       "      <th>14</th>\n",
       "      <td>22</td>\n",
       "      <td>2016</td>\n",
       "      <td>7</td>\n",
       "    </tr>\n",
       "  </tbody>\n",
       "</table>\n",
       "</div>"
      ],
      "text/plain": [
       "    Week  Year  Weekday\n",
       "0      8  2016        5\n",
       "1      5  2016        4\n",
       "2      5  2016        4\n",
       "3     14  2016        5\n",
       "4     14  2016        5\n",
       "5     14  2016        5\n",
       "6     14  2016        4\n",
       "7     14  2016        4\n",
       "8     21  2016        1\n",
       "9     20  2016        7\n",
       "10    20  2016        6\n",
       "11    20  2016        6\n",
       "12    20  2016        3\n",
       "13    18  2016        2\n",
       "14    22  2016        7"
      ]
     },
     "execution_count": 103,
     "metadata": {},
     "output_type": "execute_result"
    }
   ],
   "source": [
    "df_test.head(15)"
   ]
  },
  {
   "cell_type": "markdown",
   "id": "5ae514d1-8eed-46a9-bac4-976abdd9f651",
   "metadata": {},
   "source": [
    "<h2>Darstellung</h2>"
   ]
  },
  {
   "cell_type": "code",
   "execution_count": 177,
   "id": "37d27e5a-d4b7-4467-bb98-66340fb6465b",
   "metadata": {},
   "outputs": [
    {
     "data": {
      "text/plain": [
       "sentiment_bert\n",
       "NEG    33654\n",
       "NEU    75312\n",
       "POS     5478\n",
       "Name: sentiment_bert, dtype: int64"
      ]
     },
     "execution_count": 177,
     "metadata": {},
     "output_type": "execute_result"
    }
   ],
   "source": [
    "df_de.groupby(\"sentiment_bert\")[\"sentiment_bert\"].count()"
   ]
  },
  {
   "cell_type": "code",
   "execution_count": 178,
   "id": "da73f2d2-5374-4f1c-b1eb-702d032cfa8e",
   "metadata": {},
   "outputs": [
    {
     "data": {
      "text/plain": [
       "114444"
      ]
     },
     "execution_count": 178,
     "metadata": {},
     "output_type": "execute_result"
    }
   ],
   "source": [
    "len(df_de)"
   ]
  },
  {
   "cell_type": "code",
   "execution_count": 179,
   "id": "ec97117b-800b-4923-81c6-ccb664d23d22",
   "metadata": {},
   "outputs": [
    {
     "data": {
      "text/plain": [
       "65.80685750235922"
      ]
     },
     "execution_count": 179,
     "metadata": {},
     "output_type": "execute_result"
    }
   ],
   "source": [
    "(len(df_de.loc[df_de[\"sentiment_bert\"] == \"NEU\"]) / len(df_de)) * 100"
   ]
  },
  {
   "cell_type": "code",
   "execution_count": 191,
   "id": "e415e597-09cf-4c79-8c88-6a016681cd28",
   "metadata": {},
   "outputs": [
    {
     "data": {
      "text/plain": [
       "array([2016, 2017, 2018, 2019, 2020])"
      ]
     },
     "execution_count": 191,
     "metadata": {},
     "output_type": "execute_result"
    }
   ],
   "source": [
    "df_de[\"Year\"].unique()"
   ]
  },
  {
   "cell_type": "code",
   "execution_count": 235,
   "id": "59b97239-3cd8-42c8-9eed-0ceeed4a0851",
   "metadata": {},
   "outputs": [
    {
     "data": {
      "text/plain": [
       "0      2094\n",
       "3      1800\n",
       "6      2422\n",
       "9      6309\n",
       "12    21029\n",
       "Name: sentiment_bert_value, dtype: int64"
      ]
     },
     "execution_count": 235,
     "metadata": {},
     "output_type": "execute_result"
    }
   ],
   "source": [
    "df_de.groupby([\"Year\", \"sentiment_bert\"])[\"sentiment_bert_value\"].count().reset_index().loc[df_de.groupby([\"Year\", \"sentiment_bert\"])[\"sentiment_bert_value\"].count().reset_index()[\"sentiment_bert\"] == \"NEG\"][\"sentiment_bert_value\"]"
   ]
  },
  {
   "cell_type": "code",
   "execution_count": 256,
   "id": "82282649-8b47-483e-a2d6-85493611b0e0",
   "metadata": {},
   "outputs": [
    {
     "data": {
      "image/png": "[encoded data removed]",
      "text/plain": [
       "<Figure size 432x288 with 1 Axes>"
      ]
     },
     "metadata": {
      "needs_background": "light"
     },
     "output_type": "display_data"
    }
   ],
   "source": [
    "X = df_de[\"Year\"].unique()\n",
    "Y_NEG = df_de.groupby([\"Year\", \"sentiment_bert\"])[\"sentiment_bert_value\"].count().reset_index().loc[df_de.groupby([\"Year\", \"sentiment_bert\"])[\"sentiment_bert_value\"].count().reset_index()[\"sentiment_bert\"] == \"NEG\"][\"sentiment_bert_value\"]\n",
    "y_NEU = df_de.groupby([\"Year\", \"sentiment_bert\"])[\"sentiment_bert_value\"].count().reset_index().loc[df_de.groupby([\"Year\", \"sentiment_bert\"])[\"sentiment_bert_value\"].count().reset_index()[\"sentiment_bert\"] == \"NEU\"][\"sentiment_bert_value\"]\n",
    "y_POS = df_de.groupby([\"Year\", \"sentiment_bert\"])[\"sentiment_bert_value\"].count().reset_index().loc[df_de.groupby([\"Year\", \"sentiment_bert\"])[\"sentiment_bert_value\"].count().reset_index()[\"sentiment_bert\"] == \"POS\"][\"sentiment_bert_value\"]\n",
    "  \n",
    "X_axis = np.arange(len(X))\n",
    "  \n",
    "plt.bar(X_axis - 0.2, Y_NEG, 0.4, label = 'Negativ')\n",
    "plt.bar(X_axis + 0.2, y_NEU, 0.4, label = 'Neutral')\n",
    "plt.bar(X_axis + 0.2, y_POS, 0.4, label = 'Positiv')\n",
    "\n",
    "  \n",
    "plt.xticks(X_axis, X)\n",
    "plt.xlabel(\"Groups\")\n",
    "plt.ylabel(\"Number of Students\")\n",
    "plt.title(\"Number of Students in each group\")\n",
    "plt.legend()\n",
    "plt.show()"
   ]
  },
  {
   "cell_type": "code",
   "execution_count": 281,
   "id": "f357f9d0-1745-4c4b-a0a0-0725b347904e",
   "metadata": {},
   "outputs": [
    {
     "data": {
      "image/png": "[encoded data removed]",
      "text/plain": [
       "<Figure size 1800x720 with 1 Axes>"
      ]
     },
     "metadata": {
      "needs_background": "light"
     },
     "output_type": "display_data"
    }
   ],
   "source": [
    "plt.figure(figsize=(25, 10))\n",
    "\n",
    "N = 5\n",
    "ind = np.arange(N)\n",
    "width = 0.25\n",
    "\n",
    "xvals = df_de.groupby([\"Year\", \"sentiment_bert\"])[\"sentiment_bert_value\"].count().reset_index().loc[df_de.groupby([\"Year\", \"sentiment_bert\"])[\"sentiment_bert_value\"].count().reset_index()[\"sentiment_bert\"] == \"NEG\"][\"sentiment_bert_value\"]\n",
    "bar1 = plt.bar(ind, xvals, width, color = 'r')\n",
    "\n",
    "yvals = df_de.groupby([\"Year\", \"sentiment_bert\"])[\"sentiment_bert_value\"].count().reset_index().loc[df_de.groupby([\"Year\", \"sentiment_bert\"])[\"sentiment_bert_value\"].count().reset_index()[\"sentiment_bert\"] == \"NEU\"][\"sentiment_bert_value\"]\n",
    "bar2 = plt.bar(ind+width, yvals, width, color='b')\n",
    "\n",
    "zvals = df_de.groupby([\"Year\", \"sentiment_bert\"])[\"sentiment_bert_value\"].count().reset_index().loc[df_de.groupby([\"Year\", \"sentiment_bert\"])[\"sentiment_bert_value\"].count().reset_index()[\"sentiment_bert\"] == \"POS\"][\"sentiment_bert_value\"]\n",
    "bar3 = plt.bar(ind+width*2, zvals, width, color = 'g')\n",
    "\n",
    "plt.xlabel(\"Date\")\n",
    "plt.ylabel(\"Anzahl Tweets\")\n",
    "plt.title(\"Sentiment bewertete Tweets nach Jahren \")\n",
    "\n",
    "plt.xticks(ind+width,['2016', '2017', '2018', '2019', '2020'])\n",
    "plt.legend( (bar1, bar2, bar3), ('Negativ', 'Neutral', 'Positiv'), prop={'size': 15})\n",
    "plt.show()\n"
   ]
  },
  {
   "cell_type": "code",
   "execution_count": 404,
   "id": "ba441bb5-ea0b-4412-9eb9-9dc0d0a5db74",
   "metadata": {},
   "outputs": [
    {
     "data": {
      "image/png": "[encoded data removed]",
      "text/plain": [
       "<Figure size 1800x720 with 1 Axes>"
      ]
     },
     "metadata": {
      "needs_background": "light"
     },
     "output_type": "display_data"
    }
   ],
   "source": [
    "labels = ['2016', '2017', '2018', '2019', '2020']\n",
    "neg = df_de.groupby([\"Year\", \"sentiment_bert\"])[\"sentiment_bert_value\"].count().reset_index().loc[df_de.groupby([\"Year\", \"sentiment_bert\"])[\"sentiment_bert_value\"].count().reset_index()[\"sentiment_bert\"] == \"NEG\"][\"sentiment_bert_value\"]\n",
    "neu = df_de.groupby([\"Year\", \"sentiment_bert\"])[\"sentiment_bert_value\"].count().reset_index().loc[df_de.groupby([\"Year\", \"sentiment_bert\"])[\"sentiment_bert_value\"].count().reset_index()[\"sentiment_bert\"] == \"NEU\"][\"sentiment_bert_value\"]\n",
    "pos = df_de.groupby([\"Year\", \"sentiment_bert\"])[\"sentiment_bert_value\"].count().reset_index().loc[df_de.groupby([\"Year\", \"sentiment_bert\"])[\"sentiment_bert_value\"].count().reset_index()[\"sentiment_bert\"] == \"POS\"][\"sentiment_bert_value\"]\n",
    "\n",
    "x = [-0.2, 1.2, 2.6, 4, 5.4]\n",
    "width = 0.4  # the width of the bars\n",
    "\n",
    "bar_1 = [-0.6, 0.8, 2.2, 3.6, 5]\n",
    "bar_2 = [-0.2, 1.2, 2.6, 4, 5.4]\n",
    "bar_3 = [0.2, 1.6, 3, 4.4, 5.8]\n",
    "\n",
    "fig, ax = plt.subplots(figsize=(25,10))\n",
    "rects1 = ax.bar(bar_1, neg, width, label='Negativ', color=\"red\")\n",
    "rects2 = ax.bar(bar_2, neu, width, label='Neutral', color=\"grey\")\n",
    "rects3 = ax.bar(bar_3, pos, width, label=\"Positiv\", color=\"green\")\n",
    "\n",
    "# Add some text for labels, title and custom x-axis tick labels, etc.\n",
    "ax.set_ylabel('Anzahl Tweets', fontsize=(15))\n",
    "ax.set_xlabel('Jahr', fontsize=(15))\n",
    "ax.set_title('Anzahl negativer, neutraler und positiver Tweets pro Jahr', fontsize=(20))\n",
    "ax.set_xticks(x, labels, fontsize=(15))\n",
    "ax.legend(fontsize=(25))\n",
    "\n",
    "for label in (ax.get_xticklabels() + ax.get_yticklabels()):\n",
    "\tlabel.set_fontsize(15)\n",
    "\n",
    "ax.bar_label(rects1, padding=3, fontsize=(15))\n",
    "ax.bar_label(rects2, padding=3, fontsize=(15))\n",
    "ax.bar_label(rects3, padding=3, fontsize=(15))\n",
    "\n",
    "fig.tight_layout()\n",
    "\n",
    "plt.show()"
   ]
  },
  {
   "cell_type": "code",
   "execution_count": 346,
   "id": "d860ba60-670f-43e6-b2ad-4431a3966d65",
   "metadata": {},
   "outputs": [
    {
     "data": {
      "text/plain": [
       "array([-0.4,  0.6,  1.6,  2.6,  3.6])"
      ]
     },
     "execution_count": 346,
     "metadata": {},
     "output_type": "execute_result"
    }
   ],
   "source": [
    "np.arange(len(labels))-0.4"
   ]
  },
  {
   "cell_type": "code",
   "execution_count": 332,
   "id": "ddce432d-b767-4d5c-81c1-03f1f922ad3c",
   "metadata": {},
   "outputs": [
    {
     "data": {
      "text/plain": [
       "array([0.2, 1.2, 2.2, 3.2, 4.2])"
      ]
     },
     "execution_count": 332,
     "metadata": {},
     "output_type": "execute_result"
    }
   ],
   "source": [
    "np.arange(len(labels))+0.4/2"
   ]
  },
  {
   "cell_type": "code",
   "execution_count": 328,
   "id": "25c5844e-7645-4f1a-8cf1-254dfe88b327",
   "metadata": {},
   "outputs": [
    {
     "data": {
      "text/plain": [
       "array([0.2, 1.2, 2.2, 3.2, 4.2])"
      ]
     },
     "execution_count": 328,
     "metadata": {},
     "output_type": "execute_result"
    }
   ],
   "source": [
    "np.arange(len(labels))+0.4/2"
   ]
  },
  {
   "cell_type": "code",
   "execution_count": 300,
   "id": "1bf0c519-402a-423c-9e63-0caf1ce83bf7",
   "metadata": {},
   "outputs": [
    {
     "data": {
      "text/plain": [
       "(4, 2, 4, 6, 5)"
      ]
     },
     "execution_count": 300,
     "metadata": {},
     "output_type": "execute_result"
    }
   ],
   "source": [
    "-0,6; -0,2; 0,2; 0,6\n",
    "0,8; 1,2; 1,6; 2\n",
    "2,2; 2,6; 3; 3,4\n",
    "3,6; 4; 4,4; 4,8\n",
    "5; 5,4; 5,8; 6,2"
   ]
  },
  {
   "cell_type": "code",
   "execution_count": 342,
   "id": "8bde9f48-bb9a-40a2-a654-e91082954df9",
   "metadata": {},
   "outputs": [
    {
     "data": {
      "text/plain": [
       "1.2"
      ]
     },
     "execution_count": 347,
     "metadata": {},
     "output_type": "execute_result"
    }
   ],
   "source": [
    "(1-0.4)*2"
   ]
  },
  {
   "cell_type": "code",
   "execution_count": 305,
   "id": "8717067b-9602-4a6d-856b-d93ea9241254",
   "metadata": {},
   "outputs": [
    {
     "data": {
      "text/plain": [
       "0.6000000000000001"
      ]
     },
     "execution_count": 305,
     "metadata": {},
     "output_type": "execute_result"
    }
   ],
   "source": [
    "0.2*3"
   ]
  },
  {
   "cell_type": "code",
   "execution_count": 407,
   "id": "e5e61bdf-60c8-4dfe-aed7-9a894c653fd2",
   "metadata": {},
   "outputs": [
    {
     "data": {
      "text/plain": [
       "111199"
      ]
     },
     "execution_count": 407,
     "metadata": {},
     "output_type": "execute_result"
    }
   ],
   "source": [
    "len(df_en)"
   ]
  },
  {
   "cell_type": "code",
   "execution_count": 410,
   "id": "61f1621a-5ac8-4f25-8452-e1251e6549a7",
   "metadata": {},
   "outputs": [
    {
     "data": {
      "text/plain": [
       "sentiment_bert\n",
       "NEG    35102\n",
       "NEU    60884\n",
       "POS    15213\n",
       "Name: sentiment_bert, dtype: int64"
      ]
     },
     "execution_count": 410,
     "metadata": {},
     "output_type": "execute_result"
    }
   ],
   "source": [
    "df_en.groupby(\"sentiment_bert\")[\"sentiment_bert\"].count()"
   ]
  },
  {
   "cell_type": "code",
   "execution_count": 413,
   "id": "c87cc6f4-7937-4602-890a-07c8087dee18",
   "metadata": {},
   "outputs": [
    {
     "data": {
      "text/plain": [
       "0.5475229093786814"
      ]
     },
     "execution_count": 413,
     "metadata": {},
     "output_type": "execute_result"
    }
   ],
   "source": [
    "len(df_en.loc[df_en[\"sentiment_bert\"] == \"NEU\"]) / len(df_en)"
   ]
  },
  {
   "cell_type": "code",
   "execution_count": 414,
   "id": "08f1c4a6-0c4f-481a-9e0c-5125f366d256",
   "metadata": {},
   "outputs": [
    {
     "data": {
      "image/png": "[encoded data removed]",
      "text/plain": [
       "<Figure size 1800x720 with 1 Axes>"
      ]
     },
     "metadata": {
      "needs_background": "light"
     },
     "output_type": "display_data"
    }
   ],
   "source": [
    "labels = ['2016', '2017', '2018', '2019', '2020']\n",
    "neg = df_en.groupby([\"Year\", \"sentiment_bert\"])[\"sentiment_bert_value\"].count().reset_index().loc[df_en.groupby([\"Year\", \"sentiment_bert\"])[\"sentiment_bert_value\"].count().reset_index()[\"sentiment_bert\"] == \"NEG\"][\"sentiment_bert_value\"]\n",
    "neu = df_en.groupby([\"Year\", \"sentiment_bert\"])[\"sentiment_bert_value\"].count().reset_index().loc[df_en.groupby([\"Year\", \"sentiment_bert\"])[\"sentiment_bert_value\"].count().reset_index()[\"sentiment_bert\"] == \"NEU\"][\"sentiment_bert_value\"]\n",
    "pos = df_en.groupby([\"Year\", \"sentiment_bert\"])[\"sentiment_bert_value\"].count().reset_index().loc[df_en.groupby([\"Year\", \"sentiment_bert\"])[\"sentiment_bert_value\"].count().reset_index()[\"sentiment_bert\"] == \"POS\"][\"sentiment_bert_value\"]\n",
    "\n",
    "x = [-0.2, 1.2, 2.6, 4, 5.4]\n",
    "width = 0.4  # the width of the bars\n",
    "\n",
    "bar_1 = [-0.6, 0.8, 2.2, 3.6, 5]\n",
    "bar_2 = [-0.2, 1.2, 2.6, 4, 5.4]\n",
    "bar_3 = [0.2, 1.6, 3, 4.4, 5.8]\n",
    "\n",
    "fig, ax = plt.subplots(figsize=(25,10))\n",
    "rects1 = ax.bar(bar_1, neg, width, label='Negativ', color=\"red\")\n",
    "rects2 = ax.bar(bar_2, neu, width, label='Neutral', color=\"grey\")\n",
    "rects3 = ax.bar(bar_3, pos, width, label=\"Positiv\", color=\"green\")\n",
    "\n",
    "# Add some text for labels, title and custom x-axis tick labels, etc.\n",
    "ax.set_ylabel('Anzahl Tweets', fontsize=(15))\n",
    "ax.set_xlabel('Jahr', fontsize=(15))\n",
    "ax.set_title('Anzahl negativer, neutraler und positiver Tweets pro Jahr', fontsize=(20))\n",
    "ax.set_xticks(x, labels, fontsize=(15))\n",
    "ax.legend(fontsize=(25))\n",
    "\n",
    "for label in (ax.get_xticklabels() + ax.get_yticklabels()):\n",
    "\tlabel.set_fontsize(15)\n",
    "\n",
    "ax.bar_label(rects1, padding=3, fontsize=(15))\n",
    "ax.bar_label(rects2, padding=3, fontsize=(15))\n",
    "ax.bar_label(rects3, padding=3, fontsize=(15))\n",
    "\n",
    "fig.tight_layout()\n",
    "\n",
    "plt.show()"
   ]
  },
  {
   "cell_type": "code",
   "execution_count": 417,
   "id": "e40cd2f2-7308-40dc-b46f-9f68696e6d65",
   "metadata": {},
   "outputs": [
    {
     "data": {
      "text/plain": [
       "0         0\n",
       "1         1\n",
       "2         1\n",
       "3         0\n",
       "4         0\n",
       "         ..\n",
       "114439    1\n",
       "114440    0\n",
       "114441    0\n",
       "114442    0\n",
       "114443    1\n",
       "Name: sentiment_vader_value, Length: 114444, dtype: int64"
      ]
     },
     "execution_count": 417,
     "metadata": {},
     "output_type": "execute_result"
    }
   ],
   "source": [
    "df_de[\"sentiment_vader_value\"]"
   ]
  },
  {
   "cell_type": "code",
   "execution_count": 423,
   "id": "a74bc35c-811c-4289-8ce3-de14b111ebe6",
   "metadata": {},
   "outputs": [
    {
     "data": {
      "text/plain": [
       "sentiment_vader_value\n",
       "-1    34702\n",
       " 0    33090\n",
       " 1    46652\n",
       "Name: sentiment_vader, dtype: int64"
      ]
     },
     "execution_count": 423,
     "metadata": {},
     "output_type": "execute_result"
    }
   ],
   "source": [
    "df_de.groupby(\"sentiment_vader_value\")[\"sentiment_vader\"].count()"
   ]
  },
  {
   "cell_type": "code",
   "execution_count": 424,
   "id": "d2994896-195e-4e1d-bc70-da8635f98f08",
   "metadata": {},
   "outputs": [
    {
     "data": {
      "image/png": "[encoded data removed]",
      "text/plain": [
       "<Figure size 1800x720 with 1 Axes>"
      ]
     },
     "metadata": {
      "needs_background": "light"
     },
     "output_type": "display_data"
    }
   ],
   "source": [
    "labels = ['2016', '2017', '2018', '2019', '2020']\n",
    "neg = df_de.groupby([\"Year\", \"sentiment_vader_value\"])[\"sentiment_vader\"].count().reset_index().loc[df_de.groupby([\"Year\", \"sentiment_vader_value\"])[\"sentiment_vader\"].count().reset_index()[\"sentiment_vader_value\"] == -1][\"sentiment_vader\"]\n",
    "neu = df_de.groupby([\"Year\", \"sentiment_vader_value\"])[\"sentiment_vader\"].count().reset_index().loc[df_de.groupby([\"Year\", \"sentiment_vader_value\"])[\"sentiment_vader\"].count().reset_index()[\"sentiment_vader_value\"] == 0][\"sentiment_vader\"]\n",
    "pos = df_de.groupby([\"Year\", \"sentiment_vader_value\"])[\"sentiment_vader\"].count().reset_index().loc[df_de.groupby([\"Year\", \"sentiment_vader_value\"])[\"sentiment_vader\"].count().reset_index()[\"sentiment_vader_value\"] == 1][\"sentiment_vader\"]\n",
    "\n",
    "x = [-0.2, 1.2, 2.6, 4, 5.4]\n",
    "width = 0.4  # the width of the bars\n",
    "\n",
    "bar_1 = [-0.6, 0.8, 2.2, 3.6, 5]\n",
    "bar_2 = [-0.2, 1.2, 2.6, 4, 5.4]\n",
    "bar_3 = [0.2, 1.6, 3, 4.4, 5.8]\n",
    "\n",
    "fig, ax = plt.subplots(figsize=(25,10))\n",
    "rects1 = ax.bar(bar_1, neg, width, label='Negativ', color=\"red\")\n",
    "rects2 = ax.bar(bar_2, neu, width, label='Neutral', color=\"grey\")\n",
    "rects3 = ax.bar(bar_3, pos, width, label=\"Positiv\", color=\"green\")\n",
    "\n",
    "# Add some text for labels, title and custom x-axis tick labels, etc.\n",
    "ax.set_ylabel('Anzahl Tweets', fontsize=(15))\n",
    "ax.set_xlabel('Jahr', fontsize=(15))\n",
    "ax.set_title('Anzahl negativer, neutraler und positiver Tweets pro Jahr', fontsize=(20))\n",
    "ax.set_xticks(x, labels, fontsize=(15))\n",
    "ax.legend(fontsize=(25))\n",
    "\n",
    "for label in (ax.get_xticklabels() + ax.get_yticklabels()):\n",
    "\tlabel.set_fontsize(15)\n",
    "\n",
    "ax.bar_label(rects1, padding=3, fontsize=(15))\n",
    "ax.bar_label(rects2, padding=3, fontsize=(15))\n",
    "ax.bar_label(rects3, padding=3, fontsize=(15))\n",
    "\n",
    "fig.tight_layout()\n",
    "\n",
    "plt.show()"
   ]
  },
  {
   "cell_type": "code",
   "execution_count": 427,
   "id": "2372cd25-7888-4e56-bb2d-26ea645f5690",
   "metadata": {},
   "outputs": [
    {
     "data": {
      "text/plain": [
       "0.40764041802104084"
      ]
     },
     "execution_count": 427,
     "metadata": {},
     "output_type": "execute_result"
    }
   ],
   "source": [
    "len(df_de.loc[df_de[\"sentiment_vader_value\"] == 1]) / len(df_de)"
   ]
  },
  {
   "cell_type": "code",
   "execution_count": 428,
   "id": "d49755a0-b927-4ae0-8b1b-a82572515a04",
   "metadata": {},
   "outputs": [
    {
     "data": {
      "text/plain": [
       "sentiment_vader_value\n",
       "-1    37868\n",
       " 0    37229\n",
       " 1    36102\n",
       "Name: sentiment_vader, dtype: int64"
      ]
     },
     "execution_count": 428,
     "metadata": {},
     "output_type": "execute_result"
    }
   ],
   "source": [
    "df_en.groupby(\"sentiment_vader_value\")[\"sentiment_vader\"].count()"
   ]
  },
  {
   "cell_type": "code",
   "execution_count": 429,
   "id": "428dd011-14df-4afe-a53e-4d0b730bde18",
   "metadata": {},
   "outputs": [
    {
     "data": {
      "image/png": "[encoded data removed]",
      "text/plain": [
       "<Figure size 1800x720 with 1 Axes>"
      ]
     },
     "metadata": {
      "needs_background": "light"
     },
     "output_type": "display_data"
    }
   ],
   "source": [
    "labels = ['2016', '2017', '2018', '2019', '2020']\n",
    "neg = df_en.groupby([\"Year\", \"sentiment_vader_value\"])[\"sentiment_vader\"].count().reset_index().loc[df_en.groupby([\"Year\", \"sentiment_vader_value\"])[\"sentiment_vader\"].count().reset_index()[\"sentiment_vader_value\"] == -1][\"sentiment_vader\"]\n",
    "neu = df_en.groupby([\"Year\", \"sentiment_vader_value\"])[\"sentiment_vader\"].count().reset_index().loc[df_en.groupby([\"Year\", \"sentiment_vader_value\"])[\"sentiment_vader\"].count().reset_index()[\"sentiment_vader_value\"] == 0][\"sentiment_vader\"]\n",
    "pos = df_en.groupby([\"Year\", \"sentiment_vader_value\"])[\"sentiment_vader\"].count().reset_index().loc[df_en.groupby([\"Year\", \"sentiment_vader_value\"])[\"sentiment_vader\"].count().reset_index()[\"sentiment_vader_value\"] == 1][\"sentiment_vader\"]\n",
    "\n",
    "x = [-0.2, 1.2, 2.6, 4, 5.4]\n",
    "width = 0.4  # the width of the bars\n",
    "\n",
    "bar_1 = [-0.6, 0.8, 2.2, 3.6, 5]\n",
    "bar_2 = [-0.2, 1.2, 2.6, 4, 5.4]\n",
    "bar_3 = [0.2, 1.6, 3, 4.4, 5.8]\n",
    "\n",
    "fig, ax = plt.subplots(figsize=(25,10))\n",
    "rects1 = ax.bar(bar_1, neg, width, label='Negativ', color=\"red\")\n",
    "rects2 = ax.bar(bar_2, neu, width, label='Neutral', color=\"grey\")\n",
    "rects3 = ax.bar(bar_3, pos, width, label=\"Positiv\", color=\"green\")\n",
    "\n",
    "# Add some text for labels, title and custom x-axis tick labels, etc.\n",
    "ax.set_ylabel('Anzahl Tweets', fontsize=(15))\n",
    "ax.set_xlabel('Jahr', fontsize=(15))\n",
    "ax.set_title('Anzahl negativer, neutraler und positiver Tweets pro Jahr', fontsize=(20))\n",
    "ax.set_xticks(x, labels, fontsize=(15))\n",
    "ax.legend(fontsize=(25))\n",
    "\n",
    "for label in (ax.get_xticklabels() + ax.get_yticklabels()):\n",
    "\tlabel.set_fontsize(15)\n",
    "\n",
    "ax.bar_label(rects1, padding=3, fontsize=(15))\n",
    "ax.bar_label(rects2, padding=3, fontsize=(15))\n",
    "ax.bar_label(rects3, padding=3, fontsize=(15))\n",
    "\n",
    "fig.tight_layout()\n",
    "\n",
    "plt.show()"
   ]
  },
  {
   "cell_type": "code",
   "execution_count": 14,
   "id": "b4cdcb35-15b7-4541-a484-5e63c498937e",
   "metadata": {},
   "outputs": [
    {
     "data": {
      "text/html": [
       "<div>\n",
       "<style scoped>\n",
       "    .dataframe tbody tr th:only-of-type {\n",
       "        vertical-align: middle;\n",
       "    }\n",
       "\n",
       "    .dataframe tbody tr th {\n",
       "        vertical-align: top;\n",
       "    }\n",
       "\n",
       "    .dataframe thead th {\n",
       "        text-align: right;\n",
       "    }\n",
       "</style>\n",
       "<table border=\"1\" class=\"dataframe\">\n",
       "  <thead>\n",
       "    <tr style=\"text-align: right;\">\n",
       "      <th></th>\n",
       "      <th>conversation_id</th>\n",
       "      <th>author_id</th>\n",
       "      <th>created_at</th>\n",
       "      <th>tweet_id</th>\n",
       "      <th>lang</th>\n",
       "      <th>retweet_count</th>\n",
       "      <th>reply_count</th>\n",
       "      <th>like_count</th>\n",
       "      <th>quote_count</th>\n",
       "      <th>source</th>\n",
       "      <th>tweet_type</th>\n",
       "      <th>referenced_tweet_id</th>\n",
       "      <th>text</th>\n",
       "      <th>sentiment_bert</th>\n",
       "      <th>sentiment_vader</th>\n",
       "      <th>Date</th>\n",
       "      <th>sentiment_bert_value</th>\n",
       "      <th>sentiment_vader_value</th>\n",
       "      <th>Week</th>\n",
       "      <th>Year</th>\n",
       "    </tr>\n",
       "  </thead>\n",
       "  <tbody>\n",
       "    <tr>\n",
       "      <th>0</th>\n",
       "      <td>703311366262800384</td>\n",
       "      <td>1392131804</td>\n",
       "      <td>2016-02-26 20:11:11+00:00</td>\n",
       "      <td>703311366262800384</td>\n",
       "      <td>de</td>\n",
       "      <td>0</td>\n",
       "      <td>0</td>\n",
       "      <td>2</td>\n",
       "      <td>0</td>\n",
       "      <td>Twitter Web Client</td>\n",
       "      <td>None</td>\n",
       "      <td>None</td>\n",
       "      <td>Wirecard-Chef Markus Braun pumpt irrwitzige Su...</td>\n",
       "      <td>NEU</td>\n",
       "      <td>0.0000</td>\n",
       "      <td>2016-02-26</td>\n",
       "      <td>0</td>\n",
       "      <td>0</td>\n",
       "      <td>8</td>\n",
       "      <td>2016</td>\n",
       "    </tr>\n",
       "    <tr>\n",
       "      <th>1</th>\n",
       "      <td>702405572012974080</td>\n",
       "      <td>1053723204</td>\n",
       "      <td>2016-02-24 08:11:53+00:00</td>\n",
       "      <td>702405572012974080</td>\n",
       "      <td>de</td>\n",
       "      <td>0</td>\n",
       "      <td>0</td>\n",
       "      <td>0</td>\n",
       "      <td>0</td>\n",
       "      <td>Twitter Web Client</td>\n",
       "      <td>None</td>\n",
       "      <td>None</td>\n",
       "      <td>Jetzt günstig einsammeln und später absahnen? ...</td>\n",
       "      <td>NEU</td>\n",
       "      <td>0.4871</td>\n",
       "      <td>2016-02-24</td>\n",
       "      <td>0</td>\n",
       "      <td>1</td>\n",
       "      <td>8</td>\n",
       "      <td>2016</td>\n",
       "    </tr>\n",
       "    <tr>\n",
       "      <th>2</th>\n",
       "      <td>700578193334411264</td>\n",
       "      <td>19811837</td>\n",
       "      <td>2016-02-19 07:10:32+00:00</td>\n",
       "      <td>700578193334411264</td>\n",
       "      <td>de</td>\n",
       "      <td>2</td>\n",
       "      <td>0</td>\n",
       "      <td>0</td>\n",
       "      <td>0</td>\n",
       "      <td>Twitter Web Client</td>\n",
       "      <td>None</td>\n",
       "      <td>None</td>\n",
       "      <td>Wirecard: Was führt der Vorstand im Schilde? M...</td>\n",
       "      <td>NEU</td>\n",
       "      <td>0.3182</td>\n",
       "      <td>2016-02-19</td>\n",
       "      <td>0</td>\n",
       "      <td>1</td>\n",
       "      <td>7</td>\n",
       "      <td>2016</td>\n",
       "    </tr>\n",
       "    <tr>\n",
       "      <th>3</th>\n",
       "      <td>700221272840601601</td>\n",
       "      <td>19811837</td>\n",
       "      <td>2016-02-18 07:32:15+00:00</td>\n",
       "      <td>700221272840601601</td>\n",
       "      <td>de</td>\n",
       "      <td>0</td>\n",
       "      <td>0</td>\n",
       "      <td>1</td>\n",
       "      <td>0</td>\n",
       "      <td>Twitter Web Client</td>\n",
       "      <td>None</td>\n",
       "      <td>None</td>\n",
       "      <td>Wirecard-Vorstand kauft weiter massiv eigene A...</td>\n",
       "      <td>NEG</td>\n",
       "      <td>0.0000</td>\n",
       "      <td>2016-02-18</td>\n",
       "      <td>-1</td>\n",
       "      <td>0</td>\n",
       "      <td>7</td>\n",
       "      <td>2016</td>\n",
       "    </tr>\n",
       "    <tr>\n",
       "      <th>4</th>\n",
       "      <td>697324084221227008</td>\n",
       "      <td>183289696</td>\n",
       "      <td>2016-02-10 07:39:51+00:00</td>\n",
       "      <td>697324084221227008</td>\n",
       "      <td>de</td>\n",
       "      <td>0</td>\n",
       "      <td>0</td>\n",
       "      <td>0</td>\n",
       "      <td>0</td>\n",
       "      <td>dlvr.it</td>\n",
       "      <td>None</td>\n",
       "      <td>None</td>\n",
       "      <td>📈 Wirecard: Serie von Aktienkäufen des Vorstan...</td>\n",
       "      <td>NEU</td>\n",
       "      <td>0.0000</td>\n",
       "      <td>2016-02-10</td>\n",
       "      <td>0</td>\n",
       "      <td>0</td>\n",
       "      <td>6</td>\n",
       "      <td>2016</td>\n",
       "    </tr>\n",
       "    <tr>\n",
       "      <th>...</th>\n",
       "      <td>...</td>\n",
       "      <td>...</td>\n",
       "      <td>...</td>\n",
       "      <td>...</td>\n",
       "      <td>...</td>\n",
       "      <td>...</td>\n",
       "      <td>...</td>\n",
       "      <td>...</td>\n",
       "      <td>...</td>\n",
       "      <td>...</td>\n",
       "      <td>...</td>\n",
       "      <td>...</td>\n",
       "      <td>...</td>\n",
       "      <td>...</td>\n",
       "      <td>...</td>\n",
       "      <td>...</td>\n",
       "      <td>...</td>\n",
       "      <td>...</td>\n",
       "      <td>...</td>\n",
       "      <td>...</td>\n",
       "    </tr>\n",
       "    <tr>\n",
       "      <th>114439</th>\n",
       "      <td>1164960547693105153</td>\n",
       "      <td>4584354895</td>\n",
       "      <td>2019-08-23 18:00:13+00:00</td>\n",
       "      <td>1164960547693105153</td>\n",
       "      <td>de</td>\n",
       "      <td>0</td>\n",
       "      <td>0</td>\n",
       "      <td>0</td>\n",
       "      <td>0</td>\n",
       "      <td>tickwatcher</td>\n",
       "      <td>None</td>\n",
       "      <td>None</td>\n",
       "      <td>Top Gainers (&amp;gt;30)UVXY JNUG DRIP OPYGY URR E...</td>\n",
       "      <td>NEG</td>\n",
       "      <td>0.5574</td>\n",
       "      <td>2019-08-23</td>\n",
       "      <td>-1</td>\n",
       "      <td>1</td>\n",
       "      <td>34</td>\n",
       "      <td>2019</td>\n",
       "    </tr>\n",
       "    <tr>\n",
       "      <th>114440</th>\n",
       "      <td>1228994498610503680</td>\n",
       "      <td>704753138146877440</td>\n",
       "      <td>2020-02-17 17:53:29+00:00</td>\n",
       "      <td>1229463896425205768</td>\n",
       "      <td>de</td>\n",
       "      <td>0</td>\n",
       "      <td>0</td>\n",
       "      <td>2</td>\n",
       "      <td>0</td>\n",
       "      <td>Twitter Web App</td>\n",
       "      <td>replied_to</td>\n",
       "      <td>1229459682403725314</td>\n",
       "      <td>1/ Die Anwälte der Klägerseit...</td>\n",
       "      <td>NEU</td>\n",
       "      <td>0.0000</td>\n",
       "      <td>2020-02-17</td>\n",
       "      <td>0</td>\n",
       "      <td>0</td>\n",
       "      <td>8</td>\n",
       "      <td>2020</td>\n",
       "    </tr>\n",
       "    <tr>\n",
       "      <th>114441</th>\n",
       "      <td>1228017316375539712</td>\n",
       "      <td>1138485557502382082</td>\n",
       "      <td>2020-02-13 18:09:16+00:00</td>\n",
       "      <td>1228018315785838593</td>\n",
       "      <td>de</td>\n",
       "      <td>0</td>\n",
       "      <td>0</td>\n",
       "      <td>0</td>\n",
       "      <td>1</td>\n",
       "      <td>Twitter for iPhone</td>\n",
       "      <td>replied_to</td>\n",
       "      <td>1228017316375539712</td>\n",
       "      <td>Ist nicht der WRCDF LV Anteil mit zusätzlichen...</td>\n",
       "      <td>NEG</td>\n",
       "      <td>0.0000</td>\n",
       "      <td>2020-02-13</td>\n",
       "      <td>-1</td>\n",
       "      <td>0</td>\n",
       "      <td>7</td>\n",
       "      <td>2020</td>\n",
       "    </tr>\n",
       "    <tr>\n",
       "      <th>114442</th>\n",
       "      <td>1275070899822059523</td>\n",
       "      <td>1001192245</td>\n",
       "      <td>2020-06-22 14:19:26+00:00</td>\n",
       "      <td>1275070899822059523</td>\n",
       "      <td>de</td>\n",
       "      <td>0</td>\n",
       "      <td>0</td>\n",
       "      <td>0</td>\n",
       "      <td>0</td>\n",
       "      <td>TalkMarketsApp</td>\n",
       "      <td>None</td>\n",
       "      <td>None</td>\n",
       "      <td>Olaf Scholz - The German Finance Minister Is D...</td>\n",
       "      <td>NEU</td>\n",
       "      <td>0.0000</td>\n",
       "      <td>2020-06-22</td>\n",
       "      <td>0</td>\n",
       "      <td>0</td>\n",
       "      <td>26</td>\n",
       "      <td>2020</td>\n",
       "    </tr>\n",
       "    <tr>\n",
       "      <th>114443</th>\n",
       "      <td>1271435871364042754</td>\n",
       "      <td>392388185</td>\n",
       "      <td>2020-06-12 13:45:22+00:00</td>\n",
       "      <td>1271438445500682244</td>\n",
       "      <td>de</td>\n",
       "      <td>0</td>\n",
       "      <td>1</td>\n",
       "      <td>9</td>\n",
       "      <td>0</td>\n",
       "      <td>Twitter Web App</td>\n",
       "      <td>replied_to</td>\n",
       "      <td>1271435871364042754</td>\n",
       "      <td>12.06. WDI              29,09 Mio.  +1,16% (v...</td>\n",
       "      <td>NEG</td>\n",
       "      <td>0.1027</td>\n",
       "      <td>2020-06-12</td>\n",
       "      <td>-1</td>\n",
       "      <td>1</td>\n",
       "      <td>24</td>\n",
       "      <td>2020</td>\n",
       "    </tr>\n",
       "  </tbody>\n",
       "</table>\n",
       "<p>114444 rows × 20 columns</p>\n",
       "</div>"
      ],
      "text/plain": [
       "            conversation_id            author_id                created_at  \\\n",
       "0        703311366262800384           1392131804 2016-02-26 20:11:11+00:00   \n",
       "1        702405572012974080           1053723204 2016-02-24 08:11:53+00:00   \n",
       "2        700578193334411264             19811837 2016-02-19 07:10:32+00:00   \n",
       "3        700221272840601601             19811837 2016-02-18 07:32:15+00:00   \n",
       "4        697324084221227008            183289696 2016-02-10 07:39:51+00:00   \n",
       "...                     ...                  ...                       ...   \n",
       "114439  1164960547693105153           4584354895 2019-08-23 18:00:13+00:00   \n",
       "114440  1228994498610503680   704753138146877440 2020-02-17 17:53:29+00:00   \n",
       "114441  1228017316375539712  1138485557502382082 2020-02-13 18:09:16+00:00   \n",
       "114442  1275070899822059523           1001192245 2020-06-22 14:19:26+00:00   \n",
       "114443  1271435871364042754            392388185 2020-06-12 13:45:22+00:00   \n",
       "\n",
       "                   tweet_id lang  retweet_count  reply_count  like_count  \\\n",
       "0        703311366262800384   de              0            0           2   \n",
       "1        702405572012974080   de              0            0           0   \n",
       "2        700578193334411264   de              2            0           0   \n",
       "3        700221272840601601   de              0            0           1   \n",
       "4        697324084221227008   de              0            0           0   \n",
       "...                     ...  ...            ...          ...         ...   \n",
       "114439  1164960547693105153   de              0            0           0   \n",
       "114440  1229463896425205768   de              0            0           2   \n",
       "114441  1228018315785838593   de              0            0           0   \n",
       "114442  1275070899822059523   de              0            0           0   \n",
       "114443  1271438445500682244   de              0            1           9   \n",
       "\n",
       "        quote_count              source  tweet_type  referenced_tweet_id  \\\n",
       "0                 0  Twitter Web Client        None                 None   \n",
       "1                 0  Twitter Web Client        None                 None   \n",
       "2                 0  Twitter Web Client        None                 None   \n",
       "3                 0  Twitter Web Client        None                 None   \n",
       "4                 0             dlvr.it        None                 None   \n",
       "...             ...                 ...         ...                  ...   \n",
       "114439            0         tickwatcher        None                 None   \n",
       "114440            0     Twitter Web App  replied_to  1229459682403725314   \n",
       "114441            1  Twitter for iPhone  replied_to  1228017316375539712   \n",
       "114442            0      TalkMarketsApp        None                 None   \n",
       "114443            0     Twitter Web App  replied_to  1271435871364042754   \n",
       "\n",
       "                                                     text sentiment_bert  \\\n",
       "0       Wirecard-Chef Markus Braun pumpt irrwitzige Su...            NEU   \n",
       "1       Jetzt günstig einsammeln und später absahnen? ...            NEU   \n",
       "2       Wirecard: Was führt der Vorstand im Schilde? M...            NEU   \n",
       "3       Wirecard-Vorstand kauft weiter massiv eigene A...            NEG   \n",
       "4       📈 Wirecard: Serie von Aktienkäufen des Vorstan...            NEU   \n",
       "...                                                   ...            ...   \n",
       "114439  Top Gainers (&gt;30)UVXY JNUG DRIP OPYGY URR E...            NEG   \n",
       "114440                   1/ Die Anwälte der Klägerseit...            NEU   \n",
       "114441  Ist nicht der WRCDF LV Anteil mit zusätzlichen...            NEG   \n",
       "114442  Olaf Scholz - The German Finance Minister Is D...            NEU   \n",
       "114443   12.06. WDI              29,09 Mio.  +1,16% (v...            NEG   \n",
       "\n",
       "        sentiment_vader        Date  sentiment_bert_value  \\\n",
       "0                0.0000  2016-02-26                     0   \n",
       "1                0.4871  2016-02-24                     0   \n",
       "2                0.3182  2016-02-19                     0   \n",
       "3                0.0000  2016-02-18                    -1   \n",
       "4                0.0000  2016-02-10                     0   \n",
       "...                 ...         ...                   ...   \n",
       "114439           0.5574  2019-08-23                    -1   \n",
       "114440           0.0000  2020-02-17                     0   \n",
       "114441           0.0000  2020-02-13                    -1   \n",
       "114442           0.0000  2020-06-22                     0   \n",
       "114443           0.1027  2020-06-12                    -1   \n",
       "\n",
       "        sentiment_vader_value  Week  Year  \n",
       "0                           0     8  2016  \n",
       "1                           1     8  2016  \n",
       "2                           1     7  2016  \n",
       "3                           0     7  2016  \n",
       "4                           0     6  2016  \n",
       "...                       ...   ...   ...  \n",
       "114439                      1    34  2019  \n",
       "114440                      0     8  2020  \n",
       "114441                      0     7  2020  \n",
       "114442                      0    26  2020  \n",
       "114443                      1    24  2020  \n",
       "\n",
       "[114444 rows x 20 columns]"
      ]
     },
     "execution_count": 14,
     "metadata": {},
     "output_type": "execute_result"
    }
   ],
   "source": [
    "df_de"
   ]
  },
  {
   "cell_type": "code",
   "execution_count": null,
   "id": "f39aa6fb-601d-4041-92ae-58945a42b17c",
   "metadata": {},
   "outputs": [],
   "source": []
  }
 ],
 "metadata": {
  "kernelspec": {
   "display_name": "master_thesis_3.9.10",
   "language": "python",
   "name": "master_thesis_3.9.10"
  },
  "language_info": {
   "codemirror_mode": {
    "name": "ipython",
    "version": 3
   },
   "file_extension": ".py",
   "mimetype": "text/x-python",
   "name": "python",
   "nbconvert_exporter": "python",
   "pygments_lexer": "ipython3",
   "version": "3.9.10"
  }
 },
 "nbformat": 4,
 "nbformat_minor": 5
}
