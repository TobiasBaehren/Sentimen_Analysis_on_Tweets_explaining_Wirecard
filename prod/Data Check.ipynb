{
 "cells": [
  {
   "cell_type": "markdown",
   "id": "24c80722-7b5f-4e45-96f3-8aebbdaf1637",
   "metadata": {},
   "source": [
    "<H1>Check Sentiment Analysis</H1>"
   ]
  },
  {
   "cell_type": "code",
   "execution_count": 1,
   "id": "74823480-2e80-40ec-b065-cc0a5402c81a",
   "metadata": {},
   "outputs": [],
   "source": [
    "import csv\n",
    "import numpy as np\n",
    "import pandas as pd\n",
    "import re\n",
    "import datetime\n",
    "import matplotlib.pyplot as plt\n",
    "from sklearn.linear_model import LinearRegression\n",
    "from sklearn.model_selection import train_test_split\n",
    "import statsmodels.api as sm\n",
    "from statsmodels.stats.outliers_influence import variance_inflation_factor\n",
    "import statsmodels.stats.diagnostic as dg\n",
    "from statsmodels.stats.diagnostic import het_white\n",
    "\n",
    "from sklearn.metrics import mean_squared_error\n",
    "from sklearn.metrics import r2_score"
   ]
  },
  {
   "cell_type": "markdown",
   "id": "12a0dccc-55ab-4ce5-bfa0-64c307a260b4",
   "metadata": {
    "tags": []
   },
   "source": [
    "<h2>Laden der Datensätze</h2>"
   ]
  },
  {
   "cell_type": "code",
   "execution_count": 2,
   "id": "68663eb0-ebb0-47c2-9608-e50b6668e89d",
   "metadata": {},
   "outputs": [
    {
     "name": "stderr",
     "output_type": "stream",
     "text": [
      "/var/folders/3r/0dwb2f6j0f39f4r2j9yyjf180000gn/T/ipykernel_20909/2487132561.py:45: SettingWithCopyWarning: \n",
      "A value is trying to be set on a copy of a slice from a DataFrame\n",
      "\n",
      "See the caveats in the documentation: https://pandas.pydata.org/pandas-docs/stable/user_guide/indexing.html#returning-a-view-versus-a-copy\n",
      "  df_de[\"Week\"][each] = df_de[\"Week\"][each] + 1\n"
     ]
    }
   ],
   "source": [
    "#Load German Sentiment CSV file.\n",
    "df_de = pd.read_csv(\"/Users/tobias/Dev/FOM/Master_Thesis/data/Sentiment_Analysis/Dataset_DE_Bert_Vader.csv\", sep=\";\",\n",
    "                parse_dates=[\"created_at\"])\n",
    "\n",
    "#Change the date field\n",
    "df_de[\"Date\"] = pd.to_datetime(df_de.created_at).apply(lambda x: x.date())\n",
    "\n",
    "#Change the values of sentiment bert field and add a new field for a numeric value sentiment value \n",
    "df_de[\"sentiment_bert\"] = df_de[\"sentiment_bert\"].replace([\"neutral\", \"negative\", \"positive\"], [\"NEU\", \"NEG\", \"POS\"])\n",
    "df_de[\"sentiment_bert_value\"] = df_de[\"sentiment_bert\"].replace({\"NEU\": 0, \"NEG\": -1, \"POS\": 1})\n",
    "\n",
    "#Create a new field for a numeric sentiment value\n",
    "df_de[\"sentiment_vader_value\"] = [1 if i >= 0.05 else -1 if i <= -0.05 else 0 for i in df_de[\"sentiment_vader\"]]\n",
    "\n",
    "#Create a df for adding the year and week to the df\n",
    "df_de_week_year = pd.DataFrame([(i.isocalendar().week, i.isocalendar().year, i.isocalendar().weekday) for i in df_de[\"Date\"]],\n",
    "                               columns=[\"Week\", \"Year\", \"Weekday\"])\n",
    "\n",
    "#Recalulate the week\n",
    "for each in range(len(df_de_week_year)):\n",
    "    if ((df_de_week_year.iloc[each][\"Weekday\"] > 5) & (df_de_week_year.iloc[each][\"Week\"] != 1)):\n",
    "        df_de_week_year.iloc[each][\"Week\"] = df_de_week_year.iloc[each][\"Week\"] - 1\n",
    "    elif ((df_de_week_year.iloc[each][\"Weekday\"] > 5) & (df_de_week_year.iloc[each][\"Week\"] == 1)):\n",
    "        df_de_week_year.iloc[each][\"Week\"] = 52\n",
    "\n",
    "#Adding the week and year information to the df\n",
    "df_de[[\"Week\", \"Year\"]] = df_de_week_year[[\"Week\", \"Year\"]]\n",
    "\n",
    "tweet_id_friday_list = []\n",
    "for each in range(len(df_de)):\n",
    "    if (df_de[\"Date\"][each].isocalendar().year == 2016) & (df_de[\"Date\"][each].isocalendar().week == 12) & (df_de[\"Date\"][each].isocalendar().weekday == 5):\n",
    "        tweet_id_friday_list.append(each)\n",
    "    elif (df_de[\"Date\"][each].isocalendar().year == 2017) & (df_de[\"Date\"][each].isocalendar().week == 15) & (df_de[\"Date\"][each].isocalendar().weekday == 5):\n",
    "        tweet_id_friday_list.append(each)\n",
    "    elif (df_de[\"Date\"][each].isocalendar().year == 2018) & (df_de[\"Date\"][each].isocalendar().week == 13) & (df_de[\"Date\"][each].isocalendar().weekday == 5):\n",
    "        tweet_id_friday_list.append(each)\n",
    "    elif (df_de[\"Date\"][each].isocalendar().year == 2019) & (df_de[\"Date\"][each].isocalendar().week == 16) & (df_de[\"Date\"][each].isocalendar().weekday == 5):\n",
    "        tweet_id_friday_list.append(each)\n",
    "    elif (df_de[\"Date\"][each].isocalendar().year == 2020) & (df_de[\"Date\"][each].isocalendar().week == 15) & (df_de[\"Date\"][each].isocalendar().weekday == 5):\n",
    "        tweet_id_friday_list.append(each)\n",
    "    elif (df_de[\"Date\"][each].isocalendar().year == 2020) & (df_de[\"Date\"][each].isocalendar().week == 18) & (df_de[\"Date\"][each].isocalendar().weekday == 5):\n",
    "        tweet_id_friday_list.append(each)\n",
    "\n",
    "for each in tweet_id_friday_list:\n",
    "    df_de[\"Week\"][each] = df_de[\"Week\"][each] + 1"
   ]
  },
  {
   "cell_type": "code",
   "execution_count": 3,
   "id": "283424e6-e4d9-4e3e-81a7-1d7c2e75901b",
   "metadata": {},
   "outputs": [
    {
     "name": "stderr",
     "output_type": "stream",
     "text": [
      "/var/folders/3r/0dwb2f6j0f39f4r2j9yyjf180000gn/T/ipykernel_20909/1593085834.py:44: SettingWithCopyWarning: \n",
      "A value is trying to be set on a copy of a slice from a DataFrame\n",
      "\n",
      "See the caveats in the documentation: https://pandas.pydata.org/pandas-docs/stable/user_guide/indexing.html#returning-a-view-versus-a-copy\n",
      "  df_en[\"Week\"][each] = df_en[\"Week\"][each] + 1\n"
     ]
    }
   ],
   "source": [
    "#Load English Sentiment CSV file.\n",
    "df_en = pd.read_csv(\"/Users/tobias/Dev/FOM/Master_Thesis/data/Sentiment_Analysis/Dataset_Bert_Vader.csv\", sep=\";\",\n",
    "                parse_dates=[\"created_at\"])\n",
    "\n",
    "#Change the date field\n",
    "df_en[\"Date\"] = pd.to_datetime(df_en.created_at).apply(lambda x: x.date())\n",
    "\n",
    "#Add a new column for a numeric sentiment bert value\n",
    "df_en[\"sentiment_bert_value\"] = df_en[\"sentiment_bert\"].replace({\"NEU\": 0, \"NEG\": -1, \"POS\": 1})\n",
    "\n",
    "#Add a new column for a numeric sentiment vader value\n",
    "df_en[\"sentiment_vader_value\"] = [1 if i >= 0.05 else -1 if i <= -0.05 else 0 for i in df_en[\"sentiment_vader\"]]\n",
    "\n",
    "#Create a df for adding the year and week to the df\n",
    "df_en_week_year = pd.DataFrame([(i.isocalendar().week, i.isocalendar().year, i.isocalendar().weekday) for i in df_en[\"Date\"]],\n",
    "                               columns=[\"Week\", \"Year\", \"Weekday\"])\n",
    "\n",
    "#Recalulate the week\n",
    "for each in range(len(df_en_week_year)):\n",
    "    if ((df_en_week_year.iloc[each][\"Weekday\"] > 5) & (df_en_week_year.iloc[each][\"Week\"] != 1)):\n",
    "        df_en_week_year.iloc[each][\"Week\"] = df_en_week_year.iloc[each][\"Week\"] - 1\n",
    "    elif ((df_en_week_year.iloc[each][\"Weekday\"] > 5) & (df_en_week_year.iloc[each][\"Week\"] == 1)):\n",
    "        df_en_week_year.iloc[each][\"Week\"] = 52\n",
    "        \n",
    "#Adding the week and year information to the df\n",
    "df_en[[\"Week\", \"Year\"]] = df_en_week_year[[\"Week\", \"Year\"]]\n",
    "        \n",
    "tweet_id_friday_list = []\n",
    "for each in range(len(df_en)):\n",
    "    if (df_en[\"Date\"][each].isocalendar().year == 2016) & (df_en[\"Date\"][each].isocalendar().week == 12) & (df_en[\"Date\"][each].isocalendar().weekday == 5):\n",
    "        tweet_id_friday_list.append(each)\n",
    "    elif (df_en[\"Date\"][each].isocalendar().year == 2017) & (df_en[\"Date\"][each].isocalendar().week == 15) & (df_en[\"Date\"][each].isocalendar().weekday == 5):\n",
    "        tweet_id_friday_list.append(each)\n",
    "    elif (df_en[\"Date\"][each].isocalendar().year == 2018) & (df_en[\"Date\"][each].isocalendar().week == 13) & (df_en[\"Date\"][each].isocalendar().weekday == 5):\n",
    "        tweet_id_friday_list.append(each)\n",
    "    elif (df_en[\"Date\"][each].isocalendar().year == 2019) & (df_en[\"Date\"][each].isocalendar().week == 16) & (df_en[\"Date\"][each].isocalendar().weekday == 5):\n",
    "        tweet_id_friday_list.append(each)\n",
    "    elif (df_en[\"Date\"][each].isocalendar().year == 2020) & (df_en[\"Date\"][each].isocalendar().week == 15) & (df_en[\"Date\"][each].isocalendar().weekday == 5):\n",
    "        tweet_id_friday_list.append(each)\n",
    "    elif (df_en[\"Date\"][each].isocalendar().year == 2020) & (df_en[\"Date\"][each].isocalendar().week == 18) & (df_en[\"Date\"][each].isocalendar().weekday == 5):\n",
    "        tweet_id_friday_list.append(each)\n",
    "\n",
    "for each in tweet_id_friday_list:\n",
    "    df_en[\"Week\"][each] = df_en[\"Week\"][each] + 1"
   ]
  },
  {
   "cell_type": "code",
   "execution_count": 4,
   "id": "7acc22c3-7b03-4fba-95be-9cff3f1bd0a9",
   "metadata": {},
   "outputs": [],
   "source": [
    "#Combine the different DFs\n",
    "df = pd.concat([df_en, df_de]).reset_index(drop=True)"
   ]
  },
  {
   "cell_type": "code",
   "execution_count": 5,
   "id": "19d28619-4e66-491c-9b7b-9a6117f2ada2",
   "metadata": {},
   "outputs": [],
   "source": [
    "#Change the values from sentiment_bert_value from text to a num value\n",
    "df[\"sentiment_bert_value\"] = df[\"sentiment_bert\"].replace({\"NEU\": 0, \"NEG\": -1, \"POS\": 1})\n",
    "\n",
    "#Create a df for adding the year and week to the df\n",
    "df_week_year = pd.DataFrame([(i.isocalendar().week, i.isocalendar().year) for i in df[\"Date\"]], columns=[\"Week\", \"Year\"])\n",
    "#Adding the week and year information to the df\n",
    "df[[\"Week\", \"Year\"]] = df_week_year[[\"Week\", \"Year\"]]"
   ]
  },
  {
   "cell_type": "code",
   "execution_count": 6,
   "id": "8da3acbe-5035-449d-b8f4-07ce8a675ea7",
   "metadata": {},
   "outputs": [],
   "source": [
    "#Load Wirecard finance CSV file.\n",
    "df_wdi = pd.read_csv(\"/Users/tobias/Dev/FOM/Master_Thesis/data/WDI.HM-2.csv\", parse_dates=[\"Date\"])\n",
    "df_wdi = df_wdi.rename(columns={\"Adj Close\": \"Adj_Close\"})\n",
    "\n",
    "#Load Euro Stoxx 50 CSV file.\n",
    "df_stoxx = pd.read_csv(\"/Users/tobias/Dev/FOM/Master_Thesis/data/^STOXX50E.csv\", parse_dates=[\"Date\"])\n",
    "#df_stoxx = pd.read_csv(\"/Users/tobias/Dev/FOM/Master_Thesis/data/^GDAXI.csv\", parse_dates=[\"Date\"])\n",
    "df_stoxx = df_stoxx.rename(columns={\"Adj Close\": \"Adj_Close\"})\n",
    "\n",
    "#Load Visa finance CSV file.\n",
    "df_visa = pd.read_csv(\"/Users/tobias/Dev/FOM/Master_Thesis/data/V.csv\", parse_dates=[\"Date\"])\n",
    "df_visa = df_visa.rename(columns={\"Adj Close\": \"Adj_Close\"})\n",
    "\n",
    "#Load Master Card finance CSV file.\n",
    "df_ma = pd.read_csv(\"/Users/tobias/Dev/FOM/Master_Thesis/data/MA.csv\", parse_dates=[\"Date\"])\n",
    "df_ma = df_ma.rename(columns={\"Adj Close\": \"Adj_Close\"})"
   ]
  },
  {
   "cell_type": "markdown",
   "id": "f3b817f3-045a-40d3-8954-4c26cb371a35",
   "metadata": {
    "tags": []
   },
   "source": [
    "<h2>Data Preparation</h2>"
   ]
  },
  {
   "cell_type": "code",
   "execution_count": 7,
   "id": "3e4220c1-e358-4759-b473-4def29ab3b60",
   "metadata": {},
   "outputs": [],
   "source": [
    "#Change Date für df_wdi & df\n",
    "df_wdi[\"Date\"] = pd.to_datetime(df_wdi.Date).apply(lambda x: x.date())\n",
    "df_stoxx[\"Date\"] = pd.to_datetime(df_stoxx.Date).apply(lambda x: x.date())\n",
    "df_visa[\"Date\"] = pd.to_datetime(df_visa.Date).apply(lambda x: x.date())\n",
    "df_ma[\"Date\"] = pd.to_datetime(df_ma.Date).apply(lambda x: x.date())"
   ]
  },
  {
   "cell_type": "code",
   "execution_count": 8,
   "id": "1547fdd6-8a0a-47da-8ab6-68d7b9e461c1",
   "metadata": {},
   "outputs": [],
   "source": [
    "def create_finance_df(df):\n",
    "    #Create df for returning\n",
    "    df_week = pd.DataFrame(columns=[\"Date\", \"Week\", \"Year\", \"Adj_Close\"])\n",
    "    \n",
    "    #Start Week\n",
    "    week = 5\n",
    "    volume = 0\n",
    "    \n",
    "    #To loop through all lines in df\n",
    "    for each in range(len(df)):\n",
    "        #Get the date\n",
    "        each_date = df[\"Date\"][each]\n",
    "        adj_close = df[\"Adj_Close\"][each]\n",
    "        \n",
    "        #Get the Volume of all transactions in a week\n",
    "        volume = volume + df[\"Volume\"][each]\n",
    "\n",
    "        #Check if the date is the last date\n",
    "        if df[\"Date\"][each] == datetime.date(2020,7,31):\n",
    "            #Get Week Number, start and end day\n",
    "            week = each_date.isocalendar().week\n",
    "            year = each_date.isocalendar().year\n",
    "            end_day = df[\"Date\"].iloc[-1]\n",
    "            \n",
    "            #Add data to df\n",
    "            new_row = pd.DataFrame([[each_date, week, year, adj_close, volume]],\n",
    "                                   columns=[\"Date\", \"Week\", \"Year\", \"Adj_Close\", \"Volume\"])\n",
    "            df_week = pd.concat([df_week, new_row], ignore_index=True)\n",
    "        else:\n",
    "            #Get the next week number for checking\n",
    "            next_week = df[\"Date\"][each+1].isocalendar().week\n",
    "\n",
    "            #Check if the next day is in another week \n",
    "            if each_date.isocalendar().week != next_week:\n",
    "                #Get week number, year and last date\n",
    "                week = each_date.isocalendar().week\n",
    "                year = each_date.isocalendar().year\n",
    "                end_day = each_date\n",
    "                \n",
    "                #Add data to df\n",
    "                new_row = pd.DataFrame([[each_date, week, year, adj_close, volume]],\n",
    "                                       columns=[\"Date\", \"Week\", \"Year\", \"Adj_Close\", \"Volume\"])\n",
    "                df_week = pd.concat([df_week, new_row], ignore_index=True)\n",
    "                \n",
    "                #Set Volume back to 0\n",
    "                volume = 0\n",
    "    \n",
    "    #Add the yield from one week to another\n",
    "    df_week[\"returns_week\"] = df_week.Adj_Close.pct_change()+1\n",
    "    #df_week[\"returns_week\"] = np.log(df_week.Adj_Close.pct_change()+1)\n",
    "    #df_week[\"returns_week\"] = df_week.Adj_Close.pct_change()\n",
    "    #df_week[\"returns_week_log\"] = pd.Series(np.log(np.float64(df_week.Adj_Close))).pct_change()\n",
    "    \n",
    "\n",
    "    \n",
    "    #Return the new DF\n",
    "    return df_week"
   ]
  },
  {
   "cell_type": "code",
   "execution_count": 9,
   "id": "cd211c8d-d23a-4f5e-893d-f8621b8e0e19",
   "metadata": {},
   "outputs": [],
   "source": [
    "def concat_finance_df(df_wdi = df_wdi, df_stoxx = df_stoxx, df_ma = df_ma, df_v = df_visa):\n",
    "    \n",
    "    #Create week dfs for all financial dfs\n",
    "    df_wdi_week = create_finance_df(df_wdi)\n",
    "    df_stoxx_week = create_finance_df(df_stoxx)\n",
    "    df_ma_week = create_finance_df(df_ma)\n",
    "    df_v_week = create_finance_df(df_v)\n",
    "    \n",
    "    #combine all dfs\n",
    "    df_week = pd.concat([df_wdi_week, df_stoxx_week.rename(columns={\"returns_week\": \"returns_stoxx\"})[\"returns_stoxx\"]],\n",
    "                        axis=1)\n",
    "    df_week = pd.concat([df_week, df_ma_week.rename(columns={\"returns_week\": \"returns_ma\"})[\"returns_ma\"]], axis=1)\n",
    "    df_week = pd.concat([df_week, df_v_week.rename(columns={\"returns_week\": \"returns_visa\"})[\"returns_visa\"]], axis=1)\n",
    "    return df_week"
   ]
  },
  {
   "cell_type": "code",
   "execution_count": 10,
   "id": "1eec67d1-f37d-4dfe-8584-0909c0e1d455",
   "metadata": {},
   "outputs": [],
   "source": [
    "def create_final_df(df_week, df, meta_data = False):\n",
    "    \n",
    "    #If meta data like Retweets should be used, this will calculate it.\n",
    "    if meta_data:\n",
    "        df[\"sentiment_bert_value\"] = df[\"sentiment_bert_value\"] * ((df[\"retweet_count\"] + 1))\n",
    "        df[\"sentiment_vader_value\"] = df[\"sentiment_vader_value\"] * ((df[\"retweet_count\"] + 1))\n",
    "    \n",
    "    df_sum_year_week_bert = pd.DataFrame(df[[\"Week\", \"Year\", \"sentiment_bert_value\"]].\n",
    "                                    groupby(by=[\"Year\", \"Week\"]).sum()).reset_index()\n",
    "\n",
    "    df_sum_year_week_vader = pd.DataFrame(df[[\"Week\", \"Year\", \"sentiment_vader_value\"]].\n",
    "                                    groupby(by=[\"Year\", \"Week\"]).sum()).reset_index()\n",
    "    \n",
    "    df_count_tweets_year_week = pd.DataFrame(df[[\"Week\", \"Year\", \"conversation_id\"]].\n",
    "                                    groupby(by=[\"Year\", \"Week\"]).\n",
    "             count()).reset_index().rename(columns={\"conversation_id\": \"count_all_tweets\"})\n",
    "    \n",
    "    df_week = df_week.merge(df_sum_year_week_bert)\n",
    "    df_week = df_week.merge(df_sum_year_week_vader)\n",
    "    df_week = df_week.merge(df_count_tweets_year_week)\n",
    "    \n",
    "    return df_week"
   ]
  },
  {
   "cell_type": "code",
   "execution_count": 11,
   "id": "eb0a0d62-4d51-4e5f-8de6-a9dca3ea8f3e",
   "metadata": {},
   "outputs": [],
   "source": [
    "def create_df(df_twitter = df.copy()):\n",
    "    df_week = concat_finance_df()\n",
    "    df_week_reg = create_final_df(df_week, df_twitter)\n",
    "    \n",
    "    df_week_reg[\"dif_sentiment_bert_value\"] = df_week_reg[\"sentiment_bert_value\"].diff()\n",
    "    df_week_reg[\"dif_sentiment_vader_value\"] = df_week_reg[\"sentiment_vader_value\"].diff()\n",
    "\n",
    "    df_week_reg.dropna(inplace=True)\n",
    "    df_week_reg = df_week_reg.reset_index(drop=True)\n",
    "\n",
    "    return df_week_reg"
   ]
  },
  {
   "cell_type": "markdown",
   "id": "ba86b5d2-0f83-4b9e-99cb-ce2fc28d1e34",
   "metadata": {},
   "source": [
    "<h2>Analysis</h2>"
   ]
  },
  {
   "cell_type": "code",
   "execution_count": 16,
   "id": "5850b843-4edf-4e7f-9005-c5f1a507b960",
   "metadata": {},
   "outputs": [
    {
     "data": {
      "text/plain": [
       "114444"
      ]
     },
     "execution_count": 16,
     "metadata": {},
     "output_type": "execute_result"
    }
   ],
   "source": [
    "len(df_de)"
   ]
  },
  {
   "cell_type": "code",
   "execution_count": 17,
   "id": "ff9c646b-9bab-4d66-8e34-b9a9bbc9244e",
   "metadata": {},
   "outputs": [
    {
     "data": {
      "text/plain": [
       "111199"
      ]
     },
     "execution_count": 17,
     "metadata": {},
     "output_type": "execute_result"
    }
   ],
   "source": [
    "len(df_en)"
   ]
  },
  {
   "cell_type": "code",
   "execution_count": 18,
   "id": "34b12e7d-67de-4d26-b296-7931c6c212d4",
   "metadata": {},
   "outputs": [
    {
     "data": {
      "text/plain": [
       "225643"
      ]
     },
     "execution_count": 18,
     "metadata": {},
     "output_type": "execute_result"
    }
   ],
   "source": [
    "len(df)"
   ]
  },
  {
   "cell_type": "markdown",
   "id": "cc7b351c-18da-4fea-8636-ad519d618522",
   "metadata": {},
   "source": [
    "<p>Verteilung der Tweets auf positiv, negativ und neutral - Deutsch BERT</p>"
   ]
  },
  {
   "cell_type": "code",
   "execution_count": 38,
   "id": "149f6b04-ea8a-453c-8e17-0bad2b2142dd",
   "metadata": {},
   "outputs": [
    {
     "data": {
      "text/plain": [
       " 0    65.806858\n",
       "-1    29.406522\n",
       " 1     4.786621\n",
       "Name: sentiment_bert_value, dtype: float64"
      ]
     },
     "execution_count": 38,
     "metadata": {},
     "output_type": "execute_result"
    }
   ],
   "source": [
    "df_de[\"sentiment_bert_value\"].value_counts()/len(df_de)*100"
   ]
  },
  {
   "cell_type": "markdown",
   "id": "ef6699ae-d889-403e-9fe9-813079226d76",
   "metadata": {},
   "source": [
    "<p>Verteilung der Tweets auf positiv, negativ und neutral - Englisch BERT</p>"
   ]
  },
  {
   "cell_type": "code",
   "execution_count": 39,
   "id": "33bfe1bf-2dce-4444-b2e8-42469e3106ea",
   "metadata": {},
   "outputs": [
    {
     "data": {
      "text/plain": [
       " 0    54.752291\n",
       "-1    31.566831\n",
       " 1    13.680878\n",
       "Name: sentiment_bert_value, dtype: float64"
      ]
     },
     "execution_count": 39,
     "metadata": {},
     "output_type": "execute_result"
    }
   ],
   "source": [
    "df_en[\"sentiment_bert_value\"].value_counts()/len(df_en)*100"
   ]
  },
  {
   "cell_type": "markdown",
   "id": "4cef8d14-e2bf-406b-8bfa-759d5b131a15",
   "metadata": {},
   "source": [
    "<p>Verteilung der Tweets auf positiv, negativ und neutral - Deutsch und Englisch BERT</p>"
   ]
  },
  {
   "cell_type": "code",
   "execution_count": 40,
   "id": "f1a51bbf-0b41-4cc1-8a59-fcfa657657a2",
   "metadata": {},
   "outputs": [
    {
     "data": {
      "text/plain": [
       " 0    60.359063\n",
       "-1    30.471142\n",
       " 1     9.169795\n",
       "Name: sentiment_bert_value, dtype: float64"
      ]
     },
     "execution_count": 40,
     "metadata": {},
     "output_type": "execute_result"
    }
   ],
   "source": [
    "df[\"sentiment_bert_value\"].value_counts()/len(df)*100"
   ]
  },
  {
   "cell_type": "markdown",
   "id": "3b832a05-b3a2-4f26-a1e1-ec7c36edb55f",
   "metadata": {},
   "source": [
    "<p>Verteilung der Tweets auf positiv, negativ und neutral - Deutsch VADER</p>"
   ]
  },
  {
   "cell_type": "code",
   "execution_count": 41,
   "id": "8b9c6f6c-3905-41bf-9c16-78b3b4b47ebd",
   "metadata": {},
   "outputs": [
    {
     "data": {
      "text/plain": [
       " 1    40.764042\n",
       "-1    30.322254\n",
       " 0    28.913705\n",
       "Name: sentiment_vader_value, dtype: float64"
      ]
     },
     "execution_count": 41,
     "metadata": {},
     "output_type": "execute_result"
    }
   ],
   "source": [
    "df_de[\"sentiment_vader_value\"].value_counts()/len(df_de)*100"
   ]
  },
  {
   "cell_type": "markdown",
   "id": "6ac471c3-acee-4b2b-bb9a-cfe71dff8a2b",
   "metadata": {},
   "source": [
    "<p>Verteilung der Tweets auf positiv, negativ und neutral - Englisch VADER</p>"
   ]
  },
  {
   "cell_type": "code",
   "execution_count": 42,
   "id": "ce7b1f25-0c74-4f2c-b157-baed40e1db26",
   "metadata": {},
   "outputs": [
    {
     "data": {
      "text/plain": [
       "-1    34.054263\n",
       " 0    33.479618\n",
       " 1    32.466119\n",
       "Name: sentiment_vader_value, dtype: float64"
      ]
     },
     "execution_count": 42,
     "metadata": {},
     "output_type": "execute_result"
    }
   ],
   "source": [
    "df_en[\"sentiment_vader_value\"].value_counts()/len(df_en)*100"
   ]
  },
  {
   "cell_type": "markdown",
   "id": "bf56380a-71b0-4a2b-b18a-8f9e144c0d32",
   "metadata": {},
   "source": [
    "<p>Verteilung der Tweets auf positiv, negativ und neutral - Deutsch und Englisch VADER</p>"
   ]
  },
  {
   "cell_type": "code",
   "execution_count": 43,
   "id": "e6028b48-0b9a-4f08-a7d7-716ff5dc535d",
   "metadata": {},
   "outputs": [
    {
     "data": {
      "text/plain": [
       " 1    36.674747\n",
       "-1    32.161423\n",
       " 0    31.163830\n",
       "Name: sentiment_vader_value, dtype: float64"
      ]
     },
     "execution_count": 43,
     "metadata": {},
     "output_type": "execute_result"
    }
   ],
   "source": [
    "df[\"sentiment_vader_value\"].value_counts()/len(df)*100"
   ]
  },
  {
   "cell_type": "markdown",
   "id": "6e482a02-3478-471e-8074-dbaef39fdf4d",
   "metadata": {},
   "source": [
    "<p>Tweets nach Jahren - Deutsch und Englisch</p>"
   ]
  },
  {
   "cell_type": "code",
   "execution_count": 61,
   "id": "f0a10da4-df5f-48c2-a437-6c3001e0da5a",
   "metadata": {},
   "outputs": [
    {
     "data": {
      "text/plain": [
       "Year\n",
       "2016     15039\n",
       "2017     13305\n",
       "2018     18169\n",
       "2019     47019\n",
       "2020    132111\n",
       "Name: conversation_id, dtype: int64"
      ]
     },
     "execution_count": 61,
     "metadata": {},
     "output_type": "execute_result"
    }
   ],
   "source": [
    "df.groupby([\"Year\"]).count()[\"conversation_id\"]"
   ]
  },
  {
   "cell_type": "markdown",
   "id": "bc347932-5b68-487b-b064-3a8072782add",
   "metadata": {},
   "source": [
    "<p>Tweets nach Jahren - Deutsch</p>"
   ]
  },
  {
   "cell_type": "code",
   "execution_count": 62,
   "id": "5ba656fd-8203-4917-bf08-69f4d60878c3",
   "metadata": {},
   "outputs": [
    {
     "data": {
      "text/plain": [
       "Year\n",
       "2016     7162\n",
       "2017     6187\n",
       "2018    11191\n",
       "2019    25368\n",
       "2020    64536\n",
       "Name: conversation_id, dtype: int64"
      ]
     },
     "execution_count": 62,
     "metadata": {},
     "output_type": "execute_result"
    }
   ],
   "source": [
    "df_de.groupby([\"Year\"]).count()[\"conversation_id\"]"
   ]
  },
  {
   "cell_type": "markdown",
   "id": "74252c7b-82d3-4b9c-ae83-701d6a2b79ec",
   "metadata": {},
   "source": [
    "<p>Tweets nach Jahren - Englisch</p>"
   ]
  },
  {
   "cell_type": "code",
   "execution_count": 63,
   "id": "b6360a47-54e2-474c-8418-037dd1de8c26",
   "metadata": {},
   "outputs": [
    {
     "data": {
      "text/plain": [
       "Year\n",
       "2016     7877\n",
       "2017     7118\n",
       "2018     6978\n",
       "2019    21651\n",
       "2020    67575\n",
       "Name: conversation_id, dtype: int64"
      ]
     },
     "execution_count": 63,
     "metadata": {},
     "output_type": "execute_result"
    }
   ],
   "source": [
    "df_en.groupby([\"Year\"]).count()[\"conversation_id\"]"
   ]
  },
  {
   "cell_type": "markdown",
   "id": "efc61023-d9fc-4fdf-abde-9117b62bd50e",
   "metadata": {},
   "source": [
    "<h2>Copy Data Frames</h2>"
   ]
  },
  {
   "cell_type": "code",
   "execution_count": 12,
   "id": "0094c680-b4f2-4f64-82de-10b0f3675b59",
   "metadata": {},
   "outputs": [],
   "source": [
    "df_copy = df.copy()\n",
    "df_de_copy = df_de.copy()\n",
    "df_en_copy = df_en.copy()"
   ]
  },
  {
   "cell_type": "code",
   "execution_count": 13,
   "id": "84eea662-2c99-488c-a7a7-bd12ee2abd50",
   "metadata": {},
   "outputs": [],
   "source": [
    "df_copy[\"Month\"] = [df_copy[\"Date\"][i].month for i in range(len(df_copy))]\n",
    "df_de_copy[\"Month\"] = [df_de_copy[\"Date\"][i].month for i in range(len(df_de_copy))]\n",
    "df_en_copy[\"Month\"] = [df_en_copy[\"Date\"][i].month for i in range(len(df_en_copy))]\n",
    "df_copy[\"Year_2\"] = [df_copy[\"Date\"][i].year for i in range(len(df_copy))]\n",
    "df_de_copy[\"Year_2\"] = [df_de_copy[\"Date\"][i].year for i in range(len(df_de_copy))]\n",
    "df_en_copy[\"Year_2\"] = [df_en_copy[\"Date\"][i].year for i in range(len(df_en_copy))]"
   ]
  },
  {
   "cell_type": "markdown",
   "id": "f78f479e-ec77-40d8-a327-74dfaf6b9383",
   "metadata": {},
   "source": [
    "<p>Deutsch Analyse Ergebnisse mit BERT - Positiv</p>"
   ]
  },
  {
   "cell_type": "code",
   "execution_count": 23,
   "id": "a6befe5e-a43e-4068-adf0-dc4b09abae4e",
   "metadata": {},
   "outputs": [
    {
     "data": {
      "text/plain": [
       "Year_2\n",
       "2016     371\n",
       "2017     575\n",
       "2018     605\n",
       "2019    1146\n",
       "2020    2781\n",
       "Name: conversation_id, dtype: int64"
      ]
     },
     "execution_count": 23,
     "metadata": {},
     "output_type": "execute_result"
    }
   ],
   "source": [
    "df_de_copy.loc[df_de_copy[\"sentiment_bert_value\"] == 1].groupby([\"Year_2\"]).count()[\"conversation_id\"]"
   ]
  },
  {
   "cell_type": "markdown",
   "id": "ef945e46-fb4f-4bcd-83a6-2be006bbefd2",
   "metadata": {},
   "source": [
    "<p>Deutsch Analyse Ergebnisse mit BERT - Neutral</p>"
   ]
  },
  {
   "cell_type": "code",
   "execution_count": 25,
   "id": "9e88e5de-4581-4e92-9354-dcedf85fd9b7",
   "metadata": {},
   "outputs": [
    {
     "data": {
      "text/plain": [
       "Year_2\n",
       "2016     4696\n",
       "2017     3813\n",
       "2018     8164\n",
       "2019    17961\n",
       "2020    40678\n",
       "Name: conversation_id, dtype: int64"
      ]
     },
     "execution_count": 25,
     "metadata": {},
     "output_type": "execute_result"
    }
   ],
   "source": [
    "df_de_copy.loc[df_de_copy[\"sentiment_bert_value\"] == 0].groupby([\"Year_2\"]).count()[\"conversation_id\"]"
   ]
  },
  {
   "cell_type": "markdown",
   "id": "97092e4a-019c-4ee2-bf07-1c65d5ef11b4",
   "metadata": {},
   "source": [
    "<p>Deutsch Analyse Ergebnisse mit BERT - Negativ</p>"
   ]
  },
  {
   "cell_type": "code",
   "execution_count": 26,
   "id": "155c8919-22f1-48e6-92b2-b1fa50ac64a4",
   "metadata": {},
   "outputs": [
    {
     "data": {
      "text/plain": [
       "Year_2\n",
       "2016     2091\n",
       "2017     1803\n",
       "2018     2422\n",
       "2019     6320\n",
       "2020    21018\n",
       "Name: conversation_id, dtype: int64"
      ]
     },
     "execution_count": 26,
     "metadata": {},
     "output_type": "execute_result"
    }
   ],
   "source": [
    "df_de_copy.loc[df_de_copy[\"sentiment_bert_value\"] == -1].groupby([\"Year_2\"]).count()[\"conversation_id\"]"
   ]
  },
  {
   "cell_type": "markdown",
   "id": "e7d1bc53-f699-43d8-b77f-b394c3a10c69",
   "metadata": {},
   "source": [
    "<h3>VADER Deutsch</h3>"
   ]
  },
  {
   "cell_type": "markdown",
   "id": "28e876d2-a6b5-4dcb-af63-083d5d8f863c",
   "metadata": {},
   "source": [
    "<p>Deutsch Analyse Ergebnisse mit VADER - Positiv</p>"
   ]
  },
  {
   "cell_type": "code",
   "execution_count": 27,
   "id": "bc05072e-eda2-4107-a011-d0cd69940f3e",
   "metadata": {},
   "outputs": [
    {
     "data": {
      "text/plain": [
       "Year_2\n",
       "2016     3208\n",
       "2017     2593\n",
       "2018     5738\n",
       "2019    10968\n",
       "2020    24145\n",
       "Name: conversation_id, dtype: int64"
      ]
     },
     "execution_count": 27,
     "metadata": {},
     "output_type": "execute_result"
    }
   ],
   "source": [
    "df_de_copy.loc[df_de_copy[\"sentiment_vader_value\"] == 1].groupby([\"Year_2\"]).count()[\"conversation_id\"]"
   ]
  },
  {
   "cell_type": "markdown",
   "id": "c5d40b7c-c680-403b-a68a-423063f143e5",
   "metadata": {},
   "source": [
    "<p>Deutsch Analyse Ergebnisse mit VADER - Neutral</p>"
   ]
  },
  {
   "cell_type": "code",
   "execution_count": 28,
   "id": "142a6d11-8365-4112-ba1f-5c32b5365d48",
   "metadata": {},
   "outputs": [
    {
     "data": {
      "text/plain": [
       "Year_2\n",
       "2016     2171\n",
       "2017     1482\n",
       "2018     3002\n",
       "2019     7242\n",
       "2020    19193\n",
       "Name: conversation_id, dtype: int64"
      ]
     },
     "execution_count": 28,
     "metadata": {},
     "output_type": "execute_result"
    }
   ],
   "source": [
    "df_de_copy.loc[df_de_copy[\"sentiment_vader_value\"] == 0].groupby([\"Year_2\"]).count()[\"conversation_id\"]"
   ]
  },
  {
   "cell_type": "markdown",
   "id": "aa6a36fd-a624-4c2b-b166-8735ed885a03",
   "metadata": {},
   "source": [
    "<p>Deutsch Analyse Ergebnisse mit VADER - Negativ</p>"
   ]
  },
  {
   "cell_type": "code",
   "execution_count": 29,
   "id": "0d15dd5d-368a-4dd0-ae18-932f8fda7e84",
   "metadata": {},
   "outputs": [
    {
     "data": {
      "text/plain": [
       "Year_2\n",
       "2016     1779\n",
       "2017     2116\n",
       "2018     2451\n",
       "2019     7217\n",
       "2020    21139\n",
       "Name: conversation_id, dtype: int64"
      ]
     },
     "execution_count": 29,
     "metadata": {},
     "output_type": "execute_result"
    }
   ],
   "source": [
    "df_de_copy.loc[df_de_copy[\"sentiment_vader_value\"] == -1].groupby([\"Year_2\"]).count()[\"conversation_id\"]"
   ]
  },
  {
   "cell_type": "code",
   "execution_count": null,
   "id": "83955c38-e7e8-4cca-9450-c43ad4eb8c9f",
   "metadata": {},
   "outputs": [],
   "source": []
  },
  {
   "cell_type": "markdown",
   "id": "9769ce43-7290-4cfd-8129-5c247d014d04",
   "metadata": {},
   "source": [
    "<h3>BERT Englisch</h3>"
   ]
  },
  {
   "cell_type": "markdown",
   "id": "31dfd89c-ab66-4ab5-94af-c30dc70f7560",
   "metadata": {},
   "source": [
    "<p>Englische Analyse Ergebnisse mit BERT - Positiv</p>"
   ]
  },
  {
   "cell_type": "code",
   "execution_count": 30,
   "id": "b2961cb6-4c82-493c-98ea-40b9b96c6343",
   "metadata": {},
   "outputs": [
    {
     "data": {
      "text/plain": [
       "Year_2\n",
       "2016    1889\n",
       "2017    1915\n",
       "2018    2437\n",
       "2019    3800\n",
       "2020    5172\n",
       "Name: conversation_id, dtype: int64"
      ]
     },
     "execution_count": 30,
     "metadata": {},
     "output_type": "execute_result"
    }
   ],
   "source": [
    "df_en_copy.loc[df_en_copy[\"sentiment_bert_value\"] == 1].groupby([\"Year_2\"]).count()[\"conversation_id\"]"
   ]
  },
  {
   "cell_type": "markdown",
   "id": "2a9a0432-f871-4453-8af5-9ef821b199bb",
   "metadata": {},
   "source": [
    "<p>Englische Analyse Ergebnisse mit BERT - Neutral</p>"
   ]
  },
  {
   "cell_type": "code",
   "execution_count": 31,
   "id": "da5586b7-998c-48ce-8124-fd855e20573b",
   "metadata": {},
   "outputs": [
    {
     "data": {
      "text/plain": [
       "Year_2\n",
       "2016     5409\n",
       "2017     4902\n",
       "2018     4082\n",
       "2019    12036\n",
       "2020    34455\n",
       "Name: conversation_id, dtype: int64"
      ]
     },
     "execution_count": 31,
     "metadata": {},
     "output_type": "execute_result"
    }
   ],
   "source": [
    "df_en_copy.loc[df_en_copy[\"sentiment_bert_value\"] == 0].groupby([\"Year_2\"]).count()[\"conversation_id\"]"
   ]
  },
  {
   "cell_type": "markdown",
   "id": "01e675e4-1a37-4c9a-99cb-5723df7c9cf3",
   "metadata": {},
   "source": [
    "<p>Englische Analyse Ergebnisse mit BERT - Negativ</p>"
   ]
  },
  {
   "cell_type": "code",
   "execution_count": 32,
   "id": "2989aa0f-336e-4d4d-8070-2d47550c66fb",
   "metadata": {
    "tags": []
   },
   "outputs": [
    {
     "data": {
      "text/plain": [
       "Year_2\n",
       "2016      572\n",
       "2017      308\n",
       "2018      459\n",
       "2019     5875\n",
       "2020    27888\n",
       "Name: conversation_id, dtype: int64"
      ]
     },
     "execution_count": 32,
     "metadata": {},
     "output_type": "execute_result"
    }
   ],
   "source": [
    "df_en_copy.loc[df_en_copy[\"sentiment_bert_value\"] == -1].groupby([\"Year_2\"]).count()[\"conversation_id\"]"
   ]
  },
  {
   "cell_type": "markdown",
   "id": "6f0154a7-86fc-4cf9-bca6-b32b7f877a67",
   "metadata": {
    "tags": []
   },
   "source": [
    "<h3>VADER Englisch</h3>"
   ]
  },
  {
   "cell_type": "markdown",
   "id": "b61e5c3c-fdba-497c-9862-df0602bc4a3e",
   "metadata": {},
   "source": [
    "<p>Englische Analyse Ergebnisse mit VADER - Positiv</p>"
   ]
  },
  {
   "cell_type": "code",
   "execution_count": 33,
   "id": "f1000b1a-f7a9-4136-9727-2d0b3ab9e4c6",
   "metadata": {},
   "outputs": [
    {
     "data": {
      "text/plain": [
       "Year_2\n",
       "2016     2851\n",
       "2017     2967\n",
       "2018     3565\n",
       "2019     8519\n",
       "2020    18200\n",
       "Name: conversation_id, dtype: int64"
      ]
     },
     "execution_count": 33,
     "metadata": {},
     "output_type": "execute_result"
    }
   ],
   "source": [
    "df_en_copy.loc[df_en_copy[\"sentiment_vader_value\"] == 1].groupby([\"Year_2\"]).count()[\"conversation_id\"]"
   ]
  },
  {
   "cell_type": "markdown",
   "id": "e2ef4351-8771-4561-ac27-6d733e8670a3",
   "metadata": {},
   "source": [
    "<p>Englische Analyse Ergebnisse mit VADER - Neutral</p>"
   ]
  },
  {
   "cell_type": "code",
   "execution_count": 34,
   "id": "8fae15aa-eda1-4bf2-b06c-58f4f16ef176",
   "metadata": {},
   "outputs": [
    {
     "data": {
      "text/plain": [
       "Year_2\n",
       "2016     4020\n",
       "2017     3449\n",
       "2018     2840\n",
       "2019     7489\n",
       "2020    19431\n",
       "Name: conversation_id, dtype: int64"
      ]
     },
     "execution_count": 34,
     "metadata": {},
     "output_type": "execute_result"
    }
   ],
   "source": [
    "df_en_copy.loc[df_en_copy[\"sentiment_vader_value\"] == 0].groupby([\"Year_2\"]).count()[\"conversation_id\"]"
   ]
  },
  {
   "cell_type": "markdown",
   "id": "52002f9a-849b-480c-b57b-d815a0a87338",
   "metadata": {},
   "source": [
    "<p>Englische Analyse Ergebnisse mit VADER - Negativ</p>"
   ]
  },
  {
   "cell_type": "code",
   "execution_count": 35,
   "id": "791e8e43-469b-4f75-8a1c-e2dd46f6a25b",
   "metadata": {
    "tags": []
   },
   "outputs": [
    {
     "data": {
      "text/plain": [
       "Year_2\n",
       "2016      999\n",
       "2017      709\n",
       "2018      573\n",
       "2019     5703\n",
       "2020    29884\n",
       "Name: conversation_id, dtype: int64"
      ]
     },
     "execution_count": 35,
     "metadata": {},
     "output_type": "execute_result"
    }
   ],
   "source": [
    "df_en_copy.loc[df_en_copy[\"sentiment_vader_value\"] == -1].groupby([\"Year_2\"]).count()[\"conversation_id\"]"
   ]
  },
  {
   "cell_type": "markdown",
   "id": "9d55398e-bc15-411c-a14f-b5bc8f93fed3",
   "metadata": {},
   "source": [
    "<p>Tweets nach Jahren - Deutsch</p>"
   ]
  },
  {
   "cell_type": "code",
   "execution_count": 17,
   "id": "54fa3b40-0749-4d39-bd8c-150ad6a5c93e",
   "metadata": {},
   "outputs": [
    {
     "data": {
      "text/plain": [
       "Year_2\n",
       "2016     7158\n",
       "2017     6191\n",
       "2018    11191\n",
       "2019    25427\n",
       "2020    64477\n",
       "Name: conversation_id, dtype: int64"
      ]
     },
     "execution_count": 17,
     "metadata": {},
     "output_type": "execute_result"
    }
   ],
   "source": [
    "df_de_copy.groupby([\"Year_2\"]).count()[\"conversation_id\"]"
   ]
  },
  {
   "cell_type": "markdown",
   "id": "c81fe80e-2cc9-43d1-b83a-aca46c6efd30",
   "metadata": {},
   "source": [
    "<p>Tweets nach Jahren - Englisch</p>"
   ]
  },
  {
   "cell_type": "code",
   "execution_count": 39,
   "id": "51ecec75-32b6-46c4-a4fe-6093dd881ada",
   "metadata": {},
   "outputs": [
    {
     "data": {
      "text/plain": [
       "Year_2\n",
       "2016     7870\n",
       "2017     7125\n",
       "2018     6978\n",
       "2019    21711\n",
       "2020    67515\n",
       "Name: conversation_id, dtype: int64"
      ]
     },
     "execution_count": 39,
     "metadata": {},
     "output_type": "execute_result"
    }
   ],
   "source": [
    "df_en_copy.groupby([\"Year_2\"]).count()[\"conversation_id\"]"
   ]
  },
  {
   "cell_type": "markdown",
   "id": "a6119081-ed48-4746-99b0-258386b97618",
   "metadata": {},
   "source": [
    "<p>Tweets nach Monaten in 2018 - Deutsch und Englisch</p>"
   ]
  },
  {
   "cell_type": "code",
   "execution_count": 64,
   "id": "a76adf29-1bd4-419b-8c1b-eb9c88826ef6",
   "metadata": {},
   "outputs": [
    {
     "data": {
      "text/plain": [
       "Month\n",
       "1     1356\n",
       "2      998\n",
       "3      908\n",
       "4      882\n",
       "5      971\n",
       "6     1444\n",
       "7     1153\n",
       "8     2146\n",
       "9     2493\n",
       "10    2526\n",
       "11    1947\n",
       "12    1345\n",
       "Name: conversation_id, dtype: int64"
      ]
     },
     "execution_count": 64,
     "metadata": {},
     "output_type": "execute_result"
    }
   ],
   "source": [
    "df_copy.loc[(df_copy[\"Year_2\"] == 2018)].groupby([\"Month\"]).count()[\"conversation_id\"]"
   ]
  },
  {
   "cell_type": "markdown",
   "id": "137719e5-6838-4eea-b15e-9256b929d1b4",
   "metadata": {},
   "source": [
    "<p>Tweets nach Monaten in 2020 - Deutsch</p>"
   ]
  },
  {
   "cell_type": "code",
   "execution_count": 71,
   "id": "60b5a602-cc08-4109-8b1e-8a4224cb029c",
   "metadata": {},
   "outputs": [
    {
     "data": {
      "text/plain": [
       "Month\n",
       "1     1737\n",
       "2     1756\n",
       "3     1232\n",
       "4     2944\n",
       "5     5669\n",
       "6    28243\n",
       "7    22896\n",
       "Name: conversation_id, dtype: int64"
      ]
     },
     "execution_count": 71,
     "metadata": {},
     "output_type": "execute_result"
    }
   ],
   "source": [
    "df_de_copy.loc[(df_de_copy[\"Year_2\"] == 2020)].groupby([\"Month\"]).count()[\"conversation_id\"]"
   ]
  },
  {
   "cell_type": "markdown",
   "id": "4a8a1e53-d5f9-4952-9f9f-6187a7ffb50a",
   "metadata": {},
   "source": [
    "<p>Tweets nach Monaten in 2020 - Englisch</p>"
   ]
  },
  {
   "cell_type": "code",
   "execution_count": 72,
   "id": "885a725f-a995-4120-bcd5-eed6b6147320",
   "metadata": {},
   "outputs": [
    {
     "data": {
      "text/plain": [
       "Month\n",
       "1     1436\n",
       "2      974\n",
       "3     1033\n",
       "4     1627\n",
       "5     4181\n",
       "6    39137\n",
       "7    19127\n",
       "Name: conversation_id, dtype: int64"
      ]
     },
     "execution_count": 72,
     "metadata": {},
     "output_type": "execute_result"
    }
   ],
   "source": [
    "df_en_copy.loc[(df_en_copy[\"Year_2\"] == 2020)].groupby([\"Month\"]).count()[\"conversation_id\"]"
   ]
  },
  {
   "cell_type": "markdown",
   "id": "61f000bc-55f3-4c27-a6b0-17d067157218",
   "metadata": {},
   "source": [
    "<p>Sentiment Werte nach Monaten in 2020 - Deutsch VADER</p>"
   ]
  },
  {
   "cell_type": "code",
   "execution_count": 63,
   "id": "e045e3e8-2ef0-47bf-b397-5e0579fdd963",
   "metadata": {},
   "outputs": [
    {
     "data": {
      "text/plain": [
       "Month\n",
       "1     434\n",
       "2     408\n",
       "3     272\n",
       "4     456\n",
       "5     994\n",
       "6    1389\n",
       "7    -947\n",
       "Name: sentiment_vader_value, dtype: int64"
      ]
     },
     "execution_count": 63,
     "metadata": {},
     "output_type": "execute_result"
    }
   ],
   "source": [
    "df_de_copy.loc[(df_de_copy[\"Year_2\"] == 2020)].groupby([\"Month\"]).sum()[\"sentiment_vader_value\"]"
   ]
  },
  {
   "cell_type": "markdown",
   "id": "c0669124-fd96-44c2-b3ef-d5782c364a3f",
   "metadata": {},
   "source": [
    "<p>Sentiment Werte nach Monaten in 2020 - Deutsch und Englisch VADER</p>"
   ]
  },
  {
   "cell_type": "code",
   "execution_count": 17,
   "id": "51950075-419a-4cbc-b467-e94842aa60e4",
   "metadata": {},
   "outputs": [
    {
     "data": {
      "text/plain": [
       "Month\n",
       "1     886\n",
       "2     763\n",
       "3     570\n",
       "4     620\n",
       "5    1548\n",
       "6   -8293\n",
       "7   -4772\n",
       "Name: sentiment_vader_value, dtype: int64"
      ]
     },
     "execution_count": 17,
     "metadata": {},
     "output_type": "execute_result"
    }
   ],
   "source": [
    "df_copy.loc[(df_copy[\"Year_2\"] == 2020)].groupby([\"Month\"]).sum()[\"sentiment_vader_value\"]"
   ]
  },
  {
   "cell_type": "markdown",
   "id": "0a60e63f-f95a-49a8-8f8d-25b902a77704",
   "metadata": {},
   "source": [
    "<p>Sentiment Werte nach Monaten in 2020 - Deutsch und Englisch BERT</p>"
   ]
  },
  {
   "cell_type": "code",
   "execution_count": 18,
   "id": "f45f150c-c649-46f3-aadc-3d6540ebc67d",
   "metadata": {},
   "outputs": [
    {
     "data": {
      "text/plain": [
       "Month\n",
       "1     -301\n",
       "2     -332\n",
       "3     -187\n",
       "4    -1213\n",
       "5    -2716\n",
       "6   -25820\n",
       "7   -10384\n",
       "Name: sentiment_bert_value, dtype: int64"
      ]
     },
     "execution_count": 18,
     "metadata": {},
     "output_type": "execute_result"
    }
   ],
   "source": [
    "df_copy.loc[(df_copy[\"Year_2\"] == 2020)].groupby([\"Month\"]).sum()[\"sentiment_bert_value\"]"
   ]
  },
  {
   "cell_type": "markdown",
   "id": "68fac7b0-e743-4a18-a5ae-5360122abf54",
   "metadata": {},
   "source": [
    "<p>Sentiment Werte nach Jahren und Monaten - Deutsch und Englisch</p>"
   ]
  },
  {
   "cell_type": "code",
   "execution_count": 30,
   "id": "8b48d562-1ae3-42b1-b267-d2e62173627b",
   "metadata": {},
   "outputs": [
    {
     "data": {
      "text/html": [
       "<div>\n",
       "<style scoped>\n",
       "    .dataframe tbody tr th:only-of-type {\n",
       "        vertical-align: middle;\n",
       "    }\n",
       "\n",
       "    .dataframe tbody tr th {\n",
       "        vertical-align: top;\n",
       "    }\n",
       "\n",
       "    .dataframe thead th {\n",
       "        text-align: right;\n",
       "    }\n",
       "</style>\n",
       "<table border=\"1\" class=\"dataframe\">\n",
       "  <thead>\n",
       "    <tr style=\"text-align: right;\">\n",
       "      <th></th>\n",
       "      <th></th>\n",
       "      <th>sentiment_vader_value</th>\n",
       "      <th>sentiment_bert_value</th>\n",
       "    </tr>\n",
       "    <tr>\n",
       "      <th>Year_2</th>\n",
       "      <th>Month</th>\n",
       "      <th></th>\n",
       "      <th></th>\n",
       "    </tr>\n",
       "  </thead>\n",
       "  <tbody>\n",
       "    <tr>\n",
       "      <th rowspan=\"11\" valign=\"top\">2016</th>\n",
       "      <th>2</th>\n",
       "      <td>125</td>\n",
       "      <td>-232</td>\n",
       "    </tr>\n",
       "    <tr>\n",
       "      <th>3</th>\n",
       "      <td>175</td>\n",
       "      <td>-197</td>\n",
       "    </tr>\n",
       "    <tr>\n",
       "      <th>4</th>\n",
       "      <td>490</td>\n",
       "      <td>-104</td>\n",
       "    </tr>\n",
       "    <tr>\n",
       "      <th>5</th>\n",
       "      <td>401</td>\n",
       "      <td>135</td>\n",
       "    </tr>\n",
       "    <tr>\n",
       "      <th>6</th>\n",
       "      <td>154</td>\n",
       "      <td>-33</td>\n",
       "    </tr>\n",
       "    <tr>\n",
       "      <th>7</th>\n",
       "      <td>349</td>\n",
       "      <td>5</td>\n",
       "    </tr>\n",
       "    <tr>\n",
       "      <th>8</th>\n",
       "      <td>287</td>\n",
       "      <td>-51</td>\n",
       "    </tr>\n",
       "    <tr>\n",
       "      <th>9</th>\n",
       "      <td>378</td>\n",
       "      <td>-13</td>\n",
       "    </tr>\n",
       "    <tr>\n",
       "      <th>10</th>\n",
       "      <td>396</td>\n",
       "      <td>46</td>\n",
       "    </tr>\n",
       "    <tr>\n",
       "      <th>11</th>\n",
       "      <td>327</td>\n",
       "      <td>52</td>\n",
       "    </tr>\n",
       "    <tr>\n",
       "      <th>12</th>\n",
       "      <td>199</td>\n",
       "      <td>-11</td>\n",
       "    </tr>\n",
       "    <tr>\n",
       "      <th rowspan=\"12\" valign=\"top\">2017</th>\n",
       "      <th>1</th>\n",
       "      <td>171</td>\n",
       "      <td>-9</td>\n",
       "    </tr>\n",
       "    <tr>\n",
       "      <th>2</th>\n",
       "      <td>73</td>\n",
       "      <td>-13</td>\n",
       "    </tr>\n",
       "    <tr>\n",
       "      <th>3</th>\n",
       "      <td>141</td>\n",
       "      <td>18</td>\n",
       "    </tr>\n",
       "    <tr>\n",
       "      <th>4</th>\n",
       "      <td>164</td>\n",
       "      <td>-19</td>\n",
       "    </tr>\n",
       "    <tr>\n",
       "      <th>5</th>\n",
       "      <td>196</td>\n",
       "      <td>39</td>\n",
       "    </tr>\n",
       "    <tr>\n",
       "      <th>6</th>\n",
       "      <td>227</td>\n",
       "      <td>47</td>\n",
       "    </tr>\n",
       "    <tr>\n",
       "      <th>7</th>\n",
       "      <td>342</td>\n",
       "      <td>60</td>\n",
       "    </tr>\n",
       "    <tr>\n",
       "      <th>8</th>\n",
       "      <td>350</td>\n",
       "      <td>5</td>\n",
       "    </tr>\n",
       "    <tr>\n",
       "      <th>9</th>\n",
       "      <td>266</td>\n",
       "      <td>93</td>\n",
       "    </tr>\n",
       "    <tr>\n",
       "      <th>10</th>\n",
       "      <td>274</td>\n",
       "      <td>32</td>\n",
       "    </tr>\n",
       "    <tr>\n",
       "      <th>11</th>\n",
       "      <td>317</td>\n",
       "      <td>53</td>\n",
       "    </tr>\n",
       "    <tr>\n",
       "      <th>12</th>\n",
       "      <td>214</td>\n",
       "      <td>73</td>\n",
       "    </tr>\n",
       "    <tr>\n",
       "      <th rowspan=\"12\" valign=\"top\">2018</th>\n",
       "      <th>1</th>\n",
       "      <td>415</td>\n",
       "      <td>-3</td>\n",
       "    </tr>\n",
       "    <tr>\n",
       "      <th>2</th>\n",
       "      <td>370</td>\n",
       "      <td>69</td>\n",
       "    </tr>\n",
       "    <tr>\n",
       "      <th>3</th>\n",
       "      <td>388</td>\n",
       "      <td>81</td>\n",
       "    </tr>\n",
       "    <tr>\n",
       "      <th>4</th>\n",
       "      <td>430</td>\n",
       "      <td>82</td>\n",
       "    </tr>\n",
       "    <tr>\n",
       "      <th>5</th>\n",
       "      <td>445</td>\n",
       "      <td>122</td>\n",
       "    </tr>\n",
       "    <tr>\n",
       "      <th>6</th>\n",
       "      <td>469</td>\n",
       "      <td>35</td>\n",
       "    </tr>\n",
       "    <tr>\n",
       "      <th>7</th>\n",
       "      <td>505</td>\n",
       "      <td>84</td>\n",
       "    </tr>\n",
       "    <tr>\n",
       "      <th>8</th>\n",
       "      <td>730</td>\n",
       "      <td>-69</td>\n",
       "    </tr>\n",
       "    <tr>\n",
       "      <th>9</th>\n",
       "      <td>771</td>\n",
       "      <td>-25</td>\n",
       "    </tr>\n",
       "    <tr>\n",
       "      <th>10</th>\n",
       "      <td>845</td>\n",
       "      <td>44</td>\n",
       "    </tr>\n",
       "    <tr>\n",
       "      <th>11</th>\n",
       "      <td>563</td>\n",
       "      <td>-163</td>\n",
       "    </tr>\n",
       "    <tr>\n",
       "      <th>12</th>\n",
       "      <td>348</td>\n",
       "      <td>-96</td>\n",
       "    </tr>\n",
       "    <tr>\n",
       "      <th rowspan=\"12\" valign=\"top\">2019</th>\n",
       "      <th>1</th>\n",
       "      <td>535</td>\n",
       "      <td>-199</td>\n",
       "    </tr>\n",
       "    <tr>\n",
       "      <th>2</th>\n",
       "      <td>-606</td>\n",
       "      <td>-2436</td>\n",
       "    </tr>\n",
       "    <tr>\n",
       "      <th>3</th>\n",
       "      <td>401</td>\n",
       "      <td>-1277</td>\n",
       "    </tr>\n",
       "    <tr>\n",
       "      <th>4</th>\n",
       "      <td>980</td>\n",
       "      <td>-877</td>\n",
       "    </tr>\n",
       "    <tr>\n",
       "      <th>5</th>\n",
       "      <td>950</td>\n",
       "      <td>-241</td>\n",
       "    </tr>\n",
       "    <tr>\n",
       "      <th>6</th>\n",
       "      <td>445</td>\n",
       "      <td>-106</td>\n",
       "    </tr>\n",
       "    <tr>\n",
       "      <th>7</th>\n",
       "      <td>586</td>\n",
       "      <td>-110</td>\n",
       "    </tr>\n",
       "    <tr>\n",
       "      <th>8</th>\n",
       "      <td>556</td>\n",
       "      <td>-14</td>\n",
       "    </tr>\n",
       "    <tr>\n",
       "      <th>9</th>\n",
       "      <td>850</td>\n",
       "      <td>-52</td>\n",
       "    </tr>\n",
       "    <tr>\n",
       "      <th>10</th>\n",
       "      <td>492</td>\n",
       "      <td>-880</td>\n",
       "    </tr>\n",
       "    <tr>\n",
       "      <th>11</th>\n",
       "      <td>867</td>\n",
       "      <td>-335</td>\n",
       "    </tr>\n",
       "    <tr>\n",
       "      <th>12</th>\n",
       "      <td>511</td>\n",
       "      <td>-722</td>\n",
       "    </tr>\n",
       "    <tr>\n",
       "      <th rowspan=\"7\" valign=\"top\">2020</th>\n",
       "      <th>1</th>\n",
       "      <td>886</td>\n",
       "      <td>-301</td>\n",
       "    </tr>\n",
       "    <tr>\n",
       "      <th>2</th>\n",
       "      <td>763</td>\n",
       "      <td>-332</td>\n",
       "    </tr>\n",
       "    <tr>\n",
       "      <th>3</th>\n",
       "      <td>570</td>\n",
       "      <td>-187</td>\n",
       "    </tr>\n",
       "    <tr>\n",
       "      <th>4</th>\n",
       "      <td>620</td>\n",
       "      <td>-1213</td>\n",
       "    </tr>\n",
       "    <tr>\n",
       "      <th>5</th>\n",
       "      <td>1548</td>\n",
       "      <td>-2716</td>\n",
       "    </tr>\n",
       "    <tr>\n",
       "      <th>6</th>\n",
       "      <td>-8293</td>\n",
       "      <td>-25820</td>\n",
       "    </tr>\n",
       "    <tr>\n",
       "      <th>7</th>\n",
       "      <td>-4772</td>\n",
       "      <td>-10384</td>\n",
       "    </tr>\n",
       "  </tbody>\n",
       "</table>\n",
       "</div>"
      ],
      "text/plain": [
       "              sentiment_vader_value  sentiment_bert_value\n",
       "Year_2 Month                                             \n",
       "2016   2                        125                  -232\n",
       "       3                        175                  -197\n",
       "       4                        490                  -104\n",
       "       5                        401                   135\n",
       "       6                        154                   -33\n",
       "       7                        349                     5\n",
       "       8                        287                   -51\n",
       "       9                        378                   -13\n",
       "       10                       396                    46\n",
       "       11                       327                    52\n",
       "       12                       199                   -11\n",
       "2017   1                        171                    -9\n",
       "       2                         73                   -13\n",
       "       3                        141                    18\n",
       "       4                        164                   -19\n",
       "       5                        196                    39\n",
       "       6                        227                    47\n",
       "       7                        342                    60\n",
       "       8                        350                     5\n",
       "       9                        266                    93\n",
       "       10                       274                    32\n",
       "       11                       317                    53\n",
       "       12                       214                    73\n",
       "2018   1                        415                    -3\n",
       "       2                        370                    69\n",
       "       3                        388                    81\n",
       "       4                        430                    82\n",
       "       5                        445                   122\n",
       "       6                        469                    35\n",
       "       7                        505                    84\n",
       "       8                        730                   -69\n",
       "       9                        771                   -25\n",
       "       10                       845                    44\n",
       "       11                       563                  -163\n",
       "       12                       348                   -96\n",
       "2019   1                        535                  -199\n",
       "       2                       -606                 -2436\n",
       "       3                        401                 -1277\n",
       "       4                        980                  -877\n",
       "       5                        950                  -241\n",
       "       6                        445                  -106\n",
       "       7                        586                  -110\n",
       "       8                        556                   -14\n",
       "       9                        850                   -52\n",
       "       10                       492                  -880\n",
       "       11                       867                  -335\n",
       "       12                       511                  -722\n",
       "2020   1                        886                  -301\n",
       "       2                        763                  -332\n",
       "       3                        570                  -187\n",
       "       4                        620                 -1213\n",
       "       5                       1548                 -2716\n",
       "       6                      -8293                -25820\n",
       "       7                      -4772                -10384"
      ]
     },
     "execution_count": 30,
     "metadata": {},
     "output_type": "execute_result"
    }
   ],
   "source": [
    "df_copy.groupby([\"Year_2\", \"Month\"]).sum()[[\"sentiment_vader_value\", \"sentiment_bert_value\"]]"
   ]
  }
 ],
 "metadata": {
  "kernelspec": {
   "display_name": "master_thesis_3.9.10",
   "language": "python",
   "name": "master_thesis_3.9.10"
  },
  "language_info": {
   "codemirror_mode": {
    "name": "ipython",
    "version": 3
   },
   "file_extension": ".py",
   "mimetype": "text/x-python",
   "name": "python",
   "nbconvert_exporter": "python",
   "pygments_lexer": "ipython3",
   "version": "3.9.10"
  }
 },
 "nbformat": 4,
 "nbformat_minor": 5
}
